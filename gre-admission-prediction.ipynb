{
 "cells": [
  {
   "cell_type": "code",
   "execution_count": 1,
   "id": "811f4a01",
   "metadata": {
    "_cell_guid": "b1076dfc-b9ad-4769-8c92-a6c4dae69d19",
    "_uuid": "8f2839f25d086af736a60e9eeb907d3b93b6e0e5",
    "execution": {
     "iopub.execute_input": "2023-04-17T15:18:58.550835Z",
     "iopub.status.busy": "2023-04-17T15:18:58.550381Z",
     "iopub.status.idle": "2023-04-17T15:18:58.567070Z",
     "shell.execute_reply": "2023-04-17T15:18:58.565781Z"
    },
    "papermill": {
     "duration": 0.027626,
     "end_time": "2023-04-17T15:18:58.569647",
     "exception": false,
     "start_time": "2023-04-17T15:18:58.542021",
     "status": "completed"
    },
    "tags": []
   },
   "outputs": [
    {
     "name": "stdout",
     "output_type": "stream",
     "text": [
      "/kaggle/input/graduate-admissions/Admission_Predict.csv\n",
      "/kaggle/input/graduate-admissions/Admission_Predict_Ver1.1.csv\n"
     ]
    }
   ],
   "source": [
    "# This Python 3 environment comes with many helpful analytics libraries installed\n",
    "# It is defined by the kaggle/python Docker image: https://github.com/kaggle/docker-python\n",
    "# For example, here's several helpful packages to load\n",
    "\n",
    "import numpy as np # linear algebra\n",
    "import pandas as pd # data processing, CSV file I/O (e.g. pd.read_csv)\n",
    "\n",
    "# Input data files are available in the read-only \"../input/\" directory\n",
    "# For example, running this (by clicking run or pressing Shift+Enter) will list all files under the input directory\n",
    "\n",
    "import os\n",
    "for dirname, _, filenames in os.walk('/kaggle/input'):\n",
    "    for filename in filenames:\n",
    "        print(os.path.join(dirname, filename))\n",
    "\n",
    "# You can write up to 20GB to the current directory (/kaggle/working/) that gets preserved as output when you create a version using \"Save & Run All\" \n",
    "# You can also write temporary files to /kaggle/temp/, but they won't be saved outside of the current session"
   ]
  },
  {
   "cell_type": "code",
   "execution_count": 2,
   "id": "7b970d9b",
   "metadata": {
    "execution": {
     "iopub.execute_input": "2023-04-17T15:18:58.583451Z",
     "iopub.status.busy": "2023-04-17T15:18:58.582396Z",
     "iopub.status.idle": "2023-04-17T15:19:06.755818Z",
     "shell.execute_reply": "2023-04-17T15:19:06.754450Z"
    },
    "papermill": {
     "duration": 8.183549,
     "end_time": "2023-04-17T15:19:06.758841",
     "exception": false,
     "start_time": "2023-04-17T15:18:58.575292",
     "status": "completed"
    },
    "tags": []
   },
   "outputs": [],
   "source": [
    "from tensorflow import keras\n",
    "from keras import Sequential\n",
    "from keras.layers import Dense"
   ]
  },
  {
   "cell_type": "code",
   "execution_count": 3,
   "id": "3962a8a6",
   "metadata": {
    "execution": {
     "iopub.execute_input": "2023-04-17T15:19:06.772387Z",
     "iopub.status.busy": "2023-04-17T15:19:06.771202Z",
     "iopub.status.idle": "2023-04-17T15:19:06.794246Z",
     "shell.execute_reply": "2023-04-17T15:19:06.792961Z"
    },
    "papermill": {
     "duration": 0.032877,
     "end_time": "2023-04-17T15:19:06.797123",
     "exception": false,
     "start_time": "2023-04-17T15:19:06.764246",
     "status": "completed"
    },
    "tags": []
   },
   "outputs": [],
   "source": [
    "df = pd.read_csv('/kaggle/input/graduate-admissions/Admission_Predict_Ver1.1.csv')"
   ]
  },
  {
   "cell_type": "code",
   "execution_count": 4,
   "id": "48f4ab3c",
   "metadata": {
    "execution": {
     "iopub.execute_input": "2023-04-17T15:19:06.810279Z",
     "iopub.status.busy": "2023-04-17T15:19:06.809145Z",
     "iopub.status.idle": "2023-04-17T15:19:06.839539Z",
     "shell.execute_reply": "2023-04-17T15:19:06.838244Z"
    },
    "papermill": {
     "duration": 0.039542,
     "end_time": "2023-04-17T15:19:06.842140",
     "exception": false,
     "start_time": "2023-04-17T15:19:06.802598",
     "status": "completed"
    },
    "tags": []
   },
   "outputs": [
    {
     "data": {
      "text/html": [
       "<div>\n",
       "<style scoped>\n",
       "    .dataframe tbody tr th:only-of-type {\n",
       "        vertical-align: middle;\n",
       "    }\n",
       "\n",
       "    .dataframe tbody tr th {\n",
       "        vertical-align: top;\n",
       "    }\n",
       "\n",
       "    .dataframe thead th {\n",
       "        text-align: right;\n",
       "    }\n",
       "</style>\n",
       "<table border=\"1\" class=\"dataframe\">\n",
       "  <thead>\n",
       "    <tr style=\"text-align: right;\">\n",
       "      <th></th>\n",
       "      <th>Serial No.</th>\n",
       "      <th>GRE Score</th>\n",
       "      <th>TOEFL Score</th>\n",
       "      <th>University Rating</th>\n",
       "      <th>SOP</th>\n",
       "      <th>LOR</th>\n",
       "      <th>CGPA</th>\n",
       "      <th>Research</th>\n",
       "      <th>Chance of Admit</th>\n",
       "    </tr>\n",
       "  </thead>\n",
       "  <tbody>\n",
       "    <tr>\n",
       "      <th>0</th>\n",
       "      <td>1</td>\n",
       "      <td>337</td>\n",
       "      <td>118</td>\n",
       "      <td>4</td>\n",
       "      <td>4.5</td>\n",
       "      <td>4.5</td>\n",
       "      <td>9.65</td>\n",
       "      <td>1</td>\n",
       "      <td>0.92</td>\n",
       "    </tr>\n",
       "    <tr>\n",
       "      <th>1</th>\n",
       "      <td>2</td>\n",
       "      <td>324</td>\n",
       "      <td>107</td>\n",
       "      <td>4</td>\n",
       "      <td>4.0</td>\n",
       "      <td>4.5</td>\n",
       "      <td>8.87</td>\n",
       "      <td>1</td>\n",
       "      <td>0.76</td>\n",
       "    </tr>\n",
       "    <tr>\n",
       "      <th>2</th>\n",
       "      <td>3</td>\n",
       "      <td>316</td>\n",
       "      <td>104</td>\n",
       "      <td>3</td>\n",
       "      <td>3.0</td>\n",
       "      <td>3.5</td>\n",
       "      <td>8.00</td>\n",
       "      <td>1</td>\n",
       "      <td>0.72</td>\n",
       "    </tr>\n",
       "    <tr>\n",
       "      <th>3</th>\n",
       "      <td>4</td>\n",
       "      <td>322</td>\n",
       "      <td>110</td>\n",
       "      <td>3</td>\n",
       "      <td>3.5</td>\n",
       "      <td>2.5</td>\n",
       "      <td>8.67</td>\n",
       "      <td>1</td>\n",
       "      <td>0.80</td>\n",
       "    </tr>\n",
       "    <tr>\n",
       "      <th>4</th>\n",
       "      <td>5</td>\n",
       "      <td>314</td>\n",
       "      <td>103</td>\n",
       "      <td>2</td>\n",
       "      <td>2.0</td>\n",
       "      <td>3.0</td>\n",
       "      <td>8.21</td>\n",
       "      <td>0</td>\n",
       "      <td>0.65</td>\n",
       "    </tr>\n",
       "  </tbody>\n",
       "</table>\n",
       "</div>"
      ],
      "text/plain": [
       "   Serial No.  GRE Score  TOEFL Score  University Rating  SOP  LOR   CGPA  \\\n",
       "0           1        337          118                  4  4.5   4.5  9.65   \n",
       "1           2        324          107                  4  4.0   4.5  8.87   \n",
       "2           3        316          104                  3  3.0   3.5  8.00   \n",
       "3           4        322          110                  3  3.5   2.5  8.67   \n",
       "4           5        314          103                  2  2.0   3.0  8.21   \n",
       "\n",
       "   Research  Chance of Admit   \n",
       "0         1              0.92  \n",
       "1         1              0.76  \n",
       "2         1              0.72  \n",
       "3         1              0.80  \n",
       "4         0              0.65  "
      ]
     },
     "execution_count": 4,
     "metadata": {},
     "output_type": "execute_result"
    }
   ],
   "source": [
    "df.head()"
   ]
  },
  {
   "cell_type": "code",
   "execution_count": 5,
   "id": "ae14c7d5",
   "metadata": {
    "execution": {
     "iopub.execute_input": "2023-04-17T15:19:06.855567Z",
     "iopub.status.busy": "2023-04-17T15:19:06.854838Z",
     "iopub.status.idle": "2023-04-17T15:19:06.862111Z",
     "shell.execute_reply": "2023-04-17T15:19:06.860842Z"
    },
    "papermill": {
     "duration": 0.016928,
     "end_time": "2023-04-17T15:19:06.864633",
     "exception": false,
     "start_time": "2023-04-17T15:19:06.847705",
     "status": "completed"
    },
    "tags": []
   },
   "outputs": [
    {
     "data": {
      "text/plain": [
       "(500, 9)"
      ]
     },
     "execution_count": 5,
     "metadata": {},
     "output_type": "execute_result"
    }
   ],
   "source": [
    "df.shape"
   ]
  },
  {
   "cell_type": "code",
   "execution_count": 6,
   "id": "bd342371",
   "metadata": {
    "execution": {
     "iopub.execute_input": "2023-04-17T15:19:06.877669Z",
     "iopub.status.busy": "2023-04-17T15:19:06.877263Z",
     "iopub.status.idle": "2023-04-17T15:19:06.901354Z",
     "shell.execute_reply": "2023-04-17T15:19:06.900164Z"
    },
    "papermill": {
     "duration": 0.033663,
     "end_time": "2023-04-17T15:19:06.903953",
     "exception": false,
     "start_time": "2023-04-17T15:19:06.870290",
     "status": "completed"
    },
    "tags": []
   },
   "outputs": [
    {
     "name": "stdout",
     "output_type": "stream",
     "text": [
      "<class 'pandas.core.frame.DataFrame'>\n",
      "RangeIndex: 500 entries, 0 to 499\n",
      "Data columns (total 9 columns):\n",
      " #   Column             Non-Null Count  Dtype  \n",
      "---  ------             --------------  -----  \n",
      " 0   Serial No.         500 non-null    int64  \n",
      " 1   GRE Score          500 non-null    int64  \n",
      " 2   TOEFL Score        500 non-null    int64  \n",
      " 3   University Rating  500 non-null    int64  \n",
      " 4   SOP                500 non-null    float64\n",
      " 5   LOR                500 non-null    float64\n",
      " 6   CGPA               500 non-null    float64\n",
      " 7   Research           500 non-null    int64  \n",
      " 8   Chance of Admit    500 non-null    float64\n",
      "dtypes: float64(4), int64(5)\n",
      "memory usage: 35.3 KB\n"
     ]
    }
   ],
   "source": [
    "df.info()"
   ]
  },
  {
   "cell_type": "code",
   "execution_count": 7,
   "id": "b037d8cb",
   "metadata": {
    "execution": {
     "iopub.execute_input": "2023-04-17T15:19:06.917193Z",
     "iopub.status.busy": "2023-04-17T15:19:06.916740Z",
     "iopub.status.idle": "2023-04-17T15:19:06.957194Z",
     "shell.execute_reply": "2023-04-17T15:19:06.955868Z"
    },
    "papermill": {
     "duration": 0.049934,
     "end_time": "2023-04-17T15:19:06.959679",
     "exception": false,
     "start_time": "2023-04-17T15:19:06.909745",
     "status": "completed"
    },
    "tags": []
   },
   "outputs": [
    {
     "data": {
      "text/html": [
       "<div>\n",
       "<style scoped>\n",
       "    .dataframe tbody tr th:only-of-type {\n",
       "        vertical-align: middle;\n",
       "    }\n",
       "\n",
       "    .dataframe tbody tr th {\n",
       "        vertical-align: top;\n",
       "    }\n",
       "\n",
       "    .dataframe thead th {\n",
       "        text-align: right;\n",
       "    }\n",
       "</style>\n",
       "<table border=\"1\" class=\"dataframe\">\n",
       "  <thead>\n",
       "    <tr style=\"text-align: right;\">\n",
       "      <th></th>\n",
       "      <th>Serial No.</th>\n",
       "      <th>GRE Score</th>\n",
       "      <th>TOEFL Score</th>\n",
       "      <th>University Rating</th>\n",
       "      <th>SOP</th>\n",
       "      <th>LOR</th>\n",
       "      <th>CGPA</th>\n",
       "      <th>Research</th>\n",
       "      <th>Chance of Admit</th>\n",
       "    </tr>\n",
       "  </thead>\n",
       "  <tbody>\n",
       "    <tr>\n",
       "      <th>count</th>\n",
       "      <td>500.000000</td>\n",
       "      <td>500.000000</td>\n",
       "      <td>500.000000</td>\n",
       "      <td>500.000000</td>\n",
       "      <td>500.000000</td>\n",
       "      <td>500.00000</td>\n",
       "      <td>500.000000</td>\n",
       "      <td>500.000000</td>\n",
       "      <td>500.00000</td>\n",
       "    </tr>\n",
       "    <tr>\n",
       "      <th>mean</th>\n",
       "      <td>250.500000</td>\n",
       "      <td>316.472000</td>\n",
       "      <td>107.192000</td>\n",
       "      <td>3.114000</td>\n",
       "      <td>3.374000</td>\n",
       "      <td>3.48400</td>\n",
       "      <td>8.576440</td>\n",
       "      <td>0.560000</td>\n",
       "      <td>0.72174</td>\n",
       "    </tr>\n",
       "    <tr>\n",
       "      <th>std</th>\n",
       "      <td>144.481833</td>\n",
       "      <td>11.295148</td>\n",
       "      <td>6.081868</td>\n",
       "      <td>1.143512</td>\n",
       "      <td>0.991004</td>\n",
       "      <td>0.92545</td>\n",
       "      <td>0.604813</td>\n",
       "      <td>0.496884</td>\n",
       "      <td>0.14114</td>\n",
       "    </tr>\n",
       "    <tr>\n",
       "      <th>min</th>\n",
       "      <td>1.000000</td>\n",
       "      <td>290.000000</td>\n",
       "      <td>92.000000</td>\n",
       "      <td>1.000000</td>\n",
       "      <td>1.000000</td>\n",
       "      <td>1.00000</td>\n",
       "      <td>6.800000</td>\n",
       "      <td>0.000000</td>\n",
       "      <td>0.34000</td>\n",
       "    </tr>\n",
       "    <tr>\n",
       "      <th>25%</th>\n",
       "      <td>125.750000</td>\n",
       "      <td>308.000000</td>\n",
       "      <td>103.000000</td>\n",
       "      <td>2.000000</td>\n",
       "      <td>2.500000</td>\n",
       "      <td>3.00000</td>\n",
       "      <td>8.127500</td>\n",
       "      <td>0.000000</td>\n",
       "      <td>0.63000</td>\n",
       "    </tr>\n",
       "    <tr>\n",
       "      <th>50%</th>\n",
       "      <td>250.500000</td>\n",
       "      <td>317.000000</td>\n",
       "      <td>107.000000</td>\n",
       "      <td>3.000000</td>\n",
       "      <td>3.500000</td>\n",
       "      <td>3.50000</td>\n",
       "      <td>8.560000</td>\n",
       "      <td>1.000000</td>\n",
       "      <td>0.72000</td>\n",
       "    </tr>\n",
       "    <tr>\n",
       "      <th>75%</th>\n",
       "      <td>375.250000</td>\n",
       "      <td>325.000000</td>\n",
       "      <td>112.000000</td>\n",
       "      <td>4.000000</td>\n",
       "      <td>4.000000</td>\n",
       "      <td>4.00000</td>\n",
       "      <td>9.040000</td>\n",
       "      <td>1.000000</td>\n",
       "      <td>0.82000</td>\n",
       "    </tr>\n",
       "    <tr>\n",
       "      <th>max</th>\n",
       "      <td>500.000000</td>\n",
       "      <td>340.000000</td>\n",
       "      <td>120.000000</td>\n",
       "      <td>5.000000</td>\n",
       "      <td>5.000000</td>\n",
       "      <td>5.00000</td>\n",
       "      <td>9.920000</td>\n",
       "      <td>1.000000</td>\n",
       "      <td>0.97000</td>\n",
       "    </tr>\n",
       "  </tbody>\n",
       "</table>\n",
       "</div>"
      ],
      "text/plain": [
       "       Serial No.   GRE Score  TOEFL Score  University Rating         SOP  \\\n",
       "count  500.000000  500.000000   500.000000         500.000000  500.000000   \n",
       "mean   250.500000  316.472000   107.192000           3.114000    3.374000   \n",
       "std    144.481833   11.295148     6.081868           1.143512    0.991004   \n",
       "min      1.000000  290.000000    92.000000           1.000000    1.000000   \n",
       "25%    125.750000  308.000000   103.000000           2.000000    2.500000   \n",
       "50%    250.500000  317.000000   107.000000           3.000000    3.500000   \n",
       "75%    375.250000  325.000000   112.000000           4.000000    4.000000   \n",
       "max    500.000000  340.000000   120.000000           5.000000    5.000000   \n",
       "\n",
       "            LOR         CGPA    Research  Chance of Admit   \n",
       "count  500.00000  500.000000  500.000000         500.00000  \n",
       "mean     3.48400    8.576440    0.560000           0.72174  \n",
       "std      0.92545    0.604813    0.496884           0.14114  \n",
       "min      1.00000    6.800000    0.000000           0.34000  \n",
       "25%      3.00000    8.127500    0.000000           0.63000  \n",
       "50%      3.50000    8.560000    1.000000           0.72000  \n",
       "75%      4.00000    9.040000    1.000000           0.82000  \n",
       "max      5.00000    9.920000    1.000000           0.97000  "
      ]
     },
     "execution_count": 7,
     "metadata": {},
     "output_type": "execute_result"
    }
   ],
   "source": [
    "df.describe()"
   ]
  },
  {
   "cell_type": "code",
   "execution_count": 8,
   "id": "77799101",
   "metadata": {
    "execution": {
     "iopub.execute_input": "2023-04-17T15:19:06.974154Z",
     "iopub.status.busy": "2023-04-17T15:19:06.973300Z",
     "iopub.status.idle": "2023-04-17T15:19:06.982883Z",
     "shell.execute_reply": "2023-04-17T15:19:06.981664Z"
    },
    "papermill": {
     "duration": 0.019299,
     "end_time": "2023-04-17T15:19:06.985141",
     "exception": false,
     "start_time": "2023-04-17T15:19:06.965842",
     "status": "completed"
    },
    "tags": []
   },
   "outputs": [
    {
     "data": {
      "text/plain": [
       "Serial No.           0\n",
       "GRE Score            0\n",
       "TOEFL Score          0\n",
       "University Rating    0\n",
       "SOP                  0\n",
       "LOR                  0\n",
       "CGPA                 0\n",
       "Research             0\n",
       "Chance of Admit      0\n",
       "dtype: int64"
      ]
     },
     "execution_count": 8,
     "metadata": {},
     "output_type": "execute_result"
    }
   ],
   "source": [
    "df.isnull().sum()"
   ]
  },
  {
   "cell_type": "code",
   "execution_count": 9,
   "id": "0baf821a",
   "metadata": {
    "execution": {
     "iopub.execute_input": "2023-04-17T15:19:06.999348Z",
     "iopub.status.busy": "2023-04-17T15:19:06.998926Z",
     "iopub.status.idle": "2023-04-17T15:19:07.006312Z",
     "shell.execute_reply": "2023-04-17T15:19:07.005354Z"
    },
    "papermill": {
     "duration": 0.017464,
     "end_time": "2023-04-17T15:19:07.008721",
     "exception": false,
     "start_time": "2023-04-17T15:19:06.991257",
     "status": "completed"
    },
    "tags": []
   },
   "outputs": [],
   "source": [
    "df.drop(columns=['Serial No.'],inplace=True)"
   ]
  },
  {
   "cell_type": "code",
   "execution_count": 10,
   "id": "53feefe2",
   "metadata": {
    "execution": {
     "iopub.execute_input": "2023-04-17T15:19:07.024917Z",
     "iopub.status.busy": "2023-04-17T15:19:07.023622Z",
     "iopub.status.idle": "2023-04-17T15:19:07.040641Z",
     "shell.execute_reply": "2023-04-17T15:19:07.039449Z"
    },
    "papermill": {
     "duration": 0.027426,
     "end_time": "2023-04-17T15:19:07.043052",
     "exception": false,
     "start_time": "2023-04-17T15:19:07.015626",
     "status": "completed"
    },
    "tags": []
   },
   "outputs": [
    {
     "data": {
      "text/html": [
       "<div>\n",
       "<style scoped>\n",
       "    .dataframe tbody tr th:only-of-type {\n",
       "        vertical-align: middle;\n",
       "    }\n",
       "\n",
       "    .dataframe tbody tr th {\n",
       "        vertical-align: top;\n",
       "    }\n",
       "\n",
       "    .dataframe thead th {\n",
       "        text-align: right;\n",
       "    }\n",
       "</style>\n",
       "<table border=\"1\" class=\"dataframe\">\n",
       "  <thead>\n",
       "    <tr style=\"text-align: right;\">\n",
       "      <th></th>\n",
       "      <th>GRE Score</th>\n",
       "      <th>TOEFL Score</th>\n",
       "      <th>University Rating</th>\n",
       "      <th>SOP</th>\n",
       "      <th>LOR</th>\n",
       "      <th>CGPA</th>\n",
       "      <th>Research</th>\n",
       "      <th>Chance of Admit</th>\n",
       "    </tr>\n",
       "  </thead>\n",
       "  <tbody>\n",
       "    <tr>\n",
       "      <th>426</th>\n",
       "      <td>312</td>\n",
       "      <td>106</td>\n",
       "      <td>3</td>\n",
       "      <td>3.0</td>\n",
       "      <td>5.0</td>\n",
       "      <td>8.57</td>\n",
       "      <td>0</td>\n",
       "      <td>0.71</td>\n",
       "    </tr>\n",
       "    <tr>\n",
       "      <th>93</th>\n",
       "      <td>301</td>\n",
       "      <td>97</td>\n",
       "      <td>2</td>\n",
       "      <td>3.0</td>\n",
       "      <td>3.0</td>\n",
       "      <td>7.88</td>\n",
       "      <td>1</td>\n",
       "      <td>0.44</td>\n",
       "    </tr>\n",
       "    <tr>\n",
       "      <th>102</th>\n",
       "      <td>314</td>\n",
       "      <td>106</td>\n",
       "      <td>2</td>\n",
       "      <td>4.0</td>\n",
       "      <td>3.5</td>\n",
       "      <td>8.25</td>\n",
       "      <td>0</td>\n",
       "      <td>0.62</td>\n",
       "    </tr>\n",
       "    <tr>\n",
       "      <th>179</th>\n",
       "      <td>307</td>\n",
       "      <td>102</td>\n",
       "      <td>3</td>\n",
       "      <td>3.0</td>\n",
       "      <td>3.0</td>\n",
       "      <td>8.27</td>\n",
       "      <td>0</td>\n",
       "      <td>0.73</td>\n",
       "    </tr>\n",
       "    <tr>\n",
       "      <th>495</th>\n",
       "      <td>332</td>\n",
       "      <td>108</td>\n",
       "      <td>5</td>\n",
       "      <td>4.5</td>\n",
       "      <td>4.0</td>\n",
       "      <td>9.02</td>\n",
       "      <td>1</td>\n",
       "      <td>0.87</td>\n",
       "    </tr>\n",
       "  </tbody>\n",
       "</table>\n",
       "</div>"
      ],
      "text/plain": [
       "     GRE Score  TOEFL Score  University Rating  SOP  LOR   CGPA  Research  \\\n",
       "426        312          106                  3  3.0   5.0  8.57         0   \n",
       "93         301           97                  2  3.0   3.0  7.88         1   \n",
       "102        314          106                  2  4.0   3.5  8.25         0   \n",
       "179        307          102                  3  3.0   3.0  8.27         0   \n",
       "495        332          108                  5  4.5   4.0  9.02         1   \n",
       "\n",
       "     Chance of Admit   \n",
       "426              0.71  \n",
       "93               0.44  \n",
       "102              0.62  \n",
       "179              0.73  \n",
       "495              0.87  "
      ]
     },
     "execution_count": 10,
     "metadata": {},
     "output_type": "execute_result"
    }
   ],
   "source": [
    "df.sample(5)"
   ]
  },
  {
   "cell_type": "code",
   "execution_count": 11,
   "id": "24002086",
   "metadata": {
    "execution": {
     "iopub.execute_input": "2023-04-17T15:19:07.059079Z",
     "iopub.status.busy": "2023-04-17T15:19:07.058242Z",
     "iopub.status.idle": "2023-04-17T15:19:07.064275Z",
     "shell.execute_reply": "2023-04-17T15:19:07.063407Z"
    },
    "papermill": {
     "duration": 0.017163,
     "end_time": "2023-04-17T15:19:07.066570",
     "exception": false,
     "start_time": "2023-04-17T15:19:07.049407",
     "status": "completed"
    },
    "tags": []
   },
   "outputs": [],
   "source": [
    "X = df.iloc[:,0:-1]\n",
    "Y = df.iloc[:,-1]"
   ]
  },
  {
   "cell_type": "code",
   "execution_count": 12,
   "id": "98076ec1",
   "metadata": {
    "execution": {
     "iopub.execute_input": "2023-04-17T15:19:07.081741Z",
     "iopub.status.busy": "2023-04-17T15:19:07.080918Z",
     "iopub.status.idle": "2023-04-17T15:19:07.703741Z",
     "shell.execute_reply": "2023-04-17T15:19:07.702501Z"
    },
    "papermill": {
     "duration": 0.634298,
     "end_time": "2023-04-17T15:19:07.707218",
     "exception": false,
     "start_time": "2023-04-17T15:19:07.072920",
     "status": "completed"
    },
    "tags": []
   },
   "outputs": [],
   "source": [
    "from sklearn.model_selection import train_test_split\n",
    "X_train,X_test,Y_train,Y_test = train_test_split(X,Y,test_size=0.2,random_state=1)"
   ]
  },
  {
   "cell_type": "code",
   "execution_count": 13,
   "id": "cdf18b3f",
   "metadata": {
    "execution": {
     "iopub.execute_input": "2023-04-17T15:19:07.721679Z",
     "iopub.status.busy": "2023-04-17T15:19:07.721263Z",
     "iopub.status.idle": "2023-04-17T15:19:07.733178Z",
     "shell.execute_reply": "2023-04-17T15:19:07.732046Z"
    },
    "papermill": {
     "duration": 0.021915,
     "end_time": "2023-04-17T15:19:07.735556",
     "exception": false,
     "start_time": "2023-04-17T15:19:07.713641",
     "status": "completed"
    },
    "tags": []
   },
   "outputs": [],
   "source": [
    "from sklearn.preprocessing import MinMaxScaler\n",
    "scaler = MinMaxScaler()\n",
    "\n",
    "X_train_scaled = scaler.fit_transform(X_train)\n",
    "X_test_scaled = scaler.transform(X_test)"
   ]
  },
  {
   "cell_type": "code",
   "execution_count": 14,
   "id": "44948ddc",
   "metadata": {
    "execution": {
     "iopub.execute_input": "2023-04-17T15:19:07.750658Z",
     "iopub.status.busy": "2023-04-17T15:19:07.749906Z",
     "iopub.status.idle": "2023-04-17T15:19:07.922664Z",
     "shell.execute_reply": "2023-04-17T15:19:07.921426Z"
    },
    "papermill": {
     "duration": 0.183345,
     "end_time": "2023-04-17T15:19:07.925402",
     "exception": false,
     "start_time": "2023-04-17T15:19:07.742057",
     "status": "completed"
    },
    "tags": []
   },
   "outputs": [],
   "source": [
    "model = Sequential()\n",
    "\n",
    "model.add(Dense(7,activation='relu',input_dim=7))\n",
    "model.add(Dense(7,activation='relu'))\n",
    "model.add(Dense(1,activation='linear'))"
   ]
  },
  {
   "cell_type": "code",
   "execution_count": 15,
   "id": "ee4fedfb",
   "metadata": {
    "execution": {
     "iopub.execute_input": "2023-04-17T15:19:07.940077Z",
     "iopub.status.busy": "2023-04-17T15:19:07.939480Z",
     "iopub.status.idle": "2023-04-17T15:19:07.958151Z",
     "shell.execute_reply": "2023-04-17T15:19:07.957071Z"
    },
    "papermill": {
     "duration": 0.029126,
     "end_time": "2023-04-17T15:19:07.960798",
     "exception": false,
     "start_time": "2023-04-17T15:19:07.931672",
     "status": "completed"
    },
    "tags": []
   },
   "outputs": [],
   "source": [
    "model.compile(loss='mean_squared_error',optimizer='Adam')"
   ]
  },
  {
   "cell_type": "code",
   "execution_count": 16,
   "id": "3c5c5a07",
   "metadata": {
    "execution": {
     "iopub.execute_input": "2023-04-17T15:19:07.975817Z",
     "iopub.status.busy": "2023-04-17T15:19:07.974819Z",
     "iopub.status.idle": "2023-04-17T15:19:14.496235Z",
     "shell.execute_reply": "2023-04-17T15:19:14.495128Z"
    },
    "papermill": {
     "duration": 6.531837,
     "end_time": "2023-04-17T15:19:14.499031",
     "exception": false,
     "start_time": "2023-04-17T15:19:07.967194",
     "status": "completed"
    },
    "tags": []
   },
   "outputs": [
    {
     "name": "stdout",
     "output_type": "stream",
     "text": [
      "Epoch 1/100\n",
      "10/10 [==============================] - 1s 24ms/step - loss: 0.3877 - val_loss: 0.3603\n",
      "Epoch 2/100\n",
      "10/10 [==============================] - 0s 5ms/step - loss: 0.2824 - val_loss: 0.2543\n",
      "Epoch 3/100\n",
      "10/10 [==============================] - 0s 5ms/step - loss: 0.1932 - val_loss: 0.1658\n",
      "Epoch 4/100\n",
      "10/10 [==============================] - 0s 5ms/step - loss: 0.1207 - val_loss: 0.1002\n",
      "Epoch 5/100\n",
      "10/10 [==============================] - 0s 7ms/step - loss: 0.0716 - val_loss: 0.0576\n",
      "Epoch 6/100\n",
      "10/10 [==============================] - 0s 5ms/step - loss: 0.0430 - val_loss: 0.0354\n",
      "Epoch 7/100\n",
      "10/10 [==============================] - 0s 5ms/step - loss: 0.0304 - val_loss: 0.0268\n",
      "Epoch 8/100\n",
      "10/10 [==============================] - 0s 5ms/step - loss: 0.0264 - val_loss: 0.0242\n",
      "Epoch 9/100\n",
      "10/10 [==============================] - 0s 5ms/step - loss: 0.0252 - val_loss: 0.0233\n",
      "Epoch 10/100\n",
      "10/10 [==============================] - 0s 5ms/step - loss: 0.0244 - val_loss: 0.0226\n",
      "Epoch 11/100\n",
      "10/10 [==============================] - 0s 5ms/step - loss: 0.0235 - val_loss: 0.0219\n",
      "Epoch 12/100\n",
      "10/10 [==============================] - 0s 7ms/step - loss: 0.0225 - val_loss: 0.0213\n",
      "Epoch 13/100\n",
      "10/10 [==============================] - 0s 5ms/step - loss: 0.0217 - val_loss: 0.0207\n",
      "Epoch 14/100\n",
      "10/10 [==============================] - 0s 7ms/step - loss: 0.0209 - val_loss: 0.0201\n",
      "Epoch 15/100\n",
      "10/10 [==============================] - 0s 6ms/step - loss: 0.0202 - val_loss: 0.0194\n",
      "Epoch 16/100\n",
      "10/10 [==============================] - 0s 5ms/step - loss: 0.0194 - val_loss: 0.0187\n",
      "Epoch 17/100\n",
      "10/10 [==============================] - 0s 5ms/step - loss: 0.0187 - val_loss: 0.0181\n",
      "Epoch 18/100\n",
      "10/10 [==============================] - 0s 5ms/step - loss: 0.0180 - val_loss: 0.0175\n",
      "Epoch 19/100\n",
      "10/10 [==============================] - 0s 5ms/step - loss: 0.0174 - val_loss: 0.0169\n",
      "Epoch 20/100\n",
      "10/10 [==============================] - 0s 5ms/step - loss: 0.0168 - val_loss: 0.0164\n",
      "Epoch 21/100\n",
      "10/10 [==============================] - 0s 5ms/step - loss: 0.0162 - val_loss: 0.0158\n",
      "Epoch 22/100\n",
      "10/10 [==============================] - 0s 5ms/step - loss: 0.0156 - val_loss: 0.0153\n",
      "Epoch 23/100\n",
      "10/10 [==============================] - 0s 5ms/step - loss: 0.0151 - val_loss: 0.0148\n",
      "Epoch 24/100\n",
      "10/10 [==============================] - 0s 5ms/step - loss: 0.0145 - val_loss: 0.0143\n",
      "Epoch 25/100\n",
      "10/10 [==============================] - 0s 5ms/step - loss: 0.0140 - val_loss: 0.0139\n",
      "Epoch 26/100\n",
      "10/10 [==============================] - 0s 5ms/step - loss: 0.0136 - val_loss: 0.0135\n",
      "Epoch 27/100\n",
      "10/10 [==============================] - 0s 5ms/step - loss: 0.0131 - val_loss: 0.0130\n",
      "Epoch 28/100\n",
      "10/10 [==============================] - 0s 5ms/step - loss: 0.0127 - val_loss: 0.0127\n",
      "Epoch 29/100\n",
      "10/10 [==============================] - 0s 5ms/step - loss: 0.0123 - val_loss: 0.0122\n",
      "Epoch 30/100\n",
      "10/10 [==============================] - 0s 5ms/step - loss: 0.0119 - val_loss: 0.0120\n",
      "Epoch 31/100\n",
      "10/10 [==============================] - 0s 5ms/step - loss: 0.0115 - val_loss: 0.0116\n",
      "Epoch 32/100\n",
      "10/10 [==============================] - 0s 5ms/step - loss: 0.0112 - val_loss: 0.0112\n",
      "Epoch 33/100\n",
      "10/10 [==============================] - 0s 5ms/step - loss: 0.0109 - val_loss: 0.0110\n",
      "Epoch 34/100\n",
      "10/10 [==============================] - 0s 5ms/step - loss: 0.0106 - val_loss: 0.0106\n",
      "Epoch 35/100\n",
      "10/10 [==============================] - 0s 5ms/step - loss: 0.0103 - val_loss: 0.0104\n",
      "Epoch 36/100\n",
      "10/10 [==============================] - 0s 5ms/step - loss: 0.0100 - val_loss: 0.0100\n",
      "Epoch 37/100\n",
      "10/10 [==============================] - 0s 5ms/step - loss: 0.0097 - val_loss: 0.0098\n",
      "Epoch 38/100\n",
      "10/10 [==============================] - 0s 5ms/step - loss: 0.0095 - val_loss: 0.0096\n",
      "Epoch 39/100\n",
      "10/10 [==============================] - 0s 5ms/step - loss: 0.0092 - val_loss: 0.0094\n",
      "Epoch 40/100\n",
      "10/10 [==============================] - 0s 5ms/step - loss: 0.0090 - val_loss: 0.0091\n",
      "Epoch 41/100\n",
      "10/10 [==============================] - 0s 5ms/step - loss: 0.0088 - val_loss: 0.0088\n",
      "Epoch 42/100\n",
      "10/10 [==============================] - 0s 5ms/step - loss: 0.0086 - val_loss: 0.0086\n",
      "Epoch 43/100\n",
      "10/10 [==============================] - 0s 5ms/step - loss: 0.0084 - val_loss: 0.0085\n",
      "Epoch 44/100\n",
      "10/10 [==============================] - 0s 5ms/step - loss: 0.0082 - val_loss: 0.0082\n",
      "Epoch 45/100\n",
      "10/10 [==============================] - 0s 5ms/step - loss: 0.0080 - val_loss: 0.0081\n",
      "Epoch 46/100\n",
      "10/10 [==============================] - 0s 5ms/step - loss: 0.0079 - val_loss: 0.0080\n",
      "Epoch 47/100\n",
      "10/10 [==============================] - 0s 5ms/step - loss: 0.0077 - val_loss: 0.0078\n",
      "Epoch 48/100\n",
      "10/10 [==============================] - 0s 5ms/step - loss: 0.0076 - val_loss: 0.0076\n",
      "Epoch 49/100\n",
      "10/10 [==============================] - 0s 7ms/step - loss: 0.0075 - val_loss: 0.0075\n",
      "Epoch 50/100\n",
      "10/10 [==============================] - 0s 5ms/step - loss: 0.0073 - val_loss: 0.0073\n",
      "Epoch 51/100\n",
      "10/10 [==============================] - 0s 5ms/step - loss: 0.0072 - val_loss: 0.0071\n",
      "Epoch 52/100\n",
      "10/10 [==============================] - 0s 5ms/step - loss: 0.0071 - val_loss: 0.0071\n",
      "Epoch 53/100\n",
      "10/10 [==============================] - 0s 5ms/step - loss: 0.0070 - val_loss: 0.0070\n",
      "Epoch 54/100\n",
      "10/10 [==============================] - 0s 5ms/step - loss: 0.0069 - val_loss: 0.0068\n",
      "Epoch 55/100\n",
      "10/10 [==============================] - 0s 5ms/step - loss: 0.0068 - val_loss: 0.0067\n",
      "Epoch 56/100\n",
      "10/10 [==============================] - 0s 5ms/step - loss: 0.0067 - val_loss: 0.0067\n",
      "Epoch 57/100\n",
      "10/10 [==============================] - 0s 5ms/step - loss: 0.0066 - val_loss: 0.0066\n",
      "Epoch 58/100\n",
      "10/10 [==============================] - 0s 5ms/step - loss: 0.0066 - val_loss: 0.0064\n",
      "Epoch 59/100\n",
      "10/10 [==============================] - 0s 5ms/step - loss: 0.0065 - val_loss: 0.0064\n",
      "Epoch 60/100\n",
      "10/10 [==============================] - 0s 5ms/step - loss: 0.0064 - val_loss: 0.0063\n",
      "Epoch 61/100\n",
      "10/10 [==============================] - 0s 5ms/step - loss: 0.0064 - val_loss: 0.0062\n",
      "Epoch 62/100\n",
      "10/10 [==============================] - 0s 5ms/step - loss: 0.0063 - val_loss: 0.0062\n",
      "Epoch 63/100\n",
      "10/10 [==============================] - 0s 5ms/step - loss: 0.0062 - val_loss: 0.0061\n",
      "Epoch 64/100\n",
      "10/10 [==============================] - 0s 5ms/step - loss: 0.0062 - val_loss: 0.0061\n",
      "Epoch 65/100\n",
      "10/10 [==============================] - 0s 5ms/step - loss: 0.0061 - val_loss: 0.0060\n",
      "Epoch 66/100\n",
      "10/10 [==============================] - 0s 5ms/step - loss: 0.0061 - val_loss: 0.0059\n",
      "Epoch 67/100\n",
      "10/10 [==============================] - 0s 5ms/step - loss: 0.0060 - val_loss: 0.0058\n",
      "Epoch 68/100\n",
      "10/10 [==============================] - 0s 5ms/step - loss: 0.0060 - val_loss: 0.0059\n",
      "Epoch 69/100\n",
      "10/10 [==============================] - 0s 7ms/step - loss: 0.0060 - val_loss: 0.0057\n",
      "Epoch 70/100\n",
      "10/10 [==============================] - 0s 5ms/step - loss: 0.0059 - val_loss: 0.0057\n",
      "Epoch 71/100\n",
      "10/10 [==============================] - 0s 5ms/step - loss: 0.0059 - val_loss: 0.0057\n",
      "Epoch 72/100\n",
      "10/10 [==============================] - 0s 5ms/step - loss: 0.0059 - val_loss: 0.0056\n",
      "Epoch 73/100\n",
      "10/10 [==============================] - 0s 5ms/step - loss: 0.0058 - val_loss: 0.0055\n",
      "Epoch 74/100\n",
      "10/10 [==============================] - 0s 5ms/step - loss: 0.0058 - val_loss: 0.0056\n",
      "Epoch 75/100\n",
      "10/10 [==============================] - 0s 5ms/step - loss: 0.0058 - val_loss: 0.0055\n",
      "Epoch 76/100\n",
      "10/10 [==============================] - 0s 6ms/step - loss: 0.0057 - val_loss: 0.0054\n",
      "Epoch 77/100\n",
      "10/10 [==============================] - 0s 5ms/step - loss: 0.0057 - val_loss: 0.0054\n",
      "Epoch 78/100\n",
      "10/10 [==============================] - 0s 5ms/step - loss: 0.0057 - val_loss: 0.0055\n",
      "Epoch 79/100\n",
      "10/10 [==============================] - 0s 5ms/step - loss: 0.0057 - val_loss: 0.0054\n",
      "Epoch 80/100\n",
      "10/10 [==============================] - 0s 5ms/step - loss: 0.0056 - val_loss: 0.0054\n",
      "Epoch 81/100\n",
      "10/10 [==============================] - 0s 7ms/step - loss: 0.0056 - val_loss: 0.0054\n",
      "Epoch 82/100\n",
      "10/10 [==============================] - 0s 6ms/step - loss: 0.0056 - val_loss: 0.0053\n",
      "Epoch 83/100\n",
      "10/10 [==============================] - 0s 5ms/step - loss: 0.0056 - val_loss: 0.0052\n",
      "Epoch 84/100\n",
      "10/10 [==============================] - 0s 5ms/step - loss: 0.0056 - val_loss: 0.0052\n",
      "Epoch 85/100\n",
      "10/10 [==============================] - 0s 5ms/step - loss: 0.0056 - val_loss: 0.0053\n",
      "Epoch 86/100\n",
      "10/10 [==============================] - 0s 5ms/step - loss: 0.0055 - val_loss: 0.0052\n",
      "Epoch 87/100\n",
      "10/10 [==============================] - 0s 7ms/step - loss: 0.0055 - val_loss: 0.0052\n",
      "Epoch 88/100\n",
      "10/10 [==============================] - 0s 7ms/step - loss: 0.0055 - val_loss: 0.0051\n",
      "Epoch 89/100\n",
      "10/10 [==============================] - 0s 5ms/step - loss: 0.0055 - val_loss: 0.0051\n",
      "Epoch 90/100\n",
      "10/10 [==============================] - 0s 5ms/step - loss: 0.0055 - val_loss: 0.0052\n",
      "Epoch 91/100\n",
      "10/10 [==============================] - 0s 5ms/step - loss: 0.0054 - val_loss: 0.0051\n",
      "Epoch 92/100\n",
      "10/10 [==============================] - 0s 5ms/step - loss: 0.0054 - val_loss: 0.0051\n",
      "Epoch 93/100\n",
      "10/10 [==============================] - 0s 5ms/step - loss: 0.0054 - val_loss: 0.0050\n",
      "Epoch 94/100\n",
      "10/10 [==============================] - 0s 5ms/step - loss: 0.0054 - val_loss: 0.0051\n",
      "Epoch 95/100\n",
      "10/10 [==============================] - 0s 6ms/step - loss: 0.0054 - val_loss: 0.0051\n",
      "Epoch 96/100\n",
      "10/10 [==============================] - 0s 7ms/step - loss: 0.0054 - val_loss: 0.0050\n",
      "Epoch 97/100\n",
      "10/10 [==============================] - 0s 5ms/step - loss: 0.0053 - val_loss: 0.0050\n",
      "Epoch 98/100\n",
      "10/10 [==============================] - 0s 5ms/step - loss: 0.0053 - val_loss: 0.0051\n",
      "Epoch 99/100\n",
      "10/10 [==============================] - 0s 5ms/step - loss: 0.0053 - val_loss: 0.0050\n",
      "Epoch 100/100\n",
      "10/10 [==============================] - 0s 5ms/step - loss: 0.0053 - val_loss: 0.0049\n"
     ]
    }
   ],
   "source": [
    "history = model.fit(X_train_scaled,Y_train,epochs=100,validation_split=0.2)"
   ]
  },
  {
   "cell_type": "code",
   "execution_count": 17,
   "id": "4d0b8403",
   "metadata": {
    "execution": {
     "iopub.execute_input": "2023-04-17T15:19:14.551432Z",
     "iopub.status.busy": "2023-04-17T15:19:14.550368Z",
     "iopub.status.idle": "2023-04-17T15:19:14.725101Z",
     "shell.execute_reply": "2023-04-17T15:19:14.723836Z"
    },
    "papermill": {
     "duration": 0.203466,
     "end_time": "2023-04-17T15:19:14.727721",
     "exception": false,
     "start_time": "2023-04-17T15:19:14.524255",
     "status": "completed"
    },
    "tags": []
   },
   "outputs": [
    {
     "name": "stdout",
     "output_type": "stream",
     "text": [
      "4/4 [==============================] - 0s 2ms/step\n"
     ]
    }
   ],
   "source": [
    "y_pred = model.predict(X_test_scaled)"
   ]
  },
  {
   "cell_type": "code",
   "execution_count": 18,
   "id": "6e6c16c6",
   "metadata": {
    "execution": {
     "iopub.execute_input": "2023-04-17T15:19:14.778597Z",
     "iopub.status.busy": "2023-04-17T15:19:14.778162Z",
     "iopub.status.idle": "2023-04-17T15:19:14.785591Z",
     "shell.execute_reply": "2023-04-17T15:19:14.784708Z"
    },
    "papermill": {
     "duration": 0.0354,
     "end_time": "2023-04-17T15:19:14.787620",
     "exception": false,
     "start_time": "2023-04-17T15:19:14.752220",
     "status": "completed"
    },
    "tags": []
   },
   "outputs": [
    {
     "data": {
      "text/plain": [
       "0.7057490224724068"
      ]
     },
     "execution_count": 18,
     "metadata": {},
     "output_type": "execute_result"
    }
   ],
   "source": [
    "from sklearn.metrics import r2_score\n",
    "r2_score(Y_test,y_pred)"
   ]
  },
  {
   "cell_type": "code",
   "execution_count": 19,
   "id": "f7ba0547",
   "metadata": {
    "execution": {
     "iopub.execute_input": "2023-04-17T15:19:14.839261Z",
     "iopub.status.busy": "2023-04-17T15:19:14.837868Z",
     "iopub.status.idle": "2023-04-17T15:19:15.081582Z",
     "shell.execute_reply": "2023-04-17T15:19:15.080423Z"
    },
    "papermill": {
     "duration": 0.272187,
     "end_time": "2023-04-17T15:19:15.084206",
     "exception": false,
     "start_time": "2023-04-17T15:19:14.812019",
     "status": "completed"
    },
    "tags": []
   },
   "outputs": [
    {
     "data": {
      "text/plain": [
       "[<matplotlib.lines.Line2D at 0x7f8718560290>]"
      ]
     },
     "execution_count": 19,
     "metadata": {},
     "output_type": "execute_result"
    },
    {
     "data": {
      "image/png": "[encoded data removed]",
      "text/plain": [
       "<Figure size 640x480 with 1 Axes>"
      ]
     },
     "metadata": {},
     "output_type": "display_data"
    }
   ],
   "source": [
    "import matplotlib.pyplot as plt\n",
    "plt.plot(history.history['loss'])\n",
    "plt.plot(history.history['val_loss'])"
   ]
  },
  {
   "cell_type": "code",
   "execution_count": null,
   "id": "e3dafb34",
   "metadata": {
    "papermill": {
     "duration": 0.024723,
     "end_time": "2023-04-17T15:19:15.134384",
     "exception": false,
     "start_time": "2023-04-17T15:19:15.109661",
     "status": "completed"
    },
    "tags": []
   },
   "outputs": [],
   "source": []
  }
 ],
 "metadata": {
  "kernelspec": {
   "display_name": "Python 3",
   "language": "python",
   "name": "python3"
  },
  "language_info": {
   "codemirror_mode": {
    "name": "ipython",
    "version": 3
   },
   "file_extension": ".py",
   "mimetype": "text/x-python",
   "name": "python",
   "nbconvert_exporter": "python",
   "pygments_lexer": "ipython3",
   "version": "3.7.12"
  },
  "papermill": {
   "default_parameters": {},
   "duration": 29.640662,
   "end_time": "2023-04-17T15:19:18.589514",
   "environment_variables": {},
   "exception": null,
   "input_path": "__notebook__.ipynb",
   "output_path": "__notebook__.ipynb",
   "parameters": {},
   "start_time": "2023-04-17T15:18:48.948852",
   "version": "2.4.0"
  }
 },
 "nbformat": 4,
 "nbformat_minor": 5
}
