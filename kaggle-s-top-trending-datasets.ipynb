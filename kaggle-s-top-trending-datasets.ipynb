{
 "cells": [
  {
   "cell_type": "code",
   "execution_count": 1,
   "id": "5d94af45",
   "metadata": {
    "_cell_guid": "b1076dfc-b9ad-4769-8c92-a6c4dae69d19",
    "_uuid": "8f2839f25d086af736a60e9eeb907d3b93b6e0e5",
    "execution": {
     "iopub.execute_input": "2023-06-21T18:07:25.539037Z",
     "iopub.status.busy": "2023-06-21T18:07:25.538580Z",
     "iopub.status.idle": "2023-06-21T18:07:25.558305Z",
     "shell.execute_reply": "2023-06-21T18:07:25.556672Z"
    },
    "papermill": {
     "duration": 0.0287,
     "end_time": "2023-06-21T18:07:25.561058",
     "exception": false,
     "start_time": "2023-06-21T18:07:25.532358",
     "status": "completed"
    },
    "tags": []
   },
   "outputs": [
    {
     "name": "stdout",
     "output_type": "stream",
     "text": [
      "/kaggle/input/kaggles-top-trending-datasets/CleanedKaggleDataSets.csv\n"
     ]
    }
   ],
   "source": [
    "# This Python 3 environment comes with many helpful analytics libraries installed\n",
    "# It is defined by the kaggle/python Docker image: https://github.com/kaggle/docker-python\n",
    "# For example, here's several helpful packages to load\n",
    "\n",
    "import numpy as np # linear algebra\n",
    "import pandas as pd # data processing, CSV file I/O (e.g. pd.read_csv)\n",
    "\n",
    "# Input data files are available in the read-only \"../input/\" directory\n",
    "# For example, running this (by clicking run or pressing Shift+Enter) will list all files under the input directory\n",
    "\n",
    "import os\n",
    "for dirname, _, filenames in os.walk('/kaggle/input'):\n",
    "    for filename in filenames:\n",
    "        print(os.path.join(dirname, filename))\n",
    "\n",
    "# You can write up to 20GB to the current directory (/kaggle/working/) that gets preserved as output when you create a version using \"Save & Run All\" \n",
    "# You can also write temporary files to /kaggle/temp/, but they won't be saved outside of the current session"
   ]
  },
  {
   "cell_type": "code",
   "execution_count": 2,
   "id": "b43793a8",
   "metadata": {
    "execution": {
     "iopub.execute_input": "2023-06-21T18:07:25.569829Z",
     "iopub.status.busy": "2023-06-21T18:07:25.569513Z",
     "iopub.status.idle": "2023-06-21T18:07:25.640332Z",
     "shell.execute_reply": "2023-06-21T18:07:25.638897Z"
    },
    "papermill": {
     "duration": 0.078527,
     "end_time": "2023-06-21T18:07:25.643456",
     "exception": false,
     "start_time": "2023-06-21T18:07:25.564929",
     "status": "completed"
    },
    "tags": []
   },
   "outputs": [
    {
     "data": {
      "text/html": [
       "<div>\n",
       "<style scoped>\n",
       "    .dataframe tbody tr th:only-of-type {\n",
       "        vertical-align: middle;\n",
       "    }\n",
       "\n",
       "    .dataframe tbody tr th {\n",
       "        vertical-align: top;\n",
       "    }\n",
       "\n",
       "    .dataframe thead th {\n",
       "        text-align: right;\n",
       "    }\n",
       "</style>\n",
       "<table border=\"1\" class=\"dataframe\">\n",
       "  <thead>\n",
       "    <tr style=\"text-align: right;\">\n",
       "      <th></th>\n",
       "      <th>title</th>\n",
       "      <th>Usability_index</th>\n",
       "      <th>up_vote</th>\n",
       "      <th>author</th>\n",
       "      <th>Updation_timeline</th>\n",
       "    </tr>\n",
       "  </thead>\n",
       "  <tbody>\n",
       "    <tr>\n",
       "      <th>0</th>\n",
       "      <td>Salary Prediction Data - Simple linear regression</td>\n",
       "      <td>Usability 10.0</td>\n",
       "      <td>31</td>\n",
       "      <td>Krishnaraj_DataScience</td>\n",
       "      <td>Updated 12 days ago</td>\n",
       "    </tr>\n",
       "    <tr>\n",
       "      <th>1</th>\n",
       "      <td>Heart Disease Prediction Dataset</td>\n",
       "      <td>Usability 10.0</td>\n",
       "      <td>31</td>\n",
       "      <td>Krishnaraj_DataScience</td>\n",
       "      <td>Updated 12 days ago</td>\n",
       "    </tr>\n",
       "    <tr>\n",
       "      <th>2</th>\n",
       "      <td>Time Series Air Quality Data of India (2010-2023)</td>\n",
       "      <td>Usability 10.0</td>\n",
       "      <td>31</td>\n",
       "      <td>Krishnaraj_DataScience</td>\n",
       "      <td>Updated 12 days ago</td>\n",
       "    </tr>\n",
       "    <tr>\n",
       "      <th>3</th>\n",
       "      <td>Water Quality Testing</td>\n",
       "      <td>Usability 9.4</td>\n",
       "      <td>31</td>\n",
       "      <td>Krishnaraj_DataScience</td>\n",
       "      <td>Updated 12 days ago</td>\n",
       "    </tr>\n",
       "    <tr>\n",
       "      <th>4</th>\n",
       "      <td>Multiple Sclerosis Disease</td>\n",
       "      <td>Usability 10.0</td>\n",
       "      <td>31</td>\n",
       "      <td>Krishnaraj_DataScience</td>\n",
       "      <td>Updated 12 days ago</td>\n",
       "    </tr>\n",
       "  </tbody>\n",
       "</table>\n",
       "</div>"
      ],
      "text/plain": [
       "                                               title Usability_index  up_vote  \\\n",
       "0  Salary Prediction Data - Simple linear regression  Usability 10.0       31   \n",
       "1                   Heart Disease Prediction Dataset  Usability 10.0       31   \n",
       "2  Time Series Air Quality Data of India (2010-2023)  Usability 10.0       31   \n",
       "3                              Water Quality Testing   Usability 9.4       31   \n",
       "4                         Multiple Sclerosis Disease  Usability 10.0       31   \n",
       "\n",
       "                    author     Updation_timeline  \n",
       "0  Krishnaraj_DataScience    Updated 12 days ago  \n",
       "1  Krishnaraj_DataScience    Updated 12 days ago  \n",
       "2  Krishnaraj_DataScience    Updated 12 days ago  \n",
       "3  Krishnaraj_DataScience    Updated 12 days ago  \n",
       "4  Krishnaraj_DataScience    Updated 12 days ago  "
      ]
     },
     "execution_count": 2,
     "metadata": {},
     "output_type": "execute_result"
    }
   ],
   "source": [
    "df = pd.read_csv('/kaggle/input/kaggles-top-trending-datasets/CleanedKaggleDataSets.csv')\n",
    "df.head()"
   ]
  },
  {
   "cell_type": "code",
   "execution_count": 3,
   "id": "ea50eeac",
   "metadata": {
    "execution": {
     "iopub.execute_input": "2023-06-21T18:07:25.652960Z",
     "iopub.status.busy": "2023-06-21T18:07:25.652628Z",
     "iopub.status.idle": "2023-06-21T18:07:25.670294Z",
     "shell.execute_reply": "2023-06-21T18:07:25.669386Z"
    },
    "papermill": {
     "duration": 0.024613,
     "end_time": "2023-06-21T18:07:25.672176",
     "exception": false,
     "start_time": "2023-06-21T18:07:25.647563",
     "status": "completed"
    },
    "tags": []
   },
   "outputs": [
    {
     "data": {
      "text/html": [
       "<div>\n",
       "<style scoped>\n",
       "    .dataframe tbody tr th:only-of-type {\n",
       "        vertical-align: middle;\n",
       "    }\n",
       "\n",
       "    .dataframe tbody tr th {\n",
       "        vertical-align: top;\n",
       "    }\n",
       "\n",
       "    .dataframe thead th {\n",
       "        text-align: right;\n",
       "    }\n",
       "</style>\n",
       "<table border=\"1\" class=\"dataframe\">\n",
       "  <thead>\n",
       "    <tr style=\"text-align: right;\">\n",
       "      <th></th>\n",
       "      <th>up_vote</th>\n",
       "    </tr>\n",
       "  </thead>\n",
       "  <tbody>\n",
       "    <tr>\n",
       "      <th>count</th>\n",
       "      <td>9714.000000</td>\n",
       "    </tr>\n",
       "    <tr>\n",
       "      <th>mean</th>\n",
       "      <td>73.489911</td>\n",
       "    </tr>\n",
       "    <tr>\n",
       "      <th>std</th>\n",
       "      <td>166.429326</td>\n",
       "    </tr>\n",
       "    <tr>\n",
       "      <th>min</th>\n",
       "      <td>0.000000</td>\n",
       "    </tr>\n",
       "    <tr>\n",
       "      <th>25%</th>\n",
       "      <td>8.000000</td>\n",
       "    </tr>\n",
       "    <tr>\n",
       "      <th>50%</th>\n",
       "      <td>31.000000</td>\n",
       "    </tr>\n",
       "    <tr>\n",
       "      <th>75%</th>\n",
       "      <td>59.000000</td>\n",
       "    </tr>\n",
       "    <tr>\n",
       "      <th>max</th>\n",
       "      <td>1697.000000</td>\n",
       "    </tr>\n",
       "  </tbody>\n",
       "</table>\n",
       "</div>"
      ],
      "text/plain": [
       "           up_vote\n",
       "count  9714.000000\n",
       "mean     73.489911\n",
       "std     166.429326\n",
       "min       0.000000\n",
       "25%       8.000000\n",
       "50%      31.000000\n",
       "75%      59.000000\n",
       "max    1697.000000"
      ]
     },
     "execution_count": 3,
     "metadata": {},
     "output_type": "execute_result"
    }
   ],
   "source": [
    "df.describe()"
   ]
  },
  {
   "cell_type": "code",
   "execution_count": 4,
   "id": "d97004e9",
   "metadata": {
    "execution": {
     "iopub.execute_input": "2023-06-21T18:07:25.682189Z",
     "iopub.status.busy": "2023-06-21T18:07:25.681809Z",
     "iopub.status.idle": "2023-06-21T18:07:25.707071Z",
     "shell.execute_reply": "2023-06-21T18:07:25.706381Z"
    },
    "papermill": {
     "duration": 0.03241,
     "end_time": "2023-06-21T18:07:25.708889",
     "exception": false,
     "start_time": "2023-06-21T18:07:25.676479",
     "status": "completed"
    },
    "tags": []
   },
   "outputs": [
    {
     "name": "stdout",
     "output_type": "stream",
     "text": [
      "<class 'pandas.core.frame.DataFrame'>\n",
      "RangeIndex: 9714 entries, 0 to 9713\n",
      "Data columns (total 5 columns):\n",
      " #   Column             Non-Null Count  Dtype \n",
      "---  ------             --------------  ----- \n",
      " 0   title              9714 non-null   object\n",
      " 1   Usability_index    9712 non-null   object\n",
      " 2   up_vote            9714 non-null   int64 \n",
      " 3   author             9714 non-null   object\n",
      " 4   Updation_timeline  9714 non-null   object\n",
      "dtypes: int64(1), object(4)\n",
      "memory usage: 379.6+ KB\n"
     ]
    }
   ],
   "source": [
    "df.info()"
   ]
  },
  {
   "cell_type": "code",
   "execution_count": 5,
   "id": "8da07515",
   "metadata": {
    "execution": {
     "iopub.execute_input": "2023-06-21T18:07:25.718928Z",
     "iopub.status.busy": "2023-06-21T18:07:25.718535Z",
     "iopub.status.idle": "2023-06-21T18:07:25.727793Z",
     "shell.execute_reply": "2023-06-21T18:07:25.725444Z"
    },
    "papermill": {
     "duration": 0.017853,
     "end_time": "2023-06-21T18:07:25.731088",
     "exception": false,
     "start_time": "2023-06-21T18:07:25.713235",
     "status": "completed"
    },
    "tags": []
   },
   "outputs": [
    {
     "data": {
      "text/plain": [
       "title                object\n",
       "Usability_index      object\n",
       "up_vote               int64\n",
       "author               object\n",
       "Updation_timeline    object\n",
       "dtype: object"
      ]
     },
     "execution_count": 5,
     "metadata": {},
     "output_type": "execute_result"
    }
   ],
   "source": [
    "df.dtypes"
   ]
  },
  {
   "cell_type": "code",
   "execution_count": 6,
   "id": "972be126",
   "metadata": {
    "execution": {
     "iopub.execute_input": "2023-06-21T18:07:25.741485Z",
     "iopub.status.busy": "2023-06-21T18:07:25.741131Z",
     "iopub.status.idle": "2023-06-21T18:07:25.748173Z",
     "shell.execute_reply": "2023-06-21T18:07:25.747016Z"
    },
    "papermill": {
     "duration": 0.014654,
     "end_time": "2023-06-21T18:07:25.750209",
     "exception": false,
     "start_time": "2023-06-21T18:07:25.735555",
     "status": "completed"
    },
    "tags": []
   },
   "outputs": [
    {
     "data": {
      "text/plain": [
       "(9714, 5)"
      ]
     },
     "execution_count": 6,
     "metadata": {},
     "output_type": "execute_result"
    }
   ],
   "source": [
    "df.shape"
   ]
  },
  {
   "cell_type": "code",
   "execution_count": 7,
   "id": "643b0b9a",
   "metadata": {
    "execution": {
     "iopub.execute_input": "2023-06-21T18:07:25.763723Z",
     "iopub.status.busy": "2023-06-21T18:07:25.763361Z",
     "iopub.status.idle": "2023-06-21T18:07:25.774558Z",
     "shell.execute_reply": "2023-06-21T18:07:25.772588Z"
    },
    "papermill": {
     "duration": 0.01985,
     "end_time": "2023-06-21T18:07:25.777385",
     "exception": false,
     "start_time": "2023-06-21T18:07:25.757535",
     "status": "completed"
    },
    "tags": []
   },
   "outputs": [
    {
     "data": {
      "text/plain": [
       "fedesoriano                 80\n",
       "Utkarsh Singh               80\n",
       "Aman Chauhan                76\n",
       "M Yasser H                  60\n",
       "Prasert Kanawattanachai     59\n",
       "                            ..\n",
       "Rito Ghosh                  17\n",
       "Eryk Faracik                17\n",
       "Mohinur Abdurahimova        17\n",
       "Dieter                      17\n",
       "Apoorva Mahalingappa        16\n",
       "Name: author, Length: 457, dtype: int64"
      ]
     },
     "execution_count": 7,
     "metadata": {},
     "output_type": "execute_result"
    }
   ],
   "source": [
    "df['author'].value_counts()"
   ]
  },
  {
   "cell_type": "code",
   "execution_count": 8,
   "id": "93b895f9",
   "metadata": {
    "execution": {
     "iopub.execute_input": "2023-06-21T18:07:25.789181Z",
     "iopub.status.busy": "2023-06-21T18:07:25.788742Z",
     "iopub.status.idle": "2023-06-21T18:07:25.798439Z",
     "shell.execute_reply": "2023-06-21T18:07:25.797098Z"
    },
    "papermill": {
     "duration": 0.018541,
     "end_time": "2023-06-21T18:07:25.800739",
     "exception": false,
     "start_time": "2023-06-21T18:07:25.782198",
     "status": "completed"
    },
    "tags": []
   },
   "outputs": [
    {
     "data": {
      "text/plain": [
       " Updated 2 years ago      1516\n",
       " Updated 3 years ago      1436\n",
       " Updated a year ago       1015\n",
       " Updated 5 years ago       739\n",
       " Updated 4 years ago       706\n",
       " Updated 2 months ago      682\n",
       " Updated a month ago       658\n",
       " Updated 6 years ago       548\n",
       " Updated 3 months ago      404\n",
       " Updated 4 months ago      366\n",
       " Updated 5 months ago      196\n",
       " Updated 10 months ago     176\n",
       " Updated 8 months ago      154\n",
       " Updated 6 months ago      138\n",
       " Updated 9 months ago      134\n",
       " Updated 25 days ago       118\n",
       " Updated 7 months ago      116\n",
       " Updated 22 days ago        98\n",
       " Updated 17 days ago        58\n",
       " Updated 10 days ago        40\n",
       " Updated 11 hours ago       40\n",
       " Updated 12 days ago        40\n",
       " Updated 14 days ago        40\n",
       " Updated 19 days ago        40\n",
       " Updated 21 days ago        40\n",
       " Updated 7 years ago        39\n",
       " Updated 10 hours ago       20\n",
       " Updated 20 days ago        20\n",
       " Updated a day ago          20\n",
       " Updated 16 hours ago       20\n",
       " Updated 6 hours ago        20\n",
       " Updated 16 days ago        20\n",
       " Updated 11 days ago        19\n",
       " Updated 3 days ago         19\n",
       " Updated 23 days ago        19\n",
       "Name: Updation_timeline, dtype: int64"
      ]
     },
     "execution_count": 8,
     "metadata": {},
     "output_type": "execute_result"
    }
   ],
   "source": [
    "df['Updation_timeline'].value_counts()"
   ]
  },
  {
   "cell_type": "code",
   "execution_count": 9,
   "id": "601939eb",
   "metadata": {
    "execution": {
     "iopub.execute_input": "2023-06-21T18:07:25.811953Z",
     "iopub.status.busy": "2023-06-21T18:07:25.811085Z",
     "iopub.status.idle": "2023-06-21T18:07:25.820381Z",
     "shell.execute_reply": "2023-06-21T18:07:25.819178Z"
    },
    "papermill": {
     "duration": 0.017283,
     "end_time": "2023-06-21T18:07:25.822795",
     "exception": false,
     "start_time": "2023-06-21T18:07:25.805512",
     "status": "completed"
    },
    "tags": []
   },
   "outputs": [
    {
     "data": {
      "text/plain": [
       "0      697\n",
       "1      408\n",
       "2      251\n",
       "4      249\n",
       "33     232\n",
       "      ... \n",
       "104     19\n",
       "126     19\n",
       "279     18\n",
       "130     18\n",
       "109     18\n",
       "Name: up_vote, Length: 157, dtype: int64"
      ]
     },
     "execution_count": 9,
     "metadata": {},
     "output_type": "execute_result"
    }
   ],
   "source": [
    "df['up_vote'].value_counts()"
   ]
  },
  {
   "cell_type": "code",
   "execution_count": 10,
   "id": "9f670e37",
   "metadata": {
    "execution": {
     "iopub.execute_input": "2023-06-21T18:07:25.833780Z",
     "iopub.status.busy": "2023-06-21T18:07:25.833421Z",
     "iopub.status.idle": "2023-06-21T18:07:25.840719Z",
     "shell.execute_reply": "2023-06-21T18:07:25.840111Z"
    },
    "papermill": {
     "duration": 0.01609,
     "end_time": "2023-06-21T18:07:25.843497",
     "exception": false,
     "start_time": "2023-06-21T18:07:25.827407",
     "status": "completed"
    },
    "tags": []
   },
   "outputs": [
    {
     "data": {
      "text/plain": [
       "Usability 10.0    2611\n",
       "Usability 9.4      808\n",
       "Usability 8.8      770\n",
       "Usability 8.2      571\n",
       "Usability 7.1      439\n",
       "Usability 7.6      319\n",
       "Usability 7.5      307\n",
       "Usability 1.9      294\n",
       "Usability 3.1      225\n",
       "Usability 6.5      217\n",
       "Usability 5.9      213\n",
       "Usability 1.8      210\n",
       "Usability 9.7      198\n",
       "Usability 2.9      191\n",
       "Usability 8.1      183\n",
       "Usability 2.5      176\n",
       "Usability 5.3      162\n",
       "Usability 6.3      149\n",
       "Usability 6.9      135\n",
       "Usability 8.5      134\n",
       "Usability 4.7      127\n",
       "Usability 4.1      127\n",
       "Usability 3.8      123\n",
       "Usability 1.3      121\n",
       "Usability 5.6      118\n",
       "Usability 4.4      105\n",
       "Usability 9.1       97\n",
       "Usability 5.0       94\n",
       "Usability 3.5       91\n",
       "Usability 1.2       83\n",
       "Usability 2.4       81\n",
       "Usability 7.9       61\n",
       "Usability 7.4       59\n",
       "Usability 0.6       45\n",
       "Usability 0.0       33\n",
       "Usability 6.8       26\n",
       "Usability 6.2        8\n",
       "Usability 3.2        1\n",
       "Name: Usability_index, dtype: int64"
      ]
     },
     "execution_count": 10,
     "metadata": {},
     "output_type": "execute_result"
    }
   ],
   "source": [
    "df['Usability_index'].value_counts()"
   ]
  },
  {
   "cell_type": "code",
   "execution_count": 11,
   "id": "aa7ffe28",
   "metadata": {
    "execution": {
     "iopub.execute_input": "2023-06-21T18:07:25.857289Z",
     "iopub.status.busy": "2023-06-21T18:07:25.856890Z",
     "iopub.status.idle": "2023-06-21T18:07:25.872496Z",
     "shell.execute_reply": "2023-06-21T18:07:25.870378Z"
    },
    "papermill": {
     "duration": 0.02629,
     "end_time": "2023-06-21T18:07:25.875961",
     "exception": false,
     "start_time": "2023-06-21T18:07:25.849671",
     "status": "completed"
    },
    "tags": []
   },
   "outputs": [
    {
     "data": {
      "text/plain": [
       "Salary Prediction Data - Simple linear regression    1\n",
       "26april_seresnet50_5epochs                           1\n",
       "Adani Stocks Dataset                                 1\n",
       "Healthy vs. Diseased Leaf Image Dataset              1\n",
       "US simulation & segmentation                         1\n",
       "                                                    ..\n",
       "Shoe vs Sandal vs Boot Image Dataset (15K Images)    1\n",
       "Event-dataset for Underwater SLAM                    1\n",
       "Forest Fire Area                                     1\n",
       "beginner_datasets                                    1\n",
       "Bengali Sign Language Dataset                        1\n",
       "Name: title, Length: 9714, dtype: int64"
      ]
     },
     "execution_count": 11,
     "metadata": {},
     "output_type": "execute_result"
    }
   ],
   "source": [
    "df['title'].value_counts()"
   ]
  },
  {
   "cell_type": "code",
   "execution_count": 12,
   "id": "61b363c3",
   "metadata": {
    "execution": {
     "iopub.execute_input": "2023-06-21T18:07:25.889268Z",
     "iopub.status.busy": "2023-06-21T18:07:25.888635Z",
     "iopub.status.idle": "2023-06-21T18:07:25.897690Z",
     "shell.execute_reply": "2023-06-21T18:07:25.896194Z"
    },
    "papermill": {
     "duration": 0.019266,
     "end_time": "2023-06-21T18:07:25.900585",
     "exception": false,
     "start_time": "2023-06-21T18:07:25.881319",
     "status": "completed"
    },
    "tags": []
   },
   "outputs": [],
   "source": [
    "df['usability_percent'] = df['Usability_index'].value_counts()/9714"
   ]
  },
  {
   "cell_type": "code",
   "execution_count": 13,
   "id": "9dd14143",
   "metadata": {
    "execution": {
     "iopub.execute_input": "2023-06-21T18:07:25.912283Z",
     "iopub.status.busy": "2023-06-21T18:07:25.911900Z",
     "iopub.status.idle": "2023-06-21T18:07:25.924756Z",
     "shell.execute_reply": "2023-06-21T18:07:25.922914Z"
    },
    "papermill": {
     "duration": 0.022288,
     "end_time": "2023-06-21T18:07:25.928042",
     "exception": false,
     "start_time": "2023-06-21T18:07:25.905754",
     "status": "completed"
    },
    "tags": []
   },
   "outputs": [
    {
     "data": {
      "text/html": [
       "<div>\n",
       "<style scoped>\n",
       "    .dataframe tbody tr th:only-of-type {\n",
       "        vertical-align: middle;\n",
       "    }\n",
       "\n",
       "    .dataframe tbody tr th {\n",
       "        vertical-align: top;\n",
       "    }\n",
       "\n",
       "    .dataframe thead th {\n",
       "        text-align: right;\n",
       "    }\n",
       "</style>\n",
       "<table border=\"1\" class=\"dataframe\">\n",
       "  <thead>\n",
       "    <tr style=\"text-align: right;\">\n",
       "      <th></th>\n",
       "      <th>title</th>\n",
       "      <th>Usability_index</th>\n",
       "      <th>up_vote</th>\n",
       "      <th>author</th>\n",
       "      <th>Updation_timeline</th>\n",
       "      <th>usability_percent</th>\n",
       "    </tr>\n",
       "  </thead>\n",
       "  <tbody>\n",
       "    <tr>\n",
       "      <th>0</th>\n",
       "      <td>Salary Prediction Data - Simple linear regression</td>\n",
       "      <td>Usability 10.0</td>\n",
       "      <td>31</td>\n",
       "      <td>Krishnaraj_DataScience</td>\n",
       "      <td>Updated 12 days ago</td>\n",
       "      <td>NaN</td>\n",
       "    </tr>\n",
       "    <tr>\n",
       "      <th>1</th>\n",
       "      <td>Heart Disease Prediction Dataset</td>\n",
       "      <td>Usability 10.0</td>\n",
       "      <td>31</td>\n",
       "      <td>Krishnaraj_DataScience</td>\n",
       "      <td>Updated 12 days ago</td>\n",
       "      <td>NaN</td>\n",
       "    </tr>\n",
       "    <tr>\n",
       "      <th>2</th>\n",
       "      <td>Time Series Air Quality Data of India (2010-2023)</td>\n",
       "      <td>Usability 10.0</td>\n",
       "      <td>31</td>\n",
       "      <td>Krishnaraj_DataScience</td>\n",
       "      <td>Updated 12 days ago</td>\n",
       "      <td>NaN</td>\n",
       "    </tr>\n",
       "    <tr>\n",
       "      <th>3</th>\n",
       "      <td>Water Quality Testing</td>\n",
       "      <td>Usability 9.4</td>\n",
       "      <td>31</td>\n",
       "      <td>Krishnaraj_DataScience</td>\n",
       "      <td>Updated 12 days ago</td>\n",
       "      <td>NaN</td>\n",
       "    </tr>\n",
       "    <tr>\n",
       "      <th>4</th>\n",
       "      <td>Multiple Sclerosis Disease</td>\n",
       "      <td>Usability 10.0</td>\n",
       "      <td>31</td>\n",
       "      <td>Krishnaraj_DataScience</td>\n",
       "      <td>Updated 12 days ago</td>\n",
       "      <td>NaN</td>\n",
       "    </tr>\n",
       "  </tbody>\n",
       "</table>\n",
       "</div>"
      ],
      "text/plain": [
       "                                               title Usability_index  up_vote  \\\n",
       "0  Salary Prediction Data - Simple linear regression  Usability 10.0       31   \n",
       "1                   Heart Disease Prediction Dataset  Usability 10.0       31   \n",
       "2  Time Series Air Quality Data of India (2010-2023)  Usability 10.0       31   \n",
       "3                              Water Quality Testing   Usability 9.4       31   \n",
       "4                         Multiple Sclerosis Disease  Usability 10.0       31   \n",
       "\n",
       "                    author     Updation_timeline  usability_percent  \n",
       "0  Krishnaraj_DataScience    Updated 12 days ago                NaN  \n",
       "1  Krishnaraj_DataScience    Updated 12 days ago                NaN  \n",
       "2  Krishnaraj_DataScience    Updated 12 days ago                NaN  \n",
       "3  Krishnaraj_DataScience    Updated 12 days ago                NaN  \n",
       "4  Krishnaraj_DataScience    Updated 12 days ago                NaN  "
      ]
     },
     "execution_count": 13,
     "metadata": {},
     "output_type": "execute_result"
    }
   ],
   "source": [
    "df.head()"
   ]
  },
  {
   "cell_type": "code",
   "execution_count": 14,
   "id": "5da34906",
   "metadata": {
    "execution": {
     "iopub.execute_input": "2023-06-21T18:07:25.940944Z",
     "iopub.status.busy": "2023-06-21T18:07:25.940571Z",
     "iopub.status.idle": "2023-06-21T18:07:26.391145Z",
     "shell.execute_reply": "2023-06-21T18:07:26.390290Z"
    },
    "papermill": {
     "duration": 0.459591,
     "end_time": "2023-06-21T18:07:26.393262",
     "exception": false,
     "start_time": "2023-06-21T18:07:25.933671",
     "status": "completed"
    },
    "tags": []
   },
   "outputs": [
    {
     "data": {
      "text/plain": [
       "<Axes: ylabel='Usability_index'>"
      ]
     },
     "execution_count": 14,
     "metadata": {},
     "output_type": "execute_result"
    },
    {
     "data": {
      "image/png": "[encoded data removed]",
      "text/plain": [
       "<Figure size 640x480 with 1 Axes>"
      ]
     },
     "metadata": {},
     "output_type": "display_data"
    }
   ],
   "source": [
    "df['Usability_index'].value_counts().plot.pie()"
   ]
  },
  {
   "cell_type": "code",
   "execution_count": null,
   "id": "e4a7cfc0",
   "metadata": {
    "papermill": {
     "duration": 0.007254,
     "end_time": "2023-06-21T18:07:26.408363",
     "exception": false,
     "start_time": "2023-06-21T18:07:26.401109",
     "status": "completed"
    },
    "tags": []
   },
   "outputs": [],
   "source": []
  }
 ],
 "metadata": {
  "kernelspec": {
   "display_name": "Python 3",
   "language": "python",
   "name": "python3"
  },
  "language_info": {
   "codemirror_mode": {
    "name": "ipython",
    "version": 3
   },
   "file_extension": ".py",
   "mimetype": "text/x-python",
   "name": "python",
   "nbconvert_exporter": "python",
   "pygments_lexer": "ipython3",
   "version": "3.10.10"
  },
  "papermill": {
   "default_parameters": {},
   "duration": 11.40843,
   "end_time": "2023-06-21T18:07:27.339862",
   "environment_variables": {},
   "exception": null,
   "input_path": "__notebook__.ipynb",
   "output_path": "__notebook__.ipynb",
   "parameters": {},
   "start_time": "2023-06-21T18:07:15.931432",
   "version": "2.4.0"
  }
 },
 "nbformat": 4,
 "nbformat_minor": 5
}
