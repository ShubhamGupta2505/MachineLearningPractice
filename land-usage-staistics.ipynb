{
 "cells": [
  {
   "cell_type": "code",
   "execution_count": 1,
   "id": "1c5cda35",
   "metadata": {
    "_cell_guid": "b1076dfc-b9ad-4769-8c92-a6c4dae69d19",
    "_uuid": "8f2839f25d086af736a60e9eeb907d3b93b6e0e5",
    "execution": {
     "iopub.execute_input": "2023-06-19T18:56:55.102589Z",
     "iopub.status.busy": "2023-06-19T18:56:55.102170Z",
     "iopub.status.idle": "2023-06-19T18:56:55.119771Z",
     "shell.execute_reply": "2023-06-19T18:56:55.118363Z"
    },
    "papermill": {
     "duration": 0.024913,
     "end_time": "2023-06-19T18:56:55.122187",
     "exception": false,
     "start_time": "2023-06-19T18:56:55.097274",
     "status": "completed"
    },
    "tags": []
   },
   "outputs": [
    {
     "name": "stdout",
     "output_type": "stream",
     "text": [
      "/kaggle/input/land-use-statistics-by-country/Land use Statistics by Country.csv\n"
     ]
    }
   ],
   "source": [
    "# This Python 3 environment comes with many helpful analytics libraries installed\n",
    "# It is defined by the kaggle/python Docker image: https://github.com/kaggle/docker-python\n",
    "# For example, here's several helpful packages to load\n",
    "\n",
    "import numpy as np # linear algebra\n",
    "import pandas as pd # data processing, CSV file I/O (e.g. pd.read_csv)\n",
    "\n",
    "# Input data files are available in the read-only \"../input/\" directory\n",
    "# For example, running this (by clicking run or pressing Shift+Enter) will list all files under the input directory\n",
    "\n",
    "import os\n",
    "for dirname, _, filenames in os.walk('/kaggle/input'):\n",
    "    for filename in filenames:\n",
    "        print(os.path.join(dirname, filename))\n",
    "\n",
    "# You can write up to 20GB to the current directory (/kaggle/working/) that gets preserved as output when you create a version using \"Save & Run All\" \n",
    "# You can also write temporary files to /kaggle/temp/, but they won't be saved outside of the current session"
   ]
  },
  {
   "cell_type": "code",
   "execution_count": 2,
   "id": "fe9c049a",
   "metadata": {
    "execution": {
     "iopub.execute_input": "2023-06-19T18:56:55.129219Z",
     "iopub.status.busy": "2023-06-19T18:56:55.128868Z",
     "iopub.status.idle": "2023-06-19T18:56:55.188109Z",
     "shell.execute_reply": "2023-06-19T18:56:55.186985Z"
    },
    "papermill": {
     "duration": 0.065386,
     "end_time": "2023-06-19T18:56:55.190505",
     "exception": false,
     "start_time": "2023-06-19T18:56:55.125119",
     "status": "completed"
    },
    "tags": []
   },
   "outputs": [
    {
     "data": {
      "text/html": [
       "<div>\n",
       "<style scoped>\n",
       "    .dataframe tbody tr th:only-of-type {\n",
       "        vertical-align: middle;\n",
       "    }\n",
       "\n",
       "    .dataframe tbody tr th {\n",
       "        vertical-align: top;\n",
       "    }\n",
       "\n",
       "    .dataframe thead th {\n",
       "        text-align: right;\n",
       "    }\n",
       "</style>\n",
       "<table border=\"1\" class=\"dataframe\">\n",
       "  <thead>\n",
       "    <tr style=\"text-align: right;\">\n",
       "      <th></th>\n",
       "      <th>Unnamed: 0</th>\n",
       "      <th>Rank</th>\n",
       "      <th>Country</th>\n",
       "      <th>Cultivated land (km2)</th>\n",
       "      <th>Cultivated land (%)</th>\n",
       "      <th>Arable land (km2)</th>\n",
       "      <th>Arable land (%)</th>\n",
       "      <th>Permanent crops (km2)</th>\n",
       "      <th>Permanent crops (%)</th>\n",
       "      <th>Other lands (km2)</th>\n",
       "      <th>Other lands (%)</th>\n",
       "      <th>Total area (km2)</th>\n",
       "      <th>Date</th>\n",
       "    </tr>\n",
       "  </thead>\n",
       "  <tbody>\n",
       "    <tr>\n",
       "      <th>0</th>\n",
       "      <td>0</td>\n",
       "      <td></td>\n",
       "      <td>World</td>\n",
       "      <td>17235800</td>\n",
       "      <td>11.6</td>\n",
       "      <td>15827534</td>\n",
       "      <td>10.7</td>\n",
       "      <td>1549600</td>\n",
       "      <td>1.0</td>\n",
       "      <td>131.701.100</td>\n",
       "      <td>88.4</td>\n",
       "      <td>149000000.0</td>\n",
       "      <td>2011</td>\n",
       "    </tr>\n",
       "    <tr>\n",
       "      <th>1</th>\n",
       "      <td>1</td>\n",
       "      <td>1</td>\n",
       "      <td>India</td>\n",
       "      <td>1765260</td>\n",
       "      <td>53.7</td>\n",
       "      <td>1656780</td>\n",
       "      <td>50.4</td>\n",
       "      <td>108479</td>\n",
       "      <td>3.3</td>\n",
       "      <td>1522002</td>\n",
       "      <td>46.3</td>\n",
       "      <td>3287263.0</td>\n",
       "      <td>2020</td>\n",
       "    </tr>\n",
       "    <tr>\n",
       "      <th>2</th>\n",
       "      <td>2</td>\n",
       "      <td>2</td>\n",
       "      <td>United States</td>\n",
       "      <td>1681826</td>\n",
       "      <td>17.1</td>\n",
       "      <td>1652028</td>\n",
       "      <td>16.8</td>\n",
       "      <td>29798</td>\n",
       "      <td>0.3</td>\n",
       "      <td>8151691</td>\n",
       "      <td>82.9</td>\n",
       "      <td>9833517.0</td>\n",
       "      <td>2020</td>\n",
       "    </tr>\n",
       "    <tr>\n",
       "      <th>3</th>\n",
       "      <td>3</td>\n",
       "      <td>3</td>\n",
       "      <td>Russia</td>\n",
       "      <td>1265267</td>\n",
       "      <td>7.4</td>\n",
       "      <td>1248169</td>\n",
       "      <td>7.3</td>\n",
       "      <td>17098</td>\n",
       "      <td>0.1</td>\n",
       "      <td>15832975</td>\n",
       "      <td>92.6</td>\n",
       "      <td>17098242.0</td>\n",
       "      <td>2011</td>\n",
       "    </tr>\n",
       "    <tr>\n",
       "      <th>4</th>\n",
       "      <td>4</td>\n",
       "      <td>4</td>\n",
       "      <td>China</td>\n",
       "      <td>1238013</td>\n",
       "      <td>12.9</td>\n",
       "      <td>1084461</td>\n",
       "      <td>11.3</td>\n",
       "      <td>153552</td>\n",
       "      <td>1.6</td>\n",
       "      <td>8358947</td>\n",
       "      <td>87.1</td>\n",
       "      <td>9596960.0</td>\n",
       "      <td>2011</td>\n",
       "    </tr>\n",
       "  </tbody>\n",
       "</table>\n",
       "</div>"
      ],
      "text/plain": [
       "   Unnamed: 0 Rank        Country  Cultivated land (km2)  Cultivated land (%)  \\\n",
       "0           0               World               17235800                 11.6   \n",
       "1           1    1          India                1765260                 53.7   \n",
       "2           2    2  United States                1681826                 17.1   \n",
       "3           3    3         Russia                1265267                  7.4   \n",
       "4           4    4          China                1238013                 12.9   \n",
       "\n",
       "   Arable land (km2)  Arable land (%)  Permanent crops (km2)  \\\n",
       "0           15827534             10.7                1549600   \n",
       "1            1656780             50.4                 108479   \n",
       "2            1652028             16.8                  29798   \n",
       "3            1248169              7.3                  17098   \n",
       "4            1084461             11.3                 153552   \n",
       "\n",
       "   Permanent crops (%) Other lands (km2)  Other lands (%)  Total area (km2)  \\\n",
       "0                  1.0       131.701.100             88.4       149000000.0   \n",
       "1                  3.3           1522002             46.3         3287263.0   \n",
       "2                  0.3           8151691             82.9         9833517.0   \n",
       "3                  0.1          15832975             92.6        17098242.0   \n",
       "4                  1.6           8358947             87.1         9596960.0   \n",
       "\n",
       "   Date  \n",
       "0  2011  \n",
       "1  2020  \n",
       "2  2020  \n",
       "3  2011  \n",
       "4  2011  "
      ]
     },
     "execution_count": 2,
     "metadata": {},
     "output_type": "execute_result"
    }
   ],
   "source": [
    "df = pd.read_csv('/kaggle/input/land-use-statistics-by-country/Land use Statistics by Country.csv')\n",
    "df.head()"
   ]
  },
  {
   "cell_type": "code",
   "execution_count": 3,
   "id": "42252583",
   "metadata": {
    "execution": {
     "iopub.execute_input": "2023-06-19T18:56:55.198016Z",
     "iopub.status.busy": "2023-06-19T18:56:55.197663Z",
     "iopub.status.idle": "2023-06-19T18:56:55.204065Z",
     "shell.execute_reply": "2023-06-19T18:56:55.203036Z"
    },
    "papermill": {
     "duration": 0.012638,
     "end_time": "2023-06-19T18:56:55.206187",
     "exception": false,
     "start_time": "2023-06-19T18:56:55.193549",
     "status": "completed"
    },
    "tags": []
   },
   "outputs": [
    {
     "data": {
      "text/plain": [
       "(237, 13)"
      ]
     },
     "execution_count": 3,
     "metadata": {},
     "output_type": "execute_result"
    }
   ],
   "source": [
    "df.shape"
   ]
  },
  {
   "cell_type": "code",
   "execution_count": 4,
   "id": "b9f35807",
   "metadata": {
    "execution": {
     "iopub.execute_input": "2023-06-19T18:56:55.213906Z",
     "iopub.status.busy": "2023-06-19T18:56:55.213549Z",
     "iopub.status.idle": "2023-06-19T18:56:55.259047Z",
     "shell.execute_reply": "2023-06-19T18:56:55.257888Z"
    },
    "papermill": {
     "duration": 0.052143,
     "end_time": "2023-06-19T18:56:55.261469",
     "exception": false,
     "start_time": "2023-06-19T18:56:55.209326",
     "status": "completed"
    },
    "tags": []
   },
   "outputs": [
    {
     "data": {
      "text/html": [
       "<div>\n",
       "<style scoped>\n",
       "    .dataframe tbody tr th:only-of-type {\n",
       "        vertical-align: middle;\n",
       "    }\n",
       "\n",
       "    .dataframe tbody tr th {\n",
       "        vertical-align: top;\n",
       "    }\n",
       "\n",
       "    .dataframe thead th {\n",
       "        text-align: right;\n",
       "    }\n",
       "</style>\n",
       "<table border=\"1\" class=\"dataframe\">\n",
       "  <thead>\n",
       "    <tr style=\"text-align: right;\">\n",
       "      <th></th>\n",
       "      <th>Unnamed: 0</th>\n",
       "      <th>Cultivated land (km2)</th>\n",
       "      <th>Cultivated land (%)</th>\n",
       "      <th>Arable land (km2)</th>\n",
       "      <th>Arable land (%)</th>\n",
       "      <th>Permanent crops (km2)</th>\n",
       "      <th>Permanent crops (%)</th>\n",
       "      <th>Other lands (%)</th>\n",
       "      <th>Total area (km2)</th>\n",
       "      <th>Date</th>\n",
       "    </tr>\n",
       "  </thead>\n",
       "  <tbody>\n",
       "    <tr>\n",
       "      <th>count</th>\n",
       "      <td>237.000000</td>\n",
       "      <td>2.370000e+02</td>\n",
       "      <td>237.000000</td>\n",
       "      <td>2.370000e+02</td>\n",
       "      <td>237.000000</td>\n",
       "      <td>2.370000e+02</td>\n",
       "      <td>237.000000</td>\n",
       "      <td>237.000000</td>\n",
       "      <td>2.370000e+02</td>\n",
       "      <td>237.000000</td>\n",
       "    </tr>\n",
       "    <tr>\n",
       "      <th>mean</th>\n",
       "      <td>118.000000</td>\n",
       "      <td>1.402826e+05</td>\n",
       "      <td>17.454219</td>\n",
       "      <td>1.247536e+05</td>\n",
       "      <td>12.872068</td>\n",
       "      <td>1.351946e+04</td>\n",
       "      <td>4.538692</td>\n",
       "      <td>82.548186</td>\n",
       "      <td>1.258670e+06</td>\n",
       "      <td>2009.670886</td>\n",
       "    </tr>\n",
       "    <tr>\n",
       "      <th>std</th>\n",
       "      <td>68.560193</td>\n",
       "      <td>1.135202e+06</td>\n",
       "      <td>16.518100</td>\n",
       "      <td>1.042780e+06</td>\n",
       "      <td>13.204760</td>\n",
       "      <td>1.025688e+05</td>\n",
       "      <td>8.968776</td>\n",
       "      <td>16.519392</td>\n",
       "      <td>9.835654e+06</td>\n",
       "      <td>2.981816</td>\n",
       "    </tr>\n",
       "    <tr>\n",
       "      <th>min</th>\n",
       "      <td>0.000000</td>\n",
       "      <td>0.000000e+00</td>\n",
       "      <td>0.000000</td>\n",
       "      <td>0.000000e+00</td>\n",
       "      <td>0.000000</td>\n",
       "      <td>0.000000e+00</td>\n",
       "      <td>0.000000</td>\n",
       "      <td>23.700000</td>\n",
       "      <td>4.400000e-01</td>\n",
       "      <td>2002.000000</td>\n",
       "    </tr>\n",
       "    <tr>\n",
       "      <th>25%</th>\n",
       "      <td>59.000000</td>\n",
       "      <td>1.300000e+02</td>\n",
       "      <td>3.500000</td>\n",
       "      <td>5.900000e+01</td>\n",
       "      <td>2.200000</td>\n",
       "      <td>1.600000e+01</td>\n",
       "      <td>0.100000</td>\n",
       "      <td>73.330000</td>\n",
       "      <td>2.235000e+03</td>\n",
       "      <td>2005.000000</td>\n",
       "    </tr>\n",
       "    <tr>\n",
       "      <th>50%</th>\n",
       "      <td>118.000000</td>\n",
       "      <td>7.997000e+03</td>\n",
       "      <td>12.900000</td>\n",
       "      <td>6.735000e+03</td>\n",
       "      <td>9.600000</td>\n",
       "      <td>6.230000e+02</td>\n",
       "      <td>1.000000</td>\n",
       "      <td>87.100000</td>\n",
       "      <td>7.174000e+04</td>\n",
       "      <td>2011.000000</td>\n",
       "    </tr>\n",
       "    <tr>\n",
       "      <th>75%</th>\n",
       "      <td>177.000000</td>\n",
       "      <td>4.176200e+04</td>\n",
       "      <td>26.670000</td>\n",
       "      <td>3.522000e+04</td>\n",
       "      <td>18.600000</td>\n",
       "      <td>3.723000e+03</td>\n",
       "      <td>4.350000</td>\n",
       "      <td>96.500000</td>\n",
       "      <td>4.383170e+05</td>\n",
       "      <td>2011.000000</td>\n",
       "    </tr>\n",
       "    <tr>\n",
       "      <th>max</th>\n",
       "      <td>236.000000</td>\n",
       "      <td>1.723580e+07</td>\n",
       "      <td>76.300000</td>\n",
       "      <td>1.582753e+07</td>\n",
       "      <td>59.000000</td>\n",
       "      <td>1.549600e+06</td>\n",
       "      <td>66.670000</td>\n",
       "      <td>100.000000</td>\n",
       "      <td>1.490000e+08</td>\n",
       "      <td>2020.000000</td>\n",
       "    </tr>\n",
       "  </tbody>\n",
       "</table>\n",
       "</div>"
      ],
      "text/plain": [
       "       Unnamed: 0  Cultivated land (km2)  Cultivated land (%)  \\\n",
       "count  237.000000           2.370000e+02           237.000000   \n",
       "mean   118.000000           1.402826e+05            17.454219   \n",
       "std     68.560193           1.135202e+06            16.518100   \n",
       "min      0.000000           0.000000e+00             0.000000   \n",
       "25%     59.000000           1.300000e+02             3.500000   \n",
       "50%    118.000000           7.997000e+03            12.900000   \n",
       "75%    177.000000           4.176200e+04            26.670000   \n",
       "max    236.000000           1.723580e+07            76.300000   \n",
       "\n",
       "       Arable land (km2)  Arable land (%)  Permanent crops (km2)  \\\n",
       "count       2.370000e+02       237.000000           2.370000e+02   \n",
       "mean        1.247536e+05        12.872068           1.351946e+04   \n",
       "std         1.042780e+06        13.204760           1.025688e+05   \n",
       "min         0.000000e+00         0.000000           0.000000e+00   \n",
       "25%         5.900000e+01         2.200000           1.600000e+01   \n",
       "50%         6.735000e+03         9.600000           6.230000e+02   \n",
       "75%         3.522000e+04        18.600000           3.723000e+03   \n",
       "max         1.582753e+07        59.000000           1.549600e+06   \n",
       "\n",
       "       Permanent crops (%)  Other lands (%)  Total area (km2)         Date  \n",
       "count           237.000000       237.000000      2.370000e+02   237.000000  \n",
       "mean              4.538692        82.548186      1.258670e+06  2009.670886  \n",
       "std               8.968776        16.519392      9.835654e+06     2.981816  \n",
       "min               0.000000        23.700000      4.400000e-01  2002.000000  \n",
       "25%               0.100000        73.330000      2.235000e+03  2005.000000  \n",
       "50%               1.000000        87.100000      7.174000e+04  2011.000000  \n",
       "75%               4.350000        96.500000      4.383170e+05  2011.000000  \n",
       "max              66.670000       100.000000      1.490000e+08  2020.000000  "
      ]
     },
     "execution_count": 4,
     "metadata": {},
     "output_type": "execute_result"
    }
   ],
   "source": [
    "df.describe()"
   ]
  },
  {
   "cell_type": "code",
   "execution_count": 5,
   "id": "2819de5b",
   "metadata": {
    "execution": {
     "iopub.execute_input": "2023-06-19T18:56:55.269890Z",
     "iopub.status.busy": "2023-06-19T18:56:55.269502Z",
     "iopub.status.idle": "2023-06-19T18:56:55.293334Z",
     "shell.execute_reply": "2023-06-19T18:56:55.292296Z"
    },
    "papermill": {
     "duration": 0.030807,
     "end_time": "2023-06-19T18:56:55.295765",
     "exception": false,
     "start_time": "2023-06-19T18:56:55.264958",
     "status": "completed"
    },
    "tags": []
   },
   "outputs": [
    {
     "name": "stdout",
     "output_type": "stream",
     "text": [
      "<class 'pandas.core.frame.DataFrame'>\n",
      "RangeIndex: 237 entries, 0 to 236\n",
      "Data columns (total 13 columns):\n",
      " #   Column                 Non-Null Count  Dtype  \n",
      "---  ------                 --------------  -----  \n",
      " 0   Unnamed: 0             237 non-null    int64  \n",
      " 1   Rank                   237 non-null    object \n",
      " 2   Country                237 non-null    object \n",
      " 3   Cultivated land (km2)  237 non-null    int64  \n",
      " 4   Cultivated land (%)    237 non-null    float64\n",
      " 5   Arable land (km2)      237 non-null    int64  \n",
      " 6   Arable land (%)        237 non-null    float64\n",
      " 7   Permanent crops (km2)  237 non-null    int64  \n",
      " 8   Permanent crops (%)    237 non-null    float64\n",
      " 9   Other lands (km2)      237 non-null    object \n",
      " 10  Other lands (%)        237 non-null    float64\n",
      " 11  Total area (km2)       237 non-null    float64\n",
      " 12  Date                   237 non-null    int64  \n",
      "dtypes: float64(5), int64(5), object(3)\n",
      "memory usage: 24.2+ KB\n"
     ]
    }
   ],
   "source": [
    "df.info()"
   ]
  },
  {
   "cell_type": "code",
   "execution_count": 6,
   "id": "a0be1378",
   "metadata": {
    "execution": {
     "iopub.execute_input": "2023-06-19T18:56:55.304199Z",
     "iopub.status.busy": "2023-06-19T18:56:55.303858Z",
     "iopub.status.idle": "2023-06-19T18:56:55.312144Z",
     "shell.execute_reply": "2023-06-19T18:56:55.311017Z"
    },
    "papermill": {
     "duration": 0.014983,
     "end_time": "2023-06-19T18:56:55.314281",
     "exception": false,
     "start_time": "2023-06-19T18:56:55.299298",
     "status": "completed"
    },
    "tags": []
   },
   "outputs": [
    {
     "data": {
      "text/plain": [
       "Unnamed: 0                 int64\n",
       "Rank                      object\n",
       "Country                   object\n",
       "Cultivated land (km2)      int64\n",
       "Cultivated land (%)      float64\n",
       "Arable land (km2)          int64\n",
       "Arable land (%)          float64\n",
       "Permanent crops (km2)      int64\n",
       "Permanent crops (%)      float64\n",
       "Other lands (km2)         object\n",
       "Other lands (%)          float64\n",
       "Total area (km2)         float64\n",
       "Date                       int64\n",
       "dtype: object"
      ]
     },
     "execution_count": 6,
     "metadata": {},
     "output_type": "execute_result"
    }
   ],
   "source": [
    "df.dtypes"
   ]
  },
  {
   "cell_type": "code",
   "execution_count": 7,
   "id": "2b883eda",
   "metadata": {
    "execution": {
     "iopub.execute_input": "2023-06-19T18:56:55.322849Z",
     "iopub.status.busy": "2023-06-19T18:56:55.322518Z",
     "iopub.status.idle": "2023-06-19T18:56:55.331795Z",
     "shell.execute_reply": "2023-06-19T18:56:55.330581Z"
    },
    "papermill": {
     "duration": 0.016142,
     "end_time": "2023-06-19T18:56:55.333950",
     "exception": false,
     "start_time": "2023-06-19T18:56:55.317808",
     "status": "completed"
    },
    "tags": []
   },
   "outputs": [
    {
     "data": {
      "text/plain": [
       "World                  1\n",
       "Trinidad and Tobago    1\n",
       "Vanuatu                1\n",
       "Cyprus                 1\n",
       "Bhutan                 1\n",
       "                      ..\n",
       "Sri Lanka              1\n",
       "Lithuania              1\n",
       "Azerbaijan             1\n",
       "Moldova                1\n",
       "Vatican City           1\n",
       "Name: Country, Length: 237, dtype: int64"
      ]
     },
     "execution_count": 7,
     "metadata": {},
     "output_type": "execute_result"
    }
   ],
   "source": [
    "df['Country'].value_counts()"
   ]
  },
  {
   "cell_type": "code",
   "execution_count": null,
   "id": "a1789490",
   "metadata": {
    "papermill": {
     "duration": 0.003564,
     "end_time": "2023-06-19T18:56:55.341251",
     "exception": false,
     "start_time": "2023-06-19T18:56:55.337687",
     "status": "completed"
    },
    "tags": []
   },
   "outputs": [],
   "source": []
  }
 ],
 "metadata": {
  "kernelspec": {
   "display_name": "Python 3",
   "language": "python",
   "name": "python3"
  },
  "language_info": {
   "codemirror_mode": {
    "name": "ipython",
    "version": 3
   },
   "file_extension": ".py",
   "mimetype": "text/x-python",
   "name": "python",
   "nbconvert_exporter": "python",
   "pygments_lexer": "ipython3",
   "version": "3.10.10"
  },
  "papermill": {
   "default_parameters": {},
   "duration": 10.603558,
   "end_time": "2023-06-19T18:56:56.165604",
   "environment_variables": {},
   "exception": null,
   "input_path": "__notebook__.ipynb",
   "output_path": "__notebook__.ipynb",
   "parameters": {},
   "start_time": "2023-06-19T18:56:45.562046",
   "version": "2.4.0"
  }
 },
 "nbformat": 4,
 "nbformat_minor": 5
}
