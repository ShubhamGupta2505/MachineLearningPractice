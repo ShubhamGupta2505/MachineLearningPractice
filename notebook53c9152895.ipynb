{
 "cells": [
  {
   "cell_type": "code",
   "execution_count": 1,
   "id": "d35a5760",
   "metadata": {
    "_cell_guid": "b1076dfc-b9ad-4769-8c92-a6c4dae69d19",
    "_uuid": "8f2839f25d086af736a60e9eeb907d3b93b6e0e5",
    "execution": {
     "iopub.execute_input": "2023-06-22T18:23:04.547871Z",
     "iopub.status.busy": "2023-06-22T18:23:04.546959Z",
     "iopub.status.idle": "2023-06-22T18:23:04.568746Z",
     "shell.execute_reply": "2023-06-22T18:23:04.567665Z"
    },
    "papermill": {
     "duration": 0.03203,
     "end_time": "2023-06-22T18:23:04.571517",
     "exception": false,
     "start_time": "2023-06-22T18:23:04.539487",
     "status": "completed"
    },
    "tags": []
   },
   "outputs": [
    {
     "name": "stdout",
     "output_type": "stream",
     "text": [
      "/kaggle/input/electric-vehicle-population-data/Electric_Vehicle_Population_Data.csv\n"
     ]
    }
   ],
   "source": [
    "# This Python 3 environment comes with many helpful analytics libraries installed\n",
    "# It is defined by the kaggle/python Docker image: https://github.com/kaggle/docker-python\n",
    "# For example, here's several helpful packages to load\n",
    "\n",
    "import numpy as np # linear algebra\n",
    "import pandas as pd # data processing, CSV file I/O (e.g. pd.read_csv)\n",
    "\n",
    "# Input data files are available in the read-only \"../input/\" directory\n",
    "# For example, running this (by clicking run or pressing Shift+Enter) will list all files under the input directory\n",
    "\n",
    "import os\n",
    "for dirname, _, filenames in os.walk('/kaggle/input'):\n",
    "    for filename in filenames:\n",
    "        print(os.path.join(dirname, filename))\n",
    "\n",
    "# You can write up to 20GB to the current directory (/kaggle/working/) that gets preserved as output when you create a version using \"Save & Run All\" \n",
    "# You can also write temporary files to /kaggle/temp/, but they won't be saved outside of the current session"
   ]
  },
  {
   "cell_type": "code",
   "execution_count": 2,
   "id": "7da23d6e",
   "metadata": {
    "execution": {
     "iopub.execute_input": "2023-06-22T18:23:04.584429Z",
     "iopub.status.busy": "2023-06-22T18:23:04.582787Z",
     "iopub.status.idle": "2023-06-22T18:23:05.385563Z",
     "shell.execute_reply": "2023-06-22T18:23:05.384584Z"
    },
    "papermill": {
     "duration": 0.812301,
     "end_time": "2023-06-22T18:23:05.388901",
     "exception": false,
     "start_time": "2023-06-22T18:23:04.576600",
     "status": "completed"
    },
    "tags": []
   },
   "outputs": [
    {
     "data": {
      "text/html": [
       "<div>\n",
       "<style scoped>\n",
       "    .dataframe tbody tr th:only-of-type {\n",
       "        vertical-align: middle;\n",
       "    }\n",
       "\n",
       "    .dataframe tbody tr th {\n",
       "        vertical-align: top;\n",
       "    }\n",
       "\n",
       "    .dataframe thead th {\n",
       "        text-align: right;\n",
       "    }\n",
       "</style>\n",
       "<table border=\"1\" class=\"dataframe\">\n",
       "  <thead>\n",
       "    <tr style=\"text-align: right;\">\n",
       "      <th></th>\n",
       "      <th>VIN (1-10)</th>\n",
       "      <th>County</th>\n",
       "      <th>City</th>\n",
       "      <th>State</th>\n",
       "      <th>Postal Code</th>\n",
       "      <th>Model Year</th>\n",
       "      <th>Make</th>\n",
       "      <th>Model</th>\n",
       "      <th>Electric Vehicle Type</th>\n",
       "      <th>Clean Alternative Fuel Vehicle (CAFV) Eligibility</th>\n",
       "      <th>Electric Range</th>\n",
       "      <th>Base MSRP</th>\n",
       "      <th>Legislative District</th>\n",
       "      <th>DOL Vehicle ID</th>\n",
       "      <th>Vehicle Location</th>\n",
       "      <th>Electric Utility</th>\n",
       "      <th>2020 Census Tract</th>\n",
       "    </tr>\n",
       "  </thead>\n",
       "  <tbody>\n",
       "    <tr>\n",
       "      <th>0</th>\n",
       "      <td>5YJXCAE26J</td>\n",
       "      <td>Yakima</td>\n",
       "      <td>Yakima</td>\n",
       "      <td>WA</td>\n",
       "      <td>98908.0</td>\n",
       "      <td>2018</td>\n",
       "      <td>TESLA</td>\n",
       "      <td>MODEL X</td>\n",
       "      <td>Battery Electric Vehicle (BEV)</td>\n",
       "      <td>Clean Alternative Fuel Vehicle Eligible</td>\n",
       "      <td>238</td>\n",
       "      <td>0</td>\n",
       "      <td>14.0</td>\n",
       "      <td>141151601</td>\n",
       "      <td>POINT (-120.56916 46.58514)</td>\n",
       "      <td>PACIFICORP</td>\n",
       "      <td>5.307700e+10</td>\n",
       "    </tr>\n",
       "    <tr>\n",
       "      <th>1</th>\n",
       "      <td>JHMZC5F37M</td>\n",
       "      <td>Kitsap</td>\n",
       "      <td>Poulsbo</td>\n",
       "      <td>WA</td>\n",
       "      <td>98370.0</td>\n",
       "      <td>2021</td>\n",
       "      <td>HONDA</td>\n",
       "      <td>CLARITY</td>\n",
       "      <td>Plug-in Hybrid Electric Vehicle (PHEV)</td>\n",
       "      <td>Clean Alternative Fuel Vehicle Eligible</td>\n",
       "      <td>47</td>\n",
       "      <td>0</td>\n",
       "      <td>23.0</td>\n",
       "      <td>171566447</td>\n",
       "      <td>POINT (-122.64681 47.73689)</td>\n",
       "      <td>PUGET SOUND ENERGY INC</td>\n",
       "      <td>5.303509e+10</td>\n",
       "    </tr>\n",
       "    <tr>\n",
       "      <th>2</th>\n",
       "      <td>5YJ3E1EB0K</td>\n",
       "      <td>King</td>\n",
       "      <td>Seattle</td>\n",
       "      <td>WA</td>\n",
       "      <td>98199.0</td>\n",
       "      <td>2019</td>\n",
       "      <td>TESLA</td>\n",
       "      <td>MODEL 3</td>\n",
       "      <td>Battery Electric Vehicle (BEV)</td>\n",
       "      <td>Clean Alternative Fuel Vehicle Eligible</td>\n",
       "      <td>220</td>\n",
       "      <td>0</td>\n",
       "      <td>36.0</td>\n",
       "      <td>9426525</td>\n",
       "      <td>POINT (-122.40092 47.65908)</td>\n",
       "      <td>CITY OF SEATTLE - (WA)|CITY OF TACOMA - (WA)</td>\n",
       "      <td>5.303301e+10</td>\n",
       "    </tr>\n",
       "    <tr>\n",
       "      <th>3</th>\n",
       "      <td>1N4AZ0CP5D</td>\n",
       "      <td>King</td>\n",
       "      <td>Seattle</td>\n",
       "      <td>WA</td>\n",
       "      <td>98119.0</td>\n",
       "      <td>2013</td>\n",
       "      <td>NISSAN</td>\n",
       "      <td>LEAF</td>\n",
       "      <td>Battery Electric Vehicle (BEV)</td>\n",
       "      <td>Clean Alternative Fuel Vehicle Eligible</td>\n",
       "      <td>75</td>\n",
       "      <td>0</td>\n",
       "      <td>36.0</td>\n",
       "      <td>211807760</td>\n",
       "      <td>POINT (-122.3684 47.64586)</td>\n",
       "      <td>CITY OF SEATTLE - (WA)|CITY OF TACOMA - (WA)</td>\n",
       "      <td>5.303301e+10</td>\n",
       "    </tr>\n",
       "    <tr>\n",
       "      <th>4</th>\n",
       "      <td>5YJSA1E21H</td>\n",
       "      <td>Thurston</td>\n",
       "      <td>Lacey</td>\n",
       "      <td>WA</td>\n",
       "      <td>98516.0</td>\n",
       "      <td>2017</td>\n",
       "      <td>TESLA</td>\n",
       "      <td>MODEL S</td>\n",
       "      <td>Battery Electric Vehicle (BEV)</td>\n",
       "      <td>Clean Alternative Fuel Vehicle Eligible</td>\n",
       "      <td>210</td>\n",
       "      <td>0</td>\n",
       "      <td>22.0</td>\n",
       "      <td>185810306</td>\n",
       "      <td>POINT (-122.75379 47.06316)</td>\n",
       "      <td>PUGET SOUND ENERGY INC</td>\n",
       "      <td>5.306701e+10</td>\n",
       "    </tr>\n",
       "  </tbody>\n",
       "</table>\n",
       "</div>"
      ],
      "text/plain": [
       "   VIN (1-10)    County     City State  Postal Code  Model Year    Make  \\\n",
       "0  5YJXCAE26J    Yakima   Yakima    WA      98908.0        2018   TESLA   \n",
       "1  JHMZC5F37M    Kitsap  Poulsbo    WA      98370.0        2021   HONDA   \n",
       "2  5YJ3E1EB0K      King  Seattle    WA      98199.0        2019   TESLA   \n",
       "3  1N4AZ0CP5D      King  Seattle    WA      98119.0        2013  NISSAN   \n",
       "4  5YJSA1E21H  Thurston    Lacey    WA      98516.0        2017   TESLA   \n",
       "\n",
       "     Model                   Electric Vehicle Type  \\\n",
       "0  MODEL X          Battery Electric Vehicle (BEV)   \n",
       "1  CLARITY  Plug-in Hybrid Electric Vehicle (PHEV)   \n",
       "2  MODEL 3          Battery Electric Vehicle (BEV)   \n",
       "3     LEAF          Battery Electric Vehicle (BEV)   \n",
       "4  MODEL S          Battery Electric Vehicle (BEV)   \n",
       "\n",
       "  Clean Alternative Fuel Vehicle (CAFV) Eligibility  Electric Range  \\\n",
       "0           Clean Alternative Fuel Vehicle Eligible             238   \n",
       "1           Clean Alternative Fuel Vehicle Eligible              47   \n",
       "2           Clean Alternative Fuel Vehicle Eligible             220   \n",
       "3           Clean Alternative Fuel Vehicle Eligible              75   \n",
       "4           Clean Alternative Fuel Vehicle Eligible             210   \n",
       "\n",
       "   Base MSRP  Legislative District  DOL Vehicle ID  \\\n",
       "0          0                  14.0       141151601   \n",
       "1          0                  23.0       171566447   \n",
       "2          0                  36.0         9426525   \n",
       "3          0                  36.0       211807760   \n",
       "4          0                  22.0       185810306   \n",
       "\n",
       "              Vehicle Location                              Electric Utility  \\\n",
       "0  POINT (-120.56916 46.58514)                                    PACIFICORP   \n",
       "1  POINT (-122.64681 47.73689)                        PUGET SOUND ENERGY INC   \n",
       "2  POINT (-122.40092 47.65908)  CITY OF SEATTLE - (WA)|CITY OF TACOMA - (WA)   \n",
       "3   POINT (-122.3684 47.64586)  CITY OF SEATTLE - (WA)|CITY OF TACOMA - (WA)   \n",
       "4  POINT (-122.75379 47.06316)                        PUGET SOUND ENERGY INC   \n",
       "\n",
       "   2020 Census Tract  \n",
       "0       5.307700e+10  \n",
       "1       5.303509e+10  \n",
       "2       5.303301e+10  \n",
       "3       5.303301e+10  \n",
       "4       5.306701e+10  "
      ]
     },
     "execution_count": 2,
     "metadata": {},
     "output_type": "execute_result"
    }
   ],
   "source": [
    "df = pd.read_csv('/kaggle/input/electric-vehicle-population-data/Electric_Vehicle_Population_Data.csv')\n",
    "df.head()"
   ]
  },
  {
   "cell_type": "code",
   "execution_count": 3,
   "id": "e1f56304",
   "metadata": {
    "execution": {
     "iopub.execute_input": "2023-06-22T18:23:05.401068Z",
     "iopub.status.busy": "2023-06-22T18:23:05.400693Z",
     "iopub.status.idle": "2023-06-22T18:23:05.406191Z",
     "shell.execute_reply": "2023-06-22T18:23:05.405455Z"
    },
    "papermill": {
     "duration": 0.014454,
     "end_time": "2023-06-22T18:23:05.408695",
     "exception": false,
     "start_time": "2023-06-22T18:23:05.394241",
     "status": "completed"
    },
    "tags": []
   },
   "outputs": [
    {
     "data": {
      "text/plain": [
       "(130443, 17)"
      ]
     },
     "execution_count": 3,
     "metadata": {},
     "output_type": "execute_result"
    }
   ],
   "source": [
    "df.shape"
   ]
  },
  {
   "cell_type": "code",
   "execution_count": 4,
   "id": "8661524e",
   "metadata": {
    "execution": {
     "iopub.execute_input": "2023-06-22T18:23:05.421197Z",
     "iopub.status.busy": "2023-06-22T18:23:05.420791Z",
     "iopub.status.idle": "2023-06-22T18:23:05.502771Z",
     "shell.execute_reply": "2023-06-22T18:23:05.501641Z"
    },
    "papermill": {
     "duration": 0.091118,
     "end_time": "2023-06-22T18:23:05.505171",
     "exception": false,
     "start_time": "2023-06-22T18:23:05.414053",
     "status": "completed"
    },
    "tags": []
   },
   "outputs": [
    {
     "data": {
      "text/html": [
       "<div>\n",
       "<style scoped>\n",
       "    .dataframe tbody tr th:only-of-type {\n",
       "        vertical-align: middle;\n",
       "    }\n",
       "\n",
       "    .dataframe tbody tr th {\n",
       "        vertical-align: top;\n",
       "    }\n",
       "\n",
       "    .dataframe thead th {\n",
       "        text-align: right;\n",
       "    }\n",
       "</style>\n",
       "<table border=\"1\" class=\"dataframe\">\n",
       "  <thead>\n",
       "    <tr style=\"text-align: right;\">\n",
       "      <th></th>\n",
       "      <th>Postal Code</th>\n",
       "      <th>Model Year</th>\n",
       "      <th>Electric Range</th>\n",
       "      <th>Base MSRP</th>\n",
       "      <th>Legislative District</th>\n",
       "      <th>DOL Vehicle ID</th>\n",
       "      <th>2020 Census Tract</th>\n",
       "    </tr>\n",
       "  </thead>\n",
       "  <tbody>\n",
       "    <tr>\n",
       "      <th>count</th>\n",
       "      <td>130440.000000</td>\n",
       "      <td>130443.000000</td>\n",
       "      <td>130443.000000</td>\n",
       "      <td>130443.000000</td>\n",
       "      <td>130138.000000</td>\n",
       "      <td>1.304430e+05</td>\n",
       "      <td>1.304400e+05</td>\n",
       "    </tr>\n",
       "    <tr>\n",
       "      <th>mean</th>\n",
       "      <td>98167.633878</td>\n",
       "      <td>2019.554633</td>\n",
       "      <td>76.705718</td>\n",
       "      <td>1495.677346</td>\n",
       "      <td>29.577026</td>\n",
       "      <td>2.051796e+08</td>\n",
       "      <td>5.297177e+10</td>\n",
       "    </tr>\n",
       "    <tr>\n",
       "      <th>std</th>\n",
       "      <td>2492.197784</td>\n",
       "      <td>2.989137</td>\n",
       "      <td>99.421571</td>\n",
       "      <td>9844.748414</td>\n",
       "      <td>14.767508</td>\n",
       "      <td>8.710573e+07</td>\n",
       "      <td>1.640658e+09</td>\n",
       "    </tr>\n",
       "    <tr>\n",
       "      <th>min</th>\n",
       "      <td>1730.000000</td>\n",
       "      <td>1997.000000</td>\n",
       "      <td>0.000000</td>\n",
       "      <td>0.000000</td>\n",
       "      <td>1.000000</td>\n",
       "      <td>4.385000e+03</td>\n",
       "      <td>1.081042e+09</td>\n",
       "    </tr>\n",
       "    <tr>\n",
       "      <th>25%</th>\n",
       "      <td>98052.000000</td>\n",
       "      <td>2018.000000</td>\n",
       "      <td>0.000000</td>\n",
       "      <td>0.000000</td>\n",
       "      <td>18.000000</td>\n",
       "      <td>1.568004e+08</td>\n",
       "      <td>5.303301e+10</td>\n",
       "    </tr>\n",
       "    <tr>\n",
       "      <th>50%</th>\n",
       "      <td>98121.000000</td>\n",
       "      <td>2020.000000</td>\n",
       "      <td>23.000000</td>\n",
       "      <td>0.000000</td>\n",
       "      <td>34.000000</td>\n",
       "      <td>2.034934e+08</td>\n",
       "      <td>5.303303e+10</td>\n",
       "    </tr>\n",
       "    <tr>\n",
       "      <th>75%</th>\n",
       "      <td>98370.000000</td>\n",
       "      <td>2022.000000</td>\n",
       "      <td>151.000000</td>\n",
       "      <td>0.000000</td>\n",
       "      <td>43.000000</td>\n",
       "      <td>2.290791e+08</td>\n",
       "      <td>5.305307e+10</td>\n",
       "    </tr>\n",
       "    <tr>\n",
       "      <th>max</th>\n",
       "      <td>99701.000000</td>\n",
       "      <td>2023.000000</td>\n",
       "      <td>337.000000</td>\n",
       "      <td>845000.000000</td>\n",
       "      <td>49.000000</td>\n",
       "      <td>4.792548e+08</td>\n",
       "      <td>5.603300e+10</td>\n",
       "    </tr>\n",
       "  </tbody>\n",
       "</table>\n",
       "</div>"
      ],
      "text/plain": [
       "         Postal Code     Model Year  Electric Range      Base MSRP  \\\n",
       "count  130440.000000  130443.000000   130443.000000  130443.000000   \n",
       "mean    98167.633878    2019.554633       76.705718    1495.677346   \n",
       "std      2492.197784       2.989137       99.421571    9844.748414   \n",
       "min      1730.000000    1997.000000        0.000000       0.000000   \n",
       "25%     98052.000000    2018.000000        0.000000       0.000000   \n",
       "50%     98121.000000    2020.000000       23.000000       0.000000   \n",
       "75%     98370.000000    2022.000000      151.000000       0.000000   \n",
       "max     99701.000000    2023.000000      337.000000  845000.000000   \n",
       "\n",
       "       Legislative District  DOL Vehicle ID  2020 Census Tract  \n",
       "count         130138.000000    1.304430e+05       1.304400e+05  \n",
       "mean              29.577026    2.051796e+08       5.297177e+10  \n",
       "std               14.767508    8.710573e+07       1.640658e+09  \n",
       "min                1.000000    4.385000e+03       1.081042e+09  \n",
       "25%               18.000000    1.568004e+08       5.303301e+10  \n",
       "50%               34.000000    2.034934e+08       5.303303e+10  \n",
       "75%               43.000000    2.290791e+08       5.305307e+10  \n",
       "max               49.000000    4.792548e+08       5.603300e+10  "
      ]
     },
     "execution_count": 4,
     "metadata": {},
     "output_type": "execute_result"
    }
   ],
   "source": [
    "df.describe()"
   ]
  },
  {
   "cell_type": "code",
   "execution_count": 5,
   "id": "15886f10",
   "metadata": {
    "execution": {
     "iopub.execute_input": "2023-06-22T18:23:05.519263Z",
     "iopub.status.busy": "2023-06-22T18:23:05.518530Z",
     "iopub.status.idle": "2023-06-22T18:23:05.940147Z",
     "shell.execute_reply": "2023-06-22T18:23:05.939105Z"
    },
    "papermill": {
     "duration": 0.432455,
     "end_time": "2023-06-22T18:23:05.943510",
     "exception": false,
     "start_time": "2023-06-22T18:23:05.511055",
     "status": "completed"
    },
    "tags": []
   },
   "outputs": [
    {
     "name": "stdout",
     "output_type": "stream",
     "text": [
      "<class 'pandas.core.frame.DataFrame'>\n",
      "RangeIndex: 130443 entries, 0 to 130442\n",
      "Data columns (total 17 columns):\n",
      " #   Column                                             Non-Null Count   Dtype  \n",
      "---  ------                                             --------------   -----  \n",
      " 0   VIN (1-10)                                         130443 non-null  object \n",
      " 1   County                                             130440 non-null  object \n",
      " 2   City                                               130440 non-null  object \n",
      " 3   State                                              130443 non-null  object \n",
      " 4   Postal Code                                        130440 non-null  float64\n",
      " 5   Model Year                                         130443 non-null  int64  \n",
      " 6   Make                                               130443 non-null  object \n",
      " 7   Model                                              130221 non-null  object \n",
      " 8   Electric Vehicle Type                              130443 non-null  object \n",
      " 9   Clean Alternative Fuel Vehicle (CAFV) Eligibility  130443 non-null  object \n",
      " 10  Electric Range                                     130443 non-null  int64  \n",
      " 11  Base MSRP                                          130443 non-null  int64  \n",
      " 12  Legislative District                               130138 non-null  float64\n",
      " 13  DOL Vehicle ID                                     130443 non-null  int64  \n",
      " 14  Vehicle Location                                   130410 non-null  object \n",
      " 15  Electric Utility                                   130440 non-null  object \n",
      " 16  2020 Census Tract                                  130440 non-null  float64\n",
      "dtypes: float64(3), int64(4), object(10)\n",
      "memory usage: 16.9+ MB\n"
     ]
    }
   ],
   "source": [
    "df.info()"
   ]
  },
  {
   "cell_type": "code",
   "execution_count": 6,
   "id": "fbc41e44",
   "metadata": {
    "execution": {
     "iopub.execute_input": "2023-06-22T18:23:05.957322Z",
     "iopub.status.busy": "2023-06-22T18:23:05.956934Z",
     "iopub.status.idle": "2023-06-22T18:23:05.965172Z",
     "shell.execute_reply": "2023-06-22T18:23:05.964240Z"
    },
    "papermill": {
     "duration": 0.017469,
     "end_time": "2023-06-22T18:23:05.967322",
     "exception": false,
     "start_time": "2023-06-22T18:23:05.949853",
     "status": "completed"
    },
    "tags": []
   },
   "outputs": [
    {
     "data": {
      "text/plain": [
       "VIN (1-10)                                            object\n",
       "County                                                object\n",
       "City                                                  object\n",
       "State                                                 object\n",
       "Postal Code                                          float64\n",
       "Model Year                                             int64\n",
       "Make                                                  object\n",
       "Model                                                 object\n",
       "Electric Vehicle Type                                 object\n",
       "Clean Alternative Fuel Vehicle (CAFV) Eligibility     object\n",
       "Electric Range                                         int64\n",
       "Base MSRP                                              int64\n",
       "Legislative District                                 float64\n",
       "DOL Vehicle ID                                         int64\n",
       "Vehicle Location                                      object\n",
       "Electric Utility                                      object\n",
       "2020 Census Tract                                    float64\n",
       "dtype: object"
      ]
     },
     "execution_count": 6,
     "metadata": {},
     "output_type": "execute_result"
    }
   ],
   "source": [
    "df.dtypes"
   ]
  },
  {
   "cell_type": "code",
   "execution_count": 7,
   "id": "11a6d953",
   "metadata": {
    "execution": {
     "iopub.execute_input": "2023-06-22T18:23:05.981362Z",
     "iopub.status.busy": "2023-06-22T18:23:05.980954Z",
     "iopub.status.idle": "2023-06-22T18:23:06.010380Z",
     "shell.execute_reply": "2023-06-22T18:23:06.009614Z"
    },
    "papermill": {
     "duration": 0.039085,
     "end_time": "2023-06-22T18:23:06.012692",
     "exception": false,
     "start_time": "2023-06-22T18:23:05.973607",
     "status": "completed"
    },
    "tags": []
   },
   "outputs": [
    {
     "data": {
      "text/plain": [
       "King                    68477\n",
       "Snohomish               14651\n",
       "Pierce                  10019\n",
       "Clark                    7700\n",
       "Thurston                 4694\n",
       "                        ...  \n",
       "Wayne                       1\n",
       "Marin                       1\n",
       "Dorchester                  1\n",
       "Sarpy                       1\n",
       "Fairbanks North Star        1\n",
       "Name: County, Length: 166, dtype: int64"
      ]
     },
     "execution_count": 7,
     "metadata": {},
     "output_type": "execute_result"
    }
   ],
   "source": [
    "df['County'].value_counts()"
   ]
  },
  {
   "cell_type": "code",
   "execution_count": 8,
   "id": "972d86e6",
   "metadata": {
    "execution": {
     "iopub.execute_input": "2023-06-22T18:23:06.029310Z",
     "iopub.status.busy": "2023-06-22T18:23:06.028852Z",
     "iopub.status.idle": "2023-06-22T18:23:06.059627Z",
     "shell.execute_reply": "2023-06-22T18:23:06.058535Z"
    },
    "papermill": {
     "duration": 0.041301,
     "end_time": "2023-06-22T18:23:06.061917",
     "exception": false,
     "start_time": "2023-06-22T18:23:06.020616",
     "status": "completed"
    },
    "tags": []
   },
   "outputs": [
    {
     "data": {
      "text/plain": [
       "Seattle        22894\n",
       "Bellevue        6748\n",
       "Redmond         4820\n",
       "Vancouver       4652\n",
       "Kirkland        4071\n",
       "               ...  \n",
       "Asheboro           1\n",
       "Germantown         1\n",
       "Saint Jacob        1\n",
       "Watertown          1\n",
       "Aurora             1\n",
       "Name: City, Length: 656, dtype: int64"
      ]
     },
     "execution_count": 8,
     "metadata": {},
     "output_type": "execute_result"
    }
   ],
   "source": [
    "df['City'].value_counts()"
   ]
  },
  {
   "cell_type": "code",
   "execution_count": 9,
   "id": "cd5ca1e1",
   "metadata": {
    "execution": {
     "iopub.execute_input": "2023-06-22T18:23:06.076933Z",
     "iopub.status.busy": "2023-06-22T18:23:06.076300Z",
     "iopub.status.idle": "2023-06-22T18:23:06.105878Z",
     "shell.execute_reply": "2023-06-22T18:23:06.104638Z"
    },
    "papermill": {
     "duration": 0.040248,
     "end_time": "2023-06-22T18:23:06.108725",
     "exception": false,
     "start_time": "2023-06-22T18:23:06.068477",
     "status": "completed"
    },
    "tags": []
   },
   "outputs": [
    {
     "data": {
      "text/plain": [
       "WA    130138\n",
       "CA        83\n",
       "VA        35\n",
       "MD        29\n",
       "TX        19\n",
       "CO        11\n",
       "NC        10\n",
       "AZ         9\n",
       "IL         8\n",
       "CT         7\n",
       "NV         7\n",
       "GA         6\n",
       "OR         6\n",
       "NY         6\n",
       "SC         5\n",
       "HI         5\n",
       "NJ         5\n",
       "FL         4\n",
       "LA         4\n",
       "DC         4\n",
       "MA         3\n",
       "NE         3\n",
       "KS         3\n",
       "AR         3\n",
       "MO         2\n",
       "BC         2\n",
       "ID         2\n",
       "OH         2\n",
       "TN         2\n",
       "UT         2\n",
       "PA         2\n",
       "WY         2\n",
       "DE         1\n",
       "MN         1\n",
       "AL         1\n",
       "KY         1\n",
       "NM         1\n",
       "AP         1\n",
       "MS         1\n",
       "WI         1\n",
       "OK         1\n",
       "MI         1\n",
       "NH         1\n",
       "IN         1\n",
       "RI         1\n",
       "AK         1\n",
       "Name: State, dtype: int64"
      ]
     },
     "execution_count": 9,
     "metadata": {},
     "output_type": "execute_result"
    }
   ],
   "source": [
    "df['State'].value_counts()"
   ]
  },
  {
   "cell_type": "code",
   "execution_count": 10,
   "id": "35b1b59b",
   "metadata": {
    "execution": {
     "iopub.execute_input": "2023-06-22T18:23:06.124541Z",
     "iopub.status.busy": "2023-06-22T18:23:06.124110Z",
     "iopub.status.idle": "2023-06-22T18:23:06.153296Z",
     "shell.execute_reply": "2023-06-22T18:23:06.152510Z"
    },
    "papermill": {
     "duration": 0.039704,
     "end_time": "2023-06-22T18:23:06.155626",
     "exception": false,
     "start_time": "2023-06-22T18:23:06.115922",
     "status": "completed"
    },
    "tags": []
   },
   "outputs": [
    {
     "data": {
      "text/plain": [
       "TESLA                   59629\n",
       "NISSAN                  13023\n",
       "CHEVROLET               11251\n",
       "FORD                     6743\n",
       "BMW                      5696\n",
       "KIA                      5252\n",
       "TOYOTA                   4770\n",
       "VOLKSWAGEN               3432\n",
       "VOLVO                    3113\n",
       "AUDI                     2622\n",
       "JEEP                     2328\n",
       "HYUNDAI                  2144\n",
       "CHRYSLER                 2139\n",
       "RIVIAN                   1612\n",
       "PORSCHE                   936\n",
       "FIAT                      803\n",
       "HONDA                     791\n",
       "MINI                      728\n",
       "MERCEDES-BENZ             711\n",
       "MITSUBISHI                710\n",
       "POLESTAR                  648\n",
       "SMART                     276\n",
       "SUBARU                    231\n",
       "JAGUAR                    222\n",
       "LINCOLN                   208\n",
       "LUCID                     133\n",
       "CADILLAC                  103\n",
       "LEXUS                      64\n",
       "GENESIS                    54\n",
       "LAND ROVER                 41\n",
       "FISKER                     14\n",
       "AZURE DYNAMICS              7\n",
       "TH!NK                       3\n",
       "WHEEGO ELECTRIC CARS        3\n",
       "BENTLEY                     3\n",
       "Name: Make, dtype: int64"
      ]
     },
     "execution_count": 10,
     "metadata": {},
     "output_type": "execute_result"
    }
   ],
   "source": [
    "df['Make'].value_counts()"
   ]
  },
  {
   "cell_type": "code",
   "execution_count": 11,
   "id": "7ccc74c5",
   "metadata": {
    "execution": {
     "iopub.execute_input": "2023-06-22T18:23:06.172360Z",
     "iopub.status.busy": "2023-06-22T18:23:06.171235Z",
     "iopub.status.idle": "2023-06-22T18:23:06.201477Z",
     "shell.execute_reply": "2023-06-22T18:23:06.200004Z"
    },
    "papermill": {
     "duration": 0.041207,
     "end_time": "2023-06-22T18:23:06.203918",
     "exception": false,
     "start_time": "2023-06-22T18:23:06.162711",
     "status": "completed"
    },
    "tags": []
   },
   "outputs": [
    {
     "data": {
      "text/plain": [
       "MODEL 3        25311\n",
       "MODEL Y        22078\n",
       "LEAF           12961\n",
       "MODEL S         7399\n",
       "BOLT EV         5335\n",
       "               ...  \n",
       "745LE              2\n",
       "BENTAYGA           2\n",
       "918                1\n",
       "FLYING SPUR        1\n",
       "S-10 PICKUP        1\n",
       "Name: Model, Length: 121, dtype: int64"
      ]
     },
     "execution_count": 11,
     "metadata": {},
     "output_type": "execute_result"
    }
   ],
   "source": [
    "df['Model'].value_counts()"
   ]
  },
  {
   "cell_type": "code",
   "execution_count": 12,
   "id": "e7f869d8",
   "metadata": {
    "execution": {
     "iopub.execute_input": "2023-06-22T18:23:06.219996Z",
     "iopub.status.busy": "2023-06-22T18:23:06.219234Z",
     "iopub.status.idle": "2023-06-22T18:23:06.248693Z",
     "shell.execute_reply": "2023-06-22T18:23:06.247594Z"
    },
    "papermill": {
     "duration": 0.03987,
     "end_time": "2023-06-22T18:23:06.250873",
     "exception": false,
     "start_time": "2023-06-22T18:23:06.211003",
     "status": "completed"
    },
    "tags": []
   },
   "outputs": [
    {
     "data": {
      "text/plain": [
       "Clean Alternative Fuel Vehicle Eligible                         60551\n",
       "Eligibility unknown as battery range has not been researched    53446\n",
       "Not eligible due to low battery range                           16446\n",
       "Name: Clean Alternative Fuel Vehicle (CAFV) Eligibility, dtype: int64"
      ]
     },
     "execution_count": 12,
     "metadata": {},
     "output_type": "execute_result"
    }
   ],
   "source": [
    "df['Clean Alternative Fuel Vehicle (CAFV) Eligibility'].value_counts()"
   ]
  },
  {
   "cell_type": "code",
   "execution_count": null,
   "id": "b40d84a3",
   "metadata": {
    "papermill": {
     "duration": 0.007923,
     "end_time": "2023-06-22T18:23:06.266014",
     "exception": false,
     "start_time": "2023-06-22T18:23:06.258091",
     "status": "completed"
    },
    "tags": []
   },
   "outputs": [],
   "source": []
  }
 ],
 "metadata": {
  "kernelspec": {
   "display_name": "Python 3",
   "language": "python",
   "name": "python3"
  },
  "language_info": {
   "codemirror_mode": {
    "name": "ipython",
    "version": 3
   },
   "file_extension": ".py",
   "mimetype": "text/x-python",
   "name": "python",
   "nbconvert_exporter": "python",
   "pygments_lexer": "ipython3",
   "version": "3.10.10"
  },
  "papermill": {
   "default_parameters": {},
   "duration": 14.319597,
   "end_time": "2023-06-22T18:23:07.093967",
   "environment_variables": {},
   "exception": null,
   "input_path": "__notebook__.ipynb",
   "output_path": "__notebook__.ipynb",
   "parameters": {},
   "start_time": "2023-06-22T18:22:52.774370",
   "version": "2.4.0"
  }
 },
 "nbformat": 4,
 "nbformat_minor": 5
}
