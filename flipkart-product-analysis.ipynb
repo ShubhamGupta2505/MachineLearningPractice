{
 "cells": [
  {
   "cell_type": "code",
   "execution_count": 1,
   "id": "d8315df2",
   "metadata": {
    "_cell_guid": "b1076dfc-b9ad-4769-8c92-a6c4dae69d19",
    "_uuid": "8f2839f25d086af736a60e9eeb907d3b93b6e0e5",
    "execution": {
     "iopub.execute_input": "2023-07-04T10:22:12.303699Z",
     "iopub.status.busy": "2023-07-04T10:22:12.303196Z",
     "iopub.status.idle": "2023-07-04T10:22:12.321638Z",
     "shell.execute_reply": "2023-07-04T10:22:12.320482Z"
    },
    "papermill": {
     "duration": 0.028606,
     "end_time": "2023-07-04T10:22:12.324356",
     "exception": false,
     "start_time": "2023-07-04T10:22:12.295750",
     "status": "completed"
    },
    "tags": []
   },
   "outputs": [
    {
     "name": "stdout",
     "output_type": "stream",
     "text": [
      "/kaggle/input/flipkart-fasion-products-dataset/output.xlsx\n",
      "/kaggle/input/flipkart-fasion-products-dataset/flipkart_fashion_products_dataset.json\n"
     ]
    }
   ],
   "source": [
    "# This Python 3 environment comes with many helpful analytics libraries installed\n",
    "# It is defined by the kaggle/python Docker image: https://github.com/kaggle/docker-python\n",
    "# For example, here's several helpful packages to load\n",
    "\n",
    "import numpy as np # linear algebra\n",
    "import pandas as pd # data processing, CSV file I/O (e.g. pd.read_csv)\n",
    "\n",
    "# Input data files are available in the read-only \"../input/\" directory\n",
    "# For example, running this (by clicking run or pressing Shift+Enter) will list all files under the input directory\n",
    "\n",
    "import os\n",
    "for dirname, _, filenames in os.walk('/kaggle/input'):\n",
    "    for filename in filenames:\n",
    "        print(os.path.join(dirname, filename))\n",
    "\n",
    "# You can write up to 20GB to the current directory (/kaggle/working/) that gets preserved as output when you create a version using \"Save & Run All\" \n",
    "# You can also write temporary files to /kaggle/temp/, but they won't be saved outside of the current session"
   ]
  },
  {
   "cell_type": "code",
   "execution_count": 2,
   "id": "9ad69c7d",
   "metadata": {
    "execution": {
     "iopub.execute_input": "2023-07-04T10:22:12.335679Z",
     "iopub.status.busy": "2023-07-04T10:22:12.335067Z",
     "iopub.status.idle": "2023-07-04T10:22:27.822133Z",
     "shell.execute_reply": "2023-07-04T10:22:27.820932Z"
    },
    "papermill": {
     "duration": 15.496797,
     "end_time": "2023-07-04T10:22:27.825960",
     "exception": false,
     "start_time": "2023-07-04T10:22:12.329163",
     "status": "completed"
    },
    "tags": []
   },
   "outputs": [
    {
     "data": {
      "text/html": [
       "<div>\n",
       "<style scoped>\n",
       "    .dataframe tbody tr th:only-of-type {\n",
       "        vertical-align: middle;\n",
       "    }\n",
       "\n",
       "    .dataframe tbody tr th {\n",
       "        vertical-align: top;\n",
       "    }\n",
       "\n",
       "    .dataframe thead th {\n",
       "        text-align: right;\n",
       "    }\n",
       "</style>\n",
       "<table border=\"1\" class=\"dataframe\">\n",
       "  <thead>\n",
       "    <tr style=\"text-align: right;\">\n",
       "      <th></th>\n",
       "      <th>Unnamed: 0</th>\n",
       "      <th>_id</th>\n",
       "      <th>actual_price</th>\n",
       "      <th>average_rating</th>\n",
       "      <th>brand</th>\n",
       "      <th>category</th>\n",
       "      <th>crawled_at</th>\n",
       "      <th>description</th>\n",
       "      <th>discount</th>\n",
       "      <th>images</th>\n",
       "      <th>out_of_stock</th>\n",
       "      <th>pid</th>\n",
       "      <th>product_details</th>\n",
       "      <th>seller</th>\n",
       "      <th>selling_price</th>\n",
       "      <th>sub_category</th>\n",
       "      <th>title</th>\n",
       "      <th>url</th>\n",
       "    </tr>\n",
       "  </thead>\n",
       "  <tbody>\n",
       "    <tr>\n",
       "      <th>0</th>\n",
       "      <td>0</td>\n",
       "      <td>fa8e22d6-c0b6-5229-bb9e-ad52eda39a0a</td>\n",
       "      <td>2,999</td>\n",
       "      <td>3.9</td>\n",
       "      <td>York</td>\n",
       "      <td>Clothing and Accessories</td>\n",
       "      <td>02/10/2021, 20:11:51</td>\n",
       "      <td>69% off</td>\n",
       "      <td>Yorker trackpants made from 100% rich combed c...</td>\n",
       "      <td>['https://rukminim1.flixcart.com/image/128/128...</td>\n",
       "      <td>False</td>\n",
       "      <td>TKPFCZ9EA7H5FYZH</td>\n",
       "      <td>[{'Style Code': '1005COMBO2'}, {'Closure': 'El...</td>\n",
       "      <td>Shyam Enterprises</td>\n",
       "      <td>921</td>\n",
       "      <td>Bottomwear</td>\n",
       "      <td>Solid Men Multicolor Track Pants</td>\n",
       "      <td>https://www.flipkart.com/yorker-solid-men-mult...</td>\n",
       "    </tr>\n",
       "    <tr>\n",
       "      <th>1</th>\n",
       "      <td>1</td>\n",
       "      <td>893e6980-f2a0-531f-b056-34dd63fe912c</td>\n",
       "      <td>1,499</td>\n",
       "      <td>3.9</td>\n",
       "      <td>York</td>\n",
       "      <td>Clothing and Accessories</td>\n",
       "      <td>02/10/2021, 20:11:52</td>\n",
       "      <td>66% off</td>\n",
       "      <td>Yorker trackpants made from 100% rich combed c...</td>\n",
       "      <td>['https://rukminim1.flixcart.com/image/128/128...</td>\n",
       "      <td>False</td>\n",
       "      <td>TKPFCZ9EJZV2UVRZ</td>\n",
       "      <td>[{'Style Code': '1005BLUE'}, {'Closure': 'Draw...</td>\n",
       "      <td>Shyam Enterprises</td>\n",
       "      <td>499</td>\n",
       "      <td>Bottomwear</td>\n",
       "      <td>Solid Men Blue Track Pants</td>\n",
       "      <td>https://www.flipkart.com/yorker-solid-men-blue...</td>\n",
       "    </tr>\n",
       "    <tr>\n",
       "      <th>2</th>\n",
       "      <td>2</td>\n",
       "      <td>eb4c8eab-8206-59d0-bcd1-a724d96bf74f</td>\n",
       "      <td>2,999</td>\n",
       "      <td>3.9</td>\n",
       "      <td>York</td>\n",
       "      <td>Clothing and Accessories</td>\n",
       "      <td>02/10/2021, 20:11:52</td>\n",
       "      <td>68% off</td>\n",
       "      <td>Yorker trackpants made from 100% rich combed c...</td>\n",
       "      <td>['https://rukminim1.flixcart.com/image/128/128...</td>\n",
       "      <td>False</td>\n",
       "      <td>TKPFCZ9EHFCY5Z4Y</td>\n",
       "      <td>[{'Style Code': '1005COMBO4'}, {'Closure': 'El...</td>\n",
       "      <td>Shyam Enterprises</td>\n",
       "      <td>931</td>\n",
       "      <td>Bottomwear</td>\n",
       "      <td>Solid Men Multicolor Track Pants</td>\n",
       "      <td>https://www.flipkart.com/yorker-solid-men-mult...</td>\n",
       "    </tr>\n",
       "    <tr>\n",
       "      <th>3</th>\n",
       "      <td>3</td>\n",
       "      <td>3f3f97bb-5faf-57df-a9ff-1af24e2b1045</td>\n",
       "      <td>2,999</td>\n",
       "      <td>3.9</td>\n",
       "      <td>York</td>\n",
       "      <td>Clothing and Accessories</td>\n",
       "      <td>02/10/2021, 20:11:53</td>\n",
       "      <td>69% off</td>\n",
       "      <td>Yorker trackpants made from 100% rich combed c...</td>\n",
       "      <td>['https://rukminim1.flixcart.com/image/128/128...</td>\n",
       "      <td>False</td>\n",
       "      <td>TKPFCZ9ESZZ7YWEF</td>\n",
       "      <td>[{'Style Code': '1005COMBO3'}, {'Closure': 'El...</td>\n",
       "      <td>Shyam Enterprises</td>\n",
       "      <td>911</td>\n",
       "      <td>Bottomwear</td>\n",
       "      <td>Solid Men Multicolor Track Pants</td>\n",
       "      <td>https://www.flipkart.com/yorker-solid-men-mult...</td>\n",
       "    </tr>\n",
       "    <tr>\n",
       "      <th>4</th>\n",
       "      <td>4</td>\n",
       "      <td>750caa3d-6264-53ca-8ce1-94118a1d8951</td>\n",
       "      <td>2,999</td>\n",
       "      <td>3.9</td>\n",
       "      <td>York</td>\n",
       "      <td>Clothing and Accessories</td>\n",
       "      <td>02/10/2021, 20:11:53</td>\n",
       "      <td>68% off</td>\n",
       "      <td>Yorker trackpants made from 100% rich combed c...</td>\n",
       "      <td>['https://rukminim1.flixcart.com/image/128/128...</td>\n",
       "      <td>False</td>\n",
       "      <td>TKPFCZ9EVXKBSUD7</td>\n",
       "      <td>[{'Style Code': '1005COMBO1'}, {'Closure': 'Dr...</td>\n",
       "      <td>Shyam Enterprises</td>\n",
       "      <td>943</td>\n",
       "      <td>Bottomwear</td>\n",
       "      <td>Solid Men Brown, Grey Track Pants</td>\n",
       "      <td>https://www.flipkart.com/yorker-solid-men-brow...</td>\n",
       "    </tr>\n",
       "  </tbody>\n",
       "</table>\n",
       "</div>"
      ],
      "text/plain": [
       "   Unnamed: 0                                   _id actual_price  \\\n",
       "0           0  fa8e22d6-c0b6-5229-bb9e-ad52eda39a0a        2,999   \n",
       "1           1  893e6980-f2a0-531f-b056-34dd63fe912c        1,499   \n",
       "2           2  eb4c8eab-8206-59d0-bcd1-a724d96bf74f        2,999   \n",
       "3           3  3f3f97bb-5faf-57df-a9ff-1af24e2b1045        2,999   \n",
       "4           4  750caa3d-6264-53ca-8ce1-94118a1d8951        2,999   \n",
       "\n",
       "   average_rating brand                  category            crawled_at  \\\n",
       "0             3.9  York  Clothing and Accessories  02/10/2021, 20:11:51   \n",
       "1             3.9  York  Clothing and Accessories  02/10/2021, 20:11:52   \n",
       "2             3.9  York  Clothing and Accessories  02/10/2021, 20:11:52   \n",
       "3             3.9  York  Clothing and Accessories  02/10/2021, 20:11:53   \n",
       "4             3.9  York  Clothing and Accessories  02/10/2021, 20:11:53   \n",
       "\n",
       "  description                                           discount  \\\n",
       "0     69% off  Yorker trackpants made from 100% rich combed c...   \n",
       "1     66% off  Yorker trackpants made from 100% rich combed c...   \n",
       "2     68% off  Yorker trackpants made from 100% rich combed c...   \n",
       "3     69% off  Yorker trackpants made from 100% rich combed c...   \n",
       "4     68% off  Yorker trackpants made from 100% rich combed c...   \n",
       "\n",
       "                                              images  out_of_stock  \\\n",
       "0  ['https://rukminim1.flixcart.com/image/128/128...         False   \n",
       "1  ['https://rukminim1.flixcart.com/image/128/128...         False   \n",
       "2  ['https://rukminim1.flixcart.com/image/128/128...         False   \n",
       "3  ['https://rukminim1.flixcart.com/image/128/128...         False   \n",
       "4  ['https://rukminim1.flixcart.com/image/128/128...         False   \n",
       "\n",
       "                pid                                    product_details  \\\n",
       "0  TKPFCZ9EA7H5FYZH  [{'Style Code': '1005COMBO2'}, {'Closure': 'El...   \n",
       "1  TKPFCZ9EJZV2UVRZ  [{'Style Code': '1005BLUE'}, {'Closure': 'Draw...   \n",
       "2  TKPFCZ9EHFCY5Z4Y  [{'Style Code': '1005COMBO4'}, {'Closure': 'El...   \n",
       "3  TKPFCZ9ESZZ7YWEF  [{'Style Code': '1005COMBO3'}, {'Closure': 'El...   \n",
       "4  TKPFCZ9EVXKBSUD7  [{'Style Code': '1005COMBO1'}, {'Closure': 'Dr...   \n",
       "\n",
       "              seller selling_price sub_category  \\\n",
       "0  Shyam Enterprises           921   Bottomwear   \n",
       "1  Shyam Enterprises           499   Bottomwear   \n",
       "2  Shyam Enterprises           931   Bottomwear   \n",
       "3  Shyam Enterprises           911   Bottomwear   \n",
       "4  Shyam Enterprises           943   Bottomwear   \n",
       "\n",
       "                               title  \\\n",
       "0   Solid Men Multicolor Track Pants   \n",
       "1         Solid Men Blue Track Pants   \n",
       "2   Solid Men Multicolor Track Pants   \n",
       "3   Solid Men Multicolor Track Pants   \n",
       "4  Solid Men Brown, Grey Track Pants   \n",
       "\n",
       "                                                 url  \n",
       "0  https://www.flipkart.com/yorker-solid-men-mult...  \n",
       "1  https://www.flipkart.com/yorker-solid-men-blue...  \n",
       "2  https://www.flipkart.com/yorker-solid-men-mult...  \n",
       "3  https://www.flipkart.com/yorker-solid-men-mult...  \n",
       "4  https://www.flipkart.com/yorker-solid-men-brow...  "
      ]
     },
     "execution_count": 2,
     "metadata": {},
     "output_type": "execute_result"
    }
   ],
   "source": [
    "df = pd.read_excel('/kaggle/input/flipkart-fasion-products-dataset/output.xlsx')\n",
    "df.head()"
   ]
  },
  {
   "cell_type": "code",
   "execution_count": 3,
   "id": "7de9f6c8",
   "metadata": {
    "execution": {
     "iopub.execute_input": "2023-07-04T10:22:27.842251Z",
     "iopub.status.busy": "2023-07-04T10:22:27.841479Z",
     "iopub.status.idle": "2023-07-04T10:22:27.848379Z",
     "shell.execute_reply": "2023-07-04T10:22:27.847264Z"
    },
    "papermill": {
     "duration": 0.018105,
     "end_time": "2023-07-04T10:22:27.851490",
     "exception": false,
     "start_time": "2023-07-04T10:22:27.833385",
     "status": "completed"
    },
    "tags": []
   },
   "outputs": [
    {
     "data": {
      "text/plain": [
       "(30000, 18)"
      ]
     },
     "execution_count": 3,
     "metadata": {},
     "output_type": "execute_result"
    }
   ],
   "source": [
    "df.shape"
   ]
  },
  {
   "cell_type": "code",
   "execution_count": 4,
   "id": "595e634e",
   "metadata": {
    "execution": {
     "iopub.execute_input": "2023-07-04T10:22:27.869124Z",
     "iopub.status.busy": "2023-07-04T10:22:27.867932Z",
     "iopub.status.idle": "2023-07-04T10:22:27.892282Z",
     "shell.execute_reply": "2023-07-04T10:22:27.890676Z"
    },
    "papermill": {
     "duration": 0.036873,
     "end_time": "2023-07-04T10:22:27.895916",
     "exception": false,
     "start_time": "2023-07-04T10:22:27.859043",
     "status": "completed"
    },
    "tags": []
   },
   "outputs": [
    {
     "data": {
      "text/html": [
       "<div>\n",
       "<style scoped>\n",
       "    .dataframe tbody tr th:only-of-type {\n",
       "        vertical-align: middle;\n",
       "    }\n",
       "\n",
       "    .dataframe tbody tr th {\n",
       "        vertical-align: top;\n",
       "    }\n",
       "\n",
       "    .dataframe thead th {\n",
       "        text-align: right;\n",
       "    }\n",
       "</style>\n",
       "<table border=\"1\" class=\"dataframe\">\n",
       "  <thead>\n",
       "    <tr style=\"text-align: right;\">\n",
       "      <th></th>\n",
       "      <th>Unnamed: 0</th>\n",
       "      <th>average_rating</th>\n",
       "    </tr>\n",
       "  </thead>\n",
       "  <tbody>\n",
       "    <tr>\n",
       "      <th>count</th>\n",
       "      <td>30000.000000</td>\n",
       "      <td>27554.000000</td>\n",
       "    </tr>\n",
       "    <tr>\n",
       "      <th>mean</th>\n",
       "      <td>14999.500000</td>\n",
       "      <td>3.641972</td>\n",
       "    </tr>\n",
       "    <tr>\n",
       "      <th>std</th>\n",
       "      <td>8660.398374</td>\n",
       "      <td>0.664232</td>\n",
       "    </tr>\n",
       "    <tr>\n",
       "      <th>min</th>\n",
       "      <td>0.000000</td>\n",
       "      <td>1.000000</td>\n",
       "    </tr>\n",
       "    <tr>\n",
       "      <th>25%</th>\n",
       "      <td>7499.750000</td>\n",
       "      <td>3.300000</td>\n",
       "    </tr>\n",
       "    <tr>\n",
       "      <th>50%</th>\n",
       "      <td>14999.500000</td>\n",
       "      <td>3.800000</td>\n",
       "    </tr>\n",
       "    <tr>\n",
       "      <th>75%</th>\n",
       "      <td>22499.250000</td>\n",
       "      <td>4.100000</td>\n",
       "    </tr>\n",
       "    <tr>\n",
       "      <th>max</th>\n",
       "      <td>29999.000000</td>\n",
       "      <td>5.000000</td>\n",
       "    </tr>\n",
       "  </tbody>\n",
       "</table>\n",
       "</div>"
      ],
      "text/plain": [
       "         Unnamed: 0  average_rating\n",
       "count  30000.000000    27554.000000\n",
       "mean   14999.500000        3.641972\n",
       "std     8660.398374        0.664232\n",
       "min        0.000000        1.000000\n",
       "25%     7499.750000        3.300000\n",
       "50%    14999.500000        3.800000\n",
       "75%    22499.250000        4.100000\n",
       "max    29999.000000        5.000000"
      ]
     },
     "execution_count": 4,
     "metadata": {},
     "output_type": "execute_result"
    }
   ],
   "source": [
    "df.describe()"
   ]
  },
  {
   "cell_type": "code",
   "execution_count": 5,
   "id": "6630457b",
   "metadata": {
    "execution": {
     "iopub.execute_input": "2023-07-04T10:22:27.911017Z",
     "iopub.status.busy": "2023-07-04T10:22:27.910623Z",
     "iopub.status.idle": "2023-07-04T10:22:28.020369Z",
     "shell.execute_reply": "2023-07-04T10:22:28.019225Z"
    },
    "papermill": {
     "duration": 0.119817,
     "end_time": "2023-07-04T10:22:28.023593",
     "exception": false,
     "start_time": "2023-07-04T10:22:27.903776",
     "status": "completed"
    },
    "tags": []
   },
   "outputs": [
    {
     "name": "stdout",
     "output_type": "stream",
     "text": [
      "<class 'pandas.core.frame.DataFrame'>\n",
      "RangeIndex: 30000 entries, 0 to 29999\n",
      "Data columns (total 18 columns):\n",
      " #   Column           Non-Null Count  Dtype  \n",
      "---  ------           --------------  -----  \n",
      " 0   Unnamed: 0       30000 non-null  int64  \n",
      " 1   _id              30000 non-null  object \n",
      " 2   actual_price     29137 non-null  object \n",
      " 3   average_rating   27554 non-null  float64\n",
      " 4   brand            27932 non-null  object \n",
      " 5   category         30000 non-null  object \n",
      " 6   crawled_at       30000 non-null  object \n",
      " 7   description      29059 non-null  object \n",
      " 8   discount         18017 non-null  object \n",
      " 9   images           30000 non-null  object \n",
      " 10  out_of_stock     30000 non-null  bool   \n",
      " 11  pid              30000 non-null  object \n",
      " 12  product_details  30000 non-null  object \n",
      " 13  seller           28259 non-null  object \n",
      " 14  selling_price    29998 non-null  object \n",
      " 15  sub_category     30000 non-null  object \n",
      " 16  title            30000 non-null  object \n",
      " 17  url              30000 non-null  object \n",
      "dtypes: bool(1), float64(1), int64(1), object(15)\n",
      "memory usage: 3.9+ MB\n"
     ]
    }
   ],
   "source": [
    "df.info()"
   ]
  },
  {
   "cell_type": "code",
   "execution_count": 6,
   "id": "55fb415a",
   "metadata": {
    "execution": {
     "iopub.execute_input": "2023-07-04T10:22:28.041295Z",
     "iopub.status.busy": "2023-07-04T10:22:28.040901Z",
     "iopub.status.idle": "2023-07-04T10:22:28.048745Z",
     "shell.execute_reply": "2023-07-04T10:22:28.047729Z"
    },
    "papermill": {
     "duration": 0.019713,
     "end_time": "2023-07-04T10:22:28.051352",
     "exception": false,
     "start_time": "2023-07-04T10:22:28.031639",
     "status": "completed"
    },
    "tags": []
   },
   "outputs": [
    {
     "data": {
      "text/plain": [
       "Unnamed: 0           int64\n",
       "_id                 object\n",
       "actual_price        object\n",
       "average_rating     float64\n",
       "brand               object\n",
       "category            object\n",
       "crawled_at          object\n",
       "description         object\n",
       "discount            object\n",
       "images              object\n",
       "out_of_stock          bool\n",
       "pid                 object\n",
       "product_details     object\n",
       "seller              object\n",
       "selling_price       object\n",
       "sub_category        object\n",
       "title               object\n",
       "url                 object\n",
       "dtype: object"
      ]
     },
     "execution_count": 6,
     "metadata": {},
     "output_type": "execute_result"
    }
   ],
   "source": [
    "df.dtypes"
   ]
  },
  {
   "cell_type": "code",
   "execution_count": 7,
   "id": "76a4dfe6",
   "metadata": {
    "execution": {
     "iopub.execute_input": "2023-07-04T10:22:28.071892Z",
     "iopub.status.busy": "2023-07-04T10:22:28.070994Z",
     "iopub.status.idle": "2023-07-04T10:22:28.165542Z",
     "shell.execute_reply": "2023-07-04T10:22:28.164731Z"
    },
    "papermill": {
     "duration": 0.106401,
     "end_time": "2023-07-04T10:22:28.168148",
     "exception": false,
     "start_time": "2023-07-04T10:22:28.061747",
     "status": "completed"
    },
    "tags": []
   },
   "outputs": [
    {
     "data": {
      "text/plain": [
       "Unnamed: 0             0\n",
       "_id                    0\n",
       "actual_price         863\n",
       "average_rating      2446\n",
       "brand               2068\n",
       "category               0\n",
       "crawled_at             0\n",
       "description          941\n",
       "discount           11983\n",
       "images                 0\n",
       "out_of_stock           0\n",
       "pid                    0\n",
       "product_details        0\n",
       "seller              1741\n",
       "selling_price          2\n",
       "sub_category           0\n",
       "title                  0\n",
       "url                    0\n",
       "dtype: int64"
      ]
     },
     "execution_count": 7,
     "metadata": {},
     "output_type": "execute_result"
    }
   ],
   "source": [
    "df.isnull().sum()"
   ]
  },
  {
   "cell_type": "code",
   "execution_count": 8,
   "id": "7ff005dd",
   "metadata": {
    "execution": {
     "iopub.execute_input": "2023-07-04T10:22:28.185971Z",
     "iopub.status.busy": "2023-07-04T10:22:28.185179Z",
     "iopub.status.idle": "2023-07-04T10:22:28.376590Z",
     "shell.execute_reply": "2023-07-04T10:22:28.375423Z"
    },
    "papermill": {
     "duration": 0.203219,
     "end_time": "2023-07-04T10:22:28.379691",
     "exception": false,
     "start_time": "2023-07-04T10:22:28.176472",
     "status": "completed"
    },
    "tags": []
   },
   "outputs": [
    {
     "data": {
      "text/plain": [
       "0"
      ]
     },
     "execution_count": 8,
     "metadata": {},
     "output_type": "execute_result"
    }
   ],
   "source": [
    "df.duplicated().sum()"
   ]
  },
  {
   "cell_type": "code",
   "execution_count": 9,
   "id": "1e9a97f3",
   "metadata": {
    "execution": {
     "iopub.execute_input": "2023-07-04T10:22:28.397858Z",
     "iopub.status.busy": "2023-07-04T10:22:28.396942Z",
     "iopub.status.idle": "2023-07-04T10:22:28.411110Z",
     "shell.execute_reply": "2023-07-04T10:22:28.409751Z"
    },
    "papermill": {
     "duration": 0.025366,
     "end_time": "2023-07-04T10:22:28.413668",
     "exception": false,
     "start_time": "2023-07-04T10:22:28.388302",
     "status": "completed"
    },
    "tags": []
   },
   "outputs": [
    {
     "data": {
      "text/plain": [
       "ARBO         999\n",
       "Pu           996\n",
       "True Bl      996\n",
       "REEB         996\n",
       "ECKO Unl     993\n",
       "            ... \n",
       "Modenti        1\n",
       "PIS            1\n",
       "Indian M       1\n",
       "RV CREATI      1\n",
       "KRV            1\n",
       "Name: brand, Length: 324, dtype: int64"
      ]
     },
     "execution_count": 9,
     "metadata": {},
     "output_type": "execute_result"
    }
   ],
   "source": [
    "df['brand'].value_counts()"
   ]
  },
  {
   "cell_type": "code",
   "execution_count": 10,
   "id": "5b45d587",
   "metadata": {
    "execution": {
     "iopub.execute_input": "2023-07-04T10:22:28.427030Z",
     "iopub.status.busy": "2023-07-04T10:22:28.426635Z",
     "iopub.status.idle": "2023-07-04T10:22:28.436754Z",
     "shell.execute_reply": "2023-07-04T10:22:28.435571Z"
    },
    "papermill": {
     "duration": 0.019415,
     "end_time": "2023-07-04T10:22:28.438997",
     "exception": false,
     "start_time": "2023-07-04T10:22:28.419582",
     "status": "completed"
    },
    "tags": []
   },
   "outputs": [
    {
     "data": {
      "text/plain": [
       "Clothing and Accessories    28971\n",
       "Footwear                      987\n",
       "Bags, Wallets & Belts          41\n",
       "Toys                            1\n",
       "Name: category, dtype: int64"
      ]
     },
     "execution_count": 10,
     "metadata": {},
     "output_type": "execute_result"
    }
   ],
   "source": [
    "df['category'].value_counts()"
   ]
  },
  {
   "cell_type": "code",
   "execution_count": 11,
   "id": "b7f8d9da",
   "metadata": {
    "execution": {
     "iopub.execute_input": "2023-07-04T10:22:28.453057Z",
     "iopub.status.busy": "2023-07-04T10:22:28.452227Z",
     "iopub.status.idle": "2023-07-04T10:22:28.461270Z",
     "shell.execute_reply": "2023-07-04T10:22:28.460208Z"
    },
    "papermill": {
     "duration": 0.018691,
     "end_time": "2023-07-04T10:22:28.463750",
     "exception": false,
     "start_time": "2023-07-04T10:22:28.445059",
     "status": "completed"
    },
    "tags": []
   },
   "outputs": [
    {
     "data": {
      "text/plain": [
       "False    28258\n",
       "True      1742\n",
       "Name: out_of_stock, dtype: int64"
      ]
     },
     "execution_count": 11,
     "metadata": {},
     "output_type": "execute_result"
    }
   ],
   "source": [
    "df['out_of_stock'].value_counts()"
   ]
  },
  {
   "cell_type": "code",
   "execution_count": 12,
   "id": "3a42f64a",
   "metadata": {
    "execution": {
     "iopub.execute_input": "2023-07-04T10:22:28.478529Z",
     "iopub.status.busy": "2023-07-04T10:22:28.477614Z",
     "iopub.status.idle": "2023-07-04T10:22:28.490661Z",
     "shell.execute_reply": "2023-07-04T10:22:28.489660Z"
    },
    "papermill": {
     "duration": 0.023003,
     "end_time": "2023-07-04T10:22:28.492926",
     "exception": false,
     "start_time": "2023-07-04T10:22:28.469923",
     "status": "completed"
    },
    "tags": []
   },
   "outputs": [
    {
     "data": {
      "text/plain": [
       "60% off    2335\n",
       "50% off    2164\n",
       "35% off    1154\n",
       "63% off    1017\n",
       "57% off     888\n",
       "           ... \n",
       "83% off       9\n",
       "84% off       8\n",
       "86% off       2\n",
       "87% off       1\n",
       "85% off       1\n",
       "Name: description, Length: 87, dtype: int64"
      ]
     },
     "execution_count": 12,
     "metadata": {},
     "output_type": "execute_result"
    }
   ],
   "source": [
    "df['description'].value_counts()"
   ]
  },
  {
   "cell_type": "code",
   "execution_count": 13,
   "id": "452ce161",
   "metadata": {
    "execution": {
     "iopub.execute_input": "2023-07-04T10:22:28.508208Z",
     "iopub.status.busy": "2023-07-04T10:22:28.507517Z",
     "iopub.status.idle": "2023-07-04T10:22:28.518036Z",
     "shell.execute_reply": "2023-07-04T10:22:28.516986Z"
    },
    "papermill": {
     "duration": 0.020442,
     "end_time": "2023-07-04T10:22:28.520218",
     "exception": false,
     "start_time": "2023-07-04T10:22:28.499776",
     "status": "completed"
    },
    "tags": []
   },
   "outputs": [
    {
     "data": {
      "text/plain": [
       "Topwear                                 16575\n",
       "Bottomwear                               3862\n",
       "Winter Wear                              2753\n",
       "Innerwear and Swimwear                   1774\n",
       "Clothing Accessories                     1760\n",
       "Kurtas, Ethnic Sets and Bottoms          1248\n",
       "Men's Footwear                            987\n",
       "Fabrics                                   535\n",
       "Blazers, Waistcoats and Suits             136\n",
       "Sleepwear                                 122\n",
       "Tracksuits                                 90\n",
       "Raincoats                                  34\n",
       "Uber Urban Clothing and Accessories        28\n",
       "Inspire Clothing and Accessories           23\n",
       "Sunshopping Bags, Wallets & Belts          21\n",
       "Crocks Club Clothing and Accessories       15\n",
       "Roy Clothing and Accessories               12\n",
       "SUNSHOPPING Bags, Wallets & Belts          10\n",
       "INSPIRE Clothing and Accessories            4\n",
       "Winsome Deal Bags, Wallets & Belts          4\n",
       "YOFAMA Bags, Wallets & Belts                4\n",
       "Party Supplies                              1\n",
       "Brand Trunk Bags, Wallets & Belts           1\n",
       "mentiezi Bags, Wallets & Belts              1\n",
       "Name: sub_category, dtype: int64"
      ]
     },
     "execution_count": 13,
     "metadata": {},
     "output_type": "execute_result"
    }
   ],
   "source": [
    "df['sub_category'].value_counts()"
   ]
  },
  {
   "cell_type": "code",
   "execution_count": 14,
   "id": "afdd16ad",
   "metadata": {
    "execution": {
     "iopub.execute_input": "2023-07-04T10:22:28.534921Z",
     "iopub.status.busy": "2023-07-04T10:22:28.534188Z",
     "iopub.status.idle": "2023-07-04T10:22:28.545552Z",
     "shell.execute_reply": "2023-07-04T10:22:28.544160Z"
    },
    "papermill": {
     "duration": 0.022425,
     "end_time": "2023-07-04T10:22:28.548853",
     "exception": false,
     "start_time": "2023-07-04T10:22:28.526428",
     "status": "completed"
    },
    "tags": []
   },
   "outputs": [
    {
     "data": {
      "text/plain": [
       "RetailNet                                                                                         1615\n",
       "ARBOR                                                                                              976\n",
       "SandSMarketing                                                                                     927\n",
       "BioworldMerchandising                                                                              846\n",
       "Keoti                                                                                              668\n",
       "                                                                                                  ... \n",
       "HR HOUSE                                                                                             1\n",
       "Foot Fetish4.3Seller changed. Check for any changes in pricing and related informatio                1\n",
       "Tayab Manch Fashions4.3Seller changed. Check for any changes in pricing and related informatio       1\n",
       "Indiathebestdeals3.2Seller changed. Check for any changes in pricing and related informatio          1\n",
       "Diamond Shopping.                                                                                    1\n",
       "Name: seller, Length: 534, dtype: int64"
      ]
     },
     "execution_count": 14,
     "metadata": {},
     "output_type": "execute_result"
    }
   ],
   "source": [
    "df['seller'].value_counts()"
   ]
  },
  {
   "cell_type": "code",
   "execution_count": 15,
   "id": "b10be8bc",
   "metadata": {
    "execution": {
     "iopub.execute_input": "2023-07-04T10:22:28.565916Z",
     "iopub.status.busy": "2023-07-04T10:22:28.565230Z",
     "iopub.status.idle": "2023-07-04T10:22:28.577011Z",
     "shell.execute_reply": "2023-07-04T10:22:28.576222Z"
    },
    "papermill": {
     "duration": 0.02201,
     "end_time": "2023-07-04T10:22:28.579175",
     "exception": false,
     "start_time": "2023-07-04T10:22:28.557165",
     "status": "completed"
    },
    "tags": []
   },
   "outputs": [
    {
     "data": {
      "text/plain": [
       "Printed Men Round Neck Black T-Shirt                               856\n",
       "Printed Men Round Neck White T-Shirt                               703\n",
       "Slides                                                             556\n",
       "Full Sleeve Solid Men Sweatshirt                                   519\n",
       "Printed Men Round Neck Blue T-Shirt                                363\n",
       "                                                                  ... \n",
       "Men Slim Fit Printed Mandarin Collar Formal Shirt                    1\n",
       "Printed Single Breasted Formal Men Full Sleeve Blazer  (Black)       1\n",
       "3 Piece Solid Men Suit                                               1\n",
       "Slim Fit Men Blue Linen Blend Trousers                               1\n",
       "Checkered Single Breasted Casual Men Full Sleeve Blazer  (Grey)      1\n",
       "Name: title, Length: 4579, dtype: int64"
      ]
     },
     "execution_count": 15,
     "metadata": {},
     "output_type": "execute_result"
    }
   ],
   "source": [
    "df['title'].value_counts()"
   ]
  },
  {
   "cell_type": "code",
   "execution_count": 16,
   "id": "27fd368e",
   "metadata": {
    "execution": {
     "iopub.execute_input": "2023-07-04T10:22:28.593926Z",
     "iopub.status.busy": "2023-07-04T10:22:28.593536Z",
     "iopub.status.idle": "2023-07-04T10:22:30.561974Z",
     "shell.execute_reply": "2023-07-04T10:22:30.561072Z"
    },
    "papermill": {
     "duration": 1.978297,
     "end_time": "2023-07-04T10:22:30.563980",
     "exception": false,
     "start_time": "2023-07-04T10:22:28.585683",
     "status": "completed"
    },
    "tags": []
   },
   "outputs": [
    {
     "data": {
      "text/plain": [
       "Text(0.5, 1.0, 'Out of Stock')"
      ]
     },
     "execution_count": 16,
     "metadata": {},
     "output_type": "execute_result"
    },
    {
     "data": {
      "image/png": "[encoded data removed]",
      "text/plain": [
       "<Figure size 2000x800 with 2 Axes>"
      ]
     },
     "metadata": {},
     "output_type": "display_data"
    }
   ],
   "source": [
    "import matplotlib.pyplot as plt \n",
    "import seaborn as sns\n",
    "plt.figure(figsize=(20,8))\n",
    "plt.subplot(1,2,1)\n",
    "df['category'].value_counts().plot.pie(autopct='%1.2f%%')\n",
    "plt.title('Different Category Available')\n",
    "plt.subplot(1,2,2)\n",
    "df['out_of_stock'].value_counts().plot.pie(autopct='%1.2f%%')\n",
    "plt.title('Out of Stock')"
   ]
  },
  {
   "cell_type": "code",
   "execution_count": 17,
   "id": "b82d1ca6",
   "metadata": {
    "execution": {
     "iopub.execute_input": "2023-07-04T10:22:30.581921Z",
     "iopub.status.busy": "2023-07-04T10:22:30.581211Z",
     "iopub.status.idle": "2023-07-04T10:22:35.460430Z",
     "shell.execute_reply": "2023-07-04T10:22:35.459266Z"
    },
    "papermill": {
     "duration": 4.890821,
     "end_time": "2023-07-04T10:22:35.462957",
     "exception": false,
     "start_time": "2023-07-04T10:22:30.572136",
     "status": "completed"
    },
    "tags": []
   },
   "outputs": [
    {
     "data": {
      "text/plain": [
       "<Axes: ylabel='actual_price'>"
      ]
     },
     "execution_count": 17,
     "metadata": {},
     "output_type": "execute_result"
    },
    {
     "data": {
      "image/png": "[encoded data removed]",
      "text/plain": [
       "<Figure size 640x480 with 1 Axes>"
      ]
     },
     "metadata": {},
     "output_type": "display_data"
    }
   ],
   "source": [
    "sns.lineplot(x=df.index,y='actual_price',data=df)"
   ]
  }
 ],
 "metadata": {
  "kernelspec": {
   "display_name": "Python 3",
   "language": "python",
   "name": "python3"
  },
  "language_info": {
   "codemirror_mode": {
    "name": "ipython",
    "version": 3
   },
   "file_extension": ".py",
   "mimetype": "text/x-python",
   "name": "python",
   "nbconvert_exporter": "python",
   "pygments_lexer": "ipython3",
   "version": "3.10.10"
  },
  "papermill": {
   "default_parameters": {},
   "duration": 35.326533,
   "end_time": "2023-07-04T10:22:36.595212",
   "environment_variables": {},
   "exception": null,
   "input_path": "__notebook__.ipynb",
   "output_path": "__notebook__.ipynb",
   "parameters": {},
   "start_time": "2023-07-04T10:22:01.268679",
   "version": "2.4.0"
  }
 },
 "nbformat": 4,
 "nbformat_minor": 5
}
