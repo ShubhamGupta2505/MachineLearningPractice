{
 "cells": [
  {
   "cell_type": "code",
   "execution_count": 1,
   "id": "526f4e3b",
   "metadata": {
    "_cell_guid": "b1076dfc-b9ad-4769-8c92-a6c4dae69d19",
    "_uuid": "8f2839f25d086af736a60e9eeb907d3b93b6e0e5",
    "execution": {
     "iopub.execute_input": "2023-06-27T12:43:37.468311Z",
     "iopub.status.busy": "2023-06-27T12:43:37.467913Z",
     "iopub.status.idle": "2023-06-27T12:43:37.489421Z",
     "shell.execute_reply": "2023-06-27T12:43:37.488061Z"
    },
    "papermill": {
     "duration": 0.029992,
     "end_time": "2023-06-27T12:43:37.492352",
     "exception": false,
     "start_time": "2023-06-27T12:43:37.462360",
     "status": "completed"
    },
    "tags": []
   },
   "outputs": [
    {
     "name": "stdout",
     "output_type": "stream",
     "text": [
      "/kaggle/input/3d-printer-material-requirement/3D_printer.csv\n"
     ]
    }
   ],
   "source": [
    "# This Python 3 environment comes with many helpful analytics libraries installed\n",
    "# It is defined by the kaggle/python Docker image: https://github.com/kaggle/docker-python\n",
    "# For example, here's several helpful packages to load\n",
    "\n",
    "import numpy as np # linear algebra\n",
    "import pandas as pd # data processing, CSV file I/O (e.g. pd.read_csv)\n",
    "\n",
    "# Input data files are available in the read-only \"../input/\" directory\n",
    "# For example, running this (by clicking run or pressing Shift+Enter) will list all files under the input directory\n",
    "\n",
    "import os\n",
    "for dirname, _, filenames in os.walk('/kaggle/input'):\n",
    "    for filename in filenames:\n",
    "        print(os.path.join(dirname, filename))\n",
    "\n",
    "# You can write up to 20GB to the current directory (/kaggle/working/) that gets preserved as output when you create a version using \"Save & Run All\" \n",
    "# You can also write temporary files to /kaggle/temp/, but they won't be saved outside of the current session"
   ]
  },
  {
   "cell_type": "code",
   "execution_count": 2,
   "id": "ba7c8ae9",
   "metadata": {
    "execution": {
     "iopub.execute_input": "2023-06-27T12:43:37.501124Z",
     "iopub.status.busy": "2023-06-27T12:43:37.500719Z",
     "iopub.status.idle": "2023-06-27T12:43:37.562978Z",
     "shell.execute_reply": "2023-06-27T12:43:37.562084Z"
    },
    "papermill": {
     "duration": 0.069459,
     "end_time": "2023-06-27T12:43:37.565395",
     "exception": false,
     "start_time": "2023-06-27T12:43:37.495936",
     "status": "completed"
    },
    "tags": []
   },
   "outputs": [
    {
     "data": {
      "text/html": [
       "<div>\n",
       "<style scoped>\n",
       "    .dataframe tbody tr th:only-of-type {\n",
       "        vertical-align: middle;\n",
       "    }\n",
       "\n",
       "    .dataframe tbody tr th {\n",
       "        vertical-align: top;\n",
       "    }\n",
       "\n",
       "    .dataframe thead th {\n",
       "        text-align: right;\n",
       "    }\n",
       "</style>\n",
       "<table border=\"1\" class=\"dataframe\">\n",
       "  <thead>\n",
       "    <tr style=\"text-align: right;\">\n",
       "      <th></th>\n",
       "      <th>layer_height</th>\n",
       "      <th>wall_thickness</th>\n",
       "      <th>infill_density</th>\n",
       "      <th>infill_pattern</th>\n",
       "      <th>nozzle_temperature</th>\n",
       "      <th>Bed_temperature</th>\n",
       "      <th>Print_speed</th>\n",
       "      <th>Material</th>\n",
       "      <th>Fan_speed</th>\n",
       "      <th>Roughness</th>\n",
       "      <th>Tension_strenght</th>\n",
       "      <th>Elongation</th>\n",
       "    </tr>\n",
       "  </thead>\n",
       "  <tbody>\n",
       "    <tr>\n",
       "      <th>0</th>\n",
       "      <td>0.02</td>\n",
       "      <td>8.0</td>\n",
       "      <td>90</td>\n",
       "      <td>grid</td>\n",
       "      <td>220</td>\n",
       "      <td>60</td>\n",
       "      <td>40</td>\n",
       "      <td>abs</td>\n",
       "      <td>0</td>\n",
       "      <td>25</td>\n",
       "      <td>18</td>\n",
       "      <td>1.2</td>\n",
       "    </tr>\n",
       "    <tr>\n",
       "      <th>1</th>\n",
       "      <td>0.02</td>\n",
       "      <td>7.0</td>\n",
       "      <td>90</td>\n",
       "      <td>honeycomb</td>\n",
       "      <td>225</td>\n",
       "      <td>65</td>\n",
       "      <td>40</td>\n",
       "      <td>abs</td>\n",
       "      <td>25</td>\n",
       "      <td>32</td>\n",
       "      <td>16</td>\n",
       "      <td>1.4</td>\n",
       "    </tr>\n",
       "    <tr>\n",
       "      <th>2</th>\n",
       "      <td>0.02</td>\n",
       "      <td>1.0</td>\n",
       "      <td>80</td>\n",
       "      <td>grid</td>\n",
       "      <td>230</td>\n",
       "      <td>70</td>\n",
       "      <td>40</td>\n",
       "      <td>abs</td>\n",
       "      <td>50</td>\n",
       "      <td>40</td>\n",
       "      <td>8</td>\n",
       "      <td>0.8</td>\n",
       "    </tr>\n",
       "    <tr>\n",
       "      <th>3</th>\n",
       "      <td>0.02</td>\n",
       "      <td>4.0</td>\n",
       "      <td>70</td>\n",
       "      <td>honeycomb</td>\n",
       "      <td>240</td>\n",
       "      <td>75</td>\n",
       "      <td>40</td>\n",
       "      <td>abs</td>\n",
       "      <td>75</td>\n",
       "      <td>68</td>\n",
       "      <td>10</td>\n",
       "      <td>0.5</td>\n",
       "    </tr>\n",
       "    <tr>\n",
       "      <th>4</th>\n",
       "      <td>0.02</td>\n",
       "      <td>6.0</td>\n",
       "      <td>90</td>\n",
       "      <td>grid</td>\n",
       "      <td>250</td>\n",
       "      <td>80</td>\n",
       "      <td>40</td>\n",
       "      <td>abs</td>\n",
       "      <td>100</td>\n",
       "      <td>92</td>\n",
       "      <td>5</td>\n",
       "      <td>0.7</td>\n",
       "    </tr>\n",
       "  </tbody>\n",
       "</table>\n",
       "</div>"
      ],
      "text/plain": [
       "   layer_height  wall_thickness  infill_density infill_pattern  \\\n",
       "0          0.02             8.0              90           grid   \n",
       "1          0.02             7.0              90      honeycomb   \n",
       "2          0.02             1.0              80           grid   \n",
       "3          0.02             4.0              70      honeycomb   \n",
       "4          0.02             6.0              90           grid   \n",
       "\n",
       "   nozzle_temperature  Bed_temperature  Print_speed Material  Fan_speed  \\\n",
       "0                 220               60           40      abs          0   \n",
       "1                 225               65           40      abs         25   \n",
       "2                 230               70           40      abs         50   \n",
       "3                 240               75           40      abs         75   \n",
       "4                 250               80           40      abs        100   \n",
       "\n",
       "   Roughness  Tension_strenght  Elongation  \n",
       "0         25                18         1.2  \n",
       "1         32                16         1.4  \n",
       "2         40                 8         0.8  \n",
       "3         68                10         0.5  \n",
       "4         92                 5         0.7  "
      ]
     },
     "execution_count": 2,
     "metadata": {},
     "output_type": "execute_result"
    }
   ],
   "source": [
    "df = pd.read_csv('/kaggle/input/3d-printer-material-requirement/3D_printer.csv')\n",
    "df.head()"
   ]
  },
  {
   "cell_type": "code",
   "execution_count": 3,
   "id": "f9e5e8c1",
   "metadata": {
    "execution": {
     "iopub.execute_input": "2023-06-27T12:43:37.575855Z",
     "iopub.status.busy": "2023-06-27T12:43:37.575119Z",
     "iopub.status.idle": "2023-06-27T12:43:37.581426Z",
     "shell.execute_reply": "2023-06-27T12:43:37.580197Z"
    },
    "papermill": {
     "duration": 0.014962,
     "end_time": "2023-06-27T12:43:37.584143",
     "exception": false,
     "start_time": "2023-06-27T12:43:37.569181",
     "status": "completed"
    },
    "tags": []
   },
   "outputs": [
    {
     "data": {
      "text/plain": [
       "(66, 12)"
      ]
     },
     "execution_count": 3,
     "metadata": {},
     "output_type": "execute_result"
    }
   ],
   "source": [
    "df.shape"
   ]
  },
  {
   "cell_type": "code",
   "execution_count": 4,
   "id": "1a565d59",
   "metadata": {
    "execution": {
     "iopub.execute_input": "2023-06-27T12:43:37.595874Z",
     "iopub.status.busy": "2023-06-27T12:43:37.595403Z",
     "iopub.status.idle": "2023-06-27T12:43:37.649222Z",
     "shell.execute_reply": "2023-06-27T12:43:37.647599Z"
    },
    "papermill": {
     "duration": 0.063882,
     "end_time": "2023-06-27T12:43:37.652659",
     "exception": false,
     "start_time": "2023-06-27T12:43:37.588777",
     "status": "completed"
    },
    "tags": []
   },
   "outputs": [
    {
     "data": {
      "text/html": [
       "<div>\n",
       "<style scoped>\n",
       "    .dataframe tbody tr th:only-of-type {\n",
       "        vertical-align: middle;\n",
       "    }\n",
       "\n",
       "    .dataframe tbody tr th {\n",
       "        vertical-align: top;\n",
       "    }\n",
       "\n",
       "    .dataframe thead th {\n",
       "        text-align: right;\n",
       "    }\n",
       "</style>\n",
       "<table border=\"1\" class=\"dataframe\">\n",
       "  <thead>\n",
       "    <tr style=\"text-align: right;\">\n",
       "      <th></th>\n",
       "      <th>layer_height</th>\n",
       "      <th>wall_thickness</th>\n",
       "      <th>infill_density</th>\n",
       "      <th>nozzle_temperature</th>\n",
       "      <th>Bed_temperature</th>\n",
       "      <th>Print_speed</th>\n",
       "      <th>Fan_speed</th>\n",
       "      <th>Roughness</th>\n",
       "      <th>Tension_strenght</th>\n",
       "      <th>Elongation</th>\n",
       "    </tr>\n",
       "  </thead>\n",
       "  <tbody>\n",
       "    <tr>\n",
       "      <th>count</th>\n",
       "      <td>66.000000</td>\n",
       "      <td>66.000000</td>\n",
       "      <td>66.000000</td>\n",
       "      <td>66.000000</td>\n",
       "      <td>66.000000</td>\n",
       "      <td>66.000000</td>\n",
       "      <td>66.000000</td>\n",
       "      <td>66.000000</td>\n",
       "      <td>66.000000</td>\n",
       "      <td>66.000000</td>\n",
       "    </tr>\n",
       "    <tr>\n",
       "      <th>mean</th>\n",
       "      <td>0.098182</td>\n",
       "      <td>5.583333</td>\n",
       "      <td>54.727273</td>\n",
       "      <td>222.272727</td>\n",
       "      <td>70.378788</td>\n",
       "      <td>64.242424</td>\n",
       "      <td>48.530303</td>\n",
       "      <td>160.545455</td>\n",
       "      <td>19.757576</td>\n",
       "      <td>1.625000</td>\n",
       "    </tr>\n",
       "    <tr>\n",
       "      <th>std</th>\n",
       "      <td>0.062608</td>\n",
       "      <td>2.952943</td>\n",
       "      <td>27.545512</td>\n",
       "      <td>15.094110</td>\n",
       "      <td>8.651839</td>\n",
       "      <td>28.598580</td>\n",
       "      <td>35.834328</td>\n",
       "      <td>95.703899</td>\n",
       "      <td>9.202108</td>\n",
       "      <td>0.762498</td>\n",
       "    </tr>\n",
       "    <tr>\n",
       "      <th>min</th>\n",
       "      <td>0.020000</td>\n",
       "      <td>1.000000</td>\n",
       "      <td>10.000000</td>\n",
       "      <td>200.000000</td>\n",
       "      <td>60.000000</td>\n",
       "      <td>40.000000</td>\n",
       "      <td>0.000000</td>\n",
       "      <td>21.000000</td>\n",
       "      <td>4.000000</td>\n",
       "      <td>0.400000</td>\n",
       "    </tr>\n",
       "    <tr>\n",
       "      <th>25%</th>\n",
       "      <td>0.052500</td>\n",
       "      <td>3.000000</td>\n",
       "      <td>40.000000</td>\n",
       "      <td>210.000000</td>\n",
       "      <td>65.000000</td>\n",
       "      <td>40.000000</td>\n",
       "      <td>25.000000</td>\n",
       "      <td>78.250000</td>\n",
       "      <td>12.000000</td>\n",
       "      <td>1.025000</td>\n",
       "    </tr>\n",
       "    <tr>\n",
       "      <th>50%</th>\n",
       "      <td>0.100000</td>\n",
       "      <td>6.000000</td>\n",
       "      <td>50.000000</td>\n",
       "      <td>220.000000</td>\n",
       "      <td>70.000000</td>\n",
       "      <td>60.000000</td>\n",
       "      <td>50.000000</td>\n",
       "      <td>149.500000</td>\n",
       "      <td>18.500000</td>\n",
       "      <td>1.500000</td>\n",
       "    </tr>\n",
       "    <tr>\n",
       "      <th>75%</th>\n",
       "      <td>0.150000</td>\n",
       "      <td>8.000000</td>\n",
       "      <td>80.000000</td>\n",
       "      <td>230.000000</td>\n",
       "      <td>75.000000</td>\n",
       "      <td>60.000000</td>\n",
       "      <td>75.000000</td>\n",
       "      <td>220.000000</td>\n",
       "      <td>27.000000</td>\n",
       "      <td>2.175000</td>\n",
       "    </tr>\n",
       "    <tr>\n",
       "      <th>max</th>\n",
       "      <td>0.200000</td>\n",
       "      <td>12.000000</td>\n",
       "      <td>100.000000</td>\n",
       "      <td>250.000000</td>\n",
       "      <td>100.000000</td>\n",
       "      <td>120.000000</td>\n",
       "      <td>100.000000</td>\n",
       "      <td>368.000000</td>\n",
       "      <td>38.000000</td>\n",
       "      <td>3.300000</td>\n",
       "    </tr>\n",
       "  </tbody>\n",
       "</table>\n",
       "</div>"
      ],
      "text/plain": [
       "       layer_height  wall_thickness  infill_density  nozzle_temperature  \\\n",
       "count     66.000000       66.000000       66.000000           66.000000   \n",
       "mean       0.098182        5.583333       54.727273          222.272727   \n",
       "std        0.062608        2.952943       27.545512           15.094110   \n",
       "min        0.020000        1.000000       10.000000          200.000000   \n",
       "25%        0.052500        3.000000       40.000000          210.000000   \n",
       "50%        0.100000        6.000000       50.000000          220.000000   \n",
       "75%        0.150000        8.000000       80.000000          230.000000   \n",
       "max        0.200000       12.000000      100.000000          250.000000   \n",
       "\n",
       "       Bed_temperature  Print_speed   Fan_speed   Roughness  Tension_strenght  \\\n",
       "count        66.000000    66.000000   66.000000   66.000000         66.000000   \n",
       "mean         70.378788    64.242424   48.530303  160.545455         19.757576   \n",
       "std           8.651839    28.598580   35.834328   95.703899          9.202108   \n",
       "min          60.000000    40.000000    0.000000   21.000000          4.000000   \n",
       "25%          65.000000    40.000000   25.000000   78.250000         12.000000   \n",
       "50%          70.000000    60.000000   50.000000  149.500000         18.500000   \n",
       "75%          75.000000    60.000000   75.000000  220.000000         27.000000   \n",
       "max         100.000000   120.000000  100.000000  368.000000         38.000000   \n",
       "\n",
       "       Elongation  \n",
       "count   66.000000  \n",
       "mean     1.625000  \n",
       "std      0.762498  \n",
       "min      0.400000  \n",
       "25%      1.025000  \n",
       "50%      1.500000  \n",
       "75%      2.175000  \n",
       "max      3.300000  "
      ]
     },
     "execution_count": 4,
     "metadata": {},
     "output_type": "execute_result"
    }
   ],
   "source": [
    "df.describe()"
   ]
  },
  {
   "cell_type": "code",
   "execution_count": 5,
   "id": "8fd82c45",
   "metadata": {
    "execution": {
     "iopub.execute_input": "2023-06-27T12:43:37.662911Z",
     "iopub.status.busy": "2023-06-27T12:43:37.662448Z",
     "iopub.status.idle": "2023-06-27T12:43:37.690121Z",
     "shell.execute_reply": "2023-06-27T12:43:37.688704Z"
    },
    "papermill": {
     "duration": 0.036046,
     "end_time": "2023-06-27T12:43:37.692974",
     "exception": false,
     "start_time": "2023-06-27T12:43:37.656928",
     "status": "completed"
    },
    "tags": []
   },
   "outputs": [
    {
     "name": "stdout",
     "output_type": "stream",
     "text": [
      "<class 'pandas.core.frame.DataFrame'>\n",
      "RangeIndex: 66 entries, 0 to 65\n",
      "Data columns (total 12 columns):\n",
      " #   Column              Non-Null Count  Dtype  \n",
      "---  ------              --------------  -----  \n",
      " 0   layer_height        66 non-null     float64\n",
      " 1   wall_thickness      66 non-null     float64\n",
      " 2   infill_density      66 non-null     int64  \n",
      " 3   infill_pattern      66 non-null     object \n",
      " 4   nozzle_temperature  66 non-null     int64  \n",
      " 5   Bed_temperature     66 non-null     int64  \n",
      " 6   Print_speed         66 non-null     int64  \n",
      " 7   Material            66 non-null     object \n",
      " 8   Fan_speed           66 non-null     int64  \n",
      " 9   Roughness           66 non-null     int64  \n",
      " 10  Tension_strenght    66 non-null     int64  \n",
      " 11  Elongation          66 non-null     float64\n",
      "dtypes: float64(3), int64(7), object(2)\n",
      "memory usage: 6.3+ KB\n"
     ]
    }
   ],
   "source": [
    "df.info()"
   ]
  },
  {
   "cell_type": "code",
   "execution_count": 6,
   "id": "5b8f3400",
   "metadata": {
    "execution": {
     "iopub.execute_input": "2023-06-27T12:43:37.703186Z",
     "iopub.status.busy": "2023-06-27T12:43:37.702785Z",
     "iopub.status.idle": "2023-06-27T12:43:37.713844Z",
     "shell.execute_reply": "2023-06-27T12:43:37.712580Z"
    },
    "papermill": {
     "duration": 0.020376,
     "end_time": "2023-06-27T12:43:37.717656",
     "exception": false,
     "start_time": "2023-06-27T12:43:37.697280",
     "status": "completed"
    },
    "tags": []
   },
   "outputs": [
    {
     "data": {
      "text/plain": [
       "layer_height          float64\n",
       "wall_thickness        float64\n",
       "infill_density          int64\n",
       "infill_pattern         object\n",
       "nozzle_temperature      int64\n",
       "Bed_temperature         int64\n",
       "Print_speed             int64\n",
       "Material               object\n",
       "Fan_speed               int64\n",
       "Roughness               int64\n",
       "Tension_strenght        int64\n",
       "Elongation            float64\n",
       "dtype: object"
      ]
     },
     "execution_count": 6,
     "metadata": {},
     "output_type": "execute_result"
    }
   ],
   "source": [
    "df.dtypes"
   ]
  }
 ],
 "metadata": {
  "kernelspec": {
   "display_name": "Python 3",
   "language": "python",
   "name": "python3"
  },
  "language_info": {
   "codemirror_mode": {
    "name": "ipython",
    "version": 3
   },
   "file_extension": ".py",
   "mimetype": "text/x-python",
   "name": "python",
   "nbconvert_exporter": "python",
   "pygments_lexer": "ipython3",
   "version": "3.10.10"
  },
  "papermill": {
   "default_parameters": {},
   "duration": 16.035421,
   "end_time": "2023-06-27T12:43:38.648529",
   "environment_variables": {},
   "exception": null,
   "input_path": "__notebook__.ipynb",
   "output_path": "__notebook__.ipynb",
   "parameters": {},
   "start_time": "2023-06-27T12:43:22.613108",
   "version": "2.4.0"
  }
 },
 "nbformat": 4,
 "nbformat_minor": 5
}
