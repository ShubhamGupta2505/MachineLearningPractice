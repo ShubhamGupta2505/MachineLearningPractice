{
 "cells": [
  {
   "cell_type": "code",
   "execution_count": 1,
   "id": "9bd04b28",
   "metadata": {
    "_cell_guid": "b1076dfc-b9ad-4769-8c92-a6c4dae69d19",
    "_uuid": "8f2839f25d086af736a60e9eeb907d3b93b6e0e5",
    "execution": {
     "iopub.execute_input": "2023-07-03T08:07:59.997498Z",
     "iopub.status.busy": "2023-07-03T08:07:59.996827Z",
     "iopub.status.idle": "2023-07-03T08:08:00.016549Z",
     "shell.execute_reply": "2023-07-03T08:08:00.015429Z"
    },
    "papermill": {
     "duration": 0.029645,
     "end_time": "2023-07-03T08:08:00.019206",
     "exception": false,
     "start_time": "2023-07-03T08:07:59.989561",
     "status": "completed"
    },
    "tags": []
   },
   "outputs": [
    {
     "name": "stdout",
     "output_type": "stream",
     "text": [
      "/kaggle/input/book-dataset-300k-scraped-polish/book_data.csv\n"
     ]
    }
   ],
   "source": [
    "# This Python 3 environment comes with many helpful analytics libraries installed\n",
    "# It is defined by the kaggle/python Docker image: https://github.com/kaggle/docker-python\n",
    "# For example, here's several helpful packages to load\n",
    "\n",
    "import numpy as np # linear algebra\n",
    "import pandas as pd # data processing, CSV file I/O (e.g. pd.read_csv)\n",
    "\n",
    "# Input data files are available in the read-only \"../input/\" directory\n",
    "# For example, running this (by clicking run or pressing Shift+Enter) will list all files under the input directory\n",
    "\n",
    "import os\n",
    "for dirname, _, filenames in os.walk('/kaggle/input'):\n",
    "    for filename in filenames:\n",
    "        print(os.path.join(dirname, filename))\n",
    "\n",
    "# You can write up to 20GB to the current directory (/kaggle/working/) that gets preserved as output when you create a version using \"Save & Run All\" \n",
    "# You can also write temporary files to /kaggle/temp/, but they won't be saved outside of the current session"
   ]
  },
  {
   "cell_type": "code",
   "execution_count": 2,
   "id": "1542df0a",
   "metadata": {
    "execution": {
     "iopub.execute_input": "2023-07-03T08:08:00.031245Z",
     "iopub.status.busy": "2023-07-03T08:08:00.030809Z",
     "iopub.status.idle": "2023-07-03T08:08:04.255740Z",
     "shell.execute_reply": "2023-07-03T08:08:04.254638Z"
    },
    "papermill": {
     "duration": 4.234401,
     "end_time": "2023-07-03T08:08:04.258657",
     "exception": false,
     "start_time": "2023-07-03T08:08:00.024256",
     "status": "completed"
    },
    "tags": []
   },
   "outputs": [
    {
     "data": {
      "text/html": [
       "<div>\n",
       "<style scoped>\n",
       "    .dataframe tbody tr th:only-of-type {\n",
       "        vertical-align: middle;\n",
       "    }\n",
       "\n",
       "    .dataframe tbody tr th {\n",
       "        vertical-align: top;\n",
       "    }\n",
       "\n",
       "    .dataframe thead th {\n",
       "        text-align: right;\n",
       "    }\n",
       "</style>\n",
       "<table border=\"1\" class=\"dataframe\">\n",
       "  <thead>\n",
       "    <tr style=\"text-align: right;\">\n",
       "      <th></th>\n",
       "      <th>Title</th>\n",
       "      <th>OriginalTitle</th>\n",
       "      <th>Publisher</th>\n",
       "      <th>Author</th>\n",
       "      <th>Translator</th>\n",
       "      <th>Score</th>\n",
       "      <th>AmountOfScores</th>\n",
       "      <th>AmountOfComments</th>\n",
       "      <th>Part</th>\n",
       "      <th>Read</th>\n",
       "      <th>...</th>\n",
       "      <th>Favorite</th>\n",
       "      <th>WantToRead</th>\n",
       "      <th>Category</th>\n",
       "      <th>Pages</th>\n",
       "      <th>Tags</th>\n",
       "      <th>PublishDate</th>\n",
       "      <th>FirstPublishDate</th>\n",
       "      <th>FirstPolishPublishDate</th>\n",
       "      <th>Language</th>\n",
       "      <th>ISBN</th>\n",
       "    </tr>\n",
       "  </thead>\n",
       "  <tbody>\n",
       "    <tr>\n",
       "      <th>0</th>\n",
       "      <td>0.4</td>\n",
       "      <td>NaN</td>\n",
       "      <td>Egmont UK</td>\n",
       "      <td>Mike Lancaster</td>\n",
       "      <td>NaN</td>\n",
       "      <td>6.3</td>\n",
       "      <td>3.0</td>\n",
       "      <td>1.0</td>\n",
       "      <td>NaN</td>\n",
       "      <td>3.0</td>\n",
       "      <td>...</td>\n",
       "      <td>NaN</td>\n",
       "      <td>9.0</td>\n",
       "      <td>fantasy, science fiction</td>\n",
       "      <td>304.0</td>\n",
       "      <td>dystopia,technologia,cyberpunk,przyszłość,anty...</td>\n",
       "      <td>2011-01-03</td>\n",
       "      <td>2011-01-03</td>\n",
       "      <td>NaN</td>\n",
       "      <td>angielski</td>\n",
       "      <td>9781405253048</td>\n",
       "    </tr>\n",
       "    <tr>\n",
       "      <th>1</th>\n",
       "      <td>13</td>\n",
       "      <td>NaN</td>\n",
       "      <td>Kolektyw Trzynasty Schron</td>\n",
       "      <td>Adam Bełda,Bartosz Boroński,Marek Dryjer,Patry...</td>\n",
       "      <td>NaN</td>\n",
       "      <td>8.0</td>\n",
       "      <td>2.0</td>\n",
       "      <td>1.0</td>\n",
       "      <td>NaN</td>\n",
       "      <td>3.0</td>\n",
       "      <td>...</td>\n",
       "      <td>NaN</td>\n",
       "      <td>40.0</td>\n",
       "      <td>fantasy, science fiction</td>\n",
       "      <td>675.0</td>\n",
       "      <td>postapokalipsa,fantastyka,literatura polska,an...</td>\n",
       "      <td>2012-05-13</td>\n",
       "      <td>NaN</td>\n",
       "      <td>2012-05-13</td>\n",
       "      <td>polski</td>\n",
       "      <td>9788377221815</td>\n",
       "    </tr>\n",
       "    <tr>\n",
       "      <th>2</th>\n",
       "      <td>14</td>\n",
       "      <td>NaN</td>\n",
       "      <td>Permuted Press</td>\n",
       "      <td>Peter Clines</td>\n",
       "      <td>NaN</td>\n",
       "      <td>6.7</td>\n",
       "      <td>9.0</td>\n",
       "      <td>1.0</td>\n",
       "      <td>1</td>\n",
       "      <td>11.0</td>\n",
       "      <td>...</td>\n",
       "      <td>NaN</td>\n",
       "      <td>11.0</td>\n",
       "      <td>horror</td>\n",
       "      <td>370.0</td>\n",
       "      <td>Lovecraft,Cthulu,new weird,Los Angeles,horror,...</td>\n",
       "      <td>2012-05-07</td>\n",
       "      <td>2012-05-07</td>\n",
       "      <td>NaN</td>\n",
       "      <td>angielski</td>\n",
       "      <td>9781618680525</td>\n",
       "    </tr>\n",
       "    <tr>\n",
       "      <th>3</th>\n",
       "      <td>15</td>\n",
       "      <td>NaN</td>\n",
       "      <td>Góry</td>\n",
       "      <td>Krzysztof Belczyński,Maciej Ciesielski,David K...</td>\n",
       "      <td>NaN</td>\n",
       "      <td>6.8</td>\n",
       "      <td>16.0</td>\n",
       "      <td>2.0</td>\n",
       "      <td>NaN</td>\n",
       "      <td>19.0</td>\n",
       "      <td>...</td>\n",
       "      <td>NaN</td>\n",
       "      <td>78.0</td>\n",
       "      <td>powieść przygodowa</td>\n",
       "      <td>249.0</td>\n",
       "      <td>góry,wspinaczka</td>\n",
       "      <td>2006-01-01</td>\n",
       "      <td>NaN</td>\n",
       "      <td>2006-01-01</td>\n",
       "      <td>polski</td>\n",
       "      <td>978-83-924395-3-0</td>\n",
       "    </tr>\n",
       "    <tr>\n",
       "      <th>4</th>\n",
       "      <td>27</td>\n",
       "      <td>Twenty seven</td>\n",
       "      <td>Amber</td>\n",
       "      <td>William Diehl</td>\n",
       "      <td>Irena Dawid-Olczyk,Monika Kajszczak</td>\n",
       "      <td>7.2</td>\n",
       "      <td>6.0</td>\n",
       "      <td>2.0</td>\n",
       "      <td>NaN</td>\n",
       "      <td>9.0</td>\n",
       "      <td>...</td>\n",
       "      <td>NaN</td>\n",
       "      <td>13.0</td>\n",
       "      <td>kryminał, sensacja, thriller</td>\n",
       "      <td>458.0</td>\n",
       "      <td>NaN</td>\n",
       "      <td>1990-01-01</td>\n",
       "      <td>NaN</td>\n",
       "      <td>1990-01-01</td>\n",
       "      <td>polski</td>\n",
       "      <td>8370822029</td>\n",
       "    </tr>\n",
       "  </tbody>\n",
       "</table>\n",
       "<p>5 rows × 21 columns</p>\n",
       "</div>"
      ],
      "text/plain": [
       "  Title OriginalTitle                  Publisher  \\\n",
       "0   0.4           NaN                  Egmont UK   \n",
       "1    13           NaN  Kolektyw Trzynasty Schron   \n",
       "2    14           NaN             Permuted Press   \n",
       "3    15           NaN                       Góry   \n",
       "4    27  Twenty seven                      Amber   \n",
       "\n",
       "                                              Author  \\\n",
       "0                                     Mike Lancaster   \n",
       "1  Adam Bełda,Bartosz Boroński,Marek Dryjer,Patry...   \n",
       "2                                       Peter Clines   \n",
       "3  Krzysztof Belczyński,Maciej Ciesielski,David K...   \n",
       "4                                      William Diehl   \n",
       "\n",
       "                            Translator  Score  AmountOfScores  \\\n",
       "0                                  NaN    6.3             3.0   \n",
       "1                                  NaN    8.0             2.0   \n",
       "2                                  NaN    6.7             9.0   \n",
       "3                                  NaN    6.8            16.0   \n",
       "4  Irena Dawid-Olczyk,Monika Kajszczak    7.2             6.0   \n",
       "\n",
       "   AmountOfComments Part  Read  ...  Favorite  WantToRead  \\\n",
       "0               1.0  NaN   3.0  ...       NaN         9.0   \n",
       "1               1.0  NaN   3.0  ...       NaN        40.0   \n",
       "2               1.0    1  11.0  ...       NaN        11.0   \n",
       "3               2.0  NaN  19.0  ...       NaN        78.0   \n",
       "4               2.0  NaN   9.0  ...       NaN        13.0   \n",
       "\n",
       "                       Category  Pages  \\\n",
       "0      fantasy, science fiction  304.0   \n",
       "1      fantasy, science fiction  675.0   \n",
       "2                        horror  370.0   \n",
       "3            powieść przygodowa  249.0   \n",
       "4  kryminał, sensacja, thriller  458.0   \n",
       "\n",
       "                                                Tags PublishDate  \\\n",
       "0  dystopia,technologia,cyberpunk,przyszłość,anty...  2011-01-03   \n",
       "1  postapokalipsa,fantastyka,literatura polska,an...  2012-05-13   \n",
       "2  Lovecraft,Cthulu,new weird,Los Angeles,horror,...  2012-05-07   \n",
       "3                                    góry,wspinaczka  2006-01-01   \n",
       "4                                                NaN  1990-01-01   \n",
       "\n",
       "  FirstPublishDate FirstPolishPublishDate   Language               ISBN  \n",
       "0       2011-01-03                    NaN  angielski      9781405253048  \n",
       "1              NaN             2012-05-13     polski      9788377221815  \n",
       "2       2012-05-07                    NaN  angielski      9781618680525  \n",
       "3              NaN             2006-01-01     polski  978-83-924395-3-0  \n",
       "4              NaN             1990-01-01     polski         8370822029  \n",
       "\n",
       "[5 rows x 21 columns]"
      ]
     },
     "execution_count": 2,
     "metadata": {},
     "output_type": "execute_result"
    }
   ],
   "source": [
    "df = pd.read_csv('/kaggle/input/book-dataset-300k-scraped-polish/book_data.csv',low_memory=False)\n",
    "df.head()"
   ]
  },
  {
   "cell_type": "code",
   "execution_count": 3,
   "id": "f4d3704f",
   "metadata": {
    "execution": {
     "iopub.execute_input": "2023-07-03T08:08:04.271722Z",
     "iopub.status.busy": "2023-07-03T08:08:04.271324Z",
     "iopub.status.idle": "2023-07-03T08:08:04.278318Z",
     "shell.execute_reply": "2023-07-03T08:08:04.277142Z"
    },
    "papermill": {
     "duration": 0.01641,
     "end_time": "2023-07-03T08:08:04.280740",
     "exception": false,
     "start_time": "2023-07-03T08:08:04.264330",
     "status": "completed"
    },
    "tags": []
   },
   "outputs": [
    {
     "data": {
      "text/plain": [
       "(352066, 21)"
      ]
     },
     "execution_count": 3,
     "metadata": {},
     "output_type": "execute_result"
    }
   ],
   "source": [
    "df.shape"
   ]
  },
  {
   "cell_type": "code",
   "execution_count": 4,
   "id": "63dd052c",
   "metadata": {
    "execution": {
     "iopub.execute_input": "2023-07-03T08:08:04.293757Z",
     "iopub.status.busy": "2023-07-03T08:08:04.293384Z",
     "iopub.status.idle": "2023-07-03T08:08:04.503586Z",
     "shell.execute_reply": "2023-07-03T08:08:04.502552Z"
    },
    "papermill": {
     "duration": 0.219606,
     "end_time": "2023-07-03T08:08:04.506008",
     "exception": false,
     "start_time": "2023-07-03T08:08:04.286402",
     "status": "completed"
    },
    "tags": []
   },
   "outputs": [
    {
     "data": {
      "text/html": [
       "<div>\n",
       "<style scoped>\n",
       "    .dataframe tbody tr th:only-of-type {\n",
       "        vertical-align: middle;\n",
       "    }\n",
       "\n",
       "    .dataframe tbody tr th {\n",
       "        vertical-align: top;\n",
       "    }\n",
       "\n",
       "    .dataframe thead th {\n",
       "        text-align: right;\n",
       "    }\n",
       "</style>\n",
       "<table border=\"1\" class=\"dataframe\">\n",
       "  <thead>\n",
       "    <tr style=\"text-align: right;\">\n",
       "      <th></th>\n",
       "      <th>Score</th>\n",
       "      <th>AmountOfScores</th>\n",
       "      <th>AmountOfComments</th>\n",
       "      <th>Read</th>\n",
       "      <th>Own</th>\n",
       "      <th>Favorite</th>\n",
       "      <th>WantToRead</th>\n",
       "      <th>Pages</th>\n",
       "    </tr>\n",
       "  </thead>\n",
       "  <tbody>\n",
       "    <tr>\n",
       "      <th>count</th>\n",
       "      <td>344696.000000</td>\n",
       "      <td>344696.000000</td>\n",
       "      <td>344696.000000</td>\n",
       "      <td>344113.000000</td>\n",
       "      <td>238049.000000</td>\n",
       "      <td>83202.000000</td>\n",
       "      <td>279569.000000</td>\n",
       "      <td>308161.000000</td>\n",
       "    </tr>\n",
       "    <tr>\n",
       "      <th>mean</th>\n",
       "      <td>6.889235</td>\n",
       "      <td>82.704824</td>\n",
       "      <td>10.053038</td>\n",
       "      <td>115.308605</td>\n",
       "      <td>37.345597</td>\n",
       "      <td>20.569926</td>\n",
       "      <td>86.946303</td>\n",
       "      <td>247.566532</td>\n",
       "    </tr>\n",
       "    <tr>\n",
       "      <th>std</th>\n",
       "      <td>1.320952</td>\n",
       "      <td>713.554202</td>\n",
       "      <td>57.236651</td>\n",
       "      <td>1079.226084</td>\n",
       "      <td>279.238184</td>\n",
       "      <td>167.518892</td>\n",
       "      <td>385.520702</td>\n",
       "      <td>169.515260</td>\n",
       "    </tr>\n",
       "    <tr>\n",
       "      <th>min</th>\n",
       "      <td>1.000000</td>\n",
       "      <td>1.000000</td>\n",
       "      <td>0.000000</td>\n",
       "      <td>1.000000</td>\n",
       "      <td>1.000000</td>\n",
       "      <td>1.000000</td>\n",
       "      <td>1.000000</td>\n",
       "      <td>1.000000</td>\n",
       "    </tr>\n",
       "    <tr>\n",
       "      <th>25%</th>\n",
       "      <td>6.000000</td>\n",
       "      <td>1.000000</td>\n",
       "      <td>0.000000</td>\n",
       "      <td>2.000000</td>\n",
       "      <td>2.000000</td>\n",
       "      <td>1.000000</td>\n",
       "      <td>3.000000</td>\n",
       "      <td>133.000000</td>\n",
       "    </tr>\n",
       "    <tr>\n",
       "      <th>50%</th>\n",
       "      <td>7.000000</td>\n",
       "      <td>4.000000</td>\n",
       "      <td>1.000000</td>\n",
       "      <td>6.000000</td>\n",
       "      <td>5.000000</td>\n",
       "      <td>3.000000</td>\n",
       "      <td>11.000000</td>\n",
       "      <td>224.000000</td>\n",
       "    </tr>\n",
       "    <tr>\n",
       "      <th>75%</th>\n",
       "      <td>7.700000</td>\n",
       "      <td>22.000000</td>\n",
       "      <td>3.000000</td>\n",
       "      <td>30.000000</td>\n",
       "      <td>17.000000</td>\n",
       "      <td>8.000000</td>\n",
       "      <td>43.000000</td>\n",
       "      <td>335.000000</td>\n",
       "    </tr>\n",
       "    <tr>\n",
       "      <th>max</th>\n",
       "      <td>10.000000</td>\n",
       "      <td>80214.000000</td>\n",
       "      <td>4791.000000</td>\n",
       "      <td>117540.000000</td>\n",
       "      <td>29286.000000</td>\n",
       "      <td>11249.000000</td>\n",
       "      <td>23423.000000</td>\n",
       "      <td>5901.000000</td>\n",
       "    </tr>\n",
       "  </tbody>\n",
       "</table>\n",
       "</div>"
      ],
      "text/plain": [
       "               Score  AmountOfScores  AmountOfComments           Read  \\\n",
       "count  344696.000000   344696.000000     344696.000000  344113.000000   \n",
       "mean        6.889235       82.704824         10.053038     115.308605   \n",
       "std         1.320952      713.554202         57.236651    1079.226084   \n",
       "min         1.000000        1.000000          0.000000       1.000000   \n",
       "25%         6.000000        1.000000          0.000000       2.000000   \n",
       "50%         7.000000        4.000000          1.000000       6.000000   \n",
       "75%         7.700000       22.000000          3.000000      30.000000   \n",
       "max        10.000000    80214.000000       4791.000000  117540.000000   \n",
       "\n",
       "                 Own      Favorite     WantToRead          Pages  \n",
       "count  238049.000000  83202.000000  279569.000000  308161.000000  \n",
       "mean       37.345597     20.569926      86.946303     247.566532  \n",
       "std       279.238184    167.518892     385.520702     169.515260  \n",
       "min         1.000000      1.000000       1.000000       1.000000  \n",
       "25%         2.000000      1.000000       3.000000     133.000000  \n",
       "50%         5.000000      3.000000      11.000000     224.000000  \n",
       "75%        17.000000      8.000000      43.000000     335.000000  \n",
       "max     29286.000000  11249.000000   23423.000000    5901.000000  "
      ]
     },
     "execution_count": 4,
     "metadata": {},
     "output_type": "execute_result"
    }
   ],
   "source": [
    "df.describe()"
   ]
  },
  {
   "cell_type": "code",
   "execution_count": 5,
   "id": "ee6228de",
   "metadata": {
    "execution": {
     "iopub.execute_input": "2023-07-03T08:08:04.519929Z",
     "iopub.status.busy": "2023-07-03T08:08:04.519515Z",
     "iopub.status.idle": "2023-07-03T08:08:05.883053Z",
     "shell.execute_reply": "2023-07-03T08:08:05.881909Z"
    },
    "papermill": {
     "duration": 1.373599,
     "end_time": "2023-07-03T08:08:05.885640",
     "exception": false,
     "start_time": "2023-07-03T08:08:04.512041",
     "status": "completed"
    },
    "tags": []
   },
   "outputs": [
    {
     "name": "stdout",
     "output_type": "stream",
     "text": [
      "<class 'pandas.core.frame.DataFrame'>\n",
      "RangeIndex: 352066 entries, 0 to 352065\n",
      "Data columns (total 21 columns):\n",
      " #   Column                  Non-Null Count   Dtype  \n",
      "---  ------                  --------------   -----  \n",
      " 0   Title                   352066 non-null  object \n",
      " 1   OriginalTitle           135655 non-null  object \n",
      " 2   Publisher               347104 non-null  object \n",
      " 3   Author                  351256 non-null  object \n",
      " 4   Translator              100433 non-null  object \n",
      " 5   Score                   344696 non-null  float64\n",
      " 6   AmountOfScores          344696 non-null  float64\n",
      " 7   AmountOfComments        344696 non-null  float64\n",
      " 8   Part                    75434 non-null   object \n",
      " 9   Read                    344113 non-null  float64\n",
      " 10  Own                     238049 non-null  float64\n",
      " 11  Favorite                83202 non-null   float64\n",
      " 12  WantToRead              279569 non-null  float64\n",
      " 13  Category                352066 non-null  object \n",
      " 14  Pages                   308161 non-null  float64\n",
      " 15  Tags                    205285 non-null  object \n",
      " 16  PublishDate             352066 non-null  object \n",
      " 17  FirstPublishDate        80434 non-null   object \n",
      " 18  FirstPolishPublishDate  285161 non-null  object \n",
      " 19  Language                352066 non-null  object \n",
      " 20  ISBN                    352066 non-null  object \n",
      "dtypes: float64(8), object(13)\n",
      "memory usage: 56.4+ MB\n"
     ]
    }
   ],
   "source": [
    "df.info()"
   ]
  },
  {
   "cell_type": "code",
   "execution_count": 6,
   "id": "dd048856",
   "metadata": {
    "execution": {
     "iopub.execute_input": "2023-07-03T08:08:05.900572Z",
     "iopub.status.busy": "2023-07-03T08:08:05.899772Z",
     "iopub.status.idle": "2023-07-03T08:08:05.909390Z",
     "shell.execute_reply": "2023-07-03T08:08:05.908383Z"
    },
    "papermill": {
     "duration": 0.019514,
     "end_time": "2023-07-03T08:08:05.911655",
     "exception": false,
     "start_time": "2023-07-03T08:08:05.892141",
     "status": "completed"
    },
    "tags": []
   },
   "outputs": [
    {
     "data": {
      "text/plain": [
       "Title                      object\n",
       "OriginalTitle              object\n",
       "Publisher                  object\n",
       "Author                     object\n",
       "Translator                 object\n",
       "Score                     float64\n",
       "AmountOfScores            float64\n",
       "AmountOfComments          float64\n",
       "Part                       object\n",
       "Read                      float64\n",
       "Own                       float64\n",
       "Favorite                  float64\n",
       "WantToRead                float64\n",
       "Category                   object\n",
       "Pages                     float64\n",
       "Tags                       object\n",
       "PublishDate                object\n",
       "FirstPublishDate           object\n",
       "FirstPolishPublishDate     object\n",
       "Language                   object\n",
       "ISBN                       object\n",
       "dtype: object"
      ]
     },
     "execution_count": 6,
     "metadata": {},
     "output_type": "execute_result"
    }
   ],
   "source": [
    "df.dtypes"
   ]
  },
  {
   "cell_type": "code",
   "execution_count": 7,
   "id": "1aa5cbd2",
   "metadata": {
    "execution": {
     "iopub.execute_input": "2023-07-03T08:08:05.928203Z",
     "iopub.status.busy": "2023-07-03T08:08:05.927791Z",
     "iopub.status.idle": "2023-07-03T08:08:07.321415Z",
     "shell.execute_reply": "2023-07-03T08:08:07.320237Z"
    },
    "papermill": {
     "duration": 1.405662,
     "end_time": "2023-07-03T08:08:07.323876",
     "exception": false,
     "start_time": "2023-07-03T08:08:05.918214",
     "status": "completed"
    },
    "tags": []
   },
   "outputs": [
    {
     "data": {
      "text/plain": [
       "Title                          0\n",
       "OriginalTitle             216411\n",
       "Publisher                   4962\n",
       "Author                       810\n",
       "Translator                251633\n",
       "Score                       7370\n",
       "AmountOfScores              7370\n",
       "AmountOfComments            7370\n",
       "Part                      276632\n",
       "Read                        7953\n",
       "Own                       114017\n",
       "Favorite                  268864\n",
       "WantToRead                 72497\n",
       "Category                       0\n",
       "Pages                      43905\n",
       "Tags                      146781\n",
       "PublishDate                    0\n",
       "FirstPublishDate          271632\n",
       "FirstPolishPublishDate     66905\n",
       "Language                       0\n",
       "ISBN                           0\n",
       "dtype: int64"
      ]
     },
     "execution_count": 7,
     "metadata": {},
     "output_type": "execute_result"
    }
   ],
   "source": [
    "df.isnull().sum()"
   ]
  },
  {
   "cell_type": "code",
   "execution_count": 8,
   "id": "ed9c7fb3",
   "metadata": {
    "execution": {
     "iopub.execute_input": "2023-07-03T08:08:07.339131Z",
     "iopub.status.busy": "2023-07-03T08:08:07.338721Z",
     "iopub.status.idle": "2023-07-03T08:08:08.472384Z",
     "shell.execute_reply": "2023-07-03T08:08:08.471516Z"
    },
    "papermill": {
     "duration": 1.144813,
     "end_time": "2023-07-03T08:08:08.475325",
     "exception": false,
     "start_time": "2023-07-03T08:08:07.330512",
     "status": "completed"
    },
    "tags": []
   },
   "outputs": [
    {
     "data": {
      "text/plain": [
       "0"
      ]
     },
     "execution_count": 8,
     "metadata": {},
     "output_type": "execute_result"
    }
   ],
   "source": [
    "df.duplicated().sum()"
   ]
  },
  {
   "cell_type": "code",
   "execution_count": 9,
   "id": "6b25dc3e",
   "metadata": {
    "execution": {
     "iopub.execute_input": "2023-07-03T08:08:08.490546Z",
     "iopub.status.busy": "2023-07-03T08:08:08.490123Z",
     "iopub.status.idle": "2023-07-03T08:08:08.682619Z",
     "shell.execute_reply": "2023-07-03T08:08:08.681518Z"
    },
    "papermill": {
     "duration": 0.202831,
     "end_time": "2023-07-03T08:08:08.684944",
     "exception": false,
     "start_time": "2023-07-03T08:08:08.482113",
     "status": "completed"
    },
    "tags": []
   },
   "outputs": [
    {
     "data": {
      "text/plain": [
       "praca zbiorowa                                     10522\n",
       "Walt Disney                                          504\n",
       "autor nieznany                                       488\n",
       "Redakcja magazynu National Geographic                418\n",
       "Małgorzata Strzałkowska                              319\n",
       "                                                   ...  \n",
       "Anne Maar                                              1\n",
       "Hugh Johnson                                           1\n",
       "David Hilliard, Keith Zimmerman, Kent Zimmerman        1\n",
       "RJ Owen, Luke Stevens                                  1\n",
       "Jan Jałoszyński                                        1\n",
       "Name: Author, Length: 145276, dtype: int64"
      ]
     },
     "execution_count": 9,
     "metadata": {},
     "output_type": "execute_result"
    }
   ],
   "source": [
    "df['Author'].value_counts()"
   ]
  },
  {
   "cell_type": "code",
   "execution_count": 10,
   "id": "ca9e5278",
   "metadata": {
    "execution": {
     "iopub.execute_input": "2023-07-03T08:08:08.700964Z",
     "iopub.status.busy": "2023-07-03T08:08:08.700037Z",
     "iopub.status.idle": "2023-07-03T08:08:08.753728Z",
     "shell.execute_reply": "2023-07-03T08:08:08.752633Z"
    },
    "papermill": {
     "duration": 0.064434,
     "end_time": "2023-07-03T08:08:08.756217",
     "exception": false,
     "start_time": "2023-07-03T08:08:08.691783",
     "status": "completed"
    },
    "tags": []
   },
   "outputs": [
    {
     "data": {
      "text/plain": [
       "polski          284907\n",
       "angielski        56271\n",
       "japoński          4694\n",
       "francuski         2026\n",
       "niemiecki         1845\n",
       "włoski             535\n",
       "hiszpański         481\n",
       "czeski             282\n",
       "rosyjski           241\n",
       "szwedzki           111\n",
       "norweski           107\n",
       "chiński             92\n",
       "duński              83\n",
       "portugalski         51\n",
       "koreański           43\n",
       "niderlandzki        40\n",
       "słowacki            40\n",
       "chorwacki           37\n",
       "serbski             31\n",
       "białoruski          30\n",
       "łaciński            25\n",
       "ukraiński           21\n",
       "fiński              15\n",
       "kaszubski           14\n",
       "słoweński           12\n",
       "węgierski           12\n",
       "bośniacki            6\n",
       "turecki              5\n",
       "łotewski             3\n",
       "bułgarski            3\n",
       "rumuński             1\n",
       "litewski             1\n",
       "esperanto            1\n",
       "Name: Language, dtype: int64"
      ]
     },
     "execution_count": 10,
     "metadata": {},
     "output_type": "execute_result"
    }
   ],
   "source": [
    "df['Language'].value_counts()"
   ]
  },
  {
   "cell_type": "code",
   "execution_count": 11,
   "id": "c80e95f2",
   "metadata": {
    "execution": {
     "iopub.execute_input": "2023-07-03T08:08:08.773655Z",
     "iopub.status.busy": "2023-07-03T08:08:08.772887Z",
     "iopub.status.idle": "2023-07-03T08:08:08.824908Z",
     "shell.execute_reply": "2023-07-03T08:08:08.823856Z"
    },
    "papermill": {
     "duration": 0.062901,
     "end_time": "2023-07-03T08:08:08.827423",
     "exception": false,
     "start_time": "2023-07-03T08:08:08.764522",
     "status": "completed"
    },
    "tags": []
   },
   "outputs": [
    {
     "data": {
      "text/plain": [
       "komiksy                                                34451\n",
       "literatura piękna                                      32671\n",
       "literatura obyczajowa, romans                          29184\n",
       "fantasy, science fiction                               23895\n",
       "literatura dziecięca                                   21208\n",
       "historia                                               19545\n",
       "kryminał, sensacja, thriller                           16849\n",
       "biografia, autobiografia, pamiętnik                    16289\n",
       "nauki społeczne (psychologia, socjologia, itd.)        12893\n",
       "poradniki                                              11905\n",
       "religia                                                11515\n",
       "powieść historyczna                                     9259\n",
       "czasopisma                                              9079\n",
       "reportaż                                                7432\n",
       "popularnonaukowa                                        6372\n",
       "literatura młodzieżowa                                  6005\n",
       "filozofia, etyka                                        5176\n",
       "biznes, finanse                                         4888\n",
       "językoznawstwo, nauka o literaturze                     4858\n",
       "zdrowie, medycyna                                       4845\n",
       "publicystyka literacka, eseje                           4588\n",
       "sztuka                                                  3966\n",
       "albumy                                                  3438\n",
       "turystyka, mapy, atlasy                                 3398\n",
       "kulinaria, przepisy kulinarne                           3035\n",
       "informatyka, matematyka                                 2981\n",
       "poezja                                                  2860\n",
       "horror                                                  2731\n",
       "literatura podróżnicza                                  2712\n",
       "klasyka                                                 2438\n",
       "interaktywne, obrazkowe, edukacyjne                     2431\n",
       "opowieści dla młodszych dzieci                          2130\n",
       "flora i fauna                                           2045\n",
       "nauki przyrodnicze (fizyka, chemia, biologia, itd.)     2023\n",
       "ezoteryka, senniki, horoskopy                           1886\n",
       "militaria, wojskowość                                   1840\n",
       "sport                                                   1760\n",
       "hobby                                                   1720\n",
       "encyklopedie, słowniki                                  1594\n",
       "powieść przygodowa                                      1518\n",
       "bajki                                                   1407\n",
       "film, kino, telewizja                                   1239\n",
       "muzyka                                                  1133\n",
       "technika                                                1111\n",
       "poradniki dla rodziców                                  1108\n",
       "baśnie, legendy, podania                                 903\n",
       "opowiadania, powieści dla dzieci                         897\n",
       "popularnonaukowa dziecięca                               785\n",
       "wierszyki, piosenki                                      740\n",
       "astronomia, astrofizyka                                  555\n",
       "teatr                                                    430\n",
       "rozrywka                                                 406\n",
       "pozostałe                                                397\n",
       "inne                                                     351\n",
       "rękodzieło                                               320\n",
       "utwór dramatyczny (dramat, komedia, tragedia)            318\n",
       "motoryzacja                                              249\n",
       "satyra                                                   167\n",
       "historie biblijne                                        137\n",
       "Name: Category, dtype: int64"
      ]
     },
     "execution_count": 11,
     "metadata": {},
     "output_type": "execute_result"
    }
   ],
   "source": [
    "df['Category'].value_counts()"
   ]
  },
  {
   "cell_type": "code",
   "execution_count": 12,
   "id": "ccba5a0a",
   "metadata": {
    "execution": {
     "iopub.execute_input": "2023-07-03T08:08:08.843954Z",
     "iopub.status.busy": "2023-07-03T08:08:08.843511Z",
     "iopub.status.idle": "2023-07-03T08:08:08.909628Z",
     "shell.execute_reply": "2023-07-03T08:08:08.908639Z"
    },
    "papermill": {
     "duration": 0.077161,
     "end_time": "2023-07-03T08:08:08.912005",
     "exception": false,
     "start_time": "2023-07-03T08:08:08.834844",
     "status": "completed"
    },
    "tags": []
   },
   "outputs": [
    {
     "data": {
      "text/plain": [
       "Egmont Polska                 6302\n",
       "Harlequin                     4924\n",
       "Prószyński i S-ka             4787\n",
       "Wydawnictwo Naukowe PWN       4512\n",
       "Amber                         4304\n",
       "                              ... \n",
       "Dom Dobry                        1\n",
       "Maulde & Renou                   1\n",
       "Drukarnia Polska we Lwowie       1\n",
       "Dzirawe Sample                   1\n",
       "Jan Jałoszyński                  1\n",
       "Name: Publisher, Length: 22843, dtype: int64"
      ]
     },
     "execution_count": 12,
     "metadata": {},
     "output_type": "execute_result"
    }
   ],
   "source": [
    "df['Publisher'].value_counts()"
   ]
  },
  {
   "cell_type": "code",
   "execution_count": 13,
   "id": "547eeaf8",
   "metadata": {
    "execution": {
     "iopub.execute_input": "2023-07-03T08:08:08.928793Z",
     "iopub.status.busy": "2023-07-03T08:08:08.928390Z",
     "iopub.status.idle": "2023-07-03T08:08:08.957819Z",
     "shell.execute_reply": "2023-07-03T08:08:08.956696Z"
    },
    "papermill": {
     "duration": 0.04072,
     "end_time": "2023-07-03T08:08:08.960177",
     "exception": false,
     "start_time": "2023-07-03T08:08:08.919457",
     "status": "completed"
    },
    "tags": []
   },
   "outputs": [
    {
     "data": {
      "text/plain": [
       "1        16444\n",
       "2        13038\n",
       "3         9070\n",
       "4         5370\n",
       "5         3690\n",
       "         ...  \n",
       "60-72        1\n",
       "631          1\n",
       "113.5        1\n",
       "627          1\n",
       "593          1\n",
       "Name: Part, Length: 1153, dtype: int64"
      ]
     },
     "execution_count": 13,
     "metadata": {},
     "output_type": "execute_result"
    }
   ],
   "source": [
    "df['Part'].value_counts()"
   ]
  }
 ],
 "metadata": {
  "kernelspec": {
   "display_name": "Python 3",
   "language": "python",
   "name": "python3"
  },
  "language_info": {
   "codemirror_mode": {
    "name": "ipython",
    "version": 3
   },
   "file_extension": ".py",
   "mimetype": "text/x-python",
   "name": "python",
   "nbconvert_exporter": "python",
   "pygments_lexer": "ipython3",
   "version": "3.10.10"
  },
  "papermill": {
   "default_parameters": {},
   "duration": 22.129959,
   "end_time": "2023-07-03T08:08:09.990988",
   "environment_variables": {},
   "exception": null,
   "input_path": "__notebook__.ipynb",
   "output_path": "__notebook__.ipynb",
   "parameters": {},
   "start_time": "2023-07-03T08:07:47.861029",
   "version": "2.4.0"
  }
 },
 "nbformat": 4,
 "nbformat_minor": 5
}
