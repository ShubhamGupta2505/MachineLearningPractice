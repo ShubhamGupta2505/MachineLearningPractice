{
 "cells": [
  {
   "cell_type": "code",
   "execution_count": 1,
   "id": "ae698cc5",
   "metadata": {
    "_cell_guid": "b1076dfc-b9ad-4769-8c92-a6c4dae69d19",
    "_uuid": "8f2839f25d086af736a60e9eeb907d3b93b6e0e5",
    "execution": {
     "iopub.execute_input": "2023-07-03T08:04:34.258913Z",
     "iopub.status.busy": "2023-07-03T08:04:34.258517Z",
     "iopub.status.idle": "2023-07-03T08:04:34.275577Z",
     "shell.execute_reply": "2023-07-03T08:04:34.274094Z"
    },
    "papermill": {
     "duration": 0.025965,
     "end_time": "2023-07-03T08:04:34.278279",
     "exception": false,
     "start_time": "2023-07-03T08:04:34.252314",
     "status": "completed"
    },
    "tags": []
   },
   "outputs": [
    {
     "name": "stdout",
     "output_type": "stream",
     "text": [
      "/kaggle/input/book-dataset-300k-scraped-polish/book_data.csv\n"
     ]
    }
   ],
   "source": [
    "# This Python 3 environment comes with many helpful analytics libraries installed\n",
    "# It is defined by the kaggle/python Docker image: https://github.com/kaggle/docker-python\n",
    "# For example, here's several helpful packages to load\n",
    "\n",
    "import numpy as np # linear algebra\n",
    "import pandas as pd # data processing, CSV file I/O (e.g. pd.read_csv)\n",
    "\n",
    "# Input data files are available in the read-only \"../input/\" directory\n",
    "# For example, running this (by clicking run or pressing Shift+Enter) will list all files under the input directory\n",
    "\n",
    "import os\n",
    "for dirname, _, filenames in os.walk('/kaggle/input'):\n",
    "    for filename in filenames:\n",
    "        print(os.path.join(dirname, filename))\n",
    "\n",
    "# You can write up to 20GB to the current directory (/kaggle/working/) that gets preserved as output when you create a version using \"Save & Run All\" \n",
    "# You can also write temporary files to /kaggle/temp/, but they won't be saved outside of the current session"
   ]
  },
  {
   "cell_type": "code",
   "execution_count": 2,
   "id": "39313942",
   "metadata": {
    "execution": {
     "iopub.execute_input": "2023-07-03T08:04:34.288655Z",
     "iopub.status.busy": "2023-07-03T08:04:34.287372Z",
     "iopub.status.idle": "2023-07-03T08:04:38.817966Z",
     "shell.execute_reply": "2023-07-03T08:04:38.816975Z"
    },
    "papermill": {
     "duration": 4.538484,
     "end_time": "2023-07-03T08:04:38.820690",
     "exception": false,
     "start_time": "2023-07-03T08:04:34.282206",
     "status": "completed"
    },
    "tags": []
   },
   "outputs": [
    {
     "data": {
      "text/html": [
       "<div>\n",
       "<style scoped>\n",
       "    .dataframe tbody tr th:only-of-type {\n",
       "        vertical-align: middle;\n",
       "    }\n",
       "\n",
       "    .dataframe tbody tr th {\n",
       "        vertical-align: top;\n",
       "    }\n",
       "\n",
       "    .dataframe thead th {\n",
       "        text-align: right;\n",
       "    }\n",
       "</style>\n",
       "<table border=\"1\" class=\"dataframe\">\n",
       "  <thead>\n",
       "    <tr style=\"text-align: right;\">\n",
       "      <th></th>\n",
       "      <th>Title</th>\n",
       "      <th>OriginalTitle</th>\n",
       "      <th>Publisher</th>\n",
       "      <th>Author</th>\n",
       "      <th>Translator</th>\n",
       "      <th>Score</th>\n",
       "      <th>AmountOfScores</th>\n",
       "      <th>AmountOfComments</th>\n",
       "      <th>Part</th>\n",
       "      <th>Read</th>\n",
       "      <th>...</th>\n",
       "      <th>Favorite</th>\n",
       "      <th>WantToRead</th>\n",
       "      <th>Category</th>\n",
       "      <th>Pages</th>\n",
       "      <th>Tags</th>\n",
       "      <th>PublishDate</th>\n",
       "      <th>FirstPublishDate</th>\n",
       "      <th>FirstPolishPublishDate</th>\n",
       "      <th>Language</th>\n",
       "      <th>ISBN</th>\n",
       "    </tr>\n",
       "  </thead>\n",
       "  <tbody>\n",
       "    <tr>\n",
       "      <th>0</th>\n",
       "      <td>0.4</td>\n",
       "      <td>NaN</td>\n",
       "      <td>Egmont UK</td>\n",
       "      <td>Mike Lancaster</td>\n",
       "      <td>NaN</td>\n",
       "      <td>6.3</td>\n",
       "      <td>3.0</td>\n",
       "      <td>1.0</td>\n",
       "      <td>NaN</td>\n",
       "      <td>3.0</td>\n",
       "      <td>...</td>\n",
       "      <td>NaN</td>\n",
       "      <td>9.0</td>\n",
       "      <td>fantasy, science fiction</td>\n",
       "      <td>304.0</td>\n",
       "      <td>dystopia,technologia,cyberpunk,przyszłość,anty...</td>\n",
       "      <td>2011-01-03</td>\n",
       "      <td>2011-01-03</td>\n",
       "      <td>NaN</td>\n",
       "      <td>angielski</td>\n",
       "      <td>9781405253048</td>\n",
       "    </tr>\n",
       "    <tr>\n",
       "      <th>1</th>\n",
       "      <td>13</td>\n",
       "      <td>NaN</td>\n",
       "      <td>Kolektyw Trzynasty Schron</td>\n",
       "      <td>Adam Bełda,Bartosz Boroński,Marek Dryjer,Patry...</td>\n",
       "      <td>NaN</td>\n",
       "      <td>8.0</td>\n",
       "      <td>2.0</td>\n",
       "      <td>1.0</td>\n",
       "      <td>NaN</td>\n",
       "      <td>3.0</td>\n",
       "      <td>...</td>\n",
       "      <td>NaN</td>\n",
       "      <td>40.0</td>\n",
       "      <td>fantasy, science fiction</td>\n",
       "      <td>675.0</td>\n",
       "      <td>postapokalipsa,fantastyka,literatura polska,an...</td>\n",
       "      <td>2012-05-13</td>\n",
       "      <td>NaN</td>\n",
       "      <td>2012-05-13</td>\n",
       "      <td>polski</td>\n",
       "      <td>9788377221815</td>\n",
       "    </tr>\n",
       "    <tr>\n",
       "      <th>2</th>\n",
       "      <td>14</td>\n",
       "      <td>NaN</td>\n",
       "      <td>Permuted Press</td>\n",
       "      <td>Peter Clines</td>\n",
       "      <td>NaN</td>\n",
       "      <td>6.7</td>\n",
       "      <td>9.0</td>\n",
       "      <td>1.0</td>\n",
       "      <td>1</td>\n",
       "      <td>11.0</td>\n",
       "      <td>...</td>\n",
       "      <td>NaN</td>\n",
       "      <td>11.0</td>\n",
       "      <td>horror</td>\n",
       "      <td>370.0</td>\n",
       "      <td>Lovecraft,Cthulu,new weird,Los Angeles,horror,...</td>\n",
       "      <td>2012-05-07</td>\n",
       "      <td>2012-05-07</td>\n",
       "      <td>NaN</td>\n",
       "      <td>angielski</td>\n",
       "      <td>9781618680525</td>\n",
       "    </tr>\n",
       "    <tr>\n",
       "      <th>3</th>\n",
       "      <td>15</td>\n",
       "      <td>NaN</td>\n",
       "      <td>Góry</td>\n",
       "      <td>Krzysztof Belczyński,Maciej Ciesielski,David K...</td>\n",
       "      <td>NaN</td>\n",
       "      <td>6.8</td>\n",
       "      <td>16.0</td>\n",
       "      <td>2.0</td>\n",
       "      <td>NaN</td>\n",
       "      <td>19.0</td>\n",
       "      <td>...</td>\n",
       "      <td>NaN</td>\n",
       "      <td>78.0</td>\n",
       "      <td>powieść przygodowa</td>\n",
       "      <td>249.0</td>\n",
       "      <td>góry,wspinaczka</td>\n",
       "      <td>2006-01-01</td>\n",
       "      <td>NaN</td>\n",
       "      <td>2006-01-01</td>\n",
       "      <td>polski</td>\n",
       "      <td>978-83-924395-3-0</td>\n",
       "    </tr>\n",
       "    <tr>\n",
       "      <th>4</th>\n",
       "      <td>27</td>\n",
       "      <td>Twenty seven</td>\n",
       "      <td>Amber</td>\n",
       "      <td>William Diehl</td>\n",
       "      <td>Irena Dawid-Olczyk,Monika Kajszczak</td>\n",
       "      <td>7.2</td>\n",
       "      <td>6.0</td>\n",
       "      <td>2.0</td>\n",
       "      <td>NaN</td>\n",
       "      <td>9.0</td>\n",
       "      <td>...</td>\n",
       "      <td>NaN</td>\n",
       "      <td>13.0</td>\n",
       "      <td>kryminał, sensacja, thriller</td>\n",
       "      <td>458.0</td>\n",
       "      <td>NaN</td>\n",
       "      <td>1990-01-01</td>\n",
       "      <td>NaN</td>\n",
       "      <td>1990-01-01</td>\n",
       "      <td>polski</td>\n",
       "      <td>8370822029</td>\n",
       "    </tr>\n",
       "  </tbody>\n",
       "</table>\n",
       "<p>5 rows × 21 columns</p>\n",
       "</div>"
      ],
      "text/plain": [
       "  Title OriginalTitle                  Publisher  \\\n",
       "0   0.4           NaN                  Egmont UK   \n",
       "1    13           NaN  Kolektyw Trzynasty Schron   \n",
       "2    14           NaN             Permuted Press   \n",
       "3    15           NaN                       Góry   \n",
       "4    27  Twenty seven                      Amber   \n",
       "\n",
       "                                              Author  \\\n",
       "0                                     Mike Lancaster   \n",
       "1  Adam Bełda,Bartosz Boroński,Marek Dryjer,Patry...   \n",
       "2                                       Peter Clines   \n",
       "3  Krzysztof Belczyński,Maciej Ciesielski,David K...   \n",
       "4                                      William Diehl   \n",
       "\n",
       "                            Translator  Score  AmountOfScores  \\\n",
       "0                                  NaN    6.3             3.0   \n",
       "1                                  NaN    8.0             2.0   \n",
       "2                                  NaN    6.7             9.0   \n",
       "3                                  NaN    6.8            16.0   \n",
       "4  Irena Dawid-Olczyk,Monika Kajszczak    7.2             6.0   \n",
       "\n",
       "   AmountOfComments Part  Read  ...  Favorite  WantToRead  \\\n",
       "0               1.0  NaN   3.0  ...       NaN         9.0   \n",
       "1               1.0  NaN   3.0  ...       NaN        40.0   \n",
       "2               1.0    1  11.0  ...       NaN        11.0   \n",
       "3               2.0  NaN  19.0  ...       NaN        78.0   \n",
       "4               2.0  NaN   9.0  ...       NaN        13.0   \n",
       "\n",
       "                       Category  Pages  \\\n",
       "0      fantasy, science fiction  304.0   \n",
       "1      fantasy, science fiction  675.0   \n",
       "2                        horror  370.0   \n",
       "3            powieść przygodowa  249.0   \n",
       "4  kryminał, sensacja, thriller  458.0   \n",
       "\n",
       "                                                Tags PublishDate  \\\n",
       "0  dystopia,technologia,cyberpunk,przyszłość,anty...  2011-01-03   \n",
       "1  postapokalipsa,fantastyka,literatura polska,an...  2012-05-13   \n",
       "2  Lovecraft,Cthulu,new weird,Los Angeles,horror,...  2012-05-07   \n",
       "3                                    góry,wspinaczka  2006-01-01   \n",
       "4                                                NaN  1990-01-01   \n",
       "\n",
       "  FirstPublishDate FirstPolishPublishDate   Language               ISBN  \n",
       "0       2011-01-03                    NaN  angielski      9781405253048  \n",
       "1              NaN             2012-05-13     polski      9788377221815  \n",
       "2       2012-05-07                    NaN  angielski      9781618680525  \n",
       "3              NaN             2006-01-01     polski  978-83-924395-3-0  \n",
       "4              NaN             1990-01-01     polski         8370822029  \n",
       "\n",
       "[5 rows x 21 columns]"
      ]
     },
     "execution_count": 2,
     "metadata": {},
     "output_type": "execute_result"
    }
   ],
   "source": [
    "df = pd.read_csv('/kaggle/input/book-dataset-300k-scraped-polish/book_data.csv',low_memory=False)\n",
    "df.head()"
   ]
  },
  {
   "cell_type": "code",
   "execution_count": 3,
   "id": "a73a793b",
   "metadata": {
    "execution": {
     "iopub.execute_input": "2023-07-03T08:04:38.832502Z",
     "iopub.status.busy": "2023-07-03T08:04:38.831288Z",
     "iopub.status.idle": "2023-07-03T08:04:38.838799Z",
     "shell.execute_reply": "2023-07-03T08:04:38.837743Z"
    },
    "papermill": {
     "duration": 0.015635,
     "end_time": "2023-07-03T08:04:38.841016",
     "exception": false,
     "start_time": "2023-07-03T08:04:38.825381",
     "status": "completed"
    },
    "tags": []
   },
   "outputs": [
    {
     "data": {
      "text/plain": [
       "(352066, 21)"
      ]
     },
     "execution_count": 3,
     "metadata": {},
     "output_type": "execute_result"
    }
   ],
   "source": [
    "df.shape"
   ]
  },
  {
   "cell_type": "code",
   "execution_count": 4,
   "id": "36d3b8c9",
   "metadata": {
    "execution": {
     "iopub.execute_input": "2023-07-03T08:04:38.851814Z",
     "iopub.status.busy": "2023-07-03T08:04:38.851390Z",
     "iopub.status.idle": "2023-07-03T08:04:39.073328Z",
     "shell.execute_reply": "2023-07-03T08:04:39.071954Z"
    },
    "papermill": {
     "duration": 0.230636,
     "end_time": "2023-07-03T08:04:39.076109",
     "exception": false,
     "start_time": "2023-07-03T08:04:38.845473",
     "status": "completed"
    },
    "tags": []
   },
   "outputs": [
    {
     "data": {
      "text/html": [
       "<div>\n",
       "<style scoped>\n",
       "    .dataframe tbody tr th:only-of-type {\n",
       "        vertical-align: middle;\n",
       "    }\n",
       "\n",
       "    .dataframe tbody tr th {\n",
       "        vertical-align: top;\n",
       "    }\n",
       "\n",
       "    .dataframe thead th {\n",
       "        text-align: right;\n",
       "    }\n",
       "</style>\n",
       "<table border=\"1\" class=\"dataframe\">\n",
       "  <thead>\n",
       "    <tr style=\"text-align: right;\">\n",
       "      <th></th>\n",
       "      <th>Score</th>\n",
       "      <th>AmountOfScores</th>\n",
       "      <th>AmountOfComments</th>\n",
       "      <th>Read</th>\n",
       "      <th>Own</th>\n",
       "      <th>Favorite</th>\n",
       "      <th>WantToRead</th>\n",
       "      <th>Pages</th>\n",
       "    </tr>\n",
       "  </thead>\n",
       "  <tbody>\n",
       "    <tr>\n",
       "      <th>count</th>\n",
       "      <td>344696.000000</td>\n",
       "      <td>344696.000000</td>\n",
       "      <td>344696.000000</td>\n",
       "      <td>344113.000000</td>\n",
       "      <td>238049.000000</td>\n",
       "      <td>83202.000000</td>\n",
       "      <td>279569.000000</td>\n",
       "      <td>308161.000000</td>\n",
       "    </tr>\n",
       "    <tr>\n",
       "      <th>mean</th>\n",
       "      <td>6.889235</td>\n",
       "      <td>82.704824</td>\n",
       "      <td>10.053038</td>\n",
       "      <td>115.308605</td>\n",
       "      <td>37.345597</td>\n",
       "      <td>20.569926</td>\n",
       "      <td>86.946303</td>\n",
       "      <td>247.566532</td>\n",
       "    </tr>\n",
       "    <tr>\n",
       "      <th>std</th>\n",
       "      <td>1.320952</td>\n",
       "      <td>713.554202</td>\n",
       "      <td>57.236651</td>\n",
       "      <td>1079.226084</td>\n",
       "      <td>279.238184</td>\n",
       "      <td>167.518892</td>\n",
       "      <td>385.520702</td>\n",
       "      <td>169.515260</td>\n",
       "    </tr>\n",
       "    <tr>\n",
       "      <th>min</th>\n",
       "      <td>1.000000</td>\n",
       "      <td>1.000000</td>\n",
       "      <td>0.000000</td>\n",
       "      <td>1.000000</td>\n",
       "      <td>1.000000</td>\n",
       "      <td>1.000000</td>\n",
       "      <td>1.000000</td>\n",
       "      <td>1.000000</td>\n",
       "    </tr>\n",
       "    <tr>\n",
       "      <th>25%</th>\n",
       "      <td>6.000000</td>\n",
       "      <td>1.000000</td>\n",
       "      <td>0.000000</td>\n",
       "      <td>2.000000</td>\n",
       "      <td>2.000000</td>\n",
       "      <td>1.000000</td>\n",
       "      <td>3.000000</td>\n",
       "      <td>133.000000</td>\n",
       "    </tr>\n",
       "    <tr>\n",
       "      <th>50%</th>\n",
       "      <td>7.000000</td>\n",
       "      <td>4.000000</td>\n",
       "      <td>1.000000</td>\n",
       "      <td>6.000000</td>\n",
       "      <td>5.000000</td>\n",
       "      <td>3.000000</td>\n",
       "      <td>11.000000</td>\n",
       "      <td>224.000000</td>\n",
       "    </tr>\n",
       "    <tr>\n",
       "      <th>75%</th>\n",
       "      <td>7.700000</td>\n",
       "      <td>22.000000</td>\n",
       "      <td>3.000000</td>\n",
       "      <td>30.000000</td>\n",
       "      <td>17.000000</td>\n",
       "      <td>8.000000</td>\n",
       "      <td>43.000000</td>\n",
       "      <td>335.000000</td>\n",
       "    </tr>\n",
       "    <tr>\n",
       "      <th>max</th>\n",
       "      <td>10.000000</td>\n",
       "      <td>80214.000000</td>\n",
       "      <td>4791.000000</td>\n",
       "      <td>117540.000000</td>\n",
       "      <td>29286.000000</td>\n",
       "      <td>11249.000000</td>\n",
       "      <td>23423.000000</td>\n",
       "      <td>5901.000000</td>\n",
       "    </tr>\n",
       "  </tbody>\n",
       "</table>\n",
       "</div>"
      ],
      "text/plain": [
       "               Score  AmountOfScores  AmountOfComments           Read  \\\n",
       "count  344696.000000   344696.000000     344696.000000  344113.000000   \n",
       "mean        6.889235       82.704824         10.053038     115.308605   \n",
       "std         1.320952      713.554202         57.236651    1079.226084   \n",
       "min         1.000000        1.000000          0.000000       1.000000   \n",
       "25%         6.000000        1.000000          0.000000       2.000000   \n",
       "50%         7.000000        4.000000          1.000000       6.000000   \n",
       "75%         7.700000       22.000000          3.000000      30.000000   \n",
       "max        10.000000    80214.000000       4791.000000  117540.000000   \n",
       "\n",
       "                 Own      Favorite     WantToRead          Pages  \n",
       "count  238049.000000  83202.000000  279569.000000  308161.000000  \n",
       "mean       37.345597     20.569926      86.946303     247.566532  \n",
       "std       279.238184    167.518892     385.520702     169.515260  \n",
       "min         1.000000      1.000000       1.000000       1.000000  \n",
       "25%         2.000000      1.000000       3.000000     133.000000  \n",
       "50%         5.000000      3.000000      11.000000     224.000000  \n",
       "75%        17.000000      8.000000      43.000000     335.000000  \n",
       "max     29286.000000  11249.000000   23423.000000    5901.000000  "
      ]
     },
     "execution_count": 4,
     "metadata": {},
     "output_type": "execute_result"
    }
   ],
   "source": [
    "df.describe()"
   ]
  },
  {
   "cell_type": "code",
   "execution_count": 5,
   "id": "5c2ced0a",
   "metadata": {
    "execution": {
     "iopub.execute_input": "2023-07-03T08:04:39.087707Z",
     "iopub.status.busy": "2023-07-03T08:04:39.087307Z",
     "iopub.status.idle": "2023-07-03T08:04:40.514468Z",
     "shell.execute_reply": "2023-07-03T08:04:40.513210Z"
    },
    "papermill": {
     "duration": 1.436306,
     "end_time": "2023-07-03T08:04:40.517356",
     "exception": false,
     "start_time": "2023-07-03T08:04:39.081050",
     "status": "completed"
    },
    "tags": []
   },
   "outputs": [
    {
     "name": "stdout",
     "output_type": "stream",
     "text": [
      "<class 'pandas.core.frame.DataFrame'>\n",
      "RangeIndex: 352066 entries, 0 to 352065\n",
      "Data columns (total 21 columns):\n",
      " #   Column                  Non-Null Count   Dtype  \n",
      "---  ------                  --------------   -----  \n",
      " 0   Title                   352066 non-null  object \n",
      " 1   OriginalTitle           135655 non-null  object \n",
      " 2   Publisher               347104 non-null  object \n",
      " 3   Author                  351256 non-null  object \n",
      " 4   Translator              100433 non-null  object \n",
      " 5   Score                   344696 non-null  float64\n",
      " 6   AmountOfScores          344696 non-null  float64\n",
      " 7   AmountOfComments        344696 non-null  float64\n",
      " 8   Part                    75434 non-null   object \n",
      " 9   Read                    344113 non-null  float64\n",
      " 10  Own                     238049 non-null  float64\n",
      " 11  Favorite                83202 non-null   float64\n",
      " 12  WantToRead              279569 non-null  float64\n",
      " 13  Category                352066 non-null  object \n",
      " 14  Pages                   308161 non-null  float64\n",
      " 15  Tags                    205285 non-null  object \n",
      " 16  PublishDate             352066 non-null  object \n",
      " 17  FirstPublishDate        80434 non-null   object \n",
      " 18  FirstPolishPublishDate  285161 non-null  object \n",
      " 19  Language                352066 non-null  object \n",
      " 20  ISBN                    352066 non-null  object \n",
      "dtypes: float64(8), object(13)\n",
      "memory usage: 56.4+ MB\n"
     ]
    }
   ],
   "source": [
    "df.info()"
   ]
  },
  {
   "cell_type": "code",
   "execution_count": 6,
   "id": "ee42e646",
   "metadata": {
    "execution": {
     "iopub.execute_input": "2023-07-03T08:04:40.530081Z",
     "iopub.status.busy": "2023-07-03T08:04:40.528972Z",
     "iopub.status.idle": "2023-07-03T08:04:40.539465Z",
     "shell.execute_reply": "2023-07-03T08:04:40.538088Z"
    },
    "papermill": {
     "duration": 0.019819,
     "end_time": "2023-07-03T08:04:40.542093",
     "exception": false,
     "start_time": "2023-07-03T08:04:40.522274",
     "status": "completed"
    },
    "tags": []
   },
   "outputs": [
    {
     "data": {
      "text/plain": [
       "Title                      object\n",
       "OriginalTitle              object\n",
       "Publisher                  object\n",
       "Author                     object\n",
       "Translator                 object\n",
       "Score                     float64\n",
       "AmountOfScores            float64\n",
       "AmountOfComments          float64\n",
       "Part                       object\n",
       "Read                      float64\n",
       "Own                       float64\n",
       "Favorite                  float64\n",
       "WantToRead                float64\n",
       "Category                   object\n",
       "Pages                     float64\n",
       "Tags                       object\n",
       "PublishDate                object\n",
       "FirstPublishDate           object\n",
       "FirstPolishPublishDate     object\n",
       "Language                   object\n",
       "ISBN                       object\n",
       "dtype: object"
      ]
     },
     "execution_count": 6,
     "metadata": {},
     "output_type": "execute_result"
    }
   ],
   "source": [
    "df.dtypes"
   ]
  },
  {
   "cell_type": "code",
   "execution_count": 7,
   "id": "08426eb9",
   "metadata": {
    "execution": {
     "iopub.execute_input": "2023-07-03T08:04:40.555850Z",
     "iopub.status.busy": "2023-07-03T08:04:40.555447Z",
     "iopub.status.idle": "2023-07-03T08:04:41.949620Z",
     "shell.execute_reply": "2023-07-03T08:04:41.948239Z"
    },
    "papermill": {
     "duration": 1.405104,
     "end_time": "2023-07-03T08:04:41.952432",
     "exception": false,
     "start_time": "2023-07-03T08:04:40.547328",
     "status": "completed"
    },
    "tags": []
   },
   "outputs": [
    {
     "data": {
      "text/plain": [
       "Title                          0\n",
       "OriginalTitle             216411\n",
       "Publisher                   4962\n",
       "Author                       810\n",
       "Translator                251633\n",
       "Score                       7370\n",
       "AmountOfScores              7370\n",
       "AmountOfComments            7370\n",
       "Part                      276632\n",
       "Read                        7953\n",
       "Own                       114017\n",
       "Favorite                  268864\n",
       "WantToRead                 72497\n",
       "Category                       0\n",
       "Pages                      43905\n",
       "Tags                      146781\n",
       "PublishDate                    0\n",
       "FirstPublishDate          271632\n",
       "FirstPolishPublishDate     66905\n",
       "Language                       0\n",
       "ISBN                           0\n",
       "dtype: int64"
      ]
     },
     "execution_count": 7,
     "metadata": {},
     "output_type": "execute_result"
    }
   ],
   "source": [
    "df.isnull().sum()"
   ]
  },
  {
   "cell_type": "code",
   "execution_count": 8,
   "id": "ea57d438",
   "metadata": {
    "execution": {
     "iopub.execute_input": "2023-07-03T08:04:41.965689Z",
     "iopub.status.busy": "2023-07-03T08:04:41.965282Z",
     "iopub.status.idle": "2023-07-03T08:04:43.145794Z",
     "shell.execute_reply": "2023-07-03T08:04:43.144741Z"
    },
    "papermill": {
     "duration": 1.190562,
     "end_time": "2023-07-03T08:04:43.148381",
     "exception": false,
     "start_time": "2023-07-03T08:04:41.957819",
     "status": "completed"
    },
    "tags": []
   },
   "outputs": [
    {
     "data": {
      "text/plain": [
       "0"
      ]
     },
     "execution_count": 8,
     "metadata": {},
     "output_type": "execute_result"
    }
   ],
   "source": [
    "df.duplicated().sum()"
   ]
  }
 ],
 "metadata": {
  "kernelspec": {
   "display_name": "Python 3",
   "language": "python",
   "name": "python3"
  },
  "language_info": {
   "codemirror_mode": {
    "name": "ipython",
    "version": 3
   },
   "file_extension": ".py",
   "mimetype": "text/x-python",
   "name": "python",
   "nbconvert_exporter": "python",
   "pygments_lexer": "ipython3",
   "version": "3.10.10"
  },
  "papermill": {
   "default_parameters": {},
   "duration": 24.691452,
   "end_time": "2023-07-03T08:04:44.177995",
   "environment_variables": {},
   "exception": null,
   "input_path": "__notebook__.ipynb",
   "output_path": "__notebook__.ipynb",
   "parameters": {},
   "start_time": "2023-07-03T08:04:19.486543",
   "version": "2.4.0"
  }
 },
 "nbformat": 4,
 "nbformat_minor": 5
}
