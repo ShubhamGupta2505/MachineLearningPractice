{
 "cells": [
  {
   "cell_type": "code",
   "execution_count": 1,
   "id": "11ff7bd4",
   "metadata": {
    "_cell_guid": "b1076dfc-b9ad-4769-8c92-a6c4dae69d19",
    "_uuid": "8f2839f25d086af736a60e9eeb907d3b93b6e0e5",
    "execution": {
     "iopub.execute_input": "2023-06-12T09:47:20.752251Z",
     "iopub.status.busy": "2023-06-12T09:47:20.751731Z",
     "iopub.status.idle": "2023-06-12T09:47:20.772256Z",
     "shell.execute_reply": "2023-06-12T09:47:20.770905Z"
    },
    "papermill": {
     "duration": 0.032282,
     "end_time": "2023-06-12T09:47:20.775216",
     "exception": false,
     "start_time": "2023-06-12T09:47:20.742934",
     "status": "completed"
    },
    "tags": []
   },
   "outputs": [
    {
     "name": "stdout",
     "output_type": "stream",
     "text": [
      "/kaggle/input/iit-admissions-dataset/student_data.csv\n"
     ]
    }
   ],
   "source": [
    "# This Python 3 environment comes with many helpful analytics libraries installed\n",
    "# It is defined by the kaggle/python Docker image: https://github.com/kaggle/docker-python\n",
    "# For example, here's several helpful packages to load\n",
    "\n",
    "import numpy as np # linear algebra\n",
    "import pandas as pd # data processing, CSV file I/O (e.g. pd.read_csv)\n",
    "\n",
    "# Input data files are available in the read-only \"../input/\" directory\n",
    "# For example, running this (by clicking run or pressing Shift+Enter) will list all files under the input directory\n",
    "\n",
    "import os\n",
    "for dirname, _, filenames in os.walk('/kaggle/input'):\n",
    "    for filename in filenames:\n",
    "        print(os.path.join(dirname, filename))\n",
    "\n",
    "# You can write up to 20GB to the current directory (/kaggle/working/) that gets preserved as output when you create a version using \"Save & Run All\" \n",
    "# You can also write temporary files to /kaggle/temp/, but they won't be saved outside of the current session"
   ]
  },
  {
   "cell_type": "code",
   "execution_count": 2,
   "id": "24d84eed",
   "metadata": {
    "execution": {
     "iopub.execute_input": "2023-06-12T09:47:20.789945Z",
     "iopub.status.busy": "2023-06-12T09:47:20.788583Z",
     "iopub.status.idle": "2023-06-12T09:47:21.671345Z",
     "shell.execute_reply": "2023-06-12T09:47:21.669926Z"
    },
    "papermill": {
     "duration": 0.893222,
     "end_time": "2023-06-12T09:47:21.674597",
     "exception": false,
     "start_time": "2023-06-12T09:47:20.781375",
     "status": "completed"
    },
    "tags": []
   },
   "outputs": [
    {
     "data": {
      "text/html": [
       "<div>\n",
       "<style scoped>\n",
       "    .dataframe tbody tr th:only-of-type {\n",
       "        vertical-align: middle;\n",
       "    }\n",
       "\n",
       "    .dataframe tbody tr th {\n",
       "        vertical-align: top;\n",
       "    }\n",
       "\n",
       "    .dataframe thead th {\n",
       "        text-align: right;\n",
       "    }\n",
       "</style>\n",
       "<table border=\"1\" class=\"dataframe\">\n",
       "  <thead>\n",
       "    <tr style=\"text-align: right;\">\n",
       "      <th></th>\n",
       "      <th>Student ID</th>\n",
       "      <th>Student Name</th>\n",
       "      <th>Date of Birth</th>\n",
       "      <th>Field of Study</th>\n",
       "      <th>Year of Admission</th>\n",
       "      <th>Expected Year of Graduation</th>\n",
       "      <th>Current Semester</th>\n",
       "      <th>Specialization</th>\n",
       "      <th>Fees</th>\n",
       "      <th>Discount on Fees</th>\n",
       "    </tr>\n",
       "  </thead>\n",
       "  <tbody>\n",
       "    <tr>\n",
       "      <th>0</th>\n",
       "      <td>165527</td>\n",
       "      <td>Bryan Rogers</td>\n",
       "      <td>2006-01-19</td>\n",
       "      <td>Computer Science</td>\n",
       "      <td>2020</td>\n",
       "      <td>2017</td>\n",
       "      <td>3</td>\n",
       "      <td>Web Development</td>\n",
       "      <td>155152</td>\n",
       "      <td>19572</td>\n",
       "    </tr>\n",
       "    <tr>\n",
       "      <th>1</th>\n",
       "      <td>635763</td>\n",
       "      <td>James Hogan</td>\n",
       "      <td>1999-05-23</td>\n",
       "      <td>Mechanical Engineering</td>\n",
       "      <td>2020</td>\n",
       "      <td>2020</td>\n",
       "      <td>2</td>\n",
       "      <td>Machine Learning</td>\n",
       "      <td>157870</td>\n",
       "      <td>14760</td>\n",
       "    </tr>\n",
       "    <tr>\n",
       "      <th>2</th>\n",
       "      <td>740021</td>\n",
       "      <td>David Robinson</td>\n",
       "      <td>1997-12-02</td>\n",
       "      <td>Civil Engineering</td>\n",
       "      <td>2017</td>\n",
       "      <td>2022</td>\n",
       "      <td>1</td>\n",
       "      <td>Network Security</td>\n",
       "      <td>55662</td>\n",
       "      <td>5871</td>\n",
       "    </tr>\n",
       "    <tr>\n",
       "      <th>3</th>\n",
       "      <td>433076</td>\n",
       "      <td>Susan Miller</td>\n",
       "      <td>1999-10-30</td>\n",
       "      <td>Computer Science</td>\n",
       "      <td>2021</td>\n",
       "      <td>2019</td>\n",
       "      <td>1</td>\n",
       "      <td>Data Science</td>\n",
       "      <td>134955</td>\n",
       "      <td>17284</td>\n",
       "    </tr>\n",
       "    <tr>\n",
       "      <th>4</th>\n",
       "      <td>441628</td>\n",
       "      <td>Brittany Martin</td>\n",
       "      <td>1998-01-10</td>\n",
       "      <td>Chemical Engineering</td>\n",
       "      <td>2016</td>\n",
       "      <td>2018</td>\n",
       "      <td>1</td>\n",
       "      <td>Network Security</td>\n",
       "      <td>125934</td>\n",
       "      <td>14871</td>\n",
       "    </tr>\n",
       "  </tbody>\n",
       "</table>\n",
       "</div>"
      ],
      "text/plain": [
       "   Student ID     Student Name Date of Birth          Field of Study  \\\n",
       "0      165527     Bryan Rogers    2006-01-19        Computer Science   \n",
       "1      635763      James Hogan    1999-05-23  Mechanical Engineering   \n",
       "2      740021   David Robinson    1997-12-02       Civil Engineering   \n",
       "3      433076     Susan Miller    1999-10-30        Computer Science   \n",
       "4      441628  Brittany Martin    1998-01-10    Chemical Engineering   \n",
       "\n",
       "   Year of Admission  Expected Year of Graduation  Current Semester  \\\n",
       "0               2020                         2017                 3   \n",
       "1               2020                         2020                 2   \n",
       "2               2017                         2022                 1   \n",
       "3               2021                         2019                 1   \n",
       "4               2016                         2018                 1   \n",
       "\n",
       "     Specialization    Fees  Discount on Fees  \n",
       "0   Web Development  155152             19572  \n",
       "1  Machine Learning  157870             14760  \n",
       "2  Network Security   55662              5871  \n",
       "3      Data Science  134955             17284  \n",
       "4  Network Security  125934             14871  "
      ]
     },
     "execution_count": 2,
     "metadata": {},
     "output_type": "execute_result"
    }
   ],
   "source": [
    "df = pd.read_csv('/kaggle/input/iit-admissions-dataset/student_data.csv')\n",
    "df.head()"
   ]
  },
  {
   "cell_type": "code",
   "execution_count": 3,
   "id": "7b389288",
   "metadata": {
    "execution": {
     "iopub.execute_input": "2023-06-12T09:47:21.691016Z",
     "iopub.status.busy": "2023-06-12T09:47:21.689840Z",
     "iopub.status.idle": "2023-06-12T09:47:21.698899Z",
     "shell.execute_reply": "2023-06-12T09:47:21.696916Z"
    },
    "papermill": {
     "duration": 0.020505,
     "end_time": "2023-06-12T09:47:21.701794",
     "exception": false,
     "start_time": "2023-06-12T09:47:21.681289",
     "status": "completed"
    },
    "tags": []
   },
   "outputs": [
    {
     "data": {
      "text/plain": [
       "(200000, 10)"
      ]
     },
     "execution_count": 3,
     "metadata": {},
     "output_type": "execute_result"
    }
   ],
   "source": [
    "df.shape"
   ]
  },
  {
   "cell_type": "code",
   "execution_count": 4,
   "id": "7d65f713",
   "metadata": {
    "execution": {
     "iopub.execute_input": "2023-06-12T09:47:21.718537Z",
     "iopub.status.busy": "2023-06-12T09:47:21.717366Z",
     "iopub.status.idle": "2023-06-12T09:47:21.802988Z",
     "shell.execute_reply": "2023-06-12T09:47:21.801969Z"
    },
    "papermill": {
     "duration": 0.096776,
     "end_time": "2023-06-12T09:47:21.805378",
     "exception": false,
     "start_time": "2023-06-12T09:47:21.708602",
     "status": "completed"
    },
    "tags": []
   },
   "outputs": [
    {
     "data": {
      "text/html": [
       "<div>\n",
       "<style scoped>\n",
       "    .dataframe tbody tr th:only-of-type {\n",
       "        vertical-align: middle;\n",
       "    }\n",
       "\n",
       "    .dataframe tbody tr th {\n",
       "        vertical-align: top;\n",
       "    }\n",
       "\n",
       "    .dataframe thead th {\n",
       "        text-align: right;\n",
       "    }\n",
       "</style>\n",
       "<table border=\"1\" class=\"dataframe\">\n",
       "  <thead>\n",
       "    <tr style=\"text-align: right;\">\n",
       "      <th></th>\n",
       "      <th>Student ID</th>\n",
       "      <th>Year of Admission</th>\n",
       "      <th>Expected Year of Graduation</th>\n",
       "      <th>Current Semester</th>\n",
       "      <th>Fees</th>\n",
       "      <th>Discount on Fees</th>\n",
       "    </tr>\n",
       "  </thead>\n",
       "  <tbody>\n",
       "    <tr>\n",
       "      <th>count</th>\n",
       "      <td>200000.000000</td>\n",
       "      <td>200000.000000</td>\n",
       "      <td>200000.000000</td>\n",
       "      <td>200000.000000</td>\n",
       "      <td>200000.000000</td>\n",
       "      <td>200000.000000</td>\n",
       "    </tr>\n",
       "    <tr>\n",
       "      <th>mean</th>\n",
       "      <td>549367.492925</td>\n",
       "      <td>2018.997685</td>\n",
       "      <td>2019.995235</td>\n",
       "      <td>2.499020</td>\n",
       "      <td>125092.847595</td>\n",
       "      <td>12484.258575</td>\n",
       "    </tr>\n",
       "    <tr>\n",
       "      <th>std</th>\n",
       "      <td>259361.565011</td>\n",
       "      <td>2.002381</td>\n",
       "      <td>1.997744</td>\n",
       "      <td>1.117804</td>\n",
       "      <td>43287.894903</td>\n",
       "      <td>8788.362629</td>\n",
       "    </tr>\n",
       "    <tr>\n",
       "      <th>min</th>\n",
       "      <td>100001.000000</td>\n",
       "      <td>2016.000000</td>\n",
       "      <td>2017.000000</td>\n",
       "      <td>1.000000</td>\n",
       "      <td>50000.000000</td>\n",
       "      <td>0.000000</td>\n",
       "    </tr>\n",
       "    <tr>\n",
       "      <th>25%</th>\n",
       "      <td>325311.000000</td>\n",
       "      <td>2017.000000</td>\n",
       "      <td>2018.000000</td>\n",
       "      <td>1.000000</td>\n",
       "      <td>87641.500000</td>\n",
       "      <td>5383.000000</td>\n",
       "    </tr>\n",
       "    <tr>\n",
       "      <th>50%</th>\n",
       "      <td>548855.500000</td>\n",
       "      <td>2019.000000</td>\n",
       "      <td>2020.000000</td>\n",
       "      <td>2.000000</td>\n",
       "      <td>125221.000000</td>\n",
       "      <td>10792.500000</td>\n",
       "    </tr>\n",
       "    <tr>\n",
       "      <th>75%</th>\n",
       "      <td>774182.500000</td>\n",
       "      <td>2021.000000</td>\n",
       "      <td>2022.000000</td>\n",
       "      <td>3.000000</td>\n",
       "      <td>162597.250000</td>\n",
       "      <td>18154.000000</td>\n",
       "    </tr>\n",
       "    <tr>\n",
       "      <th>max</th>\n",
       "      <td>999997.000000</td>\n",
       "      <td>2022.000000</td>\n",
       "      <td>2023.000000</td>\n",
       "      <td>4.000000</td>\n",
       "      <td>200000.000000</td>\n",
       "      <td>39865.000000</td>\n",
       "    </tr>\n",
       "  </tbody>\n",
       "</table>\n",
       "</div>"
      ],
      "text/plain": [
       "          Student ID  Year of Admission  Expected Year of Graduation  \\\n",
       "count  200000.000000      200000.000000                200000.000000   \n",
       "mean   549367.492925        2018.997685                  2019.995235   \n",
       "std    259361.565011           2.002381                     1.997744   \n",
       "min    100001.000000        2016.000000                  2017.000000   \n",
       "25%    325311.000000        2017.000000                  2018.000000   \n",
       "50%    548855.500000        2019.000000                  2020.000000   \n",
       "75%    774182.500000        2021.000000                  2022.000000   \n",
       "max    999997.000000        2022.000000                  2023.000000   \n",
       "\n",
       "       Current Semester           Fees  Discount on Fees  \n",
       "count     200000.000000  200000.000000     200000.000000  \n",
       "mean           2.499020  125092.847595      12484.258575  \n",
       "std            1.117804   43287.894903       8788.362629  \n",
       "min            1.000000   50000.000000          0.000000  \n",
       "25%            1.000000   87641.500000       5383.000000  \n",
       "50%            2.000000  125221.000000      10792.500000  \n",
       "75%            3.000000  162597.250000      18154.000000  \n",
       "max            4.000000  200000.000000      39865.000000  "
      ]
     },
     "execution_count": 4,
     "metadata": {},
     "output_type": "execute_result"
    }
   ],
   "source": [
    "df.describe()"
   ]
  },
  {
   "cell_type": "code",
   "execution_count": 5,
   "id": "d2fc5dfe",
   "metadata": {
    "execution": {
     "iopub.execute_input": "2023-06-12T09:47:21.821797Z",
     "iopub.status.busy": "2023-06-12T09:47:21.821180Z",
     "iopub.status.idle": "2023-06-12T09:47:22.105598Z",
     "shell.execute_reply": "2023-06-12T09:47:22.103265Z"
    },
    "papermill": {
     "duration": 0.296655,
     "end_time": "2023-06-12T09:47:22.109004",
     "exception": false,
     "start_time": "2023-06-12T09:47:21.812349",
     "status": "completed"
    },
    "tags": []
   },
   "outputs": [
    {
     "name": "stdout",
     "output_type": "stream",
     "text": [
      "<class 'pandas.core.frame.DataFrame'>\n",
      "RangeIndex: 200000 entries, 0 to 199999\n",
      "Data columns (total 10 columns):\n",
      " #   Column                       Non-Null Count   Dtype \n",
      "---  ------                       --------------   ----- \n",
      " 0   Student ID                   200000 non-null  int64 \n",
      " 1   Student Name                 200000 non-null  object\n",
      " 2   Date of Birth                200000 non-null  object\n",
      " 3   Field of Study               200000 non-null  object\n",
      " 4   Year of Admission            200000 non-null  int64 \n",
      " 5   Expected Year of Graduation  200000 non-null  int64 \n",
      " 6   Current Semester             200000 non-null  int64 \n",
      " 7   Specialization               200000 non-null  object\n",
      " 8   Fees                         200000 non-null  int64 \n",
      " 9   Discount on Fees             200000 non-null  int64 \n",
      "dtypes: int64(6), object(4)\n",
      "memory usage: 15.3+ MB\n"
     ]
    }
   ],
   "source": [
    "df.info()"
   ]
  },
  {
   "cell_type": "code",
   "execution_count": 6,
   "id": "61a81327",
   "metadata": {
    "execution": {
     "iopub.execute_input": "2023-06-12T09:47:22.124788Z",
     "iopub.status.busy": "2023-06-12T09:47:22.124312Z",
     "iopub.status.idle": "2023-06-12T09:47:22.134656Z",
     "shell.execute_reply": "2023-06-12T09:47:22.133300Z"
    },
    "papermill": {
     "duration": 0.021163,
     "end_time": "2023-06-12T09:47:22.137250",
     "exception": false,
     "start_time": "2023-06-12T09:47:22.116087",
     "status": "completed"
    },
    "tags": []
   },
   "outputs": [
    {
     "data": {
      "text/plain": [
       "Student ID                      int64\n",
       "Student Name                   object\n",
       "Date of Birth                  object\n",
       "Field of Study                 object\n",
       "Year of Admission               int64\n",
       "Expected Year of Graduation     int64\n",
       "Current Semester                int64\n",
       "Specialization                 object\n",
       "Fees                            int64\n",
       "Discount on Fees                int64\n",
       "dtype: object"
      ]
     },
     "execution_count": 6,
     "metadata": {},
     "output_type": "execute_result"
    }
   ],
   "source": [
    "df.dtypes"
   ]
  },
  {
   "cell_type": "code",
   "execution_count": 7,
   "id": "2dd6a1d7",
   "metadata": {
    "execution": {
     "iopub.execute_input": "2023-06-12T09:47:22.154962Z",
     "iopub.status.busy": "2023-06-12T09:47:22.154424Z",
     "iopub.status.idle": "2023-06-12T09:47:22.425968Z",
     "shell.execute_reply": "2023-06-12T09:47:22.425023Z"
    },
    "papermill": {
     "duration": 0.282231,
     "end_time": "2023-06-12T09:47:22.428353",
     "exception": false,
     "start_time": "2023-06-12T09:47:22.146122",
     "status": "completed"
    },
    "tags": []
   },
   "outputs": [
    {
     "data": {
      "text/plain": [
       "Student ID                     0\n",
       "Student Name                   0\n",
       "Date of Birth                  0\n",
       "Field of Study                 0\n",
       "Year of Admission              0\n",
       "Expected Year of Graduation    0\n",
       "Current Semester               0\n",
       "Specialization                 0\n",
       "Fees                           0\n",
       "Discount on Fees               0\n",
       "dtype: int64"
      ]
     },
     "execution_count": 7,
     "metadata": {},
     "output_type": "execute_result"
    }
   ],
   "source": [
    "df.isnull().sum()"
   ]
  },
  {
   "cell_type": "code",
   "execution_count": 8,
   "id": "ec470625",
   "metadata": {
    "execution": {
     "iopub.execute_input": "2023-06-12T09:47:22.444366Z",
     "iopub.status.busy": "2023-06-12T09:47:22.443802Z",
     "iopub.status.idle": "2023-06-12T09:47:22.646474Z",
     "shell.execute_reply": "2023-06-12T09:47:22.645204Z"
    },
    "papermill": {
     "duration": 0.214504,
     "end_time": "2023-06-12T09:47:22.649767",
     "exception": false,
     "start_time": "2023-06-12T09:47:22.435263",
     "status": "completed"
    },
    "tags": []
   },
   "outputs": [
    {
     "data": {
      "text/plain": [
       "0"
      ]
     },
     "execution_count": 8,
     "metadata": {},
     "output_type": "execute_result"
    }
   ],
   "source": [
    "df.duplicated().sum()"
   ]
  },
  {
   "cell_type": "code",
   "execution_count": 9,
   "id": "5ef69f58",
   "metadata": {
    "execution": {
     "iopub.execute_input": "2023-06-12T09:47:22.666429Z",
     "iopub.status.busy": "2023-06-12T09:47:22.665928Z",
     "iopub.status.idle": "2023-06-12T09:47:22.707769Z",
     "shell.execute_reply": "2023-06-12T09:47:22.706554Z"
    },
    "papermill": {
     "duration": 0.054475,
     "end_time": "2023-06-12T09:47:22.711507",
     "exception": false,
     "start_time": "2023-06-12T09:47:22.657032",
     "status": "completed"
    },
    "tags": []
   },
   "outputs": [
    {
     "data": {
      "text/plain": [
       "Electrical Engineering    40305\n",
       "Chemical Engineering      40020\n",
       "Computer Science          39960\n",
       "Mechanical Engineering    39941\n",
       "Civil Engineering         39774\n",
       "Name: Field of Study, dtype: int64"
      ]
     },
     "execution_count": 9,
     "metadata": {},
     "output_type": "execute_result"
    }
   ],
   "source": [
    "df['Field of Study'].value_counts()"
   ]
  },
  {
   "cell_type": "code",
   "execution_count": 10,
   "id": "162f1ad9",
   "metadata": {
    "execution": {
     "iopub.execute_input": "2023-06-12T09:47:22.730274Z",
     "iopub.status.busy": "2023-06-12T09:47:22.729408Z",
     "iopub.status.idle": "2023-06-12T09:47:22.773531Z",
     "shell.execute_reply": "2023-06-12T09:47:22.772532Z"
    },
    "papermill": {
     "duration": 0.057086,
     "end_time": "2023-06-12T09:47:22.776142",
     "exception": false,
     "start_time": "2023-06-12T09:47:22.719056",
     "status": "completed"
    },
    "tags": []
   },
   "outputs": [
    {
     "data": {
      "text/plain": [
       "Web Development            40292\n",
       "Machine Learning           40142\n",
       "Network Security           39932\n",
       "Data Science               39870\n",
       "Artificial Intelligence    39764\n",
       "Name: Specialization, dtype: int64"
      ]
     },
     "execution_count": 10,
     "metadata": {},
     "output_type": "execute_result"
    }
   ],
   "source": [
    "df['Specialization'].value_counts()"
   ]
  },
  {
   "cell_type": "code",
   "execution_count": 11,
   "id": "b24b3c9d",
   "metadata": {
    "execution": {
     "iopub.execute_input": "2023-06-12T09:47:22.793423Z",
     "iopub.status.busy": "2023-06-12T09:47:22.792991Z",
     "iopub.status.idle": "2023-06-12T09:47:22.805789Z",
     "shell.execute_reply": "2023-06-12T09:47:22.804411Z"
    },
    "papermill": {
     "duration": 0.024614,
     "end_time": "2023-06-12T09:47:22.808398",
     "exception": false,
     "start_time": "2023-06-12T09:47:22.783784",
     "status": "completed"
    },
    "tags": []
   },
   "outputs": [
    {
     "data": {
      "text/plain": [
       "2021    28705\n",
       "2019    28658\n",
       "2020    28616\n",
       "2018    28613\n",
       "2017    28590\n",
       "2022    28458\n",
       "2023    28360\n",
       "Name: Expected Year of Graduation, dtype: int64"
      ]
     },
     "execution_count": 11,
     "metadata": {},
     "output_type": "execute_result"
    }
   ],
   "source": [
    "df['Expected Year of Graduation'].value_counts()"
   ]
  },
  {
   "cell_type": "code",
   "execution_count": 12,
   "id": "c2b33ec9",
   "metadata": {
    "execution": {
     "iopub.execute_input": "2023-06-12T09:47:22.826358Z",
     "iopub.status.busy": "2023-06-12T09:47:22.825756Z",
     "iopub.status.idle": "2023-06-12T09:47:22.838347Z",
     "shell.execute_reply": "2023-06-12T09:47:22.836946Z"
    },
    "papermill": {
     "duration": 0.02433,
     "end_time": "2023-06-12T09:47:22.840724",
     "exception": false,
     "start_time": "2023-06-12T09:47:22.816394",
     "status": "completed"
    },
    "tags": []
   },
   "outputs": [
    {
     "data": {
      "text/plain": [
       "2017    28760\n",
       "2022    28703\n",
       "2016    28646\n",
       "2019    28618\n",
       "2021    28483\n",
       "2018    28435\n",
       "2020    28355\n",
       "Name: Year of Admission, dtype: int64"
      ]
     },
     "execution_count": 12,
     "metadata": {},
     "output_type": "execute_result"
    }
   ],
   "source": [
    "df['Year of Admission'].value_counts()"
   ]
  },
  {
   "cell_type": "code",
   "execution_count": 13,
   "id": "8d4e7507",
   "metadata": {
    "execution": {
     "iopub.execute_input": "2023-06-12T09:47:22.859118Z",
     "iopub.status.busy": "2023-06-12T09:47:22.858321Z",
     "iopub.status.idle": "2023-06-12T09:47:25.048986Z",
     "shell.execute_reply": "2023-06-12T09:47:25.046679Z"
    },
    "papermill": {
     "duration": 2.203772,
     "end_time": "2023-06-12T09:47:25.052729",
     "exception": false,
     "start_time": "2023-06-12T09:47:22.848957",
     "status": "completed"
    },
    "tags": []
   },
   "outputs": [
    {
     "data": {
      "text/plain": [
       "<Axes: ylabel='Field of Study'>"
      ]
     },
     "execution_count": 13,
     "metadata": {},
     "output_type": "execute_result"
    },
    {
     "data": {
      "image/png": "[encoded data removed]",
      "text/plain": [
       "<Figure size 2000x800 with 1 Axes>"
      ]
     },
     "metadata": {},
     "output_type": "display_data"
    }
   ],
   "source": [
    "import matplotlib.pyplot as plt\n",
    "import seaborn as sns\n",
    "plt.figure(figsize=(20,8))\n",
    "df['Field of Study'].value_counts().plot.pie(shadow=True)"
   ]
  },
  {
   "cell_type": "code",
   "execution_count": 14,
   "id": "7b5ced66",
   "metadata": {
    "execution": {
     "iopub.execute_input": "2023-06-12T09:47:25.074760Z",
     "iopub.status.busy": "2023-06-12T09:47:25.074161Z",
     "iopub.status.idle": "2023-06-12T09:47:25.398261Z",
     "shell.execute_reply": "2023-06-12T09:47:25.396822Z"
    },
    "papermill": {
     "duration": 0.338379,
     "end_time": "2023-06-12T09:47:25.401499",
     "exception": false,
     "start_time": "2023-06-12T09:47:25.063120",
     "status": "completed"
    },
    "tags": []
   },
   "outputs": [
    {
     "data": {
      "text/plain": [
       "<Axes: ylabel='Specialization'>"
      ]
     },
     "execution_count": 14,
     "metadata": {},
     "output_type": "execute_result"
    },
    {
     "data": {
      "image/png": "[encoded data removed]",
      "text/plain": [
       "<Figure size 2000x800 with 1 Axes>"
      ]
     },
     "metadata": {},
     "output_type": "display_data"
    }
   ],
   "source": [
    "plt.figure(figsize=(20,8))\n",
    "df['Specialization'].value_counts().plot.pie(shadow=True)"
   ]
  }
 ],
 "metadata": {
  "kernelspec": {
   "display_name": "Python 3",
   "language": "python",
   "name": "python3"
  },
  "language_info": {
   "codemirror_mode": {
    "name": "ipython",
    "version": 3
   },
   "file_extension": ".py",
   "mimetype": "text/x-python",
   "name": "python",
   "nbconvert_exporter": "python",
   "pygments_lexer": "ipython3",
   "version": "3.10.10"
  },
  "papermill": {
   "default_parameters": {},
   "duration": 22.10008,
   "end_time": "2023-06-12T09:47:27.800310",
   "environment_variables": {},
   "exception": null,
   "input_path": "__notebook__.ipynb",
   "output_path": "__notebook__.ipynb",
   "parameters": {},
   "start_time": "2023-06-12T09:47:05.700230",
   "version": "2.4.0"
  }
 },
 "nbformat": 4,
 "nbformat_minor": 5
}
