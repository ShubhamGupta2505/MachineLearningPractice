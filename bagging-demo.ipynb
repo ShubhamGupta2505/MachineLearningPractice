{
 "cells": [
  {
   "cell_type": "code",
   "execution_count": null,
   "id": "ad3fb2d6",
   "metadata": {
    "papermill": {
     "duration": 0.008925,
     "end_time": "2023-04-30T09:09:50.580225",
     "exception": false,
     "start_time": "2023-04-30T09:09:50.571300",
     "status": "completed"
    },
    "tags": []
   },
   "outputs": [],
   "source": []
  },
  {
   "cell_type": "code",
   "execution_count": 1,
   "id": "fe5c5135",
   "metadata": {
    "_cell_guid": "b1076dfc-b9ad-4769-8c92-a6c4dae69d19",
    "_uuid": "8f2839f25d086af736a60e9eeb907d3b93b6e0e5",
    "execution": {
     "iopub.execute_input": "2023-04-30T09:09:50.598522Z",
     "iopub.status.busy": "2023-04-30T09:09:50.597934Z",
     "iopub.status.idle": "2023-04-30T09:09:50.612254Z",
     "shell.execute_reply": "2023-04-30T09:09:50.611245Z"
    },
    "papermill": {
     "duration": 0.026623,
     "end_time": "2023-04-30T09:09:50.614736",
     "exception": false,
     "start_time": "2023-04-30T09:09:50.588113",
     "status": "completed"
    },
    "tags": []
   },
   "outputs": [],
   "source": [
    "# This Python 3 environment comes with many helpful analytics libraries installed\n",
    "# It is defined by the kaggle/python Docker image: https://github.com/kaggle/docker-python\n",
    "# For example, here's several helpful packages to load\n",
    "\n",
    "import numpy as np # linear algebra\n",
    "import pandas as pd # data processing, CSV file I/O (e.g. pd.read_csv)\n",
    "\n",
    "# Input data files are available in the read-only \"../input/\" directory\n",
    "# For example, running this (by clicking run or pressing Shift+Enter) will list all files under the input directory\n",
    "\n",
    "import os\n",
    "for dirname, _, filenames in os.walk('/kaggle/input'):\n",
    "    for filename in filenames:\n",
    "        print(os.path.join(dirname, filename))\n",
    "\n",
    "# You can write up to 20GB to the current directory (/kaggle/working/) that gets preserved as output when you create a version using \"Save & Run All\" \n",
    "# You can also write temporary files to /kaggle/temp/, but they won't be saved outside of the current session"
   ]
  },
  {
   "cell_type": "code",
   "execution_count": 2,
   "id": "d24c6ac2",
   "metadata": {
    "execution": {
     "iopub.execute_input": "2023-04-30T09:09:50.632313Z",
     "iopub.status.busy": "2023-04-30T09:09:50.631333Z",
     "iopub.status.idle": "2023-04-30T09:09:52.005295Z",
     "shell.execute_reply": "2023-04-30T09:09:52.003919Z"
    },
    "papermill": {
     "duration": 1.385886,
     "end_time": "2023-04-30T09:09:52.008284",
     "exception": false,
     "start_time": "2023-04-30T09:09:50.622398",
     "status": "completed"
    },
    "tags": []
   },
   "outputs": [],
   "source": [
    "from sklearn.model_selection import train_test_split\n",
    "from sklearn.tree import DecisionTreeClassifier\n",
    "from sklearn.metrics import accuracy_score\n",
    "from sklearn.datasets import make_classification\n",
    "from sklearn.ensemble import BaggingClassifier\n",
    "from sklearn.svm import SVC"
   ]
  },
  {
   "cell_type": "code",
   "execution_count": 3,
   "id": "5a6350a6",
   "metadata": {
    "execution": {
     "iopub.execute_input": "2023-04-30T09:09:52.025632Z",
     "iopub.status.busy": "2023-04-30T09:09:52.024425Z",
     "iopub.status.idle": "2023-04-30T09:09:52.044350Z",
     "shell.execute_reply": "2023-04-30T09:09:52.043239Z"
    },
    "papermill": {
     "duration": 0.03117,
     "end_time": "2023-04-30T09:09:52.046865",
     "exception": false,
     "start_time": "2023-04-30T09:09:52.015695",
     "status": "completed"
    },
    "tags": []
   },
   "outputs": [],
   "source": [
    "X,Y = make_classification(n_samples = 10000,n_features=10,n_informative=3)\n"
   ]
  },
  {
   "cell_type": "code",
   "execution_count": 4,
   "id": "2cb95479",
   "metadata": {
    "execution": {
     "iopub.execute_input": "2023-04-30T09:09:52.064049Z",
     "iopub.status.busy": "2023-04-30T09:09:52.063650Z",
     "iopub.status.idle": "2023-04-30T09:09:52.070952Z",
     "shell.execute_reply": "2023-04-30T09:09:52.070010Z"
    },
    "papermill": {
     "duration": 0.018938,
     "end_time": "2023-04-30T09:09:52.073439",
     "exception": false,
     "start_time": "2023-04-30T09:09:52.054501",
     "status": "completed"
    },
    "tags": []
   },
   "outputs": [],
   "source": [
    "X_train,X_test,Y_train,Y_test = train_test_split(X,Y,test_size=0.2,random_state=42)"
   ]
  },
  {
   "cell_type": "code",
   "execution_count": 5,
   "id": "c8a13539",
   "metadata": {
    "execution": {
     "iopub.execute_input": "2023-04-30T09:09:52.091036Z",
     "iopub.status.busy": "2023-04-30T09:09:52.090200Z",
     "iopub.status.idle": "2023-04-30T09:09:52.098291Z",
     "shell.execute_reply": "2023-04-30T09:09:52.097129Z"
    },
    "papermill": {
     "duration": 0.020247,
     "end_time": "2023-04-30T09:09:52.101303",
     "exception": false,
     "start_time": "2023-04-30T09:09:52.081056",
     "status": "completed"
    },
    "tags": []
   },
   "outputs": [
    {
     "data": {
      "text/plain": [
       "((8000, 10), (8000,))"
      ]
     },
     "execution_count": 5,
     "metadata": {},
     "output_type": "execute_result"
    }
   ],
   "source": [
    "X_train.shape,Y_train.shape"
   ]
  },
  {
   "cell_type": "code",
   "execution_count": 6,
   "id": "9fc99aa6",
   "metadata": {
    "execution": {
     "iopub.execute_input": "2023-04-30T09:09:52.118063Z",
     "iopub.status.busy": "2023-04-30T09:09:52.117684Z",
     "iopub.status.idle": "2023-04-30T09:09:52.252128Z",
     "shell.execute_reply": "2023-04-30T09:09:52.250711Z"
    },
    "papermill": {
     "duration": 0.146304,
     "end_time": "2023-04-30T09:09:52.255040",
     "exception": false,
     "start_time": "2023-04-30T09:09:52.108736",
     "status": "completed"
    },
    "tags": []
   },
   "outputs": [
    {
     "name": "stdout",
     "output_type": "stream",
     "text": [
      "0.908\n"
     ]
    }
   ],
   "source": [
    "dt = DecisionTreeClassifier(random_state=42)\n",
    "dt.fit(X_train,Y_train)\n",
    "y_pred = dt.predict(X_test)\n",
    "print(accuracy_score(Y_test,y_pred))"
   ]
  },
  {
   "cell_type": "markdown",
   "id": "0f541cb5",
   "metadata": {
    "papermill": {
     "duration": 0.008589,
     "end_time": "2023-04-30T09:09:52.271436",
     "exception": false,
     "start_time": "2023-04-30T09:09:52.262847",
     "status": "completed"
    },
    "tags": []
   },
   "source": [
    "# Bagging"
   ]
  },
  {
   "cell_type": "code",
   "execution_count": 7,
   "id": "97aab536",
   "metadata": {
    "execution": {
     "iopub.execute_input": "2023-04-30T09:09:52.289654Z",
     "iopub.status.busy": "2023-04-30T09:09:52.288615Z",
     "iopub.status.idle": "2023-04-30T09:09:52.294072Z",
     "shell.execute_reply": "2023-04-30T09:09:52.293245Z"
    },
    "papermill": {
     "duration": 0.01683,
     "end_time": "2023-04-30T09:09:52.296203",
     "exception": false,
     "start_time": "2023-04-30T09:09:52.279373",
     "status": "completed"
    },
    "tags": []
   },
   "outputs": [],
   "source": [
    "bag = BaggingClassifier(\n",
    "    base_estimator=DecisionTreeClassifier(),\n",
    "    n_estimators =500,\n",
    "    max_samples=0.25,\n",
    "    bootstrap=True,\n",
    "    random_state=42\n",
    ")"
   ]
  },
  {
   "cell_type": "code",
   "execution_count": 8,
   "id": "b4216d69",
   "metadata": {
    "execution": {
     "iopub.execute_input": "2023-04-30T09:09:52.314769Z",
     "iopub.status.busy": "2023-04-30T09:09:52.314358Z",
     "iopub.status.idle": "2023-04-30T09:10:02.220895Z",
     "shell.execute_reply": "2023-04-30T09:10:02.219641Z"
    },
    "papermill": {
     "duration": 9.919243,
     "end_time": "2023-04-30T09:10:02.223721",
     "exception": false,
     "start_time": "2023-04-30T09:09:52.304478",
     "status": "completed"
    },
    "tags": []
   },
   "outputs": [
    {
     "data": {
      "text/plain": [
       "BaggingClassifier(base_estimator=DecisionTreeClassifier(), max_samples=0.25,\n",
       "                  n_estimators=500, random_state=42)"
      ]
     },
     "execution_count": 8,
     "metadata": {},
     "output_type": "execute_result"
    }
   ],
   "source": [
    "bag.fit(X_train,Y_train)"
   ]
  },
  {
   "cell_type": "code",
   "execution_count": 9,
   "id": "e4a449bd",
   "metadata": {
    "execution": {
     "iopub.execute_input": "2023-04-30T09:10:02.241891Z",
     "iopub.status.busy": "2023-04-30T09:10:02.240894Z",
     "iopub.status.idle": "2023-04-30T09:10:02.449655Z",
     "shell.execute_reply": "2023-04-30T09:10:02.448423Z"
    },
    "papermill": {
     "duration": 0.220506,
     "end_time": "2023-04-30T09:10:02.452161",
     "exception": false,
     "start_time": "2023-04-30T09:10:02.231655",
     "status": "completed"
    },
    "tags": []
   },
   "outputs": [
    {
     "data": {
      "text/plain": [
       "0.9335"
      ]
     },
     "execution_count": 9,
     "metadata": {},
     "output_type": "execute_result"
    }
   ],
   "source": [
    "y_pred1 = bag.predict(X_test)\n",
    "accuracy_score(Y_test,y_pred1)"
   ]
  },
  {
   "cell_type": "code",
   "execution_count": 10,
   "id": "ab1b39f1",
   "metadata": {
    "execution": {
     "iopub.execute_input": "2023-04-30T09:10:02.470543Z",
     "iopub.status.busy": "2023-04-30T09:10:02.469688Z",
     "iopub.status.idle": "2023-04-30T09:10:02.622112Z",
     "shell.execute_reply": "2023-04-30T09:10:02.620675Z"
    },
    "papermill": {
     "duration": 0.164386,
     "end_time": "2023-04-30T09:10:02.624696",
     "exception": false,
     "start_time": "2023-04-30T09:10:02.460310",
     "status": "completed"
    },
    "tags": []
   },
   "outputs": [
    {
     "data": {
      "text/plain": [
       "(2000,)"
      ]
     },
     "execution_count": 10,
     "metadata": {},
     "output_type": "execute_result"
    }
   ],
   "source": [
    "bag.estimators_samples_[0].shape"
   ]
  },
  {
   "cell_type": "code",
   "execution_count": 11,
   "id": "d30fd79a",
   "metadata": {
    "execution": {
     "iopub.execute_input": "2023-04-30T09:10:02.643218Z",
     "iopub.status.busy": "2023-04-30T09:10:02.642388Z",
     "iopub.status.idle": "2023-04-30T09:10:02.649625Z",
     "shell.execute_reply": "2023-04-30T09:10:02.648542Z"
    },
    "papermill": {
     "duration": 0.019198,
     "end_time": "2023-04-30T09:10:02.652235",
     "exception": false,
     "start_time": "2023-04-30T09:10:02.633037",
     "status": "completed"
    },
    "tags": []
   },
   "outputs": [
    {
     "data": {
      "text/plain": [
       "(10,)"
      ]
     },
     "execution_count": 11,
     "metadata": {},
     "output_type": "execute_result"
    }
   ],
   "source": [
    "bag.estimators_features_[0].shape"
   ]
  },
  {
   "cell_type": "markdown",
   "id": "13c6ec9b",
   "metadata": {
    "papermill": {
     "duration": 0.00818,
     "end_time": "2023-04-30T09:10:02.668921",
     "exception": false,
     "start_time": "2023-04-30T09:10:02.660741",
     "status": "completed"
    },
    "tags": []
   },
   "source": [
    "# Using SVM"
   ]
  },
  {
   "cell_type": "code",
   "execution_count": 12,
   "id": "f9be36d3",
   "metadata": {
    "execution": {
     "iopub.execute_input": "2023-04-30T09:10:02.687080Z",
     "iopub.status.busy": "2023-04-30T09:10:02.686663Z",
     "iopub.status.idle": "2023-04-30T09:10:02.691169Z",
     "shell.execute_reply": "2023-04-30T09:10:02.690376Z"
    },
    "papermill": {
     "duration": 0.016125,
     "end_time": "2023-04-30T09:10:02.693264",
     "exception": false,
     "start_time": "2023-04-30T09:10:02.677139",
     "status": "completed"
    },
    "tags": []
   },
   "outputs": [],
   "source": [
    "bag1= BaggingClassifier(\n",
    "    base_estimator = SVC(),\n",
    "    n_estimators= 300,\n",
    "    max_samples = 0.30,\n",
    "    bootstrap = True,\n",
    "    random_state=42,\n",
    "    n_jobs = -1\n",
    ")"
   ]
  },
  {
   "cell_type": "code",
   "execution_count": 13,
   "id": "d127640e",
   "metadata": {
    "execution": {
     "iopub.execute_input": "2023-04-30T09:10:02.711785Z",
     "iopub.status.busy": "2023-04-30T09:10:02.711117Z",
     "iopub.status.idle": "2023-04-30T09:10:14.326543Z",
     "shell.execute_reply": "2023-04-30T09:10:14.324581Z"
    },
    "papermill": {
     "duration": 11.6284,
     "end_time": "2023-04-30T09:10:14.329650",
     "exception": false,
     "start_time": "2023-04-30T09:10:02.701250",
     "status": "completed"
    },
    "tags": []
   },
   "outputs": [
    {
     "data": {
      "text/plain": [
       "BaggingClassifier(base_estimator=SVC(), max_samples=0.3, n_estimators=300,\n",
       "                  n_jobs=-1, random_state=42)"
      ]
     },
     "execution_count": 13,
     "metadata": {},
     "output_type": "execute_result"
    }
   ],
   "source": [
    "bag1.fit(X_train,Y_train)"
   ]
  },
  {
   "cell_type": "code",
   "execution_count": 14,
   "id": "b105b5f4",
   "metadata": {
    "execution": {
     "iopub.execute_input": "2023-04-30T09:10:14.348751Z",
     "iopub.status.busy": "2023-04-30T09:10:14.348319Z",
     "iopub.status.idle": "2023-04-30T09:10:23.276865Z",
     "shell.execute_reply": "2023-04-30T09:10:23.275612Z"
    },
    "papermill": {
     "duration": 8.941576,
     "end_time": "2023-04-30T09:10:23.279653",
     "exception": false,
     "start_time": "2023-04-30T09:10:14.338077",
     "status": "completed"
    },
    "tags": []
   },
   "outputs": [
    {
     "data": {
      "text/plain": [
       "0.9265"
      ]
     },
     "execution_count": 14,
     "metadata": {},
     "output_type": "execute_result"
    }
   ],
   "source": [
    "y_pred2 = bag1.predict(X_test)\n",
    "accuracy_score(Y_test,y_pred2)"
   ]
  },
  {
   "cell_type": "code",
   "execution_count": 15,
   "id": "9fd9247d",
   "metadata": {
    "execution": {
     "iopub.execute_input": "2023-04-30T09:10:23.299362Z",
     "iopub.status.busy": "2023-04-30T09:10:23.298907Z",
     "iopub.status.idle": "2023-04-30T09:10:23.306878Z",
     "shell.execute_reply": "2023-04-30T09:10:23.305754Z"
    },
    "papermill": {
     "duration": 0.02053,
     "end_time": "2023-04-30T09:10:23.309308",
     "exception": false,
     "start_time": "2023-04-30T09:10:23.288778",
     "status": "completed"
    },
    "tags": []
   },
   "outputs": [
    {
     "data": {
      "text/plain": [
       "(10,)"
      ]
     },
     "execution_count": 15,
     "metadata": {},
     "output_type": "execute_result"
    }
   ],
   "source": [
    "bag1.estimators_features_[0].shape"
   ]
  },
  {
   "cell_type": "code",
   "execution_count": 16,
   "id": "4b758e9f",
   "metadata": {
    "execution": {
     "iopub.execute_input": "2023-04-30T09:10:23.329815Z",
     "iopub.status.busy": "2023-04-30T09:10:23.328568Z",
     "iopub.status.idle": "2023-04-30T09:10:23.408560Z",
     "shell.execute_reply": "2023-04-30T09:10:23.407390Z"
    },
    "papermill": {
     "duration": 0.093505,
     "end_time": "2023-04-30T09:10:23.411567",
     "exception": false,
     "start_time": "2023-04-30T09:10:23.318062",
     "status": "completed"
    },
    "tags": []
   },
   "outputs": [
    {
     "data": {
      "text/plain": [
       "(2400,)"
      ]
     },
     "execution_count": 16,
     "metadata": {},
     "output_type": "execute_result"
    }
   ],
   "source": [
    "bag1.estimators_samples_[0].shape"
   ]
  },
  {
   "cell_type": "markdown",
   "id": "8c1cd420",
   "metadata": {
    "papermill": {
     "duration": 0.008254,
     "end_time": "2023-04-30T09:10:23.428558",
     "exception": false,
     "start_time": "2023-04-30T09:10:23.420304",
     "status": "completed"
    },
    "tags": []
   },
   "source": [
    "# Pasting Using DecisionTree"
   ]
  },
  {
   "cell_type": "code",
   "execution_count": 17,
   "id": "15304607",
   "metadata": {
    "execution": {
     "iopub.execute_input": "2023-04-30T09:10:23.447848Z",
     "iopub.status.busy": "2023-04-30T09:10:23.447364Z",
     "iopub.status.idle": "2023-04-30T09:10:23.453649Z",
     "shell.execute_reply": "2023-04-30T09:10:23.452271Z"
    },
    "papermill": {
     "duration": 0.018714,
     "end_time": "2023-04-30T09:10:23.455992",
     "exception": false,
     "start_time": "2023-04-30T09:10:23.437278",
     "status": "completed"
    },
    "tags": []
   },
   "outputs": [],
   "source": [
    "bag2 = BaggingClassifier(\n",
    "    base_estimator=DecisionTreeClassifier(),\n",
    "    n_estimators =500,\n",
    "    max_samples=0.25,\n",
    "    bootstrap=False,\n",
    "    random_state=42,\n",
    "    verbose = 1,\n",
    "    n_jobs = -1\n",
    ")"
   ]
  },
  {
   "cell_type": "code",
   "execution_count": 18,
   "id": "e9b5b21d",
   "metadata": {
    "execution": {
     "iopub.execute_input": "2023-04-30T09:10:23.475885Z",
     "iopub.status.busy": "2023-04-30T09:10:23.475105Z",
     "iopub.status.idle": "2023-04-30T09:10:27.546582Z",
     "shell.execute_reply": "2023-04-30T09:10:27.545049Z"
    },
    "papermill": {
     "duration": 4.084843,
     "end_time": "2023-04-30T09:10:27.549422",
     "exception": false,
     "start_time": "2023-04-30T09:10:23.464579",
     "status": "completed"
    },
    "tags": []
   },
   "outputs": [
    {
     "name": "stderr",
     "output_type": "stream",
     "text": [
      "[Parallel(n_jobs=4)]: Using backend LokyBackend with 4 concurrent workers.\n",
      "[Parallel(n_jobs=4)]: Done   2 out of   4 | elapsed:    4.0s remaining:    4.0s\n",
      "[Parallel(n_jobs=4)]: Done   4 out of   4 | elapsed:    4.1s finished\n"
     ]
    },
    {
     "data": {
      "text/plain": [
       "BaggingClassifier(base_estimator=DecisionTreeClassifier(), bootstrap=False,\n",
       "                  max_samples=0.25, n_estimators=500, n_jobs=-1,\n",
       "                  random_state=42, verbose=1)"
      ]
     },
     "execution_count": 18,
     "metadata": {},
     "output_type": "execute_result"
    }
   ],
   "source": [
    "bag2.fit(X_train,Y_train)"
   ]
  },
  {
   "cell_type": "code",
   "execution_count": 19,
   "id": "6e5cd454",
   "metadata": {
    "execution": {
     "iopub.execute_input": "2023-04-30T09:10:27.569137Z",
     "iopub.status.busy": "2023-04-30T09:10:27.568110Z",
     "iopub.status.idle": "2023-04-30T09:10:27.927958Z",
     "shell.execute_reply": "2023-04-30T09:10:27.926919Z"
    },
    "papermill": {
     "duration": 0.372165,
     "end_time": "2023-04-30T09:10:27.930124",
     "exception": false,
     "start_time": "2023-04-30T09:10:27.557959",
     "status": "completed"
    },
    "tags": []
   },
   "outputs": [
    {
     "name": "stderr",
     "output_type": "stream",
     "text": [
      "[Parallel(n_jobs=4)]: Using backend LokyBackend with 4 concurrent workers.\n",
      "[Parallel(n_jobs=4)]: Done   2 out of   4 | elapsed:    0.2s remaining:    0.2s\n",
      "[Parallel(n_jobs=4)]: Done   4 out of   4 | elapsed:    0.3s finished\n"
     ]
    },
    {
     "data": {
      "text/plain": [
       "0.935"
      ]
     },
     "execution_count": 19,
     "metadata": {},
     "output_type": "execute_result"
    }
   ],
   "source": [
    "y_pred3 = bag2.predict(X_test)\n",
    "accuracy_score(Y_test,y_pred3)"
   ]
  },
  {
   "cell_type": "markdown",
   "id": "f8f99cb6",
   "metadata": {
    "papermill": {
     "duration": 0.008678,
     "end_time": "2023-04-30T09:10:27.947763",
     "exception": false,
     "start_time": "2023-04-30T09:10:27.939085",
     "status": "completed"
    },
    "tags": []
   },
   "source": [
    "# Random Subspaces"
   ]
  },
  {
   "cell_type": "code",
   "execution_count": 20,
   "id": "5fb9f4f3",
   "metadata": {
    "execution": {
     "iopub.execute_input": "2023-04-30T09:10:27.968150Z",
     "iopub.status.busy": "2023-04-30T09:10:27.967003Z",
     "iopub.status.idle": "2023-04-30T09:10:27.972651Z",
     "shell.execute_reply": "2023-04-30T09:10:27.971755Z"
    },
    "papermill": {
     "duration": 0.018005,
     "end_time": "2023-04-30T09:10:27.974649",
     "exception": false,
     "start_time": "2023-04-30T09:10:27.956644",
     "status": "completed"
    },
    "tags": []
   },
   "outputs": [],
   "source": [
    "bag3 = BaggingClassifier(\n",
    "    base_estimator=DecisionTreeClassifier(),\n",
    "    n_estimators =500,\n",
    "    max_samples=1.0,\n",
    "    bootstrap=False,\n",
    "    max_features = 0.5,\n",
    "    bootstrap_features=True,\n",
    "    random_state=42,\n",
    "    n_jobs = -1\n",
    ")"
   ]
  },
  {
   "cell_type": "code",
   "execution_count": 21,
   "id": "3fcaf1de",
   "metadata": {
    "execution": {
     "iopub.execute_input": "2023-04-30T09:10:27.994428Z",
     "iopub.status.busy": "2023-04-30T09:10:27.993652Z",
     "iopub.status.idle": "2023-04-30T09:10:40.347024Z",
     "shell.execute_reply": "2023-04-30T09:10:40.346071Z"
    },
    "papermill": {
     "duration": 12.365957,
     "end_time": "2023-04-30T09:10:40.349297",
     "exception": false,
     "start_time": "2023-04-30T09:10:27.983340",
     "status": "completed"
    },
    "tags": []
   },
   "outputs": [
    {
     "data": {
      "text/plain": [
       "BaggingClassifier(base_estimator=DecisionTreeClassifier(), bootstrap=False,\n",
       "                  bootstrap_features=True, max_features=0.5, n_estimators=500,\n",
       "                  n_jobs=-1, random_state=42)"
      ]
     },
     "execution_count": 21,
     "metadata": {},
     "output_type": "execute_result"
    }
   ],
   "source": [
    "bag3.fit(X_train,Y_train)"
   ]
  },
  {
   "cell_type": "code",
   "execution_count": 22,
   "id": "84b166a8",
   "metadata": {
    "execution": {
     "iopub.execute_input": "2023-04-30T09:10:40.370540Z",
     "iopub.status.busy": "2023-04-30T09:10:40.369607Z",
     "iopub.status.idle": "2023-04-30T09:10:41.095477Z",
     "shell.execute_reply": "2023-04-30T09:10:41.094278Z"
    },
    "papermill": {
     "duration": 0.739583,
     "end_time": "2023-04-30T09:10:41.098104",
     "exception": false,
     "start_time": "2023-04-30T09:10:40.358521",
     "status": "completed"
    },
    "tags": []
   },
   "outputs": [
    {
     "data": {
      "text/plain": [
       "0.9275"
      ]
     },
     "execution_count": 22,
     "metadata": {},
     "output_type": "execute_result"
    }
   ],
   "source": [
    "y_pred3 = bag3.predict(X_test)\n",
    "accuracy_score(Y_test,y_pred3)"
   ]
  },
  {
   "cell_type": "markdown",
   "id": "f3b99dc8",
   "metadata": {
    "papermill": {
     "duration": 0.008934,
     "end_time": "2023-04-30T09:10:41.116899",
     "exception": false,
     "start_time": "2023-04-30T09:10:41.107965",
     "status": "completed"
    },
    "tags": []
   },
   "source": [
    "# Random Patches"
   ]
  },
  {
   "cell_type": "markdown",
   "id": "b719b0af",
   "metadata": {
    "papermill": {
     "duration": 0.008778,
     "end_time": "2023-04-30T09:10:41.134939",
     "exception": false,
     "start_time": "2023-04-30T09:10:41.126161",
     "status": "completed"
    },
    "tags": []
   },
   "source": [
    "<p>We do both column and rom sampling here</p>"
   ]
  },
  {
   "cell_type": "code",
   "execution_count": 23,
   "id": "0b2a6fa1",
   "metadata": {
    "execution": {
     "iopub.execute_input": "2023-04-30T09:10:41.156080Z",
     "iopub.status.busy": "2023-04-30T09:10:41.155150Z",
     "iopub.status.idle": "2023-04-30T09:10:41.161140Z",
     "shell.execute_reply": "2023-04-30T09:10:41.160341Z"
    },
    "papermill": {
     "duration": 0.019221,
     "end_time": "2023-04-30T09:10:41.163464",
     "exception": false,
     "start_time": "2023-04-30T09:10:41.144243",
     "status": "completed"
    },
    "tags": []
   },
   "outputs": [],
   "source": [
    "bag4 = BaggingClassifier(\n",
    "    base_estimator=DecisionTreeClassifier(),\n",
    "    n_estimators =500,\n",
    "    max_samples=0.25,\n",
    "    bootstrap=False,\n",
    "    max_features = 0.5,\n",
    "    bootstrap_features=True,\n",
    "    random_state=42,\n",
    "    n_jobs = -1\n",
    ")"
   ]
  },
  {
   "cell_type": "code",
   "execution_count": 24,
   "id": "c3513e16",
   "metadata": {
    "execution": {
     "iopub.execute_input": "2023-04-30T09:10:41.184049Z",
     "iopub.status.busy": "2023-04-30T09:10:41.183192Z",
     "iopub.status.idle": "2023-04-30T09:10:44.163326Z",
     "shell.execute_reply": "2023-04-30T09:10:44.162300Z"
    },
    "papermill": {
     "duration": 2.993734,
     "end_time": "2023-04-30T09:10:44.166472",
     "exception": false,
     "start_time": "2023-04-30T09:10:41.172738",
     "status": "completed"
    },
    "tags": []
   },
   "outputs": [
    {
     "data": {
      "text/plain": [
       "BaggingClassifier(base_estimator=DecisionTreeClassifier(), bootstrap=False,\n",
       "                  bootstrap_features=True, max_features=0.5, max_samples=0.25,\n",
       "                  n_estimators=500, n_jobs=-1, random_state=42)"
      ]
     },
     "execution_count": 24,
     "metadata": {},
     "output_type": "execute_result"
    }
   ],
   "source": [
    "bag4.fit(X_train,Y_train)"
   ]
  },
  {
   "cell_type": "code",
   "execution_count": 25,
   "id": "f7a12e90",
   "metadata": {
    "execution": {
     "iopub.execute_input": "2023-04-30T09:10:44.194991Z",
     "iopub.status.busy": "2023-04-30T09:10:44.194162Z",
     "iopub.status.idle": "2023-04-30T09:10:44.604386Z",
     "shell.execute_reply": "2023-04-30T09:10:44.603502Z"
    },
    "papermill": {
     "duration": 0.425302,
     "end_time": "2023-04-30T09:10:44.606506",
     "exception": false,
     "start_time": "2023-04-30T09:10:44.181204",
     "status": "completed"
    },
    "tags": []
   },
   "outputs": [
    {
     "data": {
      "text/plain": [
       "0.933"
      ]
     },
     "execution_count": 25,
     "metadata": {},
     "output_type": "execute_result"
    }
   ],
   "source": [
    "y_pred5 = bag4.predict(X_test)\n",
    "accuracy_score(Y_test,y_pred5)"
   ]
  },
  {
   "cell_type": "code",
   "execution_count": null,
   "id": "16ed4fa7",
   "metadata": {
    "papermill": {
     "duration": 0.009145,
     "end_time": "2023-04-30T09:10:44.625247",
     "exception": false,
     "start_time": "2023-04-30T09:10:44.616102",
     "status": "completed"
    },
    "tags": []
   },
   "outputs": [],
   "source": []
  }
 ],
 "metadata": {
  "kernelspec": {
   "display_name": "Python 3",
   "language": "python",
   "name": "python3"
  },
  "language_info": {
   "codemirror_mode": {
    "name": "ipython",
    "version": 3
   },
   "file_extension": ".py",
   "mimetype": "text/x-python",
   "name": "python",
   "nbconvert_exporter": "python",
   "pygments_lexer": "ipython3",
   "version": "3.7.12"
  },
  "papermill": {
   "default_parameters": {},
   "duration": 66.677384,
   "end_time": "2023-04-30T09:10:47.257599",
   "environment_variables": {},
   "exception": null,
   "input_path": "__notebook__.ipynb",
   "output_path": "__notebook__.ipynb",
   "parameters": {},
   "start_time": "2023-04-30T09:09:40.580215",
   "version": "2.4.0"
  }
 },
 "nbformat": 4,
 "nbformat_minor": 5
}
