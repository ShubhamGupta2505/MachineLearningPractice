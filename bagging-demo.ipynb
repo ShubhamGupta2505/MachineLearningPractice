{
 "cells": [
  {
   "cell_type": "code",
   "execution_count": null,
   "id": "a3671e05",
   "metadata": {
    "papermill": {
     "duration": 0.009486,
     "end_time": "2023-04-30T09:14:18.376477",
     "exception": false,
     "start_time": "2023-04-30T09:14:18.366991",
     "status": "completed"
    },
    "tags": []
   },
   "outputs": [],
   "source": []
  },
  {
   "cell_type": "code",
   "execution_count": 1,
   "id": "d6eb4022",
   "metadata": {
    "_cell_guid": "b1076dfc-b9ad-4769-8c92-a6c4dae69d19",
    "_uuid": "8f2839f25d086af736a60e9eeb907d3b93b6e0e5",
    "execution": {
     "iopub.execute_input": "2023-04-30T09:14:18.395074Z",
     "iopub.status.busy": "2023-04-30T09:14:18.394634Z",
     "iopub.status.idle": "2023-04-30T09:14:18.406000Z",
     "shell.execute_reply": "2023-04-30T09:14:18.404841Z"
    },
    "papermill": {
     "duration": 0.023777,
     "end_time": "2023-04-30T09:14:18.408721",
     "exception": false,
     "start_time": "2023-04-30T09:14:18.384944",
     "status": "completed"
    },
    "tags": []
   },
   "outputs": [],
   "source": [
    "# This Python 3 environment comes with many helpful analytics libraries installed\n",
    "# It is defined by the kaggle/python Docker image: https://github.com/kaggle/docker-python\n",
    "# For example, here's several helpful packages to load\n",
    "\n",
    "import numpy as np # linear algebra\n",
    "import pandas as pd # data processing, CSV file I/O (e.g. pd.read_csv)\n",
    "\n",
    "# Input data files are available in the read-only \"../input/\" directory\n",
    "# For example, running this (by clicking run or pressing Shift+Enter) will list all files under the input directory\n",
    "\n",
    "import os\n",
    "for dirname, _, filenames in os.walk('/kaggle/input'):\n",
    "    for filename in filenames:\n",
    "        print(os.path.join(dirname, filename))\n",
    "\n",
    "# You can write up to 20GB to the current directory (/kaggle/working/) that gets preserved as output when you create a version using \"Save & Run All\" \n",
    "# You can also write temporary files to /kaggle/temp/, but they won't be saved outside of the current session"
   ]
  },
  {
   "cell_type": "code",
   "execution_count": 2,
   "id": "e25b5e52",
   "metadata": {
    "execution": {
     "iopub.execute_input": "2023-04-30T09:14:18.427301Z",
     "iopub.status.busy": "2023-04-30T09:14:18.426568Z",
     "iopub.status.idle": "2023-04-30T09:14:19.867708Z",
     "shell.execute_reply": "2023-04-30T09:14:19.866389Z"
    },
    "papermill": {
     "duration": 1.453644,
     "end_time": "2023-04-30T09:14:19.870654",
     "exception": false,
     "start_time": "2023-04-30T09:14:18.417010",
     "status": "completed"
    },
    "tags": []
   },
   "outputs": [],
   "source": [
    "from sklearn.model_selection import train_test_split\n",
    "from sklearn.tree import DecisionTreeClassifier\n",
    "from sklearn.metrics import accuracy_score\n",
    "from sklearn.datasets import make_classification\n",
    "from sklearn.ensemble import BaggingClassifier\n",
    "from sklearn.svm import SVC"
   ]
  },
  {
   "cell_type": "code",
   "execution_count": 3,
   "id": "1a28bd60",
   "metadata": {
    "execution": {
     "iopub.execute_input": "2023-04-30T09:14:19.889703Z",
     "iopub.status.busy": "2023-04-30T09:14:19.888712Z",
     "iopub.status.idle": "2023-04-30T09:14:19.910228Z",
     "shell.execute_reply": "2023-04-30T09:14:19.908992Z"
    },
    "papermill": {
     "duration": 0.03383,
     "end_time": "2023-04-30T09:14:19.912947",
     "exception": false,
     "start_time": "2023-04-30T09:14:19.879117",
     "status": "completed"
    },
    "tags": []
   },
   "outputs": [],
   "source": [
    "X,Y = make_classification(n_samples = 10000,n_features=10,n_informative=3)\n"
   ]
  },
  {
   "cell_type": "code",
   "execution_count": 4,
   "id": "821e2d6a",
   "metadata": {
    "execution": {
     "iopub.execute_input": "2023-04-30T09:14:19.931333Z",
     "iopub.status.busy": "2023-04-30T09:14:19.930665Z",
     "iopub.status.idle": "2023-04-30T09:14:19.937083Z",
     "shell.execute_reply": "2023-04-30T09:14:19.936142Z"
    },
    "papermill": {
     "duration": 0.018118,
     "end_time": "2023-04-30T09:14:19.939313",
     "exception": false,
     "start_time": "2023-04-30T09:14:19.921195",
     "status": "completed"
    },
    "tags": []
   },
   "outputs": [],
   "source": [
    "X_train,X_test,Y_train,Y_test = train_test_split(X,Y,test_size=0.2,random_state=42)"
   ]
  },
  {
   "cell_type": "code",
   "execution_count": 5,
   "id": "e17d326d",
   "metadata": {
    "execution": {
     "iopub.execute_input": "2023-04-30T09:14:19.957469Z",
     "iopub.status.busy": "2023-04-30T09:14:19.957089Z",
     "iopub.status.idle": "2023-04-30T09:14:19.965136Z",
     "shell.execute_reply": "2023-04-30T09:14:19.963931Z"
    },
    "papermill": {
     "duration": 0.020398,
     "end_time": "2023-04-30T09:14:19.967838",
     "exception": false,
     "start_time": "2023-04-30T09:14:19.947440",
     "status": "completed"
    },
    "tags": []
   },
   "outputs": [
    {
     "data": {
      "text/plain": [
       "((8000, 10), (8000,))"
      ]
     },
     "execution_count": 5,
     "metadata": {},
     "output_type": "execute_result"
    }
   ],
   "source": [
    "X_train.shape,Y_train.shape"
   ]
  },
  {
   "cell_type": "code",
   "execution_count": 6,
   "id": "52568fb3",
   "metadata": {
    "execution": {
     "iopub.execute_input": "2023-04-30T09:14:19.986818Z",
     "iopub.status.busy": "2023-04-30T09:14:19.985666Z",
     "iopub.status.idle": "2023-04-30T09:14:20.113343Z",
     "shell.execute_reply": "2023-04-30T09:14:20.112136Z"
    },
    "papermill": {
     "duration": 0.139984,
     "end_time": "2023-04-30T09:14:20.116171",
     "exception": false,
     "start_time": "2023-04-30T09:14:19.976187",
     "status": "completed"
    },
    "tags": []
   },
   "outputs": [
    {
     "name": "stdout",
     "output_type": "stream",
     "text": [
      "0.899\n"
     ]
    }
   ],
   "source": [
    "dt = DecisionTreeClassifier(random_state=42)\n",
    "dt.fit(X_train,Y_train)\n",
    "y_pred = dt.predict(X_test)\n",
    "print(accuracy_score(Y_test,y_pred))"
   ]
  },
  {
   "cell_type": "markdown",
   "id": "82b2b001",
   "metadata": {
    "papermill": {
     "duration": 0.008142,
     "end_time": "2023-04-30T09:14:20.133759",
     "exception": false,
     "start_time": "2023-04-30T09:14:20.125617",
     "status": "completed"
    },
    "tags": []
   },
   "source": [
    "# Bagging"
   ]
  },
  {
   "cell_type": "code",
   "execution_count": 7,
   "id": "b897235a",
   "metadata": {
    "execution": {
     "iopub.execute_input": "2023-04-30T09:14:20.153751Z",
     "iopub.status.busy": "2023-04-30T09:14:20.152677Z",
     "iopub.status.idle": "2023-04-30T09:14:20.157811Z",
     "shell.execute_reply": "2023-04-30T09:14:20.156970Z"
    },
    "papermill": {
     "duration": 0.01762,
     "end_time": "2023-04-30T09:14:20.159894",
     "exception": false,
     "start_time": "2023-04-30T09:14:20.142274",
     "status": "completed"
    },
    "tags": []
   },
   "outputs": [],
   "source": [
    "bag = BaggingClassifier(\n",
    "    base_estimator=DecisionTreeClassifier(),\n",
    "    n_estimators =500,\n",
    "    max_samples=0.25,\n",
    "    bootstrap=True,\n",
    "    random_state=42\n",
    ")"
   ]
  },
  {
   "cell_type": "code",
   "execution_count": 8,
   "id": "b77ca14f",
   "metadata": {
    "execution": {
     "iopub.execute_input": "2023-04-30T09:14:20.178839Z",
     "iopub.status.busy": "2023-04-30T09:14:20.178083Z",
     "iopub.status.idle": "2023-04-30T09:14:30.192633Z",
     "shell.execute_reply": "2023-04-30T09:14:30.191153Z"
    },
    "papermill": {
     "duration": 10.0272,
     "end_time": "2023-04-30T09:14:30.195498",
     "exception": false,
     "start_time": "2023-04-30T09:14:20.168298",
     "status": "completed"
    },
    "tags": []
   },
   "outputs": [
    {
     "data": {
      "text/plain": [
       "BaggingClassifier(base_estimator=DecisionTreeClassifier(), max_samples=0.25,\n",
       "                  n_estimators=500, random_state=42)"
      ]
     },
     "execution_count": 8,
     "metadata": {},
     "output_type": "execute_result"
    }
   ],
   "source": [
    "bag.fit(X_train,Y_train)"
   ]
  },
  {
   "cell_type": "code",
   "execution_count": 9,
   "id": "4c8bea85",
   "metadata": {
    "execution": {
     "iopub.execute_input": "2023-04-30T09:14:30.214969Z",
     "iopub.status.busy": "2023-04-30T09:14:30.214527Z",
     "iopub.status.idle": "2023-04-30T09:14:30.435325Z",
     "shell.execute_reply": "2023-04-30T09:14:30.434097Z"
    },
    "papermill": {
     "duration": 0.233282,
     "end_time": "2023-04-30T09:14:30.437832",
     "exception": false,
     "start_time": "2023-04-30T09:14:30.204550",
     "status": "completed"
    },
    "tags": []
   },
   "outputs": [
    {
     "data": {
      "text/plain": [
       "0.9255"
      ]
     },
     "execution_count": 9,
     "metadata": {},
     "output_type": "execute_result"
    }
   ],
   "source": [
    "y_pred1 = bag.predict(X_test)\n",
    "accuracy_score(Y_test,y_pred1)"
   ]
  },
  {
   "cell_type": "code",
   "execution_count": 10,
   "id": "70827c80",
   "metadata": {
    "execution": {
     "iopub.execute_input": "2023-04-30T09:14:30.456915Z",
     "iopub.status.busy": "2023-04-30T09:14:30.456496Z",
     "iopub.status.idle": "2023-04-30T09:14:30.588753Z",
     "shell.execute_reply": "2023-04-30T09:14:30.585722Z"
    },
    "papermill": {
     "duration": 0.14506,
     "end_time": "2023-04-30T09:14:30.591459",
     "exception": false,
     "start_time": "2023-04-30T09:14:30.446399",
     "status": "completed"
    },
    "tags": []
   },
   "outputs": [
    {
     "data": {
      "text/plain": [
       "(2000,)"
      ]
     },
     "execution_count": 10,
     "metadata": {},
     "output_type": "execute_result"
    }
   ],
   "source": [
    "bag.estimators_samples_[0].shape"
   ]
  },
  {
   "cell_type": "code",
   "execution_count": 11,
   "id": "a8a5e192",
   "metadata": {
    "execution": {
     "iopub.execute_input": "2023-04-30T09:14:30.617906Z",
     "iopub.status.busy": "2023-04-30T09:14:30.617182Z",
     "iopub.status.idle": "2023-04-30T09:14:30.626790Z",
     "shell.execute_reply": "2023-04-30T09:14:30.625172Z"
    },
    "papermill": {
     "duration": 0.028721,
     "end_time": "2023-04-30T09:14:30.629382",
     "exception": false,
     "start_time": "2023-04-30T09:14:30.600661",
     "status": "completed"
    },
    "tags": []
   },
   "outputs": [
    {
     "data": {
      "text/plain": [
       "(10,)"
      ]
     },
     "execution_count": 11,
     "metadata": {},
     "output_type": "execute_result"
    }
   ],
   "source": [
    "bag.estimators_features_[0].shape"
   ]
  },
  {
   "cell_type": "markdown",
   "id": "2930a276",
   "metadata": {
    "papermill": {
     "duration": 0.011329,
     "end_time": "2023-04-30T09:14:30.651721",
     "exception": false,
     "start_time": "2023-04-30T09:14:30.640392",
     "status": "completed"
    },
    "tags": []
   },
   "source": [
    "# Using SVM"
   ]
  },
  {
   "cell_type": "code",
   "execution_count": 12,
   "id": "ec0760d0",
   "metadata": {
    "execution": {
     "iopub.execute_input": "2023-04-30T09:14:30.675698Z",
     "iopub.status.busy": "2023-04-30T09:14:30.674948Z",
     "iopub.status.idle": "2023-04-30T09:14:30.679794Z",
     "shell.execute_reply": "2023-04-30T09:14:30.678974Z"
    },
    "papermill": {
     "duration": 0.017427,
     "end_time": "2023-04-30T09:14:30.681885",
     "exception": false,
     "start_time": "2023-04-30T09:14:30.664458",
     "status": "completed"
    },
    "tags": []
   },
   "outputs": [],
   "source": [
    "bag1= BaggingClassifier(\n",
    "    base_estimator = SVC(),\n",
    "    n_estimators= 300,\n",
    "    max_samples = 0.30,\n",
    "    bootstrap = True,\n",
    "    random_state=42,\n",
    "    n_jobs = -1\n",
    ")"
   ]
  },
  {
   "cell_type": "code",
   "execution_count": 13,
   "id": "bf946895",
   "metadata": {
    "execution": {
     "iopub.execute_input": "2023-04-30T09:14:30.701860Z",
     "iopub.status.busy": "2023-04-30T09:14:30.701132Z",
     "iopub.status.idle": "2023-04-30T09:14:46.820349Z",
     "shell.execute_reply": "2023-04-30T09:14:46.819198Z"
    },
    "papermill": {
     "duration": 16.132388,
     "end_time": "2023-04-30T09:14:46.823209",
     "exception": false,
     "start_time": "2023-04-30T09:14:30.690821",
     "status": "completed"
    },
    "tags": []
   },
   "outputs": [
    {
     "data": {
      "text/plain": [
       "BaggingClassifier(base_estimator=SVC(), max_samples=0.3, n_estimators=300,\n",
       "                  n_jobs=-1, random_state=42)"
      ]
     },
     "execution_count": 13,
     "metadata": {},
     "output_type": "execute_result"
    }
   ],
   "source": [
    "bag1.fit(X_train,Y_train)"
   ]
  },
  {
   "cell_type": "code",
   "execution_count": 14,
   "id": "c9ea2a06",
   "metadata": {
    "execution": {
     "iopub.execute_input": "2023-04-30T09:14:46.844774Z",
     "iopub.status.busy": "2023-04-30T09:14:46.844337Z",
     "iopub.status.idle": "2023-04-30T09:14:59.863949Z",
     "shell.execute_reply": "2023-04-30T09:14:59.863063Z"
    },
    "papermill": {
     "duration": 13.033719,
     "end_time": "2023-04-30T09:14:59.866305",
     "exception": false,
     "start_time": "2023-04-30T09:14:46.832586",
     "status": "completed"
    },
    "tags": []
   },
   "outputs": [
    {
     "data": {
      "text/plain": [
       "0.9035"
      ]
     },
     "execution_count": 14,
     "metadata": {},
     "output_type": "execute_result"
    }
   ],
   "source": [
    "y_pred2 = bag1.predict(X_test)\n",
    "accuracy_score(Y_test,y_pred2)"
   ]
  },
  {
   "cell_type": "code",
   "execution_count": 15,
   "id": "511f8f70",
   "metadata": {
    "execution": {
     "iopub.execute_input": "2023-04-30T09:14:59.886862Z",
     "iopub.status.busy": "2023-04-30T09:14:59.886114Z",
     "iopub.status.idle": "2023-04-30T09:14:59.892282Z",
     "shell.execute_reply": "2023-04-30T09:14:59.891445Z"
    },
    "papermill": {
     "duration": 0.018615,
     "end_time": "2023-04-30T09:14:59.894326",
     "exception": false,
     "start_time": "2023-04-30T09:14:59.875711",
     "status": "completed"
    },
    "tags": []
   },
   "outputs": [
    {
     "data": {
      "text/plain": [
       "(10,)"
      ]
     },
     "execution_count": 15,
     "metadata": {},
     "output_type": "execute_result"
    }
   ],
   "source": [
    "bag1.estimators_features_[0].shape"
   ]
  },
  {
   "cell_type": "code",
   "execution_count": 16,
   "id": "83ae40fd",
   "metadata": {
    "execution": {
     "iopub.execute_input": "2023-04-30T09:14:59.914987Z",
     "iopub.status.busy": "2023-04-30T09:14:59.913605Z",
     "iopub.status.idle": "2023-04-30T09:14:59.990302Z",
     "shell.execute_reply": "2023-04-30T09:14:59.988853Z"
    },
    "papermill": {
     "duration": 0.089501,
     "end_time": "2023-04-30T09:14:59.992772",
     "exception": false,
     "start_time": "2023-04-30T09:14:59.903271",
     "status": "completed"
    },
    "tags": []
   },
   "outputs": [
    {
     "data": {
      "text/plain": [
       "(2400,)"
      ]
     },
     "execution_count": 16,
     "metadata": {},
     "output_type": "execute_result"
    }
   ],
   "source": [
    "bag1.estimators_samples_[0].shape"
   ]
  },
  {
   "cell_type": "markdown",
   "id": "499e8f39",
   "metadata": {
    "papermill": {
     "duration": 0.008869,
     "end_time": "2023-04-30T09:15:00.010999",
     "exception": false,
     "start_time": "2023-04-30T09:15:00.002130",
     "status": "completed"
    },
    "tags": []
   },
   "source": [
    "# Pasting Using DecisionTree"
   ]
  },
  {
   "cell_type": "code",
   "execution_count": 17,
   "id": "97d7296c",
   "metadata": {
    "execution": {
     "iopub.execute_input": "2023-04-30T09:15:00.031503Z",
     "iopub.status.busy": "2023-04-30T09:15:00.030733Z",
     "iopub.status.idle": "2023-04-30T09:15:00.035688Z",
     "shell.execute_reply": "2023-04-30T09:15:00.034931Z"
    },
    "papermill": {
     "duration": 0.01773,
     "end_time": "2023-04-30T09:15:00.037810",
     "exception": false,
     "start_time": "2023-04-30T09:15:00.020080",
     "status": "completed"
    },
    "tags": []
   },
   "outputs": [],
   "source": [
    "bag2 = BaggingClassifier(\n",
    "    base_estimator=DecisionTreeClassifier(),\n",
    "    n_estimators =500,\n",
    "    max_samples=0.25,\n",
    "    bootstrap=False,\n",
    "    random_state=42,\n",
    "    verbose = 1,\n",
    "    n_jobs = -1\n",
    ")"
   ]
  },
  {
   "cell_type": "code",
   "execution_count": 18,
   "id": "c4f931d2",
   "metadata": {
    "execution": {
     "iopub.execute_input": "2023-04-30T09:15:00.058032Z",
     "iopub.status.busy": "2023-04-30T09:15:00.057355Z",
     "iopub.status.idle": "2023-04-30T09:15:04.539896Z",
     "shell.execute_reply": "2023-04-30T09:15:04.539024Z"
    },
    "papermill": {
     "duration": 4.495776,
     "end_time": "2023-04-30T09:15:04.542659",
     "exception": false,
     "start_time": "2023-04-30T09:15:00.046883",
     "status": "completed"
    },
    "tags": []
   },
   "outputs": [
    {
     "name": "stderr",
     "output_type": "stream",
     "text": [
      "[Parallel(n_jobs=4)]: Using backend LokyBackend with 4 concurrent workers.\n",
      "[Parallel(n_jobs=4)]: Done   2 out of   4 | elapsed:    4.4s remaining:    4.4s\n",
      "[Parallel(n_jobs=4)]: Done   4 out of   4 | elapsed:    4.5s finished\n"
     ]
    },
    {
     "data": {
      "text/plain": [
       "BaggingClassifier(base_estimator=DecisionTreeClassifier(), bootstrap=False,\n",
       "                  max_samples=0.25, n_estimators=500, n_jobs=-1,\n",
       "                  random_state=42, verbose=1)"
      ]
     },
     "execution_count": 18,
     "metadata": {},
     "output_type": "execute_result"
    }
   ],
   "source": [
    "bag2.fit(X_train,Y_train)"
   ]
  },
  {
   "cell_type": "code",
   "execution_count": 19,
   "id": "90eae1b9",
   "metadata": {
    "execution": {
     "iopub.execute_input": "2023-04-30T09:15:04.563358Z",
     "iopub.status.busy": "2023-04-30T09:15:04.562978Z",
     "iopub.status.idle": "2023-04-30T09:15:04.933450Z",
     "shell.execute_reply": "2023-04-30T09:15:04.932171Z"
    },
    "papermill": {
     "duration": 0.383881,
     "end_time": "2023-04-30T09:15:04.935947",
     "exception": false,
     "start_time": "2023-04-30T09:15:04.552066",
     "status": "completed"
    },
    "tags": []
   },
   "outputs": [
    {
     "name": "stderr",
     "output_type": "stream",
     "text": [
      "[Parallel(n_jobs=4)]: Using backend LokyBackend with 4 concurrent workers.\n",
      "[Parallel(n_jobs=4)]: Done   2 out of   4 | elapsed:    0.2s remaining:    0.2s\n",
      "[Parallel(n_jobs=4)]: Done   4 out of   4 | elapsed:    0.4s finished\n"
     ]
    },
    {
     "data": {
      "text/plain": [
       "0.9265"
      ]
     },
     "execution_count": 19,
     "metadata": {},
     "output_type": "execute_result"
    }
   ],
   "source": [
    "y_pred3 = bag2.predict(X_test)\n",
    "accuracy_score(Y_test,y_pred3)"
   ]
  },
  {
   "cell_type": "markdown",
   "id": "07882788",
   "metadata": {
    "papermill": {
     "duration": 0.009795,
     "end_time": "2023-04-30T09:15:04.955619",
     "exception": false,
     "start_time": "2023-04-30T09:15:04.945824",
     "status": "completed"
    },
    "tags": []
   },
   "source": [
    "# Random Subspaces"
   ]
  },
  {
   "cell_type": "code",
   "execution_count": 20,
   "id": "7d71e830",
   "metadata": {
    "execution": {
     "iopub.execute_input": "2023-04-30T09:15:04.977378Z",
     "iopub.status.busy": "2023-04-30T09:15:04.976994Z",
     "iopub.status.idle": "2023-04-30T09:15:04.982395Z",
     "shell.execute_reply": "2023-04-30T09:15:04.981189Z"
    },
    "papermill": {
     "duration": 0.019689,
     "end_time": "2023-04-30T09:15:04.985101",
     "exception": false,
     "start_time": "2023-04-30T09:15:04.965412",
     "status": "completed"
    },
    "tags": []
   },
   "outputs": [],
   "source": [
    "bag3 = BaggingClassifier(\n",
    "    base_estimator=DecisionTreeClassifier(),\n",
    "    n_estimators =500,\n",
    "    max_samples=1.0,\n",
    "    bootstrap=False,\n",
    "    max_features = 0.5,\n",
    "    bootstrap_features=True,\n",
    "    random_state=42,\n",
    "    n_jobs = -1\n",
    ")"
   ]
  },
  {
   "cell_type": "code",
   "execution_count": 21,
   "id": "6d9a3c24",
   "metadata": {
    "execution": {
     "iopub.execute_input": "2023-04-30T09:15:05.006612Z",
     "iopub.status.busy": "2023-04-30T09:15:05.006231Z",
     "iopub.status.idle": "2023-04-30T09:15:18.064064Z",
     "shell.execute_reply": "2023-04-30T09:15:18.062845Z"
    },
    "papermill": {
     "duration": 13.071926,
     "end_time": "2023-04-30T09:15:18.066757",
     "exception": false,
     "start_time": "2023-04-30T09:15:04.994831",
     "status": "completed"
    },
    "tags": []
   },
   "outputs": [
    {
     "data": {
      "text/plain": [
       "BaggingClassifier(base_estimator=DecisionTreeClassifier(), bootstrap=False,\n",
       "                  bootstrap_features=True, max_features=0.5, n_estimators=500,\n",
       "                  n_jobs=-1, random_state=42)"
      ]
     },
     "execution_count": 21,
     "metadata": {},
     "output_type": "execute_result"
    }
   ],
   "source": [
    "bag3.fit(X_train,Y_train)"
   ]
  },
  {
   "cell_type": "code",
   "execution_count": 22,
   "id": "cf4fcf18",
   "metadata": {
    "execution": {
     "iopub.execute_input": "2023-04-30T09:15:18.088571Z",
     "iopub.status.busy": "2023-04-30T09:15:18.088193Z",
     "iopub.status.idle": "2023-04-30T09:15:18.847345Z",
     "shell.execute_reply": "2023-04-30T09:15:18.846422Z"
    },
    "papermill": {
     "duration": 0.773164,
     "end_time": "2023-04-30T09:15:18.849778",
     "exception": false,
     "start_time": "2023-04-30T09:15:18.076614",
     "status": "completed"
    },
    "tags": []
   },
   "outputs": [
    {
     "data": {
      "text/plain": [
       "0.91"
      ]
     },
     "execution_count": 22,
     "metadata": {},
     "output_type": "execute_result"
    }
   ],
   "source": [
    "y_pred3 = bag3.predict(X_test)\n",
    "accuracy_score(Y_test,y_pred3)"
   ]
  },
  {
   "cell_type": "markdown",
   "id": "1a6b322a",
   "metadata": {
    "papermill": {
     "duration": 0.009744,
     "end_time": "2023-04-30T09:15:18.869640",
     "exception": false,
     "start_time": "2023-04-30T09:15:18.859896",
     "status": "completed"
    },
    "tags": []
   },
   "source": [
    "# Random Patches"
   ]
  },
  {
   "cell_type": "markdown",
   "id": "dab0c079",
   "metadata": {
    "papermill": {
     "duration": 0.009684,
     "end_time": "2023-04-30T09:15:18.889837",
     "exception": false,
     "start_time": "2023-04-30T09:15:18.880153",
     "status": "completed"
    },
    "tags": []
   },
   "source": [
    "<p>We do both column and rom sampling here</p>"
   ]
  },
  {
   "cell_type": "code",
   "execution_count": 23,
   "id": "84cbdfcd",
   "metadata": {
    "execution": {
     "iopub.execute_input": "2023-04-30T09:15:18.912434Z",
     "iopub.status.busy": "2023-04-30T09:15:18.911498Z",
     "iopub.status.idle": "2023-04-30T09:15:18.918189Z",
     "shell.execute_reply": "2023-04-30T09:15:18.917226Z"
    },
    "papermill": {
     "duration": 0.020501,
     "end_time": "2023-04-30T09:15:18.920624",
     "exception": false,
     "start_time": "2023-04-30T09:15:18.900123",
     "status": "completed"
    },
    "tags": []
   },
   "outputs": [],
   "source": [
    "bag4 = BaggingClassifier(\n",
    "    base_estimator=DecisionTreeClassifier(),\n",
    "    n_estimators =500,\n",
    "    max_samples=0.25,\n",
    "    bootstrap=False,\n",
    "    max_features = 0.5,\n",
    "    bootstrap_features=True,\n",
    "    random_state=42,\n",
    "    n_jobs = -1\n",
    ")"
   ]
  },
  {
   "cell_type": "code",
   "execution_count": 24,
   "id": "16d2f048",
   "metadata": {
    "execution": {
     "iopub.execute_input": "2023-04-30T09:15:18.945149Z",
     "iopub.status.busy": "2023-04-30T09:15:18.944392Z",
     "iopub.status.idle": "2023-04-30T09:15:21.734619Z",
     "shell.execute_reply": "2023-04-30T09:15:21.733685Z"
    },
    "papermill": {
     "duration": 2.805667,
     "end_time": "2023-04-30T09:15:21.736951",
     "exception": false,
     "start_time": "2023-04-30T09:15:18.931284",
     "status": "completed"
    },
    "tags": []
   },
   "outputs": [
    {
     "data": {
      "text/plain": [
       "BaggingClassifier(base_estimator=DecisionTreeClassifier(), bootstrap=False,\n",
       "                  bootstrap_features=True, max_features=0.5, max_samples=0.25,\n",
       "                  n_estimators=500, n_jobs=-1, random_state=42)"
      ]
     },
     "execution_count": 24,
     "metadata": {},
     "output_type": "execute_result"
    }
   ],
   "source": [
    "bag4.fit(X_train,Y_train)"
   ]
  },
  {
   "cell_type": "code",
   "execution_count": 25,
   "id": "dc23a01a",
   "metadata": {
    "execution": {
     "iopub.execute_input": "2023-04-30T09:15:21.759167Z",
     "iopub.status.busy": "2023-04-30T09:15:21.758391Z",
     "iopub.status.idle": "2023-04-30T09:15:22.167417Z",
     "shell.execute_reply": "2023-04-30T09:15:22.166152Z"
    },
    "papermill": {
     "duration": 0.422768,
     "end_time": "2023-04-30T09:15:22.169871",
     "exception": false,
     "start_time": "2023-04-30T09:15:21.747103",
     "status": "completed"
    },
    "tags": []
   },
   "outputs": [
    {
     "data": {
      "text/plain": [
       "0.901"
      ]
     },
     "execution_count": 25,
     "metadata": {},
     "output_type": "execute_result"
    }
   ],
   "source": [
    "y_pred5 = bag4.predict(X_test)\n",
    "accuracy_score(Y_test,y_pred5)"
   ]
  },
  {
   "cell_type": "markdown",
   "id": "b27cfacd",
   "metadata": {
    "papermill": {
     "duration": 0.009916,
     "end_time": "2023-04-30T09:15:22.190112",
     "exception": false,
     "start_time": "2023-04-30T09:15:22.180196",
     "status": "completed"
    },
    "tags": []
   },
   "source": [
    "# OOB Score"
   ]
  },
  {
   "cell_type": "code",
   "execution_count": 26,
   "id": "10b7418f",
   "metadata": {
    "execution": {
     "iopub.execute_input": "2023-04-30T09:15:22.212203Z",
     "iopub.status.busy": "2023-04-30T09:15:22.211812Z",
     "iopub.status.idle": "2023-04-30T09:15:22.217601Z",
     "shell.execute_reply": "2023-04-30T09:15:22.216445Z"
    },
    "papermill": {
     "duration": 0.019579,
     "end_time": "2023-04-30T09:15:22.219876",
     "exception": false,
     "start_time": "2023-04-30T09:15:22.200297",
     "status": "completed"
    },
    "tags": []
   },
   "outputs": [],
   "source": [
    "bag5 = BaggingClassifier(\n",
    "    base_estimator=DecisionTreeClassifier(),\n",
    "    n_estimators =500,\n",
    "    max_samples=0.25,\n",
    "    bootstrap=True,\n",
    "    oob_score=True,\n",
    "    random_state=42,\n",
    "    n_jobs = -1\n",
    ")"
   ]
  },
  {
   "cell_type": "code",
   "execution_count": 27,
   "id": "d34935c5",
   "metadata": {
    "execution": {
     "iopub.execute_input": "2023-04-30T09:15:22.241574Z",
     "iopub.status.busy": "2023-04-30T09:15:22.241186Z",
     "iopub.status.idle": "2023-04-30T09:15:26.789113Z",
     "shell.execute_reply": "2023-04-30T09:15:26.787981Z"
    },
    "papermill": {
     "duration": 4.561832,
     "end_time": "2023-04-30T09:15:26.791731",
     "exception": false,
     "start_time": "2023-04-30T09:15:22.229899",
     "status": "completed"
    },
    "tags": []
   },
   "outputs": [
    {
     "data": {
      "text/plain": [
       "BaggingClassifier(base_estimator=DecisionTreeClassifier(), max_samples=0.25,\n",
       "                  n_estimators=500, n_jobs=-1, oob_score=True, random_state=42)"
      ]
     },
     "execution_count": 27,
     "metadata": {},
     "output_type": "execute_result"
    }
   ],
   "source": [
    "bag5.fit(X_train,Y_train)"
   ]
  },
  {
   "cell_type": "code",
   "execution_count": 28,
   "id": "6cb3036a",
   "metadata": {
    "execution": {
     "iopub.execute_input": "2023-04-30T09:15:26.813879Z",
     "iopub.status.busy": "2023-04-30T09:15:26.813464Z",
     "iopub.status.idle": "2023-04-30T09:15:26.820690Z",
     "shell.execute_reply": "2023-04-30T09:15:26.819411Z"
    },
    "papermill": {
     "duration": 0.02117,
     "end_time": "2023-04-30T09:15:26.823273",
     "exception": false,
     "start_time": "2023-04-30T09:15:26.802103",
     "status": "completed"
    },
    "tags": []
   },
   "outputs": [
    {
     "data": {
      "text/plain": [
       "0.924625"
      ]
     },
     "execution_count": 28,
     "metadata": {},
     "output_type": "execute_result"
    }
   ],
   "source": [
    "bag5.oob_score_"
   ]
  },
  {
   "cell_type": "code",
   "execution_count": 29,
   "id": "714f6853",
   "metadata": {
    "execution": {
     "iopub.execute_input": "2023-04-30T09:15:26.846481Z",
     "iopub.status.busy": "2023-04-30T09:15:26.845258Z",
     "iopub.status.idle": "2023-04-30T09:15:27.217698Z",
     "shell.execute_reply": "2023-04-30T09:15:27.216856Z"
    },
    "papermill": {
     "duration": 0.386386,
     "end_time": "2023-04-30T09:15:27.219991",
     "exception": false,
     "start_time": "2023-04-30T09:15:26.833605",
     "status": "completed"
    },
    "tags": []
   },
   "outputs": [
    {
     "data": {
      "text/plain": [
       "0.9255"
      ]
     },
     "execution_count": 29,
     "metadata": {},
     "output_type": "execute_result"
    }
   ],
   "source": [
    "y_pred6 = bag5.predict(X_test)\n",
    "accuracy_score(Y_test,y_pred6)"
   ]
  }
 ],
 "metadata": {
  "kernelspec": {
   "display_name": "Python 3",
   "language": "python",
   "name": "python3"
  },
  "language_info": {
   "codemirror_mode": {
    "name": "ipython",
    "version": 3
   },
   "file_extension": ".py",
   "mimetype": "text/x-python",
   "name": "python",
   "nbconvert_exporter": "python",
   "pygments_lexer": "ipython3",
   "version": "3.7.12"
  },
  "papermill": {
   "default_parameters": {},
   "duration": 81.314318,
   "end_time": "2023-04-30T09:15:29.851782",
   "environment_variables": {},
   "exception": null,
   "input_path": "__notebook__.ipynb",
   "output_path": "__notebook__.ipynb",
   "parameters": {},
   "start_time": "2023-04-30T09:14:08.537464",
   "version": "2.4.0"
  }
 },
 "nbformat": 4,
 "nbformat_minor": 5
}
