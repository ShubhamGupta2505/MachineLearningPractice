{
 "cells": [
  {
   "cell_type": "code",
   "execution_count": null,
   "id": "35805c50",
   "metadata": {
    "papermill": {
     "duration": 0.006994,
     "end_time": "2023-04-30T09:02:13.610809",
     "exception": false,
     "start_time": "2023-04-30T09:02:13.603815",
     "status": "completed"
    },
    "tags": []
   },
   "outputs": [],
   "source": []
  },
  {
   "cell_type": "code",
   "execution_count": 1,
   "id": "1e9b78b5",
   "metadata": {
    "_cell_guid": "b1076dfc-b9ad-4769-8c92-a6c4dae69d19",
    "_uuid": "8f2839f25d086af736a60e9eeb907d3b93b6e0e5",
    "execution": {
     "iopub.execute_input": "2023-04-30T09:02:13.625110Z",
     "iopub.status.busy": "2023-04-30T09:02:13.624578Z",
     "iopub.status.idle": "2023-04-30T09:02:13.638780Z",
     "shell.execute_reply": "2023-04-30T09:02:13.637529Z"
    },
    "papermill": {
     "duration": 0.024654,
     "end_time": "2023-04-30T09:02:13.641512",
     "exception": false,
     "start_time": "2023-04-30T09:02:13.616858",
     "status": "completed"
    },
    "tags": []
   },
   "outputs": [],
   "source": [
    "# This Python 3 environment comes with many helpful analytics libraries installed\n",
    "# It is defined by the kaggle/python Docker image: https://github.com/kaggle/docker-python\n",
    "# For example, here's several helpful packages to load\n",
    "\n",
    "import numpy as np # linear algebra\n",
    "import pandas as pd # data processing, CSV file I/O (e.g. pd.read_csv)\n",
    "\n",
    "# Input data files are available in the read-only \"../input/\" directory\n",
    "# For example, running this (by clicking run or pressing Shift+Enter) will list all files under the input directory\n",
    "\n",
    "import os\n",
    "for dirname, _, filenames in os.walk('/kaggle/input'):\n",
    "    for filename in filenames:\n",
    "        print(os.path.join(dirname, filename))\n",
    "\n",
    "# You can write up to 20GB to the current directory (/kaggle/working/) that gets preserved as output when you create a version using \"Save & Run All\" \n",
    "# You can also write temporary files to /kaggle/temp/, but they won't be saved outside of the current session"
   ]
  },
  {
   "cell_type": "code",
   "execution_count": 2,
   "id": "9f312682",
   "metadata": {
    "execution": {
     "iopub.execute_input": "2023-04-30T09:02:13.655046Z",
     "iopub.status.busy": "2023-04-30T09:02:13.654680Z",
     "iopub.status.idle": "2023-04-30T09:02:15.106242Z",
     "shell.execute_reply": "2023-04-30T09:02:15.105064Z"
    },
    "papermill": {
     "duration": 1.461616,
     "end_time": "2023-04-30T09:02:15.109020",
     "exception": false,
     "start_time": "2023-04-30T09:02:13.647404",
     "status": "completed"
    },
    "tags": []
   },
   "outputs": [],
   "source": [
    "from sklearn.model_selection import train_test_split\n",
    "from sklearn.tree import DecisionTreeClassifier\n",
    "from sklearn.metrics import accuracy_score\n",
    "from sklearn.datasets import make_classification\n",
    "from sklearn.ensemble import BaggingClassifier\n",
    "from sklearn.svm import SVC"
   ]
  },
  {
   "cell_type": "code",
   "execution_count": 3,
   "id": "cfe39714",
   "metadata": {
    "execution": {
     "iopub.execute_input": "2023-04-30T09:02:15.122949Z",
     "iopub.status.busy": "2023-04-30T09:02:15.122562Z",
     "iopub.status.idle": "2023-04-30T09:02:15.147230Z",
     "shell.execute_reply": "2023-04-30T09:02:15.145773Z"
    },
    "papermill": {
     "duration": 0.035026,
     "end_time": "2023-04-30T09:02:15.150040",
     "exception": false,
     "start_time": "2023-04-30T09:02:15.115014",
     "status": "completed"
    },
    "tags": []
   },
   "outputs": [],
   "source": [
    "X,Y = make_classification(n_samples = 10000,n_features=10,n_informative=3)\n"
   ]
  },
  {
   "cell_type": "code",
   "execution_count": 4,
   "id": "d8408568",
   "metadata": {
    "execution": {
     "iopub.execute_input": "2023-04-30T09:02:15.163707Z",
     "iopub.status.busy": "2023-04-30T09:02:15.163324Z",
     "iopub.status.idle": "2023-04-30T09:02:15.170380Z",
     "shell.execute_reply": "2023-04-30T09:02:15.169137Z"
    },
    "papermill": {
     "duration": 0.017174,
     "end_time": "2023-04-30T09:02:15.173123",
     "exception": false,
     "start_time": "2023-04-30T09:02:15.155949",
     "status": "completed"
    },
    "tags": []
   },
   "outputs": [],
   "source": [
    "X_train,X_test,Y_train,Y_test = train_test_split(X,Y,test_size=0.2,random_state=42)"
   ]
  },
  {
   "cell_type": "code",
   "execution_count": 5,
   "id": "467887c7",
   "metadata": {
    "execution": {
     "iopub.execute_input": "2023-04-30T09:02:15.187484Z",
     "iopub.status.busy": "2023-04-30T09:02:15.187055Z",
     "iopub.status.idle": "2023-04-30T09:02:15.195469Z",
     "shell.execute_reply": "2023-04-30T09:02:15.194054Z"
    },
    "papermill": {
     "duration": 0.019096,
     "end_time": "2023-04-30T09:02:15.198249",
     "exception": false,
     "start_time": "2023-04-30T09:02:15.179153",
     "status": "completed"
    },
    "tags": []
   },
   "outputs": [
    {
     "data": {
      "text/plain": [
       "((8000, 10), (8000,))"
      ]
     },
     "execution_count": 5,
     "metadata": {},
     "output_type": "execute_result"
    }
   ],
   "source": [
    "X_train.shape,Y_train.shape"
   ]
  },
  {
   "cell_type": "code",
   "execution_count": 6,
   "id": "ac63da99",
   "metadata": {
    "execution": {
     "iopub.execute_input": "2023-04-30T09:02:15.212809Z",
     "iopub.status.busy": "2023-04-30T09:02:15.211903Z",
     "iopub.status.idle": "2023-04-30T09:02:15.329471Z",
     "shell.execute_reply": "2023-04-30T09:02:15.327802Z"
    },
    "papermill": {
     "duration": 0.127946,
     "end_time": "2023-04-30T09:02:15.332201",
     "exception": false,
     "start_time": "2023-04-30T09:02:15.204255",
     "status": "completed"
    },
    "tags": []
   },
   "outputs": [
    {
     "name": "stdout",
     "output_type": "stream",
     "text": [
      "0.8195\n"
     ]
    }
   ],
   "source": [
    "dt = DecisionTreeClassifier(random_state=42)\n",
    "dt.fit(X_train,Y_train)\n",
    "y_pred = dt.predict(X_test)\n",
    "print(accuracy_score(Y_test,y_pred))"
   ]
  },
  {
   "cell_type": "markdown",
   "id": "5f1f964a",
   "metadata": {
    "papermill": {
     "duration": 0.005662,
     "end_time": "2023-04-30T09:02:15.343967",
     "exception": false,
     "start_time": "2023-04-30T09:02:15.338305",
     "status": "completed"
    },
    "tags": []
   },
   "source": [
    "# Bagging"
   ]
  },
  {
   "cell_type": "code",
   "execution_count": 7,
   "id": "cc795151",
   "metadata": {
    "execution": {
     "iopub.execute_input": "2023-04-30T09:02:15.358263Z",
     "iopub.status.busy": "2023-04-30T09:02:15.357420Z",
     "iopub.status.idle": "2023-04-30T09:02:15.363045Z",
     "shell.execute_reply": "2023-04-30T09:02:15.361839Z"
    },
    "papermill": {
     "duration": 0.015541,
     "end_time": "2023-04-30T09:02:15.365574",
     "exception": false,
     "start_time": "2023-04-30T09:02:15.350033",
     "status": "completed"
    },
    "tags": []
   },
   "outputs": [],
   "source": [
    "bag = BaggingClassifier(\n",
    "    base_estimator=DecisionTreeClassifier(),\n",
    "    n_estimators =500,\n",
    "    max_samples=0.25,\n",
    "    bootstrap=True,\n",
    "    random_state=42\n",
    ")"
   ]
  },
  {
   "cell_type": "code",
   "execution_count": 8,
   "id": "7fd59e3e",
   "metadata": {
    "execution": {
     "iopub.execute_input": "2023-04-30T09:02:15.380380Z",
     "iopub.status.busy": "2023-04-30T09:02:15.379166Z",
     "iopub.status.idle": "2023-04-30T09:02:25.399909Z",
     "shell.execute_reply": "2023-04-30T09:02:25.398397Z"
    },
    "papermill": {
     "duration": 10.030979,
     "end_time": "2023-04-30T09:02:25.402624",
     "exception": false,
     "start_time": "2023-04-30T09:02:15.371645",
     "status": "completed"
    },
    "tags": []
   },
   "outputs": [
    {
     "data": {
      "text/plain": [
       "BaggingClassifier(base_estimator=DecisionTreeClassifier(), max_samples=0.25,\n",
       "                  n_estimators=500, random_state=42)"
      ]
     },
     "execution_count": 8,
     "metadata": {},
     "output_type": "execute_result"
    }
   ],
   "source": [
    "bag.fit(X_train,Y_train)"
   ]
  },
  {
   "cell_type": "code",
   "execution_count": 9,
   "id": "4ee9e12c",
   "metadata": {
    "execution": {
     "iopub.execute_input": "2023-04-30T09:02:25.416660Z",
     "iopub.status.busy": "2023-04-30T09:02:25.416266Z",
     "iopub.status.idle": "2023-04-30T09:02:25.627069Z",
     "shell.execute_reply": "2023-04-30T09:02:25.626154Z"
    },
    "papermill": {
     "duration": 0.220656,
     "end_time": "2023-04-30T09:02:25.629542",
     "exception": false,
     "start_time": "2023-04-30T09:02:25.408886",
     "status": "completed"
    },
    "tags": []
   },
   "outputs": [
    {
     "data": {
      "text/plain": [
       "0.8645"
      ]
     },
     "execution_count": 9,
     "metadata": {},
     "output_type": "execute_result"
    }
   ],
   "source": [
    "y_pred1 = bag.predict(X_test)\n",
    "accuracy_score(Y_test,y_pred1)"
   ]
  },
  {
   "cell_type": "code",
   "execution_count": 10,
   "id": "1e3d3914",
   "metadata": {
    "execution": {
     "iopub.execute_input": "2023-04-30T09:02:25.645307Z",
     "iopub.status.busy": "2023-04-30T09:02:25.644889Z",
     "iopub.status.idle": "2023-04-30T09:02:25.773794Z",
     "shell.execute_reply": "2023-04-30T09:02:25.772568Z"
    },
    "papermill": {
     "duration": 0.13945,
     "end_time": "2023-04-30T09:02:25.776324",
     "exception": false,
     "start_time": "2023-04-30T09:02:25.636874",
     "status": "completed"
    },
    "tags": []
   },
   "outputs": [
    {
     "data": {
      "text/plain": [
       "(2000,)"
      ]
     },
     "execution_count": 10,
     "metadata": {},
     "output_type": "execute_result"
    }
   ],
   "source": [
    "bag.estimators_samples_[0].shape"
   ]
  },
  {
   "cell_type": "code",
   "execution_count": 11,
   "id": "c27a84fa",
   "metadata": {
    "execution": {
     "iopub.execute_input": "2023-04-30T09:02:25.791338Z",
     "iopub.status.busy": "2023-04-30T09:02:25.790241Z",
     "iopub.status.idle": "2023-04-30T09:02:25.797717Z",
     "shell.execute_reply": "2023-04-30T09:02:25.796761Z"
    },
    "papermill": {
     "duration": 0.017388,
     "end_time": "2023-04-30T09:02:25.800023",
     "exception": false,
     "start_time": "2023-04-30T09:02:25.782635",
     "status": "completed"
    },
    "tags": []
   },
   "outputs": [
    {
     "data": {
      "text/plain": [
       "(10,)"
      ]
     },
     "execution_count": 11,
     "metadata": {},
     "output_type": "execute_result"
    }
   ],
   "source": [
    "bag.estimators_features_[0].shape"
   ]
  },
  {
   "cell_type": "markdown",
   "id": "591c4338",
   "metadata": {
    "papermill": {
     "duration": 0.00616,
     "end_time": "2023-04-30T09:02:25.812516",
     "exception": false,
     "start_time": "2023-04-30T09:02:25.806356",
     "status": "completed"
    },
    "tags": []
   },
   "source": [
    "# Using SVM"
   ]
  },
  {
   "cell_type": "code",
   "execution_count": 12,
   "id": "fbf4c3e6",
   "metadata": {
    "execution": {
     "iopub.execute_input": "2023-04-30T09:02:25.827261Z",
     "iopub.status.busy": "2023-04-30T09:02:25.826614Z",
     "iopub.status.idle": "2023-04-30T09:02:25.831464Z",
     "shell.execute_reply": "2023-04-30T09:02:25.830521Z"
    },
    "papermill": {
     "duration": 0.015117,
     "end_time": "2023-04-30T09:02:25.833924",
     "exception": false,
     "start_time": "2023-04-30T09:02:25.818807",
     "status": "completed"
    },
    "tags": []
   },
   "outputs": [],
   "source": [
    "bag1= BaggingClassifier(\n",
    "    base_estimator = SVC(),\n",
    "    n_estimators= 300,\n",
    "    max_samples = 0.30,\n",
    "    bootstrap = True,\n",
    "    random_state=42,\n",
    "    n_jobs = -1\n",
    ")"
   ]
  },
  {
   "cell_type": "code",
   "execution_count": 13,
   "id": "2a3cd215",
   "metadata": {
    "execution": {
     "iopub.execute_input": "2023-04-30T09:02:25.848687Z",
     "iopub.status.busy": "2023-04-30T09:02:25.848048Z",
     "iopub.status.idle": "2023-04-30T09:02:45.821330Z",
     "shell.execute_reply": "2023-04-30T09:02:45.820097Z"
    },
    "papermill": {
     "duration": 19.983301,
     "end_time": "2023-04-30T09:02:45.823656",
     "exception": false,
     "start_time": "2023-04-30T09:02:25.840355",
     "status": "completed"
    },
    "tags": []
   },
   "outputs": [
    {
     "data": {
      "text/plain": [
       "BaggingClassifier(base_estimator=SVC(), max_samples=0.3, n_estimators=300,\n",
       "                  n_jobs=-1, random_state=42)"
      ]
     },
     "execution_count": 13,
     "metadata": {},
     "output_type": "execute_result"
    }
   ],
   "source": [
    "bag1.fit(X_train,Y_train)"
   ]
  },
  {
   "cell_type": "code",
   "execution_count": 14,
   "id": "f8792dbd",
   "metadata": {
    "execution": {
     "iopub.execute_input": "2023-04-30T09:02:45.840400Z",
     "iopub.status.busy": "2023-04-30T09:02:45.839434Z",
     "iopub.status.idle": "2023-04-30T09:03:06.504937Z",
     "shell.execute_reply": "2023-04-30T09:03:06.504001Z"
    },
    "papermill": {
     "duration": 20.675692,
     "end_time": "2023-04-30T09:03:06.507354",
     "exception": false,
     "start_time": "2023-04-30T09:02:45.831662",
     "status": "completed"
    },
    "tags": []
   },
   "outputs": [
    {
     "data": {
      "text/plain": [
       "0.795"
      ]
     },
     "execution_count": 14,
     "metadata": {},
     "output_type": "execute_result"
    }
   ],
   "source": [
    "y_pred2 = bag1.predict(X_test)\n",
    "accuracy_score(Y_test,y_pred2)"
   ]
  },
  {
   "cell_type": "code",
   "execution_count": 15,
   "id": "cec2a21d",
   "metadata": {
    "execution": {
     "iopub.execute_input": "2023-04-30T09:03:06.522435Z",
     "iopub.status.busy": "2023-04-30T09:03:06.521461Z",
     "iopub.status.idle": "2023-04-30T09:03:06.527905Z",
     "shell.execute_reply": "2023-04-30T09:03:06.527093Z"
    },
    "papermill": {
     "duration": 0.016079,
     "end_time": "2023-04-30T09:03:06.529966",
     "exception": false,
     "start_time": "2023-04-30T09:03:06.513887",
     "status": "completed"
    },
    "tags": []
   },
   "outputs": [
    {
     "data": {
      "text/plain": [
       "(10,)"
      ]
     },
     "execution_count": 15,
     "metadata": {},
     "output_type": "execute_result"
    }
   ],
   "source": [
    "bag1.estimators_features_[0].shape"
   ]
  },
  {
   "cell_type": "code",
   "execution_count": 16,
   "id": "604ae4ad",
   "metadata": {
    "execution": {
     "iopub.execute_input": "2023-04-30T09:03:06.544545Z",
     "iopub.status.busy": "2023-04-30T09:03:06.544151Z",
     "iopub.status.idle": "2023-04-30T09:03:06.622650Z",
     "shell.execute_reply": "2023-04-30T09:03:06.621597Z"
    },
    "papermill": {
     "duration": 0.088645,
     "end_time": "2023-04-30T09:03:06.625058",
     "exception": false,
     "start_time": "2023-04-30T09:03:06.536413",
     "status": "completed"
    },
    "tags": []
   },
   "outputs": [
    {
     "data": {
      "text/plain": [
       "(2400,)"
      ]
     },
     "execution_count": 16,
     "metadata": {},
     "output_type": "execute_result"
    }
   ],
   "source": [
    "bag1.estimators_samples_[0].shape"
   ]
  },
  {
   "cell_type": "markdown",
   "id": "d830e295",
   "metadata": {
    "papermill": {
     "duration": 0.006461,
     "end_time": "2023-04-30T09:03:06.638390",
     "exception": false,
     "start_time": "2023-04-30T09:03:06.631929",
     "status": "completed"
    },
    "tags": []
   },
   "source": [
    "# Pasting Using DecisionTree"
   ]
  },
  {
   "cell_type": "code",
   "execution_count": 17,
   "id": "d5cf9145",
   "metadata": {
    "execution": {
     "iopub.execute_input": "2023-04-30T09:03:06.653466Z",
     "iopub.status.busy": "2023-04-30T09:03:06.652493Z",
     "iopub.status.idle": "2023-04-30T09:03:06.657667Z",
     "shell.execute_reply": "2023-04-30T09:03:06.656870Z"
    },
    "papermill": {
     "duration": 0.014832,
     "end_time": "2023-04-30T09:03:06.659651",
     "exception": false,
     "start_time": "2023-04-30T09:03:06.644819",
     "status": "completed"
    },
    "tags": []
   },
   "outputs": [],
   "source": [
    "bag2 = BaggingClassifier(\n",
    "    base_estimator=DecisionTreeClassifier(),\n",
    "    n_estimators =500,\n",
    "    max_samples=0.25,\n",
    "    bootstrap=False,\n",
    "    random_state=42,\n",
    "    verbose = 1,\n",
    "    n_jobs = -1\n",
    ")"
   ]
  },
  {
   "cell_type": "code",
   "execution_count": 18,
   "id": "b50eabb1",
   "metadata": {
    "execution": {
     "iopub.execute_input": "2023-04-30T09:03:06.674644Z",
     "iopub.status.busy": "2023-04-30T09:03:06.673953Z",
     "iopub.status.idle": "2023-04-30T09:03:10.695651Z",
     "shell.execute_reply": "2023-04-30T09:03:10.694563Z"
    },
    "papermill": {
     "duration": 4.031966,
     "end_time": "2023-04-30T09:03:10.698099",
     "exception": false,
     "start_time": "2023-04-30T09:03:06.666133",
     "status": "completed"
    },
    "tags": []
   },
   "outputs": [
    {
     "name": "stderr",
     "output_type": "stream",
     "text": [
      "[Parallel(n_jobs=4)]: Using backend LokyBackend with 4 concurrent workers.\n",
      "[Parallel(n_jobs=4)]: Done   2 out of   4 | elapsed:    4.0s remaining:    4.0s\n",
      "[Parallel(n_jobs=4)]: Done   4 out of   4 | elapsed:    4.0s finished\n"
     ]
    },
    {
     "data": {
      "text/plain": [
       "BaggingClassifier(base_estimator=DecisionTreeClassifier(), bootstrap=False,\n",
       "                  max_samples=0.25, n_estimators=500, n_jobs=-1,\n",
       "                  random_state=42, verbose=1)"
      ]
     },
     "execution_count": 18,
     "metadata": {},
     "output_type": "execute_result"
    }
   ],
   "source": [
    "bag2.fit(X_train,Y_train)"
   ]
  },
  {
   "cell_type": "code",
   "execution_count": 19,
   "id": "a317ebe3",
   "metadata": {
    "execution": {
     "iopub.execute_input": "2023-04-30T09:03:10.714557Z",
     "iopub.status.busy": "2023-04-30T09:03:10.713340Z",
     "iopub.status.idle": "2023-04-30T09:03:11.086687Z",
     "shell.execute_reply": "2023-04-30T09:03:11.085807Z"
    },
    "papermill": {
     "duration": 0.384172,
     "end_time": "2023-04-30T09:03:11.089396",
     "exception": false,
     "start_time": "2023-04-30T09:03:10.705224",
     "status": "completed"
    },
    "tags": []
   },
   "outputs": [
    {
     "name": "stderr",
     "output_type": "stream",
     "text": [
      "[Parallel(n_jobs=4)]: Using backend LokyBackend with 4 concurrent workers.\n",
      "[Parallel(n_jobs=4)]: Done   2 out of   4 | elapsed:    0.2s remaining:    0.2s\n",
      "[Parallel(n_jobs=4)]: Done   4 out of   4 | elapsed:    0.4s finished\n"
     ]
    },
    {
     "data": {
      "text/plain": [
       "0.869"
      ]
     },
     "execution_count": 19,
     "metadata": {},
     "output_type": "execute_result"
    }
   ],
   "source": [
    "y_pred3 = bag2.predict(X_test)\n",
    "accuracy_score(Y_test,y_pred3)"
   ]
  }
 ],
 "metadata": {
  "kernelspec": {
   "display_name": "Python 3",
   "language": "python",
   "name": "python3"
  },
  "language_info": {
   "codemirror_mode": {
    "name": "ipython",
    "version": 3
   },
   "file_extension": ".py",
   "mimetype": "text/x-python",
   "name": "python",
   "nbconvert_exporter": "python",
   "pygments_lexer": "ipython3",
   "version": "3.7.12"
  },
  "papermill": {
   "default_parameters": {},
   "duration": 69.930884,
   "end_time": "2023-04-30T09:03:13.717880",
   "environment_variables": {},
   "exception": null,
   "input_path": "__notebook__.ipynb",
   "output_path": "__notebook__.ipynb",
   "parameters": {},
   "start_time": "2023-04-30T09:02:03.786996",
   "version": "2.4.0"
  }
 },
 "nbformat": 4,
 "nbformat_minor": 5
}
