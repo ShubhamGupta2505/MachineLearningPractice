{
 "cells": [
  {
   "cell_type": "code",
   "execution_count": null,
   "id": "df055ce4",
   "metadata": {
    "papermill": {
     "duration": 0.010938,
     "end_time": "2023-04-30T09:56:32.900948",
     "exception": false,
     "start_time": "2023-04-30T09:56:32.890010",
     "status": "completed"
    },
    "tags": []
   },
   "outputs": [],
   "source": []
  },
  {
   "cell_type": "code",
   "execution_count": 1,
   "id": "017a282e",
   "metadata": {
    "_cell_guid": "b1076dfc-b9ad-4769-8c92-a6c4dae69d19",
    "_uuid": "8f2839f25d086af736a60e9eeb907d3b93b6e0e5",
    "execution": {
     "iopub.execute_input": "2023-04-30T09:56:32.922456Z",
     "iopub.status.busy": "2023-04-30T09:56:32.922037Z",
     "iopub.status.idle": "2023-04-30T09:56:32.934219Z",
     "shell.execute_reply": "2023-04-30T09:56:32.933229Z"
    },
    "papermill": {
     "duration": 0.026192,
     "end_time": "2023-04-30T09:56:32.936942",
     "exception": false,
     "start_time": "2023-04-30T09:56:32.910750",
     "status": "completed"
    },
    "tags": []
   },
   "outputs": [],
   "source": [
    "# This Python 3 environment comes with many helpful analytics libraries installed\n",
    "# It is defined by the kaggle/python Docker image: https://github.com/kaggle/docker-python\n",
    "# For example, here's several helpful packages to load\n",
    "\n",
    "import numpy as np # linear algebra\n",
    "import pandas as pd # data processing, CSV file I/O (e.g. pd.read_csv)\n",
    "\n",
    "# Input data files are available in the read-only \"../input/\" directory\n",
    "# For example, running this (by clicking run or pressing Shift+Enter) will list all files under the input directory\n",
    "\n",
    "import os\n",
    "for dirname, _, filenames in os.walk('/kaggle/input'):\n",
    "    for filename in filenames:\n",
    "        print(os.path.join(dirname, filename))\n",
    "\n",
    "# You can write up to 20GB to the current directory (/kaggle/working/) that gets preserved as output when you create a version using \"Save & Run All\" \n",
    "# You can also write temporary files to /kaggle/temp/, but they won't be saved outside of the current session"
   ]
  },
  {
   "cell_type": "code",
   "execution_count": 2,
   "id": "362c7ed3",
   "metadata": {
    "execution": {
     "iopub.execute_input": "2023-04-30T09:56:32.958792Z",
     "iopub.status.busy": "2023-04-30T09:56:32.958033Z",
     "iopub.status.idle": "2023-04-30T09:56:34.677783Z",
     "shell.execute_reply": "2023-04-30T09:56:34.676406Z"
    },
    "papermill": {
     "duration": 1.734023,
     "end_time": "2023-04-30T09:56:34.680816",
     "exception": false,
     "start_time": "2023-04-30T09:56:32.946793",
     "status": "completed"
    },
    "tags": []
   },
   "outputs": [],
   "source": [
    "from sklearn.model_selection import train_test_split\n",
    "from sklearn.tree import DecisionTreeClassifier\n",
    "from sklearn.metrics import accuracy_score\n",
    "from sklearn.datasets import make_classification\n",
    "from sklearn.ensemble import BaggingClassifier\n",
    "from sklearn.svm import SVC"
   ]
  },
  {
   "cell_type": "code",
   "execution_count": 3,
   "id": "c632edab",
   "metadata": {
    "execution": {
     "iopub.execute_input": "2023-04-30T09:56:34.704507Z",
     "iopub.status.busy": "2023-04-30T09:56:34.703821Z",
     "iopub.status.idle": "2023-04-30T09:56:34.728728Z",
     "shell.execute_reply": "2023-04-30T09:56:34.727445Z"
    },
    "papermill": {
     "duration": 0.040951,
     "end_time": "2023-04-30T09:56:34.731742",
     "exception": false,
     "start_time": "2023-04-30T09:56:34.690791",
     "status": "completed"
    },
    "tags": []
   },
   "outputs": [],
   "source": [
    "X,Y = make_classification(n_samples = 10000,n_features=10,n_informative=3)\n"
   ]
  },
  {
   "cell_type": "code",
   "execution_count": 4,
   "id": "f6e8f249",
   "metadata": {
    "execution": {
     "iopub.execute_input": "2023-04-30T09:56:34.753917Z",
     "iopub.status.busy": "2023-04-30T09:56:34.753462Z",
     "iopub.status.idle": "2023-04-30T09:56:34.761053Z",
     "shell.execute_reply": "2023-04-30T09:56:34.759874Z"
    },
    "papermill": {
     "duration": 0.021909,
     "end_time": "2023-04-30T09:56:34.763789",
     "exception": false,
     "start_time": "2023-04-30T09:56:34.741880",
     "status": "completed"
    },
    "tags": []
   },
   "outputs": [],
   "source": [
    "X_train,X_test,Y_train,Y_test = train_test_split(X,Y,test_size=0.2,random_state=42)"
   ]
  },
  {
   "cell_type": "code",
   "execution_count": 5,
   "id": "46ce08ed",
   "metadata": {
    "execution": {
     "iopub.execute_input": "2023-04-30T09:56:34.786186Z",
     "iopub.status.busy": "2023-04-30T09:56:34.785750Z",
     "iopub.status.idle": "2023-04-30T09:56:34.794307Z",
     "shell.execute_reply": "2023-04-30T09:56:34.792845Z"
    },
    "papermill": {
     "duration": 0.02359,
     "end_time": "2023-04-30T09:56:34.797110",
     "exception": false,
     "start_time": "2023-04-30T09:56:34.773520",
     "status": "completed"
    },
    "tags": []
   },
   "outputs": [
    {
     "data": {
      "text/plain": [
       "((8000, 10), (8000,))"
      ]
     },
     "execution_count": 5,
     "metadata": {},
     "output_type": "execute_result"
    }
   ],
   "source": [
    "X_train.shape,Y_train.shape"
   ]
  },
  {
   "cell_type": "code",
   "execution_count": 6,
   "id": "73de2506",
   "metadata": {
    "execution": {
     "iopub.execute_input": "2023-04-30T09:56:34.819097Z",
     "iopub.status.busy": "2023-04-30T09:56:34.818683Z",
     "iopub.status.idle": "2023-04-30T09:56:34.949992Z",
     "shell.execute_reply": "2023-04-30T09:56:34.948243Z"
    },
    "papermill": {
     "duration": 0.145468,
     "end_time": "2023-04-30T09:56:34.952524",
     "exception": false,
     "start_time": "2023-04-30T09:56:34.807056",
     "status": "completed"
    },
    "tags": []
   },
   "outputs": [
    {
     "name": "stdout",
     "output_type": "stream",
     "text": [
      "0.8905\n"
     ]
    }
   ],
   "source": [
    "dt = DecisionTreeClassifier(random_state=42)\n",
    "dt.fit(X_train,Y_train)\n",
    "y_pred = dt.predict(X_test)\n",
    "print(accuracy_score(Y_test,y_pred))"
   ]
  },
  {
   "cell_type": "markdown",
   "id": "a21932d3",
   "metadata": {
    "papermill": {
     "duration": 0.010012,
     "end_time": "2023-04-30T09:56:34.972741",
     "exception": false,
     "start_time": "2023-04-30T09:56:34.962729",
     "status": "completed"
    },
    "tags": []
   },
   "source": [
    "# Bagging"
   ]
  },
  {
   "cell_type": "code",
   "execution_count": 7,
   "id": "5f30ed10",
   "metadata": {
    "execution": {
     "iopub.execute_input": "2023-04-30T09:56:34.994912Z",
     "iopub.status.busy": "2023-04-30T09:56:34.994040Z",
     "iopub.status.idle": "2023-04-30T09:56:35.000136Z",
     "shell.execute_reply": "2023-04-30T09:56:34.998797Z"
    },
    "papermill": {
     "duration": 0.020013,
     "end_time": "2023-04-30T09:56:35.002795",
     "exception": false,
     "start_time": "2023-04-30T09:56:34.982782",
     "status": "completed"
    },
    "tags": []
   },
   "outputs": [],
   "source": [
    "bag = BaggingClassifier(\n",
    "    base_estimator=DecisionTreeClassifier(),\n",
    "    n_estimators =500,\n",
    "    max_samples=0.25,\n",
    "    bootstrap=True,\n",
    "    random_state=42\n",
    ")"
   ]
  },
  {
   "cell_type": "code",
   "execution_count": 8,
   "id": "c3b39b4e",
   "metadata": {
    "execution": {
     "iopub.execute_input": "2023-04-30T09:56:35.025890Z",
     "iopub.status.busy": "2023-04-30T09:56:35.025437Z",
     "iopub.status.idle": "2023-04-30T09:56:45.661585Z",
     "shell.execute_reply": "2023-04-30T09:56:45.660126Z"
    },
    "papermill": {
     "duration": 10.651568,
     "end_time": "2023-04-30T09:56:45.664822",
     "exception": false,
     "start_time": "2023-04-30T09:56:35.013254",
     "status": "completed"
    },
    "tags": []
   },
   "outputs": [
    {
     "data": {
      "text/plain": [
       "BaggingClassifier(base_estimator=DecisionTreeClassifier(), max_samples=0.25,\n",
       "                  n_estimators=500, random_state=42)"
      ]
     },
     "execution_count": 8,
     "metadata": {},
     "output_type": "execute_result"
    }
   ],
   "source": [
    "bag.fit(X_train,Y_train)"
   ]
  },
  {
   "cell_type": "code",
   "execution_count": 9,
   "id": "fc615bf6",
   "metadata": {
    "execution": {
     "iopub.execute_input": "2023-04-30T09:56:45.687800Z",
     "iopub.status.busy": "2023-04-30T09:56:45.686648Z",
     "iopub.status.idle": "2023-04-30T09:56:45.912753Z",
     "shell.execute_reply": "2023-04-30T09:56:45.911154Z"
    },
    "papermill": {
     "duration": 0.240134,
     "end_time": "2023-04-30T09:56:45.915343",
     "exception": false,
     "start_time": "2023-04-30T09:56:45.675209",
     "status": "completed"
    },
    "tags": []
   },
   "outputs": [
    {
     "data": {
      "text/plain": [
       "0.927"
      ]
     },
     "execution_count": 9,
     "metadata": {},
     "output_type": "execute_result"
    }
   ],
   "source": [
    "y_pred1 = bag.predict(X_test)\n",
    "accuracy_score(Y_test,y_pred1)"
   ]
  },
  {
   "cell_type": "code",
   "execution_count": 10,
   "id": "b83888c2",
   "metadata": {
    "execution": {
     "iopub.execute_input": "2023-04-30T09:56:45.938833Z",
     "iopub.status.busy": "2023-04-30T09:56:45.938118Z",
     "iopub.status.idle": "2023-04-30T09:56:46.057681Z",
     "shell.execute_reply": "2023-04-30T09:56:46.056375Z"
    },
    "papermill": {
     "duration": 0.134554,
     "end_time": "2023-04-30T09:56:46.060438",
     "exception": false,
     "start_time": "2023-04-30T09:56:45.925884",
     "status": "completed"
    },
    "tags": []
   },
   "outputs": [
    {
     "data": {
      "text/plain": [
       "(2000,)"
      ]
     },
     "execution_count": 10,
     "metadata": {},
     "output_type": "execute_result"
    }
   ],
   "source": [
    "bag.estimators_samples_[0].shape"
   ]
  },
  {
   "cell_type": "code",
   "execution_count": 11,
   "id": "080fdfce",
   "metadata": {
    "execution": {
     "iopub.execute_input": "2023-04-30T09:56:46.082875Z",
     "iopub.status.busy": "2023-04-30T09:56:46.082414Z",
     "iopub.status.idle": "2023-04-30T09:56:46.090731Z",
     "shell.execute_reply": "2023-04-30T09:56:46.089414Z"
    },
    "papermill": {
     "duration": 0.022457,
     "end_time": "2023-04-30T09:56:46.093122",
     "exception": false,
     "start_time": "2023-04-30T09:56:46.070665",
     "status": "completed"
    },
    "tags": []
   },
   "outputs": [
    {
     "data": {
      "text/plain": [
       "(10,)"
      ]
     },
     "execution_count": 11,
     "metadata": {},
     "output_type": "execute_result"
    }
   ],
   "source": [
    "bag.estimators_features_[0].shape"
   ]
  },
  {
   "cell_type": "markdown",
   "id": "41a1dfdd",
   "metadata": {
    "papermill": {
     "duration": 0.009968,
     "end_time": "2023-04-30T09:56:46.113447",
     "exception": false,
     "start_time": "2023-04-30T09:56:46.103479",
     "status": "completed"
    },
    "tags": []
   },
   "source": [
    "# Using SVM"
   ]
  },
  {
   "cell_type": "code",
   "execution_count": 12,
   "id": "911a484b",
   "metadata": {
    "execution": {
     "iopub.execute_input": "2023-04-30T09:56:46.136502Z",
     "iopub.status.busy": "2023-04-30T09:56:46.135646Z",
     "iopub.status.idle": "2023-04-30T09:56:46.141788Z",
     "shell.execute_reply": "2023-04-30T09:56:46.140626Z"
    },
    "papermill": {
     "duration": 0.020582,
     "end_time": "2023-04-30T09:56:46.144459",
     "exception": false,
     "start_time": "2023-04-30T09:56:46.123877",
     "status": "completed"
    },
    "tags": []
   },
   "outputs": [],
   "source": [
    "bag1= BaggingClassifier(\n",
    "    base_estimator = SVC(),\n",
    "    n_estimators= 300,\n",
    "    max_samples = 0.30,\n",
    "    bootstrap = True,\n",
    "    random_state=42,\n",
    "    n_jobs = -1\n",
    ")"
   ]
  },
  {
   "cell_type": "code",
   "execution_count": 13,
   "id": "82351fed",
   "metadata": {
    "execution": {
     "iopub.execute_input": "2023-04-30T09:56:46.168623Z",
     "iopub.status.busy": "2023-04-30T09:56:46.167446Z",
     "iopub.status.idle": "2023-04-30T09:57:04.708576Z",
     "shell.execute_reply": "2023-04-30T09:57:04.707491Z"
    },
    "papermill": {
     "duration": 18.556844,
     "end_time": "2023-04-30T09:57:04.711920",
     "exception": false,
     "start_time": "2023-04-30T09:56:46.155076",
     "status": "completed"
    },
    "tags": []
   },
   "outputs": [
    {
     "data": {
      "text/plain": [
       "BaggingClassifier(base_estimator=SVC(), max_samples=0.3, n_estimators=300,\n",
       "                  n_jobs=-1, random_state=42)"
      ]
     },
     "execution_count": 13,
     "metadata": {},
     "output_type": "execute_result"
    }
   ],
   "source": [
    "bag1.fit(X_train,Y_train)"
   ]
  },
  {
   "cell_type": "code",
   "execution_count": 14,
   "id": "e75a3678",
   "metadata": {
    "execution": {
     "iopub.execute_input": "2023-04-30T09:57:04.736018Z",
     "iopub.status.busy": "2023-04-30T09:57:04.735273Z",
     "iopub.status.idle": "2023-04-30T09:57:21.240900Z",
     "shell.execute_reply": "2023-04-30T09:57:21.239506Z"
    },
    "papermill": {
     "duration": 16.520479,
     "end_time": "2023-04-30T09:57:21.243599",
     "exception": false,
     "start_time": "2023-04-30T09:57:04.723120",
     "status": "completed"
    },
    "tags": []
   },
   "outputs": [
    {
     "data": {
      "text/plain": [
       "0.8625"
      ]
     },
     "execution_count": 14,
     "metadata": {},
     "output_type": "execute_result"
    }
   ],
   "source": [
    "y_pred2 = bag1.predict(X_test)\n",
    "accuracy_score(Y_test,y_pred2)"
   ]
  },
  {
   "cell_type": "code",
   "execution_count": 15,
   "id": "911111f2",
   "metadata": {
    "execution": {
     "iopub.execute_input": "2023-04-30T09:57:21.267699Z",
     "iopub.status.busy": "2023-04-30T09:57:21.266418Z",
     "iopub.status.idle": "2023-04-30T09:57:21.273708Z",
     "shell.execute_reply": "2023-04-30T09:57:21.272676Z"
    },
    "papermill": {
     "duration": 0.021988,
     "end_time": "2023-04-30T09:57:21.276182",
     "exception": false,
     "start_time": "2023-04-30T09:57:21.254194",
     "status": "completed"
    },
    "tags": []
   },
   "outputs": [
    {
     "data": {
      "text/plain": [
       "(10,)"
      ]
     },
     "execution_count": 15,
     "metadata": {},
     "output_type": "execute_result"
    }
   ],
   "source": [
    "bag1.estimators_features_[0].shape"
   ]
  },
  {
   "cell_type": "code",
   "execution_count": 16,
   "id": "418e0ac3",
   "metadata": {
    "execution": {
     "iopub.execute_input": "2023-04-30T09:57:21.300336Z",
     "iopub.status.busy": "2023-04-30T09:57:21.299672Z",
     "iopub.status.idle": "2023-04-30T09:57:21.379637Z",
     "shell.execute_reply": "2023-04-30T09:57:21.378302Z"
    },
    "papermill": {
     "duration": 0.09501,
     "end_time": "2023-04-30T09:57:21.382097",
     "exception": false,
     "start_time": "2023-04-30T09:57:21.287087",
     "status": "completed"
    },
    "tags": []
   },
   "outputs": [
    {
     "data": {
      "text/plain": [
       "(2400,)"
      ]
     },
     "execution_count": 16,
     "metadata": {},
     "output_type": "execute_result"
    }
   ],
   "source": [
    "bag1.estimators_samples_[0].shape"
   ]
  },
  {
   "cell_type": "markdown",
   "id": "1db85d0f",
   "metadata": {
    "papermill": {
     "duration": 0.011009,
     "end_time": "2023-04-30T09:57:21.404002",
     "exception": false,
     "start_time": "2023-04-30T09:57:21.392993",
     "status": "completed"
    },
    "tags": []
   },
   "source": [
    "# Pasting Using DecisionTree"
   ]
  },
  {
   "cell_type": "code",
   "execution_count": 17,
   "id": "8acf1ef1",
   "metadata": {
    "execution": {
     "iopub.execute_input": "2023-04-30T09:57:21.428685Z",
     "iopub.status.busy": "2023-04-30T09:57:21.427442Z",
     "iopub.status.idle": "2023-04-30T09:57:21.434114Z",
     "shell.execute_reply": "2023-04-30T09:57:21.432664Z"
    },
    "papermill": {
     "duration": 0.02174,
     "end_time": "2023-04-30T09:57:21.436714",
     "exception": false,
     "start_time": "2023-04-30T09:57:21.414974",
     "status": "completed"
    },
    "tags": []
   },
   "outputs": [],
   "source": [
    "bag2 = BaggingClassifier(\n",
    "    base_estimator=DecisionTreeClassifier(),\n",
    "    n_estimators =500,\n",
    "    max_samples=0.25,\n",
    "    bootstrap=False,\n",
    "    random_state=42,\n",
    "    verbose = 1,\n",
    "    n_jobs = -1\n",
    ")"
   ]
  },
  {
   "cell_type": "code",
   "execution_count": 18,
   "id": "1d3dde5b",
   "metadata": {
    "execution": {
     "iopub.execute_input": "2023-04-30T09:57:21.460484Z",
     "iopub.status.busy": "2023-04-30T09:57:21.460062Z",
     "iopub.status.idle": "2023-04-30T09:57:25.716578Z",
     "shell.execute_reply": "2023-04-30T09:57:25.714508Z"
    },
    "papermill": {
     "duration": 4.271391,
     "end_time": "2023-04-30T09:57:25.719095",
     "exception": false,
     "start_time": "2023-04-30T09:57:21.447704",
     "status": "completed"
    },
    "tags": []
   },
   "outputs": [
    {
     "name": "stderr",
     "output_type": "stream",
     "text": [
      "[Parallel(n_jobs=4)]: Using backend LokyBackend with 4 concurrent workers.\n",
      "[Parallel(n_jobs=4)]: Done   2 out of   4 | elapsed:    4.2s remaining:    4.2s\n",
      "[Parallel(n_jobs=4)]: Done   4 out of   4 | elapsed:    4.2s finished\n"
     ]
    },
    {
     "data": {
      "text/plain": [
       "BaggingClassifier(base_estimator=DecisionTreeClassifier(), bootstrap=False,\n",
       "                  max_samples=0.25, n_estimators=500, n_jobs=-1,\n",
       "                  random_state=42, verbose=1)"
      ]
     },
     "execution_count": 18,
     "metadata": {},
     "output_type": "execute_result"
    }
   ],
   "source": [
    "bag2.fit(X_train,Y_train)"
   ]
  },
  {
   "cell_type": "code",
   "execution_count": 19,
   "id": "79a9a2b7",
   "metadata": {
    "execution": {
     "iopub.execute_input": "2023-04-30T09:57:25.743362Z",
     "iopub.status.busy": "2023-04-30T09:57:25.742917Z",
     "iopub.status.idle": "2023-04-30T09:57:26.126853Z",
     "shell.execute_reply": "2023-04-30T09:57:26.125582Z"
    },
    "papermill": {
     "duration": 0.399097,
     "end_time": "2023-04-30T09:57:26.129570",
     "exception": false,
     "start_time": "2023-04-30T09:57:25.730473",
     "status": "completed"
    },
    "tags": []
   },
   "outputs": [
    {
     "name": "stderr",
     "output_type": "stream",
     "text": [
      "[Parallel(n_jobs=4)]: Using backend LokyBackend with 4 concurrent workers.\n",
      "[Parallel(n_jobs=4)]: Done   2 out of   4 | elapsed:    0.2s remaining:    0.2s\n",
      "[Parallel(n_jobs=4)]: Done   4 out of   4 | elapsed:    0.4s finished\n"
     ]
    },
    {
     "data": {
      "text/plain": [
       "0.9285"
      ]
     },
     "execution_count": 19,
     "metadata": {},
     "output_type": "execute_result"
    }
   ],
   "source": [
    "y_pred3 = bag2.predict(X_test)\n",
    "accuracy_score(Y_test,y_pred3)"
   ]
  },
  {
   "cell_type": "markdown",
   "id": "ed1282ed",
   "metadata": {
    "papermill": {
     "duration": 0.010951,
     "end_time": "2023-04-30T09:57:26.151775",
     "exception": false,
     "start_time": "2023-04-30T09:57:26.140824",
     "status": "completed"
    },
    "tags": []
   },
   "source": [
    "# Random Subspaces"
   ]
  },
  {
   "cell_type": "code",
   "execution_count": 20,
   "id": "b2447879",
   "metadata": {
    "execution": {
     "iopub.execute_input": "2023-04-30T09:57:26.176827Z",
     "iopub.status.busy": "2023-04-30T09:57:26.175872Z",
     "iopub.status.idle": "2023-04-30T09:57:26.181929Z",
     "shell.execute_reply": "2023-04-30T09:57:26.180909Z"
    },
    "papermill": {
     "duration": 0.021574,
     "end_time": "2023-04-30T09:57:26.184551",
     "exception": false,
     "start_time": "2023-04-30T09:57:26.162977",
     "status": "completed"
    },
    "tags": []
   },
   "outputs": [],
   "source": [
    "bag3 = BaggingClassifier(\n",
    "    base_estimator=DecisionTreeClassifier(),\n",
    "    n_estimators =500,\n",
    "    max_samples=1.0,\n",
    "    bootstrap=False,\n",
    "    max_features = 0.5,\n",
    "    bootstrap_features=True,\n",
    "    random_state=42,\n",
    "    n_jobs = -1\n",
    ")"
   ]
  },
  {
   "cell_type": "code",
   "execution_count": 21,
   "id": "549229e0",
   "metadata": {
    "execution": {
     "iopub.execute_input": "2023-04-30T09:57:26.208972Z",
     "iopub.status.busy": "2023-04-30T09:57:26.208549Z",
     "iopub.status.idle": "2023-04-30T09:57:39.618841Z",
     "shell.execute_reply": "2023-04-30T09:57:39.617563Z"
    },
    "papermill": {
     "duration": 13.425804,
     "end_time": "2023-04-30T09:57:39.621643",
     "exception": false,
     "start_time": "2023-04-30T09:57:26.195839",
     "status": "completed"
    },
    "tags": []
   },
   "outputs": [
    {
     "data": {
      "text/plain": [
       "BaggingClassifier(base_estimator=DecisionTreeClassifier(), bootstrap=False,\n",
       "                  bootstrap_features=True, max_features=0.5, n_estimators=500,\n",
       "                  n_jobs=-1, random_state=42)"
      ]
     },
     "execution_count": 21,
     "metadata": {},
     "output_type": "execute_result"
    }
   ],
   "source": [
    "bag3.fit(X_train,Y_train)"
   ]
  },
  {
   "cell_type": "code",
   "execution_count": 22,
   "id": "5783e057",
   "metadata": {
    "execution": {
     "iopub.execute_input": "2023-04-30T09:57:39.646893Z",
     "iopub.status.busy": "2023-04-30T09:57:39.646038Z",
     "iopub.status.idle": "2023-04-30T09:57:40.412715Z",
     "shell.execute_reply": "2023-04-30T09:57:40.411375Z"
    },
    "papermill": {
     "duration": 0.782453,
     "end_time": "2023-04-30T09:57:40.415360",
     "exception": false,
     "start_time": "2023-04-30T09:57:39.632907",
     "status": "completed"
    },
    "tags": []
   },
   "outputs": [
    {
     "data": {
      "text/plain": [
       "0.9165"
      ]
     },
     "execution_count": 22,
     "metadata": {},
     "output_type": "execute_result"
    }
   ],
   "source": [
    "y_pred3 = bag3.predict(X_test)\n",
    "accuracy_score(Y_test,y_pred3)"
   ]
  },
  {
   "cell_type": "markdown",
   "id": "59b5626a",
   "metadata": {
    "papermill": {
     "duration": 0.011251,
     "end_time": "2023-04-30T09:57:40.438858",
     "exception": false,
     "start_time": "2023-04-30T09:57:40.427607",
     "status": "completed"
    },
    "tags": []
   },
   "source": [
    "# Random Patches"
   ]
  },
  {
   "cell_type": "markdown",
   "id": "3781925d",
   "metadata": {
    "papermill": {
     "duration": 0.01196,
     "end_time": "2023-04-30T09:57:40.462428",
     "exception": false,
     "start_time": "2023-04-30T09:57:40.450468",
     "status": "completed"
    },
    "tags": []
   },
   "source": [
    "<p>We do both column and rom sampling here</p>"
   ]
  },
  {
   "cell_type": "code",
   "execution_count": 23,
   "id": "64d90e59",
   "metadata": {
    "execution": {
     "iopub.execute_input": "2023-04-30T09:57:40.488392Z",
     "iopub.status.busy": "2023-04-30T09:57:40.487520Z",
     "iopub.status.idle": "2023-04-30T09:57:40.493405Z",
     "shell.execute_reply": "2023-04-30T09:57:40.492619Z"
    },
    "papermill": {
     "duration": 0.021477,
     "end_time": "2023-04-30T09:57:40.495867",
     "exception": false,
     "start_time": "2023-04-30T09:57:40.474390",
     "status": "completed"
    },
    "tags": []
   },
   "outputs": [],
   "source": [
    "bag4 = BaggingClassifier(\n",
    "    base_estimator=DecisionTreeClassifier(),\n",
    "    n_estimators =500,\n",
    "    max_samples=0.25,\n",
    "    bootstrap=False,\n",
    "    max_features = 0.5,\n",
    "    bootstrap_features=True,\n",
    "    random_state=42,\n",
    "    n_jobs = -1\n",
    ")"
   ]
  },
  {
   "cell_type": "code",
   "execution_count": 24,
   "id": "c37eba4e",
   "metadata": {
    "execution": {
     "iopub.execute_input": "2023-04-30T09:57:40.520890Z",
     "iopub.status.busy": "2023-04-30T09:57:40.520078Z",
     "iopub.status.idle": "2023-04-30T09:57:43.363781Z",
     "shell.execute_reply": "2023-04-30T09:57:43.362697Z"
    },
    "papermill": {
     "duration": 2.859329,
     "end_time": "2023-04-30T09:57:43.366469",
     "exception": false,
     "start_time": "2023-04-30T09:57:40.507140",
     "status": "completed"
    },
    "tags": []
   },
   "outputs": [
    {
     "data": {
      "text/plain": [
       "BaggingClassifier(base_estimator=DecisionTreeClassifier(), bootstrap=False,\n",
       "                  bootstrap_features=True, max_features=0.5, max_samples=0.25,\n",
       "                  n_estimators=500, n_jobs=-1, random_state=42)"
      ]
     },
     "execution_count": 24,
     "metadata": {},
     "output_type": "execute_result"
    }
   ],
   "source": [
    "bag4.fit(X_train,Y_train)"
   ]
  },
  {
   "cell_type": "code",
   "execution_count": 25,
   "id": "43f2304c",
   "metadata": {
    "execution": {
     "iopub.execute_input": "2023-04-30T09:57:43.392358Z",
     "iopub.status.busy": "2023-04-30T09:57:43.391470Z",
     "iopub.status.idle": "2023-04-30T09:57:43.803304Z",
     "shell.execute_reply": "2023-04-30T09:57:43.802255Z"
    },
    "papermill": {
     "duration": 0.427535,
     "end_time": "2023-04-30T09:57:43.805792",
     "exception": false,
     "start_time": "2023-04-30T09:57:43.378257",
     "status": "completed"
    },
    "tags": []
   },
   "outputs": [
    {
     "data": {
      "text/plain": [
       "0.9135"
      ]
     },
     "execution_count": 25,
     "metadata": {},
     "output_type": "execute_result"
    }
   ],
   "source": [
    "y_pred5 = bag4.predict(X_test)\n",
    "accuracy_score(Y_test,y_pred5)"
   ]
  },
  {
   "cell_type": "markdown",
   "id": "dbd008e3",
   "metadata": {
    "papermill": {
     "duration": 0.011309,
     "end_time": "2023-04-30T09:57:43.829058",
     "exception": false,
     "start_time": "2023-04-30T09:57:43.817749",
     "status": "completed"
    },
    "tags": []
   },
   "source": [
    "# OOB Score"
   ]
  },
  {
   "cell_type": "code",
   "execution_count": 26,
   "id": "15edd433",
   "metadata": {
    "execution": {
     "iopub.execute_input": "2023-04-30T09:57:43.854721Z",
     "iopub.status.busy": "2023-04-30T09:57:43.853932Z",
     "iopub.status.idle": "2023-04-30T09:57:43.859473Z",
     "shell.execute_reply": "2023-04-30T09:57:43.858173Z"
    },
    "papermill": {
     "duration": 0.021179,
     "end_time": "2023-04-30T09:57:43.861932",
     "exception": false,
     "start_time": "2023-04-30T09:57:43.840753",
     "status": "completed"
    },
    "tags": []
   },
   "outputs": [],
   "source": [
    "bag5 = BaggingClassifier(\n",
    "    base_estimator=DecisionTreeClassifier(),\n",
    "    n_estimators =500,\n",
    "    max_samples=0.25,\n",
    "    bootstrap=True,\n",
    "    oob_score=True,\n",
    "    random_state=42,\n",
    "    n_jobs = -1\n",
    ")"
   ]
  },
  {
   "cell_type": "code",
   "execution_count": 27,
   "id": "56123726",
   "metadata": {
    "execution": {
     "iopub.execute_input": "2023-04-30T09:57:43.888705Z",
     "iopub.status.busy": "2023-04-30T09:57:43.887915Z",
     "iopub.status.idle": "2023-04-30T09:57:48.649050Z",
     "shell.execute_reply": "2023-04-30T09:57:48.647753Z"
    },
    "papermill": {
     "duration": 4.777914,
     "end_time": "2023-04-30T09:57:48.651725",
     "exception": false,
     "start_time": "2023-04-30T09:57:43.873811",
     "status": "completed"
    },
    "tags": []
   },
   "outputs": [
    {
     "data": {
      "text/plain": [
       "BaggingClassifier(base_estimator=DecisionTreeClassifier(), max_samples=0.25,\n",
       "                  n_estimators=500, n_jobs=-1, oob_score=True, random_state=42)"
      ]
     },
     "execution_count": 27,
     "metadata": {},
     "output_type": "execute_result"
    }
   ],
   "source": [
    "bag5.fit(X_train,Y_train)"
   ]
  },
  {
   "cell_type": "code",
   "execution_count": 28,
   "id": "ca99048c",
   "metadata": {
    "execution": {
     "iopub.execute_input": "2023-04-30T09:57:48.678619Z",
     "iopub.status.busy": "2023-04-30T09:57:48.677416Z",
     "iopub.status.idle": "2023-04-30T09:57:48.683887Z",
     "shell.execute_reply": "2023-04-30T09:57:48.683060Z"
    },
    "papermill": {
     "duration": 0.022048,
     "end_time": "2023-04-30T09:57:48.686257",
     "exception": false,
     "start_time": "2023-04-30T09:57:48.664209",
     "status": "completed"
    },
    "tags": []
   },
   "outputs": [
    {
     "data": {
      "text/plain": [
       "0.932125"
      ]
     },
     "execution_count": 28,
     "metadata": {},
     "output_type": "execute_result"
    }
   ],
   "source": [
    "bag5.oob_score_"
   ]
  },
  {
   "cell_type": "code",
   "execution_count": 29,
   "id": "a336214e",
   "metadata": {
    "execution": {
     "iopub.execute_input": "2023-04-30T09:57:48.713019Z",
     "iopub.status.busy": "2023-04-30T09:57:48.711837Z",
     "iopub.status.idle": "2023-04-30T09:57:49.086485Z",
     "shell.execute_reply": "2023-04-30T09:57:49.085617Z"
    },
    "papermill": {
     "duration": 0.390574,
     "end_time": "2023-04-30T09:57:49.089099",
     "exception": false,
     "start_time": "2023-04-30T09:57:48.698525",
     "status": "completed"
    },
    "tags": []
   },
   "outputs": [
    {
     "data": {
      "text/plain": [
       "0.927"
      ]
     },
     "execution_count": 29,
     "metadata": {},
     "output_type": "execute_result"
    }
   ],
   "source": [
    "y_pred6 = bag5.predict(X_test)\n",
    "accuracy_score(Y_test,y_pred6)"
   ]
  },
  {
   "cell_type": "markdown",
   "id": "d0d155fc",
   "metadata": {
    "papermill": {
     "duration": 0.011503,
     "end_time": "2023-04-30T09:57:49.112698",
     "exception": false,
     "start_time": "2023-04-30T09:57:49.101195",
     "status": "completed"
    },
    "tags": []
   },
   "source": [
    "# Grid SearchCV"
   ]
  },
  {
   "cell_type": "code",
   "execution_count": 30,
   "id": "a50e7428",
   "metadata": {
    "execution": {
     "iopub.execute_input": "2023-04-30T09:57:49.139367Z",
     "iopub.status.busy": "2023-04-30T09:57:49.138628Z",
     "iopub.status.idle": "2023-04-30T09:57:49.143010Z",
     "shell.execute_reply": "2023-04-30T09:57:49.142149Z"
    },
    "papermill": {
     "duration": 0.02082,
     "end_time": "2023-04-30T09:57:49.145299",
     "exception": false,
     "start_time": "2023-04-30T09:57:49.124479",
     "status": "completed"
    },
    "tags": []
   },
   "outputs": [],
   "source": [
    "from sklearn.model_selection import GridSearchCV"
   ]
  },
  {
   "cell_type": "code",
   "execution_count": 31,
   "id": "c3d749d6",
   "metadata": {
    "execution": {
     "iopub.execute_input": "2023-04-30T09:57:49.171981Z",
     "iopub.status.busy": "2023-04-30T09:57:49.171115Z",
     "iopub.status.idle": "2023-04-30T09:57:49.176381Z",
     "shell.execute_reply": "2023-04-30T09:57:49.175114Z"
    },
    "papermill": {
     "duration": 0.021643,
     "end_time": "2023-04-30T09:57:49.178921",
     "exception": false,
     "start_time": "2023-04-30T09:57:49.157278",
     "status": "completed"
    },
    "tags": []
   },
   "outputs": [],
   "source": [
    "parameters = {\n",
    "    'n_estimators' : [100,500],\n",
    "    'max_samples' : [0.4,0.7],\n",
    "    'bootstrap' : [True,False],\n",
    "    'max_features' : [0.4,0.7]\n",
    "}\n"
   ]
  },
  {
   "cell_type": "code",
   "execution_count": 32,
   "id": "500c7af1",
   "metadata": {
    "execution": {
     "iopub.execute_input": "2023-04-30T09:57:49.204674Z",
     "iopub.status.busy": "2023-04-30T09:57:49.204238Z",
     "iopub.status.idle": "2023-04-30T09:57:49.210054Z",
     "shell.execute_reply": "2023-04-30T09:57:49.208729Z"
    },
    "papermill": {
     "duration": 0.021473,
     "end_time": "2023-04-30T09:57:49.212366",
     "exception": false,
     "start_time": "2023-04-30T09:57:49.190893",
     "status": "completed"
    },
    "tags": []
   },
   "outputs": [],
   "source": [
    "search  = GridSearchCV(BaggingClassifier(),parameters,cv=5)"
   ]
  },
  {
   "cell_type": "code",
   "execution_count": 33,
   "id": "3fa39a9e",
   "metadata": {
    "execution": {
     "iopub.execute_input": "2023-04-30T09:57:49.238291Z",
     "iopub.status.busy": "2023-04-30T09:57:49.237637Z",
     "iopub.status.idle": "2023-04-30T10:08:09.953692Z",
     "shell.execute_reply": "2023-04-30T10:08:09.952228Z"
    },
    "papermill": {
     "duration": 620.7447,
     "end_time": "2023-04-30T10:08:09.968833",
     "exception": false,
     "start_time": "2023-04-30T09:57:49.224133",
     "status": "completed"
    },
    "tags": []
   },
   "outputs": [
    {
     "data": {
      "text/plain": [
       "GridSearchCV(cv=5, estimator=BaggingClassifier(),\n",
       "             param_grid={'bootstrap': [True, False], 'max_features': [0.4, 0.7],\n",
       "                         'max_samples': [0.4, 0.7],\n",
       "                         'n_estimators': [100, 500]})"
      ]
     },
     "execution_count": 33,
     "metadata": {},
     "output_type": "execute_result"
    }
   ],
   "source": [
    "search.fit(X_train,Y_train)"
   ]
  },
  {
   "cell_type": "code",
   "execution_count": 34,
   "id": "ab892af4",
   "metadata": {
    "execution": {
     "iopub.execute_input": "2023-04-30T10:08:09.995711Z",
     "iopub.status.busy": "2023-04-30T10:08:09.994913Z",
     "iopub.status.idle": "2023-04-30T10:08:10.002722Z",
     "shell.execute_reply": "2023-04-30T10:08:10.001350Z"
    },
    "papermill": {
     "duration": 0.024024,
     "end_time": "2023-04-30T10:08:10.005195",
     "exception": false,
     "start_time": "2023-04-30T10:08:09.981171",
     "status": "completed"
    },
    "tags": []
   },
   "outputs": [
    {
     "data": {
      "text/plain": [
       "0.93925"
      ]
     },
     "execution_count": 34,
     "metadata": {},
     "output_type": "execute_result"
    }
   ],
   "source": [
    "search.best_score_"
   ]
  },
  {
   "cell_type": "code",
   "execution_count": 35,
   "id": "1743b06d",
   "metadata": {
    "execution": {
     "iopub.execute_input": "2023-04-30T10:08:10.031598Z",
     "iopub.status.busy": "2023-04-30T10:08:10.031156Z",
     "iopub.status.idle": "2023-04-30T10:08:10.039435Z",
     "shell.execute_reply": "2023-04-30T10:08:10.038126Z"
    },
    "papermill": {
     "duration": 0.02472,
     "end_time": "2023-04-30T10:08:10.042148",
     "exception": false,
     "start_time": "2023-04-30T10:08:10.017428",
     "status": "completed"
    },
    "tags": []
   },
   "outputs": [
    {
     "data": {
      "text/plain": [
       "{'bootstrap': True,\n",
       " 'max_features': 0.7,\n",
       " 'max_samples': 0.7,\n",
       " 'n_estimators': 500}"
      ]
     },
     "execution_count": 35,
     "metadata": {},
     "output_type": "execute_result"
    }
   ],
   "source": [
    "search.best_params_"
   ]
  }
 ],
 "metadata": {
  "kernelspec": {
   "display_name": "Python 3",
   "language": "python",
   "name": "python3"
  },
  "language_info": {
   "codemirror_mode": {
    "name": "ipython",
    "version": 3
   },
   "file_extension": ".py",
   "mimetype": "text/x-python",
   "name": "python",
   "nbconvert_exporter": "python",
   "pygments_lexer": "ipython3",
   "version": "3.7.12"
  },
  "papermill": {
   "default_parameters": {},
   "duration": 710.845949,
   "end_time": "2023-04-30T10:08:12.678920",
   "environment_variables": {},
   "exception": null,
   "input_path": "__notebook__.ipynb",
   "output_path": "__notebook__.ipynb",
   "parameters": {},
   "start_time": "2023-04-30T09:56:21.832971",
   "version": "2.4.0"
  }
 },
 "nbformat": 4,
 "nbformat_minor": 5
}
