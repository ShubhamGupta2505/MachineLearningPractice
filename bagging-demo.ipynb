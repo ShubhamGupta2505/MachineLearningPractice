{
 "cells": [
  {
   "cell_type": "code",
   "execution_count": null,
   "id": "650e2c40",
   "metadata": {
    "papermill": {
     "duration": 0.007764,
     "end_time": "2023-04-30T09:05:51.221804",
     "exception": false,
     "start_time": "2023-04-30T09:05:51.214040",
     "status": "completed"
    },
    "tags": []
   },
   "outputs": [],
   "source": []
  },
  {
   "cell_type": "code",
   "execution_count": 1,
   "id": "fd8acdbc",
   "metadata": {
    "_cell_guid": "b1076dfc-b9ad-4769-8c92-a6c4dae69d19",
    "_uuid": "8f2839f25d086af736a60e9eeb907d3b93b6e0e5",
    "execution": {
     "iopub.execute_input": "2023-04-30T09:05:51.237588Z",
     "iopub.status.busy": "2023-04-30T09:05:51.237167Z",
     "iopub.status.idle": "2023-04-30T09:05:51.247972Z",
     "shell.execute_reply": "2023-04-30T09:05:51.247124Z"
    },
    "papermill": {
     "duration": 0.02148,
     "end_time": "2023-04-30T09:05:51.250094",
     "exception": false,
     "start_time": "2023-04-30T09:05:51.228614",
     "status": "completed"
    },
    "tags": []
   },
   "outputs": [],
   "source": [
    "# This Python 3 environment comes with many helpful analytics libraries installed\n",
    "# It is defined by the kaggle/python Docker image: https://github.com/kaggle/docker-python\n",
    "# For example, here's several helpful packages to load\n",
    "\n",
    "import numpy as np # linear algebra\n",
    "import pandas as pd # data processing, CSV file I/O (e.g. pd.read_csv)\n",
    "\n",
    "# Input data files are available in the read-only \"../input/\" directory\n",
    "# For example, running this (by clicking run or pressing Shift+Enter) will list all files under the input directory\n",
    "\n",
    "import os\n",
    "for dirname, _, filenames in os.walk('/kaggle/input'):\n",
    "    for filename in filenames:\n",
    "        print(os.path.join(dirname, filename))\n",
    "\n",
    "# You can write up to 20GB to the current directory (/kaggle/working/) that gets preserved as output when you create a version using \"Save & Run All\" \n",
    "# You can also write temporary files to /kaggle/temp/, but they won't be saved outside of the current session"
   ]
  },
  {
   "cell_type": "code",
   "execution_count": 2,
   "id": "96c61a4e",
   "metadata": {
    "execution": {
     "iopub.execute_input": "2023-04-30T09:05:51.265090Z",
     "iopub.status.busy": "2023-04-30T09:05:51.264269Z",
     "iopub.status.idle": "2023-04-30T09:05:52.866756Z",
     "shell.execute_reply": "2023-04-30T09:05:52.865280Z"
    },
    "papermill": {
     "duration": 1.613108,
     "end_time": "2023-04-30T09:05:52.869726",
     "exception": false,
     "start_time": "2023-04-30T09:05:51.256618",
     "status": "completed"
    },
    "tags": []
   },
   "outputs": [],
   "source": [
    "from sklearn.model_selection import train_test_split\n",
    "from sklearn.tree import DecisionTreeClassifier\n",
    "from sklearn.metrics import accuracy_score\n",
    "from sklearn.datasets import make_classification\n",
    "from sklearn.ensemble import BaggingClassifier\n",
    "from sklearn.svm import SVC"
   ]
  },
  {
   "cell_type": "code",
   "execution_count": 3,
   "id": "8999e663",
   "metadata": {
    "execution": {
     "iopub.execute_input": "2023-04-30T09:05:52.885288Z",
     "iopub.status.busy": "2023-04-30T09:05:52.884503Z",
     "iopub.status.idle": "2023-04-30T09:05:52.907171Z",
     "shell.execute_reply": "2023-04-30T09:05:52.905598Z"
    },
    "papermill": {
     "duration": 0.033895,
     "end_time": "2023-04-30T09:05:52.910392",
     "exception": false,
     "start_time": "2023-04-30T09:05:52.876497",
     "status": "completed"
    },
    "tags": []
   },
   "outputs": [],
   "source": [
    "X,Y = make_classification(n_samples = 10000,n_features=10,n_informative=3)\n"
   ]
  },
  {
   "cell_type": "code",
   "execution_count": 4,
   "id": "0ca69d60",
   "metadata": {
    "execution": {
     "iopub.execute_input": "2023-04-30T09:05:52.925843Z",
     "iopub.status.busy": "2023-04-30T09:05:52.925026Z",
     "iopub.status.idle": "2023-04-30T09:05:52.932390Z",
     "shell.execute_reply": "2023-04-30T09:05:52.931249Z"
    },
    "papermill": {
     "duration": 0.017595,
     "end_time": "2023-04-30T09:05:52.934731",
     "exception": false,
     "start_time": "2023-04-30T09:05:52.917136",
     "status": "completed"
    },
    "tags": []
   },
   "outputs": [],
   "source": [
    "X_train,X_test,Y_train,Y_test = train_test_split(X,Y,test_size=0.2,random_state=42)"
   ]
  },
  {
   "cell_type": "code",
   "execution_count": 5,
   "id": "47864194",
   "metadata": {
    "execution": {
     "iopub.execute_input": "2023-04-30T09:05:52.949639Z",
     "iopub.status.busy": "2023-04-30T09:05:52.949228Z",
     "iopub.status.idle": "2023-04-30T09:05:52.957257Z",
     "shell.execute_reply": "2023-04-30T09:05:52.956033Z"
    },
    "papermill": {
     "duration": 0.019134,
     "end_time": "2023-04-30T09:05:52.960497",
     "exception": false,
     "start_time": "2023-04-30T09:05:52.941363",
     "status": "completed"
    },
    "tags": []
   },
   "outputs": [
    {
     "data": {
      "text/plain": [
       "((8000, 10), (8000,))"
      ]
     },
     "execution_count": 5,
     "metadata": {},
     "output_type": "execute_result"
    }
   ],
   "source": [
    "X_train.shape,Y_train.shape"
   ]
  },
  {
   "cell_type": "code",
   "execution_count": 6,
   "id": "a415c25e",
   "metadata": {
    "execution": {
     "iopub.execute_input": "2023-04-30T09:05:52.976524Z",
     "iopub.status.busy": "2023-04-30T09:05:52.975534Z",
     "iopub.status.idle": "2023-04-30T09:05:53.115850Z",
     "shell.execute_reply": "2023-04-30T09:05:53.114380Z"
    },
    "papermill": {
     "duration": 0.151219,
     "end_time": "2023-04-30T09:05:53.118666",
     "exception": false,
     "start_time": "2023-04-30T09:05:52.967447",
     "status": "completed"
    },
    "tags": []
   },
   "outputs": [
    {
     "name": "stdout",
     "output_type": "stream",
     "text": [
      "0.9525\n"
     ]
    }
   ],
   "source": [
    "dt = DecisionTreeClassifier(random_state=42)\n",
    "dt.fit(X_train,Y_train)\n",
    "y_pred = dt.predict(X_test)\n",
    "print(accuracy_score(Y_test,y_pred))"
   ]
  },
  {
   "cell_type": "markdown",
   "id": "f7175b52",
   "metadata": {
    "papermill": {
     "duration": 0.006454,
     "end_time": "2023-04-30T09:05:53.131945",
     "exception": false,
     "start_time": "2023-04-30T09:05:53.125491",
     "status": "completed"
    },
    "tags": []
   },
   "source": [
    "# Bagging"
   ]
  },
  {
   "cell_type": "code",
   "execution_count": 7,
   "id": "8a9c45c6",
   "metadata": {
    "execution": {
     "iopub.execute_input": "2023-04-30T09:05:53.147533Z",
     "iopub.status.busy": "2023-04-30T09:05:53.146735Z",
     "iopub.status.idle": "2023-04-30T09:05:53.151789Z",
     "shell.execute_reply": "2023-04-30T09:05:53.150897Z"
    },
    "papermill": {
     "duration": 0.015279,
     "end_time": "2023-04-30T09:05:53.153948",
     "exception": false,
     "start_time": "2023-04-30T09:05:53.138669",
     "status": "completed"
    },
    "tags": []
   },
   "outputs": [],
   "source": [
    "bag = BaggingClassifier(\n",
    "    base_estimator=DecisionTreeClassifier(),\n",
    "    n_estimators =500,\n",
    "    max_samples=0.25,\n",
    "    bootstrap=True,\n",
    "    random_state=42\n",
    ")"
   ]
  },
  {
   "cell_type": "code",
   "execution_count": 8,
   "id": "ef1af2de",
   "metadata": {
    "execution": {
     "iopub.execute_input": "2023-04-30T09:05:53.169930Z",
     "iopub.status.busy": "2023-04-30T09:05:53.169511Z",
     "iopub.status.idle": "2023-04-30T09:06:02.778682Z",
     "shell.execute_reply": "2023-04-30T09:06:02.777424Z"
    },
    "papermill": {
     "duration": 9.620613,
     "end_time": "2023-04-30T09:06:02.781181",
     "exception": false,
     "start_time": "2023-04-30T09:05:53.160568",
     "status": "completed"
    },
    "tags": []
   },
   "outputs": [
    {
     "data": {
      "text/plain": [
       "BaggingClassifier(base_estimator=DecisionTreeClassifier(), max_samples=0.25,\n",
       "                  n_estimators=500, random_state=42)"
      ]
     },
     "execution_count": 8,
     "metadata": {},
     "output_type": "execute_result"
    }
   ],
   "source": [
    "bag.fit(X_train,Y_train)"
   ]
  },
  {
   "cell_type": "code",
   "execution_count": 9,
   "id": "1190ccaf",
   "metadata": {
    "execution": {
     "iopub.execute_input": "2023-04-30T09:06:02.797889Z",
     "iopub.status.busy": "2023-04-30T09:06:02.797467Z",
     "iopub.status.idle": "2023-04-30T09:06:02.999663Z",
     "shell.execute_reply": "2023-04-30T09:06:02.998441Z"
    },
    "papermill": {
     "duration": 0.214459,
     "end_time": "2023-04-30T09:06:03.002860",
     "exception": false,
     "start_time": "2023-04-30T09:06:02.788401",
     "status": "completed"
    },
    "tags": []
   },
   "outputs": [
    {
     "data": {
      "text/plain": [
       "0.966"
      ]
     },
     "execution_count": 9,
     "metadata": {},
     "output_type": "execute_result"
    }
   ],
   "source": [
    "y_pred1 = bag.predict(X_test)\n",
    "accuracy_score(Y_test,y_pred1)"
   ]
  },
  {
   "cell_type": "code",
   "execution_count": 10,
   "id": "c765740c",
   "metadata": {
    "execution": {
     "iopub.execute_input": "2023-04-30T09:06:03.027374Z",
     "iopub.status.busy": "2023-04-30T09:06:03.026706Z",
     "iopub.status.idle": "2023-04-30T09:06:03.159648Z",
     "shell.execute_reply": "2023-04-30T09:06:03.158589Z"
    },
    "papermill": {
     "duration": 0.146432,
     "end_time": "2023-04-30T09:06:03.162168",
     "exception": false,
     "start_time": "2023-04-30T09:06:03.015736",
     "status": "completed"
    },
    "tags": []
   },
   "outputs": [
    {
     "data": {
      "text/plain": [
       "(2000,)"
      ]
     },
     "execution_count": 10,
     "metadata": {},
     "output_type": "execute_result"
    }
   ],
   "source": [
    "bag.estimators_samples_[0].shape"
   ]
  },
  {
   "cell_type": "code",
   "execution_count": 11,
   "id": "0db49503",
   "metadata": {
    "execution": {
     "iopub.execute_input": "2023-04-30T09:06:03.178519Z",
     "iopub.status.busy": "2023-04-30T09:06:03.178082Z",
     "iopub.status.idle": "2023-04-30T09:06:03.185582Z",
     "shell.execute_reply": "2023-04-30T09:06:03.184421Z"
    },
    "papermill": {
     "duration": 0.018742,
     "end_time": "2023-04-30T09:06:03.188111",
     "exception": false,
     "start_time": "2023-04-30T09:06:03.169369",
     "status": "completed"
    },
    "tags": []
   },
   "outputs": [
    {
     "data": {
      "text/plain": [
       "(10,)"
      ]
     },
     "execution_count": 11,
     "metadata": {},
     "output_type": "execute_result"
    }
   ],
   "source": [
    "bag.estimators_features_[0].shape"
   ]
  },
  {
   "cell_type": "markdown",
   "id": "f7a1dfa0",
   "metadata": {
    "papermill": {
     "duration": 0.00685,
     "end_time": "2023-04-30T09:06:03.202484",
     "exception": false,
     "start_time": "2023-04-30T09:06:03.195634",
     "status": "completed"
    },
    "tags": []
   },
   "source": [
    "# Using SVM"
   ]
  },
  {
   "cell_type": "code",
   "execution_count": 12,
   "id": "4056200f",
   "metadata": {
    "execution": {
     "iopub.execute_input": "2023-04-30T09:06:03.218697Z",
     "iopub.status.busy": "2023-04-30T09:06:03.218027Z",
     "iopub.status.idle": "2023-04-30T09:06:03.224179Z",
     "shell.execute_reply": "2023-04-30T09:06:03.223087Z"
    },
    "papermill": {
     "duration": 0.017098,
     "end_time": "2023-04-30T09:06:03.226661",
     "exception": false,
     "start_time": "2023-04-30T09:06:03.209563",
     "status": "completed"
    },
    "tags": []
   },
   "outputs": [],
   "source": [
    "bag1= BaggingClassifier(\n",
    "    base_estimator = SVC(),\n",
    "    n_estimators= 300,\n",
    "    max_samples = 0.30,\n",
    "    bootstrap = True,\n",
    "    random_state=42,\n",
    "    n_jobs = -1\n",
    ")"
   ]
  },
  {
   "cell_type": "code",
   "execution_count": 13,
   "id": "f6755f9a",
   "metadata": {
    "execution": {
     "iopub.execute_input": "2023-04-30T09:06:03.243325Z",
     "iopub.status.busy": "2023-04-30T09:06:03.242526Z",
     "iopub.status.idle": "2023-04-30T09:06:11.824702Z",
     "shell.execute_reply": "2023-04-30T09:06:11.823537Z"
    },
    "papermill": {
     "duration": 8.593586,
     "end_time": "2023-04-30T09:06:11.827671",
     "exception": false,
     "start_time": "2023-04-30T09:06:03.234085",
     "status": "completed"
    },
    "tags": []
   },
   "outputs": [
    {
     "data": {
      "text/plain": [
       "BaggingClassifier(base_estimator=SVC(), max_samples=0.3, n_estimators=300,\n",
       "                  n_jobs=-1, random_state=42)"
      ]
     },
     "execution_count": 13,
     "metadata": {},
     "output_type": "execute_result"
    }
   ],
   "source": [
    "bag1.fit(X_train,Y_train)"
   ]
  },
  {
   "cell_type": "code",
   "execution_count": 14,
   "id": "eafd8469",
   "metadata": {
    "execution": {
     "iopub.execute_input": "2023-04-30T09:06:11.845413Z",
     "iopub.status.busy": "2023-04-30T09:06:11.844721Z",
     "iopub.status.idle": "2023-04-30T09:06:18.616569Z",
     "shell.execute_reply": "2023-04-30T09:06:18.615300Z"
    },
    "papermill": {
     "duration": 6.783617,
     "end_time": "2023-04-30T09:06:18.618997",
     "exception": false,
     "start_time": "2023-04-30T09:06:11.835380",
     "status": "completed"
    },
    "tags": []
   },
   "outputs": [
    {
     "data": {
      "text/plain": [
       "0.963"
      ]
     },
     "execution_count": 14,
     "metadata": {},
     "output_type": "execute_result"
    }
   ],
   "source": [
    "y_pred2 = bag1.predict(X_test)\n",
    "accuracy_score(Y_test,y_pred2)"
   ]
  },
  {
   "cell_type": "code",
   "execution_count": 15,
   "id": "382e38dc",
   "metadata": {
    "execution": {
     "iopub.execute_input": "2023-04-30T09:06:18.636403Z",
     "iopub.status.busy": "2023-04-30T09:06:18.635605Z",
     "iopub.status.idle": "2023-04-30T09:06:18.642994Z",
     "shell.execute_reply": "2023-04-30T09:06:18.642048Z"
    },
    "papermill": {
     "duration": 0.018843,
     "end_time": "2023-04-30T09:06:18.645318",
     "exception": false,
     "start_time": "2023-04-30T09:06:18.626475",
     "status": "completed"
    },
    "tags": []
   },
   "outputs": [
    {
     "data": {
      "text/plain": [
       "(10,)"
      ]
     },
     "execution_count": 15,
     "metadata": {},
     "output_type": "execute_result"
    }
   ],
   "source": [
    "bag1.estimators_features_[0].shape"
   ]
  },
  {
   "cell_type": "code",
   "execution_count": 16,
   "id": "7d723d14",
   "metadata": {
    "execution": {
     "iopub.execute_input": "2023-04-30T09:06:18.663031Z",
     "iopub.status.busy": "2023-04-30T09:06:18.662157Z",
     "iopub.status.idle": "2023-04-30T09:06:18.741915Z",
     "shell.execute_reply": "2023-04-30T09:06:18.740510Z"
    },
    "papermill": {
     "duration": 0.091963,
     "end_time": "2023-04-30T09:06:18.744826",
     "exception": false,
     "start_time": "2023-04-30T09:06:18.652863",
     "status": "completed"
    },
    "tags": []
   },
   "outputs": [
    {
     "data": {
      "text/plain": [
       "(2400,)"
      ]
     },
     "execution_count": 16,
     "metadata": {},
     "output_type": "execute_result"
    }
   ],
   "source": [
    "bag1.estimators_samples_[0].shape"
   ]
  },
  {
   "cell_type": "markdown",
   "id": "eff066cd",
   "metadata": {
    "papermill": {
     "duration": 0.00731,
     "end_time": "2023-04-30T09:06:18.759845",
     "exception": false,
     "start_time": "2023-04-30T09:06:18.752535",
     "status": "completed"
    },
    "tags": []
   },
   "source": [
    "# Pasting Using DecisionTree"
   ]
  },
  {
   "cell_type": "code",
   "execution_count": 17,
   "id": "50d49e9e",
   "metadata": {
    "execution": {
     "iopub.execute_input": "2023-04-30T09:06:18.777167Z",
     "iopub.status.busy": "2023-04-30T09:06:18.776294Z",
     "iopub.status.idle": "2023-04-30T09:06:18.782412Z",
     "shell.execute_reply": "2023-04-30T09:06:18.781159Z"
    },
    "papermill": {
     "duration": 0.017334,
     "end_time": "2023-04-30T09:06:18.784753",
     "exception": false,
     "start_time": "2023-04-30T09:06:18.767419",
     "status": "completed"
    },
    "tags": []
   },
   "outputs": [],
   "source": [
    "bag2 = BaggingClassifier(\n",
    "    base_estimator=DecisionTreeClassifier(),\n",
    "    n_estimators =500,\n",
    "    max_samples=0.25,\n",
    "    bootstrap=False,\n",
    "    random_state=42,\n",
    "    verbose = 1,\n",
    "    n_jobs = -1\n",
    ")"
   ]
  },
  {
   "cell_type": "code",
   "execution_count": 18,
   "id": "47964785",
   "metadata": {
    "execution": {
     "iopub.execute_input": "2023-04-30T09:06:18.802178Z",
     "iopub.status.busy": "2023-04-30T09:06:18.801352Z",
     "iopub.status.idle": "2023-04-30T09:06:22.760932Z",
     "shell.execute_reply": "2023-04-30T09:06:22.759844Z"
    },
    "papermill": {
     "duration": 3.971282,
     "end_time": "2023-04-30T09:06:22.763561",
     "exception": false,
     "start_time": "2023-04-30T09:06:18.792279",
     "status": "completed"
    },
    "tags": []
   },
   "outputs": [
    {
     "name": "stderr",
     "output_type": "stream",
     "text": [
      "[Parallel(n_jobs=4)]: Using backend LokyBackend with 4 concurrent workers.\n",
      "[Parallel(n_jobs=4)]: Done   2 out of   4 | elapsed:    3.9s remaining:    3.9s\n",
      "[Parallel(n_jobs=4)]: Done   4 out of   4 | elapsed:    3.9s finished\n"
     ]
    },
    {
     "data": {
      "text/plain": [
       "BaggingClassifier(base_estimator=DecisionTreeClassifier(), bootstrap=False,\n",
       "                  max_samples=0.25, n_estimators=500, n_jobs=-1,\n",
       "                  random_state=42, verbose=1)"
      ]
     },
     "execution_count": 18,
     "metadata": {},
     "output_type": "execute_result"
    }
   ],
   "source": [
    "bag2.fit(X_train,Y_train)"
   ]
  },
  {
   "cell_type": "code",
   "execution_count": 19,
   "id": "34937ea0",
   "metadata": {
    "execution": {
     "iopub.execute_input": "2023-04-30T09:06:22.781296Z",
     "iopub.status.busy": "2023-04-30T09:06:22.780886Z",
     "iopub.status.idle": "2023-04-30T09:06:23.197819Z",
     "shell.execute_reply": "2023-04-30T09:06:23.196544Z"
    },
    "papermill": {
     "duration": 0.428781,
     "end_time": "2023-04-30T09:06:23.200320",
     "exception": false,
     "start_time": "2023-04-30T09:06:22.771539",
     "status": "completed"
    },
    "tags": []
   },
   "outputs": [
    {
     "name": "stderr",
     "output_type": "stream",
     "text": [
      "[Parallel(n_jobs=4)]: Using backend LokyBackend with 4 concurrent workers.\n",
      "[Parallel(n_jobs=4)]: Done   2 out of   4 | elapsed:    0.2s remaining:    0.2s\n",
      "[Parallel(n_jobs=4)]: Done   4 out of   4 | elapsed:    0.4s finished\n"
     ]
    },
    {
     "data": {
      "text/plain": [
       "0.968"
      ]
     },
     "execution_count": 19,
     "metadata": {},
     "output_type": "execute_result"
    }
   ],
   "source": [
    "y_pred3 = bag2.predict(X_test)\n",
    "accuracy_score(Y_test,y_pred3)"
   ]
  },
  {
   "cell_type": "markdown",
   "id": "f2f3f456",
   "metadata": {
    "papermill": {
     "duration": 0.007973,
     "end_time": "2023-04-30T09:06:23.216371",
     "exception": false,
     "start_time": "2023-04-30T09:06:23.208398",
     "status": "completed"
    },
    "tags": []
   },
   "source": [
    "# Random Subspaces"
   ]
  },
  {
   "cell_type": "code",
   "execution_count": 20,
   "id": "a4cb44c4",
   "metadata": {
    "execution": {
     "iopub.execute_input": "2023-04-30T09:06:23.235512Z",
     "iopub.status.busy": "2023-04-30T09:06:23.234412Z",
     "iopub.status.idle": "2023-04-30T09:06:23.240740Z",
     "shell.execute_reply": "2023-04-30T09:06:23.239497Z"
    },
    "papermill": {
     "duration": 0.01887,
     "end_time": "2023-04-30T09:06:23.243439",
     "exception": false,
     "start_time": "2023-04-30T09:06:23.224569",
     "status": "completed"
    },
    "tags": []
   },
   "outputs": [],
   "source": [
    "bag3 = BaggingClassifier(\n",
    "    base_estimator=DecisionTreeClassifier(),\n",
    "    n_estimators =500,\n",
    "    max_samples=1.0,\n",
    "    bootstrap=False,\n",
    "    max_features = 0.5,\n",
    "    bootstrap_features=True,\n",
    "    random_state=42,\n",
    "    n_jobs = -1\n",
    ")"
   ]
  },
  {
   "cell_type": "code",
   "execution_count": 21,
   "id": "cee09a8a",
   "metadata": {
    "execution": {
     "iopub.execute_input": "2023-04-30T09:06:23.263525Z",
     "iopub.status.busy": "2023-04-30T09:06:23.262526Z",
     "iopub.status.idle": "2023-04-30T09:06:35.593822Z",
     "shell.execute_reply": "2023-04-30T09:06:35.592301Z"
    },
    "papermill": {
     "duration": 12.344754,
     "end_time": "2023-04-30T09:06:35.596982",
     "exception": false,
     "start_time": "2023-04-30T09:06:23.252228",
     "status": "completed"
    },
    "tags": []
   },
   "outputs": [
    {
     "data": {
      "text/plain": [
       "BaggingClassifier(base_estimator=DecisionTreeClassifier(), bootstrap=False,\n",
       "                  bootstrap_features=True, max_features=0.5, n_estimators=500,\n",
       "                  n_jobs=-1, random_state=42)"
      ]
     },
     "execution_count": 21,
     "metadata": {},
     "output_type": "execute_result"
    }
   ],
   "source": [
    "bag3.fit(X_train,Y_train)"
   ]
  },
  {
   "cell_type": "code",
   "execution_count": 22,
   "id": "e29e3c33",
   "metadata": {
    "execution": {
     "iopub.execute_input": "2023-04-30T09:06:35.617230Z",
     "iopub.status.busy": "2023-04-30T09:06:35.615916Z",
     "iopub.status.idle": "2023-04-30T09:06:36.282874Z",
     "shell.execute_reply": "2023-04-30T09:06:36.281549Z"
    },
    "papermill": {
     "duration": 0.679892,
     "end_time": "2023-04-30T09:06:36.285702",
     "exception": false,
     "start_time": "2023-04-30T09:06:35.605810",
     "status": "completed"
    },
    "tags": []
   },
   "outputs": [
    {
     "data": {
      "text/plain": [
       "0.969"
      ]
     },
     "execution_count": 22,
     "metadata": {},
     "output_type": "execute_result"
    }
   ],
   "source": [
    "y_pred3 = bag3.predict(X_test)\n",
    "accuracy_score(Y_test,y_pred3)"
   ]
  },
  {
   "cell_type": "code",
   "execution_count": null,
   "id": "c34e53e3",
   "metadata": {
    "papermill": {
     "duration": 0.008256,
     "end_time": "2023-04-30T09:06:36.302649",
     "exception": false,
     "start_time": "2023-04-30T09:06:36.294393",
     "status": "completed"
    },
    "tags": []
   },
   "outputs": [],
   "source": []
  }
 ],
 "metadata": {
  "kernelspec": {
   "display_name": "Python 3",
   "language": "python",
   "name": "python3"
  },
  "language_info": {
   "codemirror_mode": {
    "name": "ipython",
    "version": 3
   },
   "file_extension": ".py",
   "mimetype": "text/x-python",
   "name": "python",
   "nbconvert_exporter": "python",
   "pygments_lexer": "ipython3",
   "version": "3.7.12"
  },
  "papermill": {
   "default_parameters": {},
   "duration": 57.725031,
   "end_time": "2023-04-30T09:06:38.933483",
   "environment_variables": {},
   "exception": null,
   "input_path": "__notebook__.ipynb",
   "output_path": "__notebook__.ipynb",
   "parameters": {},
   "start_time": "2023-04-30T09:05:41.208452",
   "version": "2.4.0"
  }
 },
 "nbformat": 4,
 "nbformat_minor": 5
}
