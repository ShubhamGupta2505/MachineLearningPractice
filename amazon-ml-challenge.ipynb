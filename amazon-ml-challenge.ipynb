{
 "cells": [
  {
   "cell_type": "code",
   "execution_count": 1,
   "id": "6695bf3c",
   "metadata": {
    "_cell_guid": "b1076dfc-b9ad-4769-8c92-a6c4dae69d19",
    "_uuid": "8f2839f25d086af736a60e9eeb907d3b93b6e0e5",
    "execution": {
     "iopub.execute_input": "2023-04-21T10:57:45.564449Z",
     "iopub.status.busy": "2023-04-21T10:57:45.563601Z",
     "iopub.status.idle": "2023-04-21T10:57:45.581778Z",
     "shell.execute_reply": "2023-04-21T10:57:45.580136Z"
    },
    "papermill": {
     "duration": 0.027216,
     "end_time": "2023-04-21T10:57:45.584221",
     "exception": false,
     "start_time": "2023-04-21T10:57:45.557005",
     "status": "completed"
    },
    "tags": []
   },
   "outputs": [
    {
     "name": "stdout",
     "output_type": "stream",
     "text": [
      "/kaggle/input/amazon-ml-challenge/sample_submission.csv\n",
      "/kaggle/input/amazon-ml-challenge/train.csv\n",
      "/kaggle/input/amazon-ml-challenge/test.csv\n"
     ]
    }
   ],
   "source": [
    "# This Python 3 environment comes with many helpful analytics libraries installed\n",
    "# It is defined by the kaggle/python Docker image: https://github.com/kaggle/docker-python\n",
    "# For example, here's several helpful packages to load\n",
    "\n",
    "import numpy as np # linear algebra\n",
    "import pandas as pd # data processing, CSV file I/O (e.g. pd.read_csv)\n",
    "\n",
    "# Input data files are available in the read-only \"../input/\" directory\n",
    "# For example, running this (by clicking run or pressing Shift+Enter) will list all files under the input directory\n",
    "\n",
    "import os\n",
    "for dirname, _, filenames in os.walk('/kaggle/input'):\n",
    "    for filename in filenames:\n",
    "        print(os.path.join(dirname, filename))\n",
    "\n",
    "# You can write up to 20GB to the current directory (/kaggle/working/) that gets preserved as output when you create a version using \"Save & Run All\" \n",
    "# You can also write temporary files to /kaggle/temp/, but they won't be saved outside of the current session"
   ]
  },
  {
   "cell_type": "code",
   "execution_count": 2,
   "id": "fa608234",
   "metadata": {
    "execution": {
     "iopub.execute_input": "2023-04-21T10:57:45.593202Z",
     "iopub.status.busy": "2023-04-21T10:57:45.592886Z",
     "iopub.status.idle": "2023-04-21T10:58:40.008976Z",
     "shell.execute_reply": "2023-04-21T10:58:40.007806Z"
    },
    "papermill": {
     "duration": 54.423662,
     "end_time": "2023-04-21T10:58:40.011882",
     "exception": false,
     "start_time": "2023-04-21T10:57:45.588220",
     "status": "completed"
    },
    "tags": []
   },
   "outputs": [],
   "source": [
    "train = pd.read_csv('/kaggle/input/amazon-ml-challenge/train.csv')\n",
    "test = pd.read_csv('/kaggle/input/amazon-ml-challenge/test.csv')"
   ]
  },
  {
   "cell_type": "code",
   "execution_count": 3,
   "id": "4884c3e5",
   "metadata": {
    "execution": {
     "iopub.execute_input": "2023-04-21T10:58:40.021636Z",
     "iopub.status.busy": "2023-04-21T10:58:40.021293Z",
     "iopub.status.idle": "2023-04-21T10:58:40.043404Z",
     "shell.execute_reply": "2023-04-21T10:58:40.042417Z"
    },
    "papermill": {
     "duration": 0.029404,
     "end_time": "2023-04-21T10:58:40.045654",
     "exception": false,
     "start_time": "2023-04-21T10:58:40.016250",
     "status": "completed"
    },
    "tags": []
   },
   "outputs": [
    {
     "data": {
      "text/html": [
       "<div>\n",
       "<style scoped>\n",
       "    .dataframe tbody tr th:only-of-type {\n",
       "        vertical-align: middle;\n",
       "    }\n",
       "\n",
       "    .dataframe tbody tr th {\n",
       "        vertical-align: top;\n",
       "    }\n",
       "\n",
       "    .dataframe thead th {\n",
       "        text-align: right;\n",
       "    }\n",
       "</style>\n",
       "<table border=\"1\" class=\"dataframe\">\n",
       "  <thead>\n",
       "    <tr style=\"text-align: right;\">\n",
       "      <th></th>\n",
       "      <th>PRODUCT_ID</th>\n",
       "      <th>TITLE</th>\n",
       "      <th>BULLET_POINTS</th>\n",
       "      <th>DESCRIPTION</th>\n",
       "      <th>PRODUCT_TYPE_ID</th>\n",
       "      <th>PRODUCT_LENGTH</th>\n",
       "    </tr>\n",
       "  </thead>\n",
       "  <tbody>\n",
       "    <tr>\n",
       "      <th>0</th>\n",
       "      <td>1925202</td>\n",
       "      <td>ArtzFolio Tulip Flowers Blackout Curtain for D...</td>\n",
       "      <td>[LUXURIOUS &amp; APPEALING: Beautiful custom-made ...</td>\n",
       "      <td>NaN</td>\n",
       "      <td>1650</td>\n",
       "      <td>2125.980000</td>\n",
       "    </tr>\n",
       "    <tr>\n",
       "      <th>1</th>\n",
       "      <td>2673191</td>\n",
       "      <td>Marks &amp; Spencer Girls' Pyjama Sets T86_2561C_N...</td>\n",
       "      <td>[Harry Potter Hedwig Pyjamas (6-16 Yrs),100% c...</td>\n",
       "      <td>NaN</td>\n",
       "      <td>2755</td>\n",
       "      <td>393.700000</td>\n",
       "    </tr>\n",
       "    <tr>\n",
       "      <th>2</th>\n",
       "      <td>2765088</td>\n",
       "      <td>PRIKNIK Horn Red Electric Air Horn Compressor ...</td>\n",
       "      <td>[Loud Dual Tone Trumpet Horn, Compatible With ...</td>\n",
       "      <td>Specifications: Color: Red, Material: Aluminiu...</td>\n",
       "      <td>7537</td>\n",
       "      <td>748.031495</td>\n",
       "    </tr>\n",
       "    <tr>\n",
       "      <th>3</th>\n",
       "      <td>1594019</td>\n",
       "      <td>ALISHAH Women's Cotton Ankle Length Leggings C...</td>\n",
       "      <td>[Made By 95%cotton and 5% Lycra which gives yo...</td>\n",
       "      <td>AISHAH Women's Lycra Cotton Ankel Leggings. Br...</td>\n",
       "      <td>2996</td>\n",
       "      <td>787.401574</td>\n",
       "    </tr>\n",
       "    <tr>\n",
       "      <th>4</th>\n",
       "      <td>283658</td>\n",
       "      <td>The United Empire Loyalists: A Chronicle of th...</td>\n",
       "      <td>NaN</td>\n",
       "      <td>NaN</td>\n",
       "      <td>6112</td>\n",
       "      <td>598.424000</td>\n",
       "    </tr>\n",
       "    <tr>\n",
       "      <th>5</th>\n",
       "      <td>2152929</td>\n",
       "      <td>HINS Metal Bucket Shape Plant Pot for Indoor &amp;...</td>\n",
       "      <td>[Simple and elegant, great for displaying indo...</td>\n",
       "      <td>HINS Brings you the most Elegant Looking Pot w...</td>\n",
       "      <td>5725</td>\n",
       "      <td>950.000000</td>\n",
       "    </tr>\n",
       "    <tr>\n",
       "      <th>6</th>\n",
       "      <td>413758</td>\n",
       "      <td>Ungifted: My Life and Journey</td>\n",
       "      <td>NaN</td>\n",
       "      <td>NaN</td>\n",
       "      <td>23</td>\n",
       "      <td>598.000000</td>\n",
       "    </tr>\n",
       "    <tr>\n",
       "      <th>7</th>\n",
       "      <td>2026580</td>\n",
       "      <td>Delavala Self Adhesive Kitchen Backsplash Wall...</td>\n",
       "      <td>[HIGH QUALITY PVC MATERIAL: The kitchen alumin...</td>\n",
       "      <td>&lt;p&gt;&lt;strong&gt;Aluminum Foil Stickers-good kitchen...</td>\n",
       "      <td>6030</td>\n",
       "      <td>984.251967</td>\n",
       "    </tr>\n",
       "    <tr>\n",
       "      <th>8</th>\n",
       "      <td>2050239</td>\n",
       "      <td>PUMA Cali Sport Clean Women's Sneakers White L...</td>\n",
       "      <td>[Style Name:-Cali Sport Clean Women's Sneakers...</td>\n",
       "      <td>NaN</td>\n",
       "      <td>3302</td>\n",
       "      <td>393.700000</td>\n",
       "    </tr>\n",
       "    <tr>\n",
       "      <th>9</th>\n",
       "      <td>2998633</td>\n",
       "      <td>Hexwell Essential oil for Home Fragrance Oil A...</td>\n",
       "      <td>[100% Pure And Natural Essential Oil Or Fragra...</td>\n",
       "      <td>Transform your home, workplace or hotel room i...</td>\n",
       "      <td>8201</td>\n",
       "      <td>393.700787</td>\n",
       "    </tr>\n",
       "  </tbody>\n",
       "</table>\n",
       "</div>"
      ],
      "text/plain": [
       "   PRODUCT_ID                                              TITLE  \\\n",
       "0     1925202  ArtzFolio Tulip Flowers Blackout Curtain for D...   \n",
       "1     2673191  Marks & Spencer Girls' Pyjama Sets T86_2561C_N...   \n",
       "2     2765088  PRIKNIK Horn Red Electric Air Horn Compressor ...   \n",
       "3     1594019  ALISHAH Women's Cotton Ankle Length Leggings C...   \n",
       "4      283658  The United Empire Loyalists: A Chronicle of th...   \n",
       "5     2152929  HINS Metal Bucket Shape Plant Pot for Indoor &...   \n",
       "6      413758                      Ungifted: My Life and Journey   \n",
       "7     2026580  Delavala Self Adhesive Kitchen Backsplash Wall...   \n",
       "8     2050239  PUMA Cali Sport Clean Women's Sneakers White L...   \n",
       "9     2998633  Hexwell Essential oil for Home Fragrance Oil A...   \n",
       "\n",
       "                                       BULLET_POINTS  \\\n",
       "0  [LUXURIOUS & APPEALING: Beautiful custom-made ...   \n",
       "1  [Harry Potter Hedwig Pyjamas (6-16 Yrs),100% c...   \n",
       "2  [Loud Dual Tone Trumpet Horn, Compatible With ...   \n",
       "3  [Made By 95%cotton and 5% Lycra which gives yo...   \n",
       "4                                                NaN   \n",
       "5  [Simple and elegant, great for displaying indo...   \n",
       "6                                                NaN   \n",
       "7  [HIGH QUALITY PVC MATERIAL: The kitchen alumin...   \n",
       "8  [Style Name:-Cali Sport Clean Women's Sneakers...   \n",
       "9  [100% Pure And Natural Essential Oil Or Fragra...   \n",
       "\n",
       "                                         DESCRIPTION  PRODUCT_TYPE_ID  \\\n",
       "0                                                NaN             1650   \n",
       "1                                                NaN             2755   \n",
       "2  Specifications: Color: Red, Material: Aluminiu...             7537   \n",
       "3  AISHAH Women's Lycra Cotton Ankel Leggings. Br...             2996   \n",
       "4                                                NaN             6112   \n",
       "5  HINS Brings you the most Elegant Looking Pot w...             5725   \n",
       "6                                                NaN               23   \n",
       "7  <p><strong>Aluminum Foil Stickers-good kitchen...             6030   \n",
       "8                                                NaN             3302   \n",
       "9  Transform your home, workplace or hotel room i...             8201   \n",
       "\n",
       "   PRODUCT_LENGTH  \n",
       "0     2125.980000  \n",
       "1      393.700000  \n",
       "2      748.031495  \n",
       "3      787.401574  \n",
       "4      598.424000  \n",
       "5      950.000000  \n",
       "6      598.000000  \n",
       "7      984.251967  \n",
       "8      393.700000  \n",
       "9      393.700787  "
      ]
     },
     "execution_count": 3,
     "metadata": {},
     "output_type": "execute_result"
    }
   ],
   "source": [
    "train.head(10)"
   ]
  },
  {
   "cell_type": "code",
   "execution_count": 4,
   "id": "3eb9b54c",
   "metadata": {
    "execution": {
     "iopub.execute_input": "2023-04-21T10:58:40.056364Z",
     "iopub.status.busy": "2023-04-21T10:58:40.055819Z",
     "iopub.status.idle": "2023-04-21T10:58:40.068534Z",
     "shell.execute_reply": "2023-04-21T10:58:40.067319Z"
    },
    "papermill": {
     "duration": 0.02037,
     "end_time": "2023-04-21T10:58:40.070670",
     "exception": false,
     "start_time": "2023-04-21T10:58:40.050300",
     "status": "completed"
    },
    "tags": []
   },
   "outputs": [
    {
     "data": {
      "text/html": [
       "<div>\n",
       "<style scoped>\n",
       "    .dataframe tbody tr th:only-of-type {\n",
       "        vertical-align: middle;\n",
       "    }\n",
       "\n",
       "    .dataframe tbody tr th {\n",
       "        vertical-align: top;\n",
       "    }\n",
       "\n",
       "    .dataframe thead th {\n",
       "        text-align: right;\n",
       "    }\n",
       "</style>\n",
       "<table border=\"1\" class=\"dataframe\">\n",
       "  <thead>\n",
       "    <tr style=\"text-align: right;\">\n",
       "      <th></th>\n",
       "      <th>PRODUCT_ID</th>\n",
       "      <th>TITLE</th>\n",
       "      <th>BULLET_POINTS</th>\n",
       "      <th>DESCRIPTION</th>\n",
       "      <th>PRODUCT_TYPE_ID</th>\n",
       "    </tr>\n",
       "  </thead>\n",
       "  <tbody>\n",
       "    <tr>\n",
       "      <th>0</th>\n",
       "      <td>604373</td>\n",
       "      <td>Manuel d'Héliogravure Et de Photogravure En Re...</td>\n",
       "      <td>NaN</td>\n",
       "      <td>NaN</td>\n",
       "      <td>6142</td>\n",
       "    </tr>\n",
       "    <tr>\n",
       "      <th>1</th>\n",
       "      <td>1729783</td>\n",
       "      <td>DCGARING Microfiber Throw Blanket Warm Fuzzy P...</td>\n",
       "      <td>[QUALITY GUARANTEED: Luxury cozy plush polyest...</td>\n",
       "      <td>&lt;b&gt;DCGARING Throw Blanket&lt;/b&gt;&lt;br&gt;&lt;br&gt; &lt;b&gt;Size ...</td>\n",
       "      <td>1622</td>\n",
       "    </tr>\n",
       "    <tr>\n",
       "      <th>2</th>\n",
       "      <td>1871949</td>\n",
       "      <td>I-Match Auto Parts Front License Plate Bracket...</td>\n",
       "      <td>[Front License Plate Bracket Made Of Plastic,D...</td>\n",
       "      <td>Replacement for The Following Vehicles:2020 LE...</td>\n",
       "      <td>7540</td>\n",
       "    </tr>\n",
       "    <tr>\n",
       "      <th>3</th>\n",
       "      <td>1107571</td>\n",
       "      <td>PinMart Gold Plated Excellence in Service 1 Ye...</td>\n",
       "      <td>[Available as a single item or bulk packed. Se...</td>\n",
       "      <td>Our Excellence in Service Lapel Pins feature a...</td>\n",
       "      <td>12442</td>\n",
       "    </tr>\n",
       "    <tr>\n",
       "      <th>4</th>\n",
       "      <td>624253</td>\n",
       "      <td>Visual Mathematics, Illustrated by the TI-92 a...</td>\n",
       "      <td>NaN</td>\n",
       "      <td>NaN</td>\n",
       "      <td>6318</td>\n",
       "    </tr>\n",
       "  </tbody>\n",
       "</table>\n",
       "</div>"
      ],
      "text/plain": [
       "   PRODUCT_ID                                              TITLE  \\\n",
       "0      604373  Manuel d'Héliogravure Et de Photogravure En Re...   \n",
       "1     1729783  DCGARING Microfiber Throw Blanket Warm Fuzzy P...   \n",
       "2     1871949  I-Match Auto Parts Front License Plate Bracket...   \n",
       "3     1107571  PinMart Gold Plated Excellence in Service 1 Ye...   \n",
       "4      624253  Visual Mathematics, Illustrated by the TI-92 a...   \n",
       "\n",
       "                                       BULLET_POINTS  \\\n",
       "0                                                NaN   \n",
       "1  [QUALITY GUARANTEED: Luxury cozy plush polyest...   \n",
       "2  [Front License Plate Bracket Made Of Plastic,D...   \n",
       "3  [Available as a single item or bulk packed. Se...   \n",
       "4                                                NaN   \n",
       "\n",
       "                                         DESCRIPTION  PRODUCT_TYPE_ID  \n",
       "0                                                NaN             6142  \n",
       "1  <b>DCGARING Throw Blanket</b><br><br> <b>Size ...             1622  \n",
       "2  Replacement for The Following Vehicles:2020 LE...             7540  \n",
       "3  Our Excellence in Service Lapel Pins feature a...            12442  \n",
       "4                                                NaN             6318  "
      ]
     },
     "execution_count": 4,
     "metadata": {},
     "output_type": "execute_result"
    }
   ],
   "source": [
    "test.head()"
   ]
  },
  {
   "cell_type": "code",
   "execution_count": 5,
   "id": "3b5dca7c",
   "metadata": {
    "execution": {
     "iopub.execute_input": "2023-04-21T10:58:40.082946Z",
     "iopub.status.busy": "2023-04-21T10:58:40.081000Z",
     "iopub.status.idle": "2023-04-21T10:58:40.091302Z",
     "shell.execute_reply": "2023-04-21T10:58:40.090178Z"
    },
    "papermill": {
     "duration": 0.018147,
     "end_time": "2023-04-21T10:58:40.093398",
     "exception": false,
     "start_time": "2023-04-21T10:58:40.075251",
     "status": "completed"
    },
    "tags": []
   },
   "outputs": [
    {
     "data": {
      "text/plain": [
       "'ArtzFolio Tulip Flowers Blackout Curtain for Door, Window & Room | Eyelets & Tie Back | Canvas Fabric | Width 4.5feet (54inch) Height 5 feet (60 inch); Set of 2 PCS'"
      ]
     },
     "execution_count": 5,
     "metadata": {},
     "output_type": "execute_result"
    }
   ],
   "source": [
    "train['TITLE'][0]"
   ]
  },
  {
   "cell_type": "code",
   "execution_count": 6,
   "id": "f99caaac",
   "metadata": {
    "execution": {
     "iopub.execute_input": "2023-04-21T10:58:40.103497Z",
     "iopub.status.busy": "2023-04-21T10:58:40.103236Z",
     "iopub.status.idle": "2023-04-21T10:58:40.109225Z",
     "shell.execute_reply": "2023-04-21T10:58:40.108263Z"
    },
    "papermill": {
     "duration": 0.013355,
     "end_time": "2023-04-21T10:58:40.111264",
     "exception": false,
     "start_time": "2023-04-21T10:58:40.097909",
     "status": "completed"
    },
    "tags": []
   },
   "outputs": [
    {
     "data": {
      "text/plain": [
       "'PRIKNIK Horn Red Electric Air Horn Compressor Interior Dual Tone Trumpet Loud Compatible with SX4'"
      ]
     },
     "execution_count": 6,
     "metadata": {},
     "output_type": "execute_result"
    }
   ],
   "source": [
    "train['TITLE'][2]"
   ]
  },
  {
   "cell_type": "code",
   "execution_count": 7,
   "id": "5192ff35",
   "metadata": {
    "execution": {
     "iopub.execute_input": "2023-04-21T10:58:40.122585Z",
     "iopub.status.busy": "2023-04-21T10:58:40.121818Z",
     "iopub.status.idle": "2023-04-21T10:58:40.130371Z",
     "shell.execute_reply": "2023-04-21T10:58:40.129386Z"
    },
    "papermill": {
     "duration": 0.016561,
     "end_time": "2023-04-21T10:58:40.132577",
     "exception": false,
     "start_time": "2023-04-21T10:58:40.116016",
     "status": "completed"
    },
    "tags": []
   },
   "outputs": [
    {
     "data": {
      "text/plain": [
       "'[Simple and elegant, great for displaying indoor plants like succulent plants, air plants, seedling, herbs etc.,High Quality - Both Indoor/outdoor planter stand and flower pots are made of wrought iron material, with powder coated paint, rustproof and durable.,Pefect decor for living room, balcony and garden.,BEST QUALITY, STRONG AND DURABLE - The surface of the pot holder is rust-proofed and it can be used for a longer time.,The elevated indoor potted plant stand can make watering easier and give the plant a better space to grow.,A pragmatic and eco-friendly gift for any nature lover, gardening hobbyist or home decorist.,Note : Plants are only for display.These are not included with Planter,Please allow 0~2cm errors due to manual measurement.]'"
      ]
     },
     "execution_count": 7,
     "metadata": {},
     "output_type": "execute_result"
    }
   ],
   "source": [
    "train['BULLET_POINTS'][5]"
   ]
  },
  {
   "cell_type": "code",
   "execution_count": 8,
   "id": "6080b692",
   "metadata": {
    "execution": {
     "iopub.execute_input": "2023-04-21T10:58:40.143614Z",
     "iopub.status.busy": "2023-04-21T10:58:40.142786Z",
     "iopub.status.idle": "2023-04-21T10:58:40.150015Z",
     "shell.execute_reply": "2023-04-21T10:58:40.149033Z"
    },
    "papermill": {
     "duration": 0.014953,
     "end_time": "2023-04-21T10:58:40.151996",
     "exception": false,
     "start_time": "2023-04-21T10:58:40.137043",
     "status": "completed"
    },
    "tags": []
   },
   "outputs": [
    {
     "data": {
      "text/plain": [
       "\"AISHAH Women's Lycra Cotton Ankel Leggings. Brand: ALISHAH Length: Ankel Length Leggings. Size Chart Medium: 28 - 30 inch Large: 30 - 32 inch X-Large: 32 - 34 inch 2X-Large: 34 - 38 inch The color fade will not be there in washing. This cotton stretch leggings is designed to provide absolute comfort and body fit. Pair it with short or long kurta for modern look. High on style, fit and finish, this leggings is sure to lend you a sophisticated look. Please wash the dark colors separately in order to improve the product life. Disclaimer: Product color may slightly vary due to photographic lighting sources or your monitor settings. Please order according to your waist size mentioned in size chart\""
      ]
     },
     "execution_count": 8,
     "metadata": {},
     "output_type": "execute_result"
    }
   ],
   "source": [
    "train['DESCRIPTION'][3]"
   ]
  },
  {
   "cell_type": "code",
   "execution_count": 9,
   "id": "519b2c64",
   "metadata": {
    "execution": {
     "iopub.execute_input": "2023-04-21T10:58:40.162430Z",
     "iopub.status.busy": "2023-04-21T10:58:40.162149Z",
     "iopub.status.idle": "2023-04-21T10:58:40.171649Z",
     "shell.execute_reply": "2023-04-21T10:58:40.170756Z"
    },
    "papermill": {
     "duration": 0.017235,
     "end_time": "2023-04-21T10:58:40.173723",
     "exception": false,
     "start_time": "2023-04-21T10:58:40.156488",
     "status": "completed"
    },
    "tags": []
   },
   "outputs": [
    {
     "data": {
      "text/plain": [
       "0          1650\n",
       "1          2755\n",
       "2          7537\n",
       "3          2996\n",
       "4          6112\n",
       "           ... \n",
       "2249693    3009\n",
       "2249694    3413\n",
       "2249695    1574\n",
       "2249696     592\n",
       "2249697    7367\n",
       "Name: PRODUCT_TYPE_ID, Length: 2249698, dtype: int64"
      ]
     },
     "execution_count": 9,
     "metadata": {},
     "output_type": "execute_result"
    }
   ],
   "source": [
    "train['PRODUCT_TYPE_ID']"
   ]
  },
  {
   "cell_type": "markdown",
   "id": "80507b03",
   "metadata": {
    "papermill": {
     "duration": 0.00435,
     "end_time": "2023-04-21T10:58:40.183051",
     "exception": false,
     "start_time": "2023-04-21T10:58:40.178701",
     "status": "completed"
    },
    "tags": []
   },
   "source": [
    "NULL VALUES"
   ]
  },
  {
   "cell_type": "code",
   "execution_count": 10,
   "id": "b3004b0a",
   "metadata": {
    "execution": {
     "iopub.execute_input": "2023-04-21T10:58:40.193995Z",
     "iopub.status.busy": "2023-04-21T10:58:40.193705Z",
     "iopub.status.idle": "2023-04-21T10:58:40.761790Z",
     "shell.execute_reply": "2023-04-21T10:58:40.760781Z"
    },
    "papermill": {
     "duration": 0.577019,
     "end_time": "2023-04-21T10:58:40.764775",
     "exception": false,
     "start_time": "2023-04-21T10:58:40.187756",
     "status": "completed"
    },
    "tags": []
   },
   "outputs": [
    {
     "data": {
      "text/plain": [
       "PRODUCT_ID               0\n",
       "TITLE                   12\n",
       "BULLET_POINTS       837364\n",
       "DESCRIPTION        1157381\n",
       "PRODUCT_TYPE_ID          0\n",
       "PRODUCT_LENGTH           0\n",
       "dtype: int64"
      ]
     },
     "execution_count": 10,
     "metadata": {},
     "output_type": "execute_result"
    }
   ],
   "source": [
    "train.isnull().sum()"
   ]
  },
  {
   "cell_type": "markdown",
   "id": "69731951",
   "metadata": {
    "papermill": {
     "duration": 0.007543,
     "end_time": "2023-04-21T10:58:40.780325",
     "exception": false,
     "start_time": "2023-04-21T10:58:40.772782",
     "status": "completed"
    },
    "tags": []
   },
   "source": [
    "<h2>Different types of data</h2>"
   ]
  },
  {
   "cell_type": "code",
   "execution_count": 11,
   "id": "649fddd3",
   "metadata": {
    "execution": {
     "iopub.execute_input": "2023-04-21T10:58:40.796611Z",
     "iopub.status.busy": "2023-04-21T10:58:40.796098Z",
     "iopub.status.idle": "2023-04-21T10:58:40.833651Z",
     "shell.execute_reply": "2023-04-21T10:58:40.830902Z"
    },
    "papermill": {
     "duration": 0.048831,
     "end_time": "2023-04-21T10:58:40.836521",
     "exception": false,
     "start_time": "2023-04-21T10:58:40.787690",
     "status": "completed"
    },
    "tags": []
   },
   "outputs": [
    {
     "name": "stdout",
     "output_type": "stream",
     "text": [
      "<class 'pandas.core.frame.DataFrame'>\n",
      "RangeIndex: 2249698 entries, 0 to 2249697\n",
      "Data columns (total 6 columns):\n",
      " #   Column           Dtype  \n",
      "---  ------           -----  \n",
      " 0   PRODUCT_ID       int64  \n",
      " 1   TITLE            object \n",
      " 2   BULLET_POINTS    object \n",
      " 3   DESCRIPTION      object \n",
      " 4   PRODUCT_TYPE_ID  int64  \n",
      " 5   PRODUCT_LENGTH   float64\n",
      "dtypes: float64(1), int64(2), object(3)\n",
      "memory usage: 103.0+ MB\n"
     ]
    }
   ],
   "source": [
    "train.info()"
   ]
  },
  {
   "cell_type": "code",
   "execution_count": 12,
   "id": "6ec31dfe",
   "metadata": {
    "execution": {
     "iopub.execute_input": "2023-04-21T10:58:40.866797Z",
     "iopub.status.busy": "2023-04-21T10:58:40.865924Z",
     "iopub.status.idle": "2023-04-21T10:58:41.241185Z",
     "shell.execute_reply": "2023-04-21T10:58:41.240114Z"
    },
    "papermill": {
     "duration": 0.395395,
     "end_time": "2023-04-21T10:58:41.244325",
     "exception": false,
     "start_time": "2023-04-21T10:58:40.848930",
     "status": "completed"
    },
    "tags": []
   },
   "outputs": [
    {
     "data": {
      "text/html": [
       "<div>\n",
       "<style scoped>\n",
       "    .dataframe tbody tr th:only-of-type {\n",
       "        vertical-align: middle;\n",
       "    }\n",
       "\n",
       "    .dataframe tbody tr th {\n",
       "        vertical-align: top;\n",
       "    }\n",
       "\n",
       "    .dataframe thead th {\n",
       "        text-align: right;\n",
       "    }\n",
       "</style>\n",
       "<table border=\"1\" class=\"dataframe\">\n",
       "  <thead>\n",
       "    <tr style=\"text-align: right;\">\n",
       "      <th></th>\n",
       "      <th>PRODUCT_ID</th>\n",
       "      <th>PRODUCT_TYPE_ID</th>\n",
       "      <th>PRODUCT_LENGTH</th>\n",
       "    </tr>\n",
       "  </thead>\n",
       "  <tbody>\n",
       "    <tr>\n",
       "      <th>count</th>\n",
       "      <td>2.249698e+06</td>\n",
       "      <td>2.249698e+06</td>\n",
       "      <td>2.249698e+06</td>\n",
       "    </tr>\n",
       "    <tr>\n",
       "      <th>mean</th>\n",
       "      <td>1.499795e+06</td>\n",
       "      <td>4.000456e+03</td>\n",
       "      <td>4.071839e+03</td>\n",
       "    </tr>\n",
       "    <tr>\n",
       "      <th>std</th>\n",
       "      <td>8.661944e+05</td>\n",
       "      <td>3.966146e+03</td>\n",
       "      <td>1.351685e+06</td>\n",
       "    </tr>\n",
       "    <tr>\n",
       "      <th>min</th>\n",
       "      <td>1.000000e+00</td>\n",
       "      <td>0.000000e+00</td>\n",
       "      <td>1.000000e+00</td>\n",
       "    </tr>\n",
       "    <tr>\n",
       "      <th>25%</th>\n",
       "      <td>7.494795e+05</td>\n",
       "      <td>2.300000e+02</td>\n",
       "      <td>5.118110e+02</td>\n",
       "    </tr>\n",
       "    <tr>\n",
       "      <th>50%</th>\n",
       "      <td>1.499558e+06</td>\n",
       "      <td>2.916000e+03</td>\n",
       "      <td>6.630000e+02</td>\n",
       "    </tr>\n",
       "    <tr>\n",
       "      <th>75%</th>\n",
       "      <td>2.250664e+06</td>\n",
       "      <td>6.403000e+03</td>\n",
       "      <td>1.062992e+03</td>\n",
       "    </tr>\n",
       "    <tr>\n",
       "      <th>max</th>\n",
       "      <td>2.999999e+06</td>\n",
       "      <td>1.342000e+04</td>\n",
       "      <td>1.885801e+09</td>\n",
       "    </tr>\n",
       "  </tbody>\n",
       "</table>\n",
       "</div>"
      ],
      "text/plain": [
       "         PRODUCT_ID  PRODUCT_TYPE_ID  PRODUCT_LENGTH\n",
       "count  2.249698e+06     2.249698e+06    2.249698e+06\n",
       "mean   1.499795e+06     4.000456e+03    4.071839e+03\n",
       "std    8.661944e+05     3.966146e+03    1.351685e+06\n",
       "min    1.000000e+00     0.000000e+00    1.000000e+00\n",
       "25%    7.494795e+05     2.300000e+02    5.118110e+02\n",
       "50%    1.499558e+06     2.916000e+03    6.630000e+02\n",
       "75%    2.250664e+06     6.403000e+03    1.062992e+03\n",
       "max    2.999999e+06     1.342000e+04    1.885801e+09"
      ]
     },
     "execution_count": 12,
     "metadata": {},
     "output_type": "execute_result"
    }
   ],
   "source": [
    "train.describe()"
   ]
  },
  {
   "cell_type": "code",
   "execution_count": 13,
   "id": "fed21615",
   "metadata": {
    "execution": {
     "iopub.execute_input": "2023-04-21T10:58:41.263248Z",
     "iopub.status.busy": "2023-04-21T10:58:41.262821Z",
     "iopub.status.idle": "2023-04-21T10:58:46.259071Z",
     "shell.execute_reply": "2023-04-21T10:58:46.257825Z"
    },
    "papermill": {
     "duration": 5.008076,
     "end_time": "2023-04-21T10:58:46.261585",
     "exception": false,
     "start_time": "2023-04-21T10:58:41.253509",
     "status": "completed"
    },
    "tags": []
   },
   "outputs": [
    {
     "data": {
      "text/plain": [
       "0"
      ]
     },
     "execution_count": 13,
     "metadata": {},
     "output_type": "execute_result"
    }
   ],
   "source": [
    "train.duplicated().sum()"
   ]
  },
  {
   "cell_type": "code",
   "execution_count": 14,
   "id": "243853dc",
   "metadata": {
    "execution": {
     "iopub.execute_input": "2023-04-21T10:58:46.275190Z",
     "iopub.status.busy": "2023-04-21T10:58:46.274409Z",
     "iopub.status.idle": "2023-04-21T10:58:46.425944Z",
     "shell.execute_reply": "2023-04-21T10:58:46.424793Z"
    },
    "papermill": {
     "duration": 0.162367,
     "end_time": "2023-04-21T10:58:46.429893",
     "exception": false,
     "start_time": "2023-04-21T10:58:46.267526",
     "status": "completed"
    },
    "tags": []
   },
   "outputs": [
    {
     "data": {
      "text/html": [
       "<div>\n",
       "<style scoped>\n",
       "    .dataframe tbody tr th:only-of-type {\n",
       "        vertical-align: middle;\n",
       "    }\n",
       "\n",
       "    .dataframe tbody tr th {\n",
       "        vertical-align: top;\n",
       "    }\n",
       "\n",
       "    .dataframe thead th {\n",
       "        text-align: right;\n",
       "    }\n",
       "</style>\n",
       "<table border=\"1\" class=\"dataframe\">\n",
       "  <thead>\n",
       "    <tr style=\"text-align: right;\">\n",
       "      <th></th>\n",
       "      <th>TITLE</th>\n",
       "      <th>BULLET_POINTS</th>\n",
       "      <th>DESCRIPTION</th>\n",
       "    </tr>\n",
       "  </thead>\n",
       "  <tbody>\n",
       "    <tr>\n",
       "      <th>0</th>\n",
       "      <td>ArtzFolio Tulip Flowers Blackout Curtain for D...</td>\n",
       "      <td>[LUXURIOUS &amp; APPEALING: Beautiful custom-made ...</td>\n",
       "      <td>NaN</td>\n",
       "    </tr>\n",
       "    <tr>\n",
       "      <th>1</th>\n",
       "      <td>Marks &amp; Spencer Girls' Pyjama Sets T86_2561C_N...</td>\n",
       "      <td>[Harry Potter Hedwig Pyjamas (6-16 Yrs),100% c...</td>\n",
       "      <td>NaN</td>\n",
       "    </tr>\n",
       "    <tr>\n",
       "      <th>2</th>\n",
       "      <td>PRIKNIK Horn Red Electric Air Horn Compressor ...</td>\n",
       "      <td>[Loud Dual Tone Trumpet Horn, Compatible With ...</td>\n",
       "      <td>Specifications: Color: Red, Material: Aluminiu...</td>\n",
       "    </tr>\n",
       "    <tr>\n",
       "      <th>3</th>\n",
       "      <td>ALISHAH Women's Cotton Ankle Length Leggings C...</td>\n",
       "      <td>[Made By 95%cotton and 5% Lycra which gives yo...</td>\n",
       "      <td>AISHAH Women's Lycra Cotton Ankel Leggings. Br...</td>\n",
       "    </tr>\n",
       "    <tr>\n",
       "      <th>4</th>\n",
       "      <td>The United Empire Loyalists: A Chronicle of th...</td>\n",
       "      <td>NaN</td>\n",
       "      <td>NaN</td>\n",
       "    </tr>\n",
       "  </tbody>\n",
       "</table>\n",
       "</div>"
      ],
      "text/plain": [
       "                                               TITLE  \\\n",
       "0  ArtzFolio Tulip Flowers Blackout Curtain for D...   \n",
       "1  Marks & Spencer Girls' Pyjama Sets T86_2561C_N...   \n",
       "2  PRIKNIK Horn Red Electric Air Horn Compressor ...   \n",
       "3  ALISHAH Women's Cotton Ankle Length Leggings C...   \n",
       "4  The United Empire Loyalists: A Chronicle of th...   \n",
       "\n",
       "                                       BULLET_POINTS  \\\n",
       "0  [LUXURIOUS & APPEALING: Beautiful custom-made ...   \n",
       "1  [Harry Potter Hedwig Pyjamas (6-16 Yrs),100% c...   \n",
       "2  [Loud Dual Tone Trumpet Horn, Compatible With ...   \n",
       "3  [Made By 95%cotton and 5% Lycra which gives yo...   \n",
       "4                                                NaN   \n",
       "\n",
       "                                         DESCRIPTION  \n",
       "0                                                NaN  \n",
       "1                                                NaN  \n",
       "2  Specifications: Color: Red, Material: Aluminiu...  \n",
       "3  AISHAH Women's Lycra Cotton Ankel Leggings. Br...  \n",
       "4                                                NaN  "
      ]
     },
     "execution_count": 14,
     "metadata": {},
     "output_type": "execute_result"
    }
   ],
   "source": [
    "train1 = train[['TITLE','BULLET_POINTS','DESCRIPTION']]\n",
    "train1.head()"
   ]
  },
  {
   "cell_type": "code",
   "execution_count": 15,
   "id": "9f111171",
   "metadata": {
    "execution": {
     "iopub.execute_input": "2023-04-21T10:58:46.442573Z",
     "iopub.status.busy": "2023-04-21T10:58:46.442257Z",
     "iopub.status.idle": "2023-04-21T10:58:46.542385Z",
     "shell.execute_reply": "2023-04-21T10:58:46.541198Z"
    },
    "papermill": {
     "duration": 0.109675,
     "end_time": "2023-04-21T10:58:46.545357",
     "exception": false,
     "start_time": "2023-04-21T10:58:46.435682",
     "status": "completed"
    },
    "tags": []
   },
   "outputs": [
    {
     "data": {
      "text/plain": [
       "PRODUCT_ID         0.000424\n",
       "PRODUCT_TYPE_ID    0.000961\n",
       "PRODUCT_LENGTH     1.000000\n",
       "Name: PRODUCT_LENGTH, dtype: float64"
      ]
     },
     "execution_count": 15,
     "metadata": {},
     "output_type": "execute_result"
    }
   ],
   "source": [
    "train.corr()['PRODUCT_LENGTH']"
   ]
  }
 ],
 "metadata": {
  "kernelspec": {
   "display_name": "Python 3",
   "language": "python",
   "name": "python3"
  },
  "language_info": {
   "codemirror_mode": {
    "name": "ipython",
    "version": 3
   },
   "file_extension": ".py",
   "mimetype": "text/x-python",
   "name": "python",
   "nbconvert_exporter": "python",
   "pygments_lexer": "ipython3",
   "version": "3.7.12"
  },
  "papermill": {
   "default_parameters": {},
   "duration": 72.587884,
   "end_time": "2023-04-21T10:58:47.674977",
   "environment_variables": {},
   "exception": null,
   "input_path": "__notebook__.ipynb",
   "output_path": "__notebook__.ipynb",
   "parameters": {},
   "start_time": "2023-04-21T10:57:35.087093",
   "version": "2.4.0"
  }
 },
 "nbformat": 4,
 "nbformat_minor": 5
}
