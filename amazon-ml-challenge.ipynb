{
 "cells": [
  {
   "cell_type": "code",
   "execution_count": 1,
   "id": "f22c15bf",
   "metadata": {
    "_cell_guid": "b1076dfc-b9ad-4769-8c92-a6c4dae69d19",
    "_uuid": "8f2839f25d086af736a60e9eeb907d3b93b6e0e5",
    "execution": {
     "iopub.execute_input": "2023-04-21T21:16:50.220205Z",
     "iopub.status.busy": "2023-04-21T21:16:50.219031Z",
     "iopub.status.idle": "2023-04-21T21:16:50.236237Z",
     "shell.execute_reply": "2023-04-21T21:16:50.235261Z"
    },
    "papermill": {
     "duration": 0.029139,
     "end_time": "2023-04-21T21:16:50.238648",
     "exception": false,
     "start_time": "2023-04-21T21:16:50.209509",
     "status": "completed"
    },
    "tags": []
   },
   "outputs": [
    {
     "name": "stdout",
     "output_type": "stream",
     "text": [
      "/kaggle/input/amazon-ml-challenge/sample_submission.csv\n",
      "/kaggle/input/amazon-ml-challenge/train.csv\n",
      "/kaggle/input/amazon-ml-challenge/test.csv\n"
     ]
    }
   ],
   "source": [
    "# This Python 3 environment comes with many helpful analytics libraries installed\n",
    "# It is defined by the kaggle/python Docker image: https://github.com/kaggle/docker-python\n",
    "# For example, here's several helpful packages to load\n",
    "\n",
    "import numpy as np # linear algebra\n",
    "import pandas as pd # data processing, CSV file I/O (e.g. pd.read_csv)\n",
    "\n",
    "# Input data files are available in the read-only \"../input/\" directory\n",
    "# For example, running this (by clicking run or pressing Shift+Enter) will list all files under the input directory\n",
    "\n",
    "import os\n",
    "for dirname, _, filenames in os.walk('/kaggle/input'):\n",
    "    for filename in filenames:\n",
    "        print(os.path.join(dirname, filename))\n",
    "\n",
    "# You can write up to 20GB to the current directory (/kaggle/working/) that gets preserved as output when you create a version using \"Save & Run All\" \n",
    "# You can also write temporary files to /kaggle/temp/, but they won't be saved outside of the current session"
   ]
  },
  {
   "cell_type": "code",
   "execution_count": 2,
   "id": "d6a1e589",
   "metadata": {
    "execution": {
     "iopub.execute_input": "2023-04-21T21:16:50.254048Z",
     "iopub.status.busy": "2023-04-21T21:16:50.252922Z",
     "iopub.status.idle": "2023-04-21T21:17:54.621782Z",
     "shell.execute_reply": "2023-04-21T21:17:54.620649Z"
    },
    "papermill": {
     "duration": 64.379355,
     "end_time": "2023-04-21T21:17:54.624575",
     "exception": false,
     "start_time": "2023-04-21T21:16:50.245220",
     "status": "completed"
    },
    "tags": []
   },
   "outputs": [],
   "source": [
    "train = pd.read_csv('/kaggle/input/amazon-ml-challenge/train.csv')\n",
    "test = pd.read_csv('/kaggle/input/amazon-ml-challenge/test.csv')"
   ]
  },
  {
   "cell_type": "code",
   "execution_count": 3,
   "id": "ddf7aa62",
   "metadata": {
    "execution": {
     "iopub.execute_input": "2023-04-21T21:17:54.639803Z",
     "iopub.status.busy": "2023-04-21T21:17:54.639379Z",
     "iopub.status.idle": "2023-04-21T21:17:54.674951Z",
     "shell.execute_reply": "2023-04-21T21:17:54.673683Z"
    },
    "papermill": {
     "duration": 0.046807,
     "end_time": "2023-04-21T21:17:54.678065",
     "exception": false,
     "start_time": "2023-04-21T21:17:54.631258",
     "status": "completed"
    },
    "tags": []
   },
   "outputs": [
    {
     "data": {
      "text/html": [
       "<div>\n",
       "<style scoped>\n",
       "    .dataframe tbody tr th:only-of-type {\n",
       "        vertical-align: middle;\n",
       "    }\n",
       "\n",
       "    .dataframe tbody tr th {\n",
       "        vertical-align: top;\n",
       "    }\n",
       "\n",
       "    .dataframe thead th {\n",
       "        text-align: right;\n",
       "    }\n",
       "</style>\n",
       "<table border=\"1\" class=\"dataframe\">\n",
       "  <thead>\n",
       "    <tr style=\"text-align: right;\">\n",
       "      <th></th>\n",
       "      <th>PRODUCT_ID</th>\n",
       "      <th>TITLE</th>\n",
       "      <th>BULLET_POINTS</th>\n",
       "      <th>DESCRIPTION</th>\n",
       "      <th>PRODUCT_TYPE_ID</th>\n",
       "      <th>PRODUCT_LENGTH</th>\n",
       "    </tr>\n",
       "  </thead>\n",
       "  <tbody>\n",
       "    <tr>\n",
       "      <th>0</th>\n",
       "      <td>1925202</td>\n",
       "      <td>ArtzFolio Tulip Flowers Blackout Curtain for D...</td>\n",
       "      <td>[LUXURIOUS &amp; APPEALING: Beautiful custom-made ...</td>\n",
       "      <td>NaN</td>\n",
       "      <td>1650</td>\n",
       "      <td>2125.980000</td>\n",
       "    </tr>\n",
       "    <tr>\n",
       "      <th>1</th>\n",
       "      <td>2673191</td>\n",
       "      <td>Marks &amp; Spencer Girls' Pyjama Sets T86_2561C_N...</td>\n",
       "      <td>[Harry Potter Hedwig Pyjamas (6-16 Yrs),100% c...</td>\n",
       "      <td>NaN</td>\n",
       "      <td>2755</td>\n",
       "      <td>393.700000</td>\n",
       "    </tr>\n",
       "    <tr>\n",
       "      <th>2</th>\n",
       "      <td>2765088</td>\n",
       "      <td>PRIKNIK Horn Red Electric Air Horn Compressor ...</td>\n",
       "      <td>[Loud Dual Tone Trumpet Horn, Compatible With ...</td>\n",
       "      <td>Specifications: Color: Red, Material: Aluminiu...</td>\n",
       "      <td>7537</td>\n",
       "      <td>748.031495</td>\n",
       "    </tr>\n",
       "    <tr>\n",
       "      <th>3</th>\n",
       "      <td>1594019</td>\n",
       "      <td>ALISHAH Women's Cotton Ankle Length Leggings C...</td>\n",
       "      <td>[Made By 95%cotton and 5% Lycra which gives yo...</td>\n",
       "      <td>AISHAH Women's Lycra Cotton Ankel Leggings. Br...</td>\n",
       "      <td>2996</td>\n",
       "      <td>787.401574</td>\n",
       "    </tr>\n",
       "    <tr>\n",
       "      <th>4</th>\n",
       "      <td>283658</td>\n",
       "      <td>The United Empire Loyalists: A Chronicle of th...</td>\n",
       "      <td>NaN</td>\n",
       "      <td>NaN</td>\n",
       "      <td>6112</td>\n",
       "      <td>598.424000</td>\n",
       "    </tr>\n",
       "    <tr>\n",
       "      <th>5</th>\n",
       "      <td>2152929</td>\n",
       "      <td>HINS Metal Bucket Shape Plant Pot for Indoor &amp;...</td>\n",
       "      <td>[Simple and elegant, great for displaying indo...</td>\n",
       "      <td>HINS Brings you the most Elegant Looking Pot w...</td>\n",
       "      <td>5725</td>\n",
       "      <td>950.000000</td>\n",
       "    </tr>\n",
       "    <tr>\n",
       "      <th>6</th>\n",
       "      <td>413758</td>\n",
       "      <td>Ungifted: My Life and Journey</td>\n",
       "      <td>NaN</td>\n",
       "      <td>NaN</td>\n",
       "      <td>23</td>\n",
       "      <td>598.000000</td>\n",
       "    </tr>\n",
       "    <tr>\n",
       "      <th>7</th>\n",
       "      <td>2026580</td>\n",
       "      <td>Delavala Self Adhesive Kitchen Backsplash Wall...</td>\n",
       "      <td>[HIGH QUALITY PVC MATERIAL: The kitchen alumin...</td>\n",
       "      <td>&lt;p&gt;&lt;strong&gt;Aluminum Foil Stickers-good kitchen...</td>\n",
       "      <td>6030</td>\n",
       "      <td>984.251967</td>\n",
       "    </tr>\n",
       "    <tr>\n",
       "      <th>8</th>\n",
       "      <td>2050239</td>\n",
       "      <td>PUMA Cali Sport Clean Women's Sneakers White L...</td>\n",
       "      <td>[Style Name:-Cali Sport Clean Women's Sneakers...</td>\n",
       "      <td>NaN</td>\n",
       "      <td>3302</td>\n",
       "      <td>393.700000</td>\n",
       "    </tr>\n",
       "    <tr>\n",
       "      <th>9</th>\n",
       "      <td>2998633</td>\n",
       "      <td>Hexwell Essential oil for Home Fragrance Oil A...</td>\n",
       "      <td>[100% Pure And Natural Essential Oil Or Fragra...</td>\n",
       "      <td>Transform your home, workplace or hotel room i...</td>\n",
       "      <td>8201</td>\n",
       "      <td>393.700787</td>\n",
       "    </tr>\n",
       "  </tbody>\n",
       "</table>\n",
       "</div>"
      ],
      "text/plain": [
       "   PRODUCT_ID                                              TITLE  \\\n",
       "0     1925202  ArtzFolio Tulip Flowers Blackout Curtain for D...   \n",
       "1     2673191  Marks & Spencer Girls' Pyjama Sets T86_2561C_N...   \n",
       "2     2765088  PRIKNIK Horn Red Electric Air Horn Compressor ...   \n",
       "3     1594019  ALISHAH Women's Cotton Ankle Length Leggings C...   \n",
       "4      283658  The United Empire Loyalists: A Chronicle of th...   \n",
       "5     2152929  HINS Metal Bucket Shape Plant Pot for Indoor &...   \n",
       "6      413758                      Ungifted: My Life and Journey   \n",
       "7     2026580  Delavala Self Adhesive Kitchen Backsplash Wall...   \n",
       "8     2050239  PUMA Cali Sport Clean Women's Sneakers White L...   \n",
       "9     2998633  Hexwell Essential oil for Home Fragrance Oil A...   \n",
       "\n",
       "                                       BULLET_POINTS  \\\n",
       "0  [LUXURIOUS & APPEALING: Beautiful custom-made ...   \n",
       "1  [Harry Potter Hedwig Pyjamas (6-16 Yrs),100% c...   \n",
       "2  [Loud Dual Tone Trumpet Horn, Compatible With ...   \n",
       "3  [Made By 95%cotton and 5% Lycra which gives yo...   \n",
       "4                                                NaN   \n",
       "5  [Simple and elegant, great for displaying indo...   \n",
       "6                                                NaN   \n",
       "7  [HIGH QUALITY PVC MATERIAL: The kitchen alumin...   \n",
       "8  [Style Name:-Cali Sport Clean Women's Sneakers...   \n",
       "9  [100% Pure And Natural Essential Oil Or Fragra...   \n",
       "\n",
       "                                         DESCRIPTION  PRODUCT_TYPE_ID  \\\n",
       "0                                                NaN             1650   \n",
       "1                                                NaN             2755   \n",
       "2  Specifications: Color: Red, Material: Aluminiu...             7537   \n",
       "3  AISHAH Women's Lycra Cotton Ankel Leggings. Br...             2996   \n",
       "4                                                NaN             6112   \n",
       "5  HINS Brings you the most Elegant Looking Pot w...             5725   \n",
       "6                                                NaN               23   \n",
       "7  <p><strong>Aluminum Foil Stickers-good kitchen...             6030   \n",
       "8                                                NaN             3302   \n",
       "9  Transform your home, workplace or hotel room i...             8201   \n",
       "\n",
       "   PRODUCT_LENGTH  \n",
       "0     2125.980000  \n",
       "1      393.700000  \n",
       "2      748.031495  \n",
       "3      787.401574  \n",
       "4      598.424000  \n",
       "5      950.000000  \n",
       "6      598.000000  \n",
       "7      984.251967  \n",
       "8      393.700000  \n",
       "9      393.700787  "
      ]
     },
     "execution_count": 3,
     "metadata": {},
     "output_type": "execute_result"
    }
   ],
   "source": [
    "train.head(10)"
   ]
  },
  {
   "cell_type": "code",
   "execution_count": 4,
   "id": "7d7cbb63",
   "metadata": {
    "execution": {
     "iopub.execute_input": "2023-04-21T21:17:54.694905Z",
     "iopub.status.busy": "2023-04-21T21:17:54.694067Z",
     "iopub.status.idle": "2023-04-21T21:17:54.709952Z",
     "shell.execute_reply": "2023-04-21T21:17:54.708675Z"
    },
    "papermill": {
     "duration": 0.027512,
     "end_time": "2023-04-21T21:17:54.712785",
     "exception": false,
     "start_time": "2023-04-21T21:17:54.685273",
     "status": "completed"
    },
    "tags": []
   },
   "outputs": [
    {
     "data": {
      "text/html": [
       "<div>\n",
       "<style scoped>\n",
       "    .dataframe tbody tr th:only-of-type {\n",
       "        vertical-align: middle;\n",
       "    }\n",
       "\n",
       "    .dataframe tbody tr th {\n",
       "        vertical-align: top;\n",
       "    }\n",
       "\n",
       "    .dataframe thead th {\n",
       "        text-align: right;\n",
       "    }\n",
       "</style>\n",
       "<table border=\"1\" class=\"dataframe\">\n",
       "  <thead>\n",
       "    <tr style=\"text-align: right;\">\n",
       "      <th></th>\n",
       "      <th>PRODUCT_ID</th>\n",
       "      <th>TITLE</th>\n",
       "      <th>BULLET_POINTS</th>\n",
       "      <th>DESCRIPTION</th>\n",
       "      <th>PRODUCT_TYPE_ID</th>\n",
       "    </tr>\n",
       "  </thead>\n",
       "  <tbody>\n",
       "    <tr>\n",
       "      <th>0</th>\n",
       "      <td>604373</td>\n",
       "      <td>Manuel d'Héliogravure Et de Photogravure En Re...</td>\n",
       "      <td>NaN</td>\n",
       "      <td>NaN</td>\n",
       "      <td>6142</td>\n",
       "    </tr>\n",
       "    <tr>\n",
       "      <th>1</th>\n",
       "      <td>1729783</td>\n",
       "      <td>DCGARING Microfiber Throw Blanket Warm Fuzzy P...</td>\n",
       "      <td>[QUALITY GUARANTEED: Luxury cozy plush polyest...</td>\n",
       "      <td>&lt;b&gt;DCGARING Throw Blanket&lt;/b&gt;&lt;br&gt;&lt;br&gt; &lt;b&gt;Size ...</td>\n",
       "      <td>1622</td>\n",
       "    </tr>\n",
       "    <tr>\n",
       "      <th>2</th>\n",
       "      <td>1871949</td>\n",
       "      <td>I-Match Auto Parts Front License Plate Bracket...</td>\n",
       "      <td>[Front License Plate Bracket Made Of Plastic,D...</td>\n",
       "      <td>Replacement for The Following Vehicles:2020 LE...</td>\n",
       "      <td>7540</td>\n",
       "    </tr>\n",
       "    <tr>\n",
       "      <th>3</th>\n",
       "      <td>1107571</td>\n",
       "      <td>PinMart Gold Plated Excellence in Service 1 Ye...</td>\n",
       "      <td>[Available as a single item or bulk packed. Se...</td>\n",
       "      <td>Our Excellence in Service Lapel Pins feature a...</td>\n",
       "      <td>12442</td>\n",
       "    </tr>\n",
       "    <tr>\n",
       "      <th>4</th>\n",
       "      <td>624253</td>\n",
       "      <td>Visual Mathematics, Illustrated by the TI-92 a...</td>\n",
       "      <td>NaN</td>\n",
       "      <td>NaN</td>\n",
       "      <td>6318</td>\n",
       "    </tr>\n",
       "  </tbody>\n",
       "</table>\n",
       "</div>"
      ],
      "text/plain": [
       "   PRODUCT_ID                                              TITLE  \\\n",
       "0      604373  Manuel d'Héliogravure Et de Photogravure En Re...   \n",
       "1     1729783  DCGARING Microfiber Throw Blanket Warm Fuzzy P...   \n",
       "2     1871949  I-Match Auto Parts Front License Plate Bracket...   \n",
       "3     1107571  PinMart Gold Plated Excellence in Service 1 Ye...   \n",
       "4      624253  Visual Mathematics, Illustrated by the TI-92 a...   \n",
       "\n",
       "                                       BULLET_POINTS  \\\n",
       "0                                                NaN   \n",
       "1  [QUALITY GUARANTEED: Luxury cozy plush polyest...   \n",
       "2  [Front License Plate Bracket Made Of Plastic,D...   \n",
       "3  [Available as a single item or bulk packed. Se...   \n",
       "4                                                NaN   \n",
       "\n",
       "                                         DESCRIPTION  PRODUCT_TYPE_ID  \n",
       "0                                                NaN             6142  \n",
       "1  <b>DCGARING Throw Blanket</b><br><br> <b>Size ...             1622  \n",
       "2  Replacement for The Following Vehicles:2020 LE...             7540  \n",
       "3  Our Excellence in Service Lapel Pins feature a...            12442  \n",
       "4                                                NaN             6318  "
      ]
     },
     "execution_count": 4,
     "metadata": {},
     "output_type": "execute_result"
    }
   ],
   "source": [
    "test.head()"
   ]
  },
  {
   "cell_type": "code",
   "execution_count": 5,
   "id": "231ea14d",
   "metadata": {
    "execution": {
     "iopub.execute_input": "2023-04-21T21:17:54.728782Z",
     "iopub.status.busy": "2023-04-21T21:17:54.728324Z",
     "iopub.status.idle": "2023-04-21T21:17:54.739406Z",
     "shell.execute_reply": "2023-04-21T21:17:54.738396Z"
    },
    "papermill": {
     "duration": 0.02202,
     "end_time": "2023-04-21T21:17:54.741825",
     "exception": false,
     "start_time": "2023-04-21T21:17:54.719805",
     "status": "completed"
    },
    "tags": []
   },
   "outputs": [
    {
     "data": {
      "text/plain": [
       "'ArtzFolio Tulip Flowers Blackout Curtain for Door, Window & Room | Eyelets & Tie Back | Canvas Fabric | Width 4.5feet (54inch) Height 5 feet (60 inch); Set of 2 PCS'"
      ]
     },
     "execution_count": 5,
     "metadata": {},
     "output_type": "execute_result"
    }
   ],
   "source": [
    "train['TITLE'][0]"
   ]
  },
  {
   "cell_type": "code",
   "execution_count": 6,
   "id": "0fa668ab",
   "metadata": {
    "execution": {
     "iopub.execute_input": "2023-04-21T21:17:54.758535Z",
     "iopub.status.busy": "2023-04-21T21:17:54.757527Z",
     "iopub.status.idle": "2023-04-21T21:17:54.765218Z",
     "shell.execute_reply": "2023-04-21T21:17:54.764056Z"
    },
    "papermill": {
     "duration": 0.018685,
     "end_time": "2023-04-21T21:17:54.767698",
     "exception": false,
     "start_time": "2023-04-21T21:17:54.749013",
     "status": "completed"
    },
    "tags": []
   },
   "outputs": [
    {
     "data": {
      "text/plain": [
       "'PRIKNIK Horn Red Electric Air Horn Compressor Interior Dual Tone Trumpet Loud Compatible with SX4'"
      ]
     },
     "execution_count": 6,
     "metadata": {},
     "output_type": "execute_result"
    }
   ],
   "source": [
    "train['TITLE'][2]"
   ]
  },
  {
   "cell_type": "code",
   "execution_count": 7,
   "id": "a1da356d",
   "metadata": {
    "execution": {
     "iopub.execute_input": "2023-04-21T21:17:54.783660Z",
     "iopub.status.busy": "2023-04-21T21:17:54.783269Z",
     "iopub.status.idle": "2023-04-21T21:17:54.791043Z",
     "shell.execute_reply": "2023-04-21T21:17:54.789905Z"
    },
    "papermill": {
     "duration": 0.018546,
     "end_time": "2023-04-21T21:17:54.793238",
     "exception": false,
     "start_time": "2023-04-21T21:17:54.774692",
     "status": "completed"
    },
    "tags": []
   },
   "outputs": [
    {
     "data": {
      "text/plain": [
       "'[Simple and elegant, great for displaying indoor plants like succulent plants, air plants, seedling, herbs etc.,High Quality - Both Indoor/outdoor planter stand and flower pots are made of wrought iron material, with powder coated paint, rustproof and durable.,Pefect decor for living room, balcony and garden.,BEST QUALITY, STRONG AND DURABLE - The surface of the pot holder is rust-proofed and it can be used for a longer time.,The elevated indoor potted plant stand can make watering easier and give the plant a better space to grow.,A pragmatic and eco-friendly gift for any nature lover, gardening hobbyist or home decorist.,Note : Plants are only for display.These are not included with Planter,Please allow 0~2cm errors due to manual measurement.]'"
      ]
     },
     "execution_count": 7,
     "metadata": {},
     "output_type": "execute_result"
    }
   ],
   "source": [
    "train['BULLET_POINTS'][5]"
   ]
  },
  {
   "cell_type": "code",
   "execution_count": 8,
   "id": "5e1ded68",
   "metadata": {
    "execution": {
     "iopub.execute_input": "2023-04-21T21:17:54.810001Z",
     "iopub.status.busy": "2023-04-21T21:17:54.809207Z",
     "iopub.status.idle": "2023-04-21T21:17:54.816902Z",
     "shell.execute_reply": "2023-04-21T21:17:54.815335Z"
    },
    "papermill": {
     "duration": 0.019065,
     "end_time": "2023-04-21T21:17:54.819501",
     "exception": false,
     "start_time": "2023-04-21T21:17:54.800436",
     "status": "completed"
    },
    "tags": []
   },
   "outputs": [
    {
     "data": {
      "text/plain": [
       "\"AISHAH Women's Lycra Cotton Ankel Leggings. Brand: ALISHAH Length: Ankel Length Leggings. Size Chart Medium: 28 - 30 inch Large: 30 - 32 inch X-Large: 32 - 34 inch 2X-Large: 34 - 38 inch The color fade will not be there in washing. This cotton stretch leggings is designed to provide absolute comfort and body fit. Pair it with short or long kurta for modern look. High on style, fit and finish, this leggings is sure to lend you a sophisticated look. Please wash the dark colors separately in order to improve the product life. Disclaimer: Product color may slightly vary due to photographic lighting sources or your monitor settings. Please order according to your waist size mentioned in size chart\""
      ]
     },
     "execution_count": 8,
     "metadata": {},
     "output_type": "execute_result"
    }
   ],
   "source": [
    "train['DESCRIPTION'][3]"
   ]
  },
  {
   "cell_type": "code",
   "execution_count": 9,
   "id": "8a7ec231",
   "metadata": {
    "execution": {
     "iopub.execute_input": "2023-04-21T21:17:54.837581Z",
     "iopub.status.busy": "2023-04-21T21:17:54.836026Z",
     "iopub.status.idle": "2023-04-21T21:17:54.846321Z",
     "shell.execute_reply": "2023-04-21T21:17:54.845478Z"
    },
    "papermill": {
     "duration": 0.021269,
     "end_time": "2023-04-21T21:17:54.848434",
     "exception": false,
     "start_time": "2023-04-21T21:17:54.827165",
     "status": "completed"
    },
    "tags": []
   },
   "outputs": [
    {
     "data": {
      "text/plain": [
       "0          1650\n",
       "1          2755\n",
       "2          7537\n",
       "3          2996\n",
       "4          6112\n",
       "           ... \n",
       "2249693    3009\n",
       "2249694    3413\n",
       "2249695    1574\n",
       "2249696     592\n",
       "2249697    7367\n",
       "Name: PRODUCT_TYPE_ID, Length: 2249698, dtype: int64"
      ]
     },
     "execution_count": 9,
     "metadata": {},
     "output_type": "execute_result"
    }
   ],
   "source": [
    "train['PRODUCT_TYPE_ID']"
   ]
  },
  {
   "cell_type": "markdown",
   "id": "c5a49e16",
   "metadata": {
    "papermill": {
     "duration": 0.006977,
     "end_time": "2023-04-21T21:17:54.863950",
     "exception": false,
     "start_time": "2023-04-21T21:17:54.856973",
     "status": "completed"
    },
    "tags": []
   },
   "source": [
    "NULL VALUES"
   ]
  },
  {
   "cell_type": "code",
   "execution_count": 10,
   "id": "d792bd53",
   "metadata": {
    "execution": {
     "iopub.execute_input": "2023-04-21T21:17:54.882177Z",
     "iopub.status.busy": "2023-04-21T21:17:54.881433Z",
     "iopub.status.idle": "2023-04-21T21:17:55.500016Z",
     "shell.execute_reply": "2023-04-21T21:17:55.498725Z"
    },
    "papermill": {
     "duration": 0.631762,
     "end_time": "2023-04-21T21:17:55.503048",
     "exception": false,
     "start_time": "2023-04-21T21:17:54.871286",
     "status": "completed"
    },
    "tags": []
   },
   "outputs": [
    {
     "data": {
      "text/plain": [
       "PRODUCT_ID               0\n",
       "TITLE                   12\n",
       "BULLET_POINTS       837364\n",
       "DESCRIPTION        1157381\n",
       "PRODUCT_TYPE_ID          0\n",
       "PRODUCT_LENGTH           0\n",
       "dtype: int64"
      ]
     },
     "execution_count": 10,
     "metadata": {},
     "output_type": "execute_result"
    }
   ],
   "source": [
    "train.isnull().sum()"
   ]
  },
  {
   "cell_type": "markdown",
   "id": "0fc51698",
   "metadata": {
    "papermill": {
     "duration": 0.007203,
     "end_time": "2023-04-21T21:17:55.518422",
     "exception": false,
     "start_time": "2023-04-21T21:17:55.511219",
     "status": "completed"
    },
    "tags": []
   },
   "source": [
    "<h2>Different types of data</h2>"
   ]
  },
  {
   "cell_type": "code",
   "execution_count": 11,
   "id": "7a06736e",
   "metadata": {
    "execution": {
     "iopub.execute_input": "2023-04-21T21:17:55.535916Z",
     "iopub.status.busy": "2023-04-21T21:17:55.535064Z",
     "iopub.status.idle": "2023-04-21T21:17:55.556126Z",
     "shell.execute_reply": "2023-04-21T21:17:55.554891Z"
    },
    "papermill": {
     "duration": 0.032881,
     "end_time": "2023-04-21T21:17:55.558904",
     "exception": false,
     "start_time": "2023-04-21T21:17:55.526023",
     "status": "completed"
    },
    "tags": []
   },
   "outputs": [
    {
     "name": "stdout",
     "output_type": "stream",
     "text": [
      "<class 'pandas.core.frame.DataFrame'>\n",
      "RangeIndex: 2249698 entries, 0 to 2249697\n",
      "Data columns (total 6 columns):\n",
      " #   Column           Dtype  \n",
      "---  ------           -----  \n",
      " 0   PRODUCT_ID       int64  \n",
      " 1   TITLE            object \n",
      " 2   BULLET_POINTS    object \n",
      " 3   DESCRIPTION      object \n",
      " 4   PRODUCT_TYPE_ID  int64  \n",
      " 5   PRODUCT_LENGTH   float64\n",
      "dtypes: float64(1), int64(2), object(3)\n",
      "memory usage: 103.0+ MB\n"
     ]
    }
   ],
   "source": [
    "train.info()"
   ]
  },
  {
   "cell_type": "code",
   "execution_count": 12,
   "id": "71b906ef",
   "metadata": {
    "execution": {
     "iopub.execute_input": "2023-04-21T21:17:55.576869Z",
     "iopub.status.busy": "2023-04-21T21:17:55.576418Z",
     "iopub.status.idle": "2023-04-21T21:17:55.910761Z",
     "shell.execute_reply": "2023-04-21T21:17:55.909611Z"
    },
    "papermill": {
     "duration": 0.346164,
     "end_time": "2023-04-21T21:17:55.913121",
     "exception": false,
     "start_time": "2023-04-21T21:17:55.566957",
     "status": "completed"
    },
    "tags": []
   },
   "outputs": [
    {
     "data": {
      "text/html": [
       "<div>\n",
       "<style scoped>\n",
       "    .dataframe tbody tr th:only-of-type {\n",
       "        vertical-align: middle;\n",
       "    }\n",
       "\n",
       "    .dataframe tbody tr th {\n",
       "        vertical-align: top;\n",
       "    }\n",
       "\n",
       "    .dataframe thead th {\n",
       "        text-align: right;\n",
       "    }\n",
       "</style>\n",
       "<table border=\"1\" class=\"dataframe\">\n",
       "  <thead>\n",
       "    <tr style=\"text-align: right;\">\n",
       "      <th></th>\n",
       "      <th>PRODUCT_ID</th>\n",
       "      <th>PRODUCT_TYPE_ID</th>\n",
       "      <th>PRODUCT_LENGTH</th>\n",
       "    </tr>\n",
       "  </thead>\n",
       "  <tbody>\n",
       "    <tr>\n",
       "      <th>count</th>\n",
       "      <td>2.249698e+06</td>\n",
       "      <td>2.249698e+06</td>\n",
       "      <td>2.249698e+06</td>\n",
       "    </tr>\n",
       "    <tr>\n",
       "      <th>mean</th>\n",
       "      <td>1.499795e+06</td>\n",
       "      <td>4.000456e+03</td>\n",
       "      <td>4.071839e+03</td>\n",
       "    </tr>\n",
       "    <tr>\n",
       "      <th>std</th>\n",
       "      <td>8.661944e+05</td>\n",
       "      <td>3.966146e+03</td>\n",
       "      <td>1.351685e+06</td>\n",
       "    </tr>\n",
       "    <tr>\n",
       "      <th>min</th>\n",
       "      <td>1.000000e+00</td>\n",
       "      <td>0.000000e+00</td>\n",
       "      <td>1.000000e+00</td>\n",
       "    </tr>\n",
       "    <tr>\n",
       "      <th>25%</th>\n",
       "      <td>7.494795e+05</td>\n",
       "      <td>2.300000e+02</td>\n",
       "      <td>5.118110e+02</td>\n",
       "    </tr>\n",
       "    <tr>\n",
       "      <th>50%</th>\n",
       "      <td>1.499558e+06</td>\n",
       "      <td>2.916000e+03</td>\n",
       "      <td>6.630000e+02</td>\n",
       "    </tr>\n",
       "    <tr>\n",
       "      <th>75%</th>\n",
       "      <td>2.250664e+06</td>\n",
       "      <td>6.403000e+03</td>\n",
       "      <td>1.062992e+03</td>\n",
       "    </tr>\n",
       "    <tr>\n",
       "      <th>max</th>\n",
       "      <td>2.999999e+06</td>\n",
       "      <td>1.342000e+04</td>\n",
       "      <td>1.885801e+09</td>\n",
       "    </tr>\n",
       "  </tbody>\n",
       "</table>\n",
       "</div>"
      ],
      "text/plain": [
       "         PRODUCT_ID  PRODUCT_TYPE_ID  PRODUCT_LENGTH\n",
       "count  2.249698e+06     2.249698e+06    2.249698e+06\n",
       "mean   1.499795e+06     4.000456e+03    4.071839e+03\n",
       "std    8.661944e+05     3.966146e+03    1.351685e+06\n",
       "min    1.000000e+00     0.000000e+00    1.000000e+00\n",
       "25%    7.494795e+05     2.300000e+02    5.118110e+02\n",
       "50%    1.499558e+06     2.916000e+03    6.630000e+02\n",
       "75%    2.250664e+06     6.403000e+03    1.062992e+03\n",
       "max    2.999999e+06     1.342000e+04    1.885801e+09"
      ]
     },
     "execution_count": 12,
     "metadata": {},
     "output_type": "execute_result"
    }
   ],
   "source": [
    "train.describe()"
   ]
  },
  {
   "cell_type": "code",
   "execution_count": 13,
   "id": "47e3b225",
   "metadata": {
    "execution": {
     "iopub.execute_input": "2023-04-21T21:17:55.931149Z",
     "iopub.status.busy": "2023-04-21T21:17:55.930208Z",
     "iopub.status.idle": "2023-04-21T21:18:01.742744Z",
     "shell.execute_reply": "2023-04-21T21:18:01.741617Z"
    },
    "papermill": {
     "duration": 5.824366,
     "end_time": "2023-04-21T21:18:01.745382",
     "exception": false,
     "start_time": "2023-04-21T21:17:55.921016",
     "status": "completed"
    },
    "tags": []
   },
   "outputs": [
    {
     "data": {
      "text/plain": [
       "0"
      ]
     },
     "execution_count": 13,
     "metadata": {},
     "output_type": "execute_result"
    }
   ],
   "source": [
    "train.duplicated().sum()"
   ]
  },
  {
   "cell_type": "code",
   "execution_count": 14,
   "id": "b710d865",
   "metadata": {
    "execution": {
     "iopub.execute_input": "2023-04-21T21:18:01.763457Z",
     "iopub.status.busy": "2023-04-21T21:18:01.763033Z",
     "iopub.status.idle": "2023-04-21T21:18:01.915267Z",
     "shell.execute_reply": "2023-04-21T21:18:01.913937Z"
    },
    "papermill": {
     "duration": 0.164944,
     "end_time": "2023-04-21T21:18:01.918427",
     "exception": false,
     "start_time": "2023-04-21T21:18:01.753483",
     "status": "completed"
    },
    "tags": []
   },
   "outputs": [
    {
     "data": {
      "text/html": [
       "<div>\n",
       "<style scoped>\n",
       "    .dataframe tbody tr th:only-of-type {\n",
       "        vertical-align: middle;\n",
       "    }\n",
       "\n",
       "    .dataframe tbody tr th {\n",
       "        vertical-align: top;\n",
       "    }\n",
       "\n",
       "    .dataframe thead th {\n",
       "        text-align: right;\n",
       "    }\n",
       "</style>\n",
       "<table border=\"1\" class=\"dataframe\">\n",
       "  <thead>\n",
       "    <tr style=\"text-align: right;\">\n",
       "      <th></th>\n",
       "      <th>TITLE</th>\n",
       "      <th>BULLET_POINTS</th>\n",
       "      <th>DESCRIPTION</th>\n",
       "    </tr>\n",
       "  </thead>\n",
       "  <tbody>\n",
       "    <tr>\n",
       "      <th>0</th>\n",
       "      <td>ArtzFolio Tulip Flowers Blackout Curtain for D...</td>\n",
       "      <td>[LUXURIOUS &amp; APPEALING: Beautiful custom-made ...</td>\n",
       "      <td>NaN</td>\n",
       "    </tr>\n",
       "    <tr>\n",
       "      <th>1</th>\n",
       "      <td>Marks &amp; Spencer Girls' Pyjama Sets T86_2561C_N...</td>\n",
       "      <td>[Harry Potter Hedwig Pyjamas (6-16 Yrs),100% c...</td>\n",
       "      <td>NaN</td>\n",
       "    </tr>\n",
       "    <tr>\n",
       "      <th>2</th>\n",
       "      <td>PRIKNIK Horn Red Electric Air Horn Compressor ...</td>\n",
       "      <td>[Loud Dual Tone Trumpet Horn, Compatible With ...</td>\n",
       "      <td>Specifications: Color: Red, Material: Aluminiu...</td>\n",
       "    </tr>\n",
       "    <tr>\n",
       "      <th>3</th>\n",
       "      <td>ALISHAH Women's Cotton Ankle Length Leggings C...</td>\n",
       "      <td>[Made By 95%cotton and 5% Lycra which gives yo...</td>\n",
       "      <td>AISHAH Women's Lycra Cotton Ankel Leggings. Br...</td>\n",
       "    </tr>\n",
       "    <tr>\n",
       "      <th>4</th>\n",
       "      <td>The United Empire Loyalists: A Chronicle of th...</td>\n",
       "      <td>NaN</td>\n",
       "      <td>NaN</td>\n",
       "    </tr>\n",
       "  </tbody>\n",
       "</table>\n",
       "</div>"
      ],
      "text/plain": [
       "                                               TITLE  \\\n",
       "0  ArtzFolio Tulip Flowers Blackout Curtain for D...   \n",
       "1  Marks & Spencer Girls' Pyjama Sets T86_2561C_N...   \n",
       "2  PRIKNIK Horn Red Electric Air Horn Compressor ...   \n",
       "3  ALISHAH Women's Cotton Ankle Length Leggings C...   \n",
       "4  The United Empire Loyalists: A Chronicle of th...   \n",
       "\n",
       "                                       BULLET_POINTS  \\\n",
       "0  [LUXURIOUS & APPEALING: Beautiful custom-made ...   \n",
       "1  [Harry Potter Hedwig Pyjamas (6-16 Yrs),100% c...   \n",
       "2  [Loud Dual Tone Trumpet Horn, Compatible With ...   \n",
       "3  [Made By 95%cotton and 5% Lycra which gives yo...   \n",
       "4                                                NaN   \n",
       "\n",
       "                                         DESCRIPTION  \n",
       "0                                                NaN  \n",
       "1                                                NaN  \n",
       "2  Specifications: Color: Red, Material: Aluminiu...  \n",
       "3  AISHAH Women's Lycra Cotton Ankel Leggings. Br...  \n",
       "4                                                NaN  "
      ]
     },
     "execution_count": 14,
     "metadata": {},
     "output_type": "execute_result"
    }
   ],
   "source": [
    "train1 = train[['TITLE','BULLET_POINTS','DESCRIPTION']]\n",
    "train1.head()"
   ]
  },
  {
   "cell_type": "code",
   "execution_count": 15,
   "id": "d0d57681",
   "metadata": {
    "execution": {
     "iopub.execute_input": "2023-04-21T21:18:01.938805Z",
     "iopub.status.busy": "2023-04-21T21:18:01.936298Z",
     "iopub.status.idle": "2023-04-21T21:18:02.054745Z",
     "shell.execute_reply": "2023-04-21T21:18:02.053508Z"
    },
    "papermill": {
     "duration": 0.130872,
     "end_time": "2023-04-21T21:18:02.057561",
     "exception": false,
     "start_time": "2023-04-21T21:18:01.926689",
     "status": "completed"
    },
    "tags": []
   },
   "outputs": [
    {
     "data": {
      "text/plain": [
       "PRODUCT_ID         0.000424\n",
       "PRODUCT_TYPE_ID    0.000961\n",
       "PRODUCT_LENGTH     1.000000\n",
       "Name: PRODUCT_LENGTH, dtype: float64"
      ]
     },
     "execution_count": 15,
     "metadata": {},
     "output_type": "execute_result"
    }
   ],
   "source": [
    "train.corr()['PRODUCT_LENGTH']"
   ]
  },
  {
   "cell_type": "code",
   "execution_count": 16,
   "id": "d0017e3a",
   "metadata": {
    "execution": {
     "iopub.execute_input": "2023-04-21T21:18:02.076008Z",
     "iopub.status.busy": "2023-04-21T21:18:02.075594Z",
     "iopub.status.idle": "2023-04-21T21:18:04.208439Z",
     "shell.execute_reply": "2023-04-21T21:18:04.207168Z"
    },
    "papermill": {
     "duration": 2.145299,
     "end_time": "2023-04-21T21:18:04.211378",
     "exception": false,
     "start_time": "2023-04-21T21:18:02.066079",
     "status": "completed"
    },
    "tags": []
   },
   "outputs": [],
   "source": [
    "from sklearn.model_selection import train_test_split\n",
    "X_train, X_test, y_train, y_test = train_test_split(train[['TITLE', 'BULLET_POINTS']], train['PRODUCT_LENGTH'], test_size=0.2, random_state=42)"
   ]
  },
  {
   "cell_type": "code",
   "execution_count": 17,
   "id": "cac060eb",
   "metadata": {
    "execution": {
     "iopub.execute_input": "2023-04-21T21:18:04.230612Z",
     "iopub.status.busy": "2023-04-21T21:18:04.229701Z",
     "iopub.status.idle": "2023-04-21T21:18:04.235923Z",
     "shell.execute_reply": "2023-04-21T21:18:04.234932Z"
    },
    "papermill": {
     "duration": 0.018654,
     "end_time": "2023-04-21T21:18:04.238439",
     "exception": false,
     "start_time": "2023-04-21T21:18:04.219785",
     "status": "completed"
    },
    "tags": []
   },
   "outputs": [],
   "source": [
    "# from sklearn.feature_extraction.text import CountVectorizer\n",
    "# from sklearn.linear_model import LinearRegression\n",
    "# vectorizer = CountVectorizer()\n",
    "# X_train_text = vectorizer.fit_transform(train1['TITLE'] + ' ' + train1['BULLET_POINTS'])\n",
    "# X_test_text = vectorizer.transform(test['TITLE'] + ' ' + test['BULLET_POINTS'])\n",
    "\n",
    "# # Train a linear regression model\n",
    "# regressor = LinearRegression()\n",
    "# regressor.fit(X_train_text, y_train)\n",
    "\n",
    "# # Evaluate the model on the test set\n",
    "# score = regressor.score(X_test_text, y_test)"
   ]
  },
  {
   "cell_type": "code",
   "execution_count": 18,
   "id": "7ca2751e",
   "metadata": {
    "execution": {
     "iopub.execute_input": "2023-04-21T21:18:04.257160Z",
     "iopub.status.busy": "2023-04-21T21:18:04.256551Z",
     "iopub.status.idle": "2023-04-21T21:18:04.263896Z",
     "shell.execute_reply": "2023-04-21T21:18:04.262590Z"
    },
    "papermill": {
     "duration": 0.019411,
     "end_time": "2023-04-21T21:18:04.266215",
     "exception": false,
     "start_time": "2023-04-21T21:18:04.246804",
     "status": "completed"
    },
    "tags": []
   },
   "outputs": [
    {
     "data": {
      "text/plain": [
       "'!\"#$%&\\'()*+,-./:;<=>?@[\\\\]^_`{|}~'"
      ]
     },
     "execution_count": 18,
     "metadata": {},
     "output_type": "execute_result"
    }
   ],
   "source": [
    "import string\n",
    "string.punctuation"
   ]
  },
  {
   "cell_type": "code",
   "execution_count": 19,
   "id": "2d01975f",
   "metadata": {
    "execution": {
     "iopub.execute_input": "2023-04-21T21:18:04.284742Z",
     "iopub.status.busy": "2023-04-21T21:18:04.284198Z",
     "iopub.status.idle": "2023-04-21T21:21:45.255867Z",
     "shell.execute_reply": "2023-04-21T21:21:45.254681Z"
    },
    "papermill": {
     "duration": 220.984568,
     "end_time": "2023-04-21T21:21:45.259072",
     "exception": false,
     "start_time": "2023-04-21T21:18:04.274504",
     "status": "completed"
    },
    "tags": []
   },
   "outputs": [],
   "source": [
    "def remove_punct(text):\n",
    "    if isinstance(text, str):\n",
    "        text_nopunct = \"\".join([char for char in text if char not in string.punctuation])\n",
    "    else:\n",
    "        text_nopunct = np.nan\n",
    "    return text_nopunct\n",
    "\n",
    "\n",
    "train['TITLE1'] = train['TITLE'].apply(lambda x :remove_punct(x))\n",
    "train['BULLET_POINTS1'] = train['BULLET_POINTS'].apply(lambda x :remove_punct(x))\n",
    "train['DESCRIPTION1'] = train['DESCRIPTION'].apply(lambda x :remove_punct(x))"
   ]
  },
  {
   "cell_type": "code",
   "execution_count": 20,
   "id": "4b37e6d4",
   "metadata": {
    "execution": {
     "iopub.execute_input": "2023-04-21T21:21:45.278353Z",
     "iopub.status.busy": "2023-04-21T21:21:45.277944Z",
     "iopub.status.idle": "2023-04-21T21:21:46.409750Z",
     "shell.execute_reply": "2023-04-21T21:21:46.408547Z"
    },
    "papermill": {
     "duration": 1.14397,
     "end_time": "2023-04-21T21:21:46.412231",
     "exception": false,
     "start_time": "2023-04-21T21:21:45.268261",
     "status": "completed"
    },
    "tags": []
   },
   "outputs": [
    {
     "data": {
      "text/html": [
       "<div>\n",
       "<style scoped>\n",
       "    .dataframe tbody tr th:only-of-type {\n",
       "        vertical-align: middle;\n",
       "    }\n",
       "\n",
       "    .dataframe tbody tr th {\n",
       "        vertical-align: top;\n",
       "    }\n",
       "\n",
       "    .dataframe thead th {\n",
       "        text-align: right;\n",
       "    }\n",
       "</style>\n",
       "<table border=\"1\" class=\"dataframe\">\n",
       "  <thead>\n",
       "    <tr style=\"text-align: right;\">\n",
       "      <th></th>\n",
       "      <th>PRODUCT_ID</th>\n",
       "      <th>PRODUCT_TYPE_ID</th>\n",
       "      <th>PRODUCT_LENGTH</th>\n",
       "      <th>TITLE1</th>\n",
       "      <th>BULLET_POINTS1</th>\n",
       "      <th>DESCRIPTION1</th>\n",
       "    </tr>\n",
       "  </thead>\n",
       "  <tbody>\n",
       "    <tr>\n",
       "      <th>0</th>\n",
       "      <td>1925202</td>\n",
       "      <td>1650</td>\n",
       "      <td>2125.980000</td>\n",
       "      <td>ArtzFolio Tulip Flowers Blackout Curtain for D...</td>\n",
       "      <td>LUXURIOUS  APPEALING Beautiful custommade curt...</td>\n",
       "      <td>NaN</td>\n",
       "    </tr>\n",
       "    <tr>\n",
       "      <th>1</th>\n",
       "      <td>2673191</td>\n",
       "      <td>2755</td>\n",
       "      <td>393.700000</td>\n",
       "      <td>Marks  Spencer Girls Pyjama Sets T862561CNavy ...</td>\n",
       "      <td>Harry Potter Hedwig Pyjamas 616 Yrs100 cotton ...</td>\n",
       "      <td>NaN</td>\n",
       "    </tr>\n",
       "    <tr>\n",
       "      <th>2</th>\n",
       "      <td>2765088</td>\n",
       "      <td>7537</td>\n",
       "      <td>748.031495</td>\n",
       "      <td>PRIKNIK Horn Red Electric Air Horn Compressor ...</td>\n",
       "      <td>Loud Dual Tone Trumpet Horn Compatible With SX...</td>\n",
       "      <td>Specifications Color Red Material Aluminium Vo...</td>\n",
       "    </tr>\n",
       "    <tr>\n",
       "      <th>3</th>\n",
       "      <td>1594019</td>\n",
       "      <td>2996</td>\n",
       "      <td>787.401574</td>\n",
       "      <td>ALISHAH Womens Cotton Ankle Length Leggings Co...</td>\n",
       "      <td>Made By 95cotton and 5 Lycra which gives you 4...</td>\n",
       "      <td>AISHAH Womens Lycra Cotton Ankel Leggings Bran...</td>\n",
       "    </tr>\n",
       "    <tr>\n",
       "      <th>4</th>\n",
       "      <td>283658</td>\n",
       "      <td>6112</td>\n",
       "      <td>598.424000</td>\n",
       "      <td>The United Empire Loyalists A Chronicle of the...</td>\n",
       "      <td>NaN</td>\n",
       "      <td>NaN</td>\n",
       "    </tr>\n",
       "    <tr>\n",
       "      <th>...</th>\n",
       "      <td>...</td>\n",
       "      <td>...</td>\n",
       "      <td>...</td>\n",
       "      <td>...</td>\n",
       "      <td>...</td>\n",
       "      <td>...</td>\n",
       "    </tr>\n",
       "    <tr>\n",
       "      <th>2249693</th>\n",
       "      <td>2422167</td>\n",
       "      <td>3009</td>\n",
       "      <td>1181.100000</td>\n",
       "      <td>Nike Womens As W Ny Df Swsh Hn Kh Bra CZ761001...</td>\n",
       "      <td>Material  Polyester</td>\n",
       "      <td>NaN</td>\n",
       "    </tr>\n",
       "    <tr>\n",
       "      <th>2249694</th>\n",
       "      <td>2766635</td>\n",
       "      <td>3413</td>\n",
       "      <td>125.984252</td>\n",
       "      <td>3PCS Goose Game Cute Cartoon Enamel Pins Funny...</td>\n",
       "      <td>❤ Inspiration Inspired by the Untitled Goose G...</td>\n",
       "      <td>pbBrand bXVIEONRp pbrp pbProduct name bFashion...</td>\n",
       "    </tr>\n",
       "    <tr>\n",
       "      <th>2249695</th>\n",
       "      <td>1987786</td>\n",
       "      <td>1574</td>\n",
       "      <td>1200.000000</td>\n",
       "      <td>Kangroo Sweep Movement Printed Wooden Wall Clo...</td>\n",
       "      <td>Dial size 12 inches in diameterBig clear repre...</td>\n",
       "      <td>Wall Clocks Are Very Attractive In Looks And E...</td>\n",
       "    </tr>\n",
       "    <tr>\n",
       "      <th>2249696</th>\n",
       "      <td>1165754</td>\n",
       "      <td>592</td>\n",
       "      <td>2900.000000</td>\n",
       "      <td>Electro Voice EKXBRKT15  Wall Mount Bracket fo...</td>\n",
       "      <td>NaN</td>\n",
       "      <td>NaN</td>\n",
       "    </tr>\n",
       "    <tr>\n",
       "      <th>2249697</th>\n",
       "      <td>1072666</td>\n",
       "      <td>7367</td>\n",
       "      <td>2000.000000</td>\n",
       "      <td>Skyjacker C7360SP Component Box For PNC7360PK ...</td>\n",
       "      <td>Component Box For PNC7360PK4 in LiftIncl Front...</td>\n",
       "      <td>Skyjacker C7360SP Component Box For PNC7360PK ...</td>\n",
       "    </tr>\n",
       "  </tbody>\n",
       "</table>\n",
       "<p>2249698 rows × 6 columns</p>\n",
       "</div>"
      ],
      "text/plain": [
       "         PRODUCT_ID  PRODUCT_TYPE_ID  PRODUCT_LENGTH  \\\n",
       "0           1925202             1650     2125.980000   \n",
       "1           2673191             2755      393.700000   \n",
       "2           2765088             7537      748.031495   \n",
       "3           1594019             2996      787.401574   \n",
       "4            283658             6112      598.424000   \n",
       "...             ...              ...             ...   \n",
       "2249693     2422167             3009     1181.100000   \n",
       "2249694     2766635             3413      125.984252   \n",
       "2249695     1987786             1574     1200.000000   \n",
       "2249696     1165754              592     2900.000000   \n",
       "2249697     1072666             7367     2000.000000   \n",
       "\n",
       "                                                    TITLE1  \\\n",
       "0        ArtzFolio Tulip Flowers Blackout Curtain for D...   \n",
       "1        Marks  Spencer Girls Pyjama Sets T862561CNavy ...   \n",
       "2        PRIKNIK Horn Red Electric Air Horn Compressor ...   \n",
       "3        ALISHAH Womens Cotton Ankle Length Leggings Co...   \n",
       "4        The United Empire Loyalists A Chronicle of the...   \n",
       "...                                                    ...   \n",
       "2249693  Nike Womens As W Ny Df Swsh Hn Kh Bra CZ761001...   \n",
       "2249694  3PCS Goose Game Cute Cartoon Enamel Pins Funny...   \n",
       "2249695  Kangroo Sweep Movement Printed Wooden Wall Clo...   \n",
       "2249696  Electro Voice EKXBRKT15  Wall Mount Bracket fo...   \n",
       "2249697  Skyjacker C7360SP Component Box For PNC7360PK ...   \n",
       "\n",
       "                                            BULLET_POINTS1  \\\n",
       "0        LUXURIOUS  APPEALING Beautiful custommade curt...   \n",
       "1        Harry Potter Hedwig Pyjamas 616 Yrs100 cotton ...   \n",
       "2        Loud Dual Tone Trumpet Horn Compatible With SX...   \n",
       "3        Made By 95cotton and 5 Lycra which gives you 4...   \n",
       "4                                                      NaN   \n",
       "...                                                    ...   \n",
       "2249693                                Material  Polyester   \n",
       "2249694  ❤ Inspiration Inspired by the Untitled Goose G...   \n",
       "2249695  Dial size 12 inches in diameterBig clear repre...   \n",
       "2249696                                                NaN   \n",
       "2249697  Component Box For PNC7360PK4 in LiftIncl Front...   \n",
       "\n",
       "                                              DESCRIPTION1  \n",
       "0                                                      NaN  \n",
       "1                                                      NaN  \n",
       "2        Specifications Color Red Material Aluminium Vo...  \n",
       "3        AISHAH Womens Lycra Cotton Ankel Leggings Bran...  \n",
       "4                                                      NaN  \n",
       "...                                                    ...  \n",
       "2249693                                                NaN  \n",
       "2249694  pbBrand bXVIEONRp pbrp pbProduct name bFashion...  \n",
       "2249695  Wall Clocks Are Very Attractive In Looks And E...  \n",
       "2249696                                                NaN  \n",
       "2249697  Skyjacker C7360SP Component Box For PNC7360PK ...  \n",
       "\n",
       "[2249698 rows x 6 columns]"
      ]
     },
     "execution_count": 20,
     "metadata": {},
     "output_type": "execute_result"
    }
   ],
   "source": [
    "train.drop(['TITLE','BULLET_POINTS','DESCRIPTION'],axis=1)"
   ]
  },
  {
   "cell_type": "code",
   "execution_count": 21,
   "id": "3adfad40",
   "metadata": {
    "execution": {
     "iopub.execute_input": "2023-04-21T21:21:46.431531Z",
     "iopub.status.busy": "2023-04-21T21:21:46.431109Z",
     "iopub.status.idle": "2023-04-21T21:22:51.024513Z",
     "shell.execute_reply": "2023-04-21T21:22:51.023007Z"
    },
    "papermill": {
     "duration": 64.606661,
     "end_time": "2023-04-21T21:22:51.027506",
     "exception": false,
     "start_time": "2023-04-21T21:21:46.420845",
     "status": "completed"
    },
    "tags": []
   },
   "outputs": [],
   "source": [
    "import re\n",
    "def tokenize(text):\n",
    "    tokens = re.split('\\W+',text)\n",
    "    return tokens\n",
    "train['TITLE1'] = train['TITLE1'].fillna('')\n",
    "train['TITLE2'] = train['TITLE1'].apply(lambda x :tokenize(x.lower()))\n",
    "train['BULLET_POINTS1'] = train['TITLE1'].fillna('')\n",
    "train['BULLET_POINTS2'] = train['BULLET_POINTS1'].apply(lambda x :tokenize(x.lower()))\n",
    "train['DESCRIPTION1'] = train['TITLE1'].fillna('')\n",
    "train['DESCRIPTION2'] = train['DESCRIPTION1'].apply(lambda x :tokenize(x.lower()))"
   ]
  },
  {
   "cell_type": "code",
   "execution_count": 22,
   "id": "0f939fb8",
   "metadata": {
    "execution": {
     "iopub.execute_input": "2023-04-21T21:22:51.048570Z",
     "iopub.status.busy": "2023-04-21T21:22:51.047236Z",
     "iopub.status.idle": "2023-04-21T21:22:51.073565Z",
     "shell.execute_reply": "2023-04-21T21:22:51.072234Z"
    },
    "papermill": {
     "duration": 0.039391,
     "end_time": "2023-04-21T21:22:51.076197",
     "exception": false,
     "start_time": "2023-04-21T21:22:51.036806",
     "status": "completed"
    },
    "tags": []
   },
   "outputs": [
    {
     "data": {
      "text/html": [
       "<div>\n",
       "<style scoped>\n",
       "    .dataframe tbody tr th:only-of-type {\n",
       "        vertical-align: middle;\n",
       "    }\n",
       "\n",
       "    .dataframe tbody tr th {\n",
       "        vertical-align: top;\n",
       "    }\n",
       "\n",
       "    .dataframe thead th {\n",
       "        text-align: right;\n",
       "    }\n",
       "</style>\n",
       "<table border=\"1\" class=\"dataframe\">\n",
       "  <thead>\n",
       "    <tr style=\"text-align: right;\">\n",
       "      <th></th>\n",
       "      <th>PRODUCT_ID</th>\n",
       "      <th>TITLE</th>\n",
       "      <th>BULLET_POINTS</th>\n",
       "      <th>DESCRIPTION</th>\n",
       "      <th>PRODUCT_TYPE_ID</th>\n",
       "      <th>PRODUCT_LENGTH</th>\n",
       "      <th>TITLE1</th>\n",
       "      <th>BULLET_POINTS1</th>\n",
       "      <th>DESCRIPTION1</th>\n",
       "      <th>TITLE2</th>\n",
       "      <th>BULLET_POINTS2</th>\n",
       "      <th>DESCRIPTION2</th>\n",
       "    </tr>\n",
       "  </thead>\n",
       "  <tbody>\n",
       "    <tr>\n",
       "      <th>0</th>\n",
       "      <td>1925202</td>\n",
       "      <td>ArtzFolio Tulip Flowers Blackout Curtain for D...</td>\n",
       "      <td>[LUXURIOUS &amp; APPEALING: Beautiful custom-made ...</td>\n",
       "      <td>NaN</td>\n",
       "      <td>1650</td>\n",
       "      <td>2125.980000</td>\n",
       "      <td>ArtzFolio Tulip Flowers Blackout Curtain for D...</td>\n",
       "      <td>ArtzFolio Tulip Flowers Blackout Curtain for D...</td>\n",
       "      <td>ArtzFolio Tulip Flowers Blackout Curtain for D...</td>\n",
       "      <td>[artzfolio, tulip, flowers, blackout, curtain,...</td>\n",
       "      <td>[artzfolio, tulip, flowers, blackout, curtain,...</td>\n",
       "      <td>[artzfolio, tulip, flowers, blackout, curtain,...</td>\n",
       "    </tr>\n",
       "    <tr>\n",
       "      <th>1</th>\n",
       "      <td>2673191</td>\n",
       "      <td>Marks &amp; Spencer Girls' Pyjama Sets T86_2561C_N...</td>\n",
       "      <td>[Harry Potter Hedwig Pyjamas (6-16 Yrs),100% c...</td>\n",
       "      <td>NaN</td>\n",
       "      <td>2755</td>\n",
       "      <td>393.700000</td>\n",
       "      <td>Marks  Spencer Girls Pyjama Sets T862561CNavy ...</td>\n",
       "      <td>Marks  Spencer Girls Pyjama Sets T862561CNavy ...</td>\n",
       "      <td>Marks  Spencer Girls Pyjama Sets T862561CNavy ...</td>\n",
       "      <td>[marks, spencer, girls, pyjama, sets, t862561c...</td>\n",
       "      <td>[marks, spencer, girls, pyjama, sets, t862561c...</td>\n",
       "      <td>[marks, spencer, girls, pyjama, sets, t862561c...</td>\n",
       "    </tr>\n",
       "    <tr>\n",
       "      <th>2</th>\n",
       "      <td>2765088</td>\n",
       "      <td>PRIKNIK Horn Red Electric Air Horn Compressor ...</td>\n",
       "      <td>[Loud Dual Tone Trumpet Horn, Compatible With ...</td>\n",
       "      <td>Specifications: Color: Red, Material: Aluminiu...</td>\n",
       "      <td>7537</td>\n",
       "      <td>748.031495</td>\n",
       "      <td>PRIKNIK Horn Red Electric Air Horn Compressor ...</td>\n",
       "      <td>PRIKNIK Horn Red Electric Air Horn Compressor ...</td>\n",
       "      <td>PRIKNIK Horn Red Electric Air Horn Compressor ...</td>\n",
       "      <td>[priknik, horn, red, electric, air, horn, comp...</td>\n",
       "      <td>[priknik, horn, red, electric, air, horn, comp...</td>\n",
       "      <td>[priknik, horn, red, electric, air, horn, comp...</td>\n",
       "    </tr>\n",
       "    <tr>\n",
       "      <th>3</th>\n",
       "      <td>1594019</td>\n",
       "      <td>ALISHAH Women's Cotton Ankle Length Leggings C...</td>\n",
       "      <td>[Made By 95%cotton and 5% Lycra which gives yo...</td>\n",
       "      <td>AISHAH Women's Lycra Cotton Ankel Leggings. Br...</td>\n",
       "      <td>2996</td>\n",
       "      <td>787.401574</td>\n",
       "      <td>ALISHAH Womens Cotton Ankle Length Leggings Co...</td>\n",
       "      <td>ALISHAH Womens Cotton Ankle Length Leggings Co...</td>\n",
       "      <td>ALISHAH Womens Cotton Ankle Length Leggings Co...</td>\n",
       "      <td>[alishah, womens, cotton, ankle, length, leggi...</td>\n",
       "      <td>[alishah, womens, cotton, ankle, length, leggi...</td>\n",
       "      <td>[alishah, womens, cotton, ankle, length, leggi...</td>\n",
       "    </tr>\n",
       "    <tr>\n",
       "      <th>4</th>\n",
       "      <td>283658</td>\n",
       "      <td>The United Empire Loyalists: A Chronicle of th...</td>\n",
       "      <td>NaN</td>\n",
       "      <td>NaN</td>\n",
       "      <td>6112</td>\n",
       "      <td>598.424000</td>\n",
       "      <td>The United Empire Loyalists A Chronicle of the...</td>\n",
       "      <td>The United Empire Loyalists A Chronicle of the...</td>\n",
       "      <td>The United Empire Loyalists A Chronicle of the...</td>\n",
       "      <td>[the, united, empire, loyalists, a, chronicle,...</td>\n",
       "      <td>[the, united, empire, loyalists, a, chronicle,...</td>\n",
       "      <td>[the, united, empire, loyalists, a, chronicle,...</td>\n",
       "    </tr>\n",
       "  </tbody>\n",
       "</table>\n",
       "</div>"
      ],
      "text/plain": [
       "   PRODUCT_ID                                              TITLE  \\\n",
       "0     1925202  ArtzFolio Tulip Flowers Blackout Curtain for D...   \n",
       "1     2673191  Marks & Spencer Girls' Pyjama Sets T86_2561C_N...   \n",
       "2     2765088  PRIKNIK Horn Red Electric Air Horn Compressor ...   \n",
       "3     1594019  ALISHAH Women's Cotton Ankle Length Leggings C...   \n",
       "4      283658  The United Empire Loyalists: A Chronicle of th...   \n",
       "\n",
       "                                       BULLET_POINTS  \\\n",
       "0  [LUXURIOUS & APPEALING: Beautiful custom-made ...   \n",
       "1  [Harry Potter Hedwig Pyjamas (6-16 Yrs),100% c...   \n",
       "2  [Loud Dual Tone Trumpet Horn, Compatible With ...   \n",
       "3  [Made By 95%cotton and 5% Lycra which gives yo...   \n",
       "4                                                NaN   \n",
       "\n",
       "                                         DESCRIPTION  PRODUCT_TYPE_ID  \\\n",
       "0                                                NaN             1650   \n",
       "1                                                NaN             2755   \n",
       "2  Specifications: Color: Red, Material: Aluminiu...             7537   \n",
       "3  AISHAH Women's Lycra Cotton Ankel Leggings. Br...             2996   \n",
       "4                                                NaN             6112   \n",
       "\n",
       "   PRODUCT_LENGTH                                             TITLE1  \\\n",
       "0     2125.980000  ArtzFolio Tulip Flowers Blackout Curtain for D...   \n",
       "1      393.700000  Marks  Spencer Girls Pyjama Sets T862561CNavy ...   \n",
       "2      748.031495  PRIKNIK Horn Red Electric Air Horn Compressor ...   \n",
       "3      787.401574  ALISHAH Womens Cotton Ankle Length Leggings Co...   \n",
       "4      598.424000  The United Empire Loyalists A Chronicle of the...   \n",
       "\n",
       "                                      BULLET_POINTS1  \\\n",
       "0  ArtzFolio Tulip Flowers Blackout Curtain for D...   \n",
       "1  Marks  Spencer Girls Pyjama Sets T862561CNavy ...   \n",
       "2  PRIKNIK Horn Red Electric Air Horn Compressor ...   \n",
       "3  ALISHAH Womens Cotton Ankle Length Leggings Co...   \n",
       "4  The United Empire Loyalists A Chronicle of the...   \n",
       "\n",
       "                                        DESCRIPTION1  \\\n",
       "0  ArtzFolio Tulip Flowers Blackout Curtain for D...   \n",
       "1  Marks  Spencer Girls Pyjama Sets T862561CNavy ...   \n",
       "2  PRIKNIK Horn Red Electric Air Horn Compressor ...   \n",
       "3  ALISHAH Womens Cotton Ankle Length Leggings Co...   \n",
       "4  The United Empire Loyalists A Chronicle of the...   \n",
       "\n",
       "                                              TITLE2  \\\n",
       "0  [artzfolio, tulip, flowers, blackout, curtain,...   \n",
       "1  [marks, spencer, girls, pyjama, sets, t862561c...   \n",
       "2  [priknik, horn, red, electric, air, horn, comp...   \n",
       "3  [alishah, womens, cotton, ankle, length, leggi...   \n",
       "4  [the, united, empire, loyalists, a, chronicle,...   \n",
       "\n",
       "                                      BULLET_POINTS2  \\\n",
       "0  [artzfolio, tulip, flowers, blackout, curtain,...   \n",
       "1  [marks, spencer, girls, pyjama, sets, t862561c...   \n",
       "2  [priknik, horn, red, electric, air, horn, comp...   \n",
       "3  [alishah, womens, cotton, ankle, length, leggi...   \n",
       "4  [the, united, empire, loyalists, a, chronicle,...   \n",
       "\n",
       "                                        DESCRIPTION2  \n",
       "0  [artzfolio, tulip, flowers, blackout, curtain,...  \n",
       "1  [marks, spencer, girls, pyjama, sets, t862561c...  \n",
       "2  [priknik, horn, red, electric, air, horn, comp...  \n",
       "3  [alishah, womens, cotton, ankle, length, leggi...  \n",
       "4  [the, united, empire, loyalists, a, chronicle,...  "
      ]
     },
     "execution_count": 22,
     "metadata": {},
     "output_type": "execute_result"
    }
   ],
   "source": [
    "train.head()"
   ]
  },
  {
   "cell_type": "code",
   "execution_count": 23,
   "id": "99871c54",
   "metadata": {
    "execution": {
     "iopub.execute_input": "2023-04-21T21:22:51.097482Z",
     "iopub.status.busy": "2023-04-21T21:22:51.097070Z",
     "iopub.status.idle": "2023-04-21T21:22:51.101936Z",
     "shell.execute_reply": "2023-04-21T21:22:51.100811Z"
    },
    "papermill": {
     "duration": 0.018461,
     "end_time": "2023-04-21T21:22:51.104591",
     "exception": false,
     "start_time": "2023-04-21T21:22:51.086130",
     "status": "completed"
    },
    "tags": []
   },
   "outputs": [],
   "source": [
    "# print(train['TITLE'][0])\n",
    "# print(train['TITLE_NEW'][0])"
   ]
  }
 ],
 "metadata": {
  "kernelspec": {
   "display_name": "Python 3",
   "language": "python",
   "name": "python3"
  },
  "language_info": {
   "codemirror_mode": {
    "name": "ipython",
    "version": 3
   },
   "file_extension": ".py",
   "mimetype": "text/x-python",
   "name": "python",
   "nbconvert_exporter": "python",
   "pygments_lexer": "ipython3",
   "version": "3.7.12"
  },
  "papermill": {
   "default_parameters": {},
   "duration": 376.683648,
   "end_time": "2023-04-21T21:22:54.540149",
   "environment_variables": {},
   "exception": null,
   "input_path": "__notebook__.ipynb",
   "output_path": "__notebook__.ipynb",
   "parameters": {},
   "start_time": "2023-04-21T21:16:37.856501",
   "version": "2.4.0"
  }
 },
 "nbformat": 4,
 "nbformat_minor": 5
}
