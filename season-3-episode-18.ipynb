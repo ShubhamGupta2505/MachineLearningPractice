{
 "cells": [
  {
   "cell_type": "code",
   "execution_count": 1,
   "id": "7eef7614",
   "metadata": {
    "_cell_guid": "b1076dfc-b9ad-4769-8c92-a6c4dae69d19",
    "_uuid": "8f2839f25d086af736a60e9eeb907d3b93b6e0e5",
    "execution": {
     "iopub.execute_input": "2023-07-02T07:35:55.660906Z",
     "iopub.status.busy": "2023-07-02T07:35:55.660416Z",
     "iopub.status.idle": "2023-07-02T07:35:55.675576Z",
     "shell.execute_reply": "2023-07-02T07:35:55.674478Z"
    },
    "papermill": {
     "duration": 0.035182,
     "end_time": "2023-07-02T07:35:55.678700",
     "exception": false,
     "start_time": "2023-07-02T07:35:55.643518",
     "status": "completed"
    },
    "tags": []
   },
   "outputs": [
    {
     "name": "stdout",
     "output_type": "stream",
     "text": [
      "/kaggle/input/playground-series-s3e18/sample_submission.csv\n",
      "/kaggle/input/playground-series-s3e18/train.csv\n",
      "/kaggle/input/playground-series-s3e18/test.csv\n"
     ]
    }
   ],
   "source": [
    "# This Python 3 environment comes with many helpful analytics libraries installed\n",
    "# It is defined by the kaggle/python Docker image: https://github.com/kaggle/docker-python\n",
    "# For example, here's several helpful packages to load\n",
    "\n",
    "import numpy as np # linear algebra\n",
    "import pandas as pd # data processing, CSV file I/O (e.g. pd.read_csv)\n",
    "\n",
    "# Input data files are available in the read-only \"../input/\" directory\n",
    "# For example, running this (by clicking run or pressing Shift+Enter) will list all files under the input directory\n",
    "\n",
    "import os\n",
    "for dirname, _, filenames in os.walk('/kaggle/input'):\n",
    "    for filename in filenames:\n",
    "        print(os.path.join(dirname, filename))\n",
    "\n",
    "# You can write up to 20GB to the current directory (/kaggle/working/) that gets preserved as output when you create a version using \"Save & Run All\" \n",
    "# You can also write temporary files to /kaggle/temp/, but they won't be saved outside of the current session"
   ]
  },
  {
   "cell_type": "code",
   "execution_count": 2,
   "id": "cfa6c2cc",
   "metadata": {
    "execution": {
     "iopub.execute_input": "2023-07-02T07:35:55.706765Z",
     "iopub.status.busy": "2023-07-02T07:35:55.705984Z",
     "iopub.status.idle": "2023-07-02T07:35:57.712392Z",
     "shell.execute_reply": "2023-07-02T07:35:57.711253Z"
    },
    "papermill": {
     "duration": 2.023279,
     "end_time": "2023-07-02T07:35:57.715157",
     "exception": false,
     "start_time": "2023-07-02T07:35:55.691878",
     "status": "completed"
    },
    "tags": []
   },
   "outputs": [],
   "source": [
    "import pandas as pd\n",
    "from sklearn.model_selection import train_test_split\n",
    "from sklearn.compose import ColumnTransformer\n",
    "from sklearn.pipeline import Pipeline\n",
    "from sklearn.impute import SimpleImputer\n",
    "from sklearn.ensemble import RandomForestRegressor\n",
    "from sklearn.preprocessing import OneHotEncoder\n",
    "from sklearn.metrics import mean_absolute_error\n",
    "from sklearn.linear_model import LogisticRegression\n",
    "from sklearn.ensemble import RandomForestClassifier"
   ]
  },
  {
   "cell_type": "code",
   "execution_count": 3,
   "id": "47f10015",
   "metadata": {
    "execution": {
     "iopub.execute_input": "2023-07-02T07:35:57.742993Z",
     "iopub.status.busy": "2023-07-02T07:35:57.741430Z",
     "iopub.status.idle": "2023-07-02T07:35:57.985735Z",
     "shell.execute_reply": "2023-07-02T07:35:57.984493Z"
    },
    "papermill": {
     "duration": 0.260414,
     "end_time": "2023-07-02T07:35:57.988144",
     "exception": false,
     "start_time": "2023-07-02T07:35:57.727730",
     "status": "completed"
    },
    "tags": []
   },
   "outputs": [
    {
     "data": {
      "text/html": [
       "<div>\n",
       "<style scoped>\n",
       "    .dataframe tbody tr th:only-of-type {\n",
       "        vertical-align: middle;\n",
       "    }\n",
       "\n",
       "    .dataframe tbody tr th {\n",
       "        vertical-align: top;\n",
       "    }\n",
       "\n",
       "    .dataframe thead th {\n",
       "        text-align: right;\n",
       "    }\n",
       "</style>\n",
       "<table border=\"1\" class=\"dataframe\">\n",
       "  <thead>\n",
       "    <tr style=\"text-align: right;\">\n",
       "      <th></th>\n",
       "      <th>id</th>\n",
       "      <th>BertzCT</th>\n",
       "      <th>Chi1</th>\n",
       "      <th>Chi1n</th>\n",
       "      <th>Chi1v</th>\n",
       "      <th>Chi2n</th>\n",
       "      <th>Chi2v</th>\n",
       "      <th>Chi3v</th>\n",
       "      <th>Chi4n</th>\n",
       "      <th>EState_VSA1</th>\n",
       "      <th>...</th>\n",
       "      <th>SlogP_VSA3</th>\n",
       "      <th>VSA_EState9</th>\n",
       "      <th>fr_COO</th>\n",
       "      <th>fr_COO2</th>\n",
       "      <th>EC1</th>\n",
       "      <th>EC2</th>\n",
       "      <th>EC3</th>\n",
       "      <th>EC4</th>\n",
       "      <th>EC5</th>\n",
       "      <th>EC6</th>\n",
       "    </tr>\n",
       "  </thead>\n",
       "  <tbody>\n",
       "    <tr>\n",
       "      <th>0</th>\n",
       "      <td>0</td>\n",
       "      <td>323.390782</td>\n",
       "      <td>9.879918</td>\n",
       "      <td>5.875576</td>\n",
       "      <td>5.875576</td>\n",
       "      <td>4.304757</td>\n",
       "      <td>4.304757</td>\n",
       "      <td>2.754513</td>\n",
       "      <td>1.749203</td>\n",
       "      <td>0.000000</td>\n",
       "      <td>...</td>\n",
       "      <td>4.794537</td>\n",
       "      <td>35.527357</td>\n",
       "      <td>0</td>\n",
       "      <td>0</td>\n",
       "      <td>1</td>\n",
       "      <td>1</td>\n",
       "      <td>0</td>\n",
       "      <td>0</td>\n",
       "      <td>0</td>\n",
       "      <td>0</td>\n",
       "    </tr>\n",
       "    <tr>\n",
       "      <th>1</th>\n",
       "      <td>1</td>\n",
       "      <td>273.723798</td>\n",
       "      <td>7.259037</td>\n",
       "      <td>4.441467</td>\n",
       "      <td>5.834958</td>\n",
       "      <td>3.285046</td>\n",
       "      <td>4.485235</td>\n",
       "      <td>2.201375</td>\n",
       "      <td>1.289775</td>\n",
       "      <td>45.135471</td>\n",
       "      <td>...</td>\n",
       "      <td>13.825658</td>\n",
       "      <td>44.707310</td>\n",
       "      <td>0</td>\n",
       "      <td>0</td>\n",
       "      <td>0</td>\n",
       "      <td>1</td>\n",
       "      <td>1</td>\n",
       "      <td>0</td>\n",
       "      <td>0</td>\n",
       "      <td>0</td>\n",
       "    </tr>\n",
       "    <tr>\n",
       "      <th>2</th>\n",
       "      <td>2</td>\n",
       "      <td>521.643822</td>\n",
       "      <td>10.911303</td>\n",
       "      <td>8.527859</td>\n",
       "      <td>11.050864</td>\n",
       "      <td>6.665291</td>\n",
       "      <td>9.519706</td>\n",
       "      <td>5.824822</td>\n",
       "      <td>1.770579</td>\n",
       "      <td>15.645394</td>\n",
       "      <td>...</td>\n",
       "      <td>17.964475</td>\n",
       "      <td>45.660120</td>\n",
       "      <td>0</td>\n",
       "      <td>0</td>\n",
       "      <td>1</td>\n",
       "      <td>1</td>\n",
       "      <td>0</td>\n",
       "      <td>0</td>\n",
       "      <td>1</td>\n",
       "      <td>0</td>\n",
       "    </tr>\n",
       "    <tr>\n",
       "      <th>3</th>\n",
       "      <td>3</td>\n",
       "      <td>567.431166</td>\n",
       "      <td>12.453343</td>\n",
       "      <td>7.089119</td>\n",
       "      <td>12.833709</td>\n",
       "      <td>6.478023</td>\n",
       "      <td>10.978151</td>\n",
       "      <td>7.914542</td>\n",
       "      <td>3.067181</td>\n",
       "      <td>95.639554</td>\n",
       "      <td>...</td>\n",
       "      <td>31.961948</td>\n",
       "      <td>87.509997</td>\n",
       "      <td>0</td>\n",
       "      <td>0</td>\n",
       "      <td>1</td>\n",
       "      <td>1</td>\n",
       "      <td>0</td>\n",
       "      <td>0</td>\n",
       "      <td>0</td>\n",
       "      <td>0</td>\n",
       "    </tr>\n",
       "    <tr>\n",
       "      <th>4</th>\n",
       "      <td>4</td>\n",
       "      <td>112.770735</td>\n",
       "      <td>4.414719</td>\n",
       "      <td>2.866236</td>\n",
       "      <td>2.866236</td>\n",
       "      <td>1.875634</td>\n",
       "      <td>1.875634</td>\n",
       "      <td>1.036450</td>\n",
       "      <td>0.727664</td>\n",
       "      <td>17.980451</td>\n",
       "      <td>...</td>\n",
       "      <td>9.589074</td>\n",
       "      <td>33.333333</td>\n",
       "      <td>2</td>\n",
       "      <td>2</td>\n",
       "      <td>1</td>\n",
       "      <td>0</td>\n",
       "      <td>1</td>\n",
       "      <td>1</td>\n",
       "      <td>1</td>\n",
       "      <td>0</td>\n",
       "    </tr>\n",
       "  </tbody>\n",
       "</table>\n",
       "<p>5 rows × 38 columns</p>\n",
       "</div>"
      ],
      "text/plain": [
       "   id     BertzCT       Chi1     Chi1n      Chi1v     Chi2n      Chi2v  \\\n",
       "0   0  323.390782   9.879918  5.875576   5.875576  4.304757   4.304757   \n",
       "1   1  273.723798   7.259037  4.441467   5.834958  3.285046   4.485235   \n",
       "2   2  521.643822  10.911303  8.527859  11.050864  6.665291   9.519706   \n",
       "3   3  567.431166  12.453343  7.089119  12.833709  6.478023  10.978151   \n",
       "4   4  112.770735   4.414719  2.866236   2.866236  1.875634   1.875634   \n",
       "\n",
       "      Chi3v     Chi4n  EState_VSA1  ...  SlogP_VSA3  VSA_EState9  fr_COO  \\\n",
       "0  2.754513  1.749203     0.000000  ...    4.794537    35.527357       0   \n",
       "1  2.201375  1.289775    45.135471  ...   13.825658    44.707310       0   \n",
       "2  5.824822  1.770579    15.645394  ...   17.964475    45.660120       0   \n",
       "3  7.914542  3.067181    95.639554  ...   31.961948    87.509997       0   \n",
       "4  1.036450  0.727664    17.980451  ...    9.589074    33.333333       2   \n",
       "\n",
       "   fr_COO2  EC1  EC2  EC3  EC4  EC5  EC6  \n",
       "0        0    1    1    0    0    0    0  \n",
       "1        0    0    1    1    0    0    0  \n",
       "2        0    1    1    0    0    1    0  \n",
       "3        0    1    1    0    0    0    0  \n",
       "4        2    1    0    1    1    1    0  \n",
       "\n",
       "[5 rows x 38 columns]"
      ]
     },
     "execution_count": 3,
     "metadata": {},
     "output_type": "execute_result"
    }
   ],
   "source": [
    "train = pd.read_csv('/kaggle/input/playground-series-s3e18/train.csv')\n",
    "train.head()"
   ]
  },
  {
   "cell_type": "code",
   "execution_count": 4,
   "id": "4c8fd6c8",
   "metadata": {
    "execution": {
     "iopub.execute_input": "2023-07-02T07:35:58.016766Z",
     "iopub.status.busy": "2023-07-02T07:35:58.015683Z",
     "iopub.status.idle": "2023-07-02T07:35:58.022160Z",
     "shell.execute_reply": "2023-07-02T07:35:58.021350Z"
    },
    "papermill": {
     "duration": 0.022805,
     "end_time": "2023-07-02T07:35:58.024290",
     "exception": false,
     "start_time": "2023-07-02T07:35:58.001485",
     "status": "completed"
    },
    "tags": []
   },
   "outputs": [
    {
     "data": {
      "text/plain": [
       "(14838, 38)"
      ]
     },
     "execution_count": 4,
     "metadata": {},
     "output_type": "execute_result"
    }
   ],
   "source": [
    "train.shape"
   ]
  },
  {
   "cell_type": "code",
   "execution_count": 5,
   "id": "bbabfbb1",
   "metadata": {
    "execution": {
     "iopub.execute_input": "2023-07-02T07:35:58.053462Z",
     "iopub.status.busy": "2023-07-02T07:35:58.052449Z",
     "iopub.status.idle": "2023-07-02T07:35:58.199705Z",
     "shell.execute_reply": "2023-07-02T07:35:58.198617Z"
    },
    "papermill": {
     "duration": 0.164243,
     "end_time": "2023-07-02T07:35:58.201986",
     "exception": false,
     "start_time": "2023-07-02T07:35:58.037743",
     "status": "completed"
    },
    "tags": []
   },
   "outputs": [
    {
     "data": {
      "text/html": [
       "<div>\n",
       "<style scoped>\n",
       "    .dataframe tbody tr th:only-of-type {\n",
       "        vertical-align: middle;\n",
       "    }\n",
       "\n",
       "    .dataframe tbody tr th {\n",
       "        vertical-align: top;\n",
       "    }\n",
       "\n",
       "    .dataframe thead th {\n",
       "        text-align: right;\n",
       "    }\n",
       "</style>\n",
       "<table border=\"1\" class=\"dataframe\">\n",
       "  <thead>\n",
       "    <tr style=\"text-align: right;\">\n",
       "      <th></th>\n",
       "      <th>id</th>\n",
       "      <th>BertzCT</th>\n",
       "      <th>Chi1</th>\n",
       "      <th>Chi1n</th>\n",
       "      <th>Chi1v</th>\n",
       "      <th>Chi2n</th>\n",
       "      <th>Chi2v</th>\n",
       "      <th>Chi3v</th>\n",
       "      <th>Chi4n</th>\n",
       "      <th>EState_VSA1</th>\n",
       "      <th>...</th>\n",
       "      <th>SlogP_VSA3</th>\n",
       "      <th>VSA_EState9</th>\n",
       "      <th>fr_COO</th>\n",
       "      <th>fr_COO2</th>\n",
       "      <th>EC1</th>\n",
       "      <th>EC2</th>\n",
       "      <th>EC3</th>\n",
       "      <th>EC4</th>\n",
       "      <th>EC5</th>\n",
       "      <th>EC6</th>\n",
       "    </tr>\n",
       "  </thead>\n",
       "  <tbody>\n",
       "    <tr>\n",
       "      <th>count</th>\n",
       "      <td>14838.000000</td>\n",
       "      <td>14838.000000</td>\n",
       "      <td>14838.000000</td>\n",
       "      <td>14838.000000</td>\n",
       "      <td>14838.000000</td>\n",
       "      <td>14838.000000</td>\n",
       "      <td>14838.000000</td>\n",
       "      <td>14838.000000</td>\n",
       "      <td>14838.000000</td>\n",
       "      <td>14838.000000</td>\n",
       "      <td>...</td>\n",
       "      <td>14838.000000</td>\n",
       "      <td>14838.000000</td>\n",
       "      <td>14838.000000</td>\n",
       "      <td>14838.000000</td>\n",
       "      <td>14838.000000</td>\n",
       "      <td>14838.000000</td>\n",
       "      <td>14838.000000</td>\n",
       "      <td>14838.000000</td>\n",
       "      <td>14838.000000</td>\n",
       "      <td>14838.000000</td>\n",
       "    </tr>\n",
       "    <tr>\n",
       "      <th>mean</th>\n",
       "      <td>7418.500000</td>\n",
       "      <td>515.153604</td>\n",
       "      <td>9.135189</td>\n",
       "      <td>5.854307</td>\n",
       "      <td>6.738497</td>\n",
       "      <td>4.432570</td>\n",
       "      <td>5.253221</td>\n",
       "      <td>3.418749</td>\n",
       "      <td>1.773472</td>\n",
       "      <td>29.202823</td>\n",
       "      <td>...</td>\n",
       "      <td>13.636941</td>\n",
       "      <td>49.309959</td>\n",
       "      <td>0.458215</td>\n",
       "      <td>0.459226</td>\n",
       "      <td>0.667745</td>\n",
       "      <td>0.798962</td>\n",
       "      <td>0.313789</td>\n",
       "      <td>0.279081</td>\n",
       "      <td>0.144831</td>\n",
       "      <td>0.151570</td>\n",
       "    </tr>\n",
       "    <tr>\n",
       "      <th>std</th>\n",
       "      <td>4283.505982</td>\n",
       "      <td>542.456370</td>\n",
       "      <td>6.819989</td>\n",
       "      <td>4.647064</td>\n",
       "      <td>5.866444</td>\n",
       "      <td>3.760516</td>\n",
       "      <td>4.925065</td>\n",
       "      <td>3.436208</td>\n",
       "      <td>1.865898</td>\n",
       "      <td>31.728679</td>\n",
       "      <td>...</td>\n",
       "      <td>14.598554</td>\n",
       "      <td>29.174824</td>\n",
       "      <td>0.667948</td>\n",
       "      <td>0.668111</td>\n",
       "      <td>0.471038</td>\n",
       "      <td>0.400790</td>\n",
       "      <td>0.464047</td>\n",
       "      <td>0.448562</td>\n",
       "      <td>0.351942</td>\n",
       "      <td>0.358616</td>\n",
       "    </tr>\n",
       "    <tr>\n",
       "      <th>min</th>\n",
       "      <td>0.000000</td>\n",
       "      <td>0.000000</td>\n",
       "      <td>0.000000</td>\n",
       "      <td>0.000000</td>\n",
       "      <td>0.000000</td>\n",
       "      <td>0.000000</td>\n",
       "      <td>0.000000</td>\n",
       "      <td>0.000000</td>\n",
       "      <td>0.000000</td>\n",
       "      <td>0.000000</td>\n",
       "      <td>...</td>\n",
       "      <td>0.000000</td>\n",
       "      <td>-5.430556</td>\n",
       "      <td>0.000000</td>\n",
       "      <td>0.000000</td>\n",
       "      <td>0.000000</td>\n",
       "      <td>0.000000</td>\n",
       "      <td>0.000000</td>\n",
       "      <td>0.000000</td>\n",
       "      <td>0.000000</td>\n",
       "      <td>0.000000</td>\n",
       "    </tr>\n",
       "    <tr>\n",
       "      <th>25%</th>\n",
       "      <td>3709.250000</td>\n",
       "      <td>149.103601</td>\n",
       "      <td>4.680739</td>\n",
       "      <td>2.844556</td>\n",
       "      <td>2.932842</td>\n",
       "      <td>1.949719</td>\n",
       "      <td>2.034468</td>\n",
       "      <td>1.160763</td>\n",
       "      <td>0.503897</td>\n",
       "      <td>5.969305</td>\n",
       "      <td>...</td>\n",
       "      <td>4.794537</td>\n",
       "      <td>30.000000</td>\n",
       "      <td>0.000000</td>\n",
       "      <td>0.000000</td>\n",
       "      <td>0.000000</td>\n",
       "      <td>1.000000</td>\n",
       "      <td>0.000000</td>\n",
       "      <td>0.000000</td>\n",
       "      <td>0.000000</td>\n",
       "      <td>0.000000</td>\n",
       "    </tr>\n",
       "    <tr>\n",
       "      <th>50%</th>\n",
       "      <td>7418.500000</td>\n",
       "      <td>290.987941</td>\n",
       "      <td>6.485270</td>\n",
       "      <td>4.052701</td>\n",
       "      <td>4.392859</td>\n",
       "      <td>2.970427</td>\n",
       "      <td>3.242775</td>\n",
       "      <td>1.948613</td>\n",
       "      <td>1.073261</td>\n",
       "      <td>17.353601</td>\n",
       "      <td>...</td>\n",
       "      <td>9.589074</td>\n",
       "      <td>41.666667</td>\n",
       "      <td>0.000000</td>\n",
       "      <td>0.000000</td>\n",
       "      <td>1.000000</td>\n",
       "      <td>1.000000</td>\n",
       "      <td>0.000000</td>\n",
       "      <td>0.000000</td>\n",
       "      <td>0.000000</td>\n",
       "      <td>0.000000</td>\n",
       "    </tr>\n",
       "    <tr>\n",
       "      <th>75%</th>\n",
       "      <td>11127.750000</td>\n",
       "      <td>652.652585</td>\n",
       "      <td>11.170477</td>\n",
       "      <td>7.486791</td>\n",
       "      <td>8.527859</td>\n",
       "      <td>5.788793</td>\n",
       "      <td>6.609350</td>\n",
       "      <td>4.502070</td>\n",
       "      <td>2.534281</td>\n",
       "      <td>44.876559</td>\n",
       "      <td>...</td>\n",
       "      <td>14.912664</td>\n",
       "      <td>56.090650</td>\n",
       "      <td>1.000000</td>\n",
       "      <td>1.000000</td>\n",
       "      <td>1.000000</td>\n",
       "      <td>1.000000</td>\n",
       "      <td>1.000000</td>\n",
       "      <td>1.000000</td>\n",
       "      <td>0.000000</td>\n",
       "      <td>0.000000</td>\n",
       "    </tr>\n",
       "    <tr>\n",
       "      <th>max</th>\n",
       "      <td>14837.000000</td>\n",
       "      <td>4069.959780</td>\n",
       "      <td>69.551167</td>\n",
       "      <td>50.174588</td>\n",
       "      <td>53.431954</td>\n",
       "      <td>32.195368</td>\n",
       "      <td>34.579313</td>\n",
       "      <td>22.880836</td>\n",
       "      <td>16.072810</td>\n",
       "      <td>363.705954</td>\n",
       "      <td>...</td>\n",
       "      <td>115.406157</td>\n",
       "      <td>384.450519</td>\n",
       "      <td>8.000000</td>\n",
       "      <td>8.000000</td>\n",
       "      <td>1.000000</td>\n",
       "      <td>1.000000</td>\n",
       "      <td>1.000000</td>\n",
       "      <td>1.000000</td>\n",
       "      <td>1.000000</td>\n",
       "      <td>1.000000</td>\n",
       "    </tr>\n",
       "  </tbody>\n",
       "</table>\n",
       "<p>8 rows × 38 columns</p>\n",
       "</div>"
      ],
      "text/plain": [
       "                 id       BertzCT          Chi1         Chi1n         Chi1v  \\\n",
       "count  14838.000000  14838.000000  14838.000000  14838.000000  14838.000000   \n",
       "mean    7418.500000    515.153604      9.135189      5.854307      6.738497   \n",
       "std     4283.505982    542.456370      6.819989      4.647064      5.866444   \n",
       "min        0.000000      0.000000      0.000000      0.000000      0.000000   \n",
       "25%     3709.250000    149.103601      4.680739      2.844556      2.932842   \n",
       "50%     7418.500000    290.987941      6.485270      4.052701      4.392859   \n",
       "75%    11127.750000    652.652585     11.170477      7.486791      8.527859   \n",
       "max    14837.000000   4069.959780     69.551167     50.174588     53.431954   \n",
       "\n",
       "              Chi2n         Chi2v         Chi3v         Chi4n   EState_VSA1  \\\n",
       "count  14838.000000  14838.000000  14838.000000  14838.000000  14838.000000   \n",
       "mean       4.432570      5.253221      3.418749      1.773472     29.202823   \n",
       "std        3.760516      4.925065      3.436208      1.865898     31.728679   \n",
       "min        0.000000      0.000000      0.000000      0.000000      0.000000   \n",
       "25%        1.949719      2.034468      1.160763      0.503897      5.969305   \n",
       "50%        2.970427      3.242775      1.948613      1.073261     17.353601   \n",
       "75%        5.788793      6.609350      4.502070      2.534281     44.876559   \n",
       "max       32.195368     34.579313     22.880836     16.072810    363.705954   \n",
       "\n",
       "       ...    SlogP_VSA3   VSA_EState9        fr_COO       fr_COO2  \\\n",
       "count  ...  14838.000000  14838.000000  14838.000000  14838.000000   \n",
       "mean   ...     13.636941     49.309959      0.458215      0.459226   \n",
       "std    ...     14.598554     29.174824      0.667948      0.668111   \n",
       "min    ...      0.000000     -5.430556      0.000000      0.000000   \n",
       "25%    ...      4.794537     30.000000      0.000000      0.000000   \n",
       "50%    ...      9.589074     41.666667      0.000000      0.000000   \n",
       "75%    ...     14.912664     56.090650      1.000000      1.000000   \n",
       "max    ...    115.406157    384.450519      8.000000      8.000000   \n",
       "\n",
       "                EC1           EC2           EC3           EC4           EC5  \\\n",
       "count  14838.000000  14838.000000  14838.000000  14838.000000  14838.000000   \n",
       "mean       0.667745      0.798962      0.313789      0.279081      0.144831   \n",
       "std        0.471038      0.400790      0.464047      0.448562      0.351942   \n",
       "min        0.000000      0.000000      0.000000      0.000000      0.000000   \n",
       "25%        0.000000      1.000000      0.000000      0.000000      0.000000   \n",
       "50%        1.000000      1.000000      0.000000      0.000000      0.000000   \n",
       "75%        1.000000      1.000000      1.000000      1.000000      0.000000   \n",
       "max        1.000000      1.000000      1.000000      1.000000      1.000000   \n",
       "\n",
       "                EC6  \n",
       "count  14838.000000  \n",
       "mean       0.151570  \n",
       "std        0.358616  \n",
       "min        0.000000  \n",
       "25%        0.000000  \n",
       "50%        0.000000  \n",
       "75%        0.000000  \n",
       "max        1.000000  \n",
       "\n",
       "[8 rows x 38 columns]"
      ]
     },
     "execution_count": 5,
     "metadata": {},
     "output_type": "execute_result"
    }
   ],
   "source": [
    "train.describe()"
   ]
  },
  {
   "cell_type": "code",
   "execution_count": 6,
   "id": "19cb9c4b",
   "metadata": {
    "execution": {
     "iopub.execute_input": "2023-07-02T07:35:58.231664Z",
     "iopub.status.busy": "2023-07-02T07:35:58.231023Z",
     "iopub.status.idle": "2023-07-02T07:35:58.238796Z",
     "shell.execute_reply": "2023-07-02T07:35:58.237620Z"
    },
    "papermill": {
     "duration": 0.025158,
     "end_time": "2023-07-02T07:35:58.241245",
     "exception": false,
     "start_time": "2023-07-02T07:35:58.216087",
     "status": "completed"
    },
    "tags": []
   },
   "outputs": [
    {
     "data": {
      "text/plain": [
       "0    1\n",
       "1    0\n",
       "2    1\n",
       "3    1\n",
       "4    1\n",
       "Name: EC1, dtype: int64"
      ]
     },
     "execution_count": 6,
     "metadata": {},
     "output_type": "execute_result"
    }
   ],
   "source": [
    "y1 = train.EC1\n",
    "y1.head()"
   ]
  },
  {
   "cell_type": "code",
   "execution_count": 7,
   "id": "7b5a7a56",
   "metadata": {
    "execution": {
     "iopub.execute_input": "2023-07-02T07:35:58.271552Z",
     "iopub.status.busy": "2023-07-02T07:35:58.270457Z",
     "iopub.status.idle": "2023-07-02T07:35:58.278012Z",
     "shell.execute_reply": "2023-07-02T07:35:58.276947Z"
    },
    "papermill": {
     "duration": 0.025217,
     "end_time": "2023-07-02T07:35:58.280382",
     "exception": false,
     "start_time": "2023-07-02T07:35:58.255165",
     "status": "completed"
    },
    "tags": []
   },
   "outputs": [
    {
     "data": {
      "text/plain": [
       "0    1\n",
       "1    1\n",
       "2    1\n",
       "3    1\n",
       "4    0\n",
       "Name: EC2, dtype: int64"
      ]
     },
     "execution_count": 7,
     "metadata": {},
     "output_type": "execute_result"
    }
   ],
   "source": [
    "y2 = train.EC2\n",
    "y2.head()"
   ]
  },
  {
   "cell_type": "code",
   "execution_count": 8,
   "id": "ccf57108",
   "metadata": {
    "execution": {
     "iopub.execute_input": "2023-07-02T07:35:58.310096Z",
     "iopub.status.busy": "2023-07-02T07:35:58.309640Z",
     "iopub.status.idle": "2023-07-02T07:35:58.335464Z",
     "shell.execute_reply": "2023-07-02T07:35:58.334497Z"
    },
    "papermill": {
     "duration": 0.04355,
     "end_time": "2023-07-02T07:35:58.337829",
     "exception": false,
     "start_time": "2023-07-02T07:35:58.294279",
     "status": "completed"
    },
    "tags": []
   },
   "outputs": [
    {
     "data": {
      "text/html": [
       "<div>\n",
       "<style scoped>\n",
       "    .dataframe tbody tr th:only-of-type {\n",
       "        vertical-align: middle;\n",
       "    }\n",
       "\n",
       "    .dataframe tbody tr th {\n",
       "        vertical-align: top;\n",
       "    }\n",
       "\n",
       "    .dataframe thead th {\n",
       "        text-align: right;\n",
       "    }\n",
       "</style>\n",
       "<table border=\"1\" class=\"dataframe\">\n",
       "  <thead>\n",
       "    <tr style=\"text-align: right;\">\n",
       "      <th></th>\n",
       "      <th>id</th>\n",
       "      <th>BertzCT</th>\n",
       "      <th>Chi1</th>\n",
       "      <th>Chi1n</th>\n",
       "      <th>Chi1v</th>\n",
       "      <th>Chi2n</th>\n",
       "      <th>Chi2v</th>\n",
       "      <th>Chi3v</th>\n",
       "      <th>Chi4n</th>\n",
       "      <th>EState_VSA1</th>\n",
       "      <th>...</th>\n",
       "      <th>SlogP_VSA3</th>\n",
       "      <th>VSA_EState9</th>\n",
       "      <th>fr_COO</th>\n",
       "      <th>fr_COO2</th>\n",
       "      <th>EC1</th>\n",
       "      <th>EC2</th>\n",
       "      <th>EC3</th>\n",
       "      <th>EC4</th>\n",
       "      <th>EC5</th>\n",
       "      <th>EC6</th>\n",
       "    </tr>\n",
       "  </thead>\n",
       "  <tbody>\n",
       "    <tr>\n",
       "      <th>0</th>\n",
       "      <td>0</td>\n",
       "      <td>323.390782</td>\n",
       "      <td>9.879918</td>\n",
       "      <td>5.875576</td>\n",
       "      <td>5.875576</td>\n",
       "      <td>4.304757</td>\n",
       "      <td>4.304757</td>\n",
       "      <td>2.754513</td>\n",
       "      <td>1.749203</td>\n",
       "      <td>0.000000</td>\n",
       "      <td>...</td>\n",
       "      <td>4.794537</td>\n",
       "      <td>35.527357</td>\n",
       "      <td>0</td>\n",
       "      <td>0</td>\n",
       "      <td>1</td>\n",
       "      <td>1</td>\n",
       "      <td>0</td>\n",
       "      <td>0</td>\n",
       "      <td>0</td>\n",
       "      <td>0</td>\n",
       "    </tr>\n",
       "    <tr>\n",
       "      <th>1</th>\n",
       "      <td>1</td>\n",
       "      <td>273.723798</td>\n",
       "      <td>7.259037</td>\n",
       "      <td>4.441467</td>\n",
       "      <td>5.834958</td>\n",
       "      <td>3.285046</td>\n",
       "      <td>4.485235</td>\n",
       "      <td>2.201375</td>\n",
       "      <td>1.289775</td>\n",
       "      <td>45.135471</td>\n",
       "      <td>...</td>\n",
       "      <td>13.825658</td>\n",
       "      <td>44.707310</td>\n",
       "      <td>0</td>\n",
       "      <td>0</td>\n",
       "      <td>0</td>\n",
       "      <td>1</td>\n",
       "      <td>1</td>\n",
       "      <td>0</td>\n",
       "      <td>0</td>\n",
       "      <td>0</td>\n",
       "    </tr>\n",
       "    <tr>\n",
       "      <th>2</th>\n",
       "      <td>2</td>\n",
       "      <td>521.643822</td>\n",
       "      <td>10.911303</td>\n",
       "      <td>8.527859</td>\n",
       "      <td>11.050864</td>\n",
       "      <td>6.665291</td>\n",
       "      <td>9.519706</td>\n",
       "      <td>5.824822</td>\n",
       "      <td>1.770579</td>\n",
       "      <td>15.645394</td>\n",
       "      <td>...</td>\n",
       "      <td>17.964475</td>\n",
       "      <td>45.660120</td>\n",
       "      <td>0</td>\n",
       "      <td>0</td>\n",
       "      <td>1</td>\n",
       "      <td>1</td>\n",
       "      <td>0</td>\n",
       "      <td>0</td>\n",
       "      <td>1</td>\n",
       "      <td>0</td>\n",
       "    </tr>\n",
       "    <tr>\n",
       "      <th>3</th>\n",
       "      <td>3</td>\n",
       "      <td>567.431166</td>\n",
       "      <td>12.453343</td>\n",
       "      <td>7.089119</td>\n",
       "      <td>12.833709</td>\n",
       "      <td>6.478023</td>\n",
       "      <td>10.978151</td>\n",
       "      <td>7.914542</td>\n",
       "      <td>3.067181</td>\n",
       "      <td>95.639554</td>\n",
       "      <td>...</td>\n",
       "      <td>31.961948</td>\n",
       "      <td>87.509997</td>\n",
       "      <td>0</td>\n",
       "      <td>0</td>\n",
       "      <td>1</td>\n",
       "      <td>1</td>\n",
       "      <td>0</td>\n",
       "      <td>0</td>\n",
       "      <td>0</td>\n",
       "      <td>0</td>\n",
       "    </tr>\n",
       "    <tr>\n",
       "      <th>4</th>\n",
       "      <td>4</td>\n",
       "      <td>112.770735</td>\n",
       "      <td>4.414719</td>\n",
       "      <td>2.866236</td>\n",
       "      <td>2.866236</td>\n",
       "      <td>1.875634</td>\n",
       "      <td>1.875634</td>\n",
       "      <td>1.036450</td>\n",
       "      <td>0.727664</td>\n",
       "      <td>17.980451</td>\n",
       "      <td>...</td>\n",
       "      <td>9.589074</td>\n",
       "      <td>33.333333</td>\n",
       "      <td>2</td>\n",
       "      <td>2</td>\n",
       "      <td>1</td>\n",
       "      <td>0</td>\n",
       "      <td>1</td>\n",
       "      <td>1</td>\n",
       "      <td>1</td>\n",
       "      <td>0</td>\n",
       "    </tr>\n",
       "  </tbody>\n",
       "</table>\n",
       "<p>5 rows × 38 columns</p>\n",
       "</div>"
      ],
      "text/plain": [
       "   id     BertzCT       Chi1     Chi1n      Chi1v     Chi2n      Chi2v  \\\n",
       "0   0  323.390782   9.879918  5.875576   5.875576  4.304757   4.304757   \n",
       "1   1  273.723798   7.259037  4.441467   5.834958  3.285046   4.485235   \n",
       "2   2  521.643822  10.911303  8.527859  11.050864  6.665291   9.519706   \n",
       "3   3  567.431166  12.453343  7.089119  12.833709  6.478023  10.978151   \n",
       "4   4  112.770735   4.414719  2.866236   2.866236  1.875634   1.875634   \n",
       "\n",
       "      Chi3v     Chi4n  EState_VSA1  ...  SlogP_VSA3  VSA_EState9  fr_COO  \\\n",
       "0  2.754513  1.749203     0.000000  ...    4.794537    35.527357       0   \n",
       "1  2.201375  1.289775    45.135471  ...   13.825658    44.707310       0   \n",
       "2  5.824822  1.770579    15.645394  ...   17.964475    45.660120       0   \n",
       "3  7.914542  3.067181    95.639554  ...   31.961948    87.509997       0   \n",
       "4  1.036450  0.727664    17.980451  ...    9.589074    33.333333       2   \n",
       "\n",
       "   fr_COO2  EC1  EC2  EC3  EC4  EC5  EC6  \n",
       "0        0    1    1    0    0    0    0  \n",
       "1        0    0    1    1    0    0    0  \n",
       "2        0    1    1    0    0    1    0  \n",
       "3        0    1    1    0    0    0    0  \n",
       "4        2    1    0    1    1    1    0  \n",
       "\n",
       "[5 rows x 38 columns]"
      ]
     },
     "execution_count": 8,
     "metadata": {},
     "output_type": "execute_result"
    }
   ],
   "source": [
    "train.head()"
   ]
  },
  {
   "cell_type": "code",
   "execution_count": 9,
   "id": "113a2915",
   "metadata": {
    "execution": {
     "iopub.execute_input": "2023-07-02T07:35:58.368479Z",
     "iopub.status.busy": "2023-07-02T07:35:58.367887Z",
     "iopub.status.idle": "2023-07-02T07:35:58.375938Z",
     "shell.execute_reply": "2023-07-02T07:35:58.375083Z"
    },
    "papermill": {
     "duration": 0.026248,
     "end_time": "2023-07-02T07:35:58.378383",
     "exception": false,
     "start_time": "2023-07-02T07:35:58.352135",
     "status": "completed"
    },
    "tags": []
   },
   "outputs": [],
   "source": [
    " train.drop(['EC1','EC2','EC3','EC4','EC5','EC6'], axis=1, inplace=True)\n"
   ]
  },
  {
   "cell_type": "code",
   "execution_count": 10,
   "id": "a2f8bd78",
   "metadata": {
    "execution": {
     "iopub.execute_input": "2023-07-02T07:35:58.408983Z",
     "iopub.status.busy": "2023-07-02T07:35:58.408227Z",
     "iopub.status.idle": "2023-07-02T07:35:58.420864Z",
     "shell.execute_reply": "2023-07-02T07:35:58.419659Z"
    },
    "papermill": {
     "duration": 0.030573,
     "end_time": "2023-07-02T07:35:58.423130",
     "exception": false,
     "start_time": "2023-07-02T07:35:58.392557",
     "status": "completed"
    },
    "tags": []
   },
   "outputs": [
    {
     "data": {
      "text/plain": [
       "(1    9908\n",
       " 0    4930\n",
       " Name: EC1, dtype: int64,\n",
       " 1    11855\n",
       " 0     2983\n",
       " Name: EC2, dtype: int64)"
      ]
     },
     "execution_count": 10,
     "metadata": {},
     "output_type": "execute_result"
    }
   ],
   "source": [
    "y1.value_counts(),y2.value_counts()"
   ]
  },
  {
   "cell_type": "code",
   "execution_count": 11,
   "id": "a19aebfe",
   "metadata": {
    "execution": {
     "iopub.execute_input": "2023-07-02T07:35:58.454360Z",
     "iopub.status.busy": "2023-07-02T07:35:58.453054Z",
     "iopub.status.idle": "2023-07-02T07:35:58.495199Z",
     "shell.execute_reply": "2023-07-02T07:35:58.493852Z"
    },
    "papermill": {
     "duration": 0.060674,
     "end_time": "2023-07-02T07:35:58.498137",
     "exception": false,
     "start_time": "2023-07-02T07:35:58.437463",
     "status": "completed"
    },
    "tags": []
   },
   "outputs": [
    {
     "data": {
      "text/plain": [
       "[          id      BertzCT       Chi1      Chi1n      Chi1v      Chi2n  \\\n",
       " 3105    3105   551.179507   8.637535   5.336107   8.858718   4.582563   \n",
       " 3148    3148    83.108030   3.553418   2.601938   2.601938   1.978458   \n",
       " 13482  13482   201.871394   5.609061   2.316497   2.316497   1.962540   \n",
       " 13240  13240   133.774438   3.180739   1.673397   1.673397   1.126913   \n",
       " 10030  10030   133.774438   4.180739   2.210075   2.210075   1.345810   \n",
       " ...      ...          ...        ...        ...        ...        ...   \n",
       " 5444    5444   299.171248   7.270857   4.657448   5.910092   2.762572   \n",
       " 1343    1343   579.245113   7.613392   4.435575   4.435575   3.084798   \n",
       " 12130  12130   802.439177  10.810968   6.913923   6.913923   4.526518   \n",
       " 62        62  1131.608133  22.776672  13.944394  20.990690  10.551417   \n",
       " 10175  10175   242.564575   7.613392   3.933552   3.933552   2.202381   \n",
       " \n",
       "            Chi2v      Chi3v     Chi4n  EState_VSA1  ...  PEOE_VSA14  \\\n",
       " 3105    7.113245   5.057852  2.287209    52.481820  ...   15.645394   \n",
       " 3148    1.978458   1.287269  0.368293    17.468329  ...    5.969305   \n",
       " 13482   1.962540   1.020740  0.000000    17.980451  ...   11.938611   \n",
       " 13240   1.126913   0.357390  0.000000    17.674322  ...    5.969305   \n",
       " 10030   1.345810   0.732220  0.265232    17.918326  ...   12.000420   \n",
       " ...          ...        ...       ...          ...  ...         ...   \n",
       " 5444    4.205838   2.053463  0.746400    26.502851  ...   13.792002   \n",
       " 1343    3.084798   2.162575  1.078093    29.929472  ...   11.938611   \n",
       " 12130   6.724301   2.917644  1.955337    46.247377  ...   13.792002   \n",
       " 62     14.720976  10.660112  4.886556    84.554972  ...   23.468091   \n",
       " 10175   2.202381   1.933552  0.370082    12.073272  ...    5.969305   \n",
       " \n",
       "        PEOE_VSA6  PEOE_VSA7  PEOE_VSA8  SMR_VSA10   SMR_VSA5  SlogP_VSA3  \\\n",
       " 3105    0.000000   0.000000   6.196844  21.463257  24.539800   22.701338   \n",
       " 3148    0.000000  13.344559   0.000000   5.969305  13.344559    4.794537   \n",
       " 13482   0.000000   6.420822   0.000000  11.938611  19.262465    9.589074   \n",
       " 13240   0.000000   6.420822   0.000000  17.439937  12.462662    4.794537   \n",
       " 10030   0.000000   0.000000   0.000000  18.215020  12.462662    9.589074   \n",
       " ...          ...        ...        ...        ...        ...         ...   \n",
       " 5444    0.000000   0.000000   0.000000  13.792002  12.145807   13.883333   \n",
       " 1343    0.000000  18.553556   0.000000  11.938611  12.841643   14.383612   \n",
       " 12130   0.000000   0.000000   0.000000  23.468091  24.925325   22.701338   \n",
       " 62     39.456834   6.420822  37.099000  69.141353  83.519086   50.697492   \n",
       " 10175  18.199101  19.386400   0.000000   5.969305   6.420822   11.215359   \n",
       " \n",
       "        VSA_EState9  fr_COO  fr_COO2  \n",
       " 3105     37.448164       0        0  \n",
       " 3148     25.833333       1        1  \n",
       " 13482    43.000000       2        2  \n",
       " 13240    34.000000       1        1  \n",
       " 10030    30.833333       1        1  \n",
       " ...            ...     ...      ...  \n",
       " 5444     34.622597       1        1  \n",
       " 1343     53.000000       2        2  \n",
       " 12130    49.750000       0        0  \n",
       " 62      107.522787       0        0  \n",
       " 10175    53.333333       1        1  \n",
       " \n",
       " [11128 rows x 32 columns],\n",
       "           id      BertzCT       Chi1      Chi1n      Chi1v      Chi2n  \\\n",
       " 12957  12957   105.920939   4.036581   3.339363   3.339363   2.288846   \n",
       " 8061    8061   235.171784   7.968908   4.546610   4.546610   3.455164   \n",
       " 4749    4749   430.682001   7.130229   4.562009   5.797322   3.082475   \n",
       " 13238  13238  1924.518356  31.555098  24.003238  27.028979  18.509542   \n",
       " 7084    7084   146.218849   5.574586   3.562009   3.562009   2.719449   \n",
       " ...      ...          ...        ...        ...        ...        ...   \n",
       " 10153  10153  1239.282494  16.098662  10.151117  10.151117  11.008637   \n",
       " 3999    3999   273.138687   4.680739   2.580465   2.580465   1.834504   \n",
       " 14355  14355   427.663484   8.909014   5.505441   6.503328   4.741129   \n",
       " 10251  10251  1321.887391  18.136667  10.881507  13.867351   7.581012   \n",
       " 11999  11999    26.264663   4.036581   2.932842   2.932842   1.127305   \n",
       " \n",
       "            Chi2v      Chi3v     Chi4n  EState_VSA1  ...  PEOE_VSA14  \\\n",
       " 12957   2.288846   1.215848  0.457309    12.011146  ...    5.969305   \n",
       " 8061    3.455164   2.270069  1.487666    43.157828  ...    5.969305   \n",
       " 4749    4.602017   2.405844  1.120915    45.073346  ...    7.822697   \n",
       " 13238  21.658578  14.130426  6.956990    90.658938  ...   23.468091   \n",
       " 7084    2.719449   1.867059  1.081734    30.705892  ...    0.000000   \n",
       " ...          ...        ...       ...          ...  ...         ...   \n",
       " 10153  11.008637   7.914542  3.408511     5.969305  ...    5.969305   \n",
       " 3999    1.834504   0.986405  0.362743    12.011146  ...    5.969305   \n",
       " 14355   6.812371   4.767181  0.828835    20.533545  ...  105.534215   \n",
       " 10251  11.008637   6.692569  3.789217    82.448246  ...    7.822697   \n",
       " 11999   1.127305   0.572717  0.000000     6.103966  ...   67.949563   \n",
       " \n",
       "         PEOE_VSA6  PEOE_VSA7  PEOE_VSA8  SMR_VSA10    SMR_VSA5  SlogP_VSA3  \\\n",
       " 12957    0.000000  12.841643   6.544756   5.969305   18.883484    4.794537   \n",
       " 8061     0.000000   0.000000   6.923737   5.907180   37.567504    9.531400   \n",
       " 4749     0.000000   0.000000   0.000000  16.981741   24.601926   13.825658   \n",
       " 13238  109.582956   6.420822  37.099000  69.141353  134.568804   50.697492   \n",
       " 7084     0.000000   0.000000   0.000000   0.000000   30.705892    4.736863   \n",
       " ...           ...        ...        ...        ...         ...         ...   \n",
       " 10153    0.000000  13.847474   6.420822  11.752550   69.031041    9.589074   \n",
       " 3999     0.000000  19.386400   0.000000   5.969305    0.000000    4.794537   \n",
       " 14355    0.000000   0.000000   0.000000  14.294918    6.103966   18.349406   \n",
       " 10251   12.132734   0.000000  12.132734  31.265572   55.245693   31.961948   \n",
       " 11999    0.000000   0.000000   0.000000  12.944442    6.103966   14.268263   \n",
       " \n",
       "        VSA_EState9  fr_COO  fr_COO2  \n",
       " 12957    28.500000       1        1  \n",
       " 8061     48.833333       1        1  \n",
       " 4749     42.235034       0        0  \n",
       " 13238   125.758515       0        0  \n",
       " 7084     41.666667       0        0  \n",
       " ...            ...     ...      ...  \n",
       " 10153    73.500000       1        1  \n",
       " 3999     30.000000       1        1  \n",
       " 14355    33.631257       0        0  \n",
       " 10251    79.916667       0        0  \n",
       " 11999    20.166667       0        0  \n",
       " \n",
       " [3710 rows x 32 columns],\n",
       " 3105     0\n",
       " 3148     1\n",
       " 13482    1\n",
       " 13240    1\n",
       " 10030    1\n",
       "         ..\n",
       " 5444     0\n",
       " 1343     1\n",
       " 12130    0\n",
       " 62       1\n",
       " 10175    1\n",
       " Name: EC1, Length: 11128, dtype: int64,\n",
       " 12957    1\n",
       " 8061     1\n",
       " 4749     1\n",
       " 13238    1\n",
       " 7084     0\n",
       "         ..\n",
       " 10153    1\n",
       " 3999     1\n",
       " 14355    1\n",
       " 10251    0\n",
       " 11999    1\n",
       " Name: EC1, Length: 3710, dtype: int64]"
      ]
     },
     "execution_count": 11,
     "metadata": {},
     "output_type": "execute_result"
    }
   ],
   "source": [
    "train_test_split(train,y1,)"
   ]
  },
  {
   "cell_type": "code",
   "execution_count": 12,
   "id": "9ce40e48",
   "metadata": {
    "execution": {
     "iopub.execute_input": "2023-07-02T07:35:58.530289Z",
     "iopub.status.busy": "2023-07-02T07:35:58.529136Z",
     "iopub.status.idle": "2023-07-02T07:35:58.550495Z",
     "shell.execute_reply": "2023-07-02T07:35:58.549663Z"
    },
    "papermill": {
     "duration": 0.039941,
     "end_time": "2023-07-02T07:35:58.552999",
     "exception": false,
     "start_time": "2023-07-02T07:35:58.513058",
     "status": "completed"
    },
    "tags": []
   },
   "outputs": [],
   "source": [
    "categorical_cols = [cname for cname in train.columns if\n",
    "                    train[cname].nunique() < 10 and \n",
    "                    train[cname].dtype == \"object\"]\n",
    "\n",
    "# Select numerical columns\n",
    "numerical_cols = [cname for cname in train.columns if \n",
    "                train[cname].dtype in ['int64', 'float64']]"
   ]
  },
  {
   "cell_type": "code",
   "execution_count": 13,
   "id": "7333dd00",
   "metadata": {
    "execution": {
     "iopub.execute_input": "2023-07-02T07:35:58.585530Z",
     "iopub.status.busy": "2023-07-02T07:35:58.584903Z",
     "iopub.status.idle": "2023-07-02T07:35:58.591389Z",
     "shell.execute_reply": "2023-07-02T07:35:58.590444Z"
    },
    "papermill": {
     "duration": 0.025503,
     "end_time": "2023-07-02T07:35:58.593720",
     "exception": false,
     "start_time": "2023-07-02T07:35:58.568217",
     "status": "completed"
    },
    "tags": []
   },
   "outputs": [],
   "source": [
    "numerical_transformer = SimpleImputer(strategy='constant')\n",
    "\n",
    "# Preprocessing for categorical data\n",
    "categorical_transformer = Pipeline(steps=[\n",
    "    ('imputer', SimpleImputer(strategy='most_frequent')),\n",
    "    ('onehot', OneHotEncoder(handle_unknown='ignore'))\n",
    "])\n",
    "\n",
    "# Bundle preprocessing for numerical and categorical data\n",
    "preprocessor = ColumnTransformer(\n",
    "    transformers=[\n",
    "        ('num', numerical_transformer, numerical_cols),\n",
    "        ('cat', categorical_transformer, categorical_cols)\n",
    "    ])\n"
   ]
  },
  {
   "cell_type": "code",
   "execution_count": 14,
   "id": "957483b8",
   "metadata": {
    "execution": {
     "iopub.execute_input": "2023-07-02T07:35:58.625265Z",
     "iopub.status.busy": "2023-07-02T07:35:58.624628Z",
     "iopub.status.idle": "2023-07-02T07:35:58.637395Z",
     "shell.execute_reply": "2023-07-02T07:35:58.636452Z"
    },
    "papermill": {
     "duration": 0.031346,
     "end_time": "2023-07-02T07:35:58.639805",
     "exception": false,
     "start_time": "2023-07-02T07:35:58.608459",
     "status": "completed"
    },
    "tags": []
   },
   "outputs": [],
   "source": [
    "my_cols = categorical_cols + numerical_cols\n",
    "X_train = train[my_cols].copy()\n",
    "# X_valid = X_valid_full[my_cols].copy()"
   ]
  },
  {
   "cell_type": "code",
   "execution_count": 15,
   "id": "a3759c24",
   "metadata": {
    "execution": {
     "iopub.execute_input": "2023-07-02T07:35:58.671343Z",
     "iopub.status.busy": "2023-07-02T07:35:58.670933Z",
     "iopub.status.idle": "2023-07-02T07:35:58.677313Z",
     "shell.execute_reply": "2023-07-02T07:35:58.676412Z"
    },
    "papermill": {
     "duration": 0.024769,
     "end_time": "2023-07-02T07:35:58.679477",
     "exception": false,
     "start_time": "2023-07-02T07:35:58.654708",
     "status": "completed"
    },
    "tags": []
   },
   "outputs": [
    {
     "data": {
      "text/plain": [
       "(14838, 32)"
      ]
     },
     "execution_count": 15,
     "metadata": {},
     "output_type": "execute_result"
    }
   ],
   "source": [
    "X_train.shape"
   ]
  },
  {
   "cell_type": "markdown",
   "id": "c4d99322",
   "metadata": {
    "papermill": {
     "duration": 0.014512,
     "end_time": "2023-07-02T07:35:58.708871",
     "exception": false,
     "start_time": "2023-07-02T07:35:58.694359",
     "status": "completed"
    },
    "tags": []
   },
   "source": [
    "# Logistic Regression"
   ]
  },
  {
   "cell_type": "code",
   "execution_count": 16,
   "id": "4c6c0714",
   "metadata": {
    "execution": {
     "iopub.execute_input": "2023-07-02T07:35:58.740736Z",
     "iopub.status.busy": "2023-07-02T07:35:58.740309Z",
     "iopub.status.idle": "2023-07-02T07:35:58.745780Z",
     "shell.execute_reply": "2023-07-02T07:35:58.744731Z"
    },
    "papermill": {
     "duration": 0.02406,
     "end_time": "2023-07-02T07:35:58.747951",
     "exception": false,
     "start_time": "2023-07-02T07:35:58.723891",
     "status": "completed"
    },
    "tags": []
   },
   "outputs": [],
   "source": [
    "model = LogisticRegression(random_state=42)\n",
    "\n",
    "# Bundle preprocessing and modeling code in a pipeline\n",
    "clf = Pipeline(steps=[('preprocessor', preprocessor),\n",
    "                      ('model', model)\n",
    "                     ])"
   ]
  },
  {
   "cell_type": "code",
   "execution_count": null,
   "id": "4628161e",
   "metadata": {
    "papermill": {
     "duration": 0.016194,
     "end_time": "2023-07-02T07:35:58.778984",
     "exception": false,
     "start_time": "2023-07-02T07:35:58.762790",
     "status": "completed"
    },
    "tags": []
   },
   "outputs": [],
   "source": []
  },
  {
   "cell_type": "code",
   "execution_count": 17,
   "id": "9da315ba",
   "metadata": {
    "execution": {
     "iopub.execute_input": "2023-07-02T07:35:58.810546Z",
     "iopub.status.busy": "2023-07-02T07:35:58.809882Z",
     "iopub.status.idle": "2023-07-02T07:35:59.210365Z",
     "shell.execute_reply": "2023-07-02T07:35:59.209483Z"
    },
    "papermill": {
     "duration": 0.419269,
     "end_time": "2023-07-02T07:35:59.212934",
     "exception": false,
     "start_time": "2023-07-02T07:35:58.793665",
     "status": "completed"
    },
    "tags": []
   },
   "outputs": [
    {
     "name": "stderr",
     "output_type": "stream",
     "text": [
      "/opt/conda/lib/python3.10/site-packages/sklearn/linear_model/_logistic.py:458: ConvergenceWarning: lbfgs failed to converge (status=1):\n",
      "STOP: TOTAL NO. of ITERATIONS REACHED LIMIT.\n",
      "\n",
      "Increase the number of iterations (max_iter) or scale the data as shown in:\n",
      "    https://scikit-learn.org/stable/modules/preprocessing.html\n",
      "Please also refer to the documentation for alternative solver options:\n",
      "    https://scikit-learn.org/stable/modules/linear_model.html#logistic-regression\n",
      "  n_iter_i = _check_optimize_result(\n"
     ]
    },
    {
     "data": {
      "text/html": [
       "<style>#sk-container-id-1 {color: black;background-color: white;}#sk-container-id-1 pre{padding: 0;}#sk-container-id-1 div.sk-toggleable {background-color: white;}#sk-container-id-1 label.sk-toggleable__label {cursor: pointer;display: block;width: 100%;margin-bottom: 0;padding: 0.3em;box-sizing: border-box;text-align: center;}#sk-container-id-1 label.sk-toggleable__label-arrow:before {content: \"▸\";float: left;margin-right: 0.25em;color: #696969;}#sk-container-id-1 label.sk-toggleable__label-arrow:hover:before {color: black;}#sk-container-id-1 div.sk-estimator:hover label.sk-toggleable__label-arrow:before {color: black;}#sk-container-id-1 div.sk-toggleable__content {max-height: 0;max-width: 0;overflow: hidden;text-align: left;background-color: #f0f8ff;}#sk-container-id-1 div.sk-toggleable__content pre {margin: 0.2em;color: black;border-radius: 0.25em;background-color: #f0f8ff;}#sk-container-id-1 input.sk-toggleable__control:checked~div.sk-toggleable__content {max-height: 200px;max-width: 100%;overflow: auto;}#sk-container-id-1 input.sk-toggleable__control:checked~label.sk-toggleable__label-arrow:before {content: \"▾\";}#sk-container-id-1 div.sk-estimator input.sk-toggleable__control:checked~label.sk-toggleable__label {background-color: #d4ebff;}#sk-container-id-1 div.sk-label input.sk-toggleable__control:checked~label.sk-toggleable__label {background-color: #d4ebff;}#sk-container-id-1 input.sk-hidden--visually {border: 0;clip: rect(1px 1px 1px 1px);clip: rect(1px, 1px, 1px, 1px);height: 1px;margin: -1px;overflow: hidden;padding: 0;position: absolute;width: 1px;}#sk-container-id-1 div.sk-estimator {font-family: monospace;background-color: #f0f8ff;border: 1px dotted black;border-radius: 0.25em;box-sizing: border-box;margin-bottom: 0.5em;}#sk-container-id-1 div.sk-estimator:hover {background-color: #d4ebff;}#sk-container-id-1 div.sk-parallel-item::after {content: \"\";width: 100%;border-bottom: 1px solid gray;flex-grow: 1;}#sk-container-id-1 div.sk-label:hover label.sk-toggleable__label {background-color: #d4ebff;}#sk-container-id-1 div.sk-serial::before {content: \"\";position: absolute;border-left: 1px solid gray;box-sizing: border-box;top: 0;bottom: 0;left: 50%;z-index: 0;}#sk-container-id-1 div.sk-serial {display: flex;flex-direction: column;align-items: center;background-color: white;padding-right: 0.2em;padding-left: 0.2em;position: relative;}#sk-container-id-1 div.sk-item {position: relative;z-index: 1;}#sk-container-id-1 div.sk-parallel {display: flex;align-items: stretch;justify-content: center;background-color: white;position: relative;}#sk-container-id-1 div.sk-item::before, #sk-container-id-1 div.sk-parallel-item::before {content: \"\";position: absolute;border-left: 1px solid gray;box-sizing: border-box;top: 0;bottom: 0;left: 50%;z-index: -1;}#sk-container-id-1 div.sk-parallel-item {display: flex;flex-direction: column;z-index: 1;position: relative;background-color: white;}#sk-container-id-1 div.sk-parallel-item:first-child::after {align-self: flex-end;width: 50%;}#sk-container-id-1 div.sk-parallel-item:last-child::after {align-self: flex-start;width: 50%;}#sk-container-id-1 div.sk-parallel-item:only-child::after {width: 0;}#sk-container-id-1 div.sk-dashed-wrapped {border: 1px dashed gray;margin: 0 0.4em 0.5em 0.4em;box-sizing: border-box;padding-bottom: 0.4em;background-color: white;}#sk-container-id-1 div.sk-label label {font-family: monospace;font-weight: bold;display: inline-block;line-height: 1.2em;}#sk-container-id-1 div.sk-label-container {text-align: center;}#sk-container-id-1 div.sk-container {/* jupyter's `normalize.less` sets `[hidden] { display: none; }` but bootstrap.min.css set `[hidden] { display: none !important; }` so we also need the `!important` here to be able to override the default hidden behavior on the sphinx rendered scikit-learn.org. See: https://github.com/scikit-learn/scikit-learn/issues/21755 */display: inline-block !important;position: relative;}#sk-container-id-1 div.sk-text-repr-fallback {display: none;}</style><div id=\"sk-container-id-1\" class=\"sk-top-container\"><div class=\"sk-text-repr-fallback\"><pre>Pipeline(steps=[(&#x27;preprocessor&#x27;,\n",
       "                 ColumnTransformer(transformers=[(&#x27;num&#x27;,\n",
       "                                                  SimpleImputer(strategy=&#x27;constant&#x27;),\n",
       "                                                  [&#x27;id&#x27;, &#x27;BertzCT&#x27;, &#x27;Chi1&#x27;,\n",
       "                                                   &#x27;Chi1n&#x27;, &#x27;Chi1v&#x27;, &#x27;Chi2n&#x27;,\n",
       "                                                   &#x27;Chi2v&#x27;, &#x27;Chi3v&#x27;, &#x27;Chi4n&#x27;,\n",
       "                                                   &#x27;EState_VSA1&#x27;, &#x27;EState_VSA2&#x27;,\n",
       "                                                   &#x27;ExactMolWt&#x27;,\n",
       "                                                   &#x27;FpDensityMorgan1&#x27;,\n",
       "                                                   &#x27;FpDensityMorgan2&#x27;,\n",
       "                                                   &#x27;FpDensityMorgan3&#x27;,\n",
       "                                                   &#x27;HallKierAlpha&#x27;,\n",
       "                                                   &#x27;HeavyAtomMolWt&#x27;, &#x27;Kappa3&#x27;,\n",
       "                                                   &#x27;MaxAbsEStateIndex&#x27;,\n",
       "                                                   &#x27;MinEStateIndex&#x27;,\n",
       "                                                   &#x27;NumHeteroatoms&#x27;,\n",
       "                                                   &#x27;PEOE_VSA10&#x27;, &#x27;PEOE_VSA14&#x27;,\n",
       "                                                   &#x27;PEOE_VSA6&#x27;, &#x27;PEOE_VSA7&#x27;,\n",
       "                                                   &#x27;PEOE_VSA8&#x27;, &#x27;SMR_VSA10&#x27;,\n",
       "                                                   &#x27;SMR_VSA5&#x27;, &#x27;SlogP_VSA3&#x27;,\n",
       "                                                   &#x27;VSA_EState9&#x27;, ...]),\n",
       "                                                 (&#x27;cat&#x27;,\n",
       "                                                  Pipeline(steps=[(&#x27;imputer&#x27;,\n",
       "                                                                   SimpleImputer(strategy=&#x27;most_frequent&#x27;)),\n",
       "                                                                  (&#x27;onehot&#x27;,\n",
       "                                                                   OneHotEncoder(handle_unknown=&#x27;ignore&#x27;))]),\n",
       "                                                  [])])),\n",
       "                (&#x27;model&#x27;, LogisticRegression(random_state=42))])</pre><b>In a Jupyter environment, please rerun this cell to show the HTML representation or trust the notebook. <br />On GitHub, the HTML representation is unable to render, please try loading this page with nbviewer.org.</b></div><div class=\"sk-container\" hidden><div class=\"sk-item sk-dashed-wrapped\"><div class=\"sk-label-container\"><div class=\"sk-label sk-toggleable\"><input class=\"sk-toggleable__control sk-hidden--visually\" id=\"sk-estimator-id-1\" type=\"checkbox\" ><label for=\"sk-estimator-id-1\" class=\"sk-toggleable__label sk-toggleable__label-arrow\">Pipeline</label><div class=\"sk-toggleable__content\"><pre>Pipeline(steps=[(&#x27;preprocessor&#x27;,\n",
       "                 ColumnTransformer(transformers=[(&#x27;num&#x27;,\n",
       "                                                  SimpleImputer(strategy=&#x27;constant&#x27;),\n",
       "                                                  [&#x27;id&#x27;, &#x27;BertzCT&#x27;, &#x27;Chi1&#x27;,\n",
       "                                                   &#x27;Chi1n&#x27;, &#x27;Chi1v&#x27;, &#x27;Chi2n&#x27;,\n",
       "                                                   &#x27;Chi2v&#x27;, &#x27;Chi3v&#x27;, &#x27;Chi4n&#x27;,\n",
       "                                                   &#x27;EState_VSA1&#x27;, &#x27;EState_VSA2&#x27;,\n",
       "                                                   &#x27;ExactMolWt&#x27;,\n",
       "                                                   &#x27;FpDensityMorgan1&#x27;,\n",
       "                                                   &#x27;FpDensityMorgan2&#x27;,\n",
       "                                                   &#x27;FpDensityMorgan3&#x27;,\n",
       "                                                   &#x27;HallKierAlpha&#x27;,\n",
       "                                                   &#x27;HeavyAtomMolWt&#x27;, &#x27;Kappa3&#x27;,\n",
       "                                                   &#x27;MaxAbsEStateIndex&#x27;,\n",
       "                                                   &#x27;MinEStateIndex&#x27;,\n",
       "                                                   &#x27;NumHeteroatoms&#x27;,\n",
       "                                                   &#x27;PEOE_VSA10&#x27;, &#x27;PEOE_VSA14&#x27;,\n",
       "                                                   &#x27;PEOE_VSA6&#x27;, &#x27;PEOE_VSA7&#x27;,\n",
       "                                                   &#x27;PEOE_VSA8&#x27;, &#x27;SMR_VSA10&#x27;,\n",
       "                                                   &#x27;SMR_VSA5&#x27;, &#x27;SlogP_VSA3&#x27;,\n",
       "                                                   &#x27;VSA_EState9&#x27;, ...]),\n",
       "                                                 (&#x27;cat&#x27;,\n",
       "                                                  Pipeline(steps=[(&#x27;imputer&#x27;,\n",
       "                                                                   SimpleImputer(strategy=&#x27;most_frequent&#x27;)),\n",
       "                                                                  (&#x27;onehot&#x27;,\n",
       "                                                                   OneHotEncoder(handle_unknown=&#x27;ignore&#x27;))]),\n",
       "                                                  [])])),\n",
       "                (&#x27;model&#x27;, LogisticRegression(random_state=42))])</pre></div></div></div><div class=\"sk-serial\"><div class=\"sk-item sk-dashed-wrapped\"><div class=\"sk-label-container\"><div class=\"sk-label sk-toggleable\"><input class=\"sk-toggleable__control sk-hidden--visually\" id=\"sk-estimator-id-2\" type=\"checkbox\" ><label for=\"sk-estimator-id-2\" class=\"sk-toggleable__label sk-toggleable__label-arrow\">preprocessor: ColumnTransformer</label><div class=\"sk-toggleable__content\"><pre>ColumnTransformer(transformers=[(&#x27;num&#x27;, SimpleImputer(strategy=&#x27;constant&#x27;),\n",
       "                                 [&#x27;id&#x27;, &#x27;BertzCT&#x27;, &#x27;Chi1&#x27;, &#x27;Chi1n&#x27;, &#x27;Chi1v&#x27;,\n",
       "                                  &#x27;Chi2n&#x27;, &#x27;Chi2v&#x27;, &#x27;Chi3v&#x27;, &#x27;Chi4n&#x27;,\n",
       "                                  &#x27;EState_VSA1&#x27;, &#x27;EState_VSA2&#x27;, &#x27;ExactMolWt&#x27;,\n",
       "                                  &#x27;FpDensityMorgan1&#x27;, &#x27;FpDensityMorgan2&#x27;,\n",
       "                                  &#x27;FpDensityMorgan3&#x27;, &#x27;HallKierAlpha&#x27;,\n",
       "                                  &#x27;HeavyAtomMolWt&#x27;, &#x27;Kappa3&#x27;,\n",
       "                                  &#x27;MaxAbsEStateIndex&#x27;, &#x27;MinEStateIndex&#x27;,\n",
       "                                  &#x27;NumHeteroatoms&#x27;, &#x27;PEOE_VSA10&#x27;, &#x27;PEOE_VSA14&#x27;,\n",
       "                                  &#x27;PEOE_VSA6&#x27;, &#x27;PEOE_VSA7&#x27;, &#x27;PEOE_VSA8&#x27;,\n",
       "                                  &#x27;SMR_VSA10&#x27;, &#x27;SMR_VSA5&#x27;, &#x27;SlogP_VSA3&#x27;,\n",
       "                                  &#x27;VSA_EState9&#x27;, ...]),\n",
       "                                (&#x27;cat&#x27;,\n",
       "                                 Pipeline(steps=[(&#x27;imputer&#x27;,\n",
       "                                                  SimpleImputer(strategy=&#x27;most_frequent&#x27;)),\n",
       "                                                 (&#x27;onehot&#x27;,\n",
       "                                                  OneHotEncoder(handle_unknown=&#x27;ignore&#x27;))]),\n",
       "                                 [])])</pre></div></div></div><div class=\"sk-parallel\"><div class=\"sk-parallel-item\"><div class=\"sk-item\"><div class=\"sk-label-container\"><div class=\"sk-label sk-toggleable\"><input class=\"sk-toggleable__control sk-hidden--visually\" id=\"sk-estimator-id-3\" type=\"checkbox\" ><label for=\"sk-estimator-id-3\" class=\"sk-toggleable__label sk-toggleable__label-arrow\">num</label><div class=\"sk-toggleable__content\"><pre>[&#x27;id&#x27;, &#x27;BertzCT&#x27;, &#x27;Chi1&#x27;, &#x27;Chi1n&#x27;, &#x27;Chi1v&#x27;, &#x27;Chi2n&#x27;, &#x27;Chi2v&#x27;, &#x27;Chi3v&#x27;, &#x27;Chi4n&#x27;, &#x27;EState_VSA1&#x27;, &#x27;EState_VSA2&#x27;, &#x27;ExactMolWt&#x27;, &#x27;FpDensityMorgan1&#x27;, &#x27;FpDensityMorgan2&#x27;, &#x27;FpDensityMorgan3&#x27;, &#x27;HallKierAlpha&#x27;, &#x27;HeavyAtomMolWt&#x27;, &#x27;Kappa3&#x27;, &#x27;MaxAbsEStateIndex&#x27;, &#x27;MinEStateIndex&#x27;, &#x27;NumHeteroatoms&#x27;, &#x27;PEOE_VSA10&#x27;, &#x27;PEOE_VSA14&#x27;, &#x27;PEOE_VSA6&#x27;, &#x27;PEOE_VSA7&#x27;, &#x27;PEOE_VSA8&#x27;, &#x27;SMR_VSA10&#x27;, &#x27;SMR_VSA5&#x27;, &#x27;SlogP_VSA3&#x27;, &#x27;VSA_EState9&#x27;, &#x27;fr_COO&#x27;, &#x27;fr_COO2&#x27;]</pre></div></div></div><div class=\"sk-serial\"><div class=\"sk-item\"><div class=\"sk-estimator sk-toggleable\"><input class=\"sk-toggleable__control sk-hidden--visually\" id=\"sk-estimator-id-4\" type=\"checkbox\" ><label for=\"sk-estimator-id-4\" class=\"sk-toggleable__label sk-toggleable__label-arrow\">SimpleImputer</label><div class=\"sk-toggleable__content\"><pre>SimpleImputer(strategy=&#x27;constant&#x27;)</pre></div></div></div></div></div></div><div class=\"sk-parallel-item\"><div class=\"sk-item\"><div class=\"sk-label-container\"><div class=\"sk-label sk-toggleable\"><input class=\"sk-toggleable__control sk-hidden--visually\" id=\"sk-estimator-id-5\" type=\"checkbox\" ><label for=\"sk-estimator-id-5\" class=\"sk-toggleable__label sk-toggleable__label-arrow\">cat</label><div class=\"sk-toggleable__content\"><pre>[]</pre></div></div></div><div class=\"sk-serial\"><div class=\"sk-item\"><div class=\"sk-serial\"><div class=\"sk-item\"><div class=\"sk-estimator sk-toggleable\"><input class=\"sk-toggleable__control sk-hidden--visually\" id=\"sk-estimator-id-6\" type=\"checkbox\" ><label for=\"sk-estimator-id-6\" class=\"sk-toggleable__label sk-toggleable__label-arrow\">SimpleImputer</label><div class=\"sk-toggleable__content\"><pre>SimpleImputer(strategy=&#x27;most_frequent&#x27;)</pre></div></div></div><div class=\"sk-item\"><div class=\"sk-estimator sk-toggleable\"><input class=\"sk-toggleable__control sk-hidden--visually\" id=\"sk-estimator-id-7\" type=\"checkbox\" ><label for=\"sk-estimator-id-7\" class=\"sk-toggleable__label sk-toggleable__label-arrow\">OneHotEncoder</label><div class=\"sk-toggleable__content\"><pre>OneHotEncoder(handle_unknown=&#x27;ignore&#x27;)</pre></div></div></div></div></div></div></div></div></div></div><div class=\"sk-item\"><div class=\"sk-estimator sk-toggleable\"><input class=\"sk-toggleable__control sk-hidden--visually\" id=\"sk-estimator-id-8\" type=\"checkbox\" ><label for=\"sk-estimator-id-8\" class=\"sk-toggleable__label sk-toggleable__label-arrow\">LogisticRegression</label><div class=\"sk-toggleable__content\"><pre>LogisticRegression(random_state=42)</pre></div></div></div></div></div></div></div>"
      ],
      "text/plain": [
       "Pipeline(steps=[('preprocessor',\n",
       "                 ColumnTransformer(transformers=[('num',\n",
       "                                                  SimpleImputer(strategy='constant'),\n",
       "                                                  ['id', 'BertzCT', 'Chi1',\n",
       "                                                   'Chi1n', 'Chi1v', 'Chi2n',\n",
       "                                                   'Chi2v', 'Chi3v', 'Chi4n',\n",
       "                                                   'EState_VSA1', 'EState_VSA2',\n",
       "                                                   'ExactMolWt',\n",
       "                                                   'FpDensityMorgan1',\n",
       "                                                   'FpDensityMorgan2',\n",
       "                                                   'FpDensityMorgan3',\n",
       "                                                   'HallKierAlpha',\n",
       "                                                   'HeavyAtomMolWt', 'Kappa3',\n",
       "                                                   'MaxAbsEStateIndex',\n",
       "                                                   'MinEStateIndex',\n",
       "                                                   'NumHeteroatoms',\n",
       "                                                   'PEOE_VSA10', 'PEOE_VSA14',\n",
       "                                                   'PEOE_VSA6', 'PEOE_VSA7',\n",
       "                                                   'PEOE_VSA8', 'SMR_VSA10',\n",
       "                                                   'SMR_VSA5', 'SlogP_VSA3',\n",
       "                                                   'VSA_EState9', ...]),\n",
       "                                                 ('cat',\n",
       "                                                  Pipeline(steps=[('imputer',\n",
       "                                                                   SimpleImputer(strategy='most_frequent')),\n",
       "                                                                  ('onehot',\n",
       "                                                                   OneHotEncoder(handle_unknown='ignore'))]),\n",
       "                                                  [])])),\n",
       "                ('model', LogisticRegression(random_state=42))])"
      ]
     },
     "execution_count": 17,
     "metadata": {},
     "output_type": "execute_result"
    }
   ],
   "source": [
    "clf.fit(X_train,y1)"
   ]
  },
  {
   "cell_type": "code",
   "execution_count": 18,
   "id": "b4317df1",
   "metadata": {
    "execution": {
     "iopub.execute_input": "2023-07-02T07:35:59.246506Z",
     "iopub.status.busy": "2023-07-02T07:35:59.245510Z",
     "iopub.status.idle": "2023-07-02T07:35:59.371794Z",
     "shell.execute_reply": "2023-07-02T07:35:59.370668Z"
    },
    "papermill": {
     "duration": 0.146057,
     "end_time": "2023-07-02T07:35:59.374387",
     "exception": false,
     "start_time": "2023-07-02T07:35:59.228330",
     "status": "completed"
    },
    "tags": []
   },
   "outputs": [
    {
     "data": {
      "text/html": [
       "<div>\n",
       "<style scoped>\n",
       "    .dataframe tbody tr th:only-of-type {\n",
       "        vertical-align: middle;\n",
       "    }\n",
       "\n",
       "    .dataframe tbody tr th {\n",
       "        vertical-align: top;\n",
       "    }\n",
       "\n",
       "    .dataframe thead th {\n",
       "        text-align: right;\n",
       "    }\n",
       "</style>\n",
       "<table border=\"1\" class=\"dataframe\">\n",
       "  <thead>\n",
       "    <tr style=\"text-align: right;\">\n",
       "      <th></th>\n",
       "      <th>id</th>\n",
       "      <th>BertzCT</th>\n",
       "      <th>Chi1</th>\n",
       "      <th>Chi1n</th>\n",
       "      <th>Chi1v</th>\n",
       "      <th>Chi2n</th>\n",
       "      <th>Chi2v</th>\n",
       "      <th>Chi3v</th>\n",
       "      <th>Chi4n</th>\n",
       "      <th>EState_VSA1</th>\n",
       "      <th>...</th>\n",
       "      <th>PEOE_VSA14</th>\n",
       "      <th>PEOE_VSA6</th>\n",
       "      <th>PEOE_VSA7</th>\n",
       "      <th>PEOE_VSA8</th>\n",
       "      <th>SMR_VSA10</th>\n",
       "      <th>SMR_VSA5</th>\n",
       "      <th>SlogP_VSA3</th>\n",
       "      <th>VSA_EState9</th>\n",
       "      <th>fr_COO</th>\n",
       "      <th>fr_COO2</th>\n",
       "    </tr>\n",
       "  </thead>\n",
       "  <tbody>\n",
       "    <tr>\n",
       "      <th>0</th>\n",
       "      <td>14838</td>\n",
       "      <td>344.632371</td>\n",
       "      <td>7.283603</td>\n",
       "      <td>4.473966</td>\n",
       "      <td>5.834958</td>\n",
       "      <td>3.412257</td>\n",
       "      <td>4.651530</td>\n",
       "      <td>2.096558</td>\n",
       "      <td>1.116433</td>\n",
       "      <td>49.458581</td>\n",
       "      <td>...</td>\n",
       "      <td>13.512441</td>\n",
       "      <td>0.000000</td>\n",
       "      <td>0.000000</td>\n",
       "      <td>0.000000</td>\n",
       "      <td>26.809272</td>\n",
       "      <td>24.539800</td>\n",
       "      <td>4.794537</td>\n",
       "      <td>47.304082</td>\n",
       "      <td>1</td>\n",
       "      <td>1</td>\n",
       "    </tr>\n",
       "    <tr>\n",
       "      <th>1</th>\n",
       "      <td>14839</td>\n",
       "      <td>1432.410201</td>\n",
       "      <td>10.663869</td>\n",
       "      <td>7.079026</td>\n",
       "      <td>8.065215</td>\n",
       "      <td>5.297097</td>\n",
       "      <td>5.297097</td>\n",
       "      <td>3.924155</td>\n",
       "      <td>2.569694</td>\n",
       "      <td>0.000000</td>\n",
       "      <td>...</td>\n",
       "      <td>0.000000</td>\n",
       "      <td>34.947374</td>\n",
       "      <td>98.323987</td>\n",
       "      <td>9.606882</td>\n",
       "      <td>0.000000</td>\n",
       "      <td>53.378235</td>\n",
       "      <td>0.000000</td>\n",
       "      <td>43.166667</td>\n",
       "      <td>0</td>\n",
       "      <td>0</td>\n",
       "    </tr>\n",
       "    <tr>\n",
       "      <th>2</th>\n",
       "      <td>14840</td>\n",
       "      <td>83.352608</td>\n",
       "      <td>3.931852</td>\n",
       "      <td>1.774215</td>\n",
       "      <td>1.774215</td>\n",
       "      <td>1.073446</td>\n",
       "      <td>1.073446</td>\n",
       "      <td>0.467830</td>\n",
       "      <td>0.170838</td>\n",
       "      <td>5.969305</td>\n",
       "      <td>...</td>\n",
       "      <td>5.969305</td>\n",
       "      <td>0.000000</td>\n",
       "      <td>0.000000</td>\n",
       "      <td>6.420822</td>\n",
       "      <td>11.752550</td>\n",
       "      <td>13.344559</td>\n",
       "      <td>9.589074</td>\n",
       "      <td>24.666667</td>\n",
       "      <td>1</td>\n",
       "      <td>1</td>\n",
       "    </tr>\n",
       "    <tr>\n",
       "      <th>3</th>\n",
       "      <td>14841</td>\n",
       "      <td>150.255712</td>\n",
       "      <td>5.912790</td>\n",
       "      <td>3.548812</td>\n",
       "      <td>3.548812</td>\n",
       "      <td>2.595128</td>\n",
       "      <td>2.595128</td>\n",
       "      <td>1.642813</td>\n",
       "      <td>0.694113</td>\n",
       "      <td>0.000000</td>\n",
       "      <td>...</td>\n",
       "      <td>59.935299</td>\n",
       "      <td>0.000000</td>\n",
       "      <td>0.000000</td>\n",
       "      <td>0.000000</td>\n",
       "      <td>17.744066</td>\n",
       "      <td>32.290168</td>\n",
       "      <td>4.794537</td>\n",
       "      <td>26.778866</td>\n",
       "      <td>0</td>\n",
       "      <td>0</td>\n",
       "    </tr>\n",
       "    <tr>\n",
       "      <th>4</th>\n",
       "      <td>14842</td>\n",
       "      <td>1817.276351</td>\n",
       "      <td>24.910940</td>\n",
       "      <td>15.540529</td>\n",
       "      <td>20.047314</td>\n",
       "      <td>12.535886</td>\n",
       "      <td>17.730988</td>\n",
       "      <td>11.979618</td>\n",
       "      <td>4.431173</td>\n",
       "      <td>84.554972</td>\n",
       "      <td>...</td>\n",
       "      <td>23.468091</td>\n",
       "      <td>25.609359</td>\n",
       "      <td>0.000000</td>\n",
       "      <td>37.099000</td>\n",
       "      <td>69.141353</td>\n",
       "      <td>38.704130</td>\n",
       "      <td>50.697492</td>\n",
       "      <td>102.583333</td>\n",
       "      <td>0</td>\n",
       "      <td>0</td>\n",
       "    </tr>\n",
       "  </tbody>\n",
       "</table>\n",
       "<p>5 rows × 32 columns</p>\n",
       "</div>"
      ],
      "text/plain": [
       "      id      BertzCT       Chi1      Chi1n      Chi1v      Chi2n      Chi2v  \\\n",
       "0  14838   344.632371   7.283603   4.473966   5.834958   3.412257   4.651530   \n",
       "1  14839  1432.410201  10.663869   7.079026   8.065215   5.297097   5.297097   \n",
       "2  14840    83.352608   3.931852   1.774215   1.774215   1.073446   1.073446   \n",
       "3  14841   150.255712   5.912790   3.548812   3.548812   2.595128   2.595128   \n",
       "4  14842  1817.276351  24.910940  15.540529  20.047314  12.535886  17.730988   \n",
       "\n",
       "       Chi3v     Chi4n  EState_VSA1  ...  PEOE_VSA14  PEOE_VSA6  PEOE_VSA7  \\\n",
       "0   2.096558  1.116433    49.458581  ...   13.512441   0.000000   0.000000   \n",
       "1   3.924155  2.569694     0.000000  ...    0.000000  34.947374  98.323987   \n",
       "2   0.467830  0.170838     5.969305  ...    5.969305   0.000000   0.000000   \n",
       "3   1.642813  0.694113     0.000000  ...   59.935299   0.000000   0.000000   \n",
       "4  11.979618  4.431173    84.554972  ...   23.468091  25.609359   0.000000   \n",
       "\n",
       "   PEOE_VSA8  SMR_VSA10   SMR_VSA5  SlogP_VSA3  VSA_EState9  fr_COO  fr_COO2  \n",
       "0   0.000000  26.809272  24.539800    4.794537    47.304082       1        1  \n",
       "1   9.606882   0.000000  53.378235    0.000000    43.166667       0        0  \n",
       "2   6.420822  11.752550  13.344559    9.589074    24.666667       1        1  \n",
       "3   0.000000  17.744066  32.290168    4.794537    26.778866       0        0  \n",
       "4  37.099000  69.141353  38.704130   50.697492   102.583333       0        0  \n",
       "\n",
       "[5 rows x 32 columns]"
      ]
     },
     "execution_count": 18,
     "metadata": {},
     "output_type": "execute_result"
    }
   ],
   "source": [
    "test = pd.read_csv('/kaggle/input/playground-series-s3e18/test.csv')\n",
    "test.head()"
   ]
  },
  {
   "cell_type": "code",
   "execution_count": 19,
   "id": "53f6d463",
   "metadata": {
    "execution": {
     "iopub.execute_input": "2023-07-02T07:35:59.408277Z",
     "iopub.status.busy": "2023-07-02T07:35:59.407892Z",
     "iopub.status.idle": "2023-07-02T07:35:59.430518Z",
     "shell.execute_reply": "2023-07-02T07:35:59.429156Z"
    },
    "papermill": {
     "duration": 0.045806,
     "end_time": "2023-07-02T07:35:59.436323",
     "exception": false,
     "start_time": "2023-07-02T07:35:59.390517",
     "status": "completed"
    },
    "tags": []
   },
   "outputs": [
    {
     "data": {
      "text/plain": [
       "array([1, 1, 1, ..., 1, 1, 1])"
      ]
     },
     "execution_count": 19,
     "metadata": {},
     "output_type": "execute_result"
    }
   ],
   "source": [
    "pred1 = clf.predict(test)\n",
    "pred1"
   ]
  },
  {
   "cell_type": "code",
   "execution_count": 20,
   "id": "65c3ef47",
   "metadata": {
    "execution": {
     "iopub.execute_input": "2023-07-02T07:35:59.507726Z",
     "iopub.status.busy": "2023-07-02T07:35:59.506179Z",
     "iopub.status.idle": "2023-07-02T07:35:59.513370Z",
     "shell.execute_reply": "2023-07-02T07:35:59.512139Z"
    },
    "papermill": {
     "duration": 0.046228,
     "end_time": "2023-07-02T07:35:59.517016",
     "exception": false,
     "start_time": "2023-07-02T07:35:59.470788",
     "status": "completed"
    },
    "tags": []
   },
   "outputs": [],
   "source": [
    "clf1 = Pipeline(steps=[('preprocessor', preprocessor),\n",
    "                      ('model', model)\n",
    "                     ])"
   ]
  },
  {
   "cell_type": "code",
   "execution_count": 21,
   "id": "25c97327",
   "metadata": {
    "execution": {
     "iopub.execute_input": "2023-07-02T07:35:59.566559Z",
     "iopub.status.busy": "2023-07-02T07:35:59.566148Z",
     "iopub.status.idle": "2023-07-02T07:35:59.962106Z",
     "shell.execute_reply": "2023-07-02T07:35:59.961273Z"
    },
    "papermill": {
     "duration": 0.416296,
     "end_time": "2023-07-02T07:35:59.964418",
     "exception": false,
     "start_time": "2023-07-02T07:35:59.548122",
     "status": "completed"
    },
    "tags": []
   },
   "outputs": [
    {
     "name": "stderr",
     "output_type": "stream",
     "text": [
      "/opt/conda/lib/python3.10/site-packages/sklearn/linear_model/_logistic.py:458: ConvergenceWarning: lbfgs failed to converge (status=1):\n",
      "STOP: TOTAL NO. of ITERATIONS REACHED LIMIT.\n",
      "\n",
      "Increase the number of iterations (max_iter) or scale the data as shown in:\n",
      "    https://scikit-learn.org/stable/modules/preprocessing.html\n",
      "Please also refer to the documentation for alternative solver options:\n",
      "    https://scikit-learn.org/stable/modules/linear_model.html#logistic-regression\n",
      "  n_iter_i = _check_optimize_result(\n"
     ]
    },
    {
     "data": {
      "text/html": [
       "<style>#sk-container-id-2 {color: black;background-color: white;}#sk-container-id-2 pre{padding: 0;}#sk-container-id-2 div.sk-toggleable {background-color: white;}#sk-container-id-2 label.sk-toggleable__label {cursor: pointer;display: block;width: 100%;margin-bottom: 0;padding: 0.3em;box-sizing: border-box;text-align: center;}#sk-container-id-2 label.sk-toggleable__label-arrow:before {content: \"▸\";float: left;margin-right: 0.25em;color: #696969;}#sk-container-id-2 label.sk-toggleable__label-arrow:hover:before {color: black;}#sk-container-id-2 div.sk-estimator:hover label.sk-toggleable__label-arrow:before {color: black;}#sk-container-id-2 div.sk-toggleable__content {max-height: 0;max-width: 0;overflow: hidden;text-align: left;background-color: #f0f8ff;}#sk-container-id-2 div.sk-toggleable__content pre {margin: 0.2em;color: black;border-radius: 0.25em;background-color: #f0f8ff;}#sk-container-id-2 input.sk-toggleable__control:checked~div.sk-toggleable__content {max-height: 200px;max-width: 100%;overflow: auto;}#sk-container-id-2 input.sk-toggleable__control:checked~label.sk-toggleable__label-arrow:before {content: \"▾\";}#sk-container-id-2 div.sk-estimator input.sk-toggleable__control:checked~label.sk-toggleable__label {background-color: #d4ebff;}#sk-container-id-2 div.sk-label input.sk-toggleable__control:checked~label.sk-toggleable__label {background-color: #d4ebff;}#sk-container-id-2 input.sk-hidden--visually {border: 0;clip: rect(1px 1px 1px 1px);clip: rect(1px, 1px, 1px, 1px);height: 1px;margin: -1px;overflow: hidden;padding: 0;position: absolute;width: 1px;}#sk-container-id-2 div.sk-estimator {font-family: monospace;background-color: #f0f8ff;border: 1px dotted black;border-radius: 0.25em;box-sizing: border-box;margin-bottom: 0.5em;}#sk-container-id-2 div.sk-estimator:hover {background-color: #d4ebff;}#sk-container-id-2 div.sk-parallel-item::after {content: \"\";width: 100%;border-bottom: 1px solid gray;flex-grow: 1;}#sk-container-id-2 div.sk-label:hover label.sk-toggleable__label {background-color: #d4ebff;}#sk-container-id-2 div.sk-serial::before {content: \"\";position: absolute;border-left: 1px solid gray;box-sizing: border-box;top: 0;bottom: 0;left: 50%;z-index: 0;}#sk-container-id-2 div.sk-serial {display: flex;flex-direction: column;align-items: center;background-color: white;padding-right: 0.2em;padding-left: 0.2em;position: relative;}#sk-container-id-2 div.sk-item {position: relative;z-index: 1;}#sk-container-id-2 div.sk-parallel {display: flex;align-items: stretch;justify-content: center;background-color: white;position: relative;}#sk-container-id-2 div.sk-item::before, #sk-container-id-2 div.sk-parallel-item::before {content: \"\";position: absolute;border-left: 1px solid gray;box-sizing: border-box;top: 0;bottom: 0;left: 50%;z-index: -1;}#sk-container-id-2 div.sk-parallel-item {display: flex;flex-direction: column;z-index: 1;position: relative;background-color: white;}#sk-container-id-2 div.sk-parallel-item:first-child::after {align-self: flex-end;width: 50%;}#sk-container-id-2 div.sk-parallel-item:last-child::after {align-self: flex-start;width: 50%;}#sk-container-id-2 div.sk-parallel-item:only-child::after {width: 0;}#sk-container-id-2 div.sk-dashed-wrapped {border: 1px dashed gray;margin: 0 0.4em 0.5em 0.4em;box-sizing: border-box;padding-bottom: 0.4em;background-color: white;}#sk-container-id-2 div.sk-label label {font-family: monospace;font-weight: bold;display: inline-block;line-height: 1.2em;}#sk-container-id-2 div.sk-label-container {text-align: center;}#sk-container-id-2 div.sk-container {/* jupyter's `normalize.less` sets `[hidden] { display: none; }` but bootstrap.min.css set `[hidden] { display: none !important; }` so we also need the `!important` here to be able to override the default hidden behavior on the sphinx rendered scikit-learn.org. See: https://github.com/scikit-learn/scikit-learn/issues/21755 */display: inline-block !important;position: relative;}#sk-container-id-2 div.sk-text-repr-fallback {display: none;}</style><div id=\"sk-container-id-2\" class=\"sk-top-container\"><div class=\"sk-text-repr-fallback\"><pre>Pipeline(steps=[(&#x27;preprocessor&#x27;,\n",
       "                 ColumnTransformer(transformers=[(&#x27;num&#x27;,\n",
       "                                                  SimpleImputer(strategy=&#x27;constant&#x27;),\n",
       "                                                  [&#x27;id&#x27;, &#x27;BertzCT&#x27;, &#x27;Chi1&#x27;,\n",
       "                                                   &#x27;Chi1n&#x27;, &#x27;Chi1v&#x27;, &#x27;Chi2n&#x27;,\n",
       "                                                   &#x27;Chi2v&#x27;, &#x27;Chi3v&#x27;, &#x27;Chi4n&#x27;,\n",
       "                                                   &#x27;EState_VSA1&#x27;, &#x27;EState_VSA2&#x27;,\n",
       "                                                   &#x27;ExactMolWt&#x27;,\n",
       "                                                   &#x27;FpDensityMorgan1&#x27;,\n",
       "                                                   &#x27;FpDensityMorgan2&#x27;,\n",
       "                                                   &#x27;FpDensityMorgan3&#x27;,\n",
       "                                                   &#x27;HallKierAlpha&#x27;,\n",
       "                                                   &#x27;HeavyAtomMolWt&#x27;, &#x27;Kappa3&#x27;,\n",
       "                                                   &#x27;MaxAbsEStateIndex&#x27;,\n",
       "                                                   &#x27;MinEStateIndex&#x27;,\n",
       "                                                   &#x27;NumHeteroatoms&#x27;,\n",
       "                                                   &#x27;PEOE_VSA10&#x27;, &#x27;PEOE_VSA14&#x27;,\n",
       "                                                   &#x27;PEOE_VSA6&#x27;, &#x27;PEOE_VSA7&#x27;,\n",
       "                                                   &#x27;PEOE_VSA8&#x27;, &#x27;SMR_VSA10&#x27;,\n",
       "                                                   &#x27;SMR_VSA5&#x27;, &#x27;SlogP_VSA3&#x27;,\n",
       "                                                   &#x27;VSA_EState9&#x27;, ...]),\n",
       "                                                 (&#x27;cat&#x27;,\n",
       "                                                  Pipeline(steps=[(&#x27;imputer&#x27;,\n",
       "                                                                   SimpleImputer(strategy=&#x27;most_frequent&#x27;)),\n",
       "                                                                  (&#x27;onehot&#x27;,\n",
       "                                                                   OneHotEncoder(handle_unknown=&#x27;ignore&#x27;))]),\n",
       "                                                  [])])),\n",
       "                (&#x27;model&#x27;, LogisticRegression(random_state=42))])</pre><b>In a Jupyter environment, please rerun this cell to show the HTML representation or trust the notebook. <br />On GitHub, the HTML representation is unable to render, please try loading this page with nbviewer.org.</b></div><div class=\"sk-container\" hidden><div class=\"sk-item sk-dashed-wrapped\"><div class=\"sk-label-container\"><div class=\"sk-label sk-toggleable\"><input class=\"sk-toggleable__control sk-hidden--visually\" id=\"sk-estimator-id-9\" type=\"checkbox\" ><label for=\"sk-estimator-id-9\" class=\"sk-toggleable__label sk-toggleable__label-arrow\">Pipeline</label><div class=\"sk-toggleable__content\"><pre>Pipeline(steps=[(&#x27;preprocessor&#x27;,\n",
       "                 ColumnTransformer(transformers=[(&#x27;num&#x27;,\n",
       "                                                  SimpleImputer(strategy=&#x27;constant&#x27;),\n",
       "                                                  [&#x27;id&#x27;, &#x27;BertzCT&#x27;, &#x27;Chi1&#x27;,\n",
       "                                                   &#x27;Chi1n&#x27;, &#x27;Chi1v&#x27;, &#x27;Chi2n&#x27;,\n",
       "                                                   &#x27;Chi2v&#x27;, &#x27;Chi3v&#x27;, &#x27;Chi4n&#x27;,\n",
       "                                                   &#x27;EState_VSA1&#x27;, &#x27;EState_VSA2&#x27;,\n",
       "                                                   &#x27;ExactMolWt&#x27;,\n",
       "                                                   &#x27;FpDensityMorgan1&#x27;,\n",
       "                                                   &#x27;FpDensityMorgan2&#x27;,\n",
       "                                                   &#x27;FpDensityMorgan3&#x27;,\n",
       "                                                   &#x27;HallKierAlpha&#x27;,\n",
       "                                                   &#x27;HeavyAtomMolWt&#x27;, &#x27;Kappa3&#x27;,\n",
       "                                                   &#x27;MaxAbsEStateIndex&#x27;,\n",
       "                                                   &#x27;MinEStateIndex&#x27;,\n",
       "                                                   &#x27;NumHeteroatoms&#x27;,\n",
       "                                                   &#x27;PEOE_VSA10&#x27;, &#x27;PEOE_VSA14&#x27;,\n",
       "                                                   &#x27;PEOE_VSA6&#x27;, &#x27;PEOE_VSA7&#x27;,\n",
       "                                                   &#x27;PEOE_VSA8&#x27;, &#x27;SMR_VSA10&#x27;,\n",
       "                                                   &#x27;SMR_VSA5&#x27;, &#x27;SlogP_VSA3&#x27;,\n",
       "                                                   &#x27;VSA_EState9&#x27;, ...]),\n",
       "                                                 (&#x27;cat&#x27;,\n",
       "                                                  Pipeline(steps=[(&#x27;imputer&#x27;,\n",
       "                                                                   SimpleImputer(strategy=&#x27;most_frequent&#x27;)),\n",
       "                                                                  (&#x27;onehot&#x27;,\n",
       "                                                                   OneHotEncoder(handle_unknown=&#x27;ignore&#x27;))]),\n",
       "                                                  [])])),\n",
       "                (&#x27;model&#x27;, LogisticRegression(random_state=42))])</pre></div></div></div><div class=\"sk-serial\"><div class=\"sk-item sk-dashed-wrapped\"><div class=\"sk-label-container\"><div class=\"sk-label sk-toggleable\"><input class=\"sk-toggleable__control sk-hidden--visually\" id=\"sk-estimator-id-10\" type=\"checkbox\" ><label for=\"sk-estimator-id-10\" class=\"sk-toggleable__label sk-toggleable__label-arrow\">preprocessor: ColumnTransformer</label><div class=\"sk-toggleable__content\"><pre>ColumnTransformer(transformers=[(&#x27;num&#x27;, SimpleImputer(strategy=&#x27;constant&#x27;),\n",
       "                                 [&#x27;id&#x27;, &#x27;BertzCT&#x27;, &#x27;Chi1&#x27;, &#x27;Chi1n&#x27;, &#x27;Chi1v&#x27;,\n",
       "                                  &#x27;Chi2n&#x27;, &#x27;Chi2v&#x27;, &#x27;Chi3v&#x27;, &#x27;Chi4n&#x27;,\n",
       "                                  &#x27;EState_VSA1&#x27;, &#x27;EState_VSA2&#x27;, &#x27;ExactMolWt&#x27;,\n",
       "                                  &#x27;FpDensityMorgan1&#x27;, &#x27;FpDensityMorgan2&#x27;,\n",
       "                                  &#x27;FpDensityMorgan3&#x27;, &#x27;HallKierAlpha&#x27;,\n",
       "                                  &#x27;HeavyAtomMolWt&#x27;, &#x27;Kappa3&#x27;,\n",
       "                                  &#x27;MaxAbsEStateIndex&#x27;, &#x27;MinEStateIndex&#x27;,\n",
       "                                  &#x27;NumHeteroatoms&#x27;, &#x27;PEOE_VSA10&#x27;, &#x27;PEOE_VSA14&#x27;,\n",
       "                                  &#x27;PEOE_VSA6&#x27;, &#x27;PEOE_VSA7&#x27;, &#x27;PEOE_VSA8&#x27;,\n",
       "                                  &#x27;SMR_VSA10&#x27;, &#x27;SMR_VSA5&#x27;, &#x27;SlogP_VSA3&#x27;,\n",
       "                                  &#x27;VSA_EState9&#x27;, ...]),\n",
       "                                (&#x27;cat&#x27;,\n",
       "                                 Pipeline(steps=[(&#x27;imputer&#x27;,\n",
       "                                                  SimpleImputer(strategy=&#x27;most_frequent&#x27;)),\n",
       "                                                 (&#x27;onehot&#x27;,\n",
       "                                                  OneHotEncoder(handle_unknown=&#x27;ignore&#x27;))]),\n",
       "                                 [])])</pre></div></div></div><div class=\"sk-parallel\"><div class=\"sk-parallel-item\"><div class=\"sk-item\"><div class=\"sk-label-container\"><div class=\"sk-label sk-toggleable\"><input class=\"sk-toggleable__control sk-hidden--visually\" id=\"sk-estimator-id-11\" type=\"checkbox\" ><label for=\"sk-estimator-id-11\" class=\"sk-toggleable__label sk-toggleable__label-arrow\">num</label><div class=\"sk-toggleable__content\"><pre>[&#x27;id&#x27;, &#x27;BertzCT&#x27;, &#x27;Chi1&#x27;, &#x27;Chi1n&#x27;, &#x27;Chi1v&#x27;, &#x27;Chi2n&#x27;, &#x27;Chi2v&#x27;, &#x27;Chi3v&#x27;, &#x27;Chi4n&#x27;, &#x27;EState_VSA1&#x27;, &#x27;EState_VSA2&#x27;, &#x27;ExactMolWt&#x27;, &#x27;FpDensityMorgan1&#x27;, &#x27;FpDensityMorgan2&#x27;, &#x27;FpDensityMorgan3&#x27;, &#x27;HallKierAlpha&#x27;, &#x27;HeavyAtomMolWt&#x27;, &#x27;Kappa3&#x27;, &#x27;MaxAbsEStateIndex&#x27;, &#x27;MinEStateIndex&#x27;, &#x27;NumHeteroatoms&#x27;, &#x27;PEOE_VSA10&#x27;, &#x27;PEOE_VSA14&#x27;, &#x27;PEOE_VSA6&#x27;, &#x27;PEOE_VSA7&#x27;, &#x27;PEOE_VSA8&#x27;, &#x27;SMR_VSA10&#x27;, &#x27;SMR_VSA5&#x27;, &#x27;SlogP_VSA3&#x27;, &#x27;VSA_EState9&#x27;, &#x27;fr_COO&#x27;, &#x27;fr_COO2&#x27;]</pre></div></div></div><div class=\"sk-serial\"><div class=\"sk-item\"><div class=\"sk-estimator sk-toggleable\"><input class=\"sk-toggleable__control sk-hidden--visually\" id=\"sk-estimator-id-12\" type=\"checkbox\" ><label for=\"sk-estimator-id-12\" class=\"sk-toggleable__label sk-toggleable__label-arrow\">SimpleImputer</label><div class=\"sk-toggleable__content\"><pre>SimpleImputer(strategy=&#x27;constant&#x27;)</pre></div></div></div></div></div></div><div class=\"sk-parallel-item\"><div class=\"sk-item\"><div class=\"sk-label-container\"><div class=\"sk-label sk-toggleable\"><input class=\"sk-toggleable__control sk-hidden--visually\" id=\"sk-estimator-id-13\" type=\"checkbox\" ><label for=\"sk-estimator-id-13\" class=\"sk-toggleable__label sk-toggleable__label-arrow\">cat</label><div class=\"sk-toggleable__content\"><pre>[]</pre></div></div></div><div class=\"sk-serial\"><div class=\"sk-item\"><div class=\"sk-serial\"><div class=\"sk-item\"><div class=\"sk-estimator sk-toggleable\"><input class=\"sk-toggleable__control sk-hidden--visually\" id=\"sk-estimator-id-14\" type=\"checkbox\" ><label for=\"sk-estimator-id-14\" class=\"sk-toggleable__label sk-toggleable__label-arrow\">SimpleImputer</label><div class=\"sk-toggleable__content\"><pre>SimpleImputer(strategy=&#x27;most_frequent&#x27;)</pre></div></div></div><div class=\"sk-item\"><div class=\"sk-estimator sk-toggleable\"><input class=\"sk-toggleable__control sk-hidden--visually\" id=\"sk-estimator-id-15\" type=\"checkbox\" ><label for=\"sk-estimator-id-15\" class=\"sk-toggleable__label sk-toggleable__label-arrow\">OneHotEncoder</label><div class=\"sk-toggleable__content\"><pre>OneHotEncoder(handle_unknown=&#x27;ignore&#x27;)</pre></div></div></div></div></div></div></div></div></div></div><div class=\"sk-item\"><div class=\"sk-estimator sk-toggleable\"><input class=\"sk-toggleable__control sk-hidden--visually\" id=\"sk-estimator-id-16\" type=\"checkbox\" ><label for=\"sk-estimator-id-16\" class=\"sk-toggleable__label sk-toggleable__label-arrow\">LogisticRegression</label><div class=\"sk-toggleable__content\"><pre>LogisticRegression(random_state=42)</pre></div></div></div></div></div></div></div>"
      ],
      "text/plain": [
       "Pipeline(steps=[('preprocessor',\n",
       "                 ColumnTransformer(transformers=[('num',\n",
       "                                                  SimpleImputer(strategy='constant'),\n",
       "                                                  ['id', 'BertzCT', 'Chi1',\n",
       "                                                   'Chi1n', 'Chi1v', 'Chi2n',\n",
       "                                                   'Chi2v', 'Chi3v', 'Chi4n',\n",
       "                                                   'EState_VSA1', 'EState_VSA2',\n",
       "                                                   'ExactMolWt',\n",
       "                                                   'FpDensityMorgan1',\n",
       "                                                   'FpDensityMorgan2',\n",
       "                                                   'FpDensityMorgan3',\n",
       "                                                   'HallKierAlpha',\n",
       "                                                   'HeavyAtomMolWt', 'Kappa3',\n",
       "                                                   'MaxAbsEStateIndex',\n",
       "                                                   'MinEStateIndex',\n",
       "                                                   'NumHeteroatoms',\n",
       "                                                   'PEOE_VSA10', 'PEOE_VSA14',\n",
       "                                                   'PEOE_VSA6', 'PEOE_VSA7',\n",
       "                                                   'PEOE_VSA8', 'SMR_VSA10',\n",
       "                                                   'SMR_VSA5', 'SlogP_VSA3',\n",
       "                                                   'VSA_EState9', ...]),\n",
       "                                                 ('cat',\n",
       "                                                  Pipeline(steps=[('imputer',\n",
       "                                                                   SimpleImputer(strategy='most_frequent')),\n",
       "                                                                  ('onehot',\n",
       "                                                                   OneHotEncoder(handle_unknown='ignore'))]),\n",
       "                                                  [])])),\n",
       "                ('model', LogisticRegression(random_state=42))])"
      ]
     },
     "execution_count": 21,
     "metadata": {},
     "output_type": "execute_result"
    }
   ],
   "source": [
    "clf1.fit(X_train,y2)"
   ]
  },
  {
   "cell_type": "code",
   "execution_count": 22,
   "id": "88a7f8c5",
   "metadata": {
    "execution": {
     "iopub.execute_input": "2023-07-02T07:36:00.000170Z",
     "iopub.status.busy": "2023-07-02T07:35:59.998980Z",
     "iopub.status.idle": "2023-07-02T07:36:00.018947Z",
     "shell.execute_reply": "2023-07-02T07:36:00.017571Z"
    },
    "papermill": {
     "duration": 0.041819,
     "end_time": "2023-07-02T07:36:00.022843",
     "exception": false,
     "start_time": "2023-07-02T07:35:59.981024",
     "status": "completed"
    },
    "tags": []
   },
   "outputs": [
    {
     "data": {
      "text/plain": [
       "array([1, 1, 1, ..., 1, 1, 1])"
      ]
     },
     "execution_count": 22,
     "metadata": {},
     "output_type": "execute_result"
    }
   ],
   "source": [
    "pred2 = clf1.predict(test)\n",
    "pred2"
   ]
  },
  {
   "cell_type": "markdown",
   "id": "65d11a82",
   "metadata": {
    "papermill": {
     "duration": 0.034517,
     "end_time": "2023-07-02T07:36:00.092743",
     "exception": false,
     "start_time": "2023-07-02T07:36:00.058226",
     "status": "completed"
    },
    "tags": []
   },
   "source": [
    "# Random Forest"
   ]
  },
  {
   "cell_type": "code",
   "execution_count": 23,
   "id": "2a06b87a",
   "metadata": {
    "execution": {
     "iopub.execute_input": "2023-07-02T07:36:00.149677Z",
     "iopub.status.busy": "2023-07-02T07:36:00.148428Z",
     "iopub.status.idle": "2023-07-02T07:36:00.154358Z",
     "shell.execute_reply": "2023-07-02T07:36:00.153517Z"
    },
    "papermill": {
     "duration": 0.02882,
     "end_time": "2023-07-02T07:36:00.156504",
     "exception": false,
     "start_time": "2023-07-02T07:36:00.127684",
     "status": "completed"
    },
    "tags": []
   },
   "outputs": [],
   "source": [
    "model = RandomForestClassifier(random_state=42)\n",
    "clf = Pipeline(steps=[('preprocessor', preprocessor),\n",
    "                      ('model', model)\n",
    "                     ])"
   ]
  },
  {
   "cell_type": "code",
   "execution_count": 24,
   "id": "6b380adf",
   "metadata": {
    "execution": {
     "iopub.execute_input": "2023-07-02T07:36:00.192774Z",
     "iopub.status.busy": "2023-07-02T07:36:00.191634Z",
     "iopub.status.idle": "2023-07-02T07:36:06.597732Z",
     "shell.execute_reply": "2023-07-02T07:36:06.596568Z"
    },
    "papermill": {
     "duration": 6.426825,
     "end_time": "2023-07-02T07:36:06.600283",
     "exception": false,
     "start_time": "2023-07-02T07:36:00.173458",
     "status": "completed"
    },
    "tags": []
   },
   "outputs": [
    {
     "data": {
      "text/html": [
       "<style>#sk-container-id-3 {color: black;background-color: white;}#sk-container-id-3 pre{padding: 0;}#sk-container-id-3 div.sk-toggleable {background-color: white;}#sk-container-id-3 label.sk-toggleable__label {cursor: pointer;display: block;width: 100%;margin-bottom: 0;padding: 0.3em;box-sizing: border-box;text-align: center;}#sk-container-id-3 label.sk-toggleable__label-arrow:before {content: \"▸\";float: left;margin-right: 0.25em;color: #696969;}#sk-container-id-3 label.sk-toggleable__label-arrow:hover:before {color: black;}#sk-container-id-3 div.sk-estimator:hover label.sk-toggleable__label-arrow:before {color: black;}#sk-container-id-3 div.sk-toggleable__content {max-height: 0;max-width: 0;overflow: hidden;text-align: left;background-color: #f0f8ff;}#sk-container-id-3 div.sk-toggleable__content pre {margin: 0.2em;color: black;border-radius: 0.25em;background-color: #f0f8ff;}#sk-container-id-3 input.sk-toggleable__control:checked~div.sk-toggleable__content {max-height: 200px;max-width: 100%;overflow: auto;}#sk-container-id-3 input.sk-toggleable__control:checked~label.sk-toggleable__label-arrow:before {content: \"▾\";}#sk-container-id-3 div.sk-estimator input.sk-toggleable__control:checked~label.sk-toggleable__label {background-color: #d4ebff;}#sk-container-id-3 div.sk-label input.sk-toggleable__control:checked~label.sk-toggleable__label {background-color: #d4ebff;}#sk-container-id-3 input.sk-hidden--visually {border: 0;clip: rect(1px 1px 1px 1px);clip: rect(1px, 1px, 1px, 1px);height: 1px;margin: -1px;overflow: hidden;padding: 0;position: absolute;width: 1px;}#sk-container-id-3 div.sk-estimator {font-family: monospace;background-color: #f0f8ff;border: 1px dotted black;border-radius: 0.25em;box-sizing: border-box;margin-bottom: 0.5em;}#sk-container-id-3 div.sk-estimator:hover {background-color: #d4ebff;}#sk-container-id-3 div.sk-parallel-item::after {content: \"\";width: 100%;border-bottom: 1px solid gray;flex-grow: 1;}#sk-container-id-3 div.sk-label:hover label.sk-toggleable__label {background-color: #d4ebff;}#sk-container-id-3 div.sk-serial::before {content: \"\";position: absolute;border-left: 1px solid gray;box-sizing: border-box;top: 0;bottom: 0;left: 50%;z-index: 0;}#sk-container-id-3 div.sk-serial {display: flex;flex-direction: column;align-items: center;background-color: white;padding-right: 0.2em;padding-left: 0.2em;position: relative;}#sk-container-id-3 div.sk-item {position: relative;z-index: 1;}#sk-container-id-3 div.sk-parallel {display: flex;align-items: stretch;justify-content: center;background-color: white;position: relative;}#sk-container-id-3 div.sk-item::before, #sk-container-id-3 div.sk-parallel-item::before {content: \"\";position: absolute;border-left: 1px solid gray;box-sizing: border-box;top: 0;bottom: 0;left: 50%;z-index: -1;}#sk-container-id-3 div.sk-parallel-item {display: flex;flex-direction: column;z-index: 1;position: relative;background-color: white;}#sk-container-id-3 div.sk-parallel-item:first-child::after {align-self: flex-end;width: 50%;}#sk-container-id-3 div.sk-parallel-item:last-child::after {align-self: flex-start;width: 50%;}#sk-container-id-3 div.sk-parallel-item:only-child::after {width: 0;}#sk-container-id-3 div.sk-dashed-wrapped {border: 1px dashed gray;margin: 0 0.4em 0.5em 0.4em;box-sizing: border-box;padding-bottom: 0.4em;background-color: white;}#sk-container-id-3 div.sk-label label {font-family: monospace;font-weight: bold;display: inline-block;line-height: 1.2em;}#sk-container-id-3 div.sk-label-container {text-align: center;}#sk-container-id-3 div.sk-container {/* jupyter's `normalize.less` sets `[hidden] { display: none; }` but bootstrap.min.css set `[hidden] { display: none !important; }` so we also need the `!important` here to be able to override the default hidden behavior on the sphinx rendered scikit-learn.org. See: https://github.com/scikit-learn/scikit-learn/issues/21755 */display: inline-block !important;position: relative;}#sk-container-id-3 div.sk-text-repr-fallback {display: none;}</style><div id=\"sk-container-id-3\" class=\"sk-top-container\"><div class=\"sk-text-repr-fallback\"><pre>Pipeline(steps=[(&#x27;preprocessor&#x27;,\n",
       "                 ColumnTransformer(transformers=[(&#x27;num&#x27;,\n",
       "                                                  SimpleImputer(strategy=&#x27;constant&#x27;),\n",
       "                                                  [&#x27;id&#x27;, &#x27;BertzCT&#x27;, &#x27;Chi1&#x27;,\n",
       "                                                   &#x27;Chi1n&#x27;, &#x27;Chi1v&#x27;, &#x27;Chi2n&#x27;,\n",
       "                                                   &#x27;Chi2v&#x27;, &#x27;Chi3v&#x27;, &#x27;Chi4n&#x27;,\n",
       "                                                   &#x27;EState_VSA1&#x27;, &#x27;EState_VSA2&#x27;,\n",
       "                                                   &#x27;ExactMolWt&#x27;,\n",
       "                                                   &#x27;FpDensityMorgan1&#x27;,\n",
       "                                                   &#x27;FpDensityMorgan2&#x27;,\n",
       "                                                   &#x27;FpDensityMorgan3&#x27;,\n",
       "                                                   &#x27;HallKierAlpha&#x27;,\n",
       "                                                   &#x27;HeavyAtomMolWt&#x27;, &#x27;Kappa3&#x27;,\n",
       "                                                   &#x27;MaxAbsEStateIndex&#x27;,\n",
       "                                                   &#x27;MinEStateIndex&#x27;,\n",
       "                                                   &#x27;NumHeteroatoms&#x27;,\n",
       "                                                   &#x27;PEOE_VSA10&#x27;, &#x27;PEOE_VSA14&#x27;,\n",
       "                                                   &#x27;PEOE_VSA6&#x27;, &#x27;PEOE_VSA7&#x27;,\n",
       "                                                   &#x27;PEOE_VSA8&#x27;, &#x27;SMR_VSA10&#x27;,\n",
       "                                                   &#x27;SMR_VSA5&#x27;, &#x27;SlogP_VSA3&#x27;,\n",
       "                                                   &#x27;VSA_EState9&#x27;, ...]),\n",
       "                                                 (&#x27;cat&#x27;,\n",
       "                                                  Pipeline(steps=[(&#x27;imputer&#x27;,\n",
       "                                                                   SimpleImputer(strategy=&#x27;most_frequent&#x27;)),\n",
       "                                                                  (&#x27;onehot&#x27;,\n",
       "                                                                   OneHotEncoder(handle_unknown=&#x27;ignore&#x27;))]),\n",
       "                                                  [])])),\n",
       "                (&#x27;model&#x27;, RandomForestClassifier(random_state=42))])</pre><b>In a Jupyter environment, please rerun this cell to show the HTML representation or trust the notebook. <br />On GitHub, the HTML representation is unable to render, please try loading this page with nbviewer.org.</b></div><div class=\"sk-container\" hidden><div class=\"sk-item sk-dashed-wrapped\"><div class=\"sk-label-container\"><div class=\"sk-label sk-toggleable\"><input class=\"sk-toggleable__control sk-hidden--visually\" id=\"sk-estimator-id-17\" type=\"checkbox\" ><label for=\"sk-estimator-id-17\" class=\"sk-toggleable__label sk-toggleable__label-arrow\">Pipeline</label><div class=\"sk-toggleable__content\"><pre>Pipeline(steps=[(&#x27;preprocessor&#x27;,\n",
       "                 ColumnTransformer(transformers=[(&#x27;num&#x27;,\n",
       "                                                  SimpleImputer(strategy=&#x27;constant&#x27;),\n",
       "                                                  [&#x27;id&#x27;, &#x27;BertzCT&#x27;, &#x27;Chi1&#x27;,\n",
       "                                                   &#x27;Chi1n&#x27;, &#x27;Chi1v&#x27;, &#x27;Chi2n&#x27;,\n",
       "                                                   &#x27;Chi2v&#x27;, &#x27;Chi3v&#x27;, &#x27;Chi4n&#x27;,\n",
       "                                                   &#x27;EState_VSA1&#x27;, &#x27;EState_VSA2&#x27;,\n",
       "                                                   &#x27;ExactMolWt&#x27;,\n",
       "                                                   &#x27;FpDensityMorgan1&#x27;,\n",
       "                                                   &#x27;FpDensityMorgan2&#x27;,\n",
       "                                                   &#x27;FpDensityMorgan3&#x27;,\n",
       "                                                   &#x27;HallKierAlpha&#x27;,\n",
       "                                                   &#x27;HeavyAtomMolWt&#x27;, &#x27;Kappa3&#x27;,\n",
       "                                                   &#x27;MaxAbsEStateIndex&#x27;,\n",
       "                                                   &#x27;MinEStateIndex&#x27;,\n",
       "                                                   &#x27;NumHeteroatoms&#x27;,\n",
       "                                                   &#x27;PEOE_VSA10&#x27;, &#x27;PEOE_VSA14&#x27;,\n",
       "                                                   &#x27;PEOE_VSA6&#x27;, &#x27;PEOE_VSA7&#x27;,\n",
       "                                                   &#x27;PEOE_VSA8&#x27;, &#x27;SMR_VSA10&#x27;,\n",
       "                                                   &#x27;SMR_VSA5&#x27;, &#x27;SlogP_VSA3&#x27;,\n",
       "                                                   &#x27;VSA_EState9&#x27;, ...]),\n",
       "                                                 (&#x27;cat&#x27;,\n",
       "                                                  Pipeline(steps=[(&#x27;imputer&#x27;,\n",
       "                                                                   SimpleImputer(strategy=&#x27;most_frequent&#x27;)),\n",
       "                                                                  (&#x27;onehot&#x27;,\n",
       "                                                                   OneHotEncoder(handle_unknown=&#x27;ignore&#x27;))]),\n",
       "                                                  [])])),\n",
       "                (&#x27;model&#x27;, RandomForestClassifier(random_state=42))])</pre></div></div></div><div class=\"sk-serial\"><div class=\"sk-item sk-dashed-wrapped\"><div class=\"sk-label-container\"><div class=\"sk-label sk-toggleable\"><input class=\"sk-toggleable__control sk-hidden--visually\" id=\"sk-estimator-id-18\" type=\"checkbox\" ><label for=\"sk-estimator-id-18\" class=\"sk-toggleable__label sk-toggleable__label-arrow\">preprocessor: ColumnTransformer</label><div class=\"sk-toggleable__content\"><pre>ColumnTransformer(transformers=[(&#x27;num&#x27;, SimpleImputer(strategy=&#x27;constant&#x27;),\n",
       "                                 [&#x27;id&#x27;, &#x27;BertzCT&#x27;, &#x27;Chi1&#x27;, &#x27;Chi1n&#x27;, &#x27;Chi1v&#x27;,\n",
       "                                  &#x27;Chi2n&#x27;, &#x27;Chi2v&#x27;, &#x27;Chi3v&#x27;, &#x27;Chi4n&#x27;,\n",
       "                                  &#x27;EState_VSA1&#x27;, &#x27;EState_VSA2&#x27;, &#x27;ExactMolWt&#x27;,\n",
       "                                  &#x27;FpDensityMorgan1&#x27;, &#x27;FpDensityMorgan2&#x27;,\n",
       "                                  &#x27;FpDensityMorgan3&#x27;, &#x27;HallKierAlpha&#x27;,\n",
       "                                  &#x27;HeavyAtomMolWt&#x27;, &#x27;Kappa3&#x27;,\n",
       "                                  &#x27;MaxAbsEStateIndex&#x27;, &#x27;MinEStateIndex&#x27;,\n",
       "                                  &#x27;NumHeteroatoms&#x27;, &#x27;PEOE_VSA10&#x27;, &#x27;PEOE_VSA14&#x27;,\n",
       "                                  &#x27;PEOE_VSA6&#x27;, &#x27;PEOE_VSA7&#x27;, &#x27;PEOE_VSA8&#x27;,\n",
       "                                  &#x27;SMR_VSA10&#x27;, &#x27;SMR_VSA5&#x27;, &#x27;SlogP_VSA3&#x27;,\n",
       "                                  &#x27;VSA_EState9&#x27;, ...]),\n",
       "                                (&#x27;cat&#x27;,\n",
       "                                 Pipeline(steps=[(&#x27;imputer&#x27;,\n",
       "                                                  SimpleImputer(strategy=&#x27;most_frequent&#x27;)),\n",
       "                                                 (&#x27;onehot&#x27;,\n",
       "                                                  OneHotEncoder(handle_unknown=&#x27;ignore&#x27;))]),\n",
       "                                 [])])</pre></div></div></div><div class=\"sk-parallel\"><div class=\"sk-parallel-item\"><div class=\"sk-item\"><div class=\"sk-label-container\"><div class=\"sk-label sk-toggleable\"><input class=\"sk-toggleable__control sk-hidden--visually\" id=\"sk-estimator-id-19\" type=\"checkbox\" ><label for=\"sk-estimator-id-19\" class=\"sk-toggleable__label sk-toggleable__label-arrow\">num</label><div class=\"sk-toggleable__content\"><pre>[&#x27;id&#x27;, &#x27;BertzCT&#x27;, &#x27;Chi1&#x27;, &#x27;Chi1n&#x27;, &#x27;Chi1v&#x27;, &#x27;Chi2n&#x27;, &#x27;Chi2v&#x27;, &#x27;Chi3v&#x27;, &#x27;Chi4n&#x27;, &#x27;EState_VSA1&#x27;, &#x27;EState_VSA2&#x27;, &#x27;ExactMolWt&#x27;, &#x27;FpDensityMorgan1&#x27;, &#x27;FpDensityMorgan2&#x27;, &#x27;FpDensityMorgan3&#x27;, &#x27;HallKierAlpha&#x27;, &#x27;HeavyAtomMolWt&#x27;, &#x27;Kappa3&#x27;, &#x27;MaxAbsEStateIndex&#x27;, &#x27;MinEStateIndex&#x27;, &#x27;NumHeteroatoms&#x27;, &#x27;PEOE_VSA10&#x27;, &#x27;PEOE_VSA14&#x27;, &#x27;PEOE_VSA6&#x27;, &#x27;PEOE_VSA7&#x27;, &#x27;PEOE_VSA8&#x27;, &#x27;SMR_VSA10&#x27;, &#x27;SMR_VSA5&#x27;, &#x27;SlogP_VSA3&#x27;, &#x27;VSA_EState9&#x27;, &#x27;fr_COO&#x27;, &#x27;fr_COO2&#x27;]</pre></div></div></div><div class=\"sk-serial\"><div class=\"sk-item\"><div class=\"sk-estimator sk-toggleable\"><input class=\"sk-toggleable__control sk-hidden--visually\" id=\"sk-estimator-id-20\" type=\"checkbox\" ><label for=\"sk-estimator-id-20\" class=\"sk-toggleable__label sk-toggleable__label-arrow\">SimpleImputer</label><div class=\"sk-toggleable__content\"><pre>SimpleImputer(strategy=&#x27;constant&#x27;)</pre></div></div></div></div></div></div><div class=\"sk-parallel-item\"><div class=\"sk-item\"><div class=\"sk-label-container\"><div class=\"sk-label sk-toggleable\"><input class=\"sk-toggleable__control sk-hidden--visually\" id=\"sk-estimator-id-21\" type=\"checkbox\" ><label for=\"sk-estimator-id-21\" class=\"sk-toggleable__label sk-toggleable__label-arrow\">cat</label><div class=\"sk-toggleable__content\"><pre>[]</pre></div></div></div><div class=\"sk-serial\"><div class=\"sk-item\"><div class=\"sk-serial\"><div class=\"sk-item\"><div class=\"sk-estimator sk-toggleable\"><input class=\"sk-toggleable__control sk-hidden--visually\" id=\"sk-estimator-id-22\" type=\"checkbox\" ><label for=\"sk-estimator-id-22\" class=\"sk-toggleable__label sk-toggleable__label-arrow\">SimpleImputer</label><div class=\"sk-toggleable__content\"><pre>SimpleImputer(strategy=&#x27;most_frequent&#x27;)</pre></div></div></div><div class=\"sk-item\"><div class=\"sk-estimator sk-toggleable\"><input class=\"sk-toggleable__control sk-hidden--visually\" id=\"sk-estimator-id-23\" type=\"checkbox\" ><label for=\"sk-estimator-id-23\" class=\"sk-toggleable__label sk-toggleable__label-arrow\">OneHotEncoder</label><div class=\"sk-toggleable__content\"><pre>OneHotEncoder(handle_unknown=&#x27;ignore&#x27;)</pre></div></div></div></div></div></div></div></div></div></div><div class=\"sk-item\"><div class=\"sk-estimator sk-toggleable\"><input class=\"sk-toggleable__control sk-hidden--visually\" id=\"sk-estimator-id-24\" type=\"checkbox\" ><label for=\"sk-estimator-id-24\" class=\"sk-toggleable__label sk-toggleable__label-arrow\">RandomForestClassifier</label><div class=\"sk-toggleable__content\"><pre>RandomForestClassifier(random_state=42)</pre></div></div></div></div></div></div></div>"
      ],
      "text/plain": [
       "Pipeline(steps=[('preprocessor',\n",
       "                 ColumnTransformer(transformers=[('num',\n",
       "                                                  SimpleImputer(strategy='constant'),\n",
       "                                                  ['id', 'BertzCT', 'Chi1',\n",
       "                                                   'Chi1n', 'Chi1v', 'Chi2n',\n",
       "                                                   'Chi2v', 'Chi3v', 'Chi4n',\n",
       "                                                   'EState_VSA1', 'EState_VSA2',\n",
       "                                                   'ExactMolWt',\n",
       "                                                   'FpDensityMorgan1',\n",
       "                                                   'FpDensityMorgan2',\n",
       "                                                   'FpDensityMorgan3',\n",
       "                                                   'HallKierAlpha',\n",
       "                                                   'HeavyAtomMolWt', 'Kappa3',\n",
       "                                                   'MaxAbsEStateIndex',\n",
       "                                                   'MinEStateIndex',\n",
       "                                                   'NumHeteroatoms',\n",
       "                                                   'PEOE_VSA10', 'PEOE_VSA14',\n",
       "                                                   'PEOE_VSA6', 'PEOE_VSA7',\n",
       "                                                   'PEOE_VSA8', 'SMR_VSA10',\n",
       "                                                   'SMR_VSA5', 'SlogP_VSA3',\n",
       "                                                   'VSA_EState9', ...]),\n",
       "                                                 ('cat',\n",
       "                                                  Pipeline(steps=[('imputer',\n",
       "                                                                   SimpleImputer(strategy='most_frequent')),\n",
       "                                                                  ('onehot',\n",
       "                                                                   OneHotEncoder(handle_unknown='ignore'))]),\n",
       "                                                  [])])),\n",
       "                ('model', RandomForestClassifier(random_state=42))])"
      ]
     },
     "execution_count": 24,
     "metadata": {},
     "output_type": "execute_result"
    }
   ],
   "source": [
    "clf.fit(X_train,y1)"
   ]
  },
  {
   "cell_type": "code",
   "execution_count": 25,
   "id": "1ae0838b",
   "metadata": {
    "execution": {
     "iopub.execute_input": "2023-07-02T07:36:06.637178Z",
     "iopub.status.busy": "2023-07-02T07:36:06.636410Z",
     "iopub.status.idle": "2023-07-02T07:36:06.882517Z",
     "shell.execute_reply": "2023-07-02T07:36:06.881304Z"
    },
    "papermill": {
     "duration": 0.267228,
     "end_time": "2023-07-02T07:36:06.885016",
     "exception": false,
     "start_time": "2023-07-02T07:36:06.617788",
     "status": "completed"
    },
    "tags": []
   },
   "outputs": [
    {
     "data": {
      "text/plain": [
       "array([1, 1, 1, ..., 0, 0, 0])"
      ]
     },
     "execution_count": 25,
     "metadata": {},
     "output_type": "execute_result"
    }
   ],
   "source": [
    "pred1 = clf.predict(test)\n",
    "pred1"
   ]
  },
  {
   "cell_type": "code",
   "execution_count": 26,
   "id": "e860d085",
   "metadata": {
    "execution": {
     "iopub.execute_input": "2023-07-02T07:36:06.921869Z",
     "iopub.status.busy": "2023-07-02T07:36:06.921342Z",
     "iopub.status.idle": "2023-07-02T07:36:06.927236Z",
     "shell.execute_reply": "2023-07-02T07:36:06.925792Z"
    },
    "papermill": {
     "duration": 0.027114,
     "end_time": "2023-07-02T07:36:06.929580",
     "exception": false,
     "start_time": "2023-07-02T07:36:06.902466",
     "status": "completed"
    },
    "tags": []
   },
   "outputs": [],
   "source": [
    "clf1 = Pipeline(steps=[('preprocessor', preprocessor),\n",
    "                      ('model', model)\n",
    "                     ])"
   ]
  },
  {
   "cell_type": "code",
   "execution_count": 27,
   "id": "f2cd1217",
   "metadata": {
    "execution": {
     "iopub.execute_input": "2023-07-02T07:36:06.966249Z",
     "iopub.status.busy": "2023-07-02T07:36:06.965808Z",
     "iopub.status.idle": "2023-07-02T07:36:13.960313Z",
     "shell.execute_reply": "2023-07-02T07:36:13.959060Z"
    },
    "papermill": {
     "duration": 7.015913,
     "end_time": "2023-07-02T07:36:13.962933",
     "exception": false,
     "start_time": "2023-07-02T07:36:06.947020",
     "status": "completed"
    },
    "tags": []
   },
   "outputs": [
    {
     "data": {
      "text/html": [
       "<style>#sk-container-id-4 {color: black;background-color: white;}#sk-container-id-4 pre{padding: 0;}#sk-container-id-4 div.sk-toggleable {background-color: white;}#sk-container-id-4 label.sk-toggleable__label {cursor: pointer;display: block;width: 100%;margin-bottom: 0;padding: 0.3em;box-sizing: border-box;text-align: center;}#sk-container-id-4 label.sk-toggleable__label-arrow:before {content: \"▸\";float: left;margin-right: 0.25em;color: #696969;}#sk-container-id-4 label.sk-toggleable__label-arrow:hover:before {color: black;}#sk-container-id-4 div.sk-estimator:hover label.sk-toggleable__label-arrow:before {color: black;}#sk-container-id-4 div.sk-toggleable__content {max-height: 0;max-width: 0;overflow: hidden;text-align: left;background-color: #f0f8ff;}#sk-container-id-4 div.sk-toggleable__content pre {margin: 0.2em;color: black;border-radius: 0.25em;background-color: #f0f8ff;}#sk-container-id-4 input.sk-toggleable__control:checked~div.sk-toggleable__content {max-height: 200px;max-width: 100%;overflow: auto;}#sk-container-id-4 input.sk-toggleable__control:checked~label.sk-toggleable__label-arrow:before {content: \"▾\";}#sk-container-id-4 div.sk-estimator input.sk-toggleable__control:checked~label.sk-toggleable__label {background-color: #d4ebff;}#sk-container-id-4 div.sk-label input.sk-toggleable__control:checked~label.sk-toggleable__label {background-color: #d4ebff;}#sk-container-id-4 input.sk-hidden--visually {border: 0;clip: rect(1px 1px 1px 1px);clip: rect(1px, 1px, 1px, 1px);height: 1px;margin: -1px;overflow: hidden;padding: 0;position: absolute;width: 1px;}#sk-container-id-4 div.sk-estimator {font-family: monospace;background-color: #f0f8ff;border: 1px dotted black;border-radius: 0.25em;box-sizing: border-box;margin-bottom: 0.5em;}#sk-container-id-4 div.sk-estimator:hover {background-color: #d4ebff;}#sk-container-id-4 div.sk-parallel-item::after {content: \"\";width: 100%;border-bottom: 1px solid gray;flex-grow: 1;}#sk-container-id-4 div.sk-label:hover label.sk-toggleable__label {background-color: #d4ebff;}#sk-container-id-4 div.sk-serial::before {content: \"\";position: absolute;border-left: 1px solid gray;box-sizing: border-box;top: 0;bottom: 0;left: 50%;z-index: 0;}#sk-container-id-4 div.sk-serial {display: flex;flex-direction: column;align-items: center;background-color: white;padding-right: 0.2em;padding-left: 0.2em;position: relative;}#sk-container-id-4 div.sk-item {position: relative;z-index: 1;}#sk-container-id-4 div.sk-parallel {display: flex;align-items: stretch;justify-content: center;background-color: white;position: relative;}#sk-container-id-4 div.sk-item::before, #sk-container-id-4 div.sk-parallel-item::before {content: \"\";position: absolute;border-left: 1px solid gray;box-sizing: border-box;top: 0;bottom: 0;left: 50%;z-index: -1;}#sk-container-id-4 div.sk-parallel-item {display: flex;flex-direction: column;z-index: 1;position: relative;background-color: white;}#sk-container-id-4 div.sk-parallel-item:first-child::after {align-self: flex-end;width: 50%;}#sk-container-id-4 div.sk-parallel-item:last-child::after {align-self: flex-start;width: 50%;}#sk-container-id-4 div.sk-parallel-item:only-child::after {width: 0;}#sk-container-id-4 div.sk-dashed-wrapped {border: 1px dashed gray;margin: 0 0.4em 0.5em 0.4em;box-sizing: border-box;padding-bottom: 0.4em;background-color: white;}#sk-container-id-4 div.sk-label label {font-family: monospace;font-weight: bold;display: inline-block;line-height: 1.2em;}#sk-container-id-4 div.sk-label-container {text-align: center;}#sk-container-id-4 div.sk-container {/* jupyter's `normalize.less` sets `[hidden] { display: none; }` but bootstrap.min.css set `[hidden] { display: none !important; }` so we also need the `!important` here to be able to override the default hidden behavior on the sphinx rendered scikit-learn.org. See: https://github.com/scikit-learn/scikit-learn/issues/21755 */display: inline-block !important;position: relative;}#sk-container-id-4 div.sk-text-repr-fallback {display: none;}</style><div id=\"sk-container-id-4\" class=\"sk-top-container\"><div class=\"sk-text-repr-fallback\"><pre>Pipeline(steps=[(&#x27;preprocessor&#x27;,\n",
       "                 ColumnTransformer(transformers=[(&#x27;num&#x27;,\n",
       "                                                  SimpleImputer(strategy=&#x27;constant&#x27;),\n",
       "                                                  [&#x27;id&#x27;, &#x27;BertzCT&#x27;, &#x27;Chi1&#x27;,\n",
       "                                                   &#x27;Chi1n&#x27;, &#x27;Chi1v&#x27;, &#x27;Chi2n&#x27;,\n",
       "                                                   &#x27;Chi2v&#x27;, &#x27;Chi3v&#x27;, &#x27;Chi4n&#x27;,\n",
       "                                                   &#x27;EState_VSA1&#x27;, &#x27;EState_VSA2&#x27;,\n",
       "                                                   &#x27;ExactMolWt&#x27;,\n",
       "                                                   &#x27;FpDensityMorgan1&#x27;,\n",
       "                                                   &#x27;FpDensityMorgan2&#x27;,\n",
       "                                                   &#x27;FpDensityMorgan3&#x27;,\n",
       "                                                   &#x27;HallKierAlpha&#x27;,\n",
       "                                                   &#x27;HeavyAtomMolWt&#x27;, &#x27;Kappa3&#x27;,\n",
       "                                                   &#x27;MaxAbsEStateIndex&#x27;,\n",
       "                                                   &#x27;MinEStateIndex&#x27;,\n",
       "                                                   &#x27;NumHeteroatoms&#x27;,\n",
       "                                                   &#x27;PEOE_VSA10&#x27;, &#x27;PEOE_VSA14&#x27;,\n",
       "                                                   &#x27;PEOE_VSA6&#x27;, &#x27;PEOE_VSA7&#x27;,\n",
       "                                                   &#x27;PEOE_VSA8&#x27;, &#x27;SMR_VSA10&#x27;,\n",
       "                                                   &#x27;SMR_VSA5&#x27;, &#x27;SlogP_VSA3&#x27;,\n",
       "                                                   &#x27;VSA_EState9&#x27;, ...]),\n",
       "                                                 (&#x27;cat&#x27;,\n",
       "                                                  Pipeline(steps=[(&#x27;imputer&#x27;,\n",
       "                                                                   SimpleImputer(strategy=&#x27;most_frequent&#x27;)),\n",
       "                                                                  (&#x27;onehot&#x27;,\n",
       "                                                                   OneHotEncoder(handle_unknown=&#x27;ignore&#x27;))]),\n",
       "                                                  [])])),\n",
       "                (&#x27;model&#x27;, RandomForestClassifier(random_state=42))])</pre><b>In a Jupyter environment, please rerun this cell to show the HTML representation or trust the notebook. <br />On GitHub, the HTML representation is unable to render, please try loading this page with nbviewer.org.</b></div><div class=\"sk-container\" hidden><div class=\"sk-item sk-dashed-wrapped\"><div class=\"sk-label-container\"><div class=\"sk-label sk-toggleable\"><input class=\"sk-toggleable__control sk-hidden--visually\" id=\"sk-estimator-id-25\" type=\"checkbox\" ><label for=\"sk-estimator-id-25\" class=\"sk-toggleable__label sk-toggleable__label-arrow\">Pipeline</label><div class=\"sk-toggleable__content\"><pre>Pipeline(steps=[(&#x27;preprocessor&#x27;,\n",
       "                 ColumnTransformer(transformers=[(&#x27;num&#x27;,\n",
       "                                                  SimpleImputer(strategy=&#x27;constant&#x27;),\n",
       "                                                  [&#x27;id&#x27;, &#x27;BertzCT&#x27;, &#x27;Chi1&#x27;,\n",
       "                                                   &#x27;Chi1n&#x27;, &#x27;Chi1v&#x27;, &#x27;Chi2n&#x27;,\n",
       "                                                   &#x27;Chi2v&#x27;, &#x27;Chi3v&#x27;, &#x27;Chi4n&#x27;,\n",
       "                                                   &#x27;EState_VSA1&#x27;, &#x27;EState_VSA2&#x27;,\n",
       "                                                   &#x27;ExactMolWt&#x27;,\n",
       "                                                   &#x27;FpDensityMorgan1&#x27;,\n",
       "                                                   &#x27;FpDensityMorgan2&#x27;,\n",
       "                                                   &#x27;FpDensityMorgan3&#x27;,\n",
       "                                                   &#x27;HallKierAlpha&#x27;,\n",
       "                                                   &#x27;HeavyAtomMolWt&#x27;, &#x27;Kappa3&#x27;,\n",
       "                                                   &#x27;MaxAbsEStateIndex&#x27;,\n",
       "                                                   &#x27;MinEStateIndex&#x27;,\n",
       "                                                   &#x27;NumHeteroatoms&#x27;,\n",
       "                                                   &#x27;PEOE_VSA10&#x27;, &#x27;PEOE_VSA14&#x27;,\n",
       "                                                   &#x27;PEOE_VSA6&#x27;, &#x27;PEOE_VSA7&#x27;,\n",
       "                                                   &#x27;PEOE_VSA8&#x27;, &#x27;SMR_VSA10&#x27;,\n",
       "                                                   &#x27;SMR_VSA5&#x27;, &#x27;SlogP_VSA3&#x27;,\n",
       "                                                   &#x27;VSA_EState9&#x27;, ...]),\n",
       "                                                 (&#x27;cat&#x27;,\n",
       "                                                  Pipeline(steps=[(&#x27;imputer&#x27;,\n",
       "                                                                   SimpleImputer(strategy=&#x27;most_frequent&#x27;)),\n",
       "                                                                  (&#x27;onehot&#x27;,\n",
       "                                                                   OneHotEncoder(handle_unknown=&#x27;ignore&#x27;))]),\n",
       "                                                  [])])),\n",
       "                (&#x27;model&#x27;, RandomForestClassifier(random_state=42))])</pre></div></div></div><div class=\"sk-serial\"><div class=\"sk-item sk-dashed-wrapped\"><div class=\"sk-label-container\"><div class=\"sk-label sk-toggleable\"><input class=\"sk-toggleable__control sk-hidden--visually\" id=\"sk-estimator-id-26\" type=\"checkbox\" ><label for=\"sk-estimator-id-26\" class=\"sk-toggleable__label sk-toggleable__label-arrow\">preprocessor: ColumnTransformer</label><div class=\"sk-toggleable__content\"><pre>ColumnTransformer(transformers=[(&#x27;num&#x27;, SimpleImputer(strategy=&#x27;constant&#x27;),\n",
       "                                 [&#x27;id&#x27;, &#x27;BertzCT&#x27;, &#x27;Chi1&#x27;, &#x27;Chi1n&#x27;, &#x27;Chi1v&#x27;,\n",
       "                                  &#x27;Chi2n&#x27;, &#x27;Chi2v&#x27;, &#x27;Chi3v&#x27;, &#x27;Chi4n&#x27;,\n",
       "                                  &#x27;EState_VSA1&#x27;, &#x27;EState_VSA2&#x27;, &#x27;ExactMolWt&#x27;,\n",
       "                                  &#x27;FpDensityMorgan1&#x27;, &#x27;FpDensityMorgan2&#x27;,\n",
       "                                  &#x27;FpDensityMorgan3&#x27;, &#x27;HallKierAlpha&#x27;,\n",
       "                                  &#x27;HeavyAtomMolWt&#x27;, &#x27;Kappa3&#x27;,\n",
       "                                  &#x27;MaxAbsEStateIndex&#x27;, &#x27;MinEStateIndex&#x27;,\n",
       "                                  &#x27;NumHeteroatoms&#x27;, &#x27;PEOE_VSA10&#x27;, &#x27;PEOE_VSA14&#x27;,\n",
       "                                  &#x27;PEOE_VSA6&#x27;, &#x27;PEOE_VSA7&#x27;, &#x27;PEOE_VSA8&#x27;,\n",
       "                                  &#x27;SMR_VSA10&#x27;, &#x27;SMR_VSA5&#x27;, &#x27;SlogP_VSA3&#x27;,\n",
       "                                  &#x27;VSA_EState9&#x27;, ...]),\n",
       "                                (&#x27;cat&#x27;,\n",
       "                                 Pipeline(steps=[(&#x27;imputer&#x27;,\n",
       "                                                  SimpleImputer(strategy=&#x27;most_frequent&#x27;)),\n",
       "                                                 (&#x27;onehot&#x27;,\n",
       "                                                  OneHotEncoder(handle_unknown=&#x27;ignore&#x27;))]),\n",
       "                                 [])])</pre></div></div></div><div class=\"sk-parallel\"><div class=\"sk-parallel-item\"><div class=\"sk-item\"><div class=\"sk-label-container\"><div class=\"sk-label sk-toggleable\"><input class=\"sk-toggleable__control sk-hidden--visually\" id=\"sk-estimator-id-27\" type=\"checkbox\" ><label for=\"sk-estimator-id-27\" class=\"sk-toggleable__label sk-toggleable__label-arrow\">num</label><div class=\"sk-toggleable__content\"><pre>[&#x27;id&#x27;, &#x27;BertzCT&#x27;, &#x27;Chi1&#x27;, &#x27;Chi1n&#x27;, &#x27;Chi1v&#x27;, &#x27;Chi2n&#x27;, &#x27;Chi2v&#x27;, &#x27;Chi3v&#x27;, &#x27;Chi4n&#x27;, &#x27;EState_VSA1&#x27;, &#x27;EState_VSA2&#x27;, &#x27;ExactMolWt&#x27;, &#x27;FpDensityMorgan1&#x27;, &#x27;FpDensityMorgan2&#x27;, &#x27;FpDensityMorgan3&#x27;, &#x27;HallKierAlpha&#x27;, &#x27;HeavyAtomMolWt&#x27;, &#x27;Kappa3&#x27;, &#x27;MaxAbsEStateIndex&#x27;, &#x27;MinEStateIndex&#x27;, &#x27;NumHeteroatoms&#x27;, &#x27;PEOE_VSA10&#x27;, &#x27;PEOE_VSA14&#x27;, &#x27;PEOE_VSA6&#x27;, &#x27;PEOE_VSA7&#x27;, &#x27;PEOE_VSA8&#x27;, &#x27;SMR_VSA10&#x27;, &#x27;SMR_VSA5&#x27;, &#x27;SlogP_VSA3&#x27;, &#x27;VSA_EState9&#x27;, &#x27;fr_COO&#x27;, &#x27;fr_COO2&#x27;]</pre></div></div></div><div class=\"sk-serial\"><div class=\"sk-item\"><div class=\"sk-estimator sk-toggleable\"><input class=\"sk-toggleable__control sk-hidden--visually\" id=\"sk-estimator-id-28\" type=\"checkbox\" ><label for=\"sk-estimator-id-28\" class=\"sk-toggleable__label sk-toggleable__label-arrow\">SimpleImputer</label><div class=\"sk-toggleable__content\"><pre>SimpleImputer(strategy=&#x27;constant&#x27;)</pre></div></div></div></div></div></div><div class=\"sk-parallel-item\"><div class=\"sk-item\"><div class=\"sk-label-container\"><div class=\"sk-label sk-toggleable\"><input class=\"sk-toggleable__control sk-hidden--visually\" id=\"sk-estimator-id-29\" type=\"checkbox\" ><label for=\"sk-estimator-id-29\" class=\"sk-toggleable__label sk-toggleable__label-arrow\">cat</label><div class=\"sk-toggleable__content\"><pre>[]</pre></div></div></div><div class=\"sk-serial\"><div class=\"sk-item\"><div class=\"sk-serial\"><div class=\"sk-item\"><div class=\"sk-estimator sk-toggleable\"><input class=\"sk-toggleable__control sk-hidden--visually\" id=\"sk-estimator-id-30\" type=\"checkbox\" ><label for=\"sk-estimator-id-30\" class=\"sk-toggleable__label sk-toggleable__label-arrow\">SimpleImputer</label><div class=\"sk-toggleable__content\"><pre>SimpleImputer(strategy=&#x27;most_frequent&#x27;)</pre></div></div></div><div class=\"sk-item\"><div class=\"sk-estimator sk-toggleable\"><input class=\"sk-toggleable__control sk-hidden--visually\" id=\"sk-estimator-id-31\" type=\"checkbox\" ><label for=\"sk-estimator-id-31\" class=\"sk-toggleable__label sk-toggleable__label-arrow\">OneHotEncoder</label><div class=\"sk-toggleable__content\"><pre>OneHotEncoder(handle_unknown=&#x27;ignore&#x27;)</pre></div></div></div></div></div></div></div></div></div></div><div class=\"sk-item\"><div class=\"sk-estimator sk-toggleable\"><input class=\"sk-toggleable__control sk-hidden--visually\" id=\"sk-estimator-id-32\" type=\"checkbox\" ><label for=\"sk-estimator-id-32\" class=\"sk-toggleable__label sk-toggleable__label-arrow\">RandomForestClassifier</label><div class=\"sk-toggleable__content\"><pre>RandomForestClassifier(random_state=42)</pre></div></div></div></div></div></div></div>"
      ],
      "text/plain": [
       "Pipeline(steps=[('preprocessor',\n",
       "                 ColumnTransformer(transformers=[('num',\n",
       "                                                  SimpleImputer(strategy='constant'),\n",
       "                                                  ['id', 'BertzCT', 'Chi1',\n",
       "                                                   'Chi1n', 'Chi1v', 'Chi2n',\n",
       "                                                   'Chi2v', 'Chi3v', 'Chi4n',\n",
       "                                                   'EState_VSA1', 'EState_VSA2',\n",
       "                                                   'ExactMolWt',\n",
       "                                                   'FpDensityMorgan1',\n",
       "                                                   'FpDensityMorgan2',\n",
       "                                                   'FpDensityMorgan3',\n",
       "                                                   'HallKierAlpha',\n",
       "                                                   'HeavyAtomMolWt', 'Kappa3',\n",
       "                                                   'MaxAbsEStateIndex',\n",
       "                                                   'MinEStateIndex',\n",
       "                                                   'NumHeteroatoms',\n",
       "                                                   'PEOE_VSA10', 'PEOE_VSA14',\n",
       "                                                   'PEOE_VSA6', 'PEOE_VSA7',\n",
       "                                                   'PEOE_VSA8', 'SMR_VSA10',\n",
       "                                                   'SMR_VSA5', 'SlogP_VSA3',\n",
       "                                                   'VSA_EState9', ...]),\n",
       "                                                 ('cat',\n",
       "                                                  Pipeline(steps=[('imputer',\n",
       "                                                                   SimpleImputer(strategy='most_frequent')),\n",
       "                                                                  ('onehot',\n",
       "                                                                   OneHotEncoder(handle_unknown='ignore'))]),\n",
       "                                                  [])])),\n",
       "                ('model', RandomForestClassifier(random_state=42))])"
      ]
     },
     "execution_count": 27,
     "metadata": {},
     "output_type": "execute_result"
    }
   ],
   "source": [
    "clf1.fit(X_train,y2)"
   ]
  },
  {
   "cell_type": "code",
   "execution_count": 28,
   "id": "9136791c",
   "metadata": {
    "execution": {
     "iopub.execute_input": "2023-07-02T07:36:14.000734Z",
     "iopub.status.busy": "2023-07-02T07:36:14.000270Z",
     "iopub.status.idle": "2023-07-02T07:36:14.249519Z",
     "shell.execute_reply": "2023-07-02T07:36:14.248387Z"
    },
    "papermill": {
     "duration": 0.27135,
     "end_time": "2023-07-02T07:36:14.252260",
     "exception": false,
     "start_time": "2023-07-02T07:36:13.980910",
     "status": "completed"
    },
    "tags": []
   },
   "outputs": [
    {
     "data": {
      "text/plain": [
       "array([1, 1, 1, ..., 1, 1, 1])"
      ]
     },
     "execution_count": 28,
     "metadata": {},
     "output_type": "execute_result"
    }
   ],
   "source": [
    "pred2 = clf1.predict(test)\n",
    "pred2"
   ]
  },
  {
   "cell_type": "markdown",
   "id": "d5afd5de",
   "metadata": {
    "papermill": {
     "duration": 0.018348,
     "end_time": "2023-07-02T07:36:14.288579",
     "exception": false,
     "start_time": "2023-07-02T07:36:14.270231",
     "status": "completed"
    },
    "tags": []
   },
   "source": [
    "# Decision Tree"
   ]
  },
  {
   "cell_type": "code",
   "execution_count": 29,
   "id": "f1a498ac",
   "metadata": {
    "execution": {
     "iopub.execute_input": "2023-07-02T07:36:14.326644Z",
     "iopub.status.busy": "2023-07-02T07:36:14.326212Z",
     "iopub.status.idle": "2023-07-02T07:36:14.332138Z",
     "shell.execute_reply": "2023-07-02T07:36:14.331030Z"
    },
    "papermill": {
     "duration": 0.028293,
     "end_time": "2023-07-02T07:36:14.334922",
     "exception": false,
     "start_time": "2023-07-02T07:36:14.306629",
     "status": "completed"
    },
    "tags": []
   },
   "outputs": [],
   "source": [
    "from sklearn.tree import DecisionTreeClassifier\n",
    "model = DecisionTreeClassifier(random_state=42)\n",
    "clf = Pipeline(steps=[('preprocessor', preprocessor),\n",
    "                      ('model', model)\n",
    "                     ])\n",
    "clf1 = Pipeline(steps=[('preprocessor', preprocessor),\n",
    "                      ('model', model)\n",
    "                     ])\n"
   ]
  },
  {
   "cell_type": "code",
   "execution_count": 30,
   "id": "69a8c1d8",
   "metadata": {
    "execution": {
     "iopub.execute_input": "2023-07-02T07:36:14.373278Z",
     "iopub.status.busy": "2023-07-02T07:36:14.372582Z",
     "iopub.status.idle": "2023-07-02T07:36:15.673755Z",
     "shell.execute_reply": "2023-07-02T07:36:15.672649Z"
    },
    "papermill": {
     "duration": 1.323276,
     "end_time": "2023-07-02T07:36:15.676279",
     "exception": false,
     "start_time": "2023-07-02T07:36:14.353003",
     "status": "completed"
    },
    "tags": []
   },
   "outputs": [
    {
     "data": {
      "text/html": [
       "<style>#sk-container-id-5 {color: black;background-color: white;}#sk-container-id-5 pre{padding: 0;}#sk-container-id-5 div.sk-toggleable {background-color: white;}#sk-container-id-5 label.sk-toggleable__label {cursor: pointer;display: block;width: 100%;margin-bottom: 0;padding: 0.3em;box-sizing: border-box;text-align: center;}#sk-container-id-5 label.sk-toggleable__label-arrow:before {content: \"▸\";float: left;margin-right: 0.25em;color: #696969;}#sk-container-id-5 label.sk-toggleable__label-arrow:hover:before {color: black;}#sk-container-id-5 div.sk-estimator:hover label.sk-toggleable__label-arrow:before {color: black;}#sk-container-id-5 div.sk-toggleable__content {max-height: 0;max-width: 0;overflow: hidden;text-align: left;background-color: #f0f8ff;}#sk-container-id-5 div.sk-toggleable__content pre {margin: 0.2em;color: black;border-radius: 0.25em;background-color: #f0f8ff;}#sk-container-id-5 input.sk-toggleable__control:checked~div.sk-toggleable__content {max-height: 200px;max-width: 100%;overflow: auto;}#sk-container-id-5 input.sk-toggleable__control:checked~label.sk-toggleable__label-arrow:before {content: \"▾\";}#sk-container-id-5 div.sk-estimator input.sk-toggleable__control:checked~label.sk-toggleable__label {background-color: #d4ebff;}#sk-container-id-5 div.sk-label input.sk-toggleable__control:checked~label.sk-toggleable__label {background-color: #d4ebff;}#sk-container-id-5 input.sk-hidden--visually {border: 0;clip: rect(1px 1px 1px 1px);clip: rect(1px, 1px, 1px, 1px);height: 1px;margin: -1px;overflow: hidden;padding: 0;position: absolute;width: 1px;}#sk-container-id-5 div.sk-estimator {font-family: monospace;background-color: #f0f8ff;border: 1px dotted black;border-radius: 0.25em;box-sizing: border-box;margin-bottom: 0.5em;}#sk-container-id-5 div.sk-estimator:hover {background-color: #d4ebff;}#sk-container-id-5 div.sk-parallel-item::after {content: \"\";width: 100%;border-bottom: 1px solid gray;flex-grow: 1;}#sk-container-id-5 div.sk-label:hover label.sk-toggleable__label {background-color: #d4ebff;}#sk-container-id-5 div.sk-serial::before {content: \"\";position: absolute;border-left: 1px solid gray;box-sizing: border-box;top: 0;bottom: 0;left: 50%;z-index: 0;}#sk-container-id-5 div.sk-serial {display: flex;flex-direction: column;align-items: center;background-color: white;padding-right: 0.2em;padding-left: 0.2em;position: relative;}#sk-container-id-5 div.sk-item {position: relative;z-index: 1;}#sk-container-id-5 div.sk-parallel {display: flex;align-items: stretch;justify-content: center;background-color: white;position: relative;}#sk-container-id-5 div.sk-item::before, #sk-container-id-5 div.sk-parallel-item::before {content: \"\";position: absolute;border-left: 1px solid gray;box-sizing: border-box;top: 0;bottom: 0;left: 50%;z-index: -1;}#sk-container-id-5 div.sk-parallel-item {display: flex;flex-direction: column;z-index: 1;position: relative;background-color: white;}#sk-container-id-5 div.sk-parallel-item:first-child::after {align-self: flex-end;width: 50%;}#sk-container-id-5 div.sk-parallel-item:last-child::after {align-self: flex-start;width: 50%;}#sk-container-id-5 div.sk-parallel-item:only-child::after {width: 0;}#sk-container-id-5 div.sk-dashed-wrapped {border: 1px dashed gray;margin: 0 0.4em 0.5em 0.4em;box-sizing: border-box;padding-bottom: 0.4em;background-color: white;}#sk-container-id-5 div.sk-label label {font-family: monospace;font-weight: bold;display: inline-block;line-height: 1.2em;}#sk-container-id-5 div.sk-label-container {text-align: center;}#sk-container-id-5 div.sk-container {/* jupyter's `normalize.less` sets `[hidden] { display: none; }` but bootstrap.min.css set `[hidden] { display: none !important; }` so we also need the `!important` here to be able to override the default hidden behavior on the sphinx rendered scikit-learn.org. See: https://github.com/scikit-learn/scikit-learn/issues/21755 */display: inline-block !important;position: relative;}#sk-container-id-5 div.sk-text-repr-fallback {display: none;}</style><div id=\"sk-container-id-5\" class=\"sk-top-container\"><div class=\"sk-text-repr-fallback\"><pre>Pipeline(steps=[(&#x27;preprocessor&#x27;,\n",
       "                 ColumnTransformer(transformers=[(&#x27;num&#x27;,\n",
       "                                                  SimpleImputer(strategy=&#x27;constant&#x27;),\n",
       "                                                  [&#x27;id&#x27;, &#x27;BertzCT&#x27;, &#x27;Chi1&#x27;,\n",
       "                                                   &#x27;Chi1n&#x27;, &#x27;Chi1v&#x27;, &#x27;Chi2n&#x27;,\n",
       "                                                   &#x27;Chi2v&#x27;, &#x27;Chi3v&#x27;, &#x27;Chi4n&#x27;,\n",
       "                                                   &#x27;EState_VSA1&#x27;, &#x27;EState_VSA2&#x27;,\n",
       "                                                   &#x27;ExactMolWt&#x27;,\n",
       "                                                   &#x27;FpDensityMorgan1&#x27;,\n",
       "                                                   &#x27;FpDensityMorgan2&#x27;,\n",
       "                                                   &#x27;FpDensityMorgan3&#x27;,\n",
       "                                                   &#x27;HallKierAlpha&#x27;,\n",
       "                                                   &#x27;HeavyAtomMolWt&#x27;, &#x27;Kappa3&#x27;,\n",
       "                                                   &#x27;MaxAbsEStateIndex&#x27;,\n",
       "                                                   &#x27;MinEStateIndex&#x27;,\n",
       "                                                   &#x27;NumHeteroatoms&#x27;,\n",
       "                                                   &#x27;PEOE_VSA10&#x27;, &#x27;PEOE_VSA14&#x27;,\n",
       "                                                   &#x27;PEOE_VSA6&#x27;, &#x27;PEOE_VSA7&#x27;,\n",
       "                                                   &#x27;PEOE_VSA8&#x27;, &#x27;SMR_VSA10&#x27;,\n",
       "                                                   &#x27;SMR_VSA5&#x27;, &#x27;SlogP_VSA3&#x27;,\n",
       "                                                   &#x27;VSA_EState9&#x27;, ...]),\n",
       "                                                 (&#x27;cat&#x27;,\n",
       "                                                  Pipeline(steps=[(&#x27;imputer&#x27;,\n",
       "                                                                   SimpleImputer(strategy=&#x27;most_frequent&#x27;)),\n",
       "                                                                  (&#x27;onehot&#x27;,\n",
       "                                                                   OneHotEncoder(handle_unknown=&#x27;ignore&#x27;))]),\n",
       "                                                  [])])),\n",
       "                (&#x27;model&#x27;, DecisionTreeClassifier(random_state=42))])</pre><b>In a Jupyter environment, please rerun this cell to show the HTML representation or trust the notebook. <br />On GitHub, the HTML representation is unable to render, please try loading this page with nbviewer.org.</b></div><div class=\"sk-container\" hidden><div class=\"sk-item sk-dashed-wrapped\"><div class=\"sk-label-container\"><div class=\"sk-label sk-toggleable\"><input class=\"sk-toggleable__control sk-hidden--visually\" id=\"sk-estimator-id-33\" type=\"checkbox\" ><label for=\"sk-estimator-id-33\" class=\"sk-toggleable__label sk-toggleable__label-arrow\">Pipeline</label><div class=\"sk-toggleable__content\"><pre>Pipeline(steps=[(&#x27;preprocessor&#x27;,\n",
       "                 ColumnTransformer(transformers=[(&#x27;num&#x27;,\n",
       "                                                  SimpleImputer(strategy=&#x27;constant&#x27;),\n",
       "                                                  [&#x27;id&#x27;, &#x27;BertzCT&#x27;, &#x27;Chi1&#x27;,\n",
       "                                                   &#x27;Chi1n&#x27;, &#x27;Chi1v&#x27;, &#x27;Chi2n&#x27;,\n",
       "                                                   &#x27;Chi2v&#x27;, &#x27;Chi3v&#x27;, &#x27;Chi4n&#x27;,\n",
       "                                                   &#x27;EState_VSA1&#x27;, &#x27;EState_VSA2&#x27;,\n",
       "                                                   &#x27;ExactMolWt&#x27;,\n",
       "                                                   &#x27;FpDensityMorgan1&#x27;,\n",
       "                                                   &#x27;FpDensityMorgan2&#x27;,\n",
       "                                                   &#x27;FpDensityMorgan3&#x27;,\n",
       "                                                   &#x27;HallKierAlpha&#x27;,\n",
       "                                                   &#x27;HeavyAtomMolWt&#x27;, &#x27;Kappa3&#x27;,\n",
       "                                                   &#x27;MaxAbsEStateIndex&#x27;,\n",
       "                                                   &#x27;MinEStateIndex&#x27;,\n",
       "                                                   &#x27;NumHeteroatoms&#x27;,\n",
       "                                                   &#x27;PEOE_VSA10&#x27;, &#x27;PEOE_VSA14&#x27;,\n",
       "                                                   &#x27;PEOE_VSA6&#x27;, &#x27;PEOE_VSA7&#x27;,\n",
       "                                                   &#x27;PEOE_VSA8&#x27;, &#x27;SMR_VSA10&#x27;,\n",
       "                                                   &#x27;SMR_VSA5&#x27;, &#x27;SlogP_VSA3&#x27;,\n",
       "                                                   &#x27;VSA_EState9&#x27;, ...]),\n",
       "                                                 (&#x27;cat&#x27;,\n",
       "                                                  Pipeline(steps=[(&#x27;imputer&#x27;,\n",
       "                                                                   SimpleImputer(strategy=&#x27;most_frequent&#x27;)),\n",
       "                                                                  (&#x27;onehot&#x27;,\n",
       "                                                                   OneHotEncoder(handle_unknown=&#x27;ignore&#x27;))]),\n",
       "                                                  [])])),\n",
       "                (&#x27;model&#x27;, DecisionTreeClassifier(random_state=42))])</pre></div></div></div><div class=\"sk-serial\"><div class=\"sk-item sk-dashed-wrapped\"><div class=\"sk-label-container\"><div class=\"sk-label sk-toggleable\"><input class=\"sk-toggleable__control sk-hidden--visually\" id=\"sk-estimator-id-34\" type=\"checkbox\" ><label for=\"sk-estimator-id-34\" class=\"sk-toggleable__label sk-toggleable__label-arrow\">preprocessor: ColumnTransformer</label><div class=\"sk-toggleable__content\"><pre>ColumnTransformer(transformers=[(&#x27;num&#x27;, SimpleImputer(strategy=&#x27;constant&#x27;),\n",
       "                                 [&#x27;id&#x27;, &#x27;BertzCT&#x27;, &#x27;Chi1&#x27;, &#x27;Chi1n&#x27;, &#x27;Chi1v&#x27;,\n",
       "                                  &#x27;Chi2n&#x27;, &#x27;Chi2v&#x27;, &#x27;Chi3v&#x27;, &#x27;Chi4n&#x27;,\n",
       "                                  &#x27;EState_VSA1&#x27;, &#x27;EState_VSA2&#x27;, &#x27;ExactMolWt&#x27;,\n",
       "                                  &#x27;FpDensityMorgan1&#x27;, &#x27;FpDensityMorgan2&#x27;,\n",
       "                                  &#x27;FpDensityMorgan3&#x27;, &#x27;HallKierAlpha&#x27;,\n",
       "                                  &#x27;HeavyAtomMolWt&#x27;, &#x27;Kappa3&#x27;,\n",
       "                                  &#x27;MaxAbsEStateIndex&#x27;, &#x27;MinEStateIndex&#x27;,\n",
       "                                  &#x27;NumHeteroatoms&#x27;, &#x27;PEOE_VSA10&#x27;, &#x27;PEOE_VSA14&#x27;,\n",
       "                                  &#x27;PEOE_VSA6&#x27;, &#x27;PEOE_VSA7&#x27;, &#x27;PEOE_VSA8&#x27;,\n",
       "                                  &#x27;SMR_VSA10&#x27;, &#x27;SMR_VSA5&#x27;, &#x27;SlogP_VSA3&#x27;,\n",
       "                                  &#x27;VSA_EState9&#x27;, ...]),\n",
       "                                (&#x27;cat&#x27;,\n",
       "                                 Pipeline(steps=[(&#x27;imputer&#x27;,\n",
       "                                                  SimpleImputer(strategy=&#x27;most_frequent&#x27;)),\n",
       "                                                 (&#x27;onehot&#x27;,\n",
       "                                                  OneHotEncoder(handle_unknown=&#x27;ignore&#x27;))]),\n",
       "                                 [])])</pre></div></div></div><div class=\"sk-parallel\"><div class=\"sk-parallel-item\"><div class=\"sk-item\"><div class=\"sk-label-container\"><div class=\"sk-label sk-toggleable\"><input class=\"sk-toggleable__control sk-hidden--visually\" id=\"sk-estimator-id-35\" type=\"checkbox\" ><label for=\"sk-estimator-id-35\" class=\"sk-toggleable__label sk-toggleable__label-arrow\">num</label><div class=\"sk-toggleable__content\"><pre>[&#x27;id&#x27;, &#x27;BertzCT&#x27;, &#x27;Chi1&#x27;, &#x27;Chi1n&#x27;, &#x27;Chi1v&#x27;, &#x27;Chi2n&#x27;, &#x27;Chi2v&#x27;, &#x27;Chi3v&#x27;, &#x27;Chi4n&#x27;, &#x27;EState_VSA1&#x27;, &#x27;EState_VSA2&#x27;, &#x27;ExactMolWt&#x27;, &#x27;FpDensityMorgan1&#x27;, &#x27;FpDensityMorgan2&#x27;, &#x27;FpDensityMorgan3&#x27;, &#x27;HallKierAlpha&#x27;, &#x27;HeavyAtomMolWt&#x27;, &#x27;Kappa3&#x27;, &#x27;MaxAbsEStateIndex&#x27;, &#x27;MinEStateIndex&#x27;, &#x27;NumHeteroatoms&#x27;, &#x27;PEOE_VSA10&#x27;, &#x27;PEOE_VSA14&#x27;, &#x27;PEOE_VSA6&#x27;, &#x27;PEOE_VSA7&#x27;, &#x27;PEOE_VSA8&#x27;, &#x27;SMR_VSA10&#x27;, &#x27;SMR_VSA5&#x27;, &#x27;SlogP_VSA3&#x27;, &#x27;VSA_EState9&#x27;, &#x27;fr_COO&#x27;, &#x27;fr_COO2&#x27;]</pre></div></div></div><div class=\"sk-serial\"><div class=\"sk-item\"><div class=\"sk-estimator sk-toggleable\"><input class=\"sk-toggleable__control sk-hidden--visually\" id=\"sk-estimator-id-36\" type=\"checkbox\" ><label for=\"sk-estimator-id-36\" class=\"sk-toggleable__label sk-toggleable__label-arrow\">SimpleImputer</label><div class=\"sk-toggleable__content\"><pre>SimpleImputer(strategy=&#x27;constant&#x27;)</pre></div></div></div></div></div></div><div class=\"sk-parallel-item\"><div class=\"sk-item\"><div class=\"sk-label-container\"><div class=\"sk-label sk-toggleable\"><input class=\"sk-toggleable__control sk-hidden--visually\" id=\"sk-estimator-id-37\" type=\"checkbox\" ><label for=\"sk-estimator-id-37\" class=\"sk-toggleable__label sk-toggleable__label-arrow\">cat</label><div class=\"sk-toggleable__content\"><pre>[]</pre></div></div></div><div class=\"sk-serial\"><div class=\"sk-item\"><div class=\"sk-serial\"><div class=\"sk-item\"><div class=\"sk-estimator sk-toggleable\"><input class=\"sk-toggleable__control sk-hidden--visually\" id=\"sk-estimator-id-38\" type=\"checkbox\" ><label for=\"sk-estimator-id-38\" class=\"sk-toggleable__label sk-toggleable__label-arrow\">SimpleImputer</label><div class=\"sk-toggleable__content\"><pre>SimpleImputer(strategy=&#x27;most_frequent&#x27;)</pre></div></div></div><div class=\"sk-item\"><div class=\"sk-estimator sk-toggleable\"><input class=\"sk-toggleable__control sk-hidden--visually\" id=\"sk-estimator-id-39\" type=\"checkbox\" ><label for=\"sk-estimator-id-39\" class=\"sk-toggleable__label sk-toggleable__label-arrow\">OneHotEncoder</label><div class=\"sk-toggleable__content\"><pre>OneHotEncoder(handle_unknown=&#x27;ignore&#x27;)</pre></div></div></div></div></div></div></div></div></div></div><div class=\"sk-item\"><div class=\"sk-estimator sk-toggleable\"><input class=\"sk-toggleable__control sk-hidden--visually\" id=\"sk-estimator-id-40\" type=\"checkbox\" ><label for=\"sk-estimator-id-40\" class=\"sk-toggleable__label sk-toggleable__label-arrow\">DecisionTreeClassifier</label><div class=\"sk-toggleable__content\"><pre>DecisionTreeClassifier(random_state=42)</pre></div></div></div></div></div></div></div>"
      ],
      "text/plain": [
       "Pipeline(steps=[('preprocessor',\n",
       "                 ColumnTransformer(transformers=[('num',\n",
       "                                                  SimpleImputer(strategy='constant'),\n",
       "                                                  ['id', 'BertzCT', 'Chi1',\n",
       "                                                   'Chi1n', 'Chi1v', 'Chi2n',\n",
       "                                                   'Chi2v', 'Chi3v', 'Chi4n',\n",
       "                                                   'EState_VSA1', 'EState_VSA2',\n",
       "                                                   'ExactMolWt',\n",
       "                                                   'FpDensityMorgan1',\n",
       "                                                   'FpDensityMorgan2',\n",
       "                                                   'FpDensityMorgan3',\n",
       "                                                   'HallKierAlpha',\n",
       "                                                   'HeavyAtomMolWt', 'Kappa3',\n",
       "                                                   'MaxAbsEStateIndex',\n",
       "                                                   'MinEStateIndex',\n",
       "                                                   'NumHeteroatoms',\n",
       "                                                   'PEOE_VSA10', 'PEOE_VSA14',\n",
       "                                                   'PEOE_VSA6', 'PEOE_VSA7',\n",
       "                                                   'PEOE_VSA8', 'SMR_VSA10',\n",
       "                                                   'SMR_VSA5', 'SlogP_VSA3',\n",
       "                                                   'VSA_EState9', ...]),\n",
       "                                                 ('cat',\n",
       "                                                  Pipeline(steps=[('imputer',\n",
       "                                                                   SimpleImputer(strategy='most_frequent')),\n",
       "                                                                  ('onehot',\n",
       "                                                                   OneHotEncoder(handle_unknown='ignore'))]),\n",
       "                                                  [])])),\n",
       "                ('model', DecisionTreeClassifier(random_state=42))])"
      ]
     },
     "execution_count": 30,
     "metadata": {},
     "output_type": "execute_result"
    }
   ],
   "source": [
    "clf.fit(X_train,y1)\n",
    "clf1.fit(X_train,y2)"
   ]
  },
  {
   "cell_type": "code",
   "execution_count": 31,
   "id": "074a02e1",
   "metadata": {
    "execution": {
     "iopub.execute_input": "2023-07-02T07:36:15.715268Z",
     "iopub.status.busy": "2023-07-02T07:36:15.714890Z",
     "iopub.status.idle": "2023-07-02T07:36:15.735525Z",
     "shell.execute_reply": "2023-07-02T07:36:15.734387Z"
    },
    "papermill": {
     "duration": 0.042986,
     "end_time": "2023-07-02T07:36:15.737950",
     "exception": false,
     "start_time": "2023-07-02T07:36:15.694964",
     "status": "completed"
    },
    "tags": []
   },
   "outputs": [
    {
     "data": {
      "text/plain": [
       "array([0, 1, 1, ..., 1, 1, 1])"
      ]
     },
     "execution_count": 31,
     "metadata": {},
     "output_type": "execute_result"
    }
   ],
   "source": [
    "pred1 = clf.predict(test)\n",
    "pred1"
   ]
  },
  {
   "cell_type": "code",
   "execution_count": 32,
   "id": "3bba0bd0",
   "metadata": {
    "execution": {
     "iopub.execute_input": "2023-07-02T07:36:15.776905Z",
     "iopub.status.busy": "2023-07-02T07:36:15.776487Z",
     "iopub.status.idle": "2023-07-02T07:36:15.794452Z",
     "shell.execute_reply": "2023-07-02T07:36:15.793247Z"
    },
    "papermill": {
     "duration": 0.040423,
     "end_time": "2023-07-02T07:36:15.796952",
     "exception": false,
     "start_time": "2023-07-02T07:36:15.756529",
     "status": "completed"
    },
    "tags": []
   },
   "outputs": [
    {
     "data": {
      "text/plain": [
       "array([0, 1, 1, ..., 1, 1, 1])"
      ]
     },
     "execution_count": 32,
     "metadata": {},
     "output_type": "execute_result"
    }
   ],
   "source": [
    "pred2 = clf1.predict(test)\n",
    "pred2"
   ]
  },
  {
   "cell_type": "code",
   "execution_count": 33,
   "id": "dfe4babe",
   "metadata": {
    "execution": {
     "iopub.execute_input": "2023-07-02T07:36:15.836011Z",
     "iopub.status.busy": "2023-07-02T07:36:15.835575Z",
     "iopub.status.idle": "2023-07-02T07:36:15.874142Z",
     "shell.execute_reply": "2023-07-02T07:36:15.873106Z"
    },
    "papermill": {
     "duration": 0.061029,
     "end_time": "2023-07-02T07:36:15.876827",
     "exception": false,
     "start_time": "2023-07-02T07:36:15.815798",
     "status": "completed"
    },
    "tags": []
   },
   "outputs": [],
   "source": [
    "\n",
    "output1 = pd.DataFrame({'id': test.id,\n",
    "                       'EC1': pred1,\n",
    "                       'EC2': pred2})\n",
    "output1.to_csv('submission3.csv', index=False)"
   ]
  },
  {
   "cell_type": "markdown",
   "id": "2320073e",
   "metadata": {
    "papermill": {
     "duration": 0.018686,
     "end_time": "2023-07-02T07:36:15.914806",
     "exception": false,
     "start_time": "2023-07-02T07:36:15.896120",
     "status": "completed"
    },
    "tags": []
   },
   "source": [
    "# SAMPLE"
   ]
  },
  {
   "cell_type": "code",
   "execution_count": 34,
   "id": "ce7978d8",
   "metadata": {
    "execution": {
     "iopub.execute_input": "2023-07-02T07:36:15.954279Z",
     "iopub.status.busy": "2023-07-02T07:36:15.953847Z",
     "iopub.status.idle": "2023-07-02T07:36:15.976055Z",
     "shell.execute_reply": "2023-07-02T07:36:15.975244Z"
    },
    "papermill": {
     "duration": 0.044599,
     "end_time": "2023-07-02T07:36:15.978015",
     "exception": false,
     "start_time": "2023-07-02T07:36:15.933416",
     "status": "completed"
    },
    "tags": []
   },
   "outputs": [
    {
     "data": {
      "text/html": [
       "<div>\n",
       "<style scoped>\n",
       "    .dataframe tbody tr th:only-of-type {\n",
       "        vertical-align: middle;\n",
       "    }\n",
       "\n",
       "    .dataframe tbody tr th {\n",
       "        vertical-align: top;\n",
       "    }\n",
       "\n",
       "    .dataframe thead th {\n",
       "        text-align: right;\n",
       "    }\n",
       "</style>\n",
       "<table border=\"1\" class=\"dataframe\">\n",
       "  <thead>\n",
       "    <tr style=\"text-align: right;\">\n",
       "      <th></th>\n",
       "      <th>id</th>\n",
       "      <th>EC1</th>\n",
       "      <th>EC2</th>\n",
       "    </tr>\n",
       "  </thead>\n",
       "  <tbody>\n",
       "    <tr>\n",
       "      <th>0</th>\n",
       "      <td>14838</td>\n",
       "      <td>0.5</td>\n",
       "      <td>0.5</td>\n",
       "    </tr>\n",
       "    <tr>\n",
       "      <th>1</th>\n",
       "      <td>14839</td>\n",
       "      <td>0.5</td>\n",
       "      <td>0.5</td>\n",
       "    </tr>\n",
       "    <tr>\n",
       "      <th>2</th>\n",
       "      <td>14840</td>\n",
       "      <td>0.5</td>\n",
       "      <td>0.5</td>\n",
       "    </tr>\n",
       "    <tr>\n",
       "      <th>3</th>\n",
       "      <td>14841</td>\n",
       "      <td>0.5</td>\n",
       "      <td>0.5</td>\n",
       "    </tr>\n",
       "    <tr>\n",
       "      <th>4</th>\n",
       "      <td>14842</td>\n",
       "      <td>0.5</td>\n",
       "      <td>0.5</td>\n",
       "    </tr>\n",
       "  </tbody>\n",
       "</table>\n",
       "</div>"
      ],
      "text/plain": [
       "      id  EC1  EC2\n",
       "0  14838  0.5  0.5\n",
       "1  14839  0.5  0.5\n",
       "2  14840  0.5  0.5\n",
       "3  14841  0.5  0.5\n",
       "4  14842  0.5  0.5"
      ]
     },
     "execution_count": 34,
     "metadata": {},
     "output_type": "execute_result"
    }
   ],
   "source": [
    "sample = pd.read_csv('/kaggle/input/playground-series-s3e18/sample_submission.csv')\n",
    "sample.head()"
   ]
  },
  {
   "cell_type": "code",
   "execution_count": 35,
   "id": "a0fc30b2",
   "metadata": {
    "execution": {
     "iopub.execute_input": "2023-07-02T07:36:16.019406Z",
     "iopub.status.busy": "2023-07-02T07:36:16.018747Z",
     "iopub.status.idle": "2023-07-02T07:36:16.050039Z",
     "shell.execute_reply": "2023-07-02T07:36:16.048849Z"
    },
    "papermill": {
     "duration": 0.05555,
     "end_time": "2023-07-02T07:36:16.052851",
     "exception": false,
     "start_time": "2023-07-02T07:36:15.997301",
     "status": "completed"
    },
    "tags": []
   },
   "outputs": [],
   "source": [
    "\n",
    "output1 = pd.DataFrame({'id': test.id,\n",
    "                       'EC1': pred1,\n",
    "                       'EC2': pred2})\n",
    "output1.to_csv('submission1.csv', index=False)"
   ]
  },
  {
   "cell_type": "code",
   "execution_count": 36,
   "id": "1636031c",
   "metadata": {
    "execution": {
     "iopub.execute_input": "2023-07-02T07:36:16.092494Z",
     "iopub.status.busy": "2023-07-02T07:36:16.092070Z",
     "iopub.status.idle": "2023-07-02T07:36:16.123041Z",
     "shell.execute_reply": "2023-07-02T07:36:16.121948Z"
    },
    "papermill": {
     "duration": 0.053995,
     "end_time": "2023-07-02T07:36:16.125893",
     "exception": false,
     "start_time": "2023-07-02T07:36:16.071898",
     "status": "completed"
    },
    "tags": []
   },
   "outputs": [],
   "source": [
    "\n",
    "output1 = pd.DataFrame({'id': test.id,\n",
    "                       'EC1': pred1,\n",
    "                       'EC2': pred2})\n",
    "output1.to_csv('submission2.csv', index=False)"
   ]
  },
  {
   "cell_type": "code",
   "execution_count": null,
   "id": "75d2e732",
   "metadata": {
    "papermill": {
     "duration": 0.018791,
     "end_time": "2023-07-02T07:36:16.164292",
     "exception": false,
     "start_time": "2023-07-02T07:36:16.145501",
     "status": "completed"
    },
    "tags": []
   },
   "outputs": [],
   "source": []
  }
 ],
 "metadata": {
  "kernelspec": {
   "display_name": "Python 3",
   "language": "python",
   "name": "python3"
  },
  "language_info": {
   "codemirror_mode": {
    "name": "ipython",
    "version": 3
   },
   "file_extension": ".py",
   "mimetype": "text/x-python",
   "name": "python",
   "nbconvert_exporter": "python",
   "pygments_lexer": "ipython3",
   "version": "3.10.10"
  },
  "papermill": {
   "default_parameters": {},
   "duration": 33.958763,
   "end_time": "2023-07-02T07:36:17.206484",
   "environment_variables": {},
   "exception": null,
   "input_path": "__notebook__.ipynb",
   "output_path": "__notebook__.ipynb",
   "parameters": {},
   "start_time": "2023-07-02T07:35:43.247721",
   "version": "2.4.0"
  }
 },
 "nbformat": 4,
 "nbformat_minor": 5
}
