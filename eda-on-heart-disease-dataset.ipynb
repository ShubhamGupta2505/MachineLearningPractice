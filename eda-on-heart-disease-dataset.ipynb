{
 "cells": [
  {
   "cell_type": "code",
   "execution_count": 1,
   "id": "b4bb7cc8",
   "metadata": {
    "_cell_guid": "b1076dfc-b9ad-4769-8c92-a6c4dae69d19",
    "_uuid": "8f2839f25d086af736a60e9eeb907d3b93b6e0e5",
    "execution": {
     "iopub.execute_input": "2023-06-13T09:28:38.432631Z",
     "iopub.status.busy": "2023-06-13T09:28:38.431870Z",
     "iopub.status.idle": "2023-06-13T09:28:38.452103Z",
     "shell.execute_reply": "2023-06-13T09:28:38.450667Z"
    },
    "papermill": {
     "duration": 0.029141,
     "end_time": "2023-06-13T09:28:38.454724",
     "exception": false,
     "start_time": "2023-06-13T09:28:38.425583",
     "status": "completed"
    },
    "tags": []
   },
   "outputs": [
    {
     "name": "stdout",
     "output_type": "stream",
     "text": [
      "/kaggle/input/heart-disease/heart_statlog_cleveland_hungary_final.csv\n"
     ]
    }
   ],
   "source": [
    "# This Python 3 environment comes with many helpful analytics libraries installed\n",
    "# It is defined by the kaggle/python Docker image: https://github.com/kaggle/docker-python\n",
    "# For example, here's several helpful packages to load\n",
    "\n",
    "import numpy as np # linear algebra\n",
    "import pandas as pd # data processing, CSV file I/O (e.g. pd.read_csv)\n",
    "\n",
    "# Input data files are available in the read-only \"../input/\" directory\n",
    "# For example, running this (by clicking run or pressing Shift+Enter) will list all files under the input directory\n",
    "\n",
    "import os\n",
    "for dirname, _, filenames in os.walk('/kaggle/input'):\n",
    "    for filename in filenames:\n",
    "        print(os.path.join(dirname, filename))\n",
    "\n",
    "# You can write up to 20GB to the current directory (/kaggle/working/) that gets preserved as output when you create a version using \"Save & Run All\" \n",
    "# You can also write temporary files to /kaggle/temp/, but they won't be saved outside of the current session"
   ]
  },
  {
   "cell_type": "code",
   "execution_count": 2,
   "id": "edd8b3c3",
   "metadata": {
    "execution": {
     "iopub.execute_input": "2023-06-13T09:28:38.464283Z",
     "iopub.status.busy": "2023-06-13T09:28:38.463895Z",
     "iopub.status.idle": "2023-06-13T09:28:38.517789Z",
     "shell.execute_reply": "2023-06-13T09:28:38.516848Z"
    },
    "papermill": {
     "duration": 0.061327,
     "end_time": "2023-06-13T09:28:38.520165",
     "exception": false,
     "start_time": "2023-06-13T09:28:38.458838",
     "status": "completed"
    },
    "tags": []
   },
   "outputs": [
    {
     "data": {
      "text/html": [
       "<div>\n",
       "<style scoped>\n",
       "    .dataframe tbody tr th:only-of-type {\n",
       "        vertical-align: middle;\n",
       "    }\n",
       "\n",
       "    .dataframe tbody tr th {\n",
       "        vertical-align: top;\n",
       "    }\n",
       "\n",
       "    .dataframe thead th {\n",
       "        text-align: right;\n",
       "    }\n",
       "</style>\n",
       "<table border=\"1\" class=\"dataframe\">\n",
       "  <thead>\n",
       "    <tr style=\"text-align: right;\">\n",
       "      <th></th>\n",
       "      <th>age</th>\n",
       "      <th>sex</th>\n",
       "      <th>chest pain type</th>\n",
       "      <th>resting bp s</th>\n",
       "      <th>cholesterol</th>\n",
       "      <th>fasting blood sugar</th>\n",
       "      <th>resting ecg</th>\n",
       "      <th>max heart rate</th>\n",
       "      <th>exercise angina</th>\n",
       "      <th>oldpeak</th>\n",
       "      <th>ST slope</th>\n",
       "      <th>target</th>\n",
       "    </tr>\n",
       "  </thead>\n",
       "  <tbody>\n",
       "    <tr>\n",
       "      <th>0</th>\n",
       "      <td>40</td>\n",
       "      <td>1</td>\n",
       "      <td>2</td>\n",
       "      <td>140</td>\n",
       "      <td>289</td>\n",
       "      <td>0</td>\n",
       "      <td>0</td>\n",
       "      <td>172</td>\n",
       "      <td>0</td>\n",
       "      <td>0.0</td>\n",
       "      <td>1</td>\n",
       "      <td>0</td>\n",
       "    </tr>\n",
       "    <tr>\n",
       "      <th>1</th>\n",
       "      <td>49</td>\n",
       "      <td>0</td>\n",
       "      <td>3</td>\n",
       "      <td>160</td>\n",
       "      <td>180</td>\n",
       "      <td>0</td>\n",
       "      <td>0</td>\n",
       "      <td>156</td>\n",
       "      <td>0</td>\n",
       "      <td>1.0</td>\n",
       "      <td>2</td>\n",
       "      <td>1</td>\n",
       "    </tr>\n",
       "    <tr>\n",
       "      <th>2</th>\n",
       "      <td>37</td>\n",
       "      <td>1</td>\n",
       "      <td>2</td>\n",
       "      <td>130</td>\n",
       "      <td>283</td>\n",
       "      <td>0</td>\n",
       "      <td>1</td>\n",
       "      <td>98</td>\n",
       "      <td>0</td>\n",
       "      <td>0.0</td>\n",
       "      <td>1</td>\n",
       "      <td>0</td>\n",
       "    </tr>\n",
       "    <tr>\n",
       "      <th>3</th>\n",
       "      <td>48</td>\n",
       "      <td>0</td>\n",
       "      <td>4</td>\n",
       "      <td>138</td>\n",
       "      <td>214</td>\n",
       "      <td>0</td>\n",
       "      <td>0</td>\n",
       "      <td>108</td>\n",
       "      <td>1</td>\n",
       "      <td>1.5</td>\n",
       "      <td>2</td>\n",
       "      <td>1</td>\n",
       "    </tr>\n",
       "    <tr>\n",
       "      <th>4</th>\n",
       "      <td>54</td>\n",
       "      <td>1</td>\n",
       "      <td>3</td>\n",
       "      <td>150</td>\n",
       "      <td>195</td>\n",
       "      <td>0</td>\n",
       "      <td>0</td>\n",
       "      <td>122</td>\n",
       "      <td>0</td>\n",
       "      <td>0.0</td>\n",
       "      <td>1</td>\n",
       "      <td>0</td>\n",
       "    </tr>\n",
       "  </tbody>\n",
       "</table>\n",
       "</div>"
      ],
      "text/plain": [
       "   age  sex  chest pain type  resting bp s  cholesterol  fasting blood sugar  \\\n",
       "0   40    1                2           140          289                    0   \n",
       "1   49    0                3           160          180                    0   \n",
       "2   37    1                2           130          283                    0   \n",
       "3   48    0                4           138          214                    0   \n",
       "4   54    1                3           150          195                    0   \n",
       "\n",
       "   resting ecg  max heart rate  exercise angina  oldpeak  ST slope  target  \n",
       "0            0             172                0      0.0         1       0  \n",
       "1            0             156                0      1.0         2       1  \n",
       "2            1              98                0      0.0         1       0  \n",
       "3            0             108                1      1.5         2       1  \n",
       "4            0             122                0      0.0         1       0  "
      ]
     },
     "execution_count": 2,
     "metadata": {},
     "output_type": "execute_result"
    }
   ],
   "source": [
    "df = pd.read_csv('/kaggle/input/heart-disease/heart_statlog_cleveland_hungary_final.csv')\n",
    "df.head()"
   ]
  },
  {
   "cell_type": "code",
   "execution_count": 3,
   "id": "32f2d80d",
   "metadata": {
    "execution": {
     "iopub.execute_input": "2023-06-13T09:28:38.529667Z",
     "iopub.status.busy": "2023-06-13T09:28:38.529307Z",
     "iopub.status.idle": "2023-06-13T09:28:38.574806Z",
     "shell.execute_reply": "2023-06-13T09:28:38.573160Z"
    },
    "papermill": {
     "duration": 0.052831,
     "end_time": "2023-06-13T09:28:38.577063",
     "exception": false,
     "start_time": "2023-06-13T09:28:38.524232",
     "status": "completed"
    },
    "tags": []
   },
   "outputs": [
    {
     "data": {
      "text/html": [
       "<div>\n",
       "<style scoped>\n",
       "    .dataframe tbody tr th:only-of-type {\n",
       "        vertical-align: middle;\n",
       "    }\n",
       "\n",
       "    .dataframe tbody tr th {\n",
       "        vertical-align: top;\n",
       "    }\n",
       "\n",
       "    .dataframe thead th {\n",
       "        text-align: right;\n",
       "    }\n",
       "</style>\n",
       "<table border=\"1\" class=\"dataframe\">\n",
       "  <thead>\n",
       "    <tr style=\"text-align: right;\">\n",
       "      <th></th>\n",
       "      <th>age</th>\n",
       "      <th>sex</th>\n",
       "      <th>chest pain type</th>\n",
       "      <th>resting bp s</th>\n",
       "      <th>cholesterol</th>\n",
       "      <th>fasting blood sugar</th>\n",
       "      <th>resting ecg</th>\n",
       "      <th>max heart rate</th>\n",
       "      <th>exercise angina</th>\n",
       "      <th>oldpeak</th>\n",
       "      <th>ST slope</th>\n",
       "      <th>target</th>\n",
       "    </tr>\n",
       "  </thead>\n",
       "  <tbody>\n",
       "    <tr>\n",
       "      <th>count</th>\n",
       "      <td>1190.000000</td>\n",
       "      <td>1190.000000</td>\n",
       "      <td>1190.000000</td>\n",
       "      <td>1190.000000</td>\n",
       "      <td>1190.000000</td>\n",
       "      <td>1190.000000</td>\n",
       "      <td>1190.000000</td>\n",
       "      <td>1190.000000</td>\n",
       "      <td>1190.000000</td>\n",
       "      <td>1190.000000</td>\n",
       "      <td>1190.000000</td>\n",
       "      <td>1190.000000</td>\n",
       "    </tr>\n",
       "    <tr>\n",
       "      <th>mean</th>\n",
       "      <td>53.720168</td>\n",
       "      <td>0.763866</td>\n",
       "      <td>3.232773</td>\n",
       "      <td>132.153782</td>\n",
       "      <td>210.363866</td>\n",
       "      <td>0.213445</td>\n",
       "      <td>0.698319</td>\n",
       "      <td>139.732773</td>\n",
       "      <td>0.387395</td>\n",
       "      <td>0.922773</td>\n",
       "      <td>1.624370</td>\n",
       "      <td>0.528571</td>\n",
       "    </tr>\n",
       "    <tr>\n",
       "      <th>std</th>\n",
       "      <td>9.358203</td>\n",
       "      <td>0.424884</td>\n",
       "      <td>0.935480</td>\n",
       "      <td>18.368823</td>\n",
       "      <td>101.420489</td>\n",
       "      <td>0.409912</td>\n",
       "      <td>0.870359</td>\n",
       "      <td>25.517636</td>\n",
       "      <td>0.487360</td>\n",
       "      <td>1.086337</td>\n",
       "      <td>0.610459</td>\n",
       "      <td>0.499393</td>\n",
       "    </tr>\n",
       "    <tr>\n",
       "      <th>min</th>\n",
       "      <td>28.000000</td>\n",
       "      <td>0.000000</td>\n",
       "      <td>1.000000</td>\n",
       "      <td>0.000000</td>\n",
       "      <td>0.000000</td>\n",
       "      <td>0.000000</td>\n",
       "      <td>0.000000</td>\n",
       "      <td>60.000000</td>\n",
       "      <td>0.000000</td>\n",
       "      <td>-2.600000</td>\n",
       "      <td>0.000000</td>\n",
       "      <td>0.000000</td>\n",
       "    </tr>\n",
       "    <tr>\n",
       "      <th>25%</th>\n",
       "      <td>47.000000</td>\n",
       "      <td>1.000000</td>\n",
       "      <td>3.000000</td>\n",
       "      <td>120.000000</td>\n",
       "      <td>188.000000</td>\n",
       "      <td>0.000000</td>\n",
       "      <td>0.000000</td>\n",
       "      <td>121.000000</td>\n",
       "      <td>0.000000</td>\n",
       "      <td>0.000000</td>\n",
       "      <td>1.000000</td>\n",
       "      <td>0.000000</td>\n",
       "    </tr>\n",
       "    <tr>\n",
       "      <th>50%</th>\n",
       "      <td>54.000000</td>\n",
       "      <td>1.000000</td>\n",
       "      <td>4.000000</td>\n",
       "      <td>130.000000</td>\n",
       "      <td>229.000000</td>\n",
       "      <td>0.000000</td>\n",
       "      <td>0.000000</td>\n",
       "      <td>140.500000</td>\n",
       "      <td>0.000000</td>\n",
       "      <td>0.600000</td>\n",
       "      <td>2.000000</td>\n",
       "      <td>1.000000</td>\n",
       "    </tr>\n",
       "    <tr>\n",
       "      <th>75%</th>\n",
       "      <td>60.000000</td>\n",
       "      <td>1.000000</td>\n",
       "      <td>4.000000</td>\n",
       "      <td>140.000000</td>\n",
       "      <td>269.750000</td>\n",
       "      <td>0.000000</td>\n",
       "      <td>2.000000</td>\n",
       "      <td>160.000000</td>\n",
       "      <td>1.000000</td>\n",
       "      <td>1.600000</td>\n",
       "      <td>2.000000</td>\n",
       "      <td>1.000000</td>\n",
       "    </tr>\n",
       "    <tr>\n",
       "      <th>max</th>\n",
       "      <td>77.000000</td>\n",
       "      <td>1.000000</td>\n",
       "      <td>4.000000</td>\n",
       "      <td>200.000000</td>\n",
       "      <td>603.000000</td>\n",
       "      <td>1.000000</td>\n",
       "      <td>2.000000</td>\n",
       "      <td>202.000000</td>\n",
       "      <td>1.000000</td>\n",
       "      <td>6.200000</td>\n",
       "      <td>3.000000</td>\n",
       "      <td>1.000000</td>\n",
       "    </tr>\n",
       "  </tbody>\n",
       "</table>\n",
       "</div>"
      ],
      "text/plain": [
       "               age          sex  chest pain type  resting bp s  cholesterol  \\\n",
       "count  1190.000000  1190.000000      1190.000000   1190.000000  1190.000000   \n",
       "mean     53.720168     0.763866         3.232773    132.153782   210.363866   \n",
       "std       9.358203     0.424884         0.935480     18.368823   101.420489   \n",
       "min      28.000000     0.000000         1.000000      0.000000     0.000000   \n",
       "25%      47.000000     1.000000         3.000000    120.000000   188.000000   \n",
       "50%      54.000000     1.000000         4.000000    130.000000   229.000000   \n",
       "75%      60.000000     1.000000         4.000000    140.000000   269.750000   \n",
       "max      77.000000     1.000000         4.000000    200.000000   603.000000   \n",
       "\n",
       "       fasting blood sugar  resting ecg  max heart rate  exercise angina  \\\n",
       "count          1190.000000  1190.000000     1190.000000      1190.000000   \n",
       "mean              0.213445     0.698319      139.732773         0.387395   \n",
       "std               0.409912     0.870359       25.517636         0.487360   \n",
       "min               0.000000     0.000000       60.000000         0.000000   \n",
       "25%               0.000000     0.000000      121.000000         0.000000   \n",
       "50%               0.000000     0.000000      140.500000         0.000000   \n",
       "75%               0.000000     2.000000      160.000000         1.000000   \n",
       "max               1.000000     2.000000      202.000000         1.000000   \n",
       "\n",
       "           oldpeak     ST slope       target  \n",
       "count  1190.000000  1190.000000  1190.000000  \n",
       "mean      0.922773     1.624370     0.528571  \n",
       "std       1.086337     0.610459     0.499393  \n",
       "min      -2.600000     0.000000     0.000000  \n",
       "25%       0.000000     1.000000     0.000000  \n",
       "50%       0.600000     2.000000     1.000000  \n",
       "75%       1.600000     2.000000     1.000000  \n",
       "max       6.200000     3.000000     1.000000  "
      ]
     },
     "execution_count": 3,
     "metadata": {},
     "output_type": "execute_result"
    }
   ],
   "source": [
    "df.describe()"
   ]
  },
  {
   "cell_type": "code",
   "execution_count": 4,
   "id": "10e2f48f",
   "metadata": {
    "execution": {
     "iopub.execute_input": "2023-06-13T09:28:38.586981Z",
     "iopub.status.busy": "2023-06-13T09:28:38.586597Z",
     "iopub.status.idle": "2023-06-13T09:28:38.611854Z",
     "shell.execute_reply": "2023-06-13T09:28:38.610361Z"
    },
    "papermill": {
     "duration": 0.032611,
     "end_time": "2023-06-13T09:28:38.613933",
     "exception": false,
     "start_time": "2023-06-13T09:28:38.581322",
     "status": "completed"
    },
    "tags": []
   },
   "outputs": [
    {
     "name": "stdout",
     "output_type": "stream",
     "text": [
      "<class 'pandas.core.frame.DataFrame'>\n",
      "RangeIndex: 1190 entries, 0 to 1189\n",
      "Data columns (total 12 columns):\n",
      " #   Column               Non-Null Count  Dtype  \n",
      "---  ------               --------------  -----  \n",
      " 0   age                  1190 non-null   int64  \n",
      " 1   sex                  1190 non-null   int64  \n",
      " 2   chest pain type      1190 non-null   int64  \n",
      " 3   resting bp s         1190 non-null   int64  \n",
      " 4   cholesterol          1190 non-null   int64  \n",
      " 5   fasting blood sugar  1190 non-null   int64  \n",
      " 6   resting ecg          1190 non-null   int64  \n",
      " 7   max heart rate       1190 non-null   int64  \n",
      " 8   exercise angina      1190 non-null   int64  \n",
      " 9   oldpeak              1190 non-null   float64\n",
      " 10  ST slope             1190 non-null   int64  \n",
      " 11  target               1190 non-null   int64  \n",
      "dtypes: float64(1), int64(11)\n",
      "memory usage: 111.7 KB\n"
     ]
    }
   ],
   "source": [
    "df.info()"
   ]
  },
  {
   "cell_type": "code",
   "execution_count": 5,
   "id": "1943285f",
   "metadata": {
    "execution": {
     "iopub.execute_input": "2023-06-13T09:28:38.623906Z",
     "iopub.status.busy": "2023-06-13T09:28:38.623553Z",
     "iopub.status.idle": "2023-06-13T09:28:38.632044Z",
     "shell.execute_reply": "2023-06-13T09:28:38.630735Z"
    },
    "papermill": {
     "duration": 0.016586,
     "end_time": "2023-06-13T09:28:38.634787",
     "exception": false,
     "start_time": "2023-06-13T09:28:38.618201",
     "status": "completed"
    },
    "tags": []
   },
   "outputs": [
    {
     "data": {
      "text/plain": [
       "age                      int64\n",
       "sex                      int64\n",
       "chest pain type          int64\n",
       "resting bp s             int64\n",
       "cholesterol              int64\n",
       "fasting blood sugar      int64\n",
       "resting ecg              int64\n",
       "max heart rate           int64\n",
       "exercise angina          int64\n",
       "oldpeak                float64\n",
       "ST slope                 int64\n",
       "target                   int64\n",
       "dtype: object"
      ]
     },
     "execution_count": 5,
     "metadata": {},
     "output_type": "execute_result"
    }
   ],
   "source": [
    "df.dtypes"
   ]
  },
  {
   "cell_type": "code",
   "execution_count": 6,
   "id": "dc5303bd",
   "metadata": {
    "execution": {
     "iopub.execute_input": "2023-06-13T09:28:38.645835Z",
     "iopub.status.busy": "2023-06-13T09:28:38.645439Z",
     "iopub.status.idle": "2023-06-13T09:28:38.654122Z",
     "shell.execute_reply": "2023-06-13T09:28:38.653140Z"
    },
    "papermill": {
     "duration": 0.016392,
     "end_time": "2023-06-13T09:28:38.655908",
     "exception": false,
     "start_time": "2023-06-13T09:28:38.639516",
     "status": "completed"
    },
    "tags": []
   },
   "outputs": [
    {
     "data": {
      "text/plain": [
       "age                    0\n",
       "sex                    0\n",
       "chest pain type        0\n",
       "resting bp s           0\n",
       "cholesterol            0\n",
       "fasting blood sugar    0\n",
       "resting ecg            0\n",
       "max heart rate         0\n",
       "exercise angina        0\n",
       "oldpeak                0\n",
       "ST slope               0\n",
       "target                 0\n",
       "dtype: int64"
      ]
     },
     "execution_count": 6,
     "metadata": {},
     "output_type": "execute_result"
    }
   ],
   "source": [
    "df.isnull().sum()"
   ]
  },
  {
   "cell_type": "code",
   "execution_count": 7,
   "id": "502cb66e",
   "metadata": {
    "execution": {
     "iopub.execute_input": "2023-06-13T09:28:38.667509Z",
     "iopub.status.busy": "2023-06-13T09:28:38.667185Z",
     "iopub.status.idle": "2023-06-13T09:28:38.679511Z",
     "shell.execute_reply": "2023-06-13T09:28:38.678438Z"
    },
    "papermill": {
     "duration": 0.02086,
     "end_time": "2023-06-13T09:28:38.682400",
     "exception": false,
     "start_time": "2023-06-13T09:28:38.661540",
     "status": "completed"
    },
    "tags": []
   },
   "outputs": [
    {
     "data": {
      "text/plain": [
       "272"
      ]
     },
     "execution_count": 7,
     "metadata": {},
     "output_type": "execute_result"
    }
   ],
   "source": [
    "df.duplicated().sum()"
   ]
  },
  {
   "cell_type": "code",
   "execution_count": 8,
   "id": "78176fc6",
   "metadata": {
    "execution": {
     "iopub.execute_input": "2023-06-13T09:28:38.692995Z",
     "iopub.status.busy": "2023-06-13T09:28:38.692672Z",
     "iopub.status.idle": "2023-06-13T09:28:38.697474Z",
     "shell.execute_reply": "2023-06-13T09:28:38.696665Z"
    },
    "papermill": {
     "duration": 0.012123,
     "end_time": "2023-06-13T09:28:38.699156",
     "exception": false,
     "start_time": "2023-06-13T09:28:38.687033",
     "status": "completed"
    },
    "tags": []
   },
   "outputs": [
    {
     "data": {
      "text/plain": [
       "(1190, 12)"
      ]
     },
     "execution_count": 8,
     "metadata": {},
     "output_type": "execute_result"
    }
   ],
   "source": [
    "df.shape"
   ]
  },
  {
   "cell_type": "code",
   "execution_count": 9,
   "id": "91ad42ba",
   "metadata": {
    "execution": {
     "iopub.execute_input": "2023-06-13T09:28:38.709485Z",
     "iopub.status.busy": "2023-06-13T09:28:38.709178Z",
     "iopub.status.idle": "2023-06-13T09:28:38.719341Z",
     "shell.execute_reply": "2023-06-13T09:28:38.718339Z"
    },
    "papermill": {
     "duration": 0.017605,
     "end_time": "2023-06-13T09:28:38.721245",
     "exception": false,
     "start_time": "2023-06-13T09:28:38.703640",
     "status": "completed"
    },
    "tags": []
   },
   "outputs": [
    {
     "data": {
      "text/plain": [
       "0       False\n",
       "1       False\n",
       "2       False\n",
       "3       False\n",
       "4       False\n",
       "        ...  \n",
       "1185    False\n",
       "1186    False\n",
       "1187    False\n",
       "1188    False\n",
       "1189    False\n",
       "Length: 1190, dtype: bool"
      ]
     },
     "execution_count": 9,
     "metadata": {},
     "output_type": "execute_result"
    }
   ],
   "source": [
    "df.duplicated()"
   ]
  },
  {
   "cell_type": "code",
   "execution_count": 10,
   "id": "bcd66bd6",
   "metadata": {
    "execution": {
     "iopub.execute_input": "2023-06-13T09:28:38.732059Z",
     "iopub.status.busy": "2023-06-13T09:28:38.731692Z",
     "iopub.status.idle": "2023-06-13T09:28:38.751840Z",
     "shell.execute_reply": "2023-06-13T09:28:38.750892Z"
    },
    "papermill": {
     "duration": 0.028279,
     "end_time": "2023-06-13T09:28:38.754085",
     "exception": false,
     "start_time": "2023-06-13T09:28:38.725806",
     "status": "completed"
    },
    "tags": []
   },
   "outputs": [
    {
     "data": {
      "text/html": [
       "<div>\n",
       "<style scoped>\n",
       "    .dataframe tbody tr th:only-of-type {\n",
       "        vertical-align: middle;\n",
       "    }\n",
       "\n",
       "    .dataframe tbody tr th {\n",
       "        vertical-align: top;\n",
       "    }\n",
       "\n",
       "    .dataframe thead th {\n",
       "        text-align: right;\n",
       "    }\n",
       "</style>\n",
       "<table border=\"1\" class=\"dataframe\">\n",
       "  <thead>\n",
       "    <tr style=\"text-align: right;\">\n",
       "      <th></th>\n",
       "      <th>age</th>\n",
       "      <th>sex</th>\n",
       "      <th>chest pain type</th>\n",
       "      <th>resting bp s</th>\n",
       "      <th>cholesterol</th>\n",
       "      <th>fasting blood sugar</th>\n",
       "      <th>resting ecg</th>\n",
       "      <th>max heart rate</th>\n",
       "      <th>exercise angina</th>\n",
       "      <th>oldpeak</th>\n",
       "      <th>ST slope</th>\n",
       "      <th>target</th>\n",
       "    </tr>\n",
       "  </thead>\n",
       "  <tbody>\n",
       "    <tr>\n",
       "      <th>163</th>\n",
       "      <td>49</td>\n",
       "      <td>0</td>\n",
       "      <td>2</td>\n",
       "      <td>110</td>\n",
       "      <td>208</td>\n",
       "      <td>0</td>\n",
       "      <td>0</td>\n",
       "      <td>160</td>\n",
       "      <td>0</td>\n",
       "      <td>0.0</td>\n",
       "      <td>1</td>\n",
       "      <td>0</td>\n",
       "    </tr>\n",
       "    <tr>\n",
       "      <th>604</th>\n",
       "      <td>58</td>\n",
       "      <td>1</td>\n",
       "      <td>3</td>\n",
       "      <td>150</td>\n",
       "      <td>219</td>\n",
       "      <td>0</td>\n",
       "      <td>1</td>\n",
       "      <td>118</td>\n",
       "      <td>1</td>\n",
       "      <td>0.0</td>\n",
       "      <td>2</td>\n",
       "      <td>1</td>\n",
       "    </tr>\n",
       "    <tr>\n",
       "      <th>887</th>\n",
       "      <td>63</td>\n",
       "      <td>1</td>\n",
       "      <td>1</td>\n",
       "      <td>145</td>\n",
       "      <td>233</td>\n",
       "      <td>1</td>\n",
       "      <td>2</td>\n",
       "      <td>150</td>\n",
       "      <td>0</td>\n",
       "      <td>2.3</td>\n",
       "      <td>3</td>\n",
       "      <td>0</td>\n",
       "    </tr>\n",
       "    <tr>\n",
       "      <th>888</th>\n",
       "      <td>67</td>\n",
       "      <td>1</td>\n",
       "      <td>4</td>\n",
       "      <td>160</td>\n",
       "      <td>286</td>\n",
       "      <td>0</td>\n",
       "      <td>2</td>\n",
       "      <td>108</td>\n",
       "      <td>1</td>\n",
       "      <td>1.5</td>\n",
       "      <td>2</td>\n",
       "      <td>1</td>\n",
       "    </tr>\n",
       "    <tr>\n",
       "      <th>889</th>\n",
       "      <td>67</td>\n",
       "      <td>1</td>\n",
       "      <td>4</td>\n",
       "      <td>120</td>\n",
       "      <td>229</td>\n",
       "      <td>0</td>\n",
       "      <td>2</td>\n",
       "      <td>129</td>\n",
       "      <td>1</td>\n",
       "      <td>2.6</td>\n",
       "      <td>2</td>\n",
       "      <td>1</td>\n",
       "    </tr>\n",
       "    <tr>\n",
       "      <th>...</th>\n",
       "      <td>...</td>\n",
       "      <td>...</td>\n",
       "      <td>...</td>\n",
       "      <td>...</td>\n",
       "      <td>...</td>\n",
       "      <td>...</td>\n",
       "      <td>...</td>\n",
       "      <td>...</td>\n",
       "      <td>...</td>\n",
       "      <td>...</td>\n",
       "      <td>...</td>\n",
       "      <td>...</td>\n",
       "    </tr>\n",
       "    <tr>\n",
       "      <th>1156</th>\n",
       "      <td>42</td>\n",
       "      <td>1</td>\n",
       "      <td>3</td>\n",
       "      <td>130</td>\n",
       "      <td>180</td>\n",
       "      <td>0</td>\n",
       "      <td>0</td>\n",
       "      <td>150</td>\n",
       "      <td>0</td>\n",
       "      <td>0.0</td>\n",
       "      <td>1</td>\n",
       "      <td>0</td>\n",
       "    </tr>\n",
       "    <tr>\n",
       "      <th>1157</th>\n",
       "      <td>61</td>\n",
       "      <td>1</td>\n",
       "      <td>4</td>\n",
       "      <td>140</td>\n",
       "      <td>207</td>\n",
       "      <td>0</td>\n",
       "      <td>2</td>\n",
       "      <td>138</td>\n",
       "      <td>1</td>\n",
       "      <td>1.9</td>\n",
       "      <td>1</td>\n",
       "      <td>1</td>\n",
       "    </tr>\n",
       "    <tr>\n",
       "      <th>1158</th>\n",
       "      <td>66</td>\n",
       "      <td>1</td>\n",
       "      <td>4</td>\n",
       "      <td>160</td>\n",
       "      <td>228</td>\n",
       "      <td>0</td>\n",
       "      <td>2</td>\n",
       "      <td>138</td>\n",
       "      <td>0</td>\n",
       "      <td>2.3</td>\n",
       "      <td>1</td>\n",
       "      <td>0</td>\n",
       "    </tr>\n",
       "    <tr>\n",
       "      <th>1159</th>\n",
       "      <td>46</td>\n",
       "      <td>1</td>\n",
       "      <td>4</td>\n",
       "      <td>140</td>\n",
       "      <td>311</td>\n",
       "      <td>0</td>\n",
       "      <td>0</td>\n",
       "      <td>120</td>\n",
       "      <td>1</td>\n",
       "      <td>1.8</td>\n",
       "      <td>2</td>\n",
       "      <td>1</td>\n",
       "    </tr>\n",
       "    <tr>\n",
       "      <th>1160</th>\n",
       "      <td>71</td>\n",
       "      <td>0</td>\n",
       "      <td>4</td>\n",
       "      <td>112</td>\n",
       "      <td>149</td>\n",
       "      <td>0</td>\n",
       "      <td>0</td>\n",
       "      <td>125</td>\n",
       "      <td>0</td>\n",
       "      <td>1.6</td>\n",
       "      <td>2</td>\n",
       "      <td>0</td>\n",
       "    </tr>\n",
       "  </tbody>\n",
       "</table>\n",
       "<p>272 rows × 12 columns</p>\n",
       "</div>"
      ],
      "text/plain": [
       "      age  sex  chest pain type  resting bp s  cholesterol  \\\n",
       "163    49    0                2           110          208   \n",
       "604    58    1                3           150          219   \n",
       "887    63    1                1           145          233   \n",
       "888    67    1                4           160          286   \n",
       "889    67    1                4           120          229   \n",
       "...   ...  ...              ...           ...          ...   \n",
       "1156   42    1                3           130          180   \n",
       "1157   61    1                4           140          207   \n",
       "1158   66    1                4           160          228   \n",
       "1159   46    1                4           140          311   \n",
       "1160   71    0                4           112          149   \n",
       "\n",
       "      fasting blood sugar  resting ecg  max heart rate  exercise angina  \\\n",
       "163                     0            0             160                0   \n",
       "604                     0            1             118                1   \n",
       "887                     1            2             150                0   \n",
       "888                     0            2             108                1   \n",
       "889                     0            2             129                1   \n",
       "...                   ...          ...             ...              ...   \n",
       "1156                    0            0             150                0   \n",
       "1157                    0            2             138                1   \n",
       "1158                    0            2             138                0   \n",
       "1159                    0            0             120                1   \n",
       "1160                    0            0             125                0   \n",
       "\n",
       "      oldpeak  ST slope  target  \n",
       "163       0.0         1       0  \n",
       "604       0.0         2       1  \n",
       "887       2.3         3       0  \n",
       "888       1.5         2       1  \n",
       "889       2.6         2       1  \n",
       "...       ...       ...     ...  \n",
       "1156      0.0         1       0  \n",
       "1157      1.9         1       1  \n",
       "1158      2.3         1       0  \n",
       "1159      1.8         2       1  \n",
       "1160      1.6         2       0  \n",
       "\n",
       "[272 rows x 12 columns]"
      ]
     },
     "execution_count": 10,
     "metadata": {},
     "output_type": "execute_result"
    }
   ],
   "source": [
    "df[df.duplicated() == True]"
   ]
  },
  {
   "cell_type": "code",
   "execution_count": 11,
   "id": "2f91a603",
   "metadata": {
    "execution": {
     "iopub.execute_input": "2023-06-13T09:28:38.765994Z",
     "iopub.status.busy": "2023-06-13T09:28:38.765633Z",
     "iopub.status.idle": "2023-06-13T09:28:38.774492Z",
     "shell.execute_reply": "2023-06-13T09:28:38.773073Z"
    },
    "papermill": {
     "duration": 0.017615,
     "end_time": "2023-06-13T09:28:38.777148",
     "exception": false,
     "start_time": "2023-06-13T09:28:38.759533",
     "status": "completed"
    },
    "tags": []
   },
   "outputs": [],
   "source": [
    "df = df.drop_duplicates(keep='first')"
   ]
  },
  {
   "cell_type": "code",
   "execution_count": 12,
   "id": "d1178668",
   "metadata": {
    "execution": {
     "iopub.execute_input": "2023-06-13T09:28:38.789427Z",
     "iopub.status.busy": "2023-06-13T09:28:38.789096Z",
     "iopub.status.idle": "2023-06-13T09:28:38.795019Z",
     "shell.execute_reply": "2023-06-13T09:28:38.793782Z"
    },
    "papermill": {
     "duration": 0.014459,
     "end_time": "2023-06-13T09:28:38.796989",
     "exception": false,
     "start_time": "2023-06-13T09:28:38.782530",
     "status": "completed"
    },
    "tags": []
   },
   "outputs": [
    {
     "data": {
      "text/plain": [
       "(918, 12)"
      ]
     },
     "execution_count": 12,
     "metadata": {},
     "output_type": "execute_result"
    }
   ],
   "source": [
    "df.shape"
   ]
  },
  {
   "cell_type": "code",
   "execution_count": 13,
   "id": "e8715dad",
   "metadata": {
    "execution": {
     "iopub.execute_input": "2023-06-13T09:28:38.809033Z",
     "iopub.status.busy": "2023-06-13T09:28:38.808546Z",
     "iopub.status.idle": "2023-06-13T09:28:38.817437Z",
     "shell.execute_reply": "2023-06-13T09:28:38.816133Z"
    },
    "papermill": {
     "duration": 0.017279,
     "end_time": "2023-06-13T09:28:38.819435",
     "exception": false,
     "start_time": "2023-06-13T09:28:38.802156",
     "status": "completed"
    },
    "tags": []
   },
   "outputs": [
    {
     "data": {
      "text/plain": [
       "0"
      ]
     },
     "execution_count": 13,
     "metadata": {},
     "output_type": "execute_result"
    }
   ],
   "source": [
    "df.duplicated().sum()"
   ]
  },
  {
   "cell_type": "code",
   "execution_count": 14,
   "id": "8f2f272a",
   "metadata": {
    "execution": {
     "iopub.execute_input": "2023-06-13T09:28:38.832571Z",
     "iopub.status.busy": "2023-06-13T09:28:38.832169Z",
     "iopub.status.idle": "2023-06-13T09:28:40.390308Z",
     "shell.execute_reply": "2023-06-13T09:28:40.388546Z"
    },
    "papermill": {
     "duration": 1.568233,
     "end_time": "2023-06-13T09:28:40.393519",
     "exception": false,
     "start_time": "2023-06-13T09:28:38.825286",
     "status": "completed"
    },
    "tags": []
   },
   "outputs": [],
   "source": [
    "import matplotlib.pyplot as plt\n",
    "import seaborn as sns"
   ]
  },
  {
   "cell_type": "code",
   "execution_count": null,
   "id": "eb13268f",
   "metadata": {
    "papermill": {
     "duration": 0.005077,
     "end_time": "2023-06-13T09:28:40.404104",
     "exception": false,
     "start_time": "2023-06-13T09:28:40.399027",
     "status": "completed"
    },
    "tags": []
   },
   "outputs": [],
   "source": []
  }
 ],
 "metadata": {
  "kernelspec": {
   "display_name": "Python 3",
   "language": "python",
   "name": "python3"
  },
  "language_info": {
   "codemirror_mode": {
    "name": "ipython",
    "version": 3
   },
   "file_extension": ".py",
   "mimetype": "text/x-python",
   "name": "python",
   "nbconvert_exporter": "python",
   "pygments_lexer": "ipython3",
   "version": "3.10.10"
  },
  "papermill": {
   "default_parameters": {},
   "duration": 12.38565,
   "end_time": "2023-06-13T09:28:41.432242",
   "environment_variables": {},
   "exception": null,
   "input_path": "__notebook__.ipynb",
   "output_path": "__notebook__.ipynb",
   "parameters": {},
   "start_time": "2023-06-13T09:28:29.046592",
   "version": "2.4.0"
  }
 },
 "nbformat": 4,
 "nbformat_minor": 5
}
