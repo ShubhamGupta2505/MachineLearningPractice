{
  "cells": [
    {
      "cell_type": "markdown",
      "metadata": {
        "id": "view-in-github",
        "colab_type": "text"
      },
      "source": [
        "<a href=\"https://colab.research.google.com/github/ShubhamGupta2505/MachineLearningPractice/blob/main/Assignment_1.ipynb\" target=\"_parent\"><img src=\"https://colab.research.google.com/assets/colab-badge.svg\" alt=\"Open In Colab\"/></a>"
      ]
    },
    {
      "cell_type": "markdown",
      "id": "7a04a828",
      "metadata": {
        "id": "7a04a828"
      },
      "source": [
        "# <center>  Assignment 1"
      ]
    },
    {
      "cell_type": "markdown",
      "id": "c7008262",
      "metadata": {
        "id": "c7008262"
      },
      "source": [
        "### Ques 1: Assign your Name to variable name and Age to variable age. Make a Python program that prints your name and age."
      ]
    },
    {
      "cell_type": "code",
      "execution_count": null,
      "id": "6d9f3b53",
      "metadata": {
        "id": "6d9f3b53"
      },
      "outputs": [],
      "source": [
        "name = \"Shubham Gupta\"\n",
        "age = 21\n",
        "print(\"Name is: \", name, \"\\nAge is: \", age)"
      ]
    },
    {
      "cell_type": "markdown",
      "id": "44454e57",
      "metadata": {
        "id": "44454e57"
      },
      "source": [
        "### Ques 2: X=\"Datascience is used to extract meaningful insights.\" Split the string"
      ]
    },
    {
      "cell_type": "code",
      "execution_count": null,
      "id": "ee1de6da",
      "metadata": {
        "id": "ee1de6da"
      },
      "outputs": [],
      "source": [
        "X=\"Datascience is used to extract meaningful insights.\"\n",
        "splitted_string_arr = X.split()\n",
        "print(\"Splitted string: \", splitted_string_arr)"
      ]
    },
    {
      "cell_type": "markdown",
      "id": "12e2767a",
      "metadata": {
        "id": "12e2767a"
      },
      "source": [
        "### Ques 3: Make a function that gives multiplication of two numbers"
      ]
    },
    {
      "cell_type": "code",
      "execution_count": null,
      "id": "06dcddeb",
      "metadata": {
        "id": "06dcddeb"
      },
      "outputs": [],
      "source": [
        "def product(a, b):\n",
        "    return a*b\n",
        "\n",
        "a = 18\n",
        "b = 23\n",
        "res = product(a, b)\n",
        "print(\"Product is: \", res)"
      ]
    },
    {
      "cell_type": "markdown",
      "id": "9d267947",
      "metadata": {
        "id": "9d267947"
      },
      "source": [
        "### Ques 4: Create a Dictionary of 5 States with their capitals. also print the keys and values."
      ]
    },
    {
      "cell_type": "code",
      "execution_count": null,
      "id": "41ea333e",
      "metadata": {
        "id": "41ea333e"
      },
      "outputs": [],
      "source": [
        "dict = {'Uttar Pradesh': 'Lucknow', 'Madhya Pradesh': 'Bhopal', 'Maharashtra': 'Mumbai', 'Gujarat': 'Gandhinagar', 'Karnataka': 'Bangalore'}\n",
        "print('Keys:  ', dict.keys(), '\\nValues: ', dict.values())"
      ]
    },
    {
      "cell_type": "markdown",
      "id": "31b05c82",
      "metadata": {
        "id": "31b05c82"
      },
      "source": [
        "### Ques 5: Create a list of 1000 numbers using range function."
      ]
    },
    {
      "cell_type": "code",
      "execution_count": null,
      "id": "317c5b91",
      "metadata": {
        "id": "317c5b91"
      },
      "outputs": [],
      "source": [
        "import numpy as np\n",
        "list = np.arange(1000)\n",
        "print(\"List using range function: \\n\", list)"
      ]
    },
    {
      "cell_type": "markdown",
      "id": "5c11d2c0",
      "metadata": {
        "id": "5c11d2c0"
      },
      "source": [
        "### Ques 6: Create an identity matrix of dimension 4 by 4"
      ]
    },
    {
      "cell_type": "code",
      "execution_count": null,
      "id": "5a94f6e8",
      "metadata": {
        "scrolled": false,
        "id": "5a94f6e8"
      },
      "outputs": [],
      "source": [
        "id_matrix = np.identity(4)\n",
        "print(\"Identity matrix of dimension 4: \\n\", id_matrix)"
      ]
    },
    {
      "cell_type": "markdown",
      "id": "605c6923",
      "metadata": {
        "id": "605c6923"
      },
      "source": [
        "### Ques 7: Create a 3x3 matrix with values ranging from 1 to 9"
      ]
    },
    {
      "cell_type": "code",
      "execution_count": null,
      "id": "e07d4d87",
      "metadata": {
        "id": "e07d4d87"
      },
      "outputs": [],
      "source": [
        "matrix = np.arange(1, 10)\n",
        "matrix_3x3 = matrix.reshape(3, 3)\n",
        "print('3x3 matrix: \\n', matrix_3x3)"
      ]
    },
    {
      "cell_type": "markdown",
      "id": "e2f19686",
      "metadata": {
        "id": "e2f19686"
      },
      "source": [
        "### Ques 8: Create 2 similar dimensional array and perform sum on them."
      ]
    },
    {
      "cell_type": "code",
      "execution_count": null,
      "id": "113fa8ee",
      "metadata": {
        "id": "113fa8ee"
      },
      "outputs": [],
      "source": [
        "arr1 = np.arange(1, 10)\n",
        "arr2 = np.arange(10, 19)\n",
        "arr1 = arr1.reshape(3, 3)\n",
        "arr2 = arr2.reshape(3, 3)\n",
        "sum_matrix = arr1+arr2\n",
        "print(\"Sum:\\n \", sum_matrix)"
      ]
    },
    {
      "cell_type": "markdown",
      "id": "ee654407",
      "metadata": {
        "id": "ee654407"
      },
      "source": [
        "### Ques 9: Generate the series of dates from 1st Feb, 2023 to 1st March, 2023 (both inclusive)"
      ]
    },
    {
      "cell_type": "code",
      "execution_count": null,
      "id": "21befd53",
      "metadata": {
        "id": "21befd53"
      },
      "outputs": [],
      "source": [
        "import pandas as pd\n",
        "\n",
        "start_date = pd.to_datetime('2023-02-01')\n",
        "end_date = pd.to_datetime('2023-03-01')\n",
        "\n",
        "date_series = pd.date_range(start=start_date, end=end_date, freq='D')\n",
        "\n",
        "print(date_series)"
      ]
    },
    {
      "cell_type": "markdown",
      "id": "41b37bbb",
      "metadata": {
        "id": "41b37bbb"
      },
      "source": [
        "### Ques 10: Given a dictionary, convert it into corresponding dataframe and display it\n",
        "**dictionary = {'Brand': ['Maruti', 'Renault', 'Hyndai'], 'Sales' : [250, 200, 240]}**"
      ]
    },
    {
      "cell_type": "code",
      "execution_count": null,
      "id": "76d15298",
      "metadata": {
        "id": "76d15298"
      },
      "outputs": [],
      "source": [
        "dictionary = {'Brand': ['Maruti', 'Renault', 'Hyndai'], 'Sales' : [250, 200, 240]}\n",
        "df = pd.DataFrame(dictionary)\n",
        "print('Dataframe: \\n')\n",
        "df"
      ]
    },
    {
      "cell_type": "code",
      "execution_count": null,
      "id": "d0afb01e",
      "metadata": {
        "id": "d0afb01e"
      },
      "outputs": [],
      "source": []
    }
  ],
  "metadata": {
    "kernelspec": {
      "display_name": "Python 3 (ipykernel)",
      "language": "python",
      "name": "python3"
    },
    "language_info": {
      "codemirror_mode": {
        "name": "ipython",
        "version": 3
      },
      "file_extension": ".py",
      "mimetype": "text/x-python",
      "name": "python",
      "nbconvert_exporter": "python",
      "pygments_lexer": "ipython3",
      "version": "3.10.9"
    },
    "colab": {
      "provenance": [],
      "include_colab_link": true
    }
  },
  "nbformat": 4,
  "nbformat_minor": 5
}