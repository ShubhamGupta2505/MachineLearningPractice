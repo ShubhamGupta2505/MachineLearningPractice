{
 "cells": [
  {
   "cell_type": "code",
   "execution_count": 1,
   "id": "9d3f0096",
   "metadata": {
    "_cell_guid": "b1076dfc-b9ad-4769-8c92-a6c4dae69d19",
    "_uuid": "8f2839f25d086af736a60e9eeb907d3b93b6e0e5",
    "execution": {
     "iopub.execute_input": "2023-06-11T06:56:56.957943Z",
     "iopub.status.busy": "2023-06-11T06:56:56.957551Z",
     "iopub.status.idle": "2023-06-11T06:56:56.976055Z",
     "shell.execute_reply": "2023-06-11T06:56:56.974568Z"
    },
    "papermill": {
     "duration": 0.028433,
     "end_time": "2023-06-11T06:56:56.978756",
     "exception": false,
     "start_time": "2023-06-11T06:56:56.950323",
     "status": "completed"
    },
    "tags": []
   },
   "outputs": [
    {
     "name": "stdout",
     "output_type": "stream",
     "text": [
      "/kaggle/input/unveiling-the-top-gaming-laptops/lapdata.csv\n",
      "/kaggle/input/unveiling-the-top-gaming-laptops/lapdata.xlsx\n"
     ]
    }
   ],
   "source": [
    "# This Python 3 environment comes with many helpful analytics libraries installed\n",
    "# It is defined by the kaggle/python Docker image: https://github.com/kaggle/docker-python\n",
    "# For example, here's several helpful packages to load\n",
    "\n",
    "import numpy as np # linear algebra\n",
    "import pandas as pd # data processing, CSV file I/O (e.g. pd.read_csv)\n",
    "\n",
    "# Input data files are available in the read-only \"../input/\" directory\n",
    "# For example, running this (by clicking run or pressing Shift+Enter) will list all files under the input directory\n",
    "\n",
    "import os\n",
    "for dirname, _, filenames in os.walk('/kaggle/input'):\n",
    "    for filename in filenames:\n",
    "        print(os.path.join(dirname, filename))\n",
    "\n",
    "# You can write up to 20GB to the current directory (/kaggle/working/) that gets preserved as output when you create a version using \"Save & Run All\" \n",
    "# You can also write temporary files to /kaggle/temp/, but they won't be saved outside of the current session"
   ]
  },
  {
   "cell_type": "code",
   "execution_count": 2,
   "id": "fde8bb8f",
   "metadata": {
    "execution": {
     "iopub.execute_input": "2023-06-11T06:56:56.991414Z",
     "iopub.status.busy": "2023-06-11T06:56:56.991044Z",
     "iopub.status.idle": "2023-06-11T06:56:57.569331Z",
     "shell.execute_reply": "2023-06-11T06:56:57.567429Z"
    },
    "papermill": {
     "duration": 0.587442,
     "end_time": "2023-06-11T06:56:57.571728",
     "exception": false,
     "start_time": "2023-06-11T06:56:56.984286",
     "status": "completed"
    },
    "tags": []
   },
   "outputs": [
    {
     "data": {
      "text/html": [
       "<div>\n",
       "<style scoped>\n",
       "    .dataframe tbody tr th:only-of-type {\n",
       "        vertical-align: middle;\n",
       "    }\n",
       "\n",
       "    .dataframe tbody tr th {\n",
       "        vertical-align: top;\n",
       "    }\n",
       "\n",
       "    .dataframe thead th {\n",
       "        text-align: right;\n",
       "    }\n",
       "</style>\n",
       "<table border=\"1\" class=\"dataframe\">\n",
       "  <thead>\n",
       "    <tr style=\"text-align: right;\">\n",
       "      <th></th>\n",
       "      <th>Product</th>\n",
       "      <th>Processor</th>\n",
       "      <th>Ram</th>\n",
       "      <th>Memory</th>\n",
       "      <th>OS</th>\n",
       "      <th>Size</th>\n",
       "      <th>Price</th>\n",
       "    </tr>\n",
       "  </thead>\n",
       "  <tbody>\n",
       "    <tr>\n",
       "      <th>0</th>\n",
       "      <td>MSI Stealth GS77 12UHS-226IN</td>\n",
       "      <td>12th Gen Core i9</td>\n",
       "      <td>32 GB DDR5 RAM</td>\n",
       "      <td>2 TB SSD</td>\n",
       "      <td>Windows 11 OS</td>\n",
       "      <td>17.3 inches</td>\n",
       "      <td>3,00,990</td>\n",
       "    </tr>\n",
       "    <tr>\n",
       "      <th>1</th>\n",
       "      <td>MSI Titan GT77 HX 13VI-092IN</td>\n",
       "      <td>13th Gen Intel Core i9 13980HX</td>\n",
       "      <td>64 GB DDR5 RAM</td>\n",
       "      <td>4 TB SSD</td>\n",
       "      <td>Windows 11 OS</td>\n",
       "      <td>17.3 inches</td>\n",
       "      <td>5,99,990</td>\n",
       "    </tr>\n",
       "    <tr>\n",
       "      <th>2</th>\n",
       "      <td>Acer Predator Helios 500 Ph517-52</td>\n",
       "      <td>11th Gen Intel Core i9 11980HK</td>\n",
       "      <td>64 GB DDR4 RAM</td>\n",
       "      <td>2 TB SSD</td>\n",
       "      <td>Windows 10 OS</td>\n",
       "      <td>17.3 inches</td>\n",
       "      <td>4,42,605</td>\n",
       "    </tr>\n",
       "    <tr>\n",
       "      <th>3</th>\n",
       "      <td>MSI Titan GT77 HX 13VH-093IN</td>\n",
       "      <td>13th Gen Intel Core i9 13980HX</td>\n",
       "      <td>64 GB DDR5 RAM</td>\n",
       "      <td>2 TB SSD</td>\n",
       "      <td>Windows 11 OS</td>\n",
       "      <td>17.3 inches</td>\n",
       "      <td>4,89,990</td>\n",
       "    </tr>\n",
       "    <tr>\n",
       "      <th>4</th>\n",
       "      <td>MSI Stealth GS66 12UGS-290IN</td>\n",
       "      <td>12th Gen Intel Core i7 12700H</td>\n",
       "      <td>32 GB DDR5 RAM</td>\n",
       "      <td>1 TB SSD</td>\n",
       "      <td>Windows 11 OS</td>\n",
       "      <td>15.6 inches</td>\n",
       "      <td>1,95,990</td>\n",
       "    </tr>\n",
       "  </tbody>\n",
       "</table>\n",
       "</div>"
      ],
      "text/plain": [
       "                             Product                       Processor  \\\n",
       "0       MSI Stealth GS77 12UHS-226IN                12th Gen Core i9   \n",
       "1       MSI Titan GT77 HX 13VI-092IN  13th Gen Intel Core i9 13980HX   \n",
       "2  Acer Predator Helios 500 Ph517-52  11th Gen Intel Core i9 11980HK   \n",
       "3       MSI Titan GT77 HX 13VH-093IN  13th Gen Intel Core i9 13980HX   \n",
       "4       MSI Stealth GS66 12UGS-290IN   12th Gen Intel Core i7 12700H   \n",
       "\n",
       "              Ram    Memory            OS          Size     Price  \n",
       "0  32 GB DDR5 RAM  2 TB SSD  Windows 11 OS  17.3 inches  3,00,990  \n",
       "1  64 GB DDR5 RAM  4 TB SSD  Windows 11 OS  17.3 inches  5,99,990  \n",
       "2  64 GB DDR4 RAM  2 TB SSD  Windows 10 OS  17.3 inches  4,42,605  \n",
       "3  64 GB DDR5 RAM  2 TB SSD  Windows 11 OS  17.3 inches  4,89,990  \n",
       "4  32 GB DDR5 RAM  1 TB SSD  Windows 11 OS  15.6 inches  1,95,990  "
      ]
     },
     "execution_count": 2,
     "metadata": {},
     "output_type": "execute_result"
    }
   ],
   "source": [
    "df = pd.read_excel('/kaggle/input/unveiling-the-top-gaming-laptops/lapdata.xlsx')\n",
    "df.head()"
   ]
  },
  {
   "cell_type": "code",
   "execution_count": 3,
   "id": "c8e69e40",
   "metadata": {
    "execution": {
     "iopub.execute_input": "2023-06-11T06:56:57.585788Z",
     "iopub.status.busy": "2023-06-11T06:56:57.584403Z",
     "iopub.status.idle": "2023-06-11T06:56:57.594074Z",
     "shell.execute_reply": "2023-06-11T06:56:57.592191Z"
    },
    "papermill": {
     "duration": 0.019261,
     "end_time": "2023-06-11T06:56:57.596774",
     "exception": false,
     "start_time": "2023-06-11T06:56:57.577513",
     "status": "completed"
    },
    "tags": []
   },
   "outputs": [
    {
     "data": {
      "text/plain": [
       "(49, 7)"
      ]
     },
     "execution_count": 3,
     "metadata": {},
     "output_type": "execute_result"
    }
   ],
   "source": [
    "df.shape"
   ]
  },
  {
   "cell_type": "code",
   "execution_count": 4,
   "id": "cd60305b",
   "metadata": {
    "execution": {
     "iopub.execute_input": "2023-06-11T06:56:57.609024Z",
     "iopub.status.busy": "2023-06-11T06:56:57.608669Z",
     "iopub.status.idle": "2023-06-11T06:56:57.640196Z",
     "shell.execute_reply": "2023-06-11T06:56:57.638742Z"
    },
    "papermill": {
     "duration": 0.040699,
     "end_time": "2023-06-11T06:56:57.643016",
     "exception": false,
     "start_time": "2023-06-11T06:56:57.602317",
     "status": "completed"
    },
    "tags": []
   },
   "outputs": [
    {
     "data": {
      "text/html": [
       "<div>\n",
       "<style scoped>\n",
       "    .dataframe tbody tr th:only-of-type {\n",
       "        vertical-align: middle;\n",
       "    }\n",
       "\n",
       "    .dataframe tbody tr th {\n",
       "        vertical-align: top;\n",
       "    }\n",
       "\n",
       "    .dataframe thead th {\n",
       "        text-align: right;\n",
       "    }\n",
       "</style>\n",
       "<table border=\"1\" class=\"dataframe\">\n",
       "  <thead>\n",
       "    <tr style=\"text-align: right;\">\n",
       "      <th></th>\n",
       "      <th>Product</th>\n",
       "      <th>Processor</th>\n",
       "      <th>Ram</th>\n",
       "      <th>Memory</th>\n",
       "      <th>OS</th>\n",
       "      <th>Size</th>\n",
       "      <th>Price</th>\n",
       "    </tr>\n",
       "  </thead>\n",
       "  <tbody>\n",
       "    <tr>\n",
       "      <th>count</th>\n",
       "      <td>49</td>\n",
       "      <td>49</td>\n",
       "      <td>49</td>\n",
       "      <td>49</td>\n",
       "      <td>49</td>\n",
       "      <td>49</td>\n",
       "      <td>49</td>\n",
       "    </tr>\n",
       "    <tr>\n",
       "      <th>unique</th>\n",
       "      <td>47</td>\n",
       "      <td>24</td>\n",
       "      <td>9</td>\n",
       "      <td>4</td>\n",
       "      <td>2</td>\n",
       "      <td>8</td>\n",
       "      <td>46</td>\n",
       "    </tr>\n",
       "    <tr>\n",
       "      <th>top</th>\n",
       "      <td>Asus UX581LV-H2035T</td>\n",
       "      <td>12th Gen Intel Core i7 12700H</td>\n",
       "      <td>32 GB DDR5 RAM</td>\n",
       "      <td>1 TB SSD</td>\n",
       "      <td>Windows 11 OS</td>\n",
       "      <td>15.6 inches</td>\n",
       "      <td>1,61,990</td>\n",
       "    </tr>\n",
       "    <tr>\n",
       "      <th>freq</th>\n",
       "      <td>2</td>\n",
       "      <td>9</td>\n",
       "      <td>21</td>\n",
       "      <td>22</td>\n",
       "      <td>45</td>\n",
       "      <td>14</td>\n",
       "      <td>2</td>\n",
       "    </tr>\n",
       "  </tbody>\n",
       "</table>\n",
       "</div>"
      ],
      "text/plain": [
       "                    Product                      Processor             Ram  \\\n",
       "count                    49                             49              49   \n",
       "unique                   47                             24               9   \n",
       "top     Asus UX581LV-H2035T  12th Gen Intel Core i7 12700H  32 GB DDR5 RAM   \n",
       "freq                      2                              9              21   \n",
       "\n",
       "          Memory            OS          Size     Price  \n",
       "count         49             49           49        49  \n",
       "unique         4              2            8        46  \n",
       "top     1 TB SSD  Windows 11 OS  15.6 inches  1,61,990  \n",
       "freq          22             45           14         2  "
      ]
     },
     "execution_count": 4,
     "metadata": {},
     "output_type": "execute_result"
    }
   ],
   "source": [
    "df.describe()"
   ]
  },
  {
   "cell_type": "code",
   "execution_count": 5,
   "id": "efa7e63d",
   "metadata": {
    "execution": {
     "iopub.execute_input": "2023-06-11T06:56:57.658299Z",
     "iopub.status.busy": "2023-06-11T06:56:57.657925Z",
     "iopub.status.idle": "2023-06-11T06:56:57.675527Z",
     "shell.execute_reply": "2023-06-11T06:56:57.674777Z"
    },
    "papermill": {
     "duration": 0.028653,
     "end_time": "2023-06-11T06:56:57.677534",
     "exception": false,
     "start_time": "2023-06-11T06:56:57.648881",
     "status": "completed"
    },
    "tags": []
   },
   "outputs": [
    {
     "name": "stdout",
     "output_type": "stream",
     "text": [
      "<class 'pandas.core.frame.DataFrame'>\n",
      "RangeIndex: 49 entries, 0 to 48\n",
      "Data columns (total 7 columns):\n",
      " #   Column     Non-Null Count  Dtype \n",
      "---  ------     --------------  ----- \n",
      " 0   Product    49 non-null     object\n",
      " 1   Processor  49 non-null     object\n",
      " 2   Ram        49 non-null     object\n",
      " 3   Memory     49 non-null     object\n",
      " 4   OS         49 non-null     object\n",
      " 5   Size       49 non-null     object\n",
      " 6   Price      49 non-null     object\n",
      "dtypes: object(7)\n",
      "memory usage: 2.8+ KB\n"
     ]
    }
   ],
   "source": [
    "df.info()"
   ]
  },
  {
   "cell_type": "code",
   "execution_count": 6,
   "id": "b2e8b2f2",
   "metadata": {
    "execution": {
     "iopub.execute_input": "2023-06-11T06:56:57.690929Z",
     "iopub.status.busy": "2023-06-11T06:56:57.690525Z",
     "iopub.status.idle": "2023-06-11T06:56:57.698573Z",
     "shell.execute_reply": "2023-06-11T06:56:57.697259Z"
    },
    "papermill": {
     "duration": 0.017105,
     "end_time": "2023-06-11T06:56:57.700488",
     "exception": false,
     "start_time": "2023-06-11T06:56:57.683383",
     "status": "completed"
    },
    "tags": []
   },
   "outputs": [
    {
     "data": {
      "text/plain": [
       "Product      object\n",
       "Processor    object\n",
       "Ram          object\n",
       "Memory       object\n",
       "OS           object\n",
       "Size         object\n",
       "Price        object\n",
       "dtype: object"
      ]
     },
     "execution_count": 6,
     "metadata": {},
     "output_type": "execute_result"
    }
   ],
   "source": [
    "df.dtypes"
   ]
  },
  {
   "cell_type": "code",
   "execution_count": 7,
   "id": "43bb84df",
   "metadata": {
    "execution": {
     "iopub.execute_input": "2023-06-11T06:56:57.713827Z",
     "iopub.status.busy": "2023-06-11T06:56:57.713472Z",
     "iopub.status.idle": "2023-06-11T06:56:57.722300Z",
     "shell.execute_reply": "2023-06-11T06:56:57.720542Z"
    },
    "papermill": {
     "duration": 0.017805,
     "end_time": "2023-06-11T06:56:57.724355",
     "exception": false,
     "start_time": "2023-06-11T06:56:57.706550",
     "status": "completed"
    },
    "tags": []
   },
   "outputs": [
    {
     "data": {
      "text/plain": [
       "Product      0\n",
       "Processor    0\n",
       "Ram          0\n",
       "Memory       0\n",
       "OS           0\n",
       "Size         0\n",
       "Price        0\n",
       "dtype: int64"
      ]
     },
     "execution_count": 7,
     "metadata": {},
     "output_type": "execute_result"
    }
   ],
   "source": [
    "df.isnull().sum()"
   ]
  },
  {
   "cell_type": "code",
   "execution_count": 8,
   "id": "5d3eead0",
   "metadata": {
    "execution": {
     "iopub.execute_input": "2023-06-11T06:56:57.738282Z",
     "iopub.status.busy": "2023-06-11T06:56:57.737935Z",
     "iopub.status.idle": "2023-06-11T06:56:57.753978Z",
     "shell.execute_reply": "2023-06-11T06:56:57.752758Z"
    },
    "papermill": {
     "duration": 0.025518,
     "end_time": "2023-06-11T06:56:57.756122",
     "exception": false,
     "start_time": "2023-06-11T06:56:57.730604",
     "status": "completed"
    },
    "tags": []
   },
   "outputs": [
    {
     "data": {
      "text/html": [
       "<div>\n",
       "<style scoped>\n",
       "    .dataframe tbody tr th:only-of-type {\n",
       "        vertical-align: middle;\n",
       "    }\n",
       "\n",
       "    .dataframe tbody tr th {\n",
       "        vertical-align: top;\n",
       "    }\n",
       "\n",
       "    .dataframe thead th {\n",
       "        text-align: right;\n",
       "    }\n",
       "</style>\n",
       "<table border=\"1\" class=\"dataframe\">\n",
       "  <thead>\n",
       "    <tr style=\"text-align: right;\">\n",
       "      <th></th>\n",
       "      <th>Product</th>\n",
       "      <th>Processor</th>\n",
       "      <th>Ram</th>\n",
       "      <th>Memory</th>\n",
       "      <th>OS</th>\n",
       "      <th>Size</th>\n",
       "      <th>Price</th>\n",
       "    </tr>\n",
       "  </thead>\n",
       "  <tbody>\n",
       "    <tr>\n",
       "      <th>20</th>\n",
       "      <td>Asus UX581LV-H2035T</td>\n",
       "      <td>10th Gen Intel Core i9 10980HK</td>\n",
       "      <td>32 GB DDR4 RAM</td>\n",
       "      <td>1 TB SSD</td>\n",
       "      <td>Windows 10 OS</td>\n",
       "      <td>15.6 inches</td>\n",
       "      <td>1,61,990</td>\n",
       "    </tr>\n",
       "  </tbody>\n",
       "</table>\n",
       "</div>"
      ],
      "text/plain": [
       "                Product                       Processor             Ram  \\\n",
       "20  Asus UX581LV-H2035T  10th Gen Intel Core i9 10980HK  32 GB DDR4 RAM   \n",
       "\n",
       "      Memory            OS          Size     Price  \n",
       "20  1 TB SSD  Windows 10 OS  15.6 inches  1,61,990  "
      ]
     },
     "execution_count": 8,
     "metadata": {},
     "output_type": "execute_result"
    }
   ],
   "source": [
    "df[df.duplicated()==True]"
   ]
  },
  {
   "cell_type": "code",
   "execution_count": 9,
   "id": "59e2bfd6",
   "metadata": {
    "execution": {
     "iopub.execute_input": "2023-06-11T06:56:57.770384Z",
     "iopub.status.busy": "2023-06-11T06:56:57.770007Z",
     "iopub.status.idle": "2023-06-11T06:56:57.779201Z",
     "shell.execute_reply": "2023-06-11T06:56:57.777867Z"
    },
    "papermill": {
     "duration": 0.019475,
     "end_time": "2023-06-11T06:56:57.781963",
     "exception": false,
     "start_time": "2023-06-11T06:56:57.762488",
     "status": "completed"
    },
    "tags": []
   },
   "outputs": [
    {
     "data": {
      "text/plain": [
       "Asus UX581LV-H2035T                                   2\n",
       "Dell XPS 9720                                         2\n",
       "MSI Stealth GS77 12UHS-226IN                          1\n",
       "Asus Vivobook 16X 2022 M1603QA-MB502WS                1\n",
       "Acer Predator Triton 500 SE PT516-52s NH.QFQSI.001    1\n",
       "Asus ROG Zephyrus S15 GX502LXS-HF081T                 1\n",
       "Asus ROG Strix G17 2023 G713PU-LL060WS                1\n",
       "Asus ROG Zephyrus G16 2023 GU603VV-N4044WS            1\n",
       "Asus ROG Strix Scar 17 2023 G733PZ-LL046WS            1\n",
       "MSI Raider GE77HX 12UHS-205IN                         1\n",
       "Razer Blade 15 Advanced Gaming Laptop                 1\n",
       "HP Victus 16-d0333TX                                  1\n",
       "Asus Vivobook 16X 2023 K3605VC-MB951WS                1\n",
       "Asus ROG Strix Scar 15 G533ZXZ-LN116WS                1\n",
       "HP Victus 15-fb0106AX                                 1\n",
       "Asus TUF Gaming A15 FA506IHRZ-HN111W                  1\n",
       "HP Victus 15-fb0121AX                                 1\n",
       "Lenovo IdeaPad Gaming 3 15IHU6 82K101B6IN             1\n",
       "Asus TUF Gaming A15 2022 FA577RE-HN055WS              1\n",
       "Asus ROG Flow Z13-ACRNM RMT02 GZ301VIC-MU004WS        1\n",
       "Lenovo V15 G3 IAP                                     1\n",
       "HP Victus 16-d0302TX                                  1\n",
       "HP Victus 15-fa1066TX                                 1\n",
       "Asus ROG Zephyrus G14 2022 GA402RK-L8148WS            1\n",
       "Asus Vivobook Pro 16X OLED N7601ZM-MQ931WS            1\n",
       "MSI Creator Z16P B12UKST-210IN                        1\n",
       "MSI Titan GT77 HX 13VI-092IN                          1\n",
       "Acer Predator Helios 500 Ph517-52                     1\n",
       "MSI Titan GT77 HX 13VH-093IN                          1\n",
       "MSI Stealth GS66 12UGS-290IN                          1\n",
       "MSI GT77 Titan 12UHS-054IN                            1\n",
       "Asus ROG Zephyrus Duo 16                              1\n",
       "MSI Gaming Raider GE66 12UHS-218IN                    1\n",
       "Asus ROG Zephyrus Duo 16 (2023)                       1\n",
       "MSI Creator Z16P B12UMST-211IN                        1\n",
       "Asus ROG Zephyrus Duo 16 2022                         1\n",
       "Dell Alienware X17 R2 D569943WIN9                     1\n",
       "Lenovo Legion 5 Pro 82RF00E1IN                        1\n",
       "HP Omen 17-ck1023TX                                   1\n",
       "Asus ROG Zephyrus Duo 16 2022 GX650RXZ-LO227WS        1\n",
       "Asus ROG Zephyrus Duo 16 2022 GX650RXZ-LS228WS        1\n",
       "Asus ZenBook Pro Duo 15 OLED 2022 UX582ZM-H701WS      1\n",
       "Asus ROG Flow X13 GV301QH-K5459TS                     1\n",
       "Asus ROG Zephyrus G14 2023 GA402XV-N2034WS            1\n",
       "Asus ROG Zephyrus G14 2023 GA402XZ-N2020WS            1\n",
       "Asus ROG Strix SCAR 16 2023 G634JY-NM054WS            1\n",
       "Lenovo Legion 5 82RB00K8IN                            1\n",
       "Name: Product, dtype: int64"
      ]
     },
     "execution_count": 9,
     "metadata": {},
     "output_type": "execute_result"
    }
   ],
   "source": [
    "df['Product'].value_counts()"
   ]
  },
  {
   "cell_type": "code",
   "execution_count": 10,
   "id": "4d25de34",
   "metadata": {
    "execution": {
     "iopub.execute_input": "2023-06-11T06:56:57.797148Z",
     "iopub.status.busy": "2023-06-11T06:56:57.796704Z",
     "iopub.status.idle": "2023-06-11T06:56:57.805652Z",
     "shell.execute_reply": "2023-06-11T06:56:57.804485Z"
    },
    "papermill": {
     "duration": 0.018903,
     "end_time": "2023-06-11T06:56:57.807678",
     "exception": false,
     "start_time": "2023-06-11T06:56:57.788775",
     "status": "completed"
    },
    "tags": []
   },
   "outputs": [
    {
     "data": {
      "text/plain": [
       "12th Gen Intel Core i7 12700H     9\n",
       "12th Gen Intel Core i9 12900HX    3\n",
       "7th Gen AMD Ryzen 9 7945HX        3\n",
       "12th Gen Intel Core i9 12900H     3\n",
       "6th Gen AMD Ryzen 9 6900HX        3\n",
       "13th Gen Intel Core i9 13980HX    3\n",
       "5th Gen AMD Ryzen 5 5600H         3\n",
       "13th Gen Intel Core i9 13900H     3\n",
       "11th Gen Intel Core i5 11400H     2\n",
       "10th Gen Intel Core i9 10980HK    2\n",
       "7th Gen AMD Ryzen 9 7940HS        2\n",
       "12th Gen Core i9                  1\n",
       "12th Gen Intel Core i3 1215U      1\n",
       "6th Gen AMD Ryzen 7 6800H         1\n",
       "11th Gen Intel Core i5 11320H     1\n",
       "4th Gen AMD Ryzen 5 4600H         1\n",
       "6th Gen AMD Ryzen 9 6900HS​       1\n",
       "10th Gen Intel Core i7-10875H     1\n",
       "7th Gen AMD Ryzen 9 7845HX        1\n",
       "10th Gen Intel Core i7 10875H     1\n",
       "12th Gen Intel Core i9 12900HK    1\n",
       "5th Gen AMD Ryzen 9 5980HS        1\n",
       "11th Gen Intel Core i9 11980HK    1\n",
       "13th Gen Intel Core i7 13700H     1\n",
       "Name: Processor, dtype: int64"
      ]
     },
     "execution_count": 10,
     "metadata": {},
     "output_type": "execute_result"
    }
   ],
   "source": [
    "df['Processor'].value_counts()"
   ]
  },
  {
   "cell_type": "code",
   "execution_count": 11,
   "id": "4667f89d",
   "metadata": {
    "execution": {
     "iopub.execute_input": "2023-06-11T06:56:57.823285Z",
     "iopub.status.busy": "2023-06-11T06:56:57.822902Z",
     "iopub.status.idle": "2023-06-11T06:56:57.832998Z",
     "shell.execute_reply": "2023-06-11T06:56:57.831252Z"
    },
    "papermill": {
     "duration": 0.021129,
     "end_time": "2023-06-11T06:56:57.835876",
     "exception": false,
     "start_time": "2023-06-11T06:56:57.814747",
     "status": "completed"
    },
    "tags": []
   },
   "outputs": [
    {
     "data": {
      "text/plain": [
       "32 GB DDR5 RAM       21\n",
       "16 GB DDR4 RAM        6\n",
       "8 GB DDR4 RAM         6\n",
       "64 GB DDR5 RAM        4\n",
       "16 GB DDR5 RAM        4\n",
       "32 GB DDR4 RAM        4\n",
       "32 GB LPDDR5 RAM      2\n",
       "64 GB DDR4 RAM        1\n",
       "32 GB LPDDR4X RAM     1\n",
       "Name: Ram, dtype: int64"
      ]
     },
     "execution_count": 11,
     "metadata": {},
     "output_type": "execute_result"
    }
   ],
   "source": [
    "df['Ram'].value_counts()"
   ]
  },
  {
   "cell_type": "code",
   "execution_count": 12,
   "id": "9b9c620d",
   "metadata": {
    "execution": {
     "iopub.execute_input": "2023-06-11T06:56:57.852282Z",
     "iopub.status.busy": "2023-06-11T06:56:57.851884Z",
     "iopub.status.idle": "2023-06-11T06:56:57.862631Z",
     "shell.execute_reply": "2023-06-11T06:56:57.860400Z"
    },
    "papermill": {
     "duration": 0.02362,
     "end_time": "2023-06-11T06:56:57.867250",
     "exception": false,
     "start_time": "2023-06-11T06:56:57.843630",
     "status": "completed"
    },
    "tags": []
   },
   "outputs": [
    {
     "data": {
      "text/plain": [
       "1 TB SSD      22\n",
       "2 TB SSD      15\n",
       "512 GB SSD    11\n",
       "4 TB SSD       1\n",
       "Name: Memory, dtype: int64"
      ]
     },
     "execution_count": 12,
     "metadata": {},
     "output_type": "execute_result"
    }
   ],
   "source": [
    "df['Memory'].value_counts()"
   ]
  },
  {
   "cell_type": "code",
   "execution_count": 13,
   "id": "49d77f55",
   "metadata": {
    "execution": {
     "iopub.execute_input": "2023-06-11T06:56:57.884937Z",
     "iopub.status.busy": "2023-06-11T06:56:57.884519Z",
     "iopub.status.idle": "2023-06-11T06:56:57.894550Z",
     "shell.execute_reply": "2023-06-11T06:56:57.892709Z"
    },
    "papermill": {
     "duration": 0.022875,
     "end_time": "2023-06-11T06:56:57.897588",
     "exception": false,
     "start_time": "2023-06-11T06:56:57.874713",
     "status": "completed"
    },
    "tags": []
   },
   "outputs": [
    {
     "data": {
      "text/plain": [
       "Windows 11 OS    45\n",
       "Windows 10 OS     4\n",
       "Name: OS , dtype: int64"
      ]
     },
     "execution_count": 13,
     "metadata": {},
     "output_type": "execute_result"
    }
   ],
   "source": [
    "df['OS '].value_counts()"
   ]
  },
  {
   "cell_type": "code",
   "execution_count": 14,
   "id": "c60cb9a4",
   "metadata": {
    "execution": {
     "iopub.execute_input": "2023-06-11T06:56:57.914853Z",
     "iopub.status.busy": "2023-06-11T06:56:57.914473Z",
     "iopub.status.idle": "2023-06-11T06:56:57.925289Z",
     "shell.execute_reply": "2023-06-11T06:56:57.924155Z"
    },
    "papermill": {
     "duration": 0.022183,
     "end_time": "2023-06-11T06:56:57.927641",
     "exception": false,
     "start_time": "2023-06-11T06:56:57.905458",
     "status": "completed"
    },
    "tags": []
   },
   "outputs": [
    {
     "data": {
      "text/plain": [
       "15.6 inches    14\n",
       "16 inches      13\n",
       "17.3 inches    11\n",
       "14 inches       3\n",
       "16.1 inches     3\n",
       "17 inches       2\n",
       "13.4 inches     2\n",
       "15.6 inches     1\n",
       "Name: Size, dtype: int64"
      ]
     },
     "execution_count": 14,
     "metadata": {},
     "output_type": "execute_result"
    }
   ],
   "source": [
    "df['Size'].value_counts()"
   ]
  },
  {
   "cell_type": "code",
   "execution_count": 15,
   "id": "a230dcea",
   "metadata": {
    "execution": {
     "iopub.execute_input": "2023-06-11T06:56:57.945329Z",
     "iopub.status.busy": "2023-06-11T06:56:57.944976Z",
     "iopub.status.idle": "2023-06-11T06:56:57.953672Z",
     "shell.execute_reply": "2023-06-11T06:56:57.951930Z"
    },
    "papermill": {
     "duration": 0.021032,
     "end_time": "2023-06-11T06:56:57.956336",
     "exception": false,
     "start_time": "2023-06-11T06:56:57.935304",
     "status": "completed"
    },
    "tags": []
   },
   "outputs": [],
   "source": [
    "df = df.drop_duplicates()"
   ]
  },
  {
   "cell_type": "code",
   "execution_count": 16,
   "id": "8887fc75",
   "metadata": {
    "execution": {
     "iopub.execute_input": "2023-06-11T06:56:57.974600Z",
     "iopub.status.busy": "2023-06-11T06:56:57.974222Z",
     "iopub.status.idle": "2023-06-11T06:56:57.984270Z",
     "shell.execute_reply": "2023-06-11T06:56:57.982440Z"
    },
    "papermill": {
     "duration": 0.022447,
     "end_time": "2023-06-11T06:56:57.986782",
     "exception": false,
     "start_time": "2023-06-11T06:56:57.964335",
     "status": "completed"
    },
    "tags": []
   },
   "outputs": [
    {
     "data": {
      "text/plain": [
       "(48, 7)"
      ]
     },
     "execution_count": 16,
     "metadata": {},
     "output_type": "execute_result"
    }
   ],
   "source": [
    "df.shape"
   ]
  },
  {
   "cell_type": "code",
   "execution_count": 17,
   "id": "1ee5c676",
   "metadata": {
    "execution": {
     "iopub.execute_input": "2023-06-11T06:56:58.004514Z",
     "iopub.status.busy": "2023-06-11T06:56:58.004133Z",
     "iopub.status.idle": "2023-06-11T06:56:58.019475Z",
     "shell.execute_reply": "2023-06-11T06:56:58.017466Z"
    },
    "papermill": {
     "duration": 0.027065,
     "end_time": "2023-06-11T06:56:58.022212",
     "exception": false,
     "start_time": "2023-06-11T06:56:57.995147",
     "status": "completed"
    },
    "tags": []
   },
   "outputs": [
    {
     "data": {
      "text/html": [
       "<div>\n",
       "<style scoped>\n",
       "    .dataframe tbody tr th:only-of-type {\n",
       "        vertical-align: middle;\n",
       "    }\n",
       "\n",
       "    .dataframe tbody tr th {\n",
       "        vertical-align: top;\n",
       "    }\n",
       "\n",
       "    .dataframe thead th {\n",
       "        text-align: right;\n",
       "    }\n",
       "</style>\n",
       "<table border=\"1\" class=\"dataframe\">\n",
       "  <thead>\n",
       "    <tr style=\"text-align: right;\">\n",
       "      <th></th>\n",
       "      <th>Product</th>\n",
       "      <th>Processor</th>\n",
       "      <th>Ram</th>\n",
       "      <th>Memory</th>\n",
       "      <th>OS</th>\n",
       "      <th>Size</th>\n",
       "      <th>Price</th>\n",
       "    </tr>\n",
       "  </thead>\n",
       "  <tbody>\n",
       "    <tr>\n",
       "      <th>0</th>\n",
       "      <td>MSI Stealth GS77 12UHS-226IN</td>\n",
       "      <td>12th Gen Core i9</td>\n",
       "      <td>32 GB DDR5 RAM</td>\n",
       "      <td>2 TB SSD</td>\n",
       "      <td>Windows 11 OS</td>\n",
       "      <td>17.3 inches</td>\n",
       "      <td>3,00,990</td>\n",
       "    </tr>\n",
       "    <tr>\n",
       "      <th>1</th>\n",
       "      <td>MSI Titan GT77 HX 13VI-092IN</td>\n",
       "      <td>13th Gen Intel Core i9 13980HX</td>\n",
       "      <td>64 GB DDR5 RAM</td>\n",
       "      <td>4 TB SSD</td>\n",
       "      <td>Windows 11 OS</td>\n",
       "      <td>17.3 inches</td>\n",
       "      <td>5,99,990</td>\n",
       "    </tr>\n",
       "    <tr>\n",
       "      <th>2</th>\n",
       "      <td>Acer Predator Helios 500 Ph517-52</td>\n",
       "      <td>11th Gen Intel Core i9 11980HK</td>\n",
       "      <td>64 GB DDR4 RAM</td>\n",
       "      <td>2 TB SSD</td>\n",
       "      <td>Windows 10 OS</td>\n",
       "      <td>17.3 inches</td>\n",
       "      <td>4,42,605</td>\n",
       "    </tr>\n",
       "    <tr>\n",
       "      <th>3</th>\n",
       "      <td>MSI Titan GT77 HX 13VH-093IN</td>\n",
       "      <td>13th Gen Intel Core i9 13980HX</td>\n",
       "      <td>64 GB DDR5 RAM</td>\n",
       "      <td>2 TB SSD</td>\n",
       "      <td>Windows 11 OS</td>\n",
       "      <td>17.3 inches</td>\n",
       "      <td>4,89,990</td>\n",
       "    </tr>\n",
       "    <tr>\n",
       "      <th>4</th>\n",
       "      <td>MSI Stealth GS66 12UGS-290IN</td>\n",
       "      <td>12th Gen Intel Core i7 12700H</td>\n",
       "      <td>32 GB DDR5 RAM</td>\n",
       "      <td>1 TB SSD</td>\n",
       "      <td>Windows 11 OS</td>\n",
       "      <td>15.6 inches</td>\n",
       "      <td>1,95,990</td>\n",
       "    </tr>\n",
       "  </tbody>\n",
       "</table>\n",
       "</div>"
      ],
      "text/plain": [
       "                             Product                       Processor  \\\n",
       "0       MSI Stealth GS77 12UHS-226IN                12th Gen Core i9   \n",
       "1       MSI Titan GT77 HX 13VI-092IN  13th Gen Intel Core i9 13980HX   \n",
       "2  Acer Predator Helios 500 Ph517-52  11th Gen Intel Core i9 11980HK   \n",
       "3       MSI Titan GT77 HX 13VH-093IN  13th Gen Intel Core i9 13980HX   \n",
       "4       MSI Stealth GS66 12UGS-290IN   12th Gen Intel Core i7 12700H   \n",
       "\n",
       "              Ram    Memory            OS          Size     Price  \n",
       "0  32 GB DDR5 RAM  2 TB SSD  Windows 11 OS  17.3 inches  3,00,990  \n",
       "1  64 GB DDR5 RAM  4 TB SSD  Windows 11 OS  17.3 inches  5,99,990  \n",
       "2  64 GB DDR4 RAM  2 TB SSD  Windows 10 OS  17.3 inches  4,42,605  \n",
       "3  64 GB DDR5 RAM  2 TB SSD  Windows 11 OS  17.3 inches  4,89,990  \n",
       "4  32 GB DDR5 RAM  1 TB SSD  Windows 11 OS  15.6 inches  1,95,990  "
      ]
     },
     "execution_count": 17,
     "metadata": {},
     "output_type": "execute_result"
    }
   ],
   "source": [
    "df.head()"
   ]
  },
  {
   "cell_type": "code",
   "execution_count": 18,
   "id": "07d71f91",
   "metadata": {
    "execution": {
     "iopub.execute_input": "2023-06-11T06:56:58.040283Z",
     "iopub.status.busy": "2023-06-11T06:56:58.039942Z",
     "iopub.status.idle": "2023-06-11T06:56:59.363293Z",
     "shell.execute_reply": "2023-06-11T06:56:59.362147Z"
    },
    "papermill": {
     "duration": 1.335982,
     "end_time": "2023-06-11T06:56:59.366828",
     "exception": false,
     "start_time": "2023-06-11T06:56:58.030846",
     "status": "completed"
    },
    "tags": []
   },
   "outputs": [],
   "source": [
    "import matplotlib.pyplot as plt\n",
    "import seaborn as sns"
   ]
  },
  {
   "cell_type": "code",
   "execution_count": 19,
   "id": "585d0fd2",
   "metadata": {
    "execution": {
     "iopub.execute_input": "2023-06-11T06:56:59.383231Z",
     "iopub.status.busy": "2023-06-11T06:56:59.382854Z",
     "iopub.status.idle": "2023-06-11T06:56:59.626133Z",
     "shell.execute_reply": "2023-06-11T06:56:59.625191Z"
    },
    "papermill": {
     "duration": 0.254013,
     "end_time": "2023-06-11T06:56:59.628250",
     "exception": false,
     "start_time": "2023-06-11T06:56:59.374237",
     "status": "completed"
    },
    "tags": []
   },
   "outputs": [
    {
     "data": {
      "text/plain": [
       "(array([11., 13., 13.,  0.,  2.,  2.,  0.,  3.,  1.,  3.]),\n",
       " array([0. , 0.7, 1.4, 2.1, 2.8, 3.5, 4.2, 4.9, 5.6, 6.3, 7. ]),\n",
       " <BarContainer object of 10 artists>)"
      ]
     },
     "execution_count": 19,
     "metadata": {},
     "output_type": "execute_result"
    },
    {
     "data": {
      "image/png": "[encoded data removed]",
      "text/plain": [
       "<Figure size 1000x800 with 1 Axes>"
      ]
     },
     "metadata": {},
     "output_type": "display_data"
    }
   ],
   "source": [
    "plt.figure(figsize=(10,8))\n",
    "plt.hist(df['Size'])"
   ]
  },
  {
   "cell_type": "code",
   "execution_count": 20,
   "id": "05708e8f",
   "metadata": {
    "execution": {
     "iopub.execute_input": "2023-06-11T06:56:59.644611Z",
     "iopub.status.busy": "2023-06-11T06:56:59.644224Z",
     "iopub.status.idle": "2023-06-11T06:56:59.823382Z",
     "shell.execute_reply": "2023-06-11T06:56:59.822010Z"
    },
    "papermill": {
     "duration": 0.190744,
     "end_time": "2023-06-11T06:56:59.826500",
     "exception": false,
     "start_time": "2023-06-11T06:56:59.635756",
     "status": "completed"
    },
    "tags": []
   },
   "outputs": [
    {
     "data": {
      "text/plain": [
       "(array([45.,  0.,  0.,  0.,  0.,  0.,  0.,  0.,  0.,  3.]),\n",
       " array([0. , 0.1, 0.2, 0.3, 0.4, 0.5, 0.6, 0.7, 0.8, 0.9, 1. ]),\n",
       " <BarContainer object of 10 artists>)"
      ]
     },
     "execution_count": 20,
     "metadata": {},
     "output_type": "execute_result"
    },
    {
     "data": {
      "image/png": "[encoded data removed]",
      "text/plain": [
       "<Figure size 1000x800 with 1 Axes>"
      ]
     },
     "metadata": {},
     "output_type": "display_data"
    }
   ],
   "source": [
    "plt.figure(figsize=(10,8))\n",
    "plt.hist(df['OS '])"
   ]
  },
  {
   "cell_type": "code",
   "execution_count": 21,
   "id": "69300422",
   "metadata": {
    "execution": {
     "iopub.execute_input": "2023-06-11T06:56:59.845669Z",
     "iopub.status.busy": "2023-06-11T06:56:59.845190Z",
     "iopub.status.idle": "2023-06-11T06:57:00.074990Z",
     "shell.execute_reply": "2023-06-11T06:57:00.073704Z"
    },
    "papermill": {
     "duration": 0.242456,
     "end_time": "2023-06-11T06:57:00.077295",
     "exception": false,
     "start_time": "2023-06-11T06:56:59.834839",
     "status": "completed"
    },
    "tags": []
   },
   "outputs": [
    {
     "data": {
      "text/plain": [
       "(array([15.,  0.,  0.,  1.,  0.,  0., 21.,  0.,  0., 11.]),\n",
       " array([0. , 0.3, 0.6, 0.9, 1.2, 1.5, 1.8, 2.1, 2.4, 2.7, 3. ]),\n",
       " <BarContainer object of 10 artists>)"
      ]
     },
     "execution_count": 21,
     "metadata": {},
     "output_type": "execute_result"
    },
    {
     "data": {
      "image/png": "[encoded data removed]",
      "text/plain": [
       "<Figure size 1000x800 with 1 Axes>"
      ]
     },
     "metadata": {},
     "output_type": "display_data"
    }
   ],
   "source": [
    "plt.figure(figsize=(10,8))\n",
    "plt.hist(df['Memory'])"
   ]
  },
  {
   "cell_type": "code",
   "execution_count": 22,
   "id": "f61326bd",
   "metadata": {
    "execution": {
     "iopub.execute_input": "2023-06-11T06:57:00.095754Z",
     "iopub.status.busy": "2023-06-11T06:57:00.095404Z",
     "iopub.status.idle": "2023-06-11T06:57:00.406324Z",
     "shell.execute_reply": "2023-06-11T06:57:00.404360Z"
    },
    "papermill": {
     "duration": 0.323308,
     "end_time": "2023-06-11T06:57:00.409145",
     "exception": false,
     "start_time": "2023-06-11T06:57:00.085837",
     "status": "completed"
    },
    "tags": []
   },
   "outputs": [
    {
     "data": {
      "text/plain": [
       "(array([21.,  4.,  1.,  4.,  0.,  2.,  3.,  1.,  6.,  6.]),\n",
       " array([0. , 0.8, 1.6, 2.4, 3.2, 4. , 4.8, 5.6, 6.4, 7.2, 8. ]),\n",
       " <BarContainer object of 10 artists>)"
      ]
     },
     "execution_count": 22,
     "metadata": {},
     "output_type": "execute_result"
    },
    {
     "data": {
      "image/png": "[encoded data removed]",
      "text/plain": [
       "<Figure size 2000x800 with 1 Axes>"
      ]
     },
     "metadata": {},
     "output_type": "display_data"
    }
   ],
   "source": [
    "plt.figure(figsize=(20,8))\n",
    "plt.hist(df['Ram'])"
   ]
  },
  {
   "cell_type": "code",
   "execution_count": null,
   "id": "3ea7258b",
   "metadata": {
    "papermill": {
     "duration": 0.00878,
     "end_time": "2023-06-11T06:57:00.427507",
     "exception": false,
     "start_time": "2023-06-11T06:57:00.418727",
     "status": "completed"
    },
    "tags": []
   },
   "outputs": [],
   "source": []
  }
 ],
 "metadata": {
  "kernelspec": {
   "display_name": "Python 3",
   "language": "python",
   "name": "python3"
  },
  "language_info": {
   "codemirror_mode": {
    "name": "ipython",
    "version": 3
   },
   "file_extension": ".py",
   "mimetype": "text/x-python",
   "name": "python",
   "nbconvert_exporter": "python",
   "pygments_lexer": "ipython3",
   "version": "3.10.10"
  },
  "papermill": {
   "default_parameters": {},
   "duration": 14.456361,
   "end_time": "2023-06-11T06:57:01.561424",
   "environment_variables": {},
   "exception": null,
   "input_path": "__notebook__.ipynb",
   "output_path": "__notebook__.ipynb",
   "parameters": {},
   "start_time": "2023-06-11T06:56:47.105063",
   "version": "2.4.0"
  }
 },
 "nbformat": 4,
 "nbformat_minor": 5
}
