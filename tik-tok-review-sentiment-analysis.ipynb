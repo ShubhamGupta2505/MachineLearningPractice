{
 "cells": [
  {
   "cell_type": "code",
   "execution_count": 1,
   "id": "ec307b9d",
   "metadata": {
    "_cell_guid": "b1076dfc-b9ad-4769-8c92-a6c4dae69d19",
    "_uuid": "8f2839f25d086af736a60e9eeb907d3b93b6e0e5",
    "execution": {
     "iopub.execute_input": "2023-06-10T15:13:40.307658Z",
     "iopub.status.busy": "2023-06-10T15:13:40.307133Z",
     "iopub.status.idle": "2023-06-10T15:13:40.328787Z",
     "shell.execute_reply": "2023-06-10T15:13:40.327988Z"
    },
    "papermill": {
     "duration": 0.040931,
     "end_time": "2023-06-10T15:13:40.331570",
     "exception": false,
     "start_time": "2023-06-10T15:13:40.290639",
     "status": "completed"
    },
    "tags": []
   },
   "outputs": [
    {
     "name": "stdout",
     "output_type": "stream",
     "text": [
      "/kaggle/input/tiktok-google-play-store-review/tiktok_google_play_reviews.csv\n"
     ]
    }
   ],
   "source": [
    "# This Python 3 environment comes with many helpful analytics libraries installed\n",
    "# It is defined by the kaggle/python Docker image: https://github.com/kaggle/docker-python\n",
    "# For example, here's several helpful packages to load\n",
    "\n",
    "import numpy as np # linear algebra\n",
    "import pandas as pd # data processing, CSV file I/O (e.g. pd.read_csv)\n",
    "\n",
    "# Input data files are available in the read-only \"../input/\" directory\n",
    "# For example, running this (by clicking run or pressing Shift+Enter) will list all files under the input directory\n",
    "\n",
    "import os\n",
    "for dirname, _, filenames in os.walk('/kaggle/input'):\n",
    "    for filename in filenames:\n",
    "        print(os.path.join(dirname, filename))\n",
    "\n",
    "# You can write up to 20GB to the current directory (/kaggle/working/) that gets preserved as output when you create a version using \"Save & Run All\" \n",
    "# You can also write temporary files to /kaggle/temp/, but they won't be saved outside of the current session"
   ]
  },
  {
   "cell_type": "code",
   "execution_count": 2,
   "id": "c2986949",
   "metadata": {
    "execution": {
     "iopub.execute_input": "2023-06-10T15:13:40.355098Z",
     "iopub.status.busy": "2023-06-10T15:13:40.354351Z",
     "iopub.status.idle": "2023-06-10T15:13:44.538412Z",
     "shell.execute_reply": "2023-06-10T15:13:44.537600Z"
    },
    "papermill": {
     "duration": 4.198134,
     "end_time": "2023-06-10T15:13:44.540491",
     "exception": false,
     "start_time": "2023-06-10T15:13:40.342357",
     "status": "completed"
    },
    "tags": []
   },
   "outputs": [
    {
     "name": "stderr",
     "output_type": "stream",
     "text": [
      "/tmp/ipykernel_20/447599479.py:2: DtypeWarning: Columns (8,9) have mixed types. Specify dtype option on import or set low_memory=False.\n",
      "  df = pd.read_csv('/kaggle/input/tiktok-google-play-store-review/tiktok_google_play_reviews.csv')\n"
     ]
    },
    {
     "data": {
      "text/plain": [
       "(460287, 10)"
      ]
     },
     "execution_count": 2,
     "metadata": {},
     "output_type": "execute_result"
    }
   ],
   "source": [
    "import matplotlib.pyplot as plt\n",
    "df = pd.read_csv('/kaggle/input/tiktok-google-play-store-review/tiktok_google_play_reviews.csv')\n",
    "df.shape"
   ]
  },
  {
   "cell_type": "markdown",
   "id": "80efc8c4",
   "metadata": {
    "papermill": {
     "duration": 0.010528,
     "end_time": "2023-06-10T15:13:44.562073",
     "exception": false,
     "start_time": "2023-06-10T15:13:44.551545",
     "status": "completed"
    },
    "tags": []
   },
   "source": []
  },
  {
   "cell_type": "code",
   "execution_count": 3,
   "id": "407c82fe",
   "metadata": {
    "execution": {
     "iopub.execute_input": "2023-06-10T15:13:44.585719Z",
     "iopub.status.busy": "2023-06-10T15:13:44.585006Z",
     "iopub.status.idle": "2023-06-10T15:13:44.615165Z",
     "shell.execute_reply": "2023-06-10T15:13:44.614131Z"
    },
    "papermill": {
     "duration": 0.044805,
     "end_time": "2023-06-10T15:13:44.617669",
     "exception": false,
     "start_time": "2023-06-10T15:13:44.572864",
     "status": "completed"
    },
    "tags": []
   },
   "outputs": [
    {
     "data": {
      "text/html": [
       "<div>\n",
       "<style scoped>\n",
       "    .dataframe tbody tr th:only-of-type {\n",
       "        vertical-align: middle;\n",
       "    }\n",
       "\n",
       "    .dataframe tbody tr th {\n",
       "        vertical-align: top;\n",
       "    }\n",
       "\n",
       "    .dataframe thead th {\n",
       "        text-align: right;\n",
       "    }\n",
       "</style>\n",
       "<table border=\"1\" class=\"dataframe\">\n",
       "  <thead>\n",
       "    <tr style=\"text-align: right;\">\n",
       "      <th></th>\n",
       "      <th>reviewId</th>\n",
       "      <th>userName</th>\n",
       "      <th>userImage</th>\n",
       "      <th>content</th>\n",
       "      <th>score</th>\n",
       "      <th>thumbsUpCount</th>\n",
       "      <th>reviewCreatedVersion</th>\n",
       "      <th>at</th>\n",
       "      <th>replyContent</th>\n",
       "      <th>repliedAt</th>\n",
       "    </tr>\n",
       "  </thead>\n",
       "  <tbody>\n",
       "    <tr>\n",
       "      <th>0</th>\n",
       "      <td>68ccaec8-1415-4301-a85e-3004679a3a83</td>\n",
       "      <td>Cassie Moore</td>\n",
       "      <td>https://play-lh.googleusercontent.com/a/ALm5wu...</td>\n",
       "      <td>No words</td>\n",
       "      <td>5</td>\n",
       "      <td>0</td>\n",
       "      <td>27.1.3</td>\n",
       "      <td>2022-11-29 21:55:37</td>\n",
       "      <td>NaN</td>\n",
       "      <td>NaN</td>\n",
       "    </tr>\n",
       "    <tr>\n",
       "      <th>1</th>\n",
       "      <td>d84cbfd3-6aa3-485c-aaf9-c5dca27dc966</td>\n",
       "      <td>Kaleb Plummer</td>\n",
       "      <td>https://play-lh.googleusercontent.com/a-/ACNPE...</td>\n",
       "      <td>Great fun app so far!</td>\n",
       "      <td>5</td>\n",
       "      <td>0</td>\n",
       "      <td>NaN</td>\n",
       "      <td>2022-11-29 21:55:04</td>\n",
       "      <td>NaN</td>\n",
       "      <td>NaN</td>\n",
       "    </tr>\n",
       "    <tr>\n",
       "      <th>2</th>\n",
       "      <td>96618aa1-31e5-4259-8649-89b75d962f00</td>\n",
       "      <td>Rylee Maher</td>\n",
       "      <td>https://play-lh.googleusercontent.com/a/ALm5wu...</td>\n",
       "      <td>The app would get a higher rating but I litera...</td>\n",
       "      <td>1</td>\n",
       "      <td>0</td>\n",
       "      <td>27.1.3</td>\n",
       "      <td>2022-11-29 21:54:48</td>\n",
       "      <td>NaN</td>\n",
       "      <td>NaN</td>\n",
       "    </tr>\n",
       "    <tr>\n",
       "      <th>3</th>\n",
       "      <td>078c0bda-598b-474e-a04e-d7cb3e6f6301</td>\n",
       "      <td>Kittykatelyn Romilly</td>\n",
       "      <td>https://play-lh.googleusercontent.com/a-/ACNPE...</td>\n",
       "      <td>I WISH I COULD GIVE THIS A 100 PERCENT RATING ...</td>\n",
       "      <td>5</td>\n",
       "      <td>0</td>\n",
       "      <td>NaN</td>\n",
       "      <td>2022-11-29 21:54:35</td>\n",
       "      <td>NaN</td>\n",
       "      <td>NaN</td>\n",
       "    </tr>\n",
       "    <tr>\n",
       "      <th>4</th>\n",
       "      <td>8e68c5cd-b12a-4206-a8da-6bfdbff44ae3</td>\n",
       "      <td>Loveness Malenga</td>\n",
       "      <td>https://play-lh.googleusercontent.com/a-/ACNPE...</td>\n",
       "      <td>Pictures and record</td>\n",
       "      <td>5</td>\n",
       "      <td>0</td>\n",
       "      <td>NaN</td>\n",
       "      <td>2022-11-29 21:54:21</td>\n",
       "      <td>NaN</td>\n",
       "      <td>NaN</td>\n",
       "    </tr>\n",
       "  </tbody>\n",
       "</table>\n",
       "</div>"
      ],
      "text/plain": [
       "                               reviewId              userName  \\\n",
       "0  68ccaec8-1415-4301-a85e-3004679a3a83          Cassie Moore   \n",
       "1  d84cbfd3-6aa3-485c-aaf9-c5dca27dc966         Kaleb Plummer   \n",
       "2  96618aa1-31e5-4259-8649-89b75d962f00           Rylee Maher   \n",
       "3  078c0bda-598b-474e-a04e-d7cb3e6f6301  Kittykatelyn Romilly   \n",
       "4  8e68c5cd-b12a-4206-a8da-6bfdbff44ae3      Loveness Malenga   \n",
       "\n",
       "                                           userImage  \\\n",
       "0  https://play-lh.googleusercontent.com/a/ALm5wu...   \n",
       "1  https://play-lh.googleusercontent.com/a-/ACNPE...   \n",
       "2  https://play-lh.googleusercontent.com/a/ALm5wu...   \n",
       "3  https://play-lh.googleusercontent.com/a-/ACNPE...   \n",
       "4  https://play-lh.googleusercontent.com/a-/ACNPE...   \n",
       "\n",
       "                                             content  score  thumbsUpCount  \\\n",
       "0                                           No words      5              0   \n",
       "1                              Great fun app so far!      5              0   \n",
       "2  The app would get a higher rating but I litera...      1              0   \n",
       "3  I WISH I COULD GIVE THIS A 100 PERCENT RATING ...      5              0   \n",
       "4                                Pictures and record      5              0   \n",
       "\n",
       "  reviewCreatedVersion                   at replyContent repliedAt  \n",
       "0               27.1.3  2022-11-29 21:55:37          NaN       NaN  \n",
       "1                  NaN  2022-11-29 21:55:04          NaN       NaN  \n",
       "2               27.1.3  2022-11-29 21:54:48          NaN       NaN  \n",
       "3                  NaN  2022-11-29 21:54:35          NaN       NaN  \n",
       "4                  NaN  2022-11-29 21:54:21          NaN       NaN  "
      ]
     },
     "execution_count": 3,
     "metadata": {},
     "output_type": "execute_result"
    }
   ],
   "source": [
    "df.head()"
   ]
  },
  {
   "cell_type": "markdown",
   "id": "edfd8cde",
   "metadata": {
    "papermill": {
     "duration": 0.010769,
     "end_time": "2023-06-10T15:13:44.639833",
     "exception": false,
     "start_time": "2023-06-10T15:13:44.629064",
     "status": "completed"
    },
    "tags": []
   },
   "source": []
  },
  {
   "cell_type": "code",
   "execution_count": 4,
   "id": "7ff0424a",
   "metadata": {
    "execution": {
     "iopub.execute_input": "2023-06-10T15:13:44.663902Z",
     "iopub.status.busy": "2023-06-10T15:13:44.663492Z",
     "iopub.status.idle": "2023-06-10T15:13:45.746568Z",
     "shell.execute_reply": "2023-06-10T15:13:45.745011Z"
    },
    "papermill": {
     "duration": 1.097636,
     "end_time": "2023-06-10T15:13:45.748806",
     "exception": false,
     "start_time": "2023-06-10T15:13:44.651170",
     "status": "completed"
    },
    "tags": []
   },
   "outputs": [
    {
     "name": "stdout",
     "output_type": "stream",
     "text": [
      "<class 'pandas.core.frame.DataFrame'>\n",
      "RangeIndex: 460287 entries, 0 to 460286\n",
      "Data columns (total 10 columns):\n",
      " #   Column                Non-Null Count   Dtype \n",
      "---  ------                --------------   ----- \n",
      " 0   reviewId              460287 non-null  object\n",
      " 1   userName              460287 non-null  object\n",
      " 2   userImage             460287 non-null  object\n",
      " 3   content               460271 non-null  object\n",
      " 4   score                 460287 non-null  int64 \n",
      " 5   thumbsUpCount         460287 non-null  int64 \n",
      " 6   reviewCreatedVersion  333953 non-null  object\n",
      " 7   at                    460287 non-null  object\n",
      " 8   replyContent          260 non-null     object\n",
      " 9   repliedAt             260 non-null     object\n",
      "dtypes: int64(2), object(8)\n",
      "memory usage: 35.1+ MB\n"
     ]
    }
   ],
   "source": [
    "df.info()"
   ]
  },
  {
   "cell_type": "code",
   "execution_count": 5,
   "id": "d22af957",
   "metadata": {
    "execution": {
     "iopub.execute_input": "2023-06-10T15:13:45.773421Z",
     "iopub.status.busy": "2023-06-10T15:13:45.773000Z",
     "iopub.status.idle": "2023-06-10T15:13:45.817147Z",
     "shell.execute_reply": "2023-06-10T15:13:45.815968Z"
    },
    "papermill": {
     "duration": 0.059731,
     "end_time": "2023-06-10T15:13:45.820013",
     "exception": false,
     "start_time": "2023-06-10T15:13:45.760282",
     "status": "completed"
    },
    "tags": []
   },
   "outputs": [
    {
     "data": {
      "text/html": [
       "<div>\n",
       "<style scoped>\n",
       "    .dataframe tbody tr th:only-of-type {\n",
       "        vertical-align: middle;\n",
       "    }\n",
       "\n",
       "    .dataframe tbody tr th {\n",
       "        vertical-align: top;\n",
       "    }\n",
       "\n",
       "    .dataframe thead th {\n",
       "        text-align: right;\n",
       "    }\n",
       "</style>\n",
       "<table border=\"1\" class=\"dataframe\">\n",
       "  <thead>\n",
       "    <tr style=\"text-align: right;\">\n",
       "      <th></th>\n",
       "      <th>score</th>\n",
       "      <th>thumbsUpCount</th>\n",
       "    </tr>\n",
       "  </thead>\n",
       "  <tbody>\n",
       "    <tr>\n",
       "      <th>count</th>\n",
       "      <td>460287.000000</td>\n",
       "      <td>460287.000000</td>\n",
       "    </tr>\n",
       "    <tr>\n",
       "      <th>mean</th>\n",
       "      <td>4.234919</td>\n",
       "      <td>3.210601</td>\n",
       "    </tr>\n",
       "    <tr>\n",
       "      <th>std</th>\n",
       "      <td>1.430718</td>\n",
       "      <td>183.506791</td>\n",
       "    </tr>\n",
       "    <tr>\n",
       "      <th>min</th>\n",
       "      <td>1.000000</td>\n",
       "      <td>0.000000</td>\n",
       "    </tr>\n",
       "    <tr>\n",
       "      <th>25%</th>\n",
       "      <td>4.000000</td>\n",
       "      <td>0.000000</td>\n",
       "    </tr>\n",
       "    <tr>\n",
       "      <th>50%</th>\n",
       "      <td>5.000000</td>\n",
       "      <td>0.000000</td>\n",
       "    </tr>\n",
       "    <tr>\n",
       "      <th>75%</th>\n",
       "      <td>5.000000</td>\n",
       "      <td>0.000000</td>\n",
       "    </tr>\n",
       "    <tr>\n",
       "      <th>max</th>\n",
       "      <td>5.000000</td>\n",
       "      <td>40311.000000</td>\n",
       "    </tr>\n",
       "  </tbody>\n",
       "</table>\n",
       "</div>"
      ],
      "text/plain": [
       "               score  thumbsUpCount\n",
       "count  460287.000000  460287.000000\n",
       "mean        4.234919       3.210601\n",
       "std         1.430718     183.506791\n",
       "min         1.000000       0.000000\n",
       "25%         4.000000       0.000000\n",
       "50%         5.000000       0.000000\n",
       "75%         5.000000       0.000000\n",
       "max         5.000000   40311.000000"
      ]
     },
     "execution_count": 5,
     "metadata": {},
     "output_type": "execute_result"
    }
   ],
   "source": [
    "df.describe()"
   ]
  },
  {
   "cell_type": "code",
   "execution_count": 6,
   "id": "9f94918b",
   "metadata": {
    "execution": {
     "iopub.execute_input": "2023-06-10T15:13:45.845126Z",
     "iopub.status.busy": "2023-06-10T15:13:45.844677Z",
     "iopub.status.idle": "2023-06-10T15:13:47.008902Z",
     "shell.execute_reply": "2023-06-10T15:13:47.008143Z"
    },
    "papermill": {
     "duration": 1.180545,
     "end_time": "2023-06-10T15:13:47.012304",
     "exception": false,
     "start_time": "2023-06-10T15:13:45.831759",
     "status": "completed"
    },
    "tags": []
   },
   "outputs": [
    {
     "data": {
      "text/plain": [
       "reviewId                     0\n",
       "userName                     0\n",
       "userImage                    0\n",
       "content                     16\n",
       "score                        0\n",
       "thumbsUpCount                0\n",
       "reviewCreatedVersion    126334\n",
       "at                           0\n",
       "replyContent            460027\n",
       "repliedAt               460027\n",
       "dtype: int64"
      ]
     },
     "execution_count": 6,
     "metadata": {},
     "output_type": "execute_result"
    }
   ],
   "source": [
    "df.isnull().sum()"
   ]
  },
  {
   "cell_type": "code",
   "execution_count": 7,
   "id": "c88ef947",
   "metadata": {
    "execution": {
     "iopub.execute_input": "2023-06-10T15:13:47.042292Z",
     "iopub.status.busy": "2023-06-10T15:13:47.041042Z",
     "iopub.status.idle": "2023-06-10T15:13:47.048865Z",
     "shell.execute_reply": "2023-06-10T15:13:47.047907Z"
    },
    "papermill": {
     "duration": 0.023484,
     "end_time": "2023-06-10T15:13:47.051129",
     "exception": false,
     "start_time": "2023-06-10T15:13:47.027645",
     "status": "completed"
    },
    "tags": []
   },
   "outputs": [
    {
     "data": {
      "text/plain": [
       "dtype('O')"
      ]
     },
     "execution_count": 7,
     "metadata": {},
     "output_type": "execute_result"
    }
   ],
   "source": [
    "df['repliedAt'].dtypes"
   ]
  },
  {
   "cell_type": "code",
   "execution_count": 8,
   "id": "dd345cbc",
   "metadata": {
    "execution": {
     "iopub.execute_input": "2023-06-10T15:13:47.077796Z",
     "iopub.status.busy": "2023-06-10T15:13:47.076625Z",
     "iopub.status.idle": "2023-06-10T15:13:48.167715Z",
     "shell.execute_reply": "2023-06-10T15:13:48.166678Z"
    },
    "papermill": {
     "duration": 1.107446,
     "end_time": "2023-06-10T15:13:48.170586",
     "exception": false,
     "start_time": "2023-06-10T15:13:47.063140",
     "status": "completed"
    },
    "tags": []
   },
   "outputs": [
    {
     "data": {
      "text/plain": [
       "0"
      ]
     },
     "execution_count": 8,
     "metadata": {},
     "output_type": "execute_result"
    }
   ],
   "source": [
    "df.duplicated().sum()"
   ]
  },
  {
   "cell_type": "code",
   "execution_count": 9,
   "id": "fd640dd4",
   "metadata": {
    "execution": {
     "iopub.execute_input": "2023-06-10T15:13:48.196478Z",
     "iopub.status.busy": "2023-06-10T15:13:48.196073Z",
     "iopub.status.idle": "2023-06-10T15:13:48.210304Z",
     "shell.execute_reply": "2023-06-10T15:13:48.209275Z"
    },
    "papermill": {
     "duration": 0.029792,
     "end_time": "2023-06-10T15:13:48.212604",
     "exception": false,
     "start_time": "2023-06-10T15:13:48.182812",
     "status": "completed"
    },
    "tags": []
   },
   "outputs": [
    {
     "data": {
      "text/plain": [
       "0       435657\n",
       "1        16630\n",
       "2         2322\n",
       "3          924\n",
       "4          551\n",
       "         ...  \n",
       "437          1\n",
       "4299         1\n",
       "2780         1\n",
       "1564         1\n",
       "9511         1\n",
       "Name: thumbsUpCount, Length: 692, dtype: int64"
      ]
     },
     "execution_count": 9,
     "metadata": {},
     "output_type": "execute_result"
    }
   ],
   "source": [
    "df['thumbsUpCount'].value_counts()"
   ]
  },
  {
   "cell_type": "code",
   "execution_count": 10,
   "id": "a1714248",
   "metadata": {
    "execution": {
     "iopub.execute_input": "2023-06-10T15:13:48.238494Z",
     "iopub.status.busy": "2023-06-10T15:13:48.238117Z",
     "iopub.status.idle": "2023-06-10T15:13:48.673146Z",
     "shell.execute_reply": "2023-06-10T15:13:48.672005Z"
    },
    "papermill": {
     "duration": 0.45135,
     "end_time": "2023-06-10T15:13:48.676186",
     "exception": false,
     "start_time": "2023-06-10T15:13:48.224836",
     "status": "completed"
    },
    "tags": []
   },
   "outputs": [],
   "source": [
    "counts = df['userName'].value_counts()"
   ]
  },
  {
   "cell_type": "code",
   "execution_count": 11,
   "id": "de750594",
   "metadata": {
    "execution": {
     "iopub.execute_input": "2023-06-10T15:13:48.702519Z",
     "iopub.status.busy": "2023-06-10T15:13:48.702133Z",
     "iopub.status.idle": "2023-06-10T15:13:48.710426Z",
     "shell.execute_reply": "2023-06-10T15:13:48.709349Z"
    },
    "papermill": {
     "duration": 0.024236,
     "end_time": "2023-06-10T15:13:48.712685",
     "exception": false,
     "start_time": "2023-06-10T15:13:48.688449",
     "status": "completed"
    },
    "tags": []
   },
   "outputs": [
    {
     "data": {
      "text/plain": [
       "A Google user    1207\n",
       "Ali Raza          221\n",
       "Khan Khan         220\n",
       "Ali Khan          147\n",
       "Ali Hassan        136\n",
       "Salman Khan       121\n",
       "Abdul Rehman      118\n",
       "Imran Khan        114\n",
       "Md Rakib          111\n",
       "Mehedi Hasan      104\n",
       "Bilal Khan        102\n",
       "Hamza Khan         98\n",
       "Asif Khan          96\n",
       "Ali Ali            93\n",
       "Muhammad Ali       90\n",
       "Abdullah Khan      90\n",
       "Md Hasan           86\n",
       "Usman Khan         86\n",
       "Md Emon            80\n",
       "Asad Ali           80\n",
       "Md Arif            77\n",
       "Md Alamin          75\n",
       "Amir Khan          74\n",
       "Ahmad Khan         73\n",
       "Haider Ali         73\n",
       "Md Rasel           70\n",
       "Saiful Islam       70\n",
       "Hassan Ali         69\n",
       "Md Sumon           68\n",
       "Adnan Khan         66\n",
       "Name: userName, dtype: int64"
      ]
     },
     "execution_count": 11,
     "metadata": {},
     "output_type": "execute_result"
    }
   ],
   "source": [
    "counts.head(30)"
   ]
  },
  {
   "cell_type": "code",
   "execution_count": null,
   "id": "92539651",
   "metadata": {
    "papermill": {
     "duration": 0.011937,
     "end_time": "2023-06-10T15:13:48.737012",
     "exception": false,
     "start_time": "2023-06-10T15:13:48.725075",
     "status": "completed"
    },
    "tags": []
   },
   "outputs": [],
   "source": []
  },
  {
   "cell_type": "code",
   "execution_count": null,
   "id": "70c0c3e4",
   "metadata": {
    "papermill": {
     "duration": 0.011837,
     "end_time": "2023-06-10T15:13:48.761072",
     "exception": false,
     "start_time": "2023-06-10T15:13:48.749235",
     "status": "completed"
    },
    "tags": []
   },
   "outputs": [],
   "source": [
    "\n"
   ]
  },
  {
   "cell_type": "code",
   "execution_count": 12,
   "id": "ba258d8c",
   "metadata": {
    "execution": {
     "iopub.execute_input": "2023-06-10T15:13:48.786905Z",
     "iopub.status.busy": "2023-06-10T15:13:48.786522Z",
     "iopub.status.idle": "2023-06-10T15:13:49.217225Z",
     "shell.execute_reply": "2023-06-10T15:13:49.216245Z"
    },
    "papermill": {
     "duration": 0.44677,
     "end_time": "2023-06-10T15:13:49.220016",
     "exception": false,
     "start_time": "2023-06-10T15:13:48.773246",
     "status": "completed"
    },
    "tags": []
   },
   "outputs": [],
   "source": [
    "df['Date'] = pd.to_datetime(df[\"at\"]).dt.date"
   ]
  },
  {
   "cell_type": "code",
   "execution_count": 13,
   "id": "d70d4d8c",
   "metadata": {
    "execution": {
     "iopub.execute_input": "2023-06-10T15:13:49.246413Z",
     "iopub.status.busy": "2023-06-10T15:13:49.246039Z",
     "iopub.status.idle": "2023-06-10T15:13:49.267245Z",
     "shell.execute_reply": "2023-06-10T15:13:49.266184Z"
    },
    "papermill": {
     "duration": 0.03684,
     "end_time": "2023-06-10T15:13:49.269372",
     "exception": false,
     "start_time": "2023-06-10T15:13:49.232532",
     "status": "completed"
    },
    "tags": []
   },
   "outputs": [
    {
     "data": {
      "text/html": [
       "<div>\n",
       "<style scoped>\n",
       "    .dataframe tbody tr th:only-of-type {\n",
       "        vertical-align: middle;\n",
       "    }\n",
       "\n",
       "    .dataframe tbody tr th {\n",
       "        vertical-align: top;\n",
       "    }\n",
       "\n",
       "    .dataframe thead th {\n",
       "        text-align: right;\n",
       "    }\n",
       "</style>\n",
       "<table border=\"1\" class=\"dataframe\">\n",
       "  <thead>\n",
       "    <tr style=\"text-align: right;\">\n",
       "      <th></th>\n",
       "      <th>reviewId</th>\n",
       "      <th>userName</th>\n",
       "      <th>userImage</th>\n",
       "      <th>content</th>\n",
       "      <th>score</th>\n",
       "      <th>thumbsUpCount</th>\n",
       "      <th>reviewCreatedVersion</th>\n",
       "      <th>at</th>\n",
       "      <th>replyContent</th>\n",
       "      <th>repliedAt</th>\n",
       "      <th>Date</th>\n",
       "    </tr>\n",
       "  </thead>\n",
       "  <tbody>\n",
       "    <tr>\n",
       "      <th>0</th>\n",
       "      <td>68ccaec8-1415-4301-a85e-3004679a3a83</td>\n",
       "      <td>Cassie Moore</td>\n",
       "      <td>https://play-lh.googleusercontent.com/a/ALm5wu...</td>\n",
       "      <td>No words</td>\n",
       "      <td>5</td>\n",
       "      <td>0</td>\n",
       "      <td>27.1.3</td>\n",
       "      <td>2022-11-29 21:55:37</td>\n",
       "      <td>NaN</td>\n",
       "      <td>NaN</td>\n",
       "      <td>2022-11-29</td>\n",
       "    </tr>\n",
       "    <tr>\n",
       "      <th>1</th>\n",
       "      <td>d84cbfd3-6aa3-485c-aaf9-c5dca27dc966</td>\n",
       "      <td>Kaleb Plummer</td>\n",
       "      <td>https://play-lh.googleusercontent.com/a-/ACNPE...</td>\n",
       "      <td>Great fun app so far!</td>\n",
       "      <td>5</td>\n",
       "      <td>0</td>\n",
       "      <td>NaN</td>\n",
       "      <td>2022-11-29 21:55:04</td>\n",
       "      <td>NaN</td>\n",
       "      <td>NaN</td>\n",
       "      <td>2022-11-29</td>\n",
       "    </tr>\n",
       "    <tr>\n",
       "      <th>2</th>\n",
       "      <td>96618aa1-31e5-4259-8649-89b75d962f00</td>\n",
       "      <td>Rylee Maher</td>\n",
       "      <td>https://play-lh.googleusercontent.com/a/ALm5wu...</td>\n",
       "      <td>The app would get a higher rating but I litera...</td>\n",
       "      <td>1</td>\n",
       "      <td>0</td>\n",
       "      <td>27.1.3</td>\n",
       "      <td>2022-11-29 21:54:48</td>\n",
       "      <td>NaN</td>\n",
       "      <td>NaN</td>\n",
       "      <td>2022-11-29</td>\n",
       "    </tr>\n",
       "    <tr>\n",
       "      <th>3</th>\n",
       "      <td>078c0bda-598b-474e-a04e-d7cb3e6f6301</td>\n",
       "      <td>Kittykatelyn Romilly</td>\n",
       "      <td>https://play-lh.googleusercontent.com/a-/ACNPE...</td>\n",
       "      <td>I WISH I COULD GIVE THIS A 100 PERCENT RATING ...</td>\n",
       "      <td>5</td>\n",
       "      <td>0</td>\n",
       "      <td>NaN</td>\n",
       "      <td>2022-11-29 21:54:35</td>\n",
       "      <td>NaN</td>\n",
       "      <td>NaN</td>\n",
       "      <td>2022-11-29</td>\n",
       "    </tr>\n",
       "    <tr>\n",
       "      <th>4</th>\n",
       "      <td>8e68c5cd-b12a-4206-a8da-6bfdbff44ae3</td>\n",
       "      <td>Loveness Malenga</td>\n",
       "      <td>https://play-lh.googleusercontent.com/a-/ACNPE...</td>\n",
       "      <td>Pictures and record</td>\n",
       "      <td>5</td>\n",
       "      <td>0</td>\n",
       "      <td>NaN</td>\n",
       "      <td>2022-11-29 21:54:21</td>\n",
       "      <td>NaN</td>\n",
       "      <td>NaN</td>\n",
       "      <td>2022-11-29</td>\n",
       "    </tr>\n",
       "    <tr>\n",
       "      <th>...</th>\n",
       "      <td>...</td>\n",
       "      <td>...</td>\n",
       "      <td>...</td>\n",
       "      <td>...</td>\n",
       "      <td>...</td>\n",
       "      <td>...</td>\n",
       "      <td>...</td>\n",
       "      <td>...</td>\n",
       "      <td>...</td>\n",
       "      <td>...</td>\n",
       "      <td>...</td>\n",
       "    </tr>\n",
       "    <tr>\n",
       "      <th>460282</th>\n",
       "      <td>73cf78fe-599d-4488-8a8b-ae443847303b</td>\n",
       "      <td>hera killar</td>\n",
       "      <td>https://play-lh.googleusercontent.com/a-/ACNPE...</td>\n",
       "      <td>😍😍</td>\n",
       "      <td>5</td>\n",
       "      <td>0</td>\n",
       "      <td>NaN</td>\n",
       "      <td>2022-06-18 12:35:32</td>\n",
       "      <td>NaN</td>\n",
       "      <td>NaN</td>\n",
       "      <td>2022-06-18</td>\n",
       "    </tr>\n",
       "    <tr>\n",
       "      <th>460283</th>\n",
       "      <td>16d331c8-ba21-4aeb-ac01-dec455ca48ad</td>\n",
       "      <td>Hiox Softwares</td>\n",
       "      <td>https://play-lh.googleusercontent.com/a/ALm5wu...</td>\n",
       "      <td>Very nice</td>\n",
       "      <td>1</td>\n",
       "      <td>0</td>\n",
       "      <td>NaN</td>\n",
       "      <td>2022-06-18 12:35:25</td>\n",
       "      <td>NaN</td>\n",
       "      <td>NaN</td>\n",
       "      <td>2022-06-18</td>\n",
       "    </tr>\n",
       "    <tr>\n",
       "      <th>460284</th>\n",
       "      <td>fbb86777-b885-4f76-b49e-13e424aa5afc</td>\n",
       "      <td>Md. Zahid Hasan</td>\n",
       "      <td>https://play-lh.googleusercontent.com/a-/ACNPE...</td>\n",
       "      <td>Nice</td>\n",
       "      <td>5</td>\n",
       "      <td>0</td>\n",
       "      <td>24.8.3</td>\n",
       "      <td>2022-06-18 12:34:39</td>\n",
       "      <td>NaN</td>\n",
       "      <td>NaN</td>\n",
       "      <td>2022-06-18</td>\n",
       "    </tr>\n",
       "    <tr>\n",
       "      <th>460285</th>\n",
       "      <td>28df682c-bb17-4224-8658-642a92a2c723</td>\n",
       "      <td>Ash Ryan</td>\n",
       "      <td>https://play-lh.googleusercontent.com/a-/ACNPE...</td>\n",
       "      <td>TikTok love your sad</td>\n",
       "      <td>5</td>\n",
       "      <td>0</td>\n",
       "      <td>NaN</td>\n",
       "      <td>2022-06-18 12:34:38</td>\n",
       "      <td>NaN</td>\n",
       "      <td>NaN</td>\n",
       "      <td>2022-06-18</td>\n",
       "    </tr>\n",
       "    <tr>\n",
       "      <th>460286</th>\n",
       "      <td>1cfbb2b3-fb0b-4f4b-8963-9e2b803f24dc</td>\n",
       "      <td>Haroon Jaan</td>\n",
       "      <td>https://play-lh.googleusercontent.com/a/ALm5wu...</td>\n",
       "      <td>Good to use haroon_231</td>\n",
       "      <td>5</td>\n",
       "      <td>0</td>\n",
       "      <td>24.8.3</td>\n",
       "      <td>2022-06-18 12:34:32</td>\n",
       "      <td>NaN</td>\n",
       "      <td>NaN</td>\n",
       "      <td>2022-06-18</td>\n",
       "    </tr>\n",
       "  </tbody>\n",
       "</table>\n",
       "<p>460287 rows × 11 columns</p>\n",
       "</div>"
      ],
      "text/plain": [
       "                                    reviewId              userName  \\\n",
       "0       68ccaec8-1415-4301-a85e-3004679a3a83          Cassie Moore   \n",
       "1       d84cbfd3-6aa3-485c-aaf9-c5dca27dc966         Kaleb Plummer   \n",
       "2       96618aa1-31e5-4259-8649-89b75d962f00           Rylee Maher   \n",
       "3       078c0bda-598b-474e-a04e-d7cb3e6f6301  Kittykatelyn Romilly   \n",
       "4       8e68c5cd-b12a-4206-a8da-6bfdbff44ae3      Loveness Malenga   \n",
       "...                                      ...                   ...   \n",
       "460282  73cf78fe-599d-4488-8a8b-ae443847303b           hera killar   \n",
       "460283  16d331c8-ba21-4aeb-ac01-dec455ca48ad        Hiox Softwares   \n",
       "460284  fbb86777-b885-4f76-b49e-13e424aa5afc       Md. Zahid Hasan   \n",
       "460285  28df682c-bb17-4224-8658-642a92a2c723              Ash Ryan   \n",
       "460286  1cfbb2b3-fb0b-4f4b-8963-9e2b803f24dc           Haroon Jaan   \n",
       "\n",
       "                                                userImage  \\\n",
       "0       https://play-lh.googleusercontent.com/a/ALm5wu...   \n",
       "1       https://play-lh.googleusercontent.com/a-/ACNPE...   \n",
       "2       https://play-lh.googleusercontent.com/a/ALm5wu...   \n",
       "3       https://play-lh.googleusercontent.com/a-/ACNPE...   \n",
       "4       https://play-lh.googleusercontent.com/a-/ACNPE...   \n",
       "...                                                   ...   \n",
       "460282  https://play-lh.googleusercontent.com/a-/ACNPE...   \n",
       "460283  https://play-lh.googleusercontent.com/a/ALm5wu...   \n",
       "460284  https://play-lh.googleusercontent.com/a-/ACNPE...   \n",
       "460285  https://play-lh.googleusercontent.com/a-/ACNPE...   \n",
       "460286  https://play-lh.googleusercontent.com/a/ALm5wu...   \n",
       "\n",
       "                                                  content  score  \\\n",
       "0                                                No words      5   \n",
       "1                                   Great fun app so far!      5   \n",
       "2       The app would get a higher rating but I litera...      1   \n",
       "3       I WISH I COULD GIVE THIS A 100 PERCENT RATING ...      5   \n",
       "4                                     Pictures and record      5   \n",
       "...                                                   ...    ...   \n",
       "460282                                                 😍😍      5   \n",
       "460283                                          Very nice      1   \n",
       "460284                                               Nice      5   \n",
       "460285                               TikTok love your sad      5   \n",
       "460286                             Good to use haroon_231      5   \n",
       "\n",
       "        thumbsUpCount reviewCreatedVersion                   at replyContent  \\\n",
       "0                   0               27.1.3  2022-11-29 21:55:37          NaN   \n",
       "1                   0                  NaN  2022-11-29 21:55:04          NaN   \n",
       "2                   0               27.1.3  2022-11-29 21:54:48          NaN   \n",
       "3                   0                  NaN  2022-11-29 21:54:35          NaN   \n",
       "4                   0                  NaN  2022-11-29 21:54:21          NaN   \n",
       "...               ...                  ...                  ...          ...   \n",
       "460282              0                  NaN  2022-06-18 12:35:32          NaN   \n",
       "460283              0                  NaN  2022-06-18 12:35:25          NaN   \n",
       "460284              0               24.8.3  2022-06-18 12:34:39          NaN   \n",
       "460285              0                  NaN  2022-06-18 12:34:38          NaN   \n",
       "460286              0               24.8.3  2022-06-18 12:34:32          NaN   \n",
       "\n",
       "       repliedAt        Date  \n",
       "0            NaN  2022-11-29  \n",
       "1            NaN  2022-11-29  \n",
       "2            NaN  2022-11-29  \n",
       "3            NaN  2022-11-29  \n",
       "4            NaN  2022-11-29  \n",
       "...          ...         ...  \n",
       "460282       NaN  2022-06-18  \n",
       "460283       NaN  2022-06-18  \n",
       "460284       NaN  2022-06-18  \n",
       "460285       NaN  2022-06-18  \n",
       "460286       NaN  2022-06-18  \n",
       "\n",
       "[460287 rows x 11 columns]"
      ]
     },
     "execution_count": 13,
     "metadata": {},
     "output_type": "execute_result"
    }
   ],
   "source": [
    "df"
   ]
  },
  {
   "cell_type": "code",
   "execution_count": 14,
   "id": "8ae8bbcf",
   "metadata": {
    "execution": {
     "iopub.execute_input": "2023-06-10T15:13:49.296588Z",
     "iopub.status.busy": "2023-06-10T15:13:49.296225Z",
     "iopub.status.idle": "2023-06-10T15:13:49.509771Z",
     "shell.execute_reply": "2023-06-10T15:13:49.508709Z"
    },
    "papermill": {
     "duration": 0.23018,
     "end_time": "2023-06-10T15:13:49.512446",
     "exception": false,
     "start_time": "2023-06-10T15:13:49.282266",
     "status": "completed"
    },
    "tags": []
   },
   "outputs": [
    {
     "data": {
      "text/html": [
       "<div>\n",
       "<style scoped>\n",
       "    .dataframe tbody tr th:only-of-type {\n",
       "        vertical-align: middle;\n",
       "    }\n",
       "\n",
       "    .dataframe tbody tr th {\n",
       "        vertical-align: top;\n",
       "    }\n",
       "\n",
       "    .dataframe thead th {\n",
       "        text-align: right;\n",
       "    }\n",
       "</style>\n",
       "<table border=\"1\" class=\"dataframe\">\n",
       "  <thead>\n",
       "    <tr style=\"text-align: right;\">\n",
       "      <th></th>\n",
       "      <th>userName</th>\n",
       "      <th>content</th>\n",
       "      <th>score</th>\n",
       "      <th>thumbsUpCount</th>\n",
       "      <th>Date</th>\n",
       "    </tr>\n",
       "  </thead>\n",
       "  <tbody>\n",
       "    <tr>\n",
       "      <th>0</th>\n",
       "      <td>Cassie Moore</td>\n",
       "      <td>No words</td>\n",
       "      <td>5</td>\n",
       "      <td>0</td>\n",
       "      <td>2022-11-29</td>\n",
       "    </tr>\n",
       "    <tr>\n",
       "      <th>1</th>\n",
       "      <td>Kaleb Plummer</td>\n",
       "      <td>Great fun app so far!</td>\n",
       "      <td>5</td>\n",
       "      <td>0</td>\n",
       "      <td>2022-11-29</td>\n",
       "    </tr>\n",
       "    <tr>\n",
       "      <th>2</th>\n",
       "      <td>Rylee Maher</td>\n",
       "      <td>The app would get a higher rating but I litera...</td>\n",
       "      <td>1</td>\n",
       "      <td>0</td>\n",
       "      <td>2022-11-29</td>\n",
       "    </tr>\n",
       "    <tr>\n",
       "      <th>3</th>\n",
       "      <td>Kittykatelyn Romilly</td>\n",
       "      <td>I WISH I COULD GIVE THIS A 100 PERCENT RATING ...</td>\n",
       "      <td>5</td>\n",
       "      <td>0</td>\n",
       "      <td>2022-11-29</td>\n",
       "    </tr>\n",
       "    <tr>\n",
       "      <th>4</th>\n",
       "      <td>Loveness Malenga</td>\n",
       "      <td>Pictures and record</td>\n",
       "      <td>5</td>\n",
       "      <td>0</td>\n",
       "      <td>2022-11-29</td>\n",
       "    </tr>\n",
       "  </tbody>\n",
       "</table>\n",
       "</div>"
      ],
      "text/plain": [
       "               userName                                            content  \\\n",
       "0          Cassie Moore                                           No words   \n",
       "1         Kaleb Plummer                              Great fun app so far!   \n",
       "2           Rylee Maher  The app would get a higher rating but I litera...   \n",
       "3  Kittykatelyn Romilly  I WISH I COULD GIVE THIS A 100 PERCENT RATING ...   \n",
       "4      Loveness Malenga                                Pictures and record   \n",
       "\n",
       "   score  thumbsUpCount        Date  \n",
       "0      5              0  2022-11-29  \n",
       "1      5              0  2022-11-29  \n",
       "2      1              0  2022-11-29  \n",
       "3      5              0  2022-11-29  \n",
       "4      5              0  2022-11-29  "
      ]
     },
     "execution_count": 14,
     "metadata": {},
     "output_type": "execute_result"
    }
   ],
   "source": [
    "df1 = df[['userName','content','score','thumbsUpCount','Date']]\n",
    "df1.head()"
   ]
  },
  {
   "cell_type": "code",
   "execution_count": 15,
   "id": "b37cfc3c",
   "metadata": {
    "execution": {
     "iopub.execute_input": "2023-06-10T15:13:49.541001Z",
     "iopub.status.busy": "2023-06-10T15:13:49.540614Z",
     "iopub.status.idle": "2023-06-10T15:13:49.986267Z",
     "shell.execute_reply": "2023-06-10T15:13:49.985223Z"
    },
    "papermill": {
     "duration": 0.462287,
     "end_time": "2023-06-10T15:13:49.988494",
     "exception": false,
     "start_time": "2023-06-10T15:13:49.526207",
     "status": "completed"
    },
    "tags": []
   },
   "outputs": [
    {
     "data": {
      "text/plain": [
       "userName          0\n",
       "content          16\n",
       "score             0\n",
       "thumbsUpCount     0\n",
       "Date              0\n",
       "dtype: int64"
      ]
     },
     "execution_count": 15,
     "metadata": {},
     "output_type": "execute_result"
    }
   ],
   "source": [
    "df1.isnull().sum()"
   ]
  },
  {
   "cell_type": "code",
   "execution_count": 16,
   "id": "190741f2",
   "metadata": {
    "execution": {
     "iopub.execute_input": "2023-06-10T15:13:50.017114Z",
     "iopub.status.busy": "2023-06-10T15:13:50.016687Z",
     "iopub.status.idle": "2023-06-10T15:13:50.926508Z",
     "shell.execute_reply": "2023-06-10T15:13:50.925526Z"
    },
    "papermill": {
     "duration": 0.926946,
     "end_time": "2023-06-10T15:13:50.928782",
     "exception": false,
     "start_time": "2023-06-10T15:13:50.001836",
     "status": "completed"
    },
    "tags": []
   },
   "outputs": [
    {
     "data": {
      "text/plain": [
       "userName         0\n",
       "content          0\n",
       "score            0\n",
       "thumbsUpCount    0\n",
       "Date             0\n",
       "dtype: int64"
      ]
     },
     "execution_count": 16,
     "metadata": {},
     "output_type": "execute_result"
    }
   ],
   "source": [
    "df1 = df1.dropna()\n",
    "df1.isnull().sum()"
   ]
  },
  {
   "cell_type": "code",
   "execution_count": 17,
   "id": "11f2091f",
   "metadata": {
    "execution": {
     "iopub.execute_input": "2023-06-10T15:13:50.957940Z",
     "iopub.status.busy": "2023-06-10T15:13:50.957576Z",
     "iopub.status.idle": "2023-06-10T15:13:50.969249Z",
     "shell.execute_reply": "2023-06-10T15:13:50.968175Z"
    },
    "papermill": {
     "duration": 0.029513,
     "end_time": "2023-06-10T15:13:50.971750",
     "exception": false,
     "start_time": "2023-06-10T15:13:50.942237",
     "status": "completed"
    },
    "tags": []
   },
   "outputs": [
    {
     "data": {
      "text/html": [
       "<div>\n",
       "<style scoped>\n",
       "    .dataframe tbody tr th:only-of-type {\n",
       "        vertical-align: middle;\n",
       "    }\n",
       "\n",
       "    .dataframe tbody tr th {\n",
       "        vertical-align: top;\n",
       "    }\n",
       "\n",
       "    .dataframe thead th {\n",
       "        text-align: right;\n",
       "    }\n",
       "</style>\n",
       "<table border=\"1\" class=\"dataframe\">\n",
       "  <thead>\n",
       "    <tr style=\"text-align: right;\">\n",
       "      <th></th>\n",
       "      <th>userName</th>\n",
       "      <th>content</th>\n",
       "      <th>score</th>\n",
       "      <th>thumbsUpCount</th>\n",
       "      <th>Date</th>\n",
       "    </tr>\n",
       "  </thead>\n",
       "  <tbody>\n",
       "    <tr>\n",
       "      <th>0</th>\n",
       "      <td>Cassie Moore</td>\n",
       "      <td>No words</td>\n",
       "      <td>5</td>\n",
       "      <td>0</td>\n",
       "      <td>2022-11-29</td>\n",
       "    </tr>\n",
       "    <tr>\n",
       "      <th>1</th>\n",
       "      <td>Kaleb Plummer</td>\n",
       "      <td>Great fun app so far!</td>\n",
       "      <td>5</td>\n",
       "      <td>0</td>\n",
       "      <td>2022-11-29</td>\n",
       "    </tr>\n",
       "    <tr>\n",
       "      <th>2</th>\n",
       "      <td>Rylee Maher</td>\n",
       "      <td>The app would get a higher rating but I litera...</td>\n",
       "      <td>1</td>\n",
       "      <td>0</td>\n",
       "      <td>2022-11-29</td>\n",
       "    </tr>\n",
       "    <tr>\n",
       "      <th>3</th>\n",
       "      <td>Kittykatelyn Romilly</td>\n",
       "      <td>I WISH I COULD GIVE THIS A 100 PERCENT RATING ...</td>\n",
       "      <td>5</td>\n",
       "      <td>0</td>\n",
       "      <td>2022-11-29</td>\n",
       "    </tr>\n",
       "    <tr>\n",
       "      <th>4</th>\n",
       "      <td>Loveness Malenga</td>\n",
       "      <td>Pictures and record</td>\n",
       "      <td>5</td>\n",
       "      <td>0</td>\n",
       "      <td>2022-11-29</td>\n",
       "    </tr>\n",
       "  </tbody>\n",
       "</table>\n",
       "</div>"
      ],
      "text/plain": [
       "               userName                                            content  \\\n",
       "0          Cassie Moore                                           No words   \n",
       "1         Kaleb Plummer                              Great fun app so far!   \n",
       "2           Rylee Maher  The app would get a higher rating but I litera...   \n",
       "3  Kittykatelyn Romilly  I WISH I COULD GIVE THIS A 100 PERCENT RATING ...   \n",
       "4      Loveness Malenga                                Pictures and record   \n",
       "\n",
       "   score  thumbsUpCount        Date  \n",
       "0      5              0  2022-11-29  \n",
       "1      5              0  2022-11-29  \n",
       "2      1              0  2022-11-29  \n",
       "3      5              0  2022-11-29  \n",
       "4      5              0  2022-11-29  "
      ]
     },
     "execution_count": 17,
     "metadata": {},
     "output_type": "execute_result"
    }
   ],
   "source": [
    "# df1 = df1.drop(['Date_count'],axis=1)\n",
    "df1.head()\n"
   ]
  },
  {
   "cell_type": "code",
   "execution_count": 18,
   "id": "9a24fce2",
   "metadata": {
    "execution": {
     "iopub.execute_input": "2023-06-10T15:13:51.000954Z",
     "iopub.status.busy": "2023-06-10T15:13:51.000287Z",
     "iopub.status.idle": "2023-06-10T15:13:51.152742Z",
     "shell.execute_reply": "2023-06-10T15:13:51.151240Z"
    },
    "papermill": {
     "duration": 0.169929,
     "end_time": "2023-06-10T15:13:51.155368",
     "exception": false,
     "start_time": "2023-06-10T15:13:50.985439",
     "status": "completed"
    },
    "tags": []
   },
   "outputs": [
    {
     "name": "stdout",
     "output_type": "stream",
     "text": [
      "2022-06-18\n",
      "2022-11-29\n"
     ]
    }
   ],
   "source": [
    "print(df1['Date'].min())\n",
    "print(df1['Date'].max())"
   ]
  },
  {
   "cell_type": "markdown",
   "id": "fb6aaed0",
   "metadata": {
    "papermill": {
     "duration": 0.013382,
     "end_time": "2023-06-10T15:13:51.182779",
     "exception": false,
     "start_time": "2023-06-10T15:13:51.169397",
     "status": "completed"
    },
    "tags": []
   },
   "source": [
    "# For June"
   ]
  },
  {
   "cell_type": "code",
   "execution_count": 19,
   "id": "5c10f6ea",
   "metadata": {
    "execution": {
     "iopub.execute_input": "2023-06-10T15:13:51.211855Z",
     "iopub.status.busy": "2023-06-10T15:13:51.211482Z",
     "iopub.status.idle": "2023-06-10T15:13:52.674139Z",
     "shell.execute_reply": "2023-06-10T15:13:52.673020Z"
    },
    "papermill": {
     "duration": 1.479888,
     "end_time": "2023-06-10T15:13:52.676418",
     "exception": false,
     "start_time": "2023-06-10T15:13:51.196530",
     "status": "completed"
    },
    "tags": []
   },
   "outputs": [
    {
     "data": {
      "text/plain": [
       "(array([4976., 3081., 3421., 3318., 3252., 6232., 3182., 3001., 3175.,\n",
       "        6756.]),\n",
       " array([19161. , 19162.2, 19163.4, 19164.6, 19165.8, 19167. , 19168.2,\n",
       "        19169.4, 19170.6, 19171.8, 19173. ]),\n",
       " <BarContainer object of 10 artists>)"
      ]
     },
     "execution_count": 19,
     "metadata": {},
     "output_type": "execute_result"
    },
    {
     "data": {
      "image/png": "[encoded data removed]",
      "text/plain": [
       "<Figure size 2000x1200 with 1 Axes>"
      ]
     },
     "metadata": {},
     "output_type": "display_data"
    }
   ],
   "source": [
    "plt.figure(figsize=(20,12))\n",
    "# plt.bar(df1['Date'],df1.index)\n",
    "plt.hist(df1['Date'],range=['2022-06-18','2022-06-30'])"
   ]
  },
  {
   "cell_type": "markdown",
   "id": "6b44f278",
   "metadata": {
    "papermill": {
     "duration": 0.013876,
     "end_time": "2023-06-10T15:13:52.704478",
     "exception": false,
     "start_time": "2023-06-10T15:13:52.690602",
     "status": "completed"
    },
    "tags": []
   },
   "source": [
    "# For July"
   ]
  },
  {
   "cell_type": "code",
   "execution_count": 20,
   "id": "42df0807",
   "metadata": {
    "execution": {
     "iopub.execute_input": "2023-06-10T15:13:52.734498Z",
     "iopub.status.busy": "2023-06-10T15:13:52.734135Z",
     "iopub.status.idle": "2023-06-10T15:13:54.241449Z",
     "shell.execute_reply": "2023-06-10T15:13:54.240337Z"
    },
    "papermill": {
     "duration": 1.525204,
     "end_time": "2023-06-10T15:13:54.243851",
     "exception": false,
     "start_time": "2023-06-10T15:13:52.718647",
     "status": "completed"
    },
    "tags": []
   },
   "outputs": [
    {
     "data": {
      "text/plain": [
       "(array([3328., 3329., 3193., 3068., 3162., 3339., 3385., 3338., 3268.,\n",
       "        3201., 3308., 4266., 3804., 3748., 3619., 3533., 3415., 3391.,\n",
       "        3275., 3321., 3268., 3584., 3422., 3365., 3265., 3433., 3500.,\n",
       "        3302., 3478., 3356., 3322.]),\n",
       " array([19174.        , 19174.96774194, 19175.93548387, 19176.90322581,\n",
       "        19177.87096774, 19178.83870968, 19179.80645161, 19180.77419355,\n",
       "        19181.74193548, 19182.70967742, 19183.67741935, 19184.64516129,\n",
       "        19185.61290323, 19186.58064516, 19187.5483871 , 19188.51612903,\n",
       "        19189.48387097, 19190.4516129 , 19191.41935484, 19192.38709677,\n",
       "        19193.35483871, 19194.32258065, 19195.29032258, 19196.25806452,\n",
       "        19197.22580645, 19198.19354839, 19199.16129032, 19200.12903226,\n",
       "        19201.09677419, 19202.06451613, 19203.03225806, 19204.        ]),\n",
       " <BarContainer object of 31 artists>)"
      ]
     },
     "execution_count": 20,
     "metadata": {},
     "output_type": "execute_result"
    },
    {
     "data": {
      "image/png": "[encoded data removed]",
      "text/plain": [
       "<Figure size 2000x1200 with 1 Axes>"
      ]
     },
     "metadata": {},
     "output_type": "display_data"
    }
   ],
   "source": [
    "plt.figure(figsize=(20,12))\n",
    "# plt.bar(df1['Date'],df1.index)\n",
    "plt.hist(df1['Date'],range=['2022-07-01','2022-07-31'],bins=31)"
   ]
  },
  {
   "cell_type": "markdown",
   "id": "bd15c7b4",
   "metadata": {
    "papermill": {
     "duration": 0.014991,
     "end_time": "2023-06-10T15:13:54.274159",
     "exception": false,
     "start_time": "2023-06-10T15:13:54.259168",
     "status": "completed"
    },
    "tags": []
   },
   "source": [
    "# For August"
   ]
  },
  {
   "cell_type": "code",
   "execution_count": 21,
   "id": "2c331939",
   "metadata": {
    "execution": {
     "iopub.execute_input": "2023-06-10T15:13:54.306482Z",
     "iopub.status.busy": "2023-06-10T15:13:54.306083Z",
     "iopub.status.idle": "2023-06-10T15:13:55.914037Z",
     "shell.execute_reply": "2023-06-10T15:13:55.913180Z"
    },
    "papermill": {
     "duration": 1.626984,
     "end_time": "2023-06-10T15:13:55.916280",
     "exception": false,
     "start_time": "2023-06-10T15:13:54.289296",
     "status": "completed"
    },
    "tags": []
   },
   "outputs": [
    {
     "data": {
      "text/plain": [
       "(array([3356., 3654., 3250., 3045., 3279., 3071., 2941., 3257., 3018.,\n",
       "        2917., 2891., 2936., 2932., 3351., 3384., 2539., 2646., 2743.,\n",
       "        2915., 2968., 2879., 2748., 2769., 2864., 2627., 2811., 2818.,\n",
       "        2908., 2779., 2803., 5264.]),\n",
       " array([19205.        , 19205.96774194, 19206.93548387, 19207.90322581,\n",
       "        19208.87096774, 19209.83870968, 19210.80645161, 19211.77419355,\n",
       "        19212.74193548, 19213.70967742, 19214.67741935, 19215.64516129,\n",
       "        19216.61290323, 19217.58064516, 19218.5483871 , 19219.51612903,\n",
       "        19220.48387097, 19221.4516129 , 19222.41935484, 19223.38709677,\n",
       "        19224.35483871, 19225.32258065, 19226.29032258, 19227.25806452,\n",
       "        19228.22580645, 19229.19354839, 19230.16129032, 19231.12903226,\n",
       "        19232.09677419, 19233.06451613, 19234.03225806, 19235.        ]),\n",
       " <BarContainer object of 31 artists>)"
      ]
     },
     "execution_count": 21,
     "metadata": {},
     "output_type": "execute_result"
    },
    {
     "data": {
      "image/png": "[encoded data removed]",
      "text/plain": [
       "<Figure size 2000x1200 with 1 Axes>"
      ]
     },
     "metadata": {},
     "output_type": "display_data"
    }
   ],
   "source": [
    "import matplotlib.pyplot as plt\n",
    "plt.figure(figsize=(20,12))\n",
    "# plt.bar(df1['Date'],df1.index)\n",
    "plt.hist(df1['Date'],range=['2022-08-01','2022-08-31'],bins=31)"
   ]
  },
  {
   "cell_type": "markdown",
   "id": "60870c8f",
   "metadata": {
    "papermill": {
     "duration": 0.015644,
     "end_time": "2023-06-10T15:13:55.947564",
     "exception": false,
     "start_time": "2023-06-10T15:13:55.931920",
     "status": "completed"
    },
    "tags": []
   },
   "source": [
    "# For September"
   ]
  },
  {
   "cell_type": "code",
   "execution_count": 22,
   "id": "d30af9a7",
   "metadata": {
    "execution": {
     "iopub.execute_input": "2023-06-10T15:13:55.981334Z",
     "iopub.status.busy": "2023-06-10T15:13:55.980573Z",
     "iopub.status.idle": "2023-06-10T15:13:57.483101Z",
     "shell.execute_reply": "2023-06-10T15:13:57.482277Z"
    },
    "papermill": {
     "duration": 1.521562,
     "end_time": "2023-06-10T15:13:57.485356",
     "exception": false,
     "start_time": "2023-06-10T15:13:55.963794",
     "status": "completed"
    },
    "tags": []
   },
   "outputs": [
    {
     "data": {
      "text/plain": [
       "(array([3904., 4086., 3600., 3215., 2982., 2772., 2692., 2636., 2671.,\n",
       "        2616., 2701., 2612., 2417., 2401., 2435., 2507., 2792., 2996.,\n",
       "        2375., 2319., 2304., 2271., 2232., 2358., 2445., 2221., 2262.,\n",
       "        2067., 2116., 2223.]),\n",
       " array([19236.        , 19236.96666667, 19237.93333333, 19238.9       ,\n",
       "        19239.86666667, 19240.83333333, 19241.8       , 19242.76666667,\n",
       "        19243.73333333, 19244.7       , 19245.66666667, 19246.63333333,\n",
       "        19247.6       , 19248.56666667, 19249.53333333, 19250.5       ,\n",
       "        19251.46666667, 19252.43333333, 19253.4       , 19254.36666667,\n",
       "        19255.33333333, 19256.3       , 19257.26666667, 19258.23333333,\n",
       "        19259.2       , 19260.16666667, 19261.13333333, 19262.1       ,\n",
       "        19263.06666667, 19264.03333333, 19265.        ]),\n",
       " <BarContainer object of 30 artists>)"
      ]
     },
     "execution_count": 22,
     "metadata": {},
     "output_type": "execute_result"
    },
    {
     "data": {
      "image/png": "[encoded data removed]",
      "text/plain": [
       "<Figure size 2000x1200 with 1 Axes>"
      ]
     },
     "metadata": {},
     "output_type": "display_data"
    }
   ],
   "source": [
    "plt.figure(figsize=(20,12))\n",
    "# plt.bar(df1['Date'],df1.index)\n",
    "plt.hist(df1['Date'],range=['2022-09-01','2022-09-30'],bins=30)"
   ]
  },
  {
   "cell_type": "markdown",
   "id": "ba2beaae",
   "metadata": {
    "papermill": {
     "duration": 0.01613,
     "end_time": "2023-06-10T15:13:57.518081",
     "exception": false,
     "start_time": "2023-06-10T15:13:57.501951",
     "status": "completed"
    },
    "tags": []
   },
   "source": [
    "# For October"
   ]
  },
  {
   "cell_type": "code",
   "execution_count": 23,
   "id": "d6faae17",
   "metadata": {
    "execution": {
     "iopub.execute_input": "2023-06-10T15:13:57.552722Z",
     "iopub.status.busy": "2023-06-10T15:13:57.551687Z",
     "iopub.status.idle": "2023-06-10T15:13:58.998648Z",
     "shell.execute_reply": "2023-06-10T15:13:58.997482Z"
    },
    "papermill": {
     "duration": 1.466649,
     "end_time": "2023-06-10T15:13:59.000965",
     "exception": false,
     "start_time": "2023-06-10T15:13:57.534316",
     "status": "completed"
    },
    "tags": []
   },
   "outputs": [
    {
     "data": {
      "text/plain": [
       "(array([2339., 2469., 2301., 2159., 2216., 2156., 2242., 3115., 2458.,\n",
       "        2276., 2050., 2136., 2042., 2183., 2260., 2386., 2194., 2043.,\n",
       "        2043., 2174., 2239., 2231., 2321., 2033., 2184., 2060., 2187.,\n",
       "        2218., 2456., 2484., 2176.]),\n",
       " array([19266.        , 19266.96774194, 19267.93548387, 19268.90322581,\n",
       "        19269.87096774, 19270.83870968, 19271.80645161, 19272.77419355,\n",
       "        19273.74193548, 19274.70967742, 19275.67741935, 19276.64516129,\n",
       "        19277.61290323, 19278.58064516, 19279.5483871 , 19280.51612903,\n",
       "        19281.48387097, 19282.4516129 , 19283.41935484, 19284.38709677,\n",
       "        19285.35483871, 19286.32258065, 19287.29032258, 19288.25806452,\n",
       "        19289.22580645, 19290.19354839, 19291.16129032, 19292.12903226,\n",
       "        19293.09677419, 19294.06451613, 19295.03225806, 19296.        ]),\n",
       " [<matplotlib.patches.Polygon at 0x78c4bf2db2b0>])"
      ]
     },
     "execution_count": 23,
     "metadata": {},
     "output_type": "execute_result"
    },
    {
     "data": {
      "image/png": "[encoded data removed]",
      "text/plain": [
       "<Figure size 2000x1200 with 1 Axes>"
      ]
     },
     "metadata": {},
     "output_type": "display_data"
    }
   ],
   "source": [
    "plt.figure(figsize=(20,12))\n",
    "# plt.bar(df1['Date'],df1.index)\n",
    "plt.hist(df1['Date'],range=['2022-10-01','2022-10-31'],bins=31,histtype='stepfilled')"
   ]
  },
  {
   "cell_type": "markdown",
   "id": "d74f77cf",
   "metadata": {
    "papermill": {
     "duration": 0.016776,
     "end_time": "2023-06-10T15:13:59.034963",
     "exception": false,
     "start_time": "2023-06-10T15:13:59.018187",
     "status": "completed"
    },
    "tags": []
   },
   "source": [
    "# For November"
   ]
  },
  {
   "cell_type": "code",
   "execution_count": 24,
   "id": "93676738",
   "metadata": {
    "execution": {
     "iopub.execute_input": "2023-06-10T15:13:59.072164Z",
     "iopub.status.busy": "2023-06-10T15:13:59.071716Z",
     "iopub.status.idle": "2023-06-10T15:14:00.567468Z",
     "shell.execute_reply": "2023-06-10T15:14:00.566357Z"
    },
    "papermill": {
     "duration": 1.517547,
     "end_time": "2023-06-10T15:14:00.569886",
     "exception": false,
     "start_time": "2023-06-10T15:13:59.052339",
     "status": "completed"
    },
    "tags": []
   },
   "outputs": [
    {
     "data": {
      "text/plain": [
       "(array([2177., 2056., 2132., 2518., 2431., 2396., 2236., 2248., 2275.,\n",
       "        2215., 2300., 2420., 2419., 2177., 2262., 2199., 2084., 2399.,\n",
       "        3005., 3420., 2667., 2482., 2451., 2856., 2974., 2730., 2589.,\n",
       "        2450., 2301.]),\n",
       " array([19297.        , 19297.96551724, 19298.93103448, 19299.89655172,\n",
       "        19300.86206897, 19301.82758621, 19302.79310345, 19303.75862069,\n",
       "        19304.72413793, 19305.68965517, 19306.65517241, 19307.62068966,\n",
       "        19308.5862069 , 19309.55172414, 19310.51724138, 19311.48275862,\n",
       "        19312.44827586, 19313.4137931 , 19314.37931034, 19315.34482759,\n",
       "        19316.31034483, 19317.27586207, 19318.24137931, 19319.20689655,\n",
       "        19320.17241379, 19321.13793103, 19322.10344828, 19323.06896552,\n",
       "        19324.03448276, 19325.        ]),\n",
       " <BarContainer object of 29 artists>)"
      ]
     },
     "execution_count": 24,
     "metadata": {},
     "output_type": "execute_result"
    },
    {
     "data": {
      "image/png": "[encoded data removed]",
      "text/plain": [
       "<Figure size 2000x1200 with 1 Axes>"
      ]
     },
     "metadata": {},
     "output_type": "display_data"
    }
   ],
   "source": [
    "plt.figure(figsize=(20,12))\n",
    "# plt.bar(df1['Date'],df1.index)\n",
    "plt.hist(df1['Date'],range=['2022-11-01','2022-11-29'],bins=29)"
   ]
  },
  {
   "cell_type": "code",
   "execution_count": 25,
   "id": "b4d844c7",
   "metadata": {
    "execution": {
     "iopub.execute_input": "2023-06-10T15:14:00.606825Z",
     "iopub.status.busy": "2023-06-10T15:14:00.606187Z",
     "iopub.status.idle": "2023-06-10T15:14:01.886249Z",
     "shell.execute_reply": "2023-06-10T15:14:01.884965Z"
    },
    "papermill": {
     "duration": 1.302025,
     "end_time": "2023-06-10T15:14:01.889283",
     "exception": false,
     "start_time": "2023-06-10T15:14:00.587258",
     "status": "completed"
    },
    "tags": []
   },
   "outputs": [],
   "source": [
    "import seaborn as sns\n"
   ]
  },
  {
   "cell_type": "code",
   "execution_count": 26,
   "id": "ad823d01",
   "metadata": {
    "execution": {
     "iopub.execute_input": "2023-06-10T15:14:01.926153Z",
     "iopub.status.busy": "2023-06-10T15:14:01.925735Z",
     "iopub.status.idle": "2023-06-10T15:14:03.390165Z",
     "shell.execute_reply": "2023-06-10T15:14:03.389178Z"
    },
    "papermill": {
     "duration": 1.485632,
     "end_time": "2023-06-10T15:14:03.392523",
     "exception": false,
     "start_time": "2023-06-10T15:14:01.906891",
     "status": "completed"
    },
    "tags": []
   },
   "outputs": [
    {
     "data": {
      "text/plain": [
       "[<matplotlib.lines.Line2D at 0x78c49a0ac580>]"
      ]
     },
     "execution_count": 26,
     "metadata": {},
     "output_type": "execute_result"
    },
    {
     "data": {
      "image/png": "[encoded data removed]",
      "text/plain": [
       "<Figure size 2000x800 with 1 Axes>"
      ]
     },
     "metadata": {},
     "output_type": "display_data"
    }
   ],
   "source": [
    "import matplotlib.pyplot as plt\n",
    "plt.figure(figsize=(20,8))\n",
    "plt.plot(df1['Date'],df1.index)"
   ]
  },
  {
   "cell_type": "code",
   "execution_count": null,
   "id": "ff359ed9",
   "metadata": {
    "papermill": {
     "duration": 0.018198,
     "end_time": "2023-06-10T15:14:03.429308",
     "exception": false,
     "start_time": "2023-06-10T15:14:03.411110",
     "status": "completed"
    },
    "tags": []
   },
   "outputs": [],
   "source": []
  }
 ],
 "metadata": {
  "kernelspec": {
   "display_name": "Python 3",
   "language": "python",
   "name": "python3"
  },
  "language_info": {
   "codemirror_mode": {
    "name": "ipython",
    "version": 3
   },
   "file_extension": ".py",
   "mimetype": "text/x-python",
   "name": "python",
   "nbconvert_exporter": "python",
   "pygments_lexer": "ipython3",
   "version": "3.10.10"
  },
  "papermill": {
   "default_parameters": {},
   "duration": 35.840164,
   "end_time": "2023-06-10T15:14:04.569888",
   "environment_variables": {},
   "exception": null,
   "input_path": "__notebook__.ipynb",
   "output_path": "__notebook__.ipynb",
   "parameters": {},
   "start_time": "2023-06-10T15:13:28.729724",
   "version": "2.4.0"
  }
 },
 "nbformat": 4,
 "nbformat_minor": 5
}
