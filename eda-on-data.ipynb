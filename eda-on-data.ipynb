{
 "cells": [
  {
   "cell_type": "code",
   "execution_count": 1,
   "id": "671582f2",
   "metadata": {
    "_cell_guid": "b1076dfc-b9ad-4769-8c92-a6c4dae69d19",
    "_uuid": "8f2839f25d086af736a60e9eeb907d3b93b6e0e5",
    "execution": {
     "iopub.execute_input": "2023-04-23T17:17:24.679008Z",
     "iopub.status.busy": "2023-04-23T17:17:24.678589Z",
     "iopub.status.idle": "2023-04-23T17:17:24.696010Z",
     "shell.execute_reply": "2023-04-23T17:17:24.694243Z"
    },
    "papermill": {
     "duration": 0.027264,
     "end_time": "2023-04-23T17:17:24.698760",
     "exception": false,
     "start_time": "2023-04-23T17:17:24.671496",
     "status": "completed"
    },
    "tags": []
   },
   "outputs": [
    {
     "name": "stdout",
     "output_type": "stream",
     "text": [
      "/kaggle/input/wheat-cultivation-data-for-districts-of-india/Wheat.csv\n"
     ]
    }
   ],
   "source": [
    "# This Python 3 environment comes with many helpful analytics libraries installed\n",
    "# It is defined by the kaggle/python Docker image: https://github.com/kaggle/docker-python\n",
    "# For example, here's several helpful packages to load\n",
    "\n",
    "import numpy as np # linear algebra\n",
    "import pandas as pd # data processing, CSV file I/O (e.g. pd.read_csv)\n",
    "\n",
    "# Input data files are available in the read-only \"../input/\" directory\n",
    "# For example, running this (by clicking run or pressing Shift+Enter) will list all files under the input directory\n",
    "\n",
    "import os\n",
    "for dirname, _, filenames in os.walk('/kaggle/input'):\n",
    "    for filename in filenames:\n",
    "        print(os.path.join(dirname, filename))\n",
    "\n",
    "# You can write up to 20GB to the current directory (/kaggle/working/) that gets preserved as output when you create a version using \"Save & Run All\" \n",
    "# You can also write temporary files to /kaggle/temp/, but they won't be saved outside of the current session"
   ]
  },
  {
   "cell_type": "code",
   "execution_count": null,
   "id": "c6690b9a",
   "metadata": {
    "papermill": {
     "duration": 0.003991,
     "end_time": "2023-04-23T17:17:24.707050",
     "exception": false,
     "start_time": "2023-04-23T17:17:24.703059",
     "status": "completed"
    },
    "tags": []
   },
   "outputs": [],
   "source": []
  },
  {
   "cell_type": "code",
   "execution_count": 2,
   "id": "729ac938",
   "metadata": {
    "execution": {
     "iopub.execute_input": "2023-04-23T17:17:24.717379Z",
     "iopub.status.busy": "2023-04-23T17:17:24.716620Z",
     "iopub.status.idle": "2023-04-23T17:17:24.774708Z",
     "shell.execute_reply": "2023-04-23T17:17:24.773265Z"
    },
    "papermill": {
     "duration": 0.066879,
     "end_time": "2023-04-23T17:17:24.777849",
     "exception": false,
     "start_time": "2023-04-23T17:17:24.710970",
     "status": "completed"
    },
    "tags": []
   },
   "outputs": [],
   "source": [
    "df = pd.read_csv('/kaggle/input/wheat-cultivation-data-for-districts-of-india/Wheat.csv')"
   ]
  },
  {
   "cell_type": "code",
   "execution_count": 3,
   "id": "ffd2004f",
   "metadata": {
    "execution": {
     "iopub.execute_input": "2023-04-23T17:17:24.788085Z",
     "iopub.status.busy": "2023-04-23T17:17:24.787652Z",
     "iopub.status.idle": "2023-04-23T17:17:24.822191Z",
     "shell.execute_reply": "2023-04-23T17:17:24.820401Z"
    },
    "papermill": {
     "duration": 0.043131,
     "end_time": "2023-04-23T17:17:24.825043",
     "exception": false,
     "start_time": "2023-04-23T17:17:24.781912",
     "status": "completed"
    },
    "tags": []
   },
   "outputs": [
    {
     "data": {
      "text/html": [
       "<div>\n",
       "<style scoped>\n",
       "    .dataframe tbody tr th:only-of-type {\n",
       "        vertical-align: middle;\n",
       "    }\n",
       "\n",
       "    .dataframe tbody tr th {\n",
       "        vertical-align: top;\n",
       "    }\n",
       "\n",
       "    .dataframe thead th {\n",
       "        text-align: right;\n",
       "    }\n",
       "</style>\n",
       "<table border=\"1\" class=\"dataframe\">\n",
       "  <thead>\n",
       "    <tr style=\"text-align: right;\">\n",
       "      <th></th>\n",
       "      <th>Dist Code</th>\n",
       "      <th>Year</th>\n",
       "      <th>State Code</th>\n",
       "      <th>State Name</th>\n",
       "      <th>Dist Name</th>\n",
       "      <th>WHEAT AREA (1000 ha)</th>\n",
       "      <th>WHEAT PRODUCTION (1000 tons)</th>\n",
       "      <th>WHEAT YIELD (Kg per ha)</th>\n",
       "    </tr>\n",
       "  </thead>\n",
       "  <tbody>\n",
       "    <tr>\n",
       "      <th>0</th>\n",
       "      <td>1</td>\n",
       "      <td>1966</td>\n",
       "      <td>14</td>\n",
       "      <td>Chhattisgarh</td>\n",
       "      <td>Durg</td>\n",
       "      <td>44.0</td>\n",
       "      <td>20.0</td>\n",
       "      <td>454.55</td>\n",
       "    </tr>\n",
       "    <tr>\n",
       "      <th>1</th>\n",
       "      <td>1</td>\n",
       "      <td>1967</td>\n",
       "      <td>14</td>\n",
       "      <td>Chhattisgarh</td>\n",
       "      <td>Durg</td>\n",
       "      <td>50.0</td>\n",
       "      <td>26.0</td>\n",
       "      <td>520.00</td>\n",
       "    </tr>\n",
       "    <tr>\n",
       "      <th>2</th>\n",
       "      <td>1</td>\n",
       "      <td>1968</td>\n",
       "      <td>14</td>\n",
       "      <td>Chhattisgarh</td>\n",
       "      <td>Durg</td>\n",
       "      <td>53.7</td>\n",
       "      <td>30.0</td>\n",
       "      <td>558.66</td>\n",
       "    </tr>\n",
       "    <tr>\n",
       "      <th>3</th>\n",
       "      <td>1</td>\n",
       "      <td>1969</td>\n",
       "      <td>14</td>\n",
       "      <td>Chhattisgarh</td>\n",
       "      <td>Durg</td>\n",
       "      <td>49.4</td>\n",
       "      <td>26.5</td>\n",
       "      <td>536.44</td>\n",
       "    </tr>\n",
       "    <tr>\n",
       "      <th>4</th>\n",
       "      <td>1</td>\n",
       "      <td>1970</td>\n",
       "      <td>14</td>\n",
       "      <td>Chhattisgarh</td>\n",
       "      <td>Durg</td>\n",
       "      <td>44.2</td>\n",
       "      <td>29.0</td>\n",
       "      <td>656.11</td>\n",
       "    </tr>\n",
       "  </tbody>\n",
       "</table>\n",
       "</div>"
      ],
      "text/plain": [
       "   Dist Code  Year  State Code    State Name Dist Name  WHEAT AREA (1000 ha)  \\\n",
       "0          1  1966          14  Chhattisgarh      Durg                  44.0   \n",
       "1          1  1967          14  Chhattisgarh      Durg                  50.0   \n",
       "2          1  1968          14  Chhattisgarh      Durg                  53.7   \n",
       "3          1  1969          14  Chhattisgarh      Durg                  49.4   \n",
       "4          1  1970          14  Chhattisgarh      Durg                  44.2   \n",
       "\n",
       "   WHEAT PRODUCTION (1000 tons)  WHEAT YIELD (Kg per ha)  \n",
       "0                          20.0                   454.55  \n",
       "1                          26.0                   520.00  \n",
       "2                          30.0                   558.66  \n",
       "3                          26.5                   536.44  \n",
       "4                          29.0                   656.11  "
      ]
     },
     "execution_count": 3,
     "metadata": {},
     "output_type": "execute_result"
    }
   ],
   "source": [
    "df.head()"
   ]
  },
  {
   "cell_type": "code",
   "execution_count": 4,
   "id": "f59f8e62",
   "metadata": {
    "execution": {
     "iopub.execute_input": "2023-04-23T17:17:24.837109Z",
     "iopub.status.busy": "2023-04-23T17:17:24.836623Z",
     "iopub.status.idle": "2023-04-23T17:17:24.844782Z",
     "shell.execute_reply": "2023-04-23T17:17:24.843287Z"
    },
    "papermill": {
     "duration": 0.017897,
     "end_time": "2023-04-23T17:17:24.848094",
     "exception": false,
     "start_time": "2023-04-23T17:17:24.830197",
     "status": "completed"
    },
    "tags": []
   },
   "outputs": [
    {
     "data": {
      "text/plain": [
       "(16146, 8)"
      ]
     },
     "execution_count": 4,
     "metadata": {},
     "output_type": "execute_result"
    }
   ],
   "source": [
    "df.shape"
   ]
  },
  {
   "cell_type": "code",
   "execution_count": 5,
   "id": "a2c09319",
   "metadata": {
    "execution": {
     "iopub.execute_input": "2023-04-23T17:17:24.859158Z",
     "iopub.status.busy": "2023-04-23T17:17:24.858715Z",
     "iopub.status.idle": "2023-04-23T17:17:24.872515Z",
     "shell.execute_reply": "2023-04-23T17:17:24.871110Z"
    },
    "papermill": {
     "duration": 0.022953,
     "end_time": "2023-04-23T17:17:24.875650",
     "exception": false,
     "start_time": "2023-04-23T17:17:24.852697",
     "status": "completed"
    },
    "tags": []
   },
   "outputs": [
    {
     "data": {
      "text/plain": [
       "Dist Code                       0\n",
       "Year                            0\n",
       "State Code                      0\n",
       "State Name                      0\n",
       "Dist Name                       0\n",
       "WHEAT AREA (1000 ha)            0\n",
       "WHEAT PRODUCTION (1000 tons)    0\n",
       "WHEAT YIELD (Kg per ha)         0\n",
       "dtype: int64"
      ]
     },
     "execution_count": 5,
     "metadata": {},
     "output_type": "execute_result"
    }
   ],
   "source": [
    "df.isnull().sum()"
   ]
  },
  {
   "cell_type": "code",
   "execution_count": 6,
   "id": "d72e1b24",
   "metadata": {
    "execution": {
     "iopub.execute_input": "2023-04-23T17:17:24.888129Z",
     "iopub.status.busy": "2023-04-23T17:17:24.887299Z",
     "iopub.status.idle": "2023-04-23T17:17:24.938715Z",
     "shell.execute_reply": "2023-04-23T17:17:24.937281Z"
    },
    "papermill": {
     "duration": 0.061073,
     "end_time": "2023-04-23T17:17:24.941759",
     "exception": false,
     "start_time": "2023-04-23T17:17:24.880686",
     "status": "completed"
    },
    "tags": []
   },
   "outputs": [
    {
     "data": {
      "text/html": [
       "<div>\n",
       "<style scoped>\n",
       "    .dataframe tbody tr th:only-of-type {\n",
       "        vertical-align: middle;\n",
       "    }\n",
       "\n",
       "    .dataframe tbody tr th {\n",
       "        vertical-align: top;\n",
       "    }\n",
       "\n",
       "    .dataframe thead th {\n",
       "        text-align: right;\n",
       "    }\n",
       "</style>\n",
       "<table border=\"1\" class=\"dataframe\">\n",
       "  <thead>\n",
       "    <tr style=\"text-align: right;\">\n",
       "      <th></th>\n",
       "      <th>Dist Code</th>\n",
       "      <th>Year</th>\n",
       "      <th>State Code</th>\n",
       "      <th>WHEAT AREA (1000 ha)</th>\n",
       "      <th>WHEAT PRODUCTION (1000 tons)</th>\n",
       "      <th>WHEAT YIELD (Kg per ha)</th>\n",
       "    </tr>\n",
       "  </thead>\n",
       "  <tbody>\n",
       "    <tr>\n",
       "      <th>count</th>\n",
       "      <td>16146.000000</td>\n",
       "      <td>16146.000000</td>\n",
       "      <td>16146.000000</td>\n",
       "      <td>16146.000000</td>\n",
       "      <td>16146.000000</td>\n",
       "      <td>16146.000000</td>\n",
       "    </tr>\n",
       "    <tr>\n",
       "      <th>mean</th>\n",
       "      <td>269.769231</td>\n",
       "      <td>1991.496841</td>\n",
       "      <td>9.568562</td>\n",
       "      <td>77.057946</td>\n",
       "      <td>182.012746</td>\n",
       "      <td>1492.419859</td>\n",
       "    </tr>\n",
       "    <tr>\n",
       "      <th>std</th>\n",
       "      <td>278.309125</td>\n",
       "      <td>15.011185</td>\n",
       "      <td>4.988538</td>\n",
       "      <td>100.394479</td>\n",
       "      <td>348.834254</td>\n",
       "      <td>1081.255367</td>\n",
       "    </tr>\n",
       "    <tr>\n",
       "      <th>min</th>\n",
       "      <td>1.000000</td>\n",
       "      <td>1966.000000</td>\n",
       "      <td>1.000000</td>\n",
       "      <td>-1.000000</td>\n",
       "      <td>-1.000000</td>\n",
       "      <td>-1.000000</td>\n",
       "    </tr>\n",
       "    <tr>\n",
       "      <th>25%</th>\n",
       "      <td>78.000000</td>\n",
       "      <td>1978.000000</td>\n",
       "      <td>6.000000</td>\n",
       "      <td>1.770000</td>\n",
       "      <td>2.000000</td>\n",
       "      <td>750.000000</td>\n",
       "    </tr>\n",
       "    <tr>\n",
       "      <th>50%</th>\n",
       "      <td>156.000000</td>\n",
       "      <td>1991.000000</td>\n",
       "      <td>10.000000</td>\n",
       "      <td>36.800000</td>\n",
       "      <td>42.700000</td>\n",
       "      <td>1347.450000</td>\n",
       "    </tr>\n",
       "    <tr>\n",
       "      <th>75%</th>\n",
       "      <td>241.000000</td>\n",
       "      <td>2005.000000</td>\n",
       "      <td>12.000000</td>\n",
       "      <td>123.000000</td>\n",
       "      <td>215.192500</td>\n",
       "      <td>2131.580000</td>\n",
       "    </tr>\n",
       "    <tr>\n",
       "      <th>max</th>\n",
       "      <td>917.000000</td>\n",
       "      <td>2017.000000</td>\n",
       "      <td>20.000000</td>\n",
       "      <td>879.490000</td>\n",
       "      <td>4305.500000</td>\n",
       "      <td>5541.520000</td>\n",
       "    </tr>\n",
       "  </tbody>\n",
       "</table>\n",
       "</div>"
      ],
      "text/plain": [
       "          Dist Code          Year    State Code  WHEAT AREA (1000 ha)  \\\n",
       "count  16146.000000  16146.000000  16146.000000          16146.000000   \n",
       "mean     269.769231   1991.496841      9.568562             77.057946   \n",
       "std      278.309125     15.011185      4.988538            100.394479   \n",
       "min        1.000000   1966.000000      1.000000             -1.000000   \n",
       "25%       78.000000   1978.000000      6.000000              1.770000   \n",
       "50%      156.000000   1991.000000     10.000000             36.800000   \n",
       "75%      241.000000   2005.000000     12.000000            123.000000   \n",
       "max      917.000000   2017.000000     20.000000            879.490000   \n",
       "\n",
       "       WHEAT PRODUCTION (1000 tons)  WHEAT YIELD (Kg per ha)  \n",
       "count                  16146.000000             16146.000000  \n",
       "mean                     182.012746              1492.419859  \n",
       "std                      348.834254              1081.255367  \n",
       "min                       -1.000000                -1.000000  \n",
       "25%                        2.000000               750.000000  \n",
       "50%                       42.700000              1347.450000  \n",
       "75%                      215.192500              2131.580000  \n",
       "max                     4305.500000              5541.520000  "
      ]
     },
     "execution_count": 6,
     "metadata": {},
     "output_type": "execute_result"
    }
   ],
   "source": [
    "df.describe()"
   ]
  },
  {
   "cell_type": "code",
   "execution_count": 7,
   "id": "5d0b5400",
   "metadata": {
    "execution": {
     "iopub.execute_input": "2023-04-23T17:17:24.954309Z",
     "iopub.status.busy": "2023-04-23T17:17:24.953830Z",
     "iopub.status.idle": "2023-04-23T17:17:24.975100Z",
     "shell.execute_reply": "2023-04-23T17:17:24.973163Z"
    },
    "papermill": {
     "duration": 0.030971,
     "end_time": "2023-04-23T17:17:24.977963",
     "exception": false,
     "start_time": "2023-04-23T17:17:24.946992",
     "status": "completed"
    },
    "tags": []
   },
   "outputs": [
    {
     "name": "stdout",
     "output_type": "stream",
     "text": [
      "<class 'pandas.core.frame.DataFrame'>\n",
      "RangeIndex: 16146 entries, 0 to 16145\n",
      "Data columns (total 8 columns):\n",
      " #   Column                        Non-Null Count  Dtype  \n",
      "---  ------                        --------------  -----  \n",
      " 0   Dist Code                     16146 non-null  int64  \n",
      " 1   Year                          16146 non-null  int64  \n",
      " 2   State Code                    16146 non-null  int64  \n",
      " 3   State Name                    16146 non-null  object \n",
      " 4   Dist Name                     16146 non-null  object \n",
      " 5   WHEAT AREA (1000 ha)          16146 non-null  float64\n",
      " 6   WHEAT PRODUCTION (1000 tons)  16146 non-null  float64\n",
      " 7   WHEAT YIELD (Kg per ha)       16146 non-null  float64\n",
      "dtypes: float64(3), int64(3), object(2)\n",
      "memory usage: 1009.2+ KB\n"
     ]
    }
   ],
   "source": [
    "df.info()"
   ]
  },
  {
   "cell_type": "code",
   "execution_count": 8,
   "id": "2702ec6e",
   "metadata": {
    "execution": {
     "iopub.execute_input": "2023-04-23T17:17:24.991422Z",
     "iopub.status.busy": "2023-04-23T17:17:24.990060Z",
     "iopub.status.idle": "2023-04-23T17:17:25.013120Z",
     "shell.execute_reply": "2023-04-23T17:17:25.011536Z"
    },
    "papermill": {
     "duration": 0.03325,
     "end_time": "2023-04-23T17:17:25.016527",
     "exception": false,
     "start_time": "2023-04-23T17:17:24.983277",
     "status": "completed"
    },
    "tags": []
   },
   "outputs": [
    {
     "data": {
      "text/plain": [
       "0"
      ]
     },
     "execution_count": 8,
     "metadata": {},
     "output_type": "execute_result"
    }
   ],
   "source": [
    "df.duplicated().sum()"
   ]
  },
  {
   "cell_type": "code",
   "execution_count": 9,
   "id": "095d3c78",
   "metadata": {
    "execution": {
     "iopub.execute_input": "2023-04-23T17:17:25.029287Z",
     "iopub.status.busy": "2023-04-23T17:17:25.028845Z",
     "iopub.status.idle": "2023-04-23T17:17:25.044739Z",
     "shell.execute_reply": "2023-04-23T17:17:25.043078Z"
    },
    "papermill": {
     "duration": 0.025473,
     "end_time": "2023-04-23T17:17:25.047429",
     "exception": false,
     "start_time": "2023-04-23T17:17:25.021956",
     "status": "completed"
    },
    "tags": []
   },
   "outputs": [
    {
     "data": {
      "text/plain": [
       "Dist Code                       0.018903\n",
       "Year                            0.375423\n",
       "State Code                     -0.112844\n",
       "WHEAT AREA (1000 ha)            0.617361\n",
       "WHEAT PRODUCTION (1000 tons)    0.686862\n",
       "WHEAT YIELD (Kg per ha)         1.000000\n",
       "Name: WHEAT YIELD (Kg per ha), dtype: float64"
      ]
     },
     "execution_count": 9,
     "metadata": {},
     "output_type": "execute_result"
    }
   ],
   "source": [
    "df.corr()['WHEAT YIELD (Kg per ha)']"
   ]
  },
  {
   "cell_type": "code",
   "execution_count": 10,
   "id": "cf23d1fe",
   "metadata": {
    "execution": {
     "iopub.execute_input": "2023-04-23T17:17:25.059616Z",
     "iopub.status.busy": "2023-04-23T17:17:25.059226Z",
     "iopub.status.idle": "2023-04-23T17:17:25.072701Z",
     "shell.execute_reply": "2023-04-23T17:17:25.071115Z"
    },
    "papermill": {
     "duration": 0.022597,
     "end_time": "2023-04-23T17:17:25.075123",
     "exception": false,
     "start_time": "2023-04-23T17:17:25.052526",
     "status": "completed"
    },
    "tags": []
   },
   "outputs": [
    {
     "data": {
      "text/plain": [
       "Dist Code                      -0.090333\n",
       "Year                            0.242395\n",
       "State Code                     -0.090982\n",
       "WHEAT AREA (1000 ha)            0.910643\n",
       "WHEAT PRODUCTION (1000 tons)    1.000000\n",
       "WHEAT YIELD (Kg per ha)         0.686862\n",
       "Name: WHEAT PRODUCTION (1000 tons), dtype: float64"
      ]
     },
     "execution_count": 10,
     "metadata": {},
     "output_type": "execute_result"
    }
   ],
   "source": [
    "df.corr()['WHEAT PRODUCTION (1000 tons)']"
   ]
  },
  {
   "cell_type": "code",
   "execution_count": 11,
   "id": "74cc667c",
   "metadata": {
    "execution": {
     "iopub.execute_input": "2023-04-23T17:17:25.087986Z",
     "iopub.status.busy": "2023-04-23T17:17:25.087511Z",
     "iopub.status.idle": "2023-04-23T17:17:25.100974Z",
     "shell.execute_reply": "2023-04-23T17:17:25.099527Z"
    },
    "papermill": {
     "duration": 0.023323,
     "end_time": "2023-04-23T17:17:25.103846",
     "exception": false,
     "start_time": "2023-04-23T17:17:25.080523",
     "status": "completed"
    },
    "tags": []
   },
   "outputs": [
    {
     "data": {
      "text/plain": [
       "Dist Code                      -0.109580\n",
       "Year                            0.142042\n",
       "State Code                     -0.134086\n",
       "WHEAT AREA (1000 ha)            1.000000\n",
       "WHEAT PRODUCTION (1000 tons)    0.910643\n",
       "WHEAT YIELD (Kg per ha)         0.617361\n",
       "Name: WHEAT AREA (1000 ha), dtype: float64"
      ]
     },
     "execution_count": 11,
     "metadata": {},
     "output_type": "execute_result"
    }
   ],
   "source": [
    "df.corr()['WHEAT AREA (1000 ha)']"
   ]
  },
  {
   "cell_type": "code",
   "execution_count": 12,
   "id": "7404e607",
   "metadata": {
    "execution": {
     "iopub.execute_input": "2023-04-23T17:17:25.116820Z",
     "iopub.status.busy": "2023-04-23T17:17:25.116358Z",
     "iopub.status.idle": "2023-04-23T17:17:25.129011Z",
     "shell.execute_reply": "2023-04-23T17:17:25.127958Z"
    },
    "papermill": {
     "duration": 0.022674,
     "end_time": "2023-04-23T17:17:25.131902",
     "exception": false,
     "start_time": "2023-04-23T17:17:25.109228",
     "status": "completed"
    },
    "tags": []
   },
   "outputs": [
    {
     "data": {
      "text/plain": [
       "Dist Code                       0.324730\n",
       "Year                            0.000714\n",
       "State Code                      1.000000\n",
       "WHEAT AREA (1000 ha)           -0.134086\n",
       "WHEAT PRODUCTION (1000 tons)   -0.090982\n",
       "WHEAT YIELD (Kg per ha)        -0.112844\n",
       "Name: State Code, dtype: float64"
      ]
     },
     "execution_count": 12,
     "metadata": {},
     "output_type": "execute_result"
    }
   ],
   "source": [
    "df.corr()['State Code']"
   ]
  }
 ],
 "metadata": {
  "kernelspec": {
   "display_name": "Python 3",
   "language": "python",
   "name": "python3"
  },
  "language_info": {
   "codemirror_mode": {
    "name": "ipython",
    "version": 3
   },
   "file_extension": ".py",
   "mimetype": "text/x-python",
   "name": "python",
   "nbconvert_exporter": "python",
   "pygments_lexer": "ipython3",
   "version": "3.7.12"
  },
  "papermill": {
   "default_parameters": {},
   "duration": 13.024247,
   "end_time": "2023-04-23T17:17:25.862017",
   "environment_variables": {},
   "exception": null,
   "input_path": "__notebook__.ipynb",
   "output_path": "__notebook__.ipynb",
   "parameters": {},
   "start_time": "2023-04-23T17:17:12.837770",
   "version": "2.4.0"
  }
 },
 "nbformat": 4,
 "nbformat_minor": 5
}
