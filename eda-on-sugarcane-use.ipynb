{
 "cells": [
  {
   "cell_type": "code",
   "execution_count": 1,
   "id": "f3bb7225",
   "metadata": {
    "_cell_guid": "b1076dfc-b9ad-4769-8c92-a6c4dae69d19",
    "_uuid": "8f2839f25d086af736a60e9eeb907d3b93b6e0e5",
    "execution": {
     "iopub.execute_input": "2023-06-17T17:31:46.932554Z",
     "iopub.status.busy": "2023-06-17T17:31:46.931804Z",
     "iopub.status.idle": "2023-06-17T17:31:46.954436Z",
     "shell.execute_reply": "2023-06-17T17:31:46.953224Z"
    },
    "papermill": {
     "duration": 0.032896,
     "end_time": "2023-06-17T17:31:46.957328",
     "exception": false,
     "start_time": "2023-06-17T17:31:46.924432",
     "status": "completed"
    },
    "tags": []
   },
   "outputs": [
    {
     "name": "stdout",
     "output_type": "stream",
     "text": [
      "/kaggle/input/list-of-countries-by-sugarcane-production/List of Countries by Sugarcane Production.csv\n"
     ]
    }
   ],
   "source": [
    "# This Python 3 environment comes with many helpful analytics libraries installed\n",
    "# It is defined by the kaggle/python Docker image: https://github.com/kaggle/docker-python\n",
    "# For example, here's several helpful packages to load\n",
    "\n",
    "import numpy as np # linear algebra\n",
    "import pandas as pd # data processing, CSV file I/O (e.g. pd.read_csv)\n",
    "\n",
    "# Input data files are available in the read-only \"../input/\" directory\n",
    "# For example, running this (by clicking run or pressing Shift+Enter) will list all files under the input directory\n",
    "\n",
    "import os\n",
    "for dirname, _, filenames in os.walk('/kaggle/input'):\n",
    "    for filename in filenames:\n",
    "        print(os.path.join(dirname, filename))\n",
    "\n",
    "# You can write up to 20GB to the current directory (/kaggle/working/) that gets preserved as output when you create a version using \"Save & Run All\" \n",
    "# You can also write temporary files to /kaggle/temp/, but they won't be saved outside of the current session"
   ]
  },
  {
   "cell_type": "code",
   "execution_count": 2,
   "id": "8e5ff754",
   "metadata": {
    "execution": {
     "iopub.execute_input": "2023-06-17T17:31:46.969554Z",
     "iopub.status.busy": "2023-06-17T17:31:46.969071Z",
     "iopub.status.idle": "2023-06-17T17:31:47.021703Z",
     "shell.execute_reply": "2023-06-17T17:31:47.020685Z"
    },
    "papermill": {
     "duration": 0.061248,
     "end_time": "2023-06-17T17:31:47.023934",
     "exception": false,
     "start_time": "2023-06-17T17:31:46.962686",
     "status": "completed"
    },
    "tags": []
   },
   "outputs": [
    {
     "data": {
      "text/html": [
       "<div>\n",
       "<style scoped>\n",
       "    .dataframe tbody tr th:only-of-type {\n",
       "        vertical-align: middle;\n",
       "    }\n",
       "\n",
       "    .dataframe tbody tr th {\n",
       "        vertical-align: top;\n",
       "    }\n",
       "\n",
       "    .dataframe thead th {\n",
       "        text-align: right;\n",
       "    }\n",
       "</style>\n",
       "<table border=\"1\" class=\"dataframe\">\n",
       "  <thead>\n",
       "    <tr style=\"text-align: right;\">\n",
       "      <th></th>\n",
       "      <th>Unnamed: 0</th>\n",
       "      <th>Country</th>\n",
       "      <th>Continent</th>\n",
       "      <th>Production (Tons)</th>\n",
       "      <th>Production per Person (Kg)</th>\n",
       "      <th>Acreage (Hectare)</th>\n",
       "      <th>Yield (Kg / Hectare)</th>\n",
       "    </tr>\n",
       "  </thead>\n",
       "  <tbody>\n",
       "    <tr>\n",
       "      <th>0</th>\n",
       "      <td>0</td>\n",
       "      <td>Brazil</td>\n",
       "      <td>South America</td>\n",
       "      <td>768.678.382</td>\n",
       "      <td>3.668,531</td>\n",
       "      <td>10.226.205</td>\n",
       "      <td>75.167,5</td>\n",
       "    </tr>\n",
       "    <tr>\n",
       "      <th>1</th>\n",
       "      <td>1</td>\n",
       "      <td>India</td>\n",
       "      <td>Asia</td>\n",
       "      <td>348.448.000</td>\n",
       "      <td>260721</td>\n",
       "      <td>4.950.000</td>\n",
       "      <td>70.393,5</td>\n",
       "    </tr>\n",
       "    <tr>\n",
       "      <th>2</th>\n",
       "      <td>2</td>\n",
       "      <td>China</td>\n",
       "      <td>Asia</td>\n",
       "      <td>123.059.739</td>\n",
       "      <td>88287</td>\n",
       "      <td>1.675.215</td>\n",
       "      <td>73.459,1</td>\n",
       "    </tr>\n",
       "    <tr>\n",
       "      <th>3</th>\n",
       "      <td>3</td>\n",
       "      <td>Thailand</td>\n",
       "      <td>Asia</td>\n",
       "      <td>87.468.496</td>\n",
       "      <td>1.264,303</td>\n",
       "      <td>1.336.575</td>\n",
       "      <td>65.442,2</td>\n",
       "    </tr>\n",
       "    <tr>\n",
       "      <th>4</th>\n",
       "      <td>4</td>\n",
       "      <td>Pakistan</td>\n",
       "      <td>Asia</td>\n",
       "      <td>65.450.704</td>\n",
       "      <td>324219</td>\n",
       "      <td>1.130.820</td>\n",
       "      <td>57.879</td>\n",
       "    </tr>\n",
       "  </tbody>\n",
       "</table>\n",
       "</div>"
      ],
      "text/plain": [
       "   Unnamed: 0   Country      Continent Production (Tons)  \\\n",
       "0           0    Brazil  South America       768.678.382   \n",
       "1           1     India           Asia       348.448.000   \n",
       "2           2     China           Asia       123.059.739   \n",
       "3           3  Thailand           Asia        87.468.496   \n",
       "4           4  Pakistan           Asia        65.450.704   \n",
       "\n",
       "  Production per Person (Kg) Acreage (Hectare) Yield (Kg / Hectare)  \n",
       "0                  3.668,531        10.226.205             75.167,5  \n",
       "1                     260721         4.950.000             70.393,5  \n",
       "2                      88287         1.675.215             73.459,1  \n",
       "3                  1.264,303         1.336.575             65.442,2  \n",
       "4                     324219         1.130.820               57.879  "
      ]
     },
     "execution_count": 2,
     "metadata": {},
     "output_type": "execute_result"
    }
   ],
   "source": [
    "df = pd.read_csv('/kaggle/input/list-of-countries-by-sugarcane-production/List of Countries by Sugarcane Production.csv')\n",
    "df.head()"
   ]
  },
  {
   "cell_type": "code",
   "execution_count": 3,
   "id": "39ae9dcc",
   "metadata": {
    "execution": {
     "iopub.execute_input": "2023-06-17T17:31:47.036769Z",
     "iopub.status.busy": "2023-06-17T17:31:47.036151Z",
     "iopub.status.idle": "2023-06-17T17:31:47.055715Z",
     "shell.execute_reply": "2023-06-17T17:31:47.054518Z"
    },
    "papermill": {
     "duration": 0.029125,
     "end_time": "2023-06-17T17:31:47.058477",
     "exception": false,
     "start_time": "2023-06-17T17:31:47.029352",
     "status": "completed"
    },
    "tags": []
   },
   "outputs": [
    {
     "data": {
      "text/html": [
       "<div>\n",
       "<style scoped>\n",
       "    .dataframe tbody tr th:only-of-type {\n",
       "        vertical-align: middle;\n",
       "    }\n",
       "\n",
       "    .dataframe tbody tr th {\n",
       "        vertical-align: top;\n",
       "    }\n",
       "\n",
       "    .dataframe thead th {\n",
       "        text-align: right;\n",
       "    }\n",
       "</style>\n",
       "<table border=\"1\" class=\"dataframe\">\n",
       "  <thead>\n",
       "    <tr style=\"text-align: right;\">\n",
       "      <th></th>\n",
       "      <th>Unnamed: 0</th>\n",
       "    </tr>\n",
       "  </thead>\n",
       "  <tbody>\n",
       "    <tr>\n",
       "      <th>count</th>\n",
       "      <td>103.000000</td>\n",
       "    </tr>\n",
       "    <tr>\n",
       "      <th>mean</th>\n",
       "      <td>51.000000</td>\n",
       "    </tr>\n",
       "    <tr>\n",
       "      <th>std</th>\n",
       "      <td>29.877528</td>\n",
       "    </tr>\n",
       "    <tr>\n",
       "      <th>min</th>\n",
       "      <td>0.000000</td>\n",
       "    </tr>\n",
       "    <tr>\n",
       "      <th>25%</th>\n",
       "      <td>25.500000</td>\n",
       "    </tr>\n",
       "    <tr>\n",
       "      <th>50%</th>\n",
       "      <td>51.000000</td>\n",
       "    </tr>\n",
       "    <tr>\n",
       "      <th>75%</th>\n",
       "      <td>76.500000</td>\n",
       "    </tr>\n",
       "    <tr>\n",
       "      <th>max</th>\n",
       "      <td>102.000000</td>\n",
       "    </tr>\n",
       "  </tbody>\n",
       "</table>\n",
       "</div>"
      ],
      "text/plain": [
       "       Unnamed: 0\n",
       "count  103.000000\n",
       "mean    51.000000\n",
       "std     29.877528\n",
       "min      0.000000\n",
       "25%     25.500000\n",
       "50%     51.000000\n",
       "75%     76.500000\n",
       "max    102.000000"
      ]
     },
     "execution_count": 3,
     "metadata": {},
     "output_type": "execute_result"
    }
   ],
   "source": [
    "df.describe()"
   ]
  },
  {
   "cell_type": "code",
   "execution_count": 4,
   "id": "ebd224c8",
   "metadata": {
    "execution": {
     "iopub.execute_input": "2023-06-17T17:31:47.071745Z",
     "iopub.status.busy": "2023-06-17T17:31:47.070927Z",
     "iopub.status.idle": "2023-06-17T17:31:47.097706Z",
     "shell.execute_reply": "2023-06-17T17:31:47.096556Z"
    },
    "papermill": {
     "duration": 0.036864,
     "end_time": "2023-06-17T17:31:47.100936",
     "exception": false,
     "start_time": "2023-06-17T17:31:47.064072",
     "status": "completed"
    },
    "tags": []
   },
   "outputs": [
    {
     "name": "stdout",
     "output_type": "stream",
     "text": [
      "<class 'pandas.core.frame.DataFrame'>\n",
      "RangeIndex: 103 entries, 0 to 102\n",
      "Data columns (total 7 columns):\n",
      " #   Column                      Non-Null Count  Dtype \n",
      "---  ------                      --------------  ----- \n",
      " 0   Unnamed: 0                  103 non-null    int64 \n",
      " 1   Country                     103 non-null    object\n",
      " 2   Continent                   103 non-null    object\n",
      " 3   Production (Tons)           103 non-null    object\n",
      " 4   Production per Person (Kg)  103 non-null    object\n",
      " 5   Acreage (Hectare)           102 non-null    object\n",
      " 6   Yield (Kg / Hectare)        102 non-null    object\n",
      "dtypes: int64(1), object(6)\n",
      "memory usage: 5.8+ KB\n"
     ]
    }
   ],
   "source": [
    "df.info()"
   ]
  },
  {
   "cell_type": "code",
   "execution_count": 5,
   "id": "9a7134b3",
   "metadata": {
    "execution": {
     "iopub.execute_input": "2023-06-17T17:31:47.115420Z",
     "iopub.status.busy": "2023-06-17T17:31:47.114267Z",
     "iopub.status.idle": "2023-06-17T17:31:47.123536Z",
     "shell.execute_reply": "2023-06-17T17:31:47.122381Z"
    },
    "papermill": {
     "duration": 0.019315,
     "end_time": "2023-06-17T17:31:47.126010",
     "exception": false,
     "start_time": "2023-06-17T17:31:47.106695",
     "status": "completed"
    },
    "tags": []
   },
   "outputs": [
    {
     "data": {
      "text/plain": [
       "Unnamed: 0                     int64\n",
       "Country                       object\n",
       "Continent                     object\n",
       "Production (Tons)             object\n",
       "Production per Person (Kg)    object\n",
       "Acreage (Hectare)             object\n",
       "Yield (Kg / Hectare)          object\n",
       "dtype: object"
      ]
     },
     "execution_count": 5,
     "metadata": {},
     "output_type": "execute_result"
    }
   ],
   "source": [
    "df.dtypes"
   ]
  },
  {
   "cell_type": "code",
   "execution_count": 6,
   "id": "666ca1af",
   "metadata": {
    "execution": {
     "iopub.execute_input": "2023-06-17T17:31:47.139612Z",
     "iopub.status.busy": "2023-06-17T17:31:47.139189Z",
     "iopub.status.idle": "2023-06-17T17:31:47.145633Z",
     "shell.execute_reply": "2023-06-17T17:31:47.144300Z"
    },
    "papermill": {
     "duration": 0.01597,
     "end_time": "2023-06-17T17:31:47.148013",
     "exception": false,
     "start_time": "2023-06-17T17:31:47.132043",
     "status": "completed"
    },
    "tags": []
   },
   "outputs": [],
   "source": [
    "df.rename(columns=lambda x: x.replace('.', ','), inplace=True)"
   ]
  },
  {
   "cell_type": "code",
   "execution_count": 7,
   "id": "47d611f0",
   "metadata": {
    "execution": {
     "iopub.execute_input": "2023-06-17T17:31:47.161970Z",
     "iopub.status.busy": "2023-06-17T17:31:47.161290Z",
     "iopub.status.idle": "2023-06-17T17:31:47.172055Z",
     "shell.execute_reply": "2023-06-17T17:31:47.171250Z"
    },
    "papermill": {
     "duration": 0.020584,
     "end_time": "2023-06-17T17:31:47.174489",
     "exception": false,
     "start_time": "2023-06-17T17:31:47.153905",
     "status": "completed"
    },
    "tags": []
   },
   "outputs": [
    {
     "name": "stderr",
     "output_type": "stream",
     "text": [
      "/tmp/ipykernel_21/1046719761.py:1: FutureWarning: The default value of regex will change from True to False in a future version. In addition, single character regular expressions will *not* be treated as literal strings when regex=True.\n",
      "  df[\"Production (Tons)\"] = df[\"Production (Tons)\"].str.replace(\".\", \"\")\n",
      "/tmp/ipykernel_21/1046719761.py:2: FutureWarning: The default value of regex will change from True to False in a future version. In addition, single character regular expressions will *not* be treated as literal strings when regex=True.\n",
      "  df[\"Production per Person (Kg)\"] = df[\"Production per Person (Kg)\"].str.replace(\",\", \"\").str.replace(\".\", \"\")\n",
      "/tmp/ipykernel_21/1046719761.py:3: FutureWarning: The default value of regex will change from True to False in a future version. In addition, single character regular expressions will *not* be treated as literal strings when regex=True.\n",
      "  df[\"Acreage (Hectare)\"] = df[\"Acreage (Hectare)\"].str.replace(\",\", \"\").str.replace(\".\", \"\")\n",
      "/tmp/ipykernel_21/1046719761.py:4: FutureWarning: The default value of regex will change from True to False in a future version. In addition, single character regular expressions will *not* be treated as literal strings when regex=True.\n",
      "  df[\"Yield (Kg / Hectare)\"] = df[\"Yield (Kg / Hectare)\"].str.replace(\",\", \"\").str.replace(\".\", \"\")\n"
     ]
    }
   ],
   "source": [
    "df[\"Production (Tons)\"] = df[\"Production (Tons)\"].str.replace(\".\", \"\")\n",
    "df[\"Production per Person (Kg)\"] = df[\"Production per Person (Kg)\"].str.replace(\",\", \"\").str.replace(\".\", \"\")\n",
    "df[\"Acreage (Hectare)\"] = df[\"Acreage (Hectare)\"].str.replace(\",\", \"\").str.replace(\".\", \"\")\n",
    "df[\"Yield (Kg / Hectare)\"] = df[\"Yield (Kg / Hectare)\"].str.replace(\",\", \"\").str.replace(\".\", \"\")"
   ]
  },
  {
   "cell_type": "code",
   "execution_count": 8,
   "id": "1a002f94",
   "metadata": {
    "execution": {
     "iopub.execute_input": "2023-06-17T17:31:47.191349Z",
     "iopub.status.busy": "2023-06-17T17:31:47.190902Z",
     "iopub.status.idle": "2023-06-17T17:31:47.206116Z",
     "shell.execute_reply": "2023-06-17T17:31:47.204895Z"
    },
    "papermill": {
     "duration": 0.025629,
     "end_time": "2023-06-17T17:31:47.208821",
     "exception": false,
     "start_time": "2023-06-17T17:31:47.183192",
     "status": "completed"
    },
    "tags": []
   },
   "outputs": [
    {
     "data": {
      "text/html": [
       "<div>\n",
       "<style scoped>\n",
       "    .dataframe tbody tr th:only-of-type {\n",
       "        vertical-align: middle;\n",
       "    }\n",
       "\n",
       "    .dataframe tbody tr th {\n",
       "        vertical-align: top;\n",
       "    }\n",
       "\n",
       "    .dataframe thead th {\n",
       "        text-align: right;\n",
       "    }\n",
       "</style>\n",
       "<table border=\"1\" class=\"dataframe\">\n",
       "  <thead>\n",
       "    <tr style=\"text-align: right;\">\n",
       "      <th></th>\n",
       "      <th>Unnamed: 0</th>\n",
       "      <th>Country</th>\n",
       "      <th>Continent</th>\n",
       "      <th>Production (Tons)</th>\n",
       "      <th>Production per Person (Kg)</th>\n",
       "      <th>Acreage (Hectare)</th>\n",
       "      <th>Yield (Kg / Hectare)</th>\n",
       "    </tr>\n",
       "  </thead>\n",
       "  <tbody>\n",
       "    <tr>\n",
       "      <th>0</th>\n",
       "      <td>0</td>\n",
       "      <td>Brazil</td>\n",
       "      <td>South America</td>\n",
       "      <td>768678382</td>\n",
       "      <td>3668531</td>\n",
       "      <td>10226205</td>\n",
       "      <td>751675</td>\n",
       "    </tr>\n",
       "    <tr>\n",
       "      <th>1</th>\n",
       "      <td>1</td>\n",
       "      <td>India</td>\n",
       "      <td>Asia</td>\n",
       "      <td>348448000</td>\n",
       "      <td>260721</td>\n",
       "      <td>4950000</td>\n",
       "      <td>703935</td>\n",
       "    </tr>\n",
       "    <tr>\n",
       "      <th>2</th>\n",
       "      <td>2</td>\n",
       "      <td>China</td>\n",
       "      <td>Asia</td>\n",
       "      <td>123059739</td>\n",
       "      <td>88287</td>\n",
       "      <td>1675215</td>\n",
       "      <td>734591</td>\n",
       "    </tr>\n",
       "    <tr>\n",
       "      <th>3</th>\n",
       "      <td>3</td>\n",
       "      <td>Thailand</td>\n",
       "      <td>Asia</td>\n",
       "      <td>87468496</td>\n",
       "      <td>1264303</td>\n",
       "      <td>1336575</td>\n",
       "      <td>654422</td>\n",
       "    </tr>\n",
       "    <tr>\n",
       "      <th>4</th>\n",
       "      <td>4</td>\n",
       "      <td>Pakistan</td>\n",
       "      <td>Asia</td>\n",
       "      <td>65450704</td>\n",
       "      <td>324219</td>\n",
       "      <td>1130820</td>\n",
       "      <td>57879</td>\n",
       "    </tr>\n",
       "  </tbody>\n",
       "</table>\n",
       "</div>"
      ],
      "text/plain": [
       "   Unnamed: 0   Country      Continent Production (Tons)  \\\n",
       "0           0    Brazil  South America         768678382   \n",
       "1           1     India           Asia         348448000   \n",
       "2           2     China           Asia         123059739   \n",
       "3           3  Thailand           Asia          87468496   \n",
       "4           4  Pakistan           Asia          65450704   \n",
       "\n",
       "  Production per Person (Kg) Acreage (Hectare) Yield (Kg / Hectare)  \n",
       "0                    3668531          10226205               751675  \n",
       "1                     260721           4950000               703935  \n",
       "2                      88287           1675215               734591  \n",
       "3                    1264303           1336575               654422  \n",
       "4                     324219           1130820                57879  "
      ]
     },
     "execution_count": 8,
     "metadata": {},
     "output_type": "execute_result"
    }
   ],
   "source": [
    "df.head()"
   ]
  },
  {
   "cell_type": "code",
   "execution_count": 9,
   "id": "237fea10",
   "metadata": {
    "execution": {
     "iopub.execute_input": "2023-06-17T17:31:47.224329Z",
     "iopub.status.busy": "2023-06-17T17:31:47.223675Z",
     "iopub.status.idle": "2023-06-17T17:31:47.234447Z",
     "shell.execute_reply": "2023-06-17T17:31:47.233274Z"
    },
    "papermill": {
     "duration": 0.021765,
     "end_time": "2023-06-17T17:31:47.237490",
     "exception": false,
     "start_time": "2023-06-17T17:31:47.215725",
     "status": "completed"
    },
    "tags": []
   },
   "outputs": [
    {
     "data": {
      "text/plain": [
       "Unnamed: 0                    0\n",
       "Country                       0\n",
       "Continent                     0\n",
       "Production (Tons)             0\n",
       "Production per Person (Kg)    0\n",
       "Acreage (Hectare)             1\n",
       "Yield (Kg / Hectare)          1\n",
       "dtype: int64"
      ]
     },
     "execution_count": 9,
     "metadata": {},
     "output_type": "execute_result"
    }
   ],
   "source": [
    "df.isnull().sum()"
   ]
  },
  {
   "cell_type": "code",
   "execution_count": 10,
   "id": "a8466c61",
   "metadata": {
    "execution": {
     "iopub.execute_input": "2023-06-17T17:31:47.252883Z",
     "iopub.status.busy": "2023-06-17T17:31:47.252452Z",
     "iopub.status.idle": "2023-06-17T17:31:47.262072Z",
     "shell.execute_reply": "2023-06-17T17:31:47.260907Z"
    },
    "papermill": {
     "duration": 0.020463,
     "end_time": "2023-06-17T17:31:47.264887",
     "exception": false,
     "start_time": "2023-06-17T17:31:47.244424",
     "status": "completed"
    },
    "tags": []
   },
   "outputs": [],
   "source": [
    "df = df.dropna()"
   ]
  },
  {
   "cell_type": "code",
   "execution_count": 11,
   "id": "a4820be0",
   "metadata": {
    "execution": {
     "iopub.execute_input": "2023-06-17T17:31:47.279910Z",
     "iopub.status.busy": "2023-06-17T17:31:47.279477Z",
     "iopub.status.idle": "2023-06-17T17:31:47.288842Z",
     "shell.execute_reply": "2023-06-17T17:31:47.287436Z"
    },
    "papermill": {
     "duration": 0.019872,
     "end_time": "2023-06-17T17:31:47.291425",
     "exception": false,
     "start_time": "2023-06-17T17:31:47.271553",
     "status": "completed"
    },
    "tags": []
   },
   "outputs": [],
   "source": [
    "df['Production (Tons)'] = df['Production (Tons)'].astype('int')\n",
    "df['Production per Person (Kg)'] = df['Production per Person (Kg)'].astype('int')\n",
    "df['Acreage (Hectare)'] = df['Acreage (Hectare)'].astype('int')\n",
    "df['Yield (Kg / Hectare)'] = df['Yield (Kg / Hectare)'].astype('int')"
   ]
  },
  {
   "cell_type": "code",
   "execution_count": 12,
   "id": "de911977",
   "metadata": {
    "execution": {
     "iopub.execute_input": "2023-06-17T17:31:47.306792Z",
     "iopub.status.busy": "2023-06-17T17:31:47.306364Z",
     "iopub.status.idle": "2023-06-17T17:31:47.314841Z",
     "shell.execute_reply": "2023-06-17T17:31:47.313675Z"
    },
    "papermill": {
     "duration": 0.018925,
     "end_time": "2023-06-17T17:31:47.317185",
     "exception": false,
     "start_time": "2023-06-17T17:31:47.298260",
     "status": "completed"
    },
    "tags": []
   },
   "outputs": [
    {
     "data": {
      "text/plain": [
       "Unnamed: 0                     int64\n",
       "Country                       object\n",
       "Continent                     object\n",
       "Production (Tons)              int64\n",
       "Production per Person (Kg)     int64\n",
       "Acreage (Hectare)              int64\n",
       "Yield (Kg / Hectare)           int64\n",
       "dtype: object"
      ]
     },
     "execution_count": 12,
     "metadata": {},
     "output_type": "execute_result"
    }
   ],
   "source": [
    "df.dtypes"
   ]
  },
  {
   "cell_type": "code",
   "execution_count": null,
   "id": "671445ef",
   "metadata": {
    "papermill": {
     "duration": 0.00631,
     "end_time": "2023-06-17T17:31:47.330136",
     "exception": false,
     "start_time": "2023-06-17T17:31:47.323826",
     "status": "completed"
    },
    "tags": []
   },
   "outputs": [],
   "source": []
  }
 ],
 "metadata": {
  "kernelspec": {
   "display_name": "Python 3",
   "language": "python",
   "name": "python3"
  },
  "language_info": {
   "codemirror_mode": {
    "name": "ipython",
    "version": 3
   },
   "file_extension": ".py",
   "mimetype": "text/x-python",
   "name": "python",
   "nbconvert_exporter": "python",
   "pygments_lexer": "ipython3",
   "version": "3.10.10"
  },
  "papermill": {
   "default_parameters": {},
   "duration": 15.768726,
   "end_time": "2023-06-17T17:31:48.259816",
   "environment_variables": {},
   "exception": null,
   "input_path": "__notebook__.ipynb",
   "output_path": "__notebook__.ipynb",
   "parameters": {},
   "start_time": "2023-06-17T17:31:32.491090",
   "version": "2.4.0"
  }
 },
 "nbformat": 4,
 "nbformat_minor": 5
}
