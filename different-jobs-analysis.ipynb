{
 "cells": [
  {
   "cell_type": "code",
   "execution_count": 1,
   "id": "37d94cfb",
   "metadata": {
    "_cell_guid": "b1076dfc-b9ad-4769-8c92-a6c4dae69d19",
    "_uuid": "8f2839f25d086af736a60e9eeb907d3b93b6e0e5",
    "execution": {
     "iopub.execute_input": "2023-06-24T14:45:57.288086Z",
     "iopub.status.busy": "2023-06-24T14:45:57.287567Z",
     "iopub.status.idle": "2023-06-24T14:45:57.307560Z",
     "shell.execute_reply": "2023-06-24T14:45:57.306584Z"
    },
    "papermill": {
     "duration": 0.032517,
     "end_time": "2023-06-24T14:45:57.310119",
     "exception": false,
     "start_time": "2023-06-24T14:45:57.277602",
     "status": "completed"
    },
    "tags": []
   },
   "outputs": [
    {
     "name": "stdout",
     "output_type": "stream",
     "text": [
      "/kaggle/input/data-science-jobs-comprehensive-dataset/data_science_job.csv\n"
     ]
    }
   ],
   "source": [
    "# This Python 3 environment comes with many helpful analytics libraries installed\n",
    "# It is defined by the kaggle/python Docker image: https://github.com/kaggle/docker-python\n",
    "# For example, here's several helpful packages to load\n",
    "\n",
    "import numpy as np # linear algebra\n",
    "import pandas as pd # data processing, CSV file I/O (e.g. pd.read_csv)\n",
    "\n",
    "# Input data files are available in the read-only \"../input/\" directory\n",
    "# For example, running this (by clicking run or pressing Shift+Enter) will list all files under the input directory\n",
    "\n",
    "import os\n",
    "for dirname, _, filenames in os.walk('/kaggle/input'):\n",
    "    for filename in filenames:\n",
    "        print(os.path.join(dirname, filename))\n",
    "\n",
    "# You can write up to 20GB to the current directory (/kaggle/working/) that gets preserved as output when you create a version using \"Save & Run All\" \n",
    "# You can also write temporary files to /kaggle/temp/, but they won't be saved outside of the current session"
   ]
  },
  {
   "cell_type": "code",
   "execution_count": 2,
   "id": "908702d9",
   "metadata": {
    "execution": {
     "iopub.execute_input": "2023-06-24T14:45:57.328115Z",
     "iopub.status.busy": "2023-06-24T14:45:57.327361Z",
     "iopub.status.idle": "2023-06-24T14:45:57.399897Z",
     "shell.execute_reply": "2023-06-24T14:45:57.399009Z"
    },
    "papermill": {
     "duration": 0.084217,
     "end_time": "2023-06-24T14:45:57.402174",
     "exception": false,
     "start_time": "2023-06-24T14:45:57.317957",
     "status": "completed"
    },
    "tags": []
   },
   "outputs": [
    {
     "data": {
      "text/html": [
       "<div>\n",
       "<style scoped>\n",
       "    .dataframe tbody tr th:only-of-type {\n",
       "        vertical-align: middle;\n",
       "    }\n",
       "\n",
       "    .dataframe tbody tr th {\n",
       "        vertical-align: top;\n",
       "    }\n",
       "\n",
       "    .dataframe thead th {\n",
       "        text-align: right;\n",
       "    }\n",
       "</style>\n",
       "<table border=\"1\" class=\"dataframe\">\n",
       "  <thead>\n",
       "    <tr style=\"text-align: right;\">\n",
       "      <th></th>\n",
       "      <th>Company</th>\n",
       "      <th>Job Title</th>\n",
       "      <th>Location</th>\n",
       "      <th>Job Type</th>\n",
       "      <th>Experience level</th>\n",
       "      <th>Salary</th>\n",
       "      <th>Requirment of the company</th>\n",
       "      <th>Facilities</th>\n",
       "    </tr>\n",
       "  </thead>\n",
       "  <tbody>\n",
       "    <tr>\n",
       "      <th>0</th>\n",
       "      <td>SGS</td>\n",
       "      <td>Clinical Data Analyst</td>\n",
       "      <td>Richardson, TX, United States</td>\n",
       "      <td>Full Time</td>\n",
       "      <td>Entry-level</td>\n",
       "      <td>48K+ *</td>\n",
       "      <td>Computer Science,Data quality,Genetics,Mathema...</td>\n",
       "      <td>,,,,</td>\n",
       "    </tr>\n",
       "    <tr>\n",
       "      <th>1</th>\n",
       "      <td>Ocorian</td>\n",
       "      <td>AML/CFT &amp; Data Analyst</td>\n",
       "      <td>Ebène, Mauritius</td>\n",
       "      <td>Full Time</td>\n",
       "      <td>Entry-level</td>\n",
       "      <td>48K+ *</td>\n",
       "      <td>Agile,Data management,Finance,Security,,</td>\n",
       "      <td>,,,,</td>\n",
       "    </tr>\n",
       "    <tr>\n",
       "      <th>2</th>\n",
       "      <td>Cricut</td>\n",
       "      <td>Machine Learning Engineer</td>\n",
       "      <td>South Jordan, UT, United States</td>\n",
       "      <td>Full Time</td>\n",
       "      <td>NaN</td>\n",
       "      <td>90K+ *</td>\n",
       "      <td>Agile,Architecture,AWS,Computer Science,Comput...</td>\n",
       "      <td>Career development,,,,</td>\n",
       "    </tr>\n",
       "    <tr>\n",
       "      <th>3</th>\n",
       "      <td>Bosch Group</td>\n",
       "      <td>Application Developer &amp; Data Analyst</td>\n",
       "      <td>Nonantola, Italy</td>\n",
       "      <td>Full Time</td>\n",
       "      <td>Entry-level</td>\n",
       "      <td>48K+ *</td>\n",
       "      <td>Engineering,Industrial,Oracle,Power BI,R,R&amp;D</td>\n",
       "      <td>,,,,</td>\n",
       "    </tr>\n",
       "    <tr>\n",
       "      <th>4</th>\n",
       "      <td>Publicis Groupe</td>\n",
       "      <td>Data Engineer Full time (Public Sector) USA</td>\n",
       "      <td>Arlington, VA, United States</td>\n",
       "      <td>Full Time</td>\n",
       "      <td>Mid-level</td>\n",
       "      <td>108K+</td>\n",
       "      <td>AWS,Azure,Computer Science,Consulting,Dataflow...</td>\n",
       "      <td>Flex hours,Flex vacation,Parental leave,Unlimi...</td>\n",
       "    </tr>\n",
       "  </tbody>\n",
       "</table>\n",
       "</div>"
      ],
      "text/plain": [
       "           Company                                    Job Title  \\\n",
       "0              SGS                        Clinical Data Analyst   \n",
       "1          Ocorian                       AML/CFT & Data Analyst   \n",
       "2           Cricut                    Machine Learning Engineer   \n",
       "3      Bosch Group         Application Developer & Data Analyst   \n",
       "4  Publicis Groupe  Data Engineer Full time (Public Sector) USA   \n",
       "\n",
       "                          Location   Job Type Experience level   Salary  \\\n",
       "0    Richardson, TX, United States  Full Time      Entry-level   48K+ *   \n",
       "1                 Ebène, Mauritius  Full Time      Entry-level   48K+ *   \n",
       "2  South Jordan, UT, United States  Full Time              NaN   90K+ *   \n",
       "3                 Nonantola, Italy  Full Time      Entry-level   48K+ *   \n",
       "4     Arlington, VA, United States  Full Time        Mid-level    108K+   \n",
       "\n",
       "                          Requirment of the company   \\\n",
       "0  Computer Science,Data quality,Genetics,Mathema...   \n",
       "1           Agile,Data management,Finance,Security,,   \n",
       "2  Agile,Architecture,AWS,Computer Science,Comput...   \n",
       "3       Engineering,Industrial,Oracle,Power BI,R,R&D   \n",
       "4  AWS,Azure,Computer Science,Consulting,Dataflow...   \n",
       "\n",
       "                                          Facilities  \n",
       "0                                               ,,,,  \n",
       "1                                               ,,,,  \n",
       "2                             Career development,,,,  \n",
       "3                                               ,,,,  \n",
       "4  Flex hours,Flex vacation,Parental leave,Unlimi...  "
      ]
     },
     "execution_count": 2,
     "metadata": {},
     "output_type": "execute_result"
    }
   ],
   "source": [
    "df = pd.read_csv('/kaggle/input/data-science-jobs-comprehensive-dataset/data_science_job.csv',encoding='latin-1')\n",
    "df.head()"
   ]
  },
  {
   "cell_type": "code",
   "execution_count": 3,
   "id": "01c7ec20",
   "metadata": {
    "execution": {
     "iopub.execute_input": "2023-06-24T14:45:57.420144Z",
     "iopub.status.busy": "2023-06-24T14:45:57.419389Z",
     "iopub.status.idle": "2023-06-24T14:45:57.425676Z",
     "shell.execute_reply": "2023-06-24T14:45:57.424830Z"
    },
    "papermill": {
     "duration": 0.01792,
     "end_time": "2023-06-24T14:45:57.428023",
     "exception": false,
     "start_time": "2023-06-24T14:45:57.410103",
     "status": "completed"
    },
    "tags": []
   },
   "outputs": [
    {
     "data": {
      "text/plain": [
       "(3198, 8)"
      ]
     },
     "execution_count": 3,
     "metadata": {},
     "output_type": "execute_result"
    }
   ],
   "source": [
    "df.shape"
   ]
  },
  {
   "cell_type": "code",
   "execution_count": 4,
   "id": "4eedaead",
   "metadata": {
    "execution": {
     "iopub.execute_input": "2023-06-24T14:45:57.446640Z",
     "iopub.status.busy": "2023-06-24T14:45:57.446178Z",
     "iopub.status.idle": "2023-06-24T14:45:57.493196Z",
     "shell.execute_reply": "2023-06-24T14:45:57.491988Z"
    },
    "papermill": {
     "duration": 0.05981,
     "end_time": "2023-06-24T14:45:57.496081",
     "exception": false,
     "start_time": "2023-06-24T14:45:57.436271",
     "status": "completed"
    },
    "tags": []
   },
   "outputs": [
    {
     "data": {
      "text/html": [
       "<div>\n",
       "<style scoped>\n",
       "    .dataframe tbody tr th:only-of-type {\n",
       "        vertical-align: middle;\n",
       "    }\n",
       "\n",
       "    .dataframe tbody tr th {\n",
       "        vertical-align: top;\n",
       "    }\n",
       "\n",
       "    .dataframe thead th {\n",
       "        text-align: right;\n",
       "    }\n",
       "</style>\n",
       "<table border=\"1\" class=\"dataframe\">\n",
       "  <thead>\n",
       "    <tr style=\"text-align: right;\">\n",
       "      <th></th>\n",
       "      <th>Company</th>\n",
       "      <th>Job Title</th>\n",
       "      <th>Location</th>\n",
       "      <th>Job Type</th>\n",
       "      <th>Experience level</th>\n",
       "      <th>Salary</th>\n",
       "      <th>Requirment of the company</th>\n",
       "      <th>Facilities</th>\n",
       "    </tr>\n",
       "  </thead>\n",
       "  <tbody>\n",
       "    <tr>\n",
       "      <th>count</th>\n",
       "      <td>3197</td>\n",
       "      <td>3197</td>\n",
       "      <td>3197</td>\n",
       "      <td>3197</td>\n",
       "      <td>2962</td>\n",
       "      <td>3009</td>\n",
       "      <td>3198</td>\n",
       "      <td>3198</td>\n",
       "    </tr>\n",
       "    <tr>\n",
       "      <th>unique</th>\n",
       "      <td>1106</td>\n",
       "      <td>2138</td>\n",
       "      <td>1117</td>\n",
       "      <td>3</td>\n",
       "      <td>4</td>\n",
       "      <td>218</td>\n",
       "      <td>2600</td>\n",
       "      <td>777</td>\n",
       "    </tr>\n",
       "    <tr>\n",
       "      <th>top</th>\n",
       "      <td>Publicis Groupe</td>\n",
       "      <td>Data Engineer</td>\n",
       "      <td>Bengaluru, India</td>\n",
       "      <td>Full Time</td>\n",
       "      <td>Senior-level</td>\n",
       "      <td>115K+ *</td>\n",
       "      <td>Big Data,Business Intelligence,Data analysis,E...</td>\n",
       "      <td>,,,,</td>\n",
       "    </tr>\n",
       "    <tr>\n",
       "      <th>freq</th>\n",
       "      <td>126</td>\n",
       "      <td>105</td>\n",
       "      <td>90</td>\n",
       "      <td>3116</td>\n",
       "      <td>1876</td>\n",
       "      <td>253</td>\n",
       "      <td>12</td>\n",
       "      <td>542</td>\n",
       "    </tr>\n",
       "  </tbody>\n",
       "</table>\n",
       "</div>"
      ],
      "text/plain": [
       "                Company      Job Title          Location   Job Type  \\\n",
       "count              3197           3197              3197       3197   \n",
       "unique             1106           2138              1117          3   \n",
       "top     Publicis Groupe  Data Engineer  Bengaluru, India  Full Time   \n",
       "freq                126            105                90       3116   \n",
       "\n",
       "       Experience level    Salary  \\\n",
       "count              2962      3009   \n",
       "unique                4       218   \n",
       "top        Senior-level   115K+ *   \n",
       "freq               1876       253   \n",
       "\n",
       "                               Requirment of the company  Facilities  \n",
       "count                                                3198       3198  \n",
       "unique                                               2600        777  \n",
       "top     Big Data,Business Intelligence,Data analysis,E...       ,,,,  \n",
       "freq                                                   12        542  "
      ]
     },
     "execution_count": 4,
     "metadata": {},
     "output_type": "execute_result"
    }
   ],
   "source": [
    "df.describe()"
   ]
  },
  {
   "cell_type": "code",
   "execution_count": 5,
   "id": "a41537dc",
   "metadata": {
    "execution": {
     "iopub.execute_input": "2023-06-24T14:45:57.516222Z",
     "iopub.status.busy": "2023-06-24T14:45:57.515831Z",
     "iopub.status.idle": "2023-06-24T14:45:57.544285Z",
     "shell.execute_reply": "2023-06-24T14:45:57.542477Z"
    },
    "papermill": {
     "duration": 0.042441,
     "end_time": "2023-06-24T14:45:57.546957",
     "exception": false,
     "start_time": "2023-06-24T14:45:57.504516",
     "status": "completed"
    },
    "tags": []
   },
   "outputs": [
    {
     "name": "stdout",
     "output_type": "stream",
     "text": [
      "<class 'pandas.core.frame.DataFrame'>\n",
      "RangeIndex: 3198 entries, 0 to 3197\n",
      "Data columns (total 8 columns):\n",
      " #   Column                      Non-Null Count  Dtype \n",
      "---  ------                      --------------  ----- \n",
      " 0   Company                     3197 non-null   object\n",
      " 1   Job Title                   3197 non-null   object\n",
      " 2   Location                    3197 non-null   object\n",
      " 3   Job Type                    3197 non-null   object\n",
      " 4   Experience level            2962 non-null   object\n",
      " 5   Salary                      3009 non-null   object\n",
      " 6   Requirment of the company   3198 non-null   object\n",
      " 7   Facilities                  3198 non-null   object\n",
      "dtypes: object(8)\n",
      "memory usage: 200.0+ KB\n"
     ]
    }
   ],
   "source": [
    "df.info()"
   ]
  },
  {
   "cell_type": "code",
   "execution_count": 6,
   "id": "cb7ed2a8",
   "metadata": {
    "execution": {
     "iopub.execute_input": "2023-06-24T14:45:57.565836Z",
     "iopub.status.busy": "2023-06-24T14:45:57.565427Z",
     "iopub.status.idle": "2023-06-24T14:45:57.574327Z",
     "shell.execute_reply": "2023-06-24T14:45:57.573256Z"
    },
    "papermill": {
     "duration": 0.020946,
     "end_time": "2023-06-24T14:45:57.576677",
     "exception": false,
     "start_time": "2023-06-24T14:45:57.555731",
     "status": "completed"
    },
    "tags": []
   },
   "outputs": [
    {
     "data": {
      "text/plain": [
       "Company                       object\n",
       "Job Title                     object\n",
       "Location                      object\n",
       "Job Type                      object\n",
       "Experience level              object\n",
       "Salary                        object\n",
       "Requirment of the company     object\n",
       "Facilities                    object\n",
       "dtype: object"
      ]
     },
     "execution_count": 6,
     "metadata": {},
     "output_type": "execute_result"
    }
   ],
   "source": [
    "df.dtypes"
   ]
  },
  {
   "cell_type": "code",
   "execution_count": 7,
   "id": "b816d92a",
   "metadata": {
    "execution": {
     "iopub.execute_input": "2023-06-24T14:45:57.596160Z",
     "iopub.status.busy": "2023-06-24T14:45:57.595761Z",
     "iopub.status.idle": "2023-06-24T14:45:57.614152Z",
     "shell.execute_reply": "2023-06-24T14:45:57.612982Z"
    },
    "papermill": {
     "duration": 0.031336,
     "end_time": "2023-06-24T14:45:57.616670",
     "exception": false,
     "start_time": "2023-06-24T14:45:57.585334",
     "status": "completed"
    },
    "tags": []
   },
   "outputs": [
    {
     "data": {
      "text/plain": [
       "Company                         1\n",
       "Job Title                       1\n",
       "Location                        1\n",
       "Job Type                        1\n",
       "Experience level              236\n",
       "Salary                        189\n",
       "Requirment of the company       0\n",
       "Facilities                      0\n",
       "dtype: int64"
      ]
     },
     "execution_count": 7,
     "metadata": {},
     "output_type": "execute_result"
    }
   ],
   "source": [
    "df.isnull().sum()"
   ]
  },
  {
   "cell_type": "code",
   "execution_count": 8,
   "id": "ab37e1c7",
   "metadata": {
    "execution": {
     "iopub.execute_input": "2023-06-24T14:45:57.636338Z",
     "iopub.status.busy": "2023-06-24T14:45:57.635945Z",
     "iopub.status.idle": "2023-06-24T14:45:57.653918Z",
     "shell.execute_reply": "2023-06-24T14:45:57.652378Z"
    },
    "papermill": {
     "duration": 0.031257,
     "end_time": "2023-06-24T14:45:57.656694",
     "exception": false,
     "start_time": "2023-06-24T14:45:57.625437",
     "status": "completed"
    },
    "tags": []
   },
   "outputs": [
    {
     "data": {
      "text/plain": [
       "202"
      ]
     },
     "execution_count": 8,
     "metadata": {},
     "output_type": "execute_result"
    }
   ],
   "source": [
    "df.duplicated().sum()"
   ]
  },
  {
   "cell_type": "code",
   "execution_count": 9,
   "id": "ea16749e",
   "metadata": {
    "execution": {
     "iopub.execute_input": "2023-06-24T14:45:57.676716Z",
     "iopub.status.busy": "2023-06-24T14:45:57.676281Z",
     "iopub.status.idle": "2023-06-24T14:45:57.692288Z",
     "shell.execute_reply": "2023-06-24T14:45:57.691335Z"
    },
    "papermill": {
     "duration": 0.029021,
     "end_time": "2023-06-24T14:45:57.694784",
     "exception": false,
     "start_time": "2023-06-24T14:45:57.665763",
     "status": "completed"
    },
    "tags": []
   },
   "outputs": [],
   "source": [
    "df1 = df.dropna()"
   ]
  },
  {
   "cell_type": "code",
   "execution_count": 10,
   "id": "3d5117d2",
   "metadata": {
    "execution": {
     "iopub.execute_input": "2023-06-24T14:45:57.714530Z",
     "iopub.status.busy": "2023-06-24T14:45:57.714071Z",
     "iopub.status.idle": "2023-06-24T14:45:57.730500Z",
     "shell.execute_reply": "2023-06-24T14:45:57.729323Z"
    },
    "papermill": {
     "duration": 0.029415,
     "end_time": "2023-06-24T14:45:57.733131",
     "exception": false,
     "start_time": "2023-06-24T14:45:57.703716",
     "status": "completed"
    },
    "tags": []
   },
   "outputs": [
    {
     "data": {
      "text/plain": [
       "Company                       0\n",
       "Job Title                     0\n",
       "Location                      0\n",
       "Job Type                      0\n",
       "Experience level              0\n",
       "Salary                        0\n",
       "Requirment of the company     0\n",
       "Facilities                    0\n",
       "dtype: int64"
      ]
     },
     "execution_count": 10,
     "metadata": {},
     "output_type": "execute_result"
    }
   ],
   "source": [
    "df1.isnull().sum()"
   ]
  },
  {
   "cell_type": "code",
   "execution_count": 11,
   "id": "96a537e4",
   "metadata": {
    "execution": {
     "iopub.execute_input": "2023-06-24T14:45:57.753574Z",
     "iopub.status.busy": "2023-06-24T14:45:57.753146Z",
     "iopub.status.idle": "2023-06-24T14:45:57.766817Z",
     "shell.execute_reply": "2023-06-24T14:45:57.765661Z"
    },
    "papermill": {
     "duration": 0.027091,
     "end_time": "2023-06-24T14:45:57.769622",
     "exception": false,
     "start_time": "2023-06-24T14:45:57.742531",
     "status": "completed"
    },
    "tags": []
   },
   "outputs": [
    {
     "data": {
      "text/plain": [
       "177"
      ]
     },
     "execution_count": 11,
     "metadata": {},
     "output_type": "execute_result"
    }
   ],
   "source": [
    "df1.duplicated().sum()"
   ]
  },
  {
   "cell_type": "code",
   "execution_count": 12,
   "id": "5e0214a9",
   "metadata": {
    "execution": {
     "iopub.execute_input": "2023-06-24T14:45:57.790813Z",
     "iopub.status.busy": "2023-06-24T14:45:57.790085Z",
     "iopub.status.idle": "2023-06-24T14:45:57.801190Z",
     "shell.execute_reply": "2023-06-24T14:45:57.800123Z"
    },
    "papermill": {
     "duration": 0.025033,
     "end_time": "2023-06-24T14:45:57.804362",
     "exception": false,
     "start_time": "2023-06-24T14:45:57.779329",
     "status": "completed"
    },
    "tags": []
   },
   "outputs": [],
   "source": [
    "df1 = df1.drop_duplicates()"
   ]
  },
  {
   "cell_type": "code",
   "execution_count": 13,
   "id": "909dbc74",
   "metadata": {
    "execution": {
     "iopub.execute_input": "2023-06-24T14:45:57.824881Z",
     "iopub.status.busy": "2023-06-24T14:45:57.824494Z",
     "iopub.status.idle": "2023-06-24T14:45:57.836808Z",
     "shell.execute_reply": "2023-06-24T14:45:57.835673Z"
    },
    "papermill": {
     "duration": 0.025791,
     "end_time": "2023-06-24T14:45:57.839441",
     "exception": false,
     "start_time": "2023-06-24T14:45:57.813650",
     "status": "completed"
    },
    "tags": []
   },
   "outputs": [
    {
     "data": {
      "text/plain": [
       "0"
      ]
     },
     "execution_count": 13,
     "metadata": {},
     "output_type": "execute_result"
    }
   ],
   "source": [
    "df1.duplicated().sum()"
   ]
  },
  {
   "cell_type": "code",
   "execution_count": 14,
   "id": "2f2ce1cc",
   "metadata": {
    "execution": {
     "iopub.execute_input": "2023-06-24T14:45:57.860074Z",
     "iopub.status.busy": "2023-06-24T14:45:57.859679Z",
     "iopub.status.idle": "2023-06-24T14:45:57.875486Z",
     "shell.execute_reply": "2023-06-24T14:45:57.874326Z"
    },
    "papermill": {
     "duration": 0.029177,
     "end_time": "2023-06-24T14:45:57.878065",
     "exception": false,
     "start_time": "2023-06-24T14:45:57.848888",
     "status": "completed"
    },
    "tags": []
   },
   "outputs": [
    {
     "data": {
      "text/html": [
       "<div>\n",
       "<style scoped>\n",
       "    .dataframe tbody tr th:only-of-type {\n",
       "        vertical-align: middle;\n",
       "    }\n",
       "\n",
       "    .dataframe tbody tr th {\n",
       "        vertical-align: top;\n",
       "    }\n",
       "\n",
       "    .dataframe thead th {\n",
       "        text-align: right;\n",
       "    }\n",
       "</style>\n",
       "<table border=\"1\" class=\"dataframe\">\n",
       "  <thead>\n",
       "    <tr style=\"text-align: right;\">\n",
       "      <th></th>\n",
       "      <th>Company</th>\n",
       "      <th>Job Title</th>\n",
       "      <th>Location</th>\n",
       "      <th>Job Type</th>\n",
       "      <th>Experience level</th>\n",
       "      <th>Salary</th>\n",
       "      <th>Requirment of the company</th>\n",
       "      <th>Facilities</th>\n",
       "    </tr>\n",
       "  </thead>\n",
       "  <tbody>\n",
       "    <tr>\n",
       "      <th>0</th>\n",
       "      <td>SGS</td>\n",
       "      <td>Clinical Data Analyst</td>\n",
       "      <td>Richardson, TX, United States</td>\n",
       "      <td>Full Time</td>\n",
       "      <td>Entry-level</td>\n",
       "      <td>48K+ *</td>\n",
       "      <td>Computer Science,Data quality,Genetics,Mathema...</td>\n",
       "      <td>,,,,</td>\n",
       "    </tr>\n",
       "    <tr>\n",
       "      <th>1</th>\n",
       "      <td>Ocorian</td>\n",
       "      <td>AML/CFT &amp; Data Analyst</td>\n",
       "      <td>Ebène, Mauritius</td>\n",
       "      <td>Full Time</td>\n",
       "      <td>Entry-level</td>\n",
       "      <td>48K+ *</td>\n",
       "      <td>Agile,Data management,Finance,Security,,</td>\n",
       "      <td>,,,,</td>\n",
       "    </tr>\n",
       "    <tr>\n",
       "      <th>3</th>\n",
       "      <td>Bosch Group</td>\n",
       "      <td>Application Developer &amp; Data Analyst</td>\n",
       "      <td>Nonantola, Italy</td>\n",
       "      <td>Full Time</td>\n",
       "      <td>Entry-level</td>\n",
       "      <td>48K+ *</td>\n",
       "      <td>Engineering,Industrial,Oracle,Power BI,R,R&amp;D</td>\n",
       "      <td>,,,,</td>\n",
       "    </tr>\n",
       "    <tr>\n",
       "      <th>4</th>\n",
       "      <td>Publicis Groupe</td>\n",
       "      <td>Data Engineer Full time (Public Sector) USA</td>\n",
       "      <td>Arlington, VA, United States</td>\n",
       "      <td>Full Time</td>\n",
       "      <td>Mid-level</td>\n",
       "      <td>108K+</td>\n",
       "      <td>AWS,Azure,Computer Science,Consulting,Dataflow...</td>\n",
       "      <td>Flex hours,Flex vacation,Parental leave,Unlimi...</td>\n",
       "    </tr>\n",
       "    <tr>\n",
       "      <th>5</th>\n",
       "      <td>ServiceNow</td>\n",
       "      <td>Sr Staff Data Scientist - ATG</td>\n",
       "      <td>Kirkland, Washington, United States</td>\n",
       "      <td>Full Time</td>\n",
       "      <td>Senior-level</td>\n",
       "      <td>184K+</td>\n",
       "      <td>Computer Science,Deep Learning,Industrial,Mach...</td>\n",
       "      <td>401(k) matching,Career development,Competitive...</td>\n",
       "    </tr>\n",
       "  </tbody>\n",
       "</table>\n",
       "</div>"
      ],
      "text/plain": [
       "           Company                                    Job Title  \\\n",
       "0              SGS                        Clinical Data Analyst   \n",
       "1          Ocorian                       AML/CFT & Data Analyst   \n",
       "3      Bosch Group         Application Developer & Data Analyst   \n",
       "4  Publicis Groupe  Data Engineer Full time (Public Sector) USA   \n",
       "5       ServiceNow                Sr Staff Data Scientist - ATG   \n",
       "\n",
       "                              Location   Job Type Experience level   Salary  \\\n",
       "0        Richardson, TX, United States  Full Time      Entry-level   48K+ *   \n",
       "1                     Ebène, Mauritius  Full Time      Entry-level   48K+ *   \n",
       "3                     Nonantola, Italy  Full Time      Entry-level   48K+ *   \n",
       "4         Arlington, VA, United States  Full Time        Mid-level    108K+   \n",
       "5  Kirkland, Washington, United States  Full Time     Senior-level    184K+   \n",
       "\n",
       "                          Requirment of the company   \\\n",
       "0  Computer Science,Data quality,Genetics,Mathema...   \n",
       "1           Agile,Data management,Finance,Security,,   \n",
       "3       Engineering,Industrial,Oracle,Power BI,R,R&D   \n",
       "4  AWS,Azure,Computer Science,Consulting,Dataflow...   \n",
       "5  Computer Science,Deep Learning,Industrial,Mach...   \n",
       "\n",
       "                                          Facilities  \n",
       "0                                               ,,,,  \n",
       "1                                               ,,,,  \n",
       "3                                               ,,,,  \n",
       "4  Flex hours,Flex vacation,Parental leave,Unlimi...  \n",
       "5  401(k) matching,Career development,Competitive...  "
      ]
     },
     "execution_count": 14,
     "metadata": {},
     "output_type": "execute_result"
    }
   ],
   "source": [
    "df1.head()"
   ]
  },
  {
   "cell_type": "code",
   "execution_count": 15,
   "id": "f76483f0",
   "metadata": {
    "execution": {
     "iopub.execute_input": "2023-06-24T14:45:57.899574Z",
     "iopub.status.busy": "2023-06-24T14:45:57.899143Z",
     "iopub.status.idle": "2023-06-24T14:45:57.911332Z",
     "shell.execute_reply": "2023-06-24T14:45:57.909964Z"
    },
    "papermill": {
     "duration": 0.026176,
     "end_time": "2023-06-24T14:45:57.913956",
     "exception": false,
     "start_time": "2023-06-24T14:45:57.887780",
     "status": "completed"
    },
    "tags": []
   },
   "outputs": [
    {
     "data": {
      "text/plain": [
       "Publicis Groupe                   102\n",
       "Bosch Group                        70\n",
       "Amazon.com                         53\n",
       "Block                              44\n",
       "Visa                               40\n",
       "                                 ... \n",
       "Cleo AI Ltd                         1\n",
       "ZFX                                 1\n",
       "Aledade                             1\n",
       "IXL Learning                        1\n",
       "Galileo Financial Technologies      1\n",
       "Name: Company, Length: 1006, dtype: int64"
      ]
     },
     "execution_count": 15,
     "metadata": {},
     "output_type": "execute_result"
    }
   ],
   "source": [
    "df1['Company'].value_counts()"
   ]
  },
  {
   "cell_type": "code",
   "execution_count": 16,
   "id": "d04ddc47",
   "metadata": {
    "execution": {
     "iopub.execute_input": "2023-06-24T14:45:57.936169Z",
     "iopub.status.busy": "2023-06-24T14:45:57.935763Z",
     "iopub.status.idle": "2023-06-24T14:45:57.947915Z",
     "shell.execute_reply": "2023-06-24T14:45:57.946944Z"
    },
    "papermill": {
     "duration": 0.026431,
     "end_time": "2023-06-24T14:45:57.950584",
     "exception": false,
     "start_time": "2023-06-24T14:45:57.924153",
     "status": "completed"
    },
    "tags": []
   },
   "outputs": [
    {
     "data": {
      "text/plain": [
       "Data Engineer                                         90\n",
       "Data Scientist                                        72\n",
       "Data Analyst                                          69\n",
       "Senior Data Engineer                                  63\n",
       "Machine Learning Engineer                             41\n",
       "                                                      ..\n",
       "Senior Data Scientist - Retailer                       1\n",
       "Associate Director, Business Intelligence              1\n",
       "Sr. Data Engineer - (Java + Spark)                     1\n",
       "Staff Software Engineer - Streaming Data Pipelines     1\n",
       "Data Scientist - New College Graduate                  1\n",
       "Name: Job Title, Length: 1881, dtype: int64"
      ]
     },
     "execution_count": 16,
     "metadata": {},
     "output_type": "execute_result"
    }
   ],
   "source": [
    "df1['Job Title'].value_counts()"
   ]
  },
  {
   "cell_type": "code",
   "execution_count": 17,
   "id": "f4648ac4",
   "metadata": {
    "execution": {
     "iopub.execute_input": "2023-06-24T14:45:57.973861Z",
     "iopub.status.busy": "2023-06-24T14:45:57.973404Z",
     "iopub.status.idle": "2023-06-24T14:45:57.983911Z",
     "shell.execute_reply": "2023-06-24T14:45:57.982533Z"
    },
    "papermill": {
     "duration": 0.026172,
     "end_time": "2023-06-24T14:45:57.987195",
     "exception": false,
     "start_time": "2023-06-24T14:45:57.961023",
     "status": "completed"
    },
    "tags": []
   },
   "outputs": [
    {
     "data": {
      "text/plain": [
       "Full Time    2596\n",
       "Part Time       4\n",
       "Name: Job Type, dtype: int64"
      ]
     },
     "execution_count": 17,
     "metadata": {},
     "output_type": "execute_result"
    }
   ],
   "source": [
    "df1['Job Type'].value_counts()"
   ]
  },
  {
   "cell_type": "code",
   "execution_count": 18,
   "id": "17242044",
   "metadata": {
    "execution": {
     "iopub.execute_input": "2023-06-24T14:45:58.010858Z",
     "iopub.status.busy": "2023-06-24T14:45:58.010330Z",
     "iopub.status.idle": "2023-06-24T14:45:58.021045Z",
     "shell.execute_reply": "2023-06-24T14:45:58.019318Z"
    },
    "papermill": {
     "duration": 0.025412,
     "end_time": "2023-06-24T14:45:58.023558",
     "exception": false,
     "start_time": "2023-06-24T14:45:57.998146",
     "status": "completed"
    },
    "tags": []
   },
   "outputs": [
    {
     "data": {
      "text/plain": [
       "Senior-level       1701\n",
       "Mid-level           433\n",
       "Entry-level         349\n",
       "Executive-level     117\n",
       "Name: Experience level, dtype: int64"
      ]
     },
     "execution_count": 18,
     "metadata": {},
     "output_type": "execute_result"
    }
   ],
   "source": [
    "df1['Experience level'].value_counts()"
   ]
  },
  {
   "cell_type": "code",
   "execution_count": 19,
   "id": "53069ec2",
   "metadata": {
    "execution": {
     "iopub.execute_input": "2023-06-24T14:45:58.048739Z",
     "iopub.status.busy": "2023-06-24T14:45:58.047329Z",
     "iopub.status.idle": "2023-06-24T14:45:58.060218Z",
     "shell.execute_reply": "2023-06-24T14:45:58.058908Z"
    },
    "papermill": {
     "duration": 0.029424,
     "end_time": "2023-06-24T14:45:58.063371",
     "exception": false,
     "start_time": "2023-06-24T14:45:58.033947",
     "status": "completed"
    },
    "tags": []
   },
   "outputs": [
    {
     "data": {
      "text/plain": [
       " 115K+ *    242\n",
       " 62K+ *     200\n",
       " 92K+ *     165\n",
       " 129K+ *    157\n",
       " 55K+ *     145\n",
       "           ... \n",
       " 227K+        1\n",
       " 111K+        1\n",
       " 51K+         1\n",
       " 83K+         1\n",
       " 117K+        1\n",
       "Name: Salary, Length: 214, dtype: int64"
      ]
     },
     "execution_count": 19,
     "metadata": {},
     "output_type": "execute_result"
    }
   ],
   "source": [
    "df1['Salary'].value_counts()"
   ]
  },
  {
   "cell_type": "code",
   "execution_count": 20,
   "id": "6c37df2a",
   "metadata": {
    "execution": {
     "iopub.execute_input": "2023-06-24T14:45:58.087932Z",
     "iopub.status.busy": "2023-06-24T14:45:58.087245Z",
     "iopub.status.idle": "2023-06-24T14:45:58.439926Z",
     "shell.execute_reply": "2023-06-24T14:45:58.438668Z"
    },
    "papermill": {
     "duration": 0.368397,
     "end_time": "2023-06-24T14:45:58.442891",
     "exception": false,
     "start_time": "2023-06-24T14:45:58.074494",
     "status": "completed"
    },
    "tags": []
   },
   "outputs": [
    {
     "data": {
      "text/plain": [
       "<Axes: ylabel='Experience level'>"
      ]
     },
     "execution_count": 20,
     "metadata": {},
     "output_type": "execute_result"
    },
    {
     "data": {
      "image/png": "[encoded data removed]",
      "text/plain": [
       "<Figure size 2000x800 with 1 Axes>"
      ]
     },
     "metadata": {},
     "output_type": "display_data"
    }
   ],
   "source": [
    "import matplotlib.pyplot as plt\n",
    "plt.figure(figsize=(20,8))\n",
    "df1['Experience level'].value_counts().plot.pie(autopct='%1.1f%%')"
   ]
  },
  {
   "cell_type": "code",
   "execution_count": 21,
   "id": "0442dce4",
   "metadata": {
    "execution": {
     "iopub.execute_input": "2023-06-24T14:45:58.469432Z",
     "iopub.status.busy": "2023-06-24T14:45:58.468663Z",
     "iopub.status.idle": "2023-06-24T14:45:58.690359Z",
     "shell.execute_reply": "2023-06-24T14:45:58.688681Z"
    },
    "papermill": {
     "duration": 0.240949,
     "end_time": "2023-06-24T14:45:58.695020",
     "exception": false,
     "start_time": "2023-06-24T14:45:58.454071",
     "status": "completed"
    },
    "tags": []
   },
   "outputs": [
    {
     "data": {
      "text/plain": [
       "<Axes: ylabel='Job Type'>"
      ]
     },
     "execution_count": 21,
     "metadata": {},
     "output_type": "execute_result"
    },
    {
     "data": {
      "image/png": "[encoded data removed]",
      "text/plain": [
       "<Figure size 2000x800 with 1 Axes>"
      ]
     },
     "metadata": {},
     "output_type": "display_data"
    }
   ],
   "source": [
    "plt.figure(figsize=(20,8))\n",
    "df1['Job Type'].value_counts().plot.pie(autopct='%1.1f%%')"
   ]
  },
  {
   "cell_type": "code",
   "execution_count": null,
   "id": "b3e6766d",
   "metadata": {
    "papermill": {
     "duration": 0.011606,
     "end_time": "2023-06-24T14:45:58.721634",
     "exception": false,
     "start_time": "2023-06-24T14:45:58.710028",
     "status": "completed"
    },
    "tags": []
   },
   "outputs": [],
   "source": []
  }
 ],
 "metadata": {
  "kernelspec": {
   "display_name": "Python 3",
   "language": "python",
   "name": "python3"
  },
  "language_info": {
   "codemirror_mode": {
    "name": "ipython",
    "version": 3
   },
   "file_extension": ".py",
   "mimetype": "text/x-python",
   "name": "python",
   "nbconvert_exporter": "python",
   "pygments_lexer": "ipython3",
   "version": "3.10.10"
  },
  "papermill": {
   "default_parameters": {},
   "duration": 15.527782,
   "end_time": "2023-06-24T14:45:59.656181",
   "environment_variables": {},
   "exception": null,
   "input_path": "__notebook__.ipynb",
   "output_path": "__notebook__.ipynb",
   "parameters": {},
   "start_time": "2023-06-24T14:45:44.128399",
   "version": "2.4.0"
  }
 },
 "nbformat": 4,
 "nbformat_minor": 5
}
