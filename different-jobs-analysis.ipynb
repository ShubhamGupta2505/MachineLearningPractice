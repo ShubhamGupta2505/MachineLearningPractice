{
 "cells": [
  {
   "cell_type": "code",
   "execution_count": 1,
   "id": "f7c0569b",
   "metadata": {
    "_cell_guid": "b1076dfc-b9ad-4769-8c92-a6c4dae69d19",
    "_uuid": "8f2839f25d086af736a60e9eeb907d3b93b6e0e5",
    "execution": {
     "iopub.execute_input": "2023-06-24T14:38:17.243123Z",
     "iopub.status.busy": "2023-06-24T14:38:17.242723Z",
     "iopub.status.idle": "2023-06-24T14:38:17.262358Z",
     "shell.execute_reply": "2023-06-24T14:38:17.261395Z"
    },
    "papermill": {
     "duration": 0.029873,
     "end_time": "2023-06-24T14:38:17.265244",
     "exception": false,
     "start_time": "2023-06-24T14:38:17.235371",
     "status": "completed"
    },
    "tags": []
   },
   "outputs": [
    {
     "name": "stdout",
     "output_type": "stream",
     "text": [
      "/kaggle/input/data-science-jobs-comprehensive-dataset/data_science_job.csv\n"
     ]
    }
   ],
   "source": [
    "# This Python 3 environment comes with many helpful analytics libraries installed\n",
    "# It is defined by the kaggle/python Docker image: https://github.com/kaggle/docker-python\n",
    "# For example, here's several helpful packages to load\n",
    "\n",
    "import numpy as np # linear algebra\n",
    "import pandas as pd # data processing, CSV file I/O (e.g. pd.read_csv)\n",
    "\n",
    "# Input data files are available in the read-only \"../input/\" directory\n",
    "# For example, running this (by clicking run or pressing Shift+Enter) will list all files under the input directory\n",
    "\n",
    "import os\n",
    "for dirname, _, filenames in os.walk('/kaggle/input'):\n",
    "    for filename in filenames:\n",
    "        print(os.path.join(dirname, filename))\n",
    "\n",
    "# You can write up to 20GB to the current directory (/kaggle/working/) that gets preserved as output when you create a version using \"Save & Run All\" \n",
    "# You can also write temporary files to /kaggle/temp/, but they won't be saved outside of the current session"
   ]
  },
  {
   "cell_type": "code",
   "execution_count": 2,
   "id": "1dba509b",
   "metadata": {
    "execution": {
     "iopub.execute_input": "2023-06-24T14:38:17.277602Z",
     "iopub.status.busy": "2023-06-24T14:38:17.277167Z",
     "iopub.status.idle": "2023-06-24T14:38:17.353637Z",
     "shell.execute_reply": "2023-06-24T14:38:17.352588Z"
    },
    "papermill": {
     "duration": 0.08564,
     "end_time": "2023-06-24T14:38:17.356303",
     "exception": false,
     "start_time": "2023-06-24T14:38:17.270663",
     "status": "completed"
    },
    "tags": []
   },
   "outputs": [
    {
     "data": {
      "text/html": [
       "<div>\n",
       "<style scoped>\n",
       "    .dataframe tbody tr th:only-of-type {\n",
       "        vertical-align: middle;\n",
       "    }\n",
       "\n",
       "    .dataframe tbody tr th {\n",
       "        vertical-align: top;\n",
       "    }\n",
       "\n",
       "    .dataframe thead th {\n",
       "        text-align: right;\n",
       "    }\n",
       "</style>\n",
       "<table border=\"1\" class=\"dataframe\">\n",
       "  <thead>\n",
       "    <tr style=\"text-align: right;\">\n",
       "      <th></th>\n",
       "      <th>Company</th>\n",
       "      <th>Job Title</th>\n",
       "      <th>Location</th>\n",
       "      <th>Job Type</th>\n",
       "      <th>Experience level</th>\n",
       "      <th>Salary</th>\n",
       "      <th>Requirment of the company</th>\n",
       "      <th>Facilities</th>\n",
       "    </tr>\n",
       "  </thead>\n",
       "  <tbody>\n",
       "    <tr>\n",
       "      <th>0</th>\n",
       "      <td>SGS</td>\n",
       "      <td>Clinical Data Analyst</td>\n",
       "      <td>Richardson, TX, United States</td>\n",
       "      <td>Full Time</td>\n",
       "      <td>Entry-level</td>\n",
       "      <td>48K+ *</td>\n",
       "      <td>Computer Science,Data quality,Genetics,Mathema...</td>\n",
       "      <td>,,,,</td>\n",
       "    </tr>\n",
       "    <tr>\n",
       "      <th>1</th>\n",
       "      <td>Ocorian</td>\n",
       "      <td>AML/CFT &amp; Data Analyst</td>\n",
       "      <td>Ebène, Mauritius</td>\n",
       "      <td>Full Time</td>\n",
       "      <td>Entry-level</td>\n",
       "      <td>48K+ *</td>\n",
       "      <td>Agile,Data management,Finance,Security,,</td>\n",
       "      <td>,,,,</td>\n",
       "    </tr>\n",
       "    <tr>\n",
       "      <th>2</th>\n",
       "      <td>Cricut</td>\n",
       "      <td>Machine Learning Engineer</td>\n",
       "      <td>South Jordan, UT, United States</td>\n",
       "      <td>Full Time</td>\n",
       "      <td>NaN</td>\n",
       "      <td>90K+ *</td>\n",
       "      <td>Agile,Architecture,AWS,Computer Science,Comput...</td>\n",
       "      <td>Career development,,,,</td>\n",
       "    </tr>\n",
       "    <tr>\n",
       "      <th>3</th>\n",
       "      <td>Bosch Group</td>\n",
       "      <td>Application Developer &amp; Data Analyst</td>\n",
       "      <td>Nonantola, Italy</td>\n",
       "      <td>Full Time</td>\n",
       "      <td>Entry-level</td>\n",
       "      <td>48K+ *</td>\n",
       "      <td>Engineering,Industrial,Oracle,Power BI,R,R&amp;D</td>\n",
       "      <td>,,,,</td>\n",
       "    </tr>\n",
       "    <tr>\n",
       "      <th>4</th>\n",
       "      <td>Publicis Groupe</td>\n",
       "      <td>Data Engineer Full time (Public Sector) USA</td>\n",
       "      <td>Arlington, VA, United States</td>\n",
       "      <td>Full Time</td>\n",
       "      <td>Mid-level</td>\n",
       "      <td>108K+</td>\n",
       "      <td>AWS,Azure,Computer Science,Consulting,Dataflow...</td>\n",
       "      <td>Flex hours,Flex vacation,Parental leave,Unlimi...</td>\n",
       "    </tr>\n",
       "  </tbody>\n",
       "</table>\n",
       "</div>"
      ],
      "text/plain": [
       "           Company                                    Job Title  \\\n",
       "0              SGS                        Clinical Data Analyst   \n",
       "1          Ocorian                       AML/CFT & Data Analyst   \n",
       "2           Cricut                    Machine Learning Engineer   \n",
       "3      Bosch Group         Application Developer & Data Analyst   \n",
       "4  Publicis Groupe  Data Engineer Full time (Public Sector) USA   \n",
       "\n",
       "                          Location   Job Type Experience level   Salary  \\\n",
       "0    Richardson, TX, United States  Full Time      Entry-level   48K+ *   \n",
       "1                 Ebène, Mauritius  Full Time      Entry-level   48K+ *   \n",
       "2  South Jordan, UT, United States  Full Time              NaN   90K+ *   \n",
       "3                 Nonantola, Italy  Full Time      Entry-level   48K+ *   \n",
       "4     Arlington, VA, United States  Full Time        Mid-level    108K+   \n",
       "\n",
       "                          Requirment of the company   \\\n",
       "0  Computer Science,Data quality,Genetics,Mathema...   \n",
       "1           Agile,Data management,Finance,Security,,   \n",
       "2  Agile,Architecture,AWS,Computer Science,Comput...   \n",
       "3       Engineering,Industrial,Oracle,Power BI,R,R&D   \n",
       "4  AWS,Azure,Computer Science,Consulting,Dataflow...   \n",
       "\n",
       "                                          Facilities  \n",
       "0                                               ,,,,  \n",
       "1                                               ,,,,  \n",
       "2                             Career development,,,,  \n",
       "3                                               ,,,,  \n",
       "4  Flex hours,Flex vacation,Parental leave,Unlimi...  "
      ]
     },
     "execution_count": 2,
     "metadata": {},
     "output_type": "execute_result"
    }
   ],
   "source": [
    "df = pd.read_csv('/kaggle/input/data-science-jobs-comprehensive-dataset/data_science_job.csv',encoding='latin-1')\n",
    "df.head()"
   ]
  },
  {
   "cell_type": "code",
   "execution_count": 3,
   "id": "ebbd95f2",
   "metadata": {
    "execution": {
     "iopub.execute_input": "2023-06-24T14:38:17.369694Z",
     "iopub.status.busy": "2023-06-24T14:38:17.369259Z",
     "iopub.status.idle": "2023-06-24T14:38:17.376661Z",
     "shell.execute_reply": "2023-06-24T14:38:17.375511Z"
    },
    "papermill": {
     "duration": 0.016897,
     "end_time": "2023-06-24T14:38:17.378992",
     "exception": false,
     "start_time": "2023-06-24T14:38:17.362095",
     "status": "completed"
    },
    "tags": []
   },
   "outputs": [
    {
     "data": {
      "text/plain": [
       "(3198, 8)"
      ]
     },
     "execution_count": 3,
     "metadata": {},
     "output_type": "execute_result"
    }
   ],
   "source": [
    "df.shape"
   ]
  },
  {
   "cell_type": "code",
   "execution_count": 4,
   "id": "7d549786",
   "metadata": {
    "execution": {
     "iopub.execute_input": "2023-06-24T14:38:17.391980Z",
     "iopub.status.busy": "2023-06-24T14:38:17.391518Z",
     "iopub.status.idle": "2023-06-24T14:38:17.435670Z",
     "shell.execute_reply": "2023-06-24T14:38:17.434577Z"
    },
    "papermill": {
     "duration": 0.053954,
     "end_time": "2023-06-24T14:38:17.438611",
     "exception": false,
     "start_time": "2023-06-24T14:38:17.384657",
     "status": "completed"
    },
    "tags": []
   },
   "outputs": [
    {
     "data": {
      "text/html": [
       "<div>\n",
       "<style scoped>\n",
       "    .dataframe tbody tr th:only-of-type {\n",
       "        vertical-align: middle;\n",
       "    }\n",
       "\n",
       "    .dataframe tbody tr th {\n",
       "        vertical-align: top;\n",
       "    }\n",
       "\n",
       "    .dataframe thead th {\n",
       "        text-align: right;\n",
       "    }\n",
       "</style>\n",
       "<table border=\"1\" class=\"dataframe\">\n",
       "  <thead>\n",
       "    <tr style=\"text-align: right;\">\n",
       "      <th></th>\n",
       "      <th>Company</th>\n",
       "      <th>Job Title</th>\n",
       "      <th>Location</th>\n",
       "      <th>Job Type</th>\n",
       "      <th>Experience level</th>\n",
       "      <th>Salary</th>\n",
       "      <th>Requirment of the company</th>\n",
       "      <th>Facilities</th>\n",
       "    </tr>\n",
       "  </thead>\n",
       "  <tbody>\n",
       "    <tr>\n",
       "      <th>count</th>\n",
       "      <td>3197</td>\n",
       "      <td>3197</td>\n",
       "      <td>3197</td>\n",
       "      <td>3197</td>\n",
       "      <td>2962</td>\n",
       "      <td>3009</td>\n",
       "      <td>3198</td>\n",
       "      <td>3198</td>\n",
       "    </tr>\n",
       "    <tr>\n",
       "      <th>unique</th>\n",
       "      <td>1106</td>\n",
       "      <td>2138</td>\n",
       "      <td>1117</td>\n",
       "      <td>3</td>\n",
       "      <td>4</td>\n",
       "      <td>218</td>\n",
       "      <td>2600</td>\n",
       "      <td>777</td>\n",
       "    </tr>\n",
       "    <tr>\n",
       "      <th>top</th>\n",
       "      <td>Publicis Groupe</td>\n",
       "      <td>Data Engineer</td>\n",
       "      <td>Bengaluru, India</td>\n",
       "      <td>Full Time</td>\n",
       "      <td>Senior-level</td>\n",
       "      <td>115K+ *</td>\n",
       "      <td>Big Data,Business Intelligence,Data analysis,E...</td>\n",
       "      <td>,,,,</td>\n",
       "    </tr>\n",
       "    <tr>\n",
       "      <th>freq</th>\n",
       "      <td>126</td>\n",
       "      <td>105</td>\n",
       "      <td>90</td>\n",
       "      <td>3116</td>\n",
       "      <td>1876</td>\n",
       "      <td>253</td>\n",
       "      <td>12</td>\n",
       "      <td>542</td>\n",
       "    </tr>\n",
       "  </tbody>\n",
       "</table>\n",
       "</div>"
      ],
      "text/plain": [
       "                Company      Job Title          Location   Job Type  \\\n",
       "count              3197           3197              3197       3197   \n",
       "unique             1106           2138              1117          3   \n",
       "top     Publicis Groupe  Data Engineer  Bengaluru, India  Full Time   \n",
       "freq                126            105                90       3116   \n",
       "\n",
       "       Experience level    Salary  \\\n",
       "count              2962      3009   \n",
       "unique                4       218   \n",
       "top        Senior-level   115K+ *   \n",
       "freq               1876       253   \n",
       "\n",
       "                               Requirment of the company  Facilities  \n",
       "count                                                3198       3198  \n",
       "unique                                               2600        777  \n",
       "top     Big Data,Business Intelligence,Data analysis,E...       ,,,,  \n",
       "freq                                                   12        542  "
      ]
     },
     "execution_count": 4,
     "metadata": {},
     "output_type": "execute_result"
    }
   ],
   "source": [
    "df.describe()"
   ]
  },
  {
   "cell_type": "code",
   "execution_count": 5,
   "id": "33f480b1",
   "metadata": {
    "execution": {
     "iopub.execute_input": "2023-06-24T14:38:17.452243Z",
     "iopub.status.busy": "2023-06-24T14:38:17.451856Z",
     "iopub.status.idle": "2023-06-24T14:38:17.478756Z",
     "shell.execute_reply": "2023-06-24T14:38:17.477620Z"
    },
    "papermill": {
     "duration": 0.037092,
     "end_time": "2023-06-24T14:38:17.481474",
     "exception": false,
     "start_time": "2023-06-24T14:38:17.444382",
     "status": "completed"
    },
    "tags": []
   },
   "outputs": [
    {
     "name": "stdout",
     "output_type": "stream",
     "text": [
      "<class 'pandas.core.frame.DataFrame'>\n",
      "RangeIndex: 3198 entries, 0 to 3197\n",
      "Data columns (total 8 columns):\n",
      " #   Column                      Non-Null Count  Dtype \n",
      "---  ------                      --------------  ----- \n",
      " 0   Company                     3197 non-null   object\n",
      " 1   Job Title                   3197 non-null   object\n",
      " 2   Location                    3197 non-null   object\n",
      " 3   Job Type                    3197 non-null   object\n",
      " 4   Experience level            2962 non-null   object\n",
      " 5   Salary                      3009 non-null   object\n",
      " 6   Requirment of the company   3198 non-null   object\n",
      " 7   Facilities                  3198 non-null   object\n",
      "dtypes: object(8)\n",
      "memory usage: 200.0+ KB\n"
     ]
    }
   ],
   "source": [
    "df.info()"
   ]
  },
  {
   "cell_type": "code",
   "execution_count": 6,
   "id": "b6dbcd0b",
   "metadata": {
    "execution": {
     "iopub.execute_input": "2023-06-24T14:38:17.496546Z",
     "iopub.status.busy": "2023-06-24T14:38:17.496154Z",
     "iopub.status.idle": "2023-06-24T14:38:17.504095Z",
     "shell.execute_reply": "2023-06-24T14:38:17.502960Z"
    },
    "papermill": {
     "duration": 0.01788,
     "end_time": "2023-06-24T14:38:17.506642",
     "exception": false,
     "start_time": "2023-06-24T14:38:17.488762",
     "status": "completed"
    },
    "tags": []
   },
   "outputs": [
    {
     "data": {
      "text/plain": [
       "Company                       object\n",
       "Job Title                     object\n",
       "Location                      object\n",
       "Job Type                      object\n",
       "Experience level              object\n",
       "Salary                        object\n",
       "Requirment of the company     object\n",
       "Facilities                    object\n",
       "dtype: object"
      ]
     },
     "execution_count": 6,
     "metadata": {},
     "output_type": "execute_result"
    }
   ],
   "source": [
    "df.dtypes"
   ]
  },
  {
   "cell_type": "code",
   "execution_count": 7,
   "id": "f7a71ecb",
   "metadata": {
    "execution": {
     "iopub.execute_input": "2023-06-24T14:38:17.522452Z",
     "iopub.status.busy": "2023-06-24T14:38:17.522089Z",
     "iopub.status.idle": "2023-06-24T14:38:17.539217Z",
     "shell.execute_reply": "2023-06-24T14:38:17.538090Z"
    },
    "papermill": {
     "duration": 0.028894,
     "end_time": "2023-06-24T14:38:17.541811",
     "exception": false,
     "start_time": "2023-06-24T14:38:17.512917",
     "status": "completed"
    },
    "tags": []
   },
   "outputs": [
    {
     "data": {
      "text/plain": [
       "Company                         1\n",
       "Job Title                       1\n",
       "Location                        1\n",
       "Job Type                        1\n",
       "Experience level              236\n",
       "Salary                        189\n",
       "Requirment of the company       0\n",
       "Facilities                      0\n",
       "dtype: int64"
      ]
     },
     "execution_count": 7,
     "metadata": {},
     "output_type": "execute_result"
    }
   ],
   "source": [
    "df.isnull().sum()"
   ]
  },
  {
   "cell_type": "code",
   "execution_count": 8,
   "id": "b3d3c6be",
   "metadata": {
    "execution": {
     "iopub.execute_input": "2023-06-24T14:38:17.556329Z",
     "iopub.status.busy": "2023-06-24T14:38:17.555954Z",
     "iopub.status.idle": "2023-06-24T14:38:17.572989Z",
     "shell.execute_reply": "2023-06-24T14:38:17.571869Z"
    },
    "papermill": {
     "duration": 0.027275,
     "end_time": "2023-06-24T14:38:17.575436",
     "exception": false,
     "start_time": "2023-06-24T14:38:17.548161",
     "status": "completed"
    },
    "tags": []
   },
   "outputs": [
    {
     "data": {
      "text/plain": [
       "202"
      ]
     },
     "execution_count": 8,
     "metadata": {},
     "output_type": "execute_result"
    }
   ],
   "source": [
    "df.duplicated().sum()"
   ]
  },
  {
   "cell_type": "code",
   "execution_count": 9,
   "id": "9272f52b",
   "metadata": {
    "execution": {
     "iopub.execute_input": "2023-06-24T14:38:17.590455Z",
     "iopub.status.busy": "2023-06-24T14:38:17.590094Z",
     "iopub.status.idle": "2023-06-24T14:38:17.605152Z",
     "shell.execute_reply": "2023-06-24T14:38:17.604171Z"
    },
    "papermill": {
     "duration": 0.025605,
     "end_time": "2023-06-24T14:38:17.607590",
     "exception": false,
     "start_time": "2023-06-24T14:38:17.581985",
     "status": "completed"
    },
    "tags": []
   },
   "outputs": [],
   "source": [
    "df1 = df.dropna()"
   ]
  },
  {
   "cell_type": "code",
   "execution_count": 10,
   "id": "bf2109a8",
   "metadata": {
    "execution": {
     "iopub.execute_input": "2023-06-24T14:38:17.622312Z",
     "iopub.status.busy": "2023-06-24T14:38:17.621951Z",
     "iopub.status.idle": "2023-06-24T14:38:17.637344Z",
     "shell.execute_reply": "2023-06-24T14:38:17.636260Z"
    },
    "papermill": {
     "duration": 0.025858,
     "end_time": "2023-06-24T14:38:17.639928",
     "exception": false,
     "start_time": "2023-06-24T14:38:17.614070",
     "status": "completed"
    },
    "tags": []
   },
   "outputs": [
    {
     "data": {
      "text/plain": [
       "Company                       0\n",
       "Job Title                     0\n",
       "Location                      0\n",
       "Job Type                      0\n",
       "Experience level              0\n",
       "Salary                        0\n",
       "Requirment of the company     0\n",
       "Facilities                    0\n",
       "dtype: int64"
      ]
     },
     "execution_count": 10,
     "metadata": {},
     "output_type": "execute_result"
    }
   ],
   "source": [
    "df1.isnull().sum()"
   ]
  },
  {
   "cell_type": "code",
   "execution_count": 11,
   "id": "9dcbb8cb",
   "metadata": {
    "execution": {
     "iopub.execute_input": "2023-06-24T14:38:17.655172Z",
     "iopub.status.busy": "2023-06-24T14:38:17.654809Z",
     "iopub.status.idle": "2023-06-24T14:38:17.667712Z",
     "shell.execute_reply": "2023-06-24T14:38:17.666620Z"
    },
    "papermill": {
     "duration": 0.02356,
     "end_time": "2023-06-24T14:38:17.670146",
     "exception": false,
     "start_time": "2023-06-24T14:38:17.646586",
     "status": "completed"
    },
    "tags": []
   },
   "outputs": [
    {
     "data": {
      "text/plain": [
       "177"
      ]
     },
     "execution_count": 11,
     "metadata": {},
     "output_type": "execute_result"
    }
   ],
   "source": [
    "df1.duplicated().sum()"
   ]
  },
  {
   "cell_type": "code",
   "execution_count": 12,
   "id": "e18b42bf",
   "metadata": {
    "execution": {
     "iopub.execute_input": "2023-06-24T14:38:17.686002Z",
     "iopub.status.busy": "2023-06-24T14:38:17.685282Z",
     "iopub.status.idle": "2023-06-24T14:38:17.695522Z",
     "shell.execute_reply": "2023-06-24T14:38:17.694643Z"
    },
    "papermill": {
     "duration": 0.0211,
     "end_time": "2023-06-24T14:38:17.698078",
     "exception": false,
     "start_time": "2023-06-24T14:38:17.676978",
     "status": "completed"
    },
    "tags": []
   },
   "outputs": [],
   "source": [
    "df1 = df1.drop_duplicates()"
   ]
  },
  {
   "cell_type": "code",
   "execution_count": 13,
   "id": "2f4cdd1d",
   "metadata": {
    "execution": {
     "iopub.execute_input": "2023-06-24T14:38:17.713820Z",
     "iopub.status.busy": "2023-06-24T14:38:17.713037Z",
     "iopub.status.idle": "2023-06-24T14:38:17.725115Z",
     "shell.execute_reply": "2023-06-24T14:38:17.723946Z"
    },
    "papermill": {
     "duration": 0.022843,
     "end_time": "2023-06-24T14:38:17.727705",
     "exception": false,
     "start_time": "2023-06-24T14:38:17.704862",
     "status": "completed"
    },
    "tags": []
   },
   "outputs": [
    {
     "data": {
      "text/plain": [
       "0"
      ]
     },
     "execution_count": 13,
     "metadata": {},
     "output_type": "execute_result"
    }
   ],
   "source": [
    "df1.duplicated().sum()"
   ]
  }
 ],
 "metadata": {
  "kernelspec": {
   "display_name": "Python 3",
   "language": "python",
   "name": "python3"
  },
  "language_info": {
   "codemirror_mode": {
    "name": "ipython",
    "version": 3
   },
   "file_extension": ".py",
   "mimetype": "text/x-python",
   "name": "python",
   "nbconvert_exporter": "python",
   "pygments_lexer": "ipython3",
   "version": "3.10.10"
  },
  "papermill": {
   "default_parameters": {},
   "duration": 13.649331,
   "end_time": "2023-06-24T14:38:18.657196",
   "environment_variables": {},
   "exception": null,
   "input_path": "__notebook__.ipynb",
   "output_path": "__notebook__.ipynb",
   "parameters": {},
   "start_time": "2023-06-24T14:38:05.007865",
   "version": "2.4.0"
  }
 },
 "nbformat": 4,
 "nbformat_minor": 5
}
