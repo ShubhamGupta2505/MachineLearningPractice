{
 "cells": [
  {
   "cell_type": "code",
   "execution_count": 1,
   "id": "37156f0a",
   "metadata": {
    "_cell_guid": "b1076dfc-b9ad-4769-8c92-a6c4dae69d19",
    "_uuid": "8f2839f25d086af736a60e9eeb907d3b93b6e0e5",
    "execution": {
     "iopub.execute_input": "2023-07-03T06:12:00.425832Z",
     "iopub.status.busy": "2023-07-03T06:12:00.425373Z",
     "iopub.status.idle": "2023-07-03T06:12:00.443286Z",
     "shell.execute_reply": "2023-07-03T06:12:00.442176Z"
    },
    "papermill": {
     "duration": 0.029009,
     "end_time": "2023-07-03T06:12:00.446148",
     "exception": false,
     "start_time": "2023-07-03T06:12:00.417139",
     "status": "completed"
    },
    "tags": []
   },
   "outputs": [
    {
     "name": "stdout",
     "output_type": "stream",
     "text": [
      "/kaggle/input/david-warner-all-international-cricket-centuries/David-Warner-All-International-Cricket-Centuries.csv\n"
     ]
    }
   ],
   "source": [
    "# This Python 3 environment comes with many helpful analytics libraries installed\n",
    "# It is defined by the kaggle/python Docker image: https://github.com/kaggle/docker-python\n",
    "# For example, here's several helpful packages to load\n",
    "\n",
    "import numpy as np # linear algebra\n",
    "import pandas as pd # data processing, CSV file I/O (e.g. pd.read_csv)\n",
    "\n",
    "# Input data files are available in the read-only \"../input/\" directory\n",
    "# For example, running this (by clicking run or pressing Shift+Enter) will list all files under the input directory\n",
    "\n",
    "import os\n",
    "for dirname, _, filenames in os.walk('/kaggle/input'):\n",
    "    for filename in filenames:\n",
    "        print(os.path.join(dirname, filename))\n",
    "\n",
    "# You can write up to 20GB to the current directory (/kaggle/working/) that gets preserved as output when you create a version using \"Save & Run All\" \n",
    "# You can also write temporary files to /kaggle/temp/, but they won't be saved outside of the current session"
   ]
  },
  {
   "cell_type": "code",
   "execution_count": 2,
   "id": "c62db5b4",
   "metadata": {
    "execution": {
     "iopub.execute_input": "2023-07-03T06:12:00.460484Z",
     "iopub.status.busy": "2023-07-03T06:12:00.459844Z",
     "iopub.status.idle": "2023-07-03T06:12:00.514479Z",
     "shell.execute_reply": "2023-07-03T06:12:00.513145Z"
    },
    "papermill": {
     "duration": 0.065,
     "end_time": "2023-07-03T06:12:00.517103",
     "exception": false,
     "start_time": "2023-07-03T06:12:00.452103",
     "status": "completed"
    },
    "tags": []
   },
   "outputs": [
    {
     "data": {
      "text/html": [
       "<div>\n",
       "<style scoped>\n",
       "    .dataframe tbody tr th:only-of-type {\n",
       "        vertical-align: middle;\n",
       "    }\n",
       "\n",
       "    .dataframe tbody tr th {\n",
       "        vertical-align: top;\n",
       "    }\n",
       "\n",
       "    .dataframe thead th {\n",
       "        text-align: right;\n",
       "    }\n",
       "</style>\n",
       "<table border=\"1\" class=\"dataframe\">\n",
       "  <thead>\n",
       "    <tr style=\"text-align: right;\">\n",
       "      <th></th>\n",
       "      <th>No.</th>\n",
       "      <th>Score</th>\n",
       "      <th>Against</th>\n",
       "      <th>Position</th>\n",
       "      <th>Innings</th>\n",
       "      <th>Venue</th>\n",
       "      <th>Ground</th>\n",
       "      <th>Date</th>\n",
       "      <th>Result</th>\n",
       "    </tr>\n",
       "  </thead>\n",
       "  <tbody>\n",
       "    <tr>\n",
       "      <th>0</th>\n",
       "      <td>1</td>\n",
       "      <td>123*</td>\n",
       "      <td>New Zealand</td>\n",
       "      <td>2</td>\n",
       "      <td>4</td>\n",
       "      <td>Bellerive Oval, Hobart</td>\n",
       "      <td>Home</td>\n",
       "      <td>09-Dec-11</td>\n",
       "      <td>Lost</td>\n",
       "    </tr>\n",
       "    <tr>\n",
       "      <th>1</th>\n",
       "      <td>2</td>\n",
       "      <td>180</td>\n",
       "      <td>India</td>\n",
       "      <td>2</td>\n",
       "      <td>2</td>\n",
       "      <td>WACA Ground, Perth</td>\n",
       "      <td>Home</td>\n",
       "      <td>13-Jan-12</td>\n",
       "      <td>Won</td>\n",
       "    </tr>\n",
       "    <tr>\n",
       "      <th>2</th>\n",
       "      <td>3</td>\n",
       "      <td>163</td>\n",
       "      <td>Sri Lanka</td>\n",
       "      <td>1</td>\n",
       "      <td>1</td>\n",
       "      <td>The Gabba, Brisbane</td>\n",
       "      <td>Home</td>\n",
       "      <td>04-Mar-12</td>\n",
       "      <td>Won</td>\n",
       "    </tr>\n",
       "    <tr>\n",
       "      <th>3</th>\n",
       "      <td>4</td>\n",
       "      <td>100</td>\n",
       "      <td>Sri Lanka</td>\n",
       "      <td>2</td>\n",
       "      <td>1</td>\n",
       "      <td>Adelaide Oval, Adelaide</td>\n",
       "      <td>Home</td>\n",
       "      <td>06-Mar-12</td>\n",
       "      <td>Lost</td>\n",
       "    </tr>\n",
       "    <tr>\n",
       "      <th>4</th>\n",
       "      <td>5</td>\n",
       "      <td>119</td>\n",
       "      <td>South Africa</td>\n",
       "      <td>1</td>\n",
       "      <td>1</td>\n",
       "      <td>Adelaide Oval, Adelaide</td>\n",
       "      <td>Home</td>\n",
       "      <td>22-Nov-12</td>\n",
       "      <td>Drawn</td>\n",
       "    </tr>\n",
       "  </tbody>\n",
       "</table>\n",
       "</div>"
      ],
      "text/plain": [
       "   No.  Score        Against  Position  Innings                    Venue  \\\n",
       "0    1  123*     New Zealand         2        4   Bellerive Oval, Hobart   \n",
       "1    2    180          India         2        2       WACA Ground, Perth   \n",
       "2    3    163      Sri Lanka         1        1      The Gabba, Brisbane   \n",
       "3    4    100      Sri Lanka         2        1  Adelaide Oval, Adelaide   \n",
       "4    5    119   South Africa         1        1  Adelaide Oval, Adelaide   \n",
       "\n",
       "  Ground       Date Result  \n",
       "0   Home  09-Dec-11   Lost  \n",
       "1   Home  13-Jan-12    Won  \n",
       "2   Home  04-Mar-12    Won  \n",
       "3   Home  06-Mar-12   Lost  \n",
       "4   Home  22-Nov-12  Drawn  "
      ]
     },
     "execution_count": 2,
     "metadata": {},
     "output_type": "execute_result"
    }
   ],
   "source": [
    "df = pd.read_csv('/kaggle/input/david-warner-all-international-cricket-centuries/David-Warner-All-International-Cricket-Centuries.csv')\n",
    "df.head()"
   ]
  },
  {
   "cell_type": "code",
   "execution_count": 3,
   "id": "c8374c2e",
   "metadata": {
    "execution": {
     "iopub.execute_input": "2023-07-03T06:12:00.531280Z",
     "iopub.status.busy": "2023-07-03T06:12:00.530894Z",
     "iopub.status.idle": "2023-07-03T06:12:00.538534Z",
     "shell.execute_reply": "2023-07-03T06:12:00.537363Z"
    },
    "papermill": {
     "duration": 0.017366,
     "end_time": "2023-07-03T06:12:00.540993",
     "exception": false,
     "start_time": "2023-07-03T06:12:00.523627",
     "status": "completed"
    },
    "tags": []
   },
   "outputs": [
    {
     "data": {
      "text/plain": [
       "(45, 9)"
      ]
     },
     "execution_count": 3,
     "metadata": {},
     "output_type": "execute_result"
    }
   ],
   "source": [
    "df.shape"
   ]
  },
  {
   "cell_type": "code",
   "execution_count": 4,
   "id": "a3b1bf76",
   "metadata": {
    "execution": {
     "iopub.execute_input": "2023-07-03T06:12:00.555109Z",
     "iopub.status.busy": "2023-07-03T06:12:00.554728Z",
     "iopub.status.idle": "2023-07-03T06:12:00.585120Z",
     "shell.execute_reply": "2023-07-03T06:12:00.583933Z"
    },
    "papermill": {
     "duration": 0.040713,
     "end_time": "2023-07-03T06:12:00.587809",
     "exception": false,
     "start_time": "2023-07-03T06:12:00.547096",
     "status": "completed"
    },
    "tags": []
   },
   "outputs": [
    {
     "data": {
      "text/html": [
       "<div>\n",
       "<style scoped>\n",
       "    .dataframe tbody tr th:only-of-type {\n",
       "        vertical-align: middle;\n",
       "    }\n",
       "\n",
       "    .dataframe tbody tr th {\n",
       "        vertical-align: top;\n",
       "    }\n",
       "\n",
       "    .dataframe thead th {\n",
       "        text-align: right;\n",
       "    }\n",
       "</style>\n",
       "<table border=\"1\" class=\"dataframe\">\n",
       "  <thead>\n",
       "    <tr style=\"text-align: right;\">\n",
       "      <th></th>\n",
       "      <th>No.</th>\n",
       "      <th>Position</th>\n",
       "      <th>Innings</th>\n",
       "    </tr>\n",
       "  </thead>\n",
       "  <tbody>\n",
       "    <tr>\n",
       "      <th>count</th>\n",
       "      <td>45.000000</td>\n",
       "      <td>45.000000</td>\n",
       "      <td>45.000000</td>\n",
       "    </tr>\n",
       "    <tr>\n",
       "      <th>mean</th>\n",
       "      <td>23.000000</td>\n",
       "      <td>1.511111</td>\n",
       "      <td>1.733333</td>\n",
       "    </tr>\n",
       "    <tr>\n",
       "      <th>std</th>\n",
       "      <td>13.133926</td>\n",
       "      <td>0.505525</td>\n",
       "      <td>0.889331</td>\n",
       "    </tr>\n",
       "    <tr>\n",
       "      <th>min</th>\n",
       "      <td>1.000000</td>\n",
       "      <td>1.000000</td>\n",
       "      <td>1.000000</td>\n",
       "    </tr>\n",
       "    <tr>\n",
       "      <th>25%</th>\n",
       "      <td>12.000000</td>\n",
       "      <td>1.000000</td>\n",
       "      <td>1.000000</td>\n",
       "    </tr>\n",
       "    <tr>\n",
       "      <th>50%</th>\n",
       "      <td>23.000000</td>\n",
       "      <td>2.000000</td>\n",
       "      <td>1.000000</td>\n",
       "    </tr>\n",
       "    <tr>\n",
       "      <th>75%</th>\n",
       "      <td>34.000000</td>\n",
       "      <td>2.000000</td>\n",
       "      <td>2.000000</td>\n",
       "    </tr>\n",
       "    <tr>\n",
       "      <th>max</th>\n",
       "      <td>45.000000</td>\n",
       "      <td>2.000000</td>\n",
       "      <td>4.000000</td>\n",
       "    </tr>\n",
       "  </tbody>\n",
       "</table>\n",
       "</div>"
      ],
      "text/plain": [
       "             No.   Position    Innings\n",
       "count  45.000000  45.000000  45.000000\n",
       "mean   23.000000   1.511111   1.733333\n",
       "std    13.133926   0.505525   0.889331\n",
       "min     1.000000   1.000000   1.000000\n",
       "25%    12.000000   1.000000   1.000000\n",
       "50%    23.000000   2.000000   1.000000\n",
       "75%    34.000000   2.000000   2.000000\n",
       "max    45.000000   2.000000   4.000000"
      ]
     },
     "execution_count": 4,
     "metadata": {},
     "output_type": "execute_result"
    }
   ],
   "source": [
    "df.describe()"
   ]
  },
  {
   "cell_type": "code",
   "execution_count": 5,
   "id": "cc1bcc29",
   "metadata": {
    "execution": {
     "iopub.execute_input": "2023-07-03T06:12:00.603545Z",
     "iopub.status.busy": "2023-07-03T06:12:00.603076Z",
     "iopub.status.idle": "2023-07-03T06:12:00.634306Z",
     "shell.execute_reply": "2023-07-03T06:12:00.632923Z"
    },
    "papermill": {
     "duration": 0.042085,
     "end_time": "2023-07-03T06:12:00.636939",
     "exception": false,
     "start_time": "2023-07-03T06:12:00.594854",
     "status": "completed"
    },
    "tags": []
   },
   "outputs": [
    {
     "name": "stdout",
     "output_type": "stream",
     "text": [
      "<class 'pandas.core.frame.DataFrame'>\n",
      "RangeIndex: 45 entries, 0 to 44\n",
      "Data columns (total 9 columns):\n",
      " #   Column    Non-Null Count  Dtype \n",
      "---  ------    --------------  ----- \n",
      " 0   No.       45 non-null     int64 \n",
      " 1   Score     45 non-null     object\n",
      " 2   Against   45 non-null     object\n",
      " 3   Position  45 non-null     int64 \n",
      " 4   Innings   45 non-null     int64 \n",
      " 5   Venue     45 non-null     object\n",
      " 6   Ground    45 non-null     object\n",
      " 7   Date      45 non-null     object\n",
      " 8   Result    45 non-null     object\n",
      "dtypes: int64(3), object(6)\n",
      "memory usage: 3.3+ KB\n"
     ]
    }
   ],
   "source": [
    "df.info()"
   ]
  },
  {
   "cell_type": "code",
   "execution_count": 6,
   "id": "0840dbbd",
   "metadata": {
    "execution": {
     "iopub.execute_input": "2023-07-03T06:12:00.651948Z",
     "iopub.status.busy": "2023-07-03T06:12:00.651491Z",
     "iopub.status.idle": "2023-07-03T06:12:00.660645Z",
     "shell.execute_reply": "2023-07-03T06:12:00.659507Z"
    },
    "papermill": {
     "duration": 0.020057,
     "end_time": "2023-07-03T06:12:00.663486",
     "exception": false,
     "start_time": "2023-07-03T06:12:00.643429",
     "status": "completed"
    },
    "tags": []
   },
   "outputs": [
    {
     "data": {
      "text/plain": [
       "No.          int64\n",
       "Score       object\n",
       "Against     object\n",
       "Position     int64\n",
       "Innings      int64\n",
       "Venue       object\n",
       "Ground      object\n",
       "Date        object\n",
       "Result      object\n",
       "dtype: object"
      ]
     },
     "execution_count": 6,
     "metadata": {},
     "output_type": "execute_result"
    }
   ],
   "source": [
    "df.dtypes"
   ]
  },
  {
   "cell_type": "code",
   "execution_count": 7,
   "id": "a157148b",
   "metadata": {
    "execution": {
     "iopub.execute_input": "2023-07-03T06:12:00.680905Z",
     "iopub.status.busy": "2023-07-03T06:12:00.680445Z",
     "iopub.status.idle": "2023-07-03T06:12:00.690741Z",
     "shell.execute_reply": "2023-07-03T06:12:00.689657Z"
    },
    "papermill": {
     "duration": 0.021028,
     "end_time": "2023-07-03T06:12:00.693123",
     "exception": false,
     "start_time": "2023-07-03T06:12:00.672095",
     "status": "completed"
    },
    "tags": []
   },
   "outputs": [
    {
     "data": {
      "text/plain": [
       "No.         0\n",
       "Score       0\n",
       "Against     0\n",
       "Position    0\n",
       "Innings     0\n",
       "Venue       0\n",
       "Ground      0\n",
       "Date        0\n",
       "Result      0\n",
       "dtype: int64"
      ]
     },
     "execution_count": 7,
     "metadata": {},
     "output_type": "execute_result"
    }
   ],
   "source": [
    "df.isnull().sum()"
   ]
  },
  {
   "cell_type": "code",
   "execution_count": 8,
   "id": "1eb1b123",
   "metadata": {
    "execution": {
     "iopub.execute_input": "2023-07-03T06:12:00.708911Z",
     "iopub.status.busy": "2023-07-03T06:12:00.708065Z",
     "iopub.status.idle": "2023-07-03T06:12:00.718606Z",
     "shell.execute_reply": "2023-07-03T06:12:00.717450Z"
    },
    "papermill": {
     "duration": 0.021134,
     "end_time": "2023-07-03T06:12:00.721021",
     "exception": false,
     "start_time": "2023-07-03T06:12:00.699887",
     "status": "completed"
    },
    "tags": []
   },
   "outputs": [
    {
     "data": {
      "text/plain": [
       "0"
      ]
     },
     "execution_count": 8,
     "metadata": {},
     "output_type": "execute_result"
    }
   ],
   "source": [
    "df.duplicated().sum()"
   ]
  },
  {
   "cell_type": "code",
   "execution_count": 9,
   "id": "25107ea8",
   "metadata": {
    "execution": {
     "iopub.execute_input": "2023-07-03T06:12:00.737501Z",
     "iopub.status.busy": "2023-07-03T06:12:00.736736Z",
     "iopub.status.idle": "2023-07-03T06:12:00.746126Z",
     "shell.execute_reply": "2023-07-03T06:12:00.744929Z"
    },
    "papermill": {
     "duration": 0.021,
     "end_time": "2023-07-03T06:12:00.749056",
     "exception": false,
     "start_time": "2023-07-03T06:12:00.728056",
     "status": "completed"
    },
    "tags": []
   },
   "outputs": [
    {
     "data": {
      "text/plain": [
       " South Africa    9\n",
       " Pakistan        8\n",
       " New Zealand     7\n",
       " India           7\n",
       " England         5\n",
       " Sri Lanka       4\n",
       " Bangladesh      3\n",
       " Afghanistan     1\n",
       " West Indies     1\n",
       "Name: Against, dtype: int64"
      ]
     },
     "execution_count": 9,
     "metadata": {},
     "output_type": "execute_result"
    }
   ],
   "source": [
    "df['Against'].value_counts()"
   ]
  },
  {
   "cell_type": "code",
   "execution_count": 10,
   "id": "1f151fe5",
   "metadata": {
    "execution": {
     "iopub.execute_input": "2023-07-03T06:12:00.765572Z",
     "iopub.status.busy": "2023-07-03T06:12:00.765127Z",
     "iopub.status.idle": "2023-07-03T06:12:00.774496Z",
     "shell.execute_reply": "2023-07-03T06:12:00.773140Z"
    },
    "papermill": {
     "duration": 0.020324,
     "end_time": "2023-07-03T06:12:00.776878",
     "exception": false,
     "start_time": "2023-07-03T06:12:00.756554",
     "status": "completed"
    },
    "tags": []
   },
   "outputs": [
    {
     "data": {
      "text/plain": [
       "2    23\n",
       "1    22\n",
       "Name: Position, dtype: int64"
      ]
     },
     "execution_count": 10,
     "metadata": {},
     "output_type": "execute_result"
    }
   ],
   "source": [
    "df['Position'].value_counts()"
   ]
  },
  {
   "cell_type": "code",
   "execution_count": 11,
   "id": "37de418f",
   "metadata": {
    "execution": {
     "iopub.execute_input": "2023-07-03T06:12:00.793266Z",
     "iopub.status.busy": "2023-07-03T06:12:00.792866Z",
     "iopub.status.idle": "2023-07-03T06:12:00.802030Z",
     "shell.execute_reply": "2023-07-03T06:12:00.800848Z"
    },
    "papermill": {
     "duration": 0.020141,
     "end_time": "2023-07-03T06:12:00.804435",
     "exception": false,
     "start_time": "2023-07-03T06:12:00.784294",
     "status": "completed"
    },
    "tags": []
   },
   "outputs": [
    {
     "data": {
      "text/plain": [
       "1    23\n",
       "2    13\n",
       "3     7\n",
       "4     2\n",
       "Name: Innings, dtype: int64"
      ]
     },
     "execution_count": 11,
     "metadata": {},
     "output_type": "execute_result"
    }
   ],
   "source": [
    "df['Innings'].value_counts()"
   ]
  },
  {
   "cell_type": "code",
   "execution_count": 12,
   "id": "d1302bf0",
   "metadata": {
    "execution": {
     "iopub.execute_input": "2023-07-03T06:12:00.820884Z",
     "iopub.status.busy": "2023-07-03T06:12:00.820482Z",
     "iopub.status.idle": "2023-07-03T06:12:00.829531Z",
     "shell.execute_reply": "2023-07-03T06:12:00.828559Z"
    },
    "papermill": {
     "duration": 0.019977,
     "end_time": "2023-07-03T06:12:00.831839",
     "exception": false,
     "start_time": "2023-07-03T06:12:00.811862",
     "status": "completed"
    },
    "tags": []
   },
   "outputs": [
    {
     "data": {
      "text/plain": [
       "Adelaide Oval, Adelaide                          7\n",
       "Sydney Cricket Ground, Sydney                    7\n",
       "The Gabba, Brisbane                              5\n",
       "Melbourne Cricket Ground, Melbourne              5\n",
       "WACA Ground, Perth                               4\n",
       "Newlands Cricket Ground, Cape Town               3\n",
       "Bellerive Oval, Hobart                           1\n",
       "Sher-e-Bangla National Cricket Stadium, Dhaka    1\n",
       "Old Trafford, Manchester                         1\n",
       "Trent Bridge, Nottingham                         1\n",
       "County Ground, Taunton                           1\n",
       "M. Chinnaswamy Stadium, Bangalore                1\n",
       "Zohur Ahmed Chowdhury Stadium, Chittagong        1\n",
       "Kingsmead Cricket Ground, Durban                 1\n",
       "Manuka Oval, Canberra                            1\n",
       "Pallekele Cricket Stadium, Kandy                 1\n",
       "Warner Park, Basseterre                          1\n",
       "Dubai International Cricket Stadium, Dubai       1\n",
       "SuperSport Park, Centurion                       1\n",
       "Wankhede Stadium, Mumbai                         1\n",
       "Name: Venue, dtype: int64"
      ]
     },
     "execution_count": 12,
     "metadata": {},
     "output_type": "execute_result"
    }
   ],
   "source": [
    "df['Venue'].value_counts()"
   ]
  },
  {
   "cell_type": "code",
   "execution_count": 13,
   "id": "c11c6715",
   "metadata": {
    "execution": {
     "iopub.execute_input": "2023-07-03T06:12:00.849804Z",
     "iopub.status.busy": "2023-07-03T06:12:00.848551Z",
     "iopub.status.idle": "2023-07-03T06:12:00.858268Z",
     "shell.execute_reply": "2023-07-03T06:12:00.857203Z"
    },
    "papermill": {
     "duration": 0.021012,
     "end_time": "2023-07-03T06:12:00.860663",
     "exception": false,
     "start_time": "2023-07-03T06:12:00.839651",
     "status": "completed"
    },
    "tags": []
   },
   "outputs": [
    {
     "data": {
      "text/plain": [
       "Home       30\n",
       "Away       10\n",
       "Neutral     5\n",
       "Name: Ground, dtype: int64"
      ]
     },
     "execution_count": 13,
     "metadata": {},
     "output_type": "execute_result"
    }
   ],
   "source": [
    "df['Ground'].value_counts()"
   ]
  },
  {
   "cell_type": "code",
   "execution_count": 14,
   "id": "28d889f7",
   "metadata": {
    "execution": {
     "iopub.execute_input": "2023-07-03T06:12:00.878530Z",
     "iopub.status.busy": "2023-07-03T06:12:00.878168Z",
     "iopub.status.idle": "2023-07-03T06:12:00.886221Z",
     "shell.execute_reply": "2023-07-03T06:12:00.885112Z"
    },
    "papermill": {
     "duration": 0.01998,
     "end_time": "2023-07-03T06:12:00.888791",
     "exception": false,
     "start_time": "2023-07-03T06:12:00.868811",
     "status": "completed"
    },
    "tags": []
   },
   "outputs": [
    {
     "data": {
      "text/plain": [
       "Won      32\n",
       "Lost      8\n",
       "Drawn     5\n",
       "Name: Result, dtype: int64"
      ]
     },
     "execution_count": 14,
     "metadata": {},
     "output_type": "execute_result"
    }
   ],
   "source": [
    "df['Result'].value_counts()"
   ]
  },
  {
   "cell_type": "code",
   "execution_count": null,
   "id": "8d27ae9f",
   "metadata": {
    "papermill": {
     "duration": 0.007444,
     "end_time": "2023-07-03T06:12:00.904044",
     "exception": false,
     "start_time": "2023-07-03T06:12:00.896600",
     "status": "completed"
    },
    "tags": []
   },
   "outputs": [],
   "source": []
  }
 ],
 "metadata": {
  "kernelspec": {
   "display_name": "Python 3",
   "language": "python",
   "name": "python3"
  },
  "language_info": {
   "codemirror_mode": {
    "name": "ipython",
    "version": 3
   },
   "file_extension": ".py",
   "mimetype": "text/x-python",
   "name": "python",
   "nbconvert_exporter": "python",
   "pygments_lexer": "ipython3",
   "version": "3.10.10"
  },
  "papermill": {
   "default_parameters": {},
   "duration": 15.348578,
   "end_time": "2023-07-03T06:12:01.834105",
   "environment_variables": {},
   "exception": null,
   "input_path": "__notebook__.ipynb",
   "output_path": "__notebook__.ipynb",
   "parameters": {},
   "start_time": "2023-07-03T06:11:46.485527",
   "version": "2.4.0"
  }
 },
 "nbformat": 4,
 "nbformat_minor": 5
}
