{
 "cells": [
  {
   "cell_type": "code",
   "execution_count": null,
   "id": "1d3f6cbc",
   "metadata": {
    "papermill": {
     "duration": 0.003229,
     "end_time": "2023-04-30T10:08:51.504687",
     "exception": false,
     "start_time": "2023-04-30T10:08:51.501458",
     "status": "completed"
    },
    "tags": []
   },
   "outputs": [],
   "source": []
  },
  {
   "cell_type": "code",
   "execution_count": 1,
   "id": "8ef256e9",
   "metadata": {
    "_cell_guid": "b1076dfc-b9ad-4769-8c92-a6c4dae69d19",
    "_uuid": "8f2839f25d086af736a60e9eeb907d3b93b6e0e5",
    "execution": {
     "iopub.execute_input": "2023-04-30T10:08:51.511674Z",
     "iopub.status.busy": "2023-04-30T10:08:51.511113Z",
     "iopub.status.idle": "2023-04-30T10:08:51.526992Z",
     "shell.execute_reply": "2023-04-30T10:08:51.525702Z"
    },
    "papermill": {
     "duration": 0.02254,
     "end_time": "2023-04-30T10:08:51.529716",
     "exception": false,
     "start_time": "2023-04-30T10:08:51.507176",
     "status": "completed"
    },
    "tags": []
   },
   "outputs": [],
   "source": [
    "# This Python 3 environment comes with many helpful analytics libraries installed\n",
    "# It is defined by the kaggle/python Docker image: https://github.com/kaggle/docker-python\n",
    "# For example, here's several helpful packages to load\n",
    "\n",
    "import numpy as np # linear algebra\n",
    "import pandas as pd # data processing, CSV file I/O (e.g. pd.read_csv)\n",
    "\n",
    "# Input data files are available in the read-only \"../input/\" directory\n",
    "# For example, running this (by clicking run or pressing Shift+Enter) will list all files under the input directory\n",
    "\n",
    "import os\n",
    "for dirname, _, filenames in os.walk('/kaggle/input'):\n",
    "    for filename in filenames:\n",
    "        print(os.path.join(dirname, filename))\n",
    "\n",
    "# You can write up to 20GB to the current directory (/kaggle/working/) that gets preserved as output when you create a version using \"Save & Run All\" \n",
    "# You can also write temporary files to /kaggle/temp/, but they won't be saved outside of the current session"
   ]
  },
  {
   "cell_type": "code",
   "execution_count": 2,
   "id": "009be3b1",
   "metadata": {
    "execution": {
     "iopub.execute_input": "2023-04-30T10:08:51.536460Z",
     "iopub.status.busy": "2023-04-30T10:08:51.536015Z",
     "iopub.status.idle": "2023-04-30T10:08:52.875121Z",
     "shell.execute_reply": "2023-04-30T10:08:52.873430Z"
    },
    "papermill": {
     "duration": 1.347382,
     "end_time": "2023-04-30T10:08:52.879506",
     "exception": false,
     "start_time": "2023-04-30T10:08:51.532124",
     "status": "completed"
    },
    "tags": []
   },
   "outputs": [
    {
     "name": "stdout",
     "output_type": "stream",
     "text": [
      "Dataset features names : ['CRIM' 'ZN' 'INDUS' 'CHAS' 'NOX' 'RM' 'AGE' 'DIS' 'RAD' 'TAX' 'PTRATIO'\n",
      " 'B' 'LSTAT']\n",
      "Dataset features size : (506, 13)\n",
      "Dataset target size : (506,)\n"
     ]
    },
    {
     "name": "stderr",
     "output_type": "stream",
     "text": [
      "/opt/conda/lib/python3.7/site-packages/sklearn/utils/deprecation.py:87: FutureWarning: Function load_boston is deprecated; `load_boston` is deprecated in 1.0 and will be removed in 1.2.\n",
      "\n",
      "    The Boston housing prices dataset has an ethical problem. You can refer to\n",
      "    the documentation of this function for further details.\n",
      "\n",
      "    The scikit-learn maintainers therefore strongly discourage the use of this\n",
      "    dataset unless the purpose of the code is to study and educate about\n",
      "    ethical issues in data science and machine learning.\n",
      "\n",
      "    In this special case, you can fetch the dataset from the original\n",
      "    source::\n",
      "\n",
      "        import pandas as pd\n",
      "        import numpy as np\n",
      "\n",
      "\n",
      "        data_url = \"http://lib.stat.cmu.edu/datasets/boston\"\n",
      "        raw_df = pd.read_csv(data_url, sep=\"\\s+\", skiprows=22, header=None)\n",
      "        data = np.hstack([raw_df.values[::2, :], raw_df.values[1::2, :2]])\n",
      "        target = raw_df.values[1::2, 2]\n",
      "\n",
      "    Alternative datasets include the California housing dataset (i.e.\n",
      "    :func:`~sklearn.datasets.fetch_california_housing`) and the Ames housing\n",
      "    dataset. You can load the datasets as follows::\n",
      "\n",
      "        from sklearn.datasets import fetch_california_housing\n",
      "        housing = fetch_california_housing()\n",
      "\n",
      "    for the California housing dataset and::\n",
      "\n",
      "        from sklearn.datasets import fetch_openml\n",
      "        housing = fetch_openml(name=\"house_prices\", as_frame=True)\n",
      "\n",
      "    for the Ames housing dataset.\n",
      "    \n",
      "  warnings.warn(msg, category=FutureWarning)\n"
     ]
    }
   ],
   "source": [
    "from sklearn.datasets import load_boston\n",
    "boston = load_boston()\n",
    "X_boston , Y_boston  = boston.data,boston.target\n",
    "print('Dataset features names : '+ str(boston.feature_names))\n",
    "print('Dataset features size : '+ str(boston.data.shape))\n",
    "print('Dataset target size : '+ str(boston.target.shape))"
   ]
  },
  {
   "cell_type": "code",
   "execution_count": null,
   "id": "011e3231",
   "metadata": {
    "papermill": {
     "duration": 0.002104,
     "end_time": "2023-04-30T10:08:52.884143",
     "exception": false,
     "start_time": "2023-04-30T10:08:52.882039",
     "status": "completed"
    },
    "tags": []
   },
   "outputs": [],
   "source": []
  },
  {
   "cell_type": "code",
   "execution_count": null,
   "id": "083b75fe",
   "metadata": {
    "papermill": {
     "duration": 0.001937,
     "end_time": "2023-04-30T10:08:52.888303",
     "exception": false,
     "start_time": "2023-04-30T10:08:52.886366",
     "status": "completed"
    },
    "tags": []
   },
   "outputs": [],
   "source": []
  }
 ],
 "metadata": {
  "kernelspec": {
   "display_name": "Python 3",
   "language": "python",
   "name": "python3"
  },
  "language_info": {
   "codemirror_mode": {
    "name": "ipython",
    "version": 3
   },
   "file_extension": ".py",
   "mimetype": "text/x-python",
   "name": "python",
   "nbconvert_exporter": "python",
   "pygments_lexer": "ipython3",
   "version": "3.7.12"
  },
  "papermill": {
   "default_parameters": {},
   "duration": 15.01002,
   "end_time": "2023-04-30T10:08:53.715568",
   "environment_variables": {},
   "exception": null,
   "input_path": "__notebook__.ipynb",
   "output_path": "__notebook__.ipynb",
   "parameters": {},
   "start_time": "2023-04-30T10:08:38.705548",
   "version": "2.4.0"
  }
 },
 "nbformat": 4,
 "nbformat_minor": 5
}
