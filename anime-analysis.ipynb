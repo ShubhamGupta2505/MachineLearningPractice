{
 "cells": [
  {
   "cell_type": "code",
   "execution_count": 1,
   "id": "5893bc72",
   "metadata": {
    "_cell_guid": "b1076dfc-b9ad-4769-8c92-a6c4dae69d19",
    "_uuid": "8f2839f25d086af736a60e9eeb907d3b93b6e0e5",
    "execution": {
     "iopub.execute_input": "2023-06-24T19:26:53.978100Z",
     "iopub.status.busy": "2023-06-24T19:26:53.977581Z",
     "iopub.status.idle": "2023-06-24T19:26:54.002197Z",
     "shell.execute_reply": "2023-06-24T19:26:53.999844Z"
    },
    "papermill": {
     "duration": 0.036186,
     "end_time": "2023-06-24T19:26:54.005496",
     "exception": false,
     "start_time": "2023-06-24T19:26:53.969310",
     "status": "completed"
    },
    "tags": []
   },
   "outputs": [
    {
     "name": "stdout",
     "output_type": "stream",
     "text": [
      "/kaggle/input/myanimelist-dataset/user-filtered.csv\n",
      "/kaggle/input/myanimelist-dataset/anime-filtered.csv\n",
      "/kaggle/input/myanimelist-dataset/final_animedataset.csv\n"
     ]
    }
   ],
   "source": [
    "# This Python 3 environment comes with many helpful analytics libraries installed\n",
    "# It is defined by the kaggle/python Docker image: https://github.com/kaggle/docker-python\n",
    "# For example, here's several helpful packages to load\n",
    "\n",
    "import numpy as np # linear algebra\n",
    "import pandas as pd # data processing, CSV file I/O (e.g. pd.read_csv)\n",
    "\n",
    "# Input data files are available in the read-only \"../input/\" directory\n",
    "# For example, running this (by clicking run or pressing Shift+Enter) will list all files under the input directory\n",
    "\n",
    "import os\n",
    "for dirname, _, filenames in os.walk('/kaggle/input'):\n",
    "    for filename in filenames:\n",
    "        print(os.path.join(dirname, filename))\n",
    "\n",
    "# You can write up to 20GB to the current directory (/kaggle/working/) that gets preserved as output when you create a version using \"Save & Run All\" \n",
    "# You can also write temporary files to /kaggle/temp/, but they won't be saved outside of the current session"
   ]
  },
  {
   "cell_type": "markdown",
   "id": "89f9c8cf",
   "metadata": {
    "papermill": {
     "duration": 0.005541,
     "end_time": "2023-06-24T19:26:54.017295",
     "exception": false,
     "start_time": "2023-06-24T19:26:54.011754",
     "status": "completed"
    },
    "tags": []
   },
   "source": [
    "# Anime Dataset"
   ]
  },
  {
   "cell_type": "code",
   "execution_count": 2,
   "id": "8ce20b21",
   "metadata": {
    "execution": {
     "iopub.execute_input": "2023-06-24T19:26:54.030453Z",
     "iopub.status.busy": "2023-06-24T19:26:54.029943Z",
     "iopub.status.idle": "2023-06-24T19:26:54.494153Z",
     "shell.execute_reply": "2023-06-24T19:26:54.492806Z"
    },
    "papermill": {
     "duration": 0.474172,
     "end_time": "2023-06-24T19:26:54.496914",
     "exception": false,
     "start_time": "2023-06-24T19:26:54.022742",
     "status": "completed"
    },
    "tags": []
   },
   "outputs": [
    {
     "data": {
      "text/html": [
       "<div>\n",
       "<style scoped>\n",
       "    .dataframe tbody tr th:only-of-type {\n",
       "        vertical-align: middle;\n",
       "    }\n",
       "\n",
       "    .dataframe tbody tr th {\n",
       "        vertical-align: top;\n",
       "    }\n",
       "\n",
       "    .dataframe thead th {\n",
       "        text-align: right;\n",
       "    }\n",
       "</style>\n",
       "<table border=\"1\" class=\"dataframe\">\n",
       "  <thead>\n",
       "    <tr style=\"text-align: right;\">\n",
       "      <th></th>\n",
       "      <th>anime_id</th>\n",
       "      <th>Name</th>\n",
       "      <th>Score</th>\n",
       "      <th>Genres</th>\n",
       "      <th>English name</th>\n",
       "      <th>Japanese name</th>\n",
       "      <th>sypnopsis</th>\n",
       "      <th>Type</th>\n",
       "      <th>Episodes</th>\n",
       "      <th>Aired</th>\n",
       "      <th>Premiered</th>\n",
       "      <th>Producers</th>\n",
       "      <th>Licensors</th>\n",
       "      <th>Studios</th>\n",
       "      <th>Source</th>\n",
       "      <th>Duration</th>\n",
       "      <th>Rating</th>\n",
       "      <th>Ranked</th>\n",
       "      <th>Popularity</th>\n",
       "      <th>Members</th>\n",
       "      <th>Favorites</th>\n",
       "      <th>Watching</th>\n",
       "      <th>Completed</th>\n",
       "      <th>On-Hold</th>\n",
       "      <th>Dropped</th>\n",
       "    </tr>\n",
       "  </thead>\n",
       "  <tbody>\n",
       "    <tr>\n",
       "      <th>0</th>\n",
       "      <td>1</td>\n",
       "      <td>Cowboy Bebop</td>\n",
       "      <td>8.78</td>\n",
       "      <td>Action, Adventure, Comedy, Drama, Sci-Fi, Space</td>\n",
       "      <td>Cowboy Bebop</td>\n",
       "      <td>カウボーイビバップ</td>\n",
       "      <td>In the year 2071, humanity has colonized sever...</td>\n",
       "      <td>TV</td>\n",
       "      <td>26</td>\n",
       "      <td>Apr 3, 1998 to Apr 24, 1999</td>\n",
       "      <td>Spring 1998</td>\n",
       "      <td>Bandai Visual</td>\n",
       "      <td>Funimation, Bandai Entertainment</td>\n",
       "      <td>Sunrise</td>\n",
       "      <td>Original</td>\n",
       "      <td>24 min. per ep.</td>\n",
       "      <td>R - 17+ (violence &amp; profanity)</td>\n",
       "      <td>28.0</td>\n",
       "      <td>39</td>\n",
       "      <td>1251960</td>\n",
       "      <td>61971</td>\n",
       "      <td>105808</td>\n",
       "      <td>718161</td>\n",
       "      <td>71513</td>\n",
       "      <td>26678</td>\n",
       "    </tr>\n",
       "    <tr>\n",
       "      <th>1</th>\n",
       "      <td>5</td>\n",
       "      <td>Cowboy Bebop: Tengoku no Tobira</td>\n",
       "      <td>8.39</td>\n",
       "      <td>Action, Drama, Mystery, Sci-Fi, Space</td>\n",
       "      <td>Cowboy Bebop:The Movie</td>\n",
       "      <td>カウボーイビバップ 天国の扉</td>\n",
       "      <td>other day, another bounty—such is the life of ...</td>\n",
       "      <td>Movie</td>\n",
       "      <td>1</td>\n",
       "      <td>Sep 1, 2001</td>\n",
       "      <td>Unknown</td>\n",
       "      <td>Sunrise, Bandai Visual</td>\n",
       "      <td>Sony Pictures Entertainment</td>\n",
       "      <td>Bones</td>\n",
       "      <td>Original</td>\n",
       "      <td>1 hr. 55 min.</td>\n",
       "      <td>R - 17+ (violence &amp; profanity)</td>\n",
       "      <td>159.0</td>\n",
       "      <td>518</td>\n",
       "      <td>273145</td>\n",
       "      <td>1174</td>\n",
       "      <td>4143</td>\n",
       "      <td>208333</td>\n",
       "      <td>1935</td>\n",
       "      <td>770</td>\n",
       "    </tr>\n",
       "    <tr>\n",
       "      <th>2</th>\n",
       "      <td>6</td>\n",
       "      <td>Trigun</td>\n",
       "      <td>8.24</td>\n",
       "      <td>Action, Sci-Fi, Adventure, Comedy, Drama, Shounen</td>\n",
       "      <td>Trigun</td>\n",
       "      <td>トライガン</td>\n",
       "      <td>Vash the Stampede is the man with a $$60,000,0...</td>\n",
       "      <td>TV</td>\n",
       "      <td>26</td>\n",
       "      <td>Apr 1, 1998 to Sep 30, 1998</td>\n",
       "      <td>Spring 1998</td>\n",
       "      <td>Victor Entertainment</td>\n",
       "      <td>Funimation, Geneon Entertainment USA</td>\n",
       "      <td>Madhouse</td>\n",
       "      <td>Manga</td>\n",
       "      <td>24 min. per ep.</td>\n",
       "      <td>PG-13 - Teens 13 or older</td>\n",
       "      <td>266.0</td>\n",
       "      <td>201</td>\n",
       "      <td>558913</td>\n",
       "      <td>12944</td>\n",
       "      <td>29113</td>\n",
       "      <td>343492</td>\n",
       "      <td>25465</td>\n",
       "      <td>13925</td>\n",
       "    </tr>\n",
       "    <tr>\n",
       "      <th>3</th>\n",
       "      <td>7</td>\n",
       "      <td>Witch Hunter Robin</td>\n",
       "      <td>7.27</td>\n",
       "      <td>Action, Mystery, Police, Supernatural, Drama, ...</td>\n",
       "      <td>Witch Hunter Robin</td>\n",
       "      <td>Witch Hunter ROBIN (ウイッチハンターロビン)</td>\n",
       "      <td>ches are individuals with special powers like ...</td>\n",
       "      <td>TV</td>\n",
       "      <td>26</td>\n",
       "      <td>Jul 2, 2002 to Dec 24, 2002</td>\n",
       "      <td>Summer 2002</td>\n",
       "      <td>TV Tokyo, Bandai Visual, Dentsu, Victor Entert...</td>\n",
       "      <td>Funimation, Bandai Entertainment</td>\n",
       "      <td>Sunrise</td>\n",
       "      <td>Original</td>\n",
       "      <td>25 min. per ep.</td>\n",
       "      <td>PG-13 - Teens 13 or older</td>\n",
       "      <td>2481.0</td>\n",
       "      <td>1467</td>\n",
       "      <td>94683</td>\n",
       "      <td>587</td>\n",
       "      <td>4300</td>\n",
       "      <td>46165</td>\n",
       "      <td>5121</td>\n",
       "      <td>5378</td>\n",
       "    </tr>\n",
       "    <tr>\n",
       "      <th>4</th>\n",
       "      <td>8</td>\n",
       "      <td>Bouken Ou Beet</td>\n",
       "      <td>6.98</td>\n",
       "      <td>Adventure, Fantasy, Shounen, Supernatural</td>\n",
       "      <td>Beet the Vandel Buster</td>\n",
       "      <td>冒険王ビィト</td>\n",
       "      <td>It is the dark century and the people are suff...</td>\n",
       "      <td>TV</td>\n",
       "      <td>52</td>\n",
       "      <td>Sep 30, 2004 to Sep 29, 2005</td>\n",
       "      <td>Fall 2004</td>\n",
       "      <td>TV Tokyo, Dentsu</td>\n",
       "      <td>Unknown</td>\n",
       "      <td>Toei Animation</td>\n",
       "      <td>Manga</td>\n",
       "      <td>23 min. per ep.</td>\n",
       "      <td>PG - Children</td>\n",
       "      <td>3710.0</td>\n",
       "      <td>4369</td>\n",
       "      <td>13224</td>\n",
       "      <td>18</td>\n",
       "      <td>642</td>\n",
       "      <td>7314</td>\n",
       "      <td>766</td>\n",
       "      <td>1108</td>\n",
       "    </tr>\n",
       "  </tbody>\n",
       "</table>\n",
       "</div>"
      ],
      "text/plain": [
       "   anime_id                             Name  Score  \\\n",
       "0         1                     Cowboy Bebop   8.78   \n",
       "1         5  Cowboy Bebop: Tengoku no Tobira   8.39   \n",
       "2         6                           Trigun   8.24   \n",
       "3         7               Witch Hunter Robin   7.27   \n",
       "4         8                   Bouken Ou Beet   6.98   \n",
       "\n",
       "                                              Genres            English name  \\\n",
       "0    Action, Adventure, Comedy, Drama, Sci-Fi, Space            Cowboy Bebop   \n",
       "1              Action, Drama, Mystery, Sci-Fi, Space  Cowboy Bebop:The Movie   \n",
       "2  Action, Sci-Fi, Adventure, Comedy, Drama, Shounen                  Trigun   \n",
       "3  Action, Mystery, Police, Supernatural, Drama, ...      Witch Hunter Robin   \n",
       "4          Adventure, Fantasy, Shounen, Supernatural  Beet the Vandel Buster   \n",
       "\n",
       "                      Japanese name  \\\n",
       "0                         カウボーイビバップ   \n",
       "1                    カウボーイビバップ 天国の扉   \n",
       "2                             トライガン   \n",
       "3  Witch Hunter ROBIN (ウイッチハンターロビン)   \n",
       "4                            冒険王ビィト   \n",
       "\n",
       "                                           sypnopsis   Type Episodes  \\\n",
       "0  In the year 2071, humanity has colonized sever...     TV       26   \n",
       "1  other day, another bounty—such is the life of ...  Movie        1   \n",
       "2  Vash the Stampede is the man with a $$60,000,0...     TV       26   \n",
       "3  ches are individuals with special powers like ...     TV       26   \n",
       "4  It is the dark century and the people are suff...     TV       52   \n",
       "\n",
       "                          Aired    Premiered  \\\n",
       "0   Apr 3, 1998 to Apr 24, 1999  Spring 1998   \n",
       "1                   Sep 1, 2001      Unknown   \n",
       "2   Apr 1, 1998 to Sep 30, 1998  Spring 1998   \n",
       "3   Jul 2, 2002 to Dec 24, 2002  Summer 2002   \n",
       "4  Sep 30, 2004 to Sep 29, 2005    Fall 2004   \n",
       "\n",
       "                                           Producers  \\\n",
       "0                                      Bandai Visual   \n",
       "1                             Sunrise, Bandai Visual   \n",
       "2                               Victor Entertainment   \n",
       "3  TV Tokyo, Bandai Visual, Dentsu, Victor Entert...   \n",
       "4                                   TV Tokyo, Dentsu   \n",
       "\n",
       "                              Licensors         Studios    Source  \\\n",
       "0      Funimation, Bandai Entertainment         Sunrise  Original   \n",
       "1           Sony Pictures Entertainment           Bones  Original   \n",
       "2  Funimation, Geneon Entertainment USA        Madhouse     Manga   \n",
       "3      Funimation, Bandai Entertainment         Sunrise  Original   \n",
       "4                               Unknown  Toei Animation     Manga   \n",
       "\n",
       "          Duration                          Rating  Ranked  Popularity  \\\n",
       "0  24 min. per ep.  R - 17+ (violence & profanity)    28.0          39   \n",
       "1    1 hr. 55 min.  R - 17+ (violence & profanity)   159.0         518   \n",
       "2  24 min. per ep.       PG-13 - Teens 13 or older   266.0         201   \n",
       "3  25 min. per ep.       PG-13 - Teens 13 or older  2481.0        1467   \n",
       "4  23 min. per ep.                   PG - Children  3710.0        4369   \n",
       "\n",
       "   Members  Favorites  Watching  Completed  On-Hold  Dropped  \n",
       "0  1251960      61971    105808     718161    71513    26678  \n",
       "1   273145       1174      4143     208333     1935      770  \n",
       "2   558913      12944     29113     343492    25465    13925  \n",
       "3    94683        587      4300      46165     5121     5378  \n",
       "4    13224         18       642       7314      766     1108  "
      ]
     },
     "execution_count": 2,
     "metadata": {},
     "output_type": "execute_result"
    }
   ],
   "source": [
    "anime = pd.read_csv('/kaggle/input/myanimelist-dataset/anime-filtered.csv')\n",
    "pd.set_option('display.max_columns', None)\n",
    "anime.head()"
   ]
  },
  {
   "cell_type": "code",
   "execution_count": 3,
   "id": "bd6257bc",
   "metadata": {
    "execution": {
     "iopub.execute_input": "2023-06-24T19:26:54.511008Z",
     "iopub.status.busy": "2023-06-24T19:26:54.510585Z",
     "iopub.status.idle": "2023-06-24T19:26:54.517595Z",
     "shell.execute_reply": "2023-06-24T19:26:54.516535Z"
    },
    "papermill": {
     "duration": 0.016585,
     "end_time": "2023-06-24T19:26:54.519770",
     "exception": false,
     "start_time": "2023-06-24T19:26:54.503185",
     "status": "completed"
    },
    "tags": []
   },
   "outputs": [
    {
     "data": {
      "text/plain": [
       "(14952, 25)"
      ]
     },
     "execution_count": 3,
     "metadata": {},
     "output_type": "execute_result"
    }
   ],
   "source": [
    "anime.shape"
   ]
  },
  {
   "cell_type": "code",
   "execution_count": 4,
   "id": "d746d82a",
   "metadata": {
    "execution": {
     "iopub.execute_input": "2023-06-24T19:26:54.536544Z",
     "iopub.status.busy": "2023-06-24T19:26:54.536054Z",
     "iopub.status.idle": "2023-06-24T19:26:54.600999Z",
     "shell.execute_reply": "2023-06-24T19:26:54.599897Z"
    },
    "papermill": {
     "duration": 0.077575,
     "end_time": "2023-06-24T19:26:54.603731",
     "exception": false,
     "start_time": "2023-06-24T19:26:54.526156",
     "status": "completed"
    },
    "tags": []
   },
   "outputs": [
    {
     "name": "stdout",
     "output_type": "stream",
     "text": [
      "<class 'pandas.core.frame.DataFrame'>\n",
      "RangeIndex: 14952 entries, 0 to 14951\n",
      "Data columns (total 25 columns):\n",
      " #   Column         Non-Null Count  Dtype  \n",
      "---  ------         --------------  -----  \n",
      " 0   anime_id       14952 non-null  int64  \n",
      " 1   Name           14952 non-null  object \n",
      " 2   Score          14952 non-null  float64\n",
      " 3   Genres         14952 non-null  object \n",
      " 4   English name   14952 non-null  object \n",
      " 5   Japanese name  14952 non-null  object \n",
      " 6   sypnopsis      13602 non-null  object \n",
      " 7   Type           14952 non-null  object \n",
      " 8   Episodes       14952 non-null  object \n",
      " 9   Aired          14952 non-null  object \n",
      " 10  Premiered      14952 non-null  object \n",
      " 11  Producers      14952 non-null  object \n",
      " 12  Licensors      14952 non-null  object \n",
      " 13  Studios        14952 non-null  object \n",
      " 14  Source         14952 non-null  object \n",
      " 15  Duration       14952 non-null  object \n",
      " 16  Rating         14952 non-null  object \n",
      " 17  Ranked         13231 non-null  float64\n",
      " 18  Popularity     14952 non-null  int64  \n",
      " 19  Members        14952 non-null  int64  \n",
      " 20  Favorites      14952 non-null  int64  \n",
      " 21  Watching       14952 non-null  int64  \n",
      " 22  Completed      14952 non-null  int64  \n",
      " 23  On-Hold        14952 non-null  int64  \n",
      " 24  Dropped        14952 non-null  int64  \n",
      "dtypes: float64(2), int64(8), object(15)\n",
      "memory usage: 2.9+ MB\n"
     ]
    }
   ],
   "source": [
    "anime.info()"
   ]
  },
  {
   "cell_type": "code",
   "execution_count": 5,
   "id": "5e430b33",
   "metadata": {
    "execution": {
     "iopub.execute_input": "2023-06-24T19:26:54.619646Z",
     "iopub.status.busy": "2023-06-24T19:26:54.618961Z",
     "iopub.status.idle": "2023-06-24T19:26:54.666320Z",
     "shell.execute_reply": "2023-06-24T19:26:54.664259Z"
    },
    "papermill": {
     "duration": 0.058985,
     "end_time": "2023-06-24T19:26:54.669405",
     "exception": false,
     "start_time": "2023-06-24T19:26:54.610420",
     "status": "completed"
    },
    "tags": []
   },
   "outputs": [
    {
     "data": {
      "text/html": [
       "<div>\n",
       "<style scoped>\n",
       "    .dataframe tbody tr th:only-of-type {\n",
       "        vertical-align: middle;\n",
       "    }\n",
       "\n",
       "    .dataframe tbody tr th {\n",
       "        vertical-align: top;\n",
       "    }\n",
       "\n",
       "    .dataframe thead th {\n",
       "        text-align: right;\n",
       "    }\n",
       "</style>\n",
       "<table border=\"1\" class=\"dataframe\">\n",
       "  <thead>\n",
       "    <tr style=\"text-align: right;\">\n",
       "      <th></th>\n",
       "      <th>anime_id</th>\n",
       "      <th>Score</th>\n",
       "      <th>Ranked</th>\n",
       "      <th>Popularity</th>\n",
       "      <th>Members</th>\n",
       "      <th>Favorites</th>\n",
       "      <th>Watching</th>\n",
       "      <th>Completed</th>\n",
       "      <th>On-Hold</th>\n",
       "      <th>Dropped</th>\n",
       "    </tr>\n",
       "  </thead>\n",
       "  <tbody>\n",
       "    <tr>\n",
       "      <th>count</th>\n",
       "      <td>14952.000000</td>\n",
       "      <td>14952.000000</td>\n",
       "      <td>13231.000000</td>\n",
       "      <td>14952.000000</td>\n",
       "      <td>1.495200e+04</td>\n",
       "      <td>14952.000000</td>\n",
       "      <td>14952.000000</td>\n",
       "      <td>1.495200e+04</td>\n",
       "      <td>14952.000000</td>\n",
       "      <td>14952.000000</td>\n",
       "    </tr>\n",
       "    <tr>\n",
       "      <th>mean</th>\n",
       "      <td>19017.432718</td>\n",
       "      <td>6.511526</td>\n",
       "      <td>6829.853828</td>\n",
       "      <td>7465.970907</td>\n",
       "      <td>4.068648e+04</td>\n",
       "      <td>537.629882</td>\n",
       "      <td>2619.806715</td>\n",
       "      <td>2.594310e+04</td>\n",
       "      <td>1121.307986</td>\n",
       "      <td>1377.861891</td>\n",
       "    </tr>\n",
       "    <tr>\n",
       "      <th>std</th>\n",
       "      <td>14588.758618</td>\n",
       "      <td>0.807185</td>\n",
       "      <td>4168.929475</td>\n",
       "      <td>4313.169381</td>\n",
       "      <td>1.348744e+05</td>\n",
       "      <td>4399.016449</td>\n",
       "      <td>15190.098642</td>\n",
       "      <td>9.812729e+04</td>\n",
       "      <td>4613.759597</td>\n",
       "      <td>5110.874501</td>\n",
       "    </tr>\n",
       "    <tr>\n",
       "      <th>min</th>\n",
       "      <td>1.000000</td>\n",
       "      <td>1.850000</td>\n",
       "      <td>1.000000</td>\n",
       "      <td>1.000000</td>\n",
       "      <td>2.000000e+02</td>\n",
       "      <td>0.000000</td>\n",
       "      <td>0.000000</td>\n",
       "      <td>0.000000e+00</td>\n",
       "      <td>0.000000</td>\n",
       "      <td>0.000000</td>\n",
       "    </tr>\n",
       "    <tr>\n",
       "      <th>25%</th>\n",
       "      <td>4602.500000</td>\n",
       "      <td>6.080000</td>\n",
       "      <td>3309.500000</td>\n",
       "      <td>3732.000000</td>\n",
       "      <td>7.360000e+02</td>\n",
       "      <td>1.000000</td>\n",
       "      <td>27.000000</td>\n",
       "      <td>2.460000e+02</td>\n",
       "      <td>14.000000</td>\n",
       "      <td>48.000000</td>\n",
       "    </tr>\n",
       "    <tr>\n",
       "      <th>50%</th>\n",
       "      <td>16729.000000</td>\n",
       "      <td>6.510000</td>\n",
       "      <td>6618.000000</td>\n",
       "      <td>7466.500000</td>\n",
       "      <td>3.493500e+03</td>\n",
       "      <td>6.000000</td>\n",
       "      <td>127.000000</td>\n",
       "      <td>1.515500e+03</td>\n",
       "      <td>78.000000</td>\n",
       "      <td>102.000000</td>\n",
       "    </tr>\n",
       "    <tr>\n",
       "      <th>75%</th>\n",
       "      <td>33513.250000</td>\n",
       "      <td>7.010000</td>\n",
       "      <td>9942.000000</td>\n",
       "      <td>11194.000000</td>\n",
       "      <td>1.919325e+04</td>\n",
       "      <td>47.000000</td>\n",
       "      <td>723.000000</td>\n",
       "      <td>9.797000e+03</td>\n",
       "      <td>388.250000</td>\n",
       "      <td>377.000000</td>\n",
       "    </tr>\n",
       "    <tr>\n",
       "      <th>max</th>\n",
       "      <td>48492.000000</td>\n",
       "      <td>9.190000</td>\n",
       "      <td>15780.000000</td>\n",
       "      <td>17565.000000</td>\n",
       "      <td>2.589552e+06</td>\n",
       "      <td>183914.000000</td>\n",
       "      <td>887333.000000</td>\n",
       "      <td>2.182587e+06</td>\n",
       "      <td>187919.000000</td>\n",
       "      <td>174710.000000</td>\n",
       "    </tr>\n",
       "  </tbody>\n",
       "</table>\n",
       "</div>"
      ],
      "text/plain": [
       "           anime_id         Score        Ranked    Popularity       Members  \\\n",
       "count  14952.000000  14952.000000  13231.000000  14952.000000  1.495200e+04   \n",
       "mean   19017.432718      6.511526   6829.853828   7465.970907  4.068648e+04   \n",
       "std    14588.758618      0.807185   4168.929475   4313.169381  1.348744e+05   \n",
       "min        1.000000      1.850000      1.000000      1.000000  2.000000e+02   \n",
       "25%     4602.500000      6.080000   3309.500000   3732.000000  7.360000e+02   \n",
       "50%    16729.000000      6.510000   6618.000000   7466.500000  3.493500e+03   \n",
       "75%    33513.250000      7.010000   9942.000000  11194.000000  1.919325e+04   \n",
       "max    48492.000000      9.190000  15780.000000  17565.000000  2.589552e+06   \n",
       "\n",
       "           Favorites       Watching     Completed        On-Hold  \\\n",
       "count   14952.000000   14952.000000  1.495200e+04   14952.000000   \n",
       "mean      537.629882    2619.806715  2.594310e+04    1121.307986   \n",
       "std      4399.016449   15190.098642  9.812729e+04    4613.759597   \n",
       "min         0.000000       0.000000  0.000000e+00       0.000000   \n",
       "25%         1.000000      27.000000  2.460000e+02      14.000000   \n",
       "50%         6.000000     127.000000  1.515500e+03      78.000000   \n",
       "75%        47.000000     723.000000  9.797000e+03     388.250000   \n",
       "max    183914.000000  887333.000000  2.182587e+06  187919.000000   \n",
       "\n",
       "             Dropped  \n",
       "count   14952.000000  \n",
       "mean     1377.861891  \n",
       "std      5110.874501  \n",
       "min         0.000000  \n",
       "25%        48.000000  \n",
       "50%       102.000000  \n",
       "75%       377.000000  \n",
       "max    174710.000000  "
      ]
     },
     "execution_count": 5,
     "metadata": {},
     "output_type": "execute_result"
    }
   ],
   "source": [
    "anime.describe()"
   ]
  },
  {
   "cell_type": "code",
   "execution_count": 6,
   "id": "0151f554",
   "metadata": {
    "execution": {
     "iopub.execute_input": "2023-06-24T19:26:54.686258Z",
     "iopub.status.busy": "2023-06-24T19:26:54.685785Z",
     "iopub.status.idle": "2023-06-24T19:26:54.695574Z",
     "shell.execute_reply": "2023-06-24T19:26:54.694214Z"
    },
    "papermill": {
     "duration": 0.020502,
     "end_time": "2023-06-24T19:26:54.697636",
     "exception": false,
     "start_time": "2023-06-24T19:26:54.677134",
     "status": "completed"
    },
    "tags": []
   },
   "outputs": [
    {
     "data": {
      "text/plain": [
       "anime_id           int64\n",
       "Name              object\n",
       "Score            float64\n",
       "Genres            object\n",
       "English name      object\n",
       "Japanese name     object\n",
       "sypnopsis         object\n",
       "Type              object\n",
       "Episodes          object\n",
       "Aired             object\n",
       "Premiered         object\n",
       "Producers         object\n",
       "Licensors         object\n",
       "Studios           object\n",
       "Source            object\n",
       "Duration          object\n",
       "Rating            object\n",
       "Ranked           float64\n",
       "Popularity         int64\n",
       "Members            int64\n",
       "Favorites          int64\n",
       "Watching           int64\n",
       "Completed          int64\n",
       "On-Hold            int64\n",
       "Dropped            int64\n",
       "dtype: object"
      ]
     },
     "execution_count": 6,
     "metadata": {},
     "output_type": "execute_result"
    }
   ],
   "source": [
    "anime.dtypes"
   ]
  },
  {
   "cell_type": "markdown",
   "id": "965e4654",
   "metadata": {
    "papermill": {
     "duration": 0.006379,
     "end_time": "2023-06-24T19:26:54.710746",
     "exception": false,
     "start_time": "2023-06-24T19:26:54.704367",
     "status": "completed"
    },
    "tags": []
   },
   "source": [
    "Only Sypnopsis and Ranked column have null values as for now we do not need both columns so we will ignore it for now and if it is used in further analysis then we will deal with it."
   ]
  },
  {
   "cell_type": "code",
   "execution_count": 7,
   "id": "0d9ff60d",
   "metadata": {
    "execution": {
     "iopub.execute_input": "2023-06-24T19:26:54.726077Z",
     "iopub.status.busy": "2023-06-24T19:26:54.725598Z",
     "iopub.status.idle": "2023-06-24T19:26:54.770570Z",
     "shell.execute_reply": "2023-06-24T19:26:54.769067Z"
    },
    "papermill": {
     "duration": 0.055684,
     "end_time": "2023-06-24T19:26:54.772999",
     "exception": false,
     "start_time": "2023-06-24T19:26:54.717315",
     "status": "completed"
    },
    "tags": []
   },
   "outputs": [
    {
     "data": {
      "text/plain": [
       "anime_id            0\n",
       "Name                0\n",
       "Score               0\n",
       "Genres              0\n",
       "English name        0\n",
       "Japanese name       0\n",
       "sypnopsis        1350\n",
       "Type                0\n",
       "Episodes            0\n",
       "Aired               0\n",
       "Premiered           0\n",
       "Producers           0\n",
       "Licensors           0\n",
       "Studios             0\n",
       "Source              0\n",
       "Duration            0\n",
       "Rating              0\n",
       "Ranked           1721\n",
       "Popularity          0\n",
       "Members             0\n",
       "Favorites           0\n",
       "Watching            0\n",
       "Completed           0\n",
       "On-Hold             0\n",
       "Dropped             0\n",
       "dtype: int64"
      ]
     },
     "execution_count": 7,
     "metadata": {},
     "output_type": "execute_result"
    }
   ],
   "source": [
    "anime.isnull().sum()"
   ]
  },
  {
   "cell_type": "markdown",
   "id": "1f68bb4f",
   "metadata": {
    "papermill": {
     "duration": 0.006417,
     "end_time": "2023-06-24T19:26:54.786886",
     "exception": false,
     "start_time": "2023-06-24T19:26:54.780469",
     "status": "completed"
    },
    "tags": []
   },
   "source": [
    "No Duplicates values"
   ]
  },
  {
   "cell_type": "code",
   "execution_count": 8,
   "id": "5444c93a",
   "metadata": {
    "execution": {
     "iopub.execute_input": "2023-06-24T19:26:54.804711Z",
     "iopub.status.busy": "2023-06-24T19:26:54.804261Z",
     "iopub.status.idle": "2023-06-24T19:26:54.868369Z",
     "shell.execute_reply": "2023-06-24T19:26:54.867380Z"
    },
    "papermill": {
     "duration": 0.07732,
     "end_time": "2023-06-24T19:26:54.871246",
     "exception": false,
     "start_time": "2023-06-24T19:26:54.793926",
     "status": "completed"
    },
    "tags": []
   },
   "outputs": [
    {
     "data": {
      "text/plain": [
       "0"
      ]
     },
     "execution_count": 8,
     "metadata": {},
     "output_type": "execute_result"
    }
   ],
   "source": [
    "anime.duplicated().sum()"
   ]
  },
  {
   "cell_type": "markdown",
   "id": "66416aa2",
   "metadata": {
    "papermill": {
     "duration": 0.006154,
     "end_time": "2023-06-24T19:26:54.884961",
     "exception": false,
     "start_time": "2023-06-24T19:26:54.878807",
     "status": "completed"
    },
    "tags": []
   },
   "source": [
    "First we are going to check which columns are categorical and then print their value counts"
   ]
  },
  {
   "cell_type": "code",
   "execution_count": 9,
   "id": "0f32753e",
   "metadata": {
    "execution": {
     "iopub.execute_input": "2023-06-24T19:26:54.901981Z",
     "iopub.status.busy": "2023-06-24T19:26:54.901484Z",
     "iopub.status.idle": "2023-06-24T19:26:54.913855Z",
     "shell.execute_reply": "2023-06-24T19:26:54.912275Z"
    },
    "papermill": {
     "duration": 0.024731,
     "end_time": "2023-06-24T19:26:54.917356",
     "exception": false,
     "start_time": "2023-06-24T19:26:54.892625",
     "status": "completed"
    },
    "tags": []
   },
   "outputs": [
    {
     "data": {
      "text/plain": [
       "TV         4650\n",
       "OVA        3364\n",
       "Movie      2636\n",
       "Special    1991\n",
       "ONA        1531\n",
       "Music       744\n",
       "Unknown      36\n",
       "Name: Type, dtype: int64"
      ]
     },
     "execution_count": 9,
     "metadata": {},
     "output_type": "execute_result"
    }
   ],
   "source": [
    "anime['Type'].value_counts()"
   ]
  },
  {
   "cell_type": "code",
   "execution_count": 10,
   "id": "f638dd9b",
   "metadata": {
    "execution": {
     "iopub.execute_input": "2023-06-24T19:26:54.934519Z",
     "iopub.status.busy": "2023-06-24T19:26:54.934112Z",
     "iopub.status.idle": "2023-06-24T19:26:54.948759Z",
     "shell.execute_reply": "2023-06-24T19:26:54.947416Z"
    },
    "papermill": {
     "duration": 0.026577,
     "end_time": "2023-06-24T19:26:54.951968",
     "exception": false,
     "start_time": "2023-06-24T19:26:54.925391",
     "status": "completed"
    },
    "tags": []
   },
   "outputs": [
    {
     "data": {
      "text/plain": [
       "Unknown                        4912\n",
       "Toei Animation                  695\n",
       "Sunrise                         477\n",
       "J.C.Staff                       356\n",
       "Madhouse                        323\n",
       "                               ... \n",
       "Tokyo Media Connections           1\n",
       "Studio Unicorn                    1\n",
       "Public & Basic, Ripple Film       1\n",
       "Primastea                         1\n",
       "Studio Kafka                      1\n",
       "Name: Studios, Length: 1048, dtype: int64"
      ]
     },
     "execution_count": 10,
     "metadata": {},
     "output_type": "execute_result"
    }
   ],
   "source": [
    "anime['Studios'].value_counts()"
   ]
  },
  {
   "cell_type": "code",
   "execution_count": 11,
   "id": "6d91bec5",
   "metadata": {
    "execution": {
     "iopub.execute_input": "2023-06-24T19:26:54.970087Z",
     "iopub.status.busy": "2023-06-24T19:26:54.969650Z",
     "iopub.status.idle": "2023-06-24T19:26:54.980294Z",
     "shell.execute_reply": "2023-06-24T19:26:54.978900Z"
    },
    "papermill": {
     "duration": 0.023058,
     "end_time": "2023-06-24T19:26:54.983130",
     "exception": false,
     "start_time": "2023-06-24T19:26:54.960072",
     "status": "completed"
    },
    "tags": []
   },
   "outputs": [
    {
     "data": {
      "text/plain": [
       "Manga            3764\n",
       "Original         3720\n",
       "Unknown          2974\n",
       "Visual novel      988\n",
       "Game              829\n",
       "Light novel       768\n",
       "Novel             485\n",
       "Other             444\n",
       "4-koma manga      277\n",
       "Web manga         237\n",
       "Music             215\n",
       "Book               87\n",
       "Picture book       76\n",
       "Card game          64\n",
       "Digital manga      15\n",
       "Radio               9\n",
       "Name: Source, dtype: int64"
      ]
     },
     "execution_count": 11,
     "metadata": {},
     "output_type": "execute_result"
    }
   ],
   "source": [
    "anime['Source'].value_counts()"
   ]
  },
  {
   "cell_type": "code",
   "execution_count": 12,
   "id": "0b5ae9f8",
   "metadata": {
    "execution": {
     "iopub.execute_input": "2023-06-24T19:26:55.000354Z",
     "iopub.status.busy": "2023-06-24T19:26:54.999947Z",
     "iopub.status.idle": "2023-06-24T19:26:55.008509Z",
     "shell.execute_reply": "2023-06-24T19:26:55.007846Z"
    },
    "papermill": {
     "duration": 0.019328,
     "end_time": "2023-06-24T19:26:55.010687",
     "exception": false,
     "start_time": "2023-06-24T19:26:54.991359",
     "status": "completed"
    },
    "tags": []
   },
   "outputs": [
    {
     "data": {
      "text/plain": [
       "24 min. per ep.          1706\n",
       "23 min. per ep.          1057\n",
       "25 min. per ep.           818\n",
       "30 min. per ep.           730\n",
       "Unknown                   460\n",
       "                         ... \n",
       "14 sec.                     1\n",
       "1 hr. 38 min. per ep.       1\n",
       "36 sec.                     1\n",
       "57 sec.                     1\n",
       "55 sec. per ep.             1\n",
       "Name: Duration, Length: 301, dtype: int64"
      ]
     },
     "execution_count": 12,
     "metadata": {},
     "output_type": "execute_result"
    }
   ],
   "source": [
    "anime['Duration'].value_counts()"
   ]
  },
  {
   "cell_type": "code",
   "execution_count": 13,
   "id": "df586368",
   "metadata": {
    "execution": {
     "iopub.execute_input": "2023-06-24T19:26:55.029200Z",
     "iopub.status.busy": "2023-06-24T19:26:55.028729Z",
     "iopub.status.idle": "2023-06-24T19:26:55.038568Z",
     "shell.execute_reply": "2023-06-24T19:26:55.036938Z"
    },
    "papermill": {
     "duration": 0.021897,
     "end_time": "2023-06-24T19:26:55.040941",
     "exception": false,
     "start_time": "2023-06-24T19:26:55.019044",
     "status": "completed"
    },
    "tags": []
   },
   "outputs": [
    {
     "data": {
      "text/plain": [
       "PG-13 - Teens 13 or older         5975\n",
       "G - All Ages                      3770\n",
       "Rx - Hentai                       1342\n",
       "PG - Children                     1192\n",
       "R - 17+ (violence & profanity)    1150\n",
       "R+ - Mild Nudity                   970\n",
       "Unknown                            553\n",
       "Name: Rating, dtype: int64"
      ]
     },
     "execution_count": 13,
     "metadata": {},
     "output_type": "execute_result"
    }
   ],
   "source": [
    "anime['Rating'].value_counts()"
   ]
  },
  {
   "cell_type": "code",
   "execution_count": 14,
   "id": "59d81780",
   "metadata": {
    "execution": {
     "iopub.execute_input": "2023-06-24T19:26:55.059451Z",
     "iopub.status.busy": "2023-06-24T19:26:55.058993Z",
     "iopub.status.idle": "2023-06-24T19:26:55.071079Z",
     "shell.execute_reply": "2023-06-24T19:26:55.069711Z"
    },
    "papermill": {
     "duration": 0.024192,
     "end_time": "2023-06-24T19:26:55.073368",
     "exception": false,
     "start_time": "2023-06-24T19:26:55.049176",
     "status": "completed"
    },
    "tags": []
   },
   "outputs": [
    {
     "data": {
      "text/plain": [
       "Hentai                                    967\n",
       "Comedy                                    557\n",
       "Music                                     526\n",
       "Slice of Life                             161\n",
       "Dementia                                  155\n",
       "                                         ... \n",
       "Fantasy, Comedy, Shoujo                     1\n",
       "Action, Mecha, Demons, Sci-Fi, Shounen      1\n",
       "Mystery, Slice of Life, Supernatural        1\n",
       "Action, Comedy, School, Sci-Fi              1\n",
       "Adventure, Mystery, Supernatural            1\n",
       "Name: Genres, Length: 4839, dtype: int64"
      ]
     },
     "execution_count": 14,
     "metadata": {},
     "output_type": "execute_result"
    }
   ],
   "source": [
    "anime['Genres'].value_counts()"
   ]
  },
  {
   "cell_type": "code",
   "execution_count": 15,
   "id": "b33eff83",
   "metadata": {
    "execution": {
     "iopub.execute_input": "2023-06-24T19:26:55.090534Z",
     "iopub.status.busy": "2023-06-24T19:26:55.090153Z",
     "iopub.status.idle": "2023-06-24T19:26:55.103674Z",
     "shell.execute_reply": "2023-06-24T19:26:55.102707Z"
    },
    "papermill": {
     "duration": 0.025047,
     "end_time": "2023-06-24T19:26:55.105897",
     "exception": false,
     "start_time": "2023-06-24T19:26:55.080850",
     "status": "completed"
    },
    "tags": []
   },
   "outputs": [
    {
     "data": {
      "text/plain": [
       "Unknown                                        11007\n",
       "Funimation                                       883\n",
       "Sentai Filmworks                                 652\n",
       "Media Blasters                                   206\n",
       "Discotek Media                                   194\n",
       "                                               ...  \n",
       "Bandai                                             1\n",
       "Nozomi Entertainment, Kadokawa Pictures USA        1\n",
       "Sentai Filmworks, Crunchyroll                      1\n",
       "ADV Films, Funimation, OLM Digital                 1\n",
       "iQIYI                                              1\n",
       "Name: Licensors, Length: 231, dtype: int64"
      ]
     },
     "execution_count": 15,
     "metadata": {},
     "output_type": "execute_result"
    }
   ],
   "source": [
    "anime['Licensors'].value_counts()"
   ]
  },
  {
   "cell_type": "code",
   "execution_count": 16,
   "id": "947375a8",
   "metadata": {
    "execution": {
     "iopub.execute_input": "2023-06-24T19:26:55.124630Z",
     "iopub.status.busy": "2023-06-24T19:26:55.124185Z",
     "iopub.status.idle": "2023-06-24T19:26:55.137994Z",
     "shell.execute_reply": "2023-06-24T19:26:55.136551Z"
    },
    "papermill": {
     "duration": 0.026865,
     "end_time": "2023-06-24T19:26:55.141114",
     "exception": false,
     "start_time": "2023-06-24T19:26:55.114249",
     "status": "completed"
    },
    "tags": []
   },
   "outputs": [
    {
     "data": {
      "text/plain": [
       "Unknown                                                                                        6152\n",
       "NHK                                                                                             201\n",
       "Pink Pineapple                                                                                  183\n",
       "Sanrio                                                                                          125\n",
       "Bandai Visual                                                                                   117\n",
       "                                                                                               ... \n",
       "Lantis, Kadokawa Shoten, Movic, Rakuonsha, Kadokawa Pictures Japan, KlockWorx, Animation Do       1\n",
       "NHK, The Answer Studio, WAO World                                                                 1\n",
       "Shochiku, NHK, Kodansha, Movic, Nippon Shuppan Hanbai (Nippan) K.K.                               1\n",
       "BIGLOBE, RAY                                                                                      1\n",
       "Bushiroad, Bit grooove promotion                                                                  1\n",
       "Name: Producers, Length: 3714, dtype: int64"
      ]
     },
     "execution_count": 16,
     "metadata": {},
     "output_type": "execute_result"
    }
   ],
   "source": [
    "anime['Producers'].value_counts()"
   ]
  },
  {
   "cell_type": "code",
   "execution_count": 17,
   "id": "02736637",
   "metadata": {
    "execution": {
     "iopub.execute_input": "2023-06-24T19:26:55.159452Z",
     "iopub.status.busy": "2023-06-24T19:26:55.159054Z",
     "iopub.status.idle": "2023-06-24T19:26:55.163814Z",
     "shell.execute_reply": "2023-06-24T19:26:55.162449Z"
    },
    "papermill": {
     "duration": 0.016749,
     "end_time": "2023-06-24T19:26:55.166661",
     "exception": false,
     "start_time": "2023-06-24T19:26:55.149912",
     "status": "completed"
    },
    "tags": []
   },
   "outputs": [],
   "source": [
    "# user = pd.read_csv('/kaggle/input/myanimelist-dataset/final_animedataset.csv')\n",
    "# user.head()"
   ]
  },
  {
   "cell_type": "markdown",
   "id": "67a15024",
   "metadata": {
    "papermill": {
     "duration": 0.007794,
     "end_time": "2023-06-24T19:26:55.182915",
     "exception": false,
     "start_time": "2023-06-24T19:26:55.175121",
     "status": "completed"
    },
    "tags": []
   },
   "source": [
    "# Rating Dataset"
   ]
  },
  {
   "cell_type": "code",
   "execution_count": 18,
   "id": "d2eac5eb",
   "metadata": {
    "execution": {
     "iopub.execute_input": "2023-06-24T19:26:55.202911Z",
     "iopub.status.busy": "2023-06-24T19:26:55.201651Z",
     "iopub.status.idle": "2023-06-24T19:27:30.879181Z",
     "shell.execute_reply": "2023-06-24T19:27:30.877933Z"
    },
    "papermill": {
     "duration": 35.697957,
     "end_time": "2023-06-24T19:27:30.889160",
     "exception": false,
     "start_time": "2023-06-24T19:26:55.191203",
     "status": "completed"
    },
    "tags": []
   },
   "outputs": [
    {
     "data": {
      "text/html": [
       "<div>\n",
       "<style scoped>\n",
       "    .dataframe tbody tr th:only-of-type {\n",
       "        vertical-align: middle;\n",
       "    }\n",
       "\n",
       "    .dataframe tbody tr th {\n",
       "        vertical-align: top;\n",
       "    }\n",
       "\n",
       "    .dataframe thead th {\n",
       "        text-align: right;\n",
       "    }\n",
       "</style>\n",
       "<table border=\"1\" class=\"dataframe\">\n",
       "  <thead>\n",
       "    <tr style=\"text-align: right;\">\n",
       "      <th></th>\n",
       "      <th>user_id</th>\n",
       "      <th>anime_id</th>\n",
       "      <th>rating</th>\n",
       "    </tr>\n",
       "  </thead>\n",
       "  <tbody>\n",
       "    <tr>\n",
       "      <th>0</th>\n",
       "      <td>0</td>\n",
       "      <td>67</td>\n",
       "      <td>9</td>\n",
       "    </tr>\n",
       "    <tr>\n",
       "      <th>1</th>\n",
       "      <td>0</td>\n",
       "      <td>6702</td>\n",
       "      <td>7</td>\n",
       "    </tr>\n",
       "    <tr>\n",
       "      <th>2</th>\n",
       "      <td>0</td>\n",
       "      <td>242</td>\n",
       "      <td>10</td>\n",
       "    </tr>\n",
       "    <tr>\n",
       "      <th>3</th>\n",
       "      <td>0</td>\n",
       "      <td>4898</td>\n",
       "      <td>0</td>\n",
       "    </tr>\n",
       "    <tr>\n",
       "      <th>4</th>\n",
       "      <td>0</td>\n",
       "      <td>21</td>\n",
       "      <td>10</td>\n",
       "    </tr>\n",
       "  </tbody>\n",
       "</table>\n",
       "</div>"
      ],
      "text/plain": [
       "   user_id  anime_id  rating\n",
       "0        0        67       9\n",
       "1        0      6702       7\n",
       "2        0       242      10\n",
       "3        0      4898       0\n",
       "4        0        21      10"
      ]
     },
     "execution_count": 18,
     "metadata": {},
     "output_type": "execute_result"
    }
   ],
   "source": [
    "rating = pd.read_csv('/kaggle/input/myanimelist-dataset/user-filtered.csv')\n",
    "rating.head()"
   ]
  },
  {
   "cell_type": "code",
   "execution_count": 19,
   "id": "8e24b5eb",
   "metadata": {
    "execution": {
     "iopub.execute_input": "2023-06-24T19:27:30.914478Z",
     "iopub.status.busy": "2023-06-24T19:27:30.913166Z",
     "iopub.status.idle": "2023-06-24T19:27:30.920852Z",
     "shell.execute_reply": "2023-06-24T19:27:30.919910Z"
    },
    "papermill": {
     "duration": 0.022203,
     "end_time": "2023-06-24T19:27:30.922810",
     "exception": false,
     "start_time": "2023-06-24T19:27:30.900607",
     "status": "completed"
    },
    "tags": []
   },
   "outputs": [
    {
     "data": {
      "text/plain": [
       "(109224747, 3)"
      ]
     },
     "execution_count": 19,
     "metadata": {},
     "output_type": "execute_result"
    }
   ],
   "source": [
    "rating.shape"
   ]
  }
 ],
 "metadata": {
  "kernelspec": {
   "display_name": "Python 3",
   "language": "python",
   "name": "python3"
  },
  "language_info": {
   "codemirror_mode": {
    "name": "ipython",
    "version": 3
   },
   "file_extension": ".py",
   "mimetype": "text/x-python",
   "name": "python",
   "nbconvert_exporter": "python",
   "pygments_lexer": "ipython3",
   "version": "3.10.10"
  },
  "papermill": {
   "default_parameters": {},
   "duration": 50.648059,
   "end_time": "2023-06-24T19:27:31.959202",
   "environment_variables": {},
   "exception": null,
   "input_path": "__notebook__.ipynb",
   "output_path": "__notebook__.ipynb",
   "parameters": {},
   "start_time": "2023-06-24T19:26:41.311143",
   "version": "2.4.0"
  }
 },
 "nbformat": 4,
 "nbformat_minor": 5
}
