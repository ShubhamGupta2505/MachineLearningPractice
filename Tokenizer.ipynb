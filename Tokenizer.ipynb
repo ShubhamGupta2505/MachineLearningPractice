{
  "nbformat": 4,
  "nbformat_minor": 0,
  "metadata": {
    "colab": {
      "provenance": [],
      "authorship_tag": "ABX9TyPIc0+tPdXpMJSBHEYvcAvO"
    },
    "kernelspec": {
      "name": "python3",
      "display_name": "Python 3"
    },
    "language_info": {
      "name": "python"
    }
  },
  "cells": [
    {
      "cell_type": "code",
      "execution_count": null,
      "metadata": {
        "id": "TW6zUVpOm9lP"
      },
      "outputs": [],
      "source": [
        "from tensorflow.keras.preprocessing.text import Tokenizer"
      ]
    },
    {
      "cell_type": "code",
      "source": [
        "sentences = [\n",
        "    'My favourite food is Ice cream',\n",
        "    'do you like ice cream too?'\n",
        "]\n"
      ],
      "metadata": {
        "id": "iKMuPwAenHLS"
      },
      "execution_count": null,
      "outputs": []
    },
    {
      "cell_type": "code",
      "source": [
        "sentences1 = [\n",
        "    'my dogs like to chase squirrels',\n",
        "    'my squirrels like to chase dogs'\n",
        "]"
      ],
      "metadata": {
        "id": "XxFElIQInb6D"
      },
      "execution_count": null,
      "outputs": []
    },
    {
      "cell_type": "code",
      "source": [
        "tokenizer = Tokenizer(num_words=10)\n",
        "tokenizer.fit_on_texts(sentences)"
      ],
      "metadata": {
        "id": "9aeh5U3inWBe"
      },
      "execution_count": null,
      "outputs": []
    },
    {
      "cell_type": "markdown",
      "source": [
        "\n",
        "\n",
        "```\n",
        "# This"
      ],
      "metadata": {
        "id": "f9MrMp0Lnj4p"
      }
    },
    {
      "cell_type": "code",
      "source": [
        "word_index = tokenizer.word_index\n",
        "print(word_index)"
      ],
      "metadata": {
        "colab": {
          "base_uri": "https://localhost:8080/"
        },
        "id": "5RC0oyj_oiIo",
        "outputId": "237b129b-1a14-4fac-d9cb-ffe5f2b76a4f"
      },
      "execution_count": null,
      "outputs": [
        {
          "output_type": "stream",
          "name": "stdout",
          "text": [
            "{'ice': 1, 'cream': 2, 'my': 3, 'favourite': 4, 'food': 5, 'is': 6, 'do': 7, 'you': 8, 'like': 9, 'too': 10}\n"
          ]
        }
      ]
    },
    {
      "cell_type": "code",
      "source": [
        "sequences = tokenizer.texts_to_sequences(sentences)\n",
        "print(sequences)"
      ],
      "metadata": {
        "colab": {
          "base_uri": "https://localhost:8080/"
        },
        "id": "X1hC6RbSokZG",
        "outputId": "fb13db07-5096-4e17-91b2-11da519e5f24"
      },
      "execution_count": null,
      "outputs": [
        {
          "output_type": "stream",
          "name": "stdout",
          "text": [
            "[[3, 4, 5, 6, 1, 2], [7, 8, 9, 1, 2]]\n"
          ]
        }
      ]
    },
    {
      "cell_type": "code",
      "source": [
        "tokenizer.fit_on_texts(sentences1)\n",
        "sequences1 = tokenizer.texts_to_sequences(sentences1)\n",
        "word1 = tokenizer.word_index\n",
        "print(word1)\n",
        "print(sequences1)"
      ],
      "metadata": {
        "colab": {
          "base_uri": "https://localhost:8080/"
        },
        "id": "lOUzw3vjpGkr",
        "outputId": "e729cd73-9f61-480e-c24a-15b002302ec5"
      },
      "execution_count": null,
      "outputs": [
        {
          "output_type": "stream",
          "name": "stdout",
          "text": [
            "{'my': 1, 'like': 2, 'dogs': 3, 'to': 4, 'chase': 5, 'squirrels': 6, 'ice': 7, 'cream': 8, 'favourite': 9, 'food': 10, 'is': 11, 'do': 12, 'you': 13, 'too': 14}\n",
            "[[1, 3, 2, 4, 5, 6], [1, 6, 2, 4, 5, 3]]\n"
          ]
        }
      ]
    },
    {
      "cell_type": "code",
      "source": [
        "tokenizer1 = Tokenizer(num_words=20,oov_token=\"<OOV>\")\n",
        "tokenizer1.fit_on_texts(sentences)\n",
        "word2 = tokenizer1.word_index\n",
        "print(word2)"
      ],
      "metadata": {
        "colab": {
          "base_uri": "https://localhost:8080/"
        },
        "id": "3LP4YycCn9Mb",
        "outputId": "ae6c49ff-e5d9-49d9-daea-af0cb9404d34"
      },
      "execution_count": null,
      "outputs": [
        {
          "output_type": "stream",
          "name": "stdout",
          "text": [
            "{'<OOV>': 1, 'ice': 2, 'cream': 3, 'my': 4, 'favourite': 5, 'food': 6, 'is': 7, 'do': 8, 'you': 9, 'like': 10, 'too': 11}\n"
          ]
        }
      ]
    },
    {
      "cell_type": "code",
      "source": [],
      "metadata": {
        "id": "VEFG9pdLozAt"
      },
      "execution_count": null,
      "outputs": []
    }
  ]
}